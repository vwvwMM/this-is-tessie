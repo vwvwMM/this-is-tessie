{
 "cells": [
  {
   "cell_type": "markdown",
   "metadata": {},
   "source": [
    "# Revocation - Bob\n",
    "\n",
    "## Role: Credential Holder\n",
    "\n",
    "There will be two parts to this notebook:\n",
    "\n",
    "- Part 1: Alice issues a revocable credential to [Bob](http://localhost:8889/lab/tree/5%20Advanced%20Concepts/Part%202%20-%20Revocation.ipynb). Bob will store this credential and present proof of it back to Alice while it is not revoked, and Alice will verify the presentation.\n",
    "- Part 2: Alice then revokes the credential issued to Bob in Part 1 and requests another proof from Bob. This second presentation from Bob will fail to verify.\n",
    "\n",
    "For details on how revocation works on Hyperledger Indy, you can read more [here](https://github.com/hyperledger/indy-hipe/tree/master/text/0011-cred-revocation)."
   ]
  },
  {
   "cell_type": "markdown",
   "metadata": {},
   "source": [
    "# Part 1 - Issuing & Proving Non-Revoked Credential\n",
    "\n",
    "## Complete steps 1-6 in [Alice's revocation notebook](http://localhost:8888/lab/tree/5%20Advanced%20Concepts/Part%202%20-%20Revocation.ipynb)"
   ]
  },
  {
   "cell_type": "markdown",
   "metadata": {},
   "source": [
    "## 7. Initialise Bob's controller"
   ]
  },
  {
   "cell_type": "code",
   "execution_count": 1,
   "metadata": {},
   "outputs": [
    {
     "name": "stdout",
     "output_type": "stream",
     "text": [
      "IPython autoawait is `on`, and set to use `asyncio`\n"
     ]
    }
   ],
   "source": [
    "%autoawait\n",
    "import time\n",
    "import asyncio\n",
    "\n",
    "from aries_basic_controller.aries_controller import AriesAgentController\n",
    "    \n",
    "WEBHOOK_HOST = \"0.0.0.0\"\n",
    "WEBHOOK_PORT = 8052\n",
    "WEBHOOK_BASE = \"\"\n",
    "ADMIN_URL = \"http://bob-agent:8051\"\n",
    "API_KEY = \"bob_api_123456789\"\n",
    "\n",
    "agent_controller = AriesAgentController(admin_url=ADMIN_URL, api_key = API_KEY)"
   ]
  },
  {
   "cell_type": "code",
   "execution_count": 2,
   "metadata": {},
   "outputs": [],
   "source": [
    "agent_controller.init_webhook_server(webhook_host=WEBHOOK_HOST,\n",
    "                                     webhook_port=WEBHOOK_PORT,\n",
    "                                     webhook_base=WEBHOOK_BASE)"
   ]
  },
  {
   "cell_type": "markdown",
   "metadata": {},
   "source": [
    "## 8. Register listeners\n",
    "\n",
    "The handler should get called every time the controller receives a webhook with the topic `issue_credential` and `present_proof`, printing out the payload. The agent calls to this webhook every time it receives protocol messages for these topics from a credential."
   ]
  },
  {
   "cell_type": "code",
   "execution_count": 3,
   "metadata": {},
   "outputs": [
    {
     "data": {
      "text/plain": [
       "<Task pending name='Task-4' coro=<AriesAgentController.listen_webhooks() running at /aries_basic_controller/aries_controller.py:61>>"
      ]
     },
     "execution_count": 3,
     "metadata": {},
     "output_type": "execute_result"
    },
    {
     "name": "stderr",
     "output_type": "stream",
     "text": [
      "Listening webhooks failed! OSError(98, \"error while attempting to bind on address ('0.0.0.0', 8052): address already in use\") occurred.\n"
     ]
    }
   ],
   "source": [
    "loop = asyncio.get_event_loop()\n",
    "loop.create_task(agent_controller.listen_webhooks())"
   ]
  },
  {
   "cell_type": "code",
   "execution_count": 4,
   "metadata": {},
   "outputs": [
    {
     "name": "stdout",
     "output_type": "stream",
     "text": [
      "Subscribing too: issue_credential\n",
      "Subscribing too: present_proof\n"
     ]
    }
   ],
   "source": [
    "def cred_handler(payload):\n",
    "    print(\"Handle Credentials\")\n",
    "    global connection_id\n",
    "    connection_id = payload['connection_id']\n",
    "    exchange_id = payload['credential_exchange_id']\n",
    "    state = payload['state']\n",
    "    role = payload['role']\n",
    "    attributes = payload['credential_proposal_dict']['credential_proposal']['attributes']\n",
    "    print(f\"Credential exchange {exchange_id}, role: {role}, state: {state}\")\n",
    "    print(f\"Offering: {attributes}\")\n",
    "    \n",
    "cred_listener = {\n",
    "    \"topic\": \"issue_credential\",\n",
    "    \"handler\": cred_handler\n",
    "}\n",
    "\n",
    "def proof_handler(payload):\n",
    "    print(\"Handle present proof\")\n",
    "    role = payload[\"role\"]\n",
    "    global pres_ex_id\n",
    "    pres_ex_id = payload[\"presentation_exchange_id\"]\n",
    "    state = payload[\"state\"]\n",
    "    print(f\"Role {role}, Exchange {pres_ex_id} in state {state}\")\n",
    "\n",
    "proof_listener = {\n",
    "    \"topic\": \"present_proof\",\n",
    "    \"handler\": proof_handler\n",
    "}\n",
    "\n",
    "agent_controller.register_listeners([cred_listener, proof_listener], defaults=True)"
   ]
  },
  {
   "cell_type": "markdown",
   "metadata": {},
   "source": [
    "## 9. Continue to [Alice's Notebook](http://localhost:8888/lab/tree/5%20Advanced%20Concepts/Part%202%20-%20Revocation.ipynb)\n",
    "\n",
    "Alice will issue Bob a revocable credential."
   ]
  },
  {
   "cell_type": "markdown",
   "metadata": {},
   "source": [
    "## 10. Check your credential records\n",
    "\n",
    "You should have one recording the credential offer from Alice. This should also have shown up as as a print statement from the handler function."
   ]
  },
  {
   "cell_type": "code",
   "execution_count": 5,
   "metadata": {},
   "outputs": [
    {
     "name": "stdout",
     "output_type": "stream",
     "text": [
      "3\n",
      "Credential exchange afe0224e-281f-480d-a78c-7b27e7d95f8b, role: holder, state: offer_received\n",
      "Being offered: [{'name': 'author', 'value': 'PQRXDxdGqQGSZ8z69p4xZP'}, {'name': 'name', 'value': 'balabababa music'}, {'name': 'time', 'value': '01-03-2023, 06:13:06'}, {'name': 'origin', 'value': 'PQRXDxdGqQGSZ8z69p4xZP'}, {'name': 'owner', 'value': 'PQRXDxdGqQGSZ8z69p4xZP'}, {'name': 'version', 'value': 'v1'}]\n"
     ]
    }
   ],
   "source": [
    "response = await agent_controller.issuer.get_records()\n",
    "results = response[\"results\"]\n",
    "print(len(results))\n",
    "if len(results) == 0:\n",
    "    print(\"You need to first send a credential from the issuer notebook (Alice)\")\n",
    "else:\n",
    "    cred_record = results[0]\n",
    "    cred_ex_id = cred_record['credential_exchange_id']\n",
    "    state = cred_record['state']\n",
    "    role = cred_record['role']\n",
    "    attributes = results[0]['credential_proposal_dict']['credential_proposal']['attributes']\n",
    "    print(f\"Credential exchange {cred_ex_id}, role: {role}, state: {state}\")\n",
    "    print(f\"Being offered: {attributes}\")"
   ]
  },
  {
   "cell_type": "markdown",
   "metadata": {},
   "source": [
    "## 11. Request credential from Alice\n",
    "\n",
    "If happy with the attributes being offered in the credential, then the holder requests the credential from the issuer to proceed with the issuance.\n",
    "\n",
    "It is only possible to request a credential from an exchange when it is in the `offer_received` state."
   ]
  },
  {
   "cell_type": "code",
   "execution_count": 6,
   "metadata": {},
   "outputs": [
    {
     "name": "stdout",
     "output_type": "stream",
     "text": [
      "Credential exchange afe0224e-281f-480d-a78c-7b27e7d95f8b, role: holder, state: request_sent\n"
     ]
    }
   ],
   "source": [
    "record = await agent_controller.issuer.send_request_for_record(cred_ex_id)\n",
    "state = record['state']\n",
    "role = record['role']\n",
    "print(f\"Credential exchange {cred_ex_id}, role: {role}, state: {state}\")"
   ]
  },
  {
   "cell_type": "markdown",
   "metadata": {},
   "source": [
    "## 12. Store the credential\n",
    "\n",
    "Once the issuer has responded to a request by sending the credential, the holder needs to store it to save the credential for later.\n",
    "\n",
    "First check that the credential record is in the `credential_received` state."
   ]
  },
  {
   "cell_type": "code",
   "execution_count": 7,
   "metadata": {},
   "outputs": [],
   "source": [
    "# This can be anything you want. You will use it later to fetch this credential from the agent storage.\n",
    "credential_id = \"My Revocable Credential\""
   ]
  },
  {
   "cell_type": "code",
   "execution_count": 8,
   "metadata": {},
   "outputs": [
    {
     "ename": "ClientResponseError",
     "evalue": "400, message='Credential exchange afe0224e-281f-480d-a78c-7b27e7d95f8b in request_sent state (must be credential_received).', url=URL('http://bob-agent:8051/issue-credential/records/afe0224e-281f-480d-a78c-7b27e7d95f8b/store')",
     "output_type": "error",
     "traceback": [
      "\u001b[0;31m---------------------------------------------------------------------------\u001b[0m",
      "\u001b[0;31mClientResponseError\u001b[0m                       Traceback (most recent call last)",
      "Cell \u001b[0;32mIn[8], line 1\u001b[0m\n\u001b[0;32m----> 1\u001b[0m response \u001b[38;5;241m=\u001b[39m \u001b[38;5;28;01mawait\u001b[39;00m agent_controller\u001b[38;5;241m.\u001b[39missuer\u001b[38;5;241m.\u001b[39mstore_credential(cred_ex_id, credential_id)\n\u001b[1;32m      2\u001b[0m state \u001b[38;5;241m=\u001b[39m response[\u001b[38;5;124m'\u001b[39m\u001b[38;5;124mstate\u001b[39m\u001b[38;5;124m'\u001b[39m]\n\u001b[1;32m      3\u001b[0m role \u001b[38;5;241m=\u001b[39m response[\u001b[38;5;124m'\u001b[39m\u001b[38;5;124mrole\u001b[39m\u001b[38;5;124m'\u001b[39m]\n",
      "File \u001b[0;32m/aries_basic_controller/controllers/issuer.py:96\u001b[0m, in \u001b[0;36mIssuerController.store_credential\u001b[0;34m(self, cred_ex_id, credential_id)\u001b[0m\n\u001b[1;32m     92\u001b[0m \u001b[38;5;28;01masync\u001b[39;00m \u001b[38;5;28;01mdef\u001b[39;00m \u001b[38;5;21mstore_credential\u001b[39m(\u001b[38;5;28mself\u001b[39m, cred_ex_id, credential_id):\n\u001b[1;32m     93\u001b[0m     body \u001b[38;5;241m=\u001b[39m {\n\u001b[1;32m     94\u001b[0m         \u001b[38;5;124m\"\u001b[39m\u001b[38;5;124mcredential_id\u001b[39m\u001b[38;5;124m\"\u001b[39m: credential_id\n\u001b[1;32m     95\u001b[0m     }\n\u001b[0;32m---> 96\u001b[0m     \u001b[38;5;28;01mreturn\u001b[39;00m \u001b[38;5;28;01mawait\u001b[39;00m \u001b[38;5;28mself\u001b[39m\u001b[38;5;241m.\u001b[39madmin_POST(\u001b[38;5;124mf\u001b[39m\u001b[38;5;124m\"\u001b[39m\u001b[38;5;132;01m{\u001b[39;00m\u001b[38;5;28mself\u001b[39m\u001b[38;5;241m.\u001b[39mbase_url\u001b[38;5;132;01m}\u001b[39;00m\u001b[38;5;124m/records/\u001b[39m\u001b[38;5;132;01m{\u001b[39;00mcred_ex_id\u001b[38;5;132;01m}\u001b[39;00m\u001b[38;5;124m/store\u001b[39m\u001b[38;5;124m\"\u001b[39m, json_data\u001b[38;5;241m=\u001b[39mbody)\n",
      "File \u001b[0;32m/aries_basic_controller/controllers/base.py:95\u001b[0m, in \u001b[0;36mBaseController.admin_POST\u001b[0;34m(self, path, json_data, text, params, data)\u001b[0m\n\u001b[1;32m     89\u001b[0m \u001b[38;5;28;01mtry\u001b[39;00m:\n\u001b[1;32m     90\u001b[0m     EVENT_LOGGER\u001b[38;5;241m.\u001b[39mdebug(\n\u001b[1;32m     91\u001b[0m         \u001b[38;5;124m\"\u001b[39m\u001b[38;5;124mController POST \u001b[39m\u001b[38;5;132;01m%s\u001b[39;00m\u001b[38;5;124m request to Agent\u001b[39m\u001b[38;5;132;01m%s\u001b[39;00m\u001b[38;5;124m\"\u001b[39m,\n\u001b[1;32m     92\u001b[0m         path,\n\u001b[1;32m     93\u001b[0m         (\u001b[38;5;124m\"\u001b[39m\u001b[38;5;124m with data: \u001b[39m\u001b[38;5;130;01m\\n\u001b[39;00m\u001b[38;5;132;01m{}\u001b[39;00m\u001b[38;5;124m\"\u001b[39m\u001b[38;5;241m.\u001b[39mformat(repr_json(json_data)) \u001b[38;5;28;01mif\u001b[39;00m json_data \u001b[38;5;28;01melse\u001b[39;00m \u001b[38;5;124m\"\u001b[39m\u001b[38;5;124m\"\u001b[39m),\n\u001b[1;32m     94\u001b[0m     )\n\u001b[0;32m---> 95\u001b[0m     response \u001b[38;5;241m=\u001b[39m \u001b[38;5;28;01mawait\u001b[39;00m \u001b[38;5;28mself\u001b[39m\u001b[38;5;241m.\u001b[39madmin_request(\u001b[38;5;124m\"\u001b[39m\u001b[38;5;124mPOST\u001b[39m\u001b[38;5;124m\"\u001b[39m, path, json_data, text, params, data)\n\u001b[1;32m     96\u001b[0m     EVENT_LOGGER\u001b[38;5;241m.\u001b[39mdebug(\n\u001b[1;32m     97\u001b[0m         \u001b[38;5;124m\"\u001b[39m\u001b[38;5;124mResponse from POST \u001b[39m\u001b[38;5;132;01m%s\u001b[39;00m\u001b[38;5;124m received: \u001b[39m\u001b[38;5;130;01m\\n\u001b[39;00m\u001b[38;5;132;01m%s\u001b[39;00m\u001b[38;5;124m\"\u001b[39m,\n\u001b[1;32m     98\u001b[0m         path,\n\u001b[1;32m     99\u001b[0m         repr_json(response),\n\u001b[1;32m    100\u001b[0m     )\n\u001b[1;32m    101\u001b[0m     \u001b[38;5;28;01mreturn\u001b[39;00m response\n",
      "File \u001b[0;32m/aries_basic_controller/controllers/base.py:63\u001b[0m, in \u001b[0;36mBaseController.admin_request\u001b[0;34m(self, method, path, json_data, text, params, data)\u001b[0m\n\u001b[1;32m     59\u001b[0m params \u001b[38;5;241m=\u001b[39m {k: v \u001b[38;5;28;01mfor\u001b[39;00m (k, v) \u001b[38;5;129;01min\u001b[39;00m (params \u001b[38;5;129;01mor\u001b[39;00m {})\u001b[38;5;241m.\u001b[39mitems() \u001b[38;5;28;01mif\u001b[39;00m v \u001b[38;5;129;01mis\u001b[39;00m \u001b[38;5;129;01mnot\u001b[39;00m \u001b[38;5;28;01mNone\u001b[39;00m}\n\u001b[1;32m     60\u001b[0m \u001b[38;5;28;01masync\u001b[39;00m \u001b[38;5;28;01mwith\u001b[39;00m \u001b[38;5;28mself\u001b[39m\u001b[38;5;241m.\u001b[39mclient_session\u001b[38;5;241m.\u001b[39mrequest(\n\u001b[1;32m     61\u001b[0m     method, \u001b[38;5;28mself\u001b[39m\u001b[38;5;241m.\u001b[39madmin_url \u001b[38;5;241m+\u001b[39m path, json\u001b[38;5;241m=\u001b[39mjson_data, params\u001b[38;5;241m=\u001b[39mparams, data\u001b[38;5;241m=\u001b[39mdata\n\u001b[1;32m     62\u001b[0m ) \u001b[38;5;28;01mas\u001b[39;00m resp:\n\u001b[0;32m---> 63\u001b[0m     \u001b[43mresp\u001b[49m\u001b[38;5;241;43m.\u001b[39;49m\u001b[43mraise_for_status\u001b[49m\u001b[43m(\u001b[49m\u001b[43m)\u001b[49m\n\u001b[1;32m     64\u001b[0m     resp_text \u001b[38;5;241m=\u001b[39m \u001b[38;5;28;01mawait\u001b[39;00m resp\u001b[38;5;241m.\u001b[39mtext()\n\u001b[1;32m     65\u001b[0m     \u001b[38;5;28;01mif\u001b[39;00m \u001b[38;5;129;01mnot\u001b[39;00m resp_text \u001b[38;5;129;01mand\u001b[39;00m \u001b[38;5;129;01mnot\u001b[39;00m text:\n",
      "File \u001b[0;32m/opt/conda/lib/python3.10/site-packages/aiohttp/client_reqrep.py:1000\u001b[0m, in \u001b[0;36mClientResponse.raise_for_status\u001b[0;34m(self)\u001b[0m\n\u001b[1;32m    998\u001b[0m \u001b[38;5;28;01massert\u001b[39;00m \u001b[38;5;28mself\u001b[39m\u001b[38;5;241m.\u001b[39mreason \u001b[38;5;129;01mis\u001b[39;00m \u001b[38;5;129;01mnot\u001b[39;00m \u001b[38;5;28;01mNone\u001b[39;00m\n\u001b[1;32m    999\u001b[0m \u001b[38;5;28mself\u001b[39m\u001b[38;5;241m.\u001b[39mrelease()\n\u001b[0;32m-> 1000\u001b[0m \u001b[38;5;28;01mraise\u001b[39;00m ClientResponseError(\n\u001b[1;32m   1001\u001b[0m     \u001b[38;5;28mself\u001b[39m\u001b[38;5;241m.\u001b[39mrequest_info,\n\u001b[1;32m   1002\u001b[0m     \u001b[38;5;28mself\u001b[39m\u001b[38;5;241m.\u001b[39mhistory,\n\u001b[1;32m   1003\u001b[0m     status\u001b[38;5;241m=\u001b[39m\u001b[38;5;28mself\u001b[39m\u001b[38;5;241m.\u001b[39mstatus,\n\u001b[1;32m   1004\u001b[0m     message\u001b[38;5;241m=\u001b[39m\u001b[38;5;28mself\u001b[39m\u001b[38;5;241m.\u001b[39mreason,\n\u001b[1;32m   1005\u001b[0m     headers\u001b[38;5;241m=\u001b[39m\u001b[38;5;28mself\u001b[39m\u001b[38;5;241m.\u001b[39mheaders,\n\u001b[1;32m   1006\u001b[0m )\n",
      "\u001b[0;31mClientResponseError\u001b[0m: 400, message='Credential exchange afe0224e-281f-480d-a78c-7b27e7d95f8b in request_sent state (must be credential_received).', url=URL('http://bob-agent:8051/issue-credential/records/afe0224e-281f-480d-a78c-7b27e7d95f8b/store')"
     ]
    },
    {
     "name": "stdout",
     "output_type": "stream",
     "text": [
      "Error during POST /issue-credential/records/afe0224e-281f-480d-a78c-7b27e7d95f8b/store: 400, message='Credential exchange afe0224e-281f-480d-a78c-7b27e7d95f8b in request_sent state (must be credential_received).', url=URL('http://bob-agent:8051/issue-credential/records/afe0224e-281f-480d-a78c-7b27e7d95f8b/store')\n"
     ]
    }
   ],
   "source": [
    "response = await agent_controller.issuer.store_credential(cred_ex_id, credential_id)\n",
    "state = response['state']\n",
    "role = response['role']\n",
    "print(f\"Credential exchange {cred_ex_id}, role: {role}, state: {state}\")"
   ]
  },
  {
   "cell_type": "markdown",
   "metadata": {},
   "source": [
    "## 13. Check revocation status of the credential\n",
    "\n",
    "It should not be revoked."
   ]
  },
  {
   "cell_type": "code",
   "execution_count": 15,
   "metadata": {},
   "outputs": [
    {
     "data": {
      "text/plain": [
       "{'revoked': False}"
      ]
     },
     "execution_count": 15,
     "metadata": {},
     "output_type": "execute_result"
    },
    {
     "name": "stdout",
     "output_type": "stream",
     "text": [
      "Handle present proof\n",
      "Role prover, Exchange 3e488ef8-4ef2-4516-8683-dcaf9e09638c in state request_received\n"
     ]
    }
   ],
   "source": [
    "response = await agent_controller.credentials.is_revoked(credential_id)\n",
    "response"
   ]
  },
  {
   "cell_type": "markdown",
   "metadata": {},
   "source": [
    "## 14. Continue in [Alice's Notebook](http://localhost:8888/lab/tree/5%20Advanced%20Concepts/Part%202%20-%20Revocation.ipynb)\n",
    "\n",
    "Send a presentation request for a non revoked credential proof.\n"
   ]
  },
  {
   "cell_type": "markdown",
   "metadata": {},
   "source": [
    "## 15. Fetch redentials for presentation\n",
    "\n",
    "Note `pres_ex_id` is set in the proofs handler.\n",
    "\n",
    "TODO: make these steps clearer."
   ]
  },
  {
   "cell_type": "code",
   "execution_count": 16,
   "metadata": {},
   "outputs": [
    {
     "data": {
      "text/plain": [
       "{'name': 'Proof of Personal Information',\n",
       " 'version': '1.0',\n",
       " 'requested_attributes': {'0_skill_uuid': {'name': 'skill',\n",
       "   'restrictions': [{'issuer_did': 'PQRXDxdGqQGSZ8z69p4xZP'}],\n",
       "   'non_revoked': {'to': 1672725743}}},\n",
       " 'requested_predicates': {},\n",
       " 'non_revoked': {'to': 1672725744},\n",
       " 'nonce': '1066805818339688484199295'}"
      ]
     },
     "execution_count": 16,
     "metadata": {},
     "output_type": "execute_result"
    }
   ],
   "source": [
    "pres_ex_id\n",
    "response = await agent_controller.proofs.get_record_by_id(pres_ex_id)\n",
    "presentation_request = response['presentation_request']\n",
    "presentation_request"
   ]
  },
  {
   "cell_type": "code",
   "execution_count": 17,
   "metadata": {},
   "outputs": [
    {
     "name": "stdout",
     "output_type": "stream",
     "text": [
      "[]\n",
      "\n",
      "Generate the proof\n",
      "{'requested_predicates': {}, 'requested_attributes': {}, 'self_attested_attributes': {'0_skill_uuid': 'South Africa'}}\n",
      "\n",
      "XXX\n",
      "\n",
      "predicates:\n",
      "{}\n",
      "\n",
      "revealed:\n",
      "{}\n",
      "\n",
      "self_attested:\n",
      "{'0_skill_uuid': 'South Africa'}\n"
     ]
    }
   ],
   "source": [
    "if state == \"request_received\":\n",
    "    print(\n",
    "    \"Received Request -> Query for credentials in the wallet that satisfy the proof request\")\n",
    "    \n",
    "if presentation_request != None:\n",
    "    # include self-attested attributes (not included in credentials)\n",
    "    credentials_by_reft = {}\n",
    "    revealed = {}\n",
    "    self_attested = {}\n",
    "    predicates = {}\n",
    "\n",
    "    # select credentials to provide for the proof\n",
    "    credentials = await agent_controller.proofs.get_presentation_credentials(pres_ex_id)\n",
    "    credentials = credentials[1:]\n",
    "    print(credentials)\n",
    "\n",
    "    if credentials:\n",
    "        for row in sorted(\n",
    "        credentials,\n",
    "        key=lambda c: dict(c[\"cred_info\"][\"attrs\"]),\n",
    "        reverse=True,\n",
    "        ):\n",
    "       \n",
    "            for referent in row[\"presentation_referents\"]:\n",
    "                if referent not in credentials_by_reft:\n",
    "                    credentials_by_reft[referent] = row\n",
    "\n",
    "    for referent in presentation_request[\"requested_attributes\"]:\n",
    "        if referent in credentials_by_reft:\n",
    "            revealed[referent] = {\n",
    "                \"cred_id\": credentials_by_reft[referent][\"cred_info\"][\n",
    "                    \"referent\"\n",
    "                ],\n",
    "                \"revealed\": True,\n",
    "            }\n",
    "\n",
    "        else:\n",
    "            self_attested[referent] = \"South Africa\"\n",
    "\n",
    "    for referent in presentation_request[\"requested_predicates\"]:\n",
    "        if referent in credentials_by_reft:\n",
    "            predicates[referent] = {\n",
    "                \"cred_id\": credentials_by_reft[referent][\"cred_info\"][\n",
    "                    \"referent\"\n",
    "                ]\n",
    "            }\n",
    "\n",
    "    print(\"\\nGenerate the proof\")\n",
    "    proof = {\n",
    "        \"requested_predicates\": predicates,\n",
    "        \"requested_attributes\": revealed,\n",
    "        \"self_attested_attributes\": self_attested,\n",
    "    }\n",
    "    print(proof)\n",
    "    print(\"\\nXXX\")\n",
    "    print(\"\\npredicates:\\n{}\".format(predicates))\n",
    "    print(\"\\nrevealed:\\n{}\".format(revealed))\n",
    "    print(\"\\nself_attested:\\n{}\".format(self_attested))\n",
    "    \n",
    "else: \n",
    "    print(\"No presenation record identifier\")"
   ]
  },
  {
   "cell_type": "markdown",
   "metadata": {},
   "source": [
    "## 16. Send presentation\n",
    "\n",
    "Bob sends the proof presentation to Alice for verification."
   ]
  },
  {
   "cell_type": "code",
   "execution_count": 18,
   "metadata": {},
   "outputs": [
    {
     "name": "stdout",
     "output_type": "stream",
     "text": [
      "{'trace': False, 'updated_at': '2023-01-03 06:03:03.776858Z', 'state': 'presentation_sent', 'thread_id': '3f0af563-1970-46a9-8d73-242857fa8d52', 'role': 'prover', 'presentation_request': {'name': 'Proof of Personal Information', 'version': '1.0', 'requested_attributes': {'0_skill_uuid': {'name': 'skill', 'restrictions': [{'issuer_did': 'PQRXDxdGqQGSZ8z69p4xZP'}], 'non_revoked': {'to': 1672725743}}}, 'requested_predicates': {}, 'non_revoked': {'to': 1672725744}, 'nonce': '1066805818339688484199295'}, 'presentation': {'proof': {'proofs': [], 'aggregated_proof': {'c_hash': '33019719870349502724054400944189328492231328428640837795624631317686168044437', 'c_list': []}}, 'requested_proof': {'revealed_attrs': {}, 'self_attested_attrs': {'0_skill_uuid': 'South Africa'}, 'unrevealed_attrs': {}, 'predicates': {}}, 'identifiers': []}, 'initiator': 'external', 'presentation_request_dict': {'@type': 'did:sov:BzCbsNYhMrjHiqZDTUASHg;spec/present-proof/1.0/request-presentation', '@id': '3f0af563-1970-46a9-8d73-242857fa8d52', 'request_presentations~attach': [{'@id': 'libindy-request-presentation-0', 'mime-type': 'application/json', 'data': {'base64': 'eyJuYW1lIjogIlByb29mIG9mIFBlcnNvbmFsIEluZm9ybWF0aW9uIiwgInZlcnNpb24iOiAiMS4wIiwgInJlcXVlc3RlZF9hdHRyaWJ1dGVzIjogeyIwX3NraWxsX3V1aWQiOiB7Im5hbWUiOiAic2tpbGwiLCAicmVzdHJpY3Rpb25zIjogW3siaXNzdWVyX2RpZCI6ICJQUVJYRHhkR3FRR1NaOHo2OXA0eFpQIn1dLCAibm9uX3Jldm9rZWQiOiB7InRvIjogMTY3MjcyNTc0M319fSwgInJlcXVlc3RlZF9wcmVkaWNhdGVzIjoge30sICJub25fcmV2b2tlZCI6IHsidG8iOiAxNjcyNzI1NzQ0fSwgIm5vbmNlIjogIjEwNjY4MDU4MTgzMzk2ODg0ODQxOTkyOTUifQ=='}}]}, 'connection_id': '5c4ef1d4-403c-4cf5-ba92-36c2dd250afe', 'created_at': '2023-01-03 06:02:24.131598Z', 'presentation_exchange_id': '3e488ef8-4ef2-4516-8683-dcaf9e09638c'}\n",
      "Handle present proof\n",
      "Role prover, Exchange 3e488ef8-4ef2-4516-8683-dcaf9e09638c in state presentation_sent\n",
      "Handle present proof\n",
      "Role prover, Exchange 3e488ef8-4ef2-4516-8683-dcaf9e09638c in state presentation_acked\n",
      "Handle Credentials\n",
      "Credential exchange 75c7d31c-9b2c-4f80-9929-13a7871f4946, role: holder, state: offer_received\n",
      "Offering: [{'name': 'name', 'value': 'Bob'}, {'name': 'skill', 'value': 'researcher'}, {'name': 'age', 'value': '21'}]\n"
     ]
    }
   ],
   "source": [
    "response = await agent_controller.proofs.send_presentation(pres_ex_id, proof)\n",
    "print(response)"
   ]
  },
  {
   "cell_type": "markdown",
   "metadata": {},
   "source": [
    "## 17. Continue in [Alice's Notebook](http://localhost:8888/lab/tree/5%20Advanced%20Concepts/Part%202%20-%20Revocation.ipynb)\n",
    "\n",
    "Alice will verify the non-revoked credential to be OK."
   ]
  },
  {
   "cell_type": "markdown",
   "metadata": {},
   "source": [
    "# Part 2 - Revoking the credential"
   ]
  },
  {
   "cell_type": "markdown",
   "metadata": {},
   "source": [
    "## 19. Check credential\n",
    "\n",
    "Bob will check his credential now to find that it is revoked."
   ]
  },
  {
   "cell_type": "code",
   "execution_count": 20,
   "metadata": {},
   "outputs": [
    {
     "data": {
      "text/plain": [
       "{'revoked': True}"
      ]
     },
     "execution_count": 20,
     "metadata": {},
     "output_type": "execute_result"
    },
    {
     "name": "stdout",
     "output_type": "stream",
     "text": [
      "Handle present proof\n",
      "Role prover, Exchange 3185a034-0ba0-42c2-bc1e-1ceebfd99305 in state request_received\n"
     ]
    }
   ],
   "source": [
    "response = await agent_controller.credentials.is_revoked(credential_id)\n",
    "response"
   ]
  },
  {
   "cell_type": "markdown",
   "metadata": {},
   "source": [
    "## 20. Continue in [Alice's Notebook](http://localhost:8888/lab/tree/5%20Advanced%20Concepts/Part%202%20-%20Revocation.ipynb)\n",
    "\n",
    "Alice will request for a credential proof once again."
   ]
  },
  {
   "cell_type": "markdown",
   "metadata": {},
   "source": [
    "## 21. Fetch credentials for presentation proof\n",
    "\n",
    "Note `pres_ex_id` is set in the proofs handler."
   ]
  },
  {
   "cell_type": "code",
   "execution_count": 21,
   "metadata": {},
   "outputs": [
    {
     "data": {
      "text/plain": [
       "{'name': 'Proof of Personal Information',\n",
       " 'version': '1.0',\n",
       " 'requested_attributes': {'0_skill_uuid': {'name': 'skill',\n",
       "   'restrictions': [{'issuer_did': 'PQRXDxdGqQGSZ8z69p4xZP'}],\n",
       "   'non_revoked': {'to': 1672627475}}},\n",
       " 'requested_predicates': {},\n",
       " 'non_revoked': {'to': 1672627476},\n",
       " 'nonce': '174512802480630886890112'}"
      ]
     },
     "execution_count": 21,
     "metadata": {},
     "output_type": "execute_result"
    }
   ],
   "source": [
    "# fetch credentials for presenting proof\n",
    "pres_ex_id\n",
    "response = await agent_controller.proofs.get_record_by_id(pres_ex_id)\n",
    "presentation_request = response['presentation_request']\n",
    "presentation_request"
   ]
  },
  {
   "cell_type": "code",
   "execution_count": 23,
   "metadata": {},
   "outputs": [
    {
     "name": "stdout",
     "output_type": "stream",
     "text": [
      "[{'cred_info': {'referent': 'My Revocable Credential', 'attrs': {'name': 'Bob', 'age': '21', 'skill': 'researcher'}, 'schema_id': 'PQRXDxdGqQGSZ8z69p4xZP:2:test_revocable_schema:0.0.1', 'cred_def_id': 'PQRXDxdGqQGSZ8z69p4xZP:3:CL:20:default', 'rev_reg_id': 'PQRXDxdGqQGSZ8z69p4xZP:4:PQRXDxdGqQGSZ8z69p4xZP:3:CL:20:default:CL_ACCUM:f0bdd25d-4fe5-4edc-858a-293a6aa2cb54', 'cred_rev_id': '1'}, 'interval': {'from': None, 'to': 1672627475}, 'presentation_referents': ['0_skill_uuid']}]\n",
      "\n",
      "Generate the proof\n",
      "{'requested_predicates': {}, 'requested_attributes': {'0_skill_uuid': {'cred_id': 'My Revocable Credential', 'revealed': True}}, 'self_attested_attributes': {}}\n",
      "\n",
      "XXX\n",
      "\n",
      "predicates:\n",
      "{}\n",
      "\n",
      "revealed:\n",
      "{'0_skill_uuid': {'cred_id': 'My Revocable Credential', 'revealed': True}}\n",
      "\n",
      "self_attested:\n",
      "{}\n"
     ]
    }
   ],
   "source": [
    "if state == \"request_received\":\n",
    "    print(\n",
    "    \"Received Request -> Query for credentials in the wallet that satisfy the proof request\")\n",
    "    \n",
    "if presentation_request != None:\n",
    "    # include self-attested attributes (not included in credentials)\n",
    "    credentials_by_reft = {}\n",
    "    revealed = {}\n",
    "    self_attested = {}\n",
    "    predicates = {}\n",
    "\n",
    "    # select credentials to provide for the proof\n",
    "    credentials = await agent_controller.proofs.get_presentation_credentials(pres_ex_id)\n",
    "    credentials = credentials[1:]\n",
    "    print(credentials)\n",
    "\n",
    "    if credentials:\n",
    "        for row in sorted(\n",
    "            credentials,\n",
    "            key=lambda c: dict(c[\"cred_info\"][\"attrs\"]),\n",
    "            reverse=True,\n",
    "        ):\n",
    "            for referent in row[\"presentation_referents\"]:\n",
    "                if referent not in credentials_by_reft:\n",
    "                    credentials_by_reft[referent] = row\n",
    "\n",
    "    for referent in presentation_request[\"requested_attributes\"]:\n",
    "        if referent in credentials_by_reft:\n",
    "            revealed[referent] = {\n",
    "                \"cred_id\": credentials_by_reft[referent][\"cred_info\"][\n",
    "                    \"referent\"\n",
    "                ],\n",
    "                \"revealed\": True,\n",
    "            }\n",
    "\n",
    "        else:\n",
    "            self_attested[referent] = \"South Africa\"\n",
    "\n",
    "    for referent in presentation_request[\"requested_predicates\"]:\n",
    "        if referent in credentials_by_reft:\n",
    "            predicates[referent] = {\n",
    "                \"cred_id\": credentials_by_reft[referent][\"cred_info\"][\n",
    "                    \"referent\"\n",
    "                ]\n",
    "            }\n",
    "\n",
    "    print(\"\\nGenerate the proof\")\n",
    "    proof = {\n",
    "        \"requested_predicates\": predicates,\n",
    "        \"requested_attributes\": revealed,\n",
    "        \"self_attested_attributes\": self_attested,\n",
    "    }\n",
    "    print(proof)\n",
    "    print(\"\\nXXX\")\n",
    "    print(\"\\npredicates:\\n{}\".format(predicates))\n",
    "    print(\"\\nrevealed:\\n{}\".format(revealed))\n",
    "    print(\"\\nself_attested:\\n{}\".format(self_attested))\n",
    "    \n",
    "else: \n",
    "    print(\"No presenation record identifier\")"
   ]
  },
  {
   "cell_type": "markdown",
   "metadata": {},
   "source": [
    "## 22. Send presentation\n",
    "\n",
    "Bob sends the proof presentation to Alice for verification."
   ]
  },
  {
   "cell_type": "code",
   "execution_count": 24,
   "metadata": {},
   "outputs": [
    {
     "name": "stdout",
     "output_type": "stream",
     "text": [
      "{'trace': False, 'thread_id': '49315c35-3a9f-4218-a647-6e71319578f1', 'role': 'prover', 'presentation_request_dict': {'@type': 'did:sov:BzCbsNYhMrjHiqZDTUASHg;spec/present-proof/1.0/request-presentation', '@id': '49315c35-3a9f-4218-a647-6e71319578f1', 'request_presentations~attach': [{'@id': 'libindy-request-presentation-0', 'mime-type': 'application/json', 'data': {'base64': 'eyJuYW1lIjogIlByb29mIG9mIFBlcnNvbmFsIEluZm9ybWF0aW9uIiwgInZlcnNpb24iOiAiMS4wIiwgInJlcXVlc3RlZF9hdHRyaWJ1dGVzIjogeyIwX3NraWxsX3V1aWQiOiB7Im5hbWUiOiAic2tpbGwiLCAicmVzdHJpY3Rpb25zIjogW3siaXNzdWVyX2RpZCI6ICJQUVJYRHhkR3FRR1NaOHo2OXA0eFpQIn1dLCAibm9uX3Jldm9rZWQiOiB7InRvIjogMTY3MjYyNzQ3NX19fSwgInJlcXVlc3RlZF9wcmVkaWNhdGVzIjoge30sICJub25fcmV2b2tlZCI6IHsidG8iOiAxNjcyNjI3NDc2fSwgIm5vbmNlIjogIjE3NDUxMjgwMjQ4MDYzMDg4Njg5MDExMiJ9'}}]}, 'connection_id': '9777a4c5-00c9-4816-acd3-3139431cee8b', 'updated_at': '2023-01-02 02:45:16.183365Z', 'initiator': 'external', 'state': 'presentation_sent', 'presentation_exchange_id': '3185a034-0ba0-42c2-bc1e-1ceebfd99305', 'created_at': '2023-01-02 02:44:36.354208Z', 'presentation_request': {'name': 'Proof of Personal Information', 'version': '1.0', 'requested_attributes': {'0_skill_uuid': {'name': 'skill', 'restrictions': [{'issuer_did': 'PQRXDxdGqQGSZ8z69p4xZP'}], 'non_revoked': {'to': 1672627475}}}, 'requested_predicates': {}, 'non_revoked': {'to': 1672627476}, 'nonce': '174512802480630886890112'}, 'presentation': {'proof': {'proofs': [{'primary_proof': {'eq_proof': {'revealed_attrs': {'skill': '24214165878429772374367858032287880675266648921286067519661391650938186682695'}, 'a_prime': '13731501460012506548814988162398382952548869280525598078607271826811744468123320365801630860534240974924939316263811689230741664309747841694227108163885775349651728236647299361527371109943946171138045314389096689283499015881680426799951751325843621948359615497542412107795188978132523748193679167550420237076392605557477302145759055331350105935757741794049358229207964704948470306366509924055686402589065253804069443527345712575717872352354937934611151108008891388521023732181060531848620615724725830198427103827547157288190720531655335762000622282737630413813961083739022399271604449601614699759226769612628131055968', 'e': '147610194064403176368750309836800763019348117099907170994363481628939304329174909059122719458271774351430125233407902255350192776736352199', 'v': '728070033724501602172872044794346400528091087238920688710737659897635585497494219673184180781612966210756760328278247445719597101622798039871965428558496676563075518978374549060232049968398932036575564170331125925509794414608125647868960275954622686113493041970878078399236766465973363155342174504390858143893063862135093437052211552647972929490648671362009911559294448129467094809312602302332560145026474948807558107685143185154980506530333921797250900417894946992017780518743024085100331347250450657829896650698228860616527609484864432575177592528196691061527787565275210324991062091627440406102923344377415454515609560954907242853369902842388007856955843346845381448000805769000958930737034385412922556906136897039587973211550138031602768958357424220000018467342677208901430404261303434055409671430381558240512542818512676416049726275850663471785241334590502405738411838197317958593854312281625780179886202809395776116', 'm': {'master_secret': '14408763911045716594968591365246964598190108246226695751022374852318649367179538677221270849090677897027393032429429463280235962480215287987150423612288484557036366750483118807737', 'name': '12707638033787353074839661474818377780927376021965931644867079686139593382077861623156280152416290700154716023092419319701441726901446940621826915752924414663737065823407251182738', 'age': '10003219270392793756426340293180124174675797420064714785356781673232158601328884147203027295788869417166505157874525109735390078557717724756023948745525569149302000310129514257722'}, 'm2': '3483323760384584216317796212746125961427159063389826403301140971616407229379565944771663357917313253907360264108583146837480434503803473531187263483331850'}, 'ge_proofs': []}, 'non_revoc_proof': {'x_list': {'rho': '1CAAEC7A9936B8B091C728878C06F57AB9A44B116490D1755924B9555E0B568C', 'r': '14D7790C5444C1D976DD52B84852051C4B2A8870E739DF1FC9CDBB34408DD25E', 'r_prime': '0C380750D49364983D5A93FF738E01D456CE0B389D29C80C8BD8DA326E0F29C0', 'r_prime_prime': '09FCA5FBFDC0A913A4454450966219021B84D977A51217F5F77F951EAB178854', 'r_prime_prime_prime': '13B5DA734D12EE04D509B21F9E79AC3C81ADA88AE958D428B301B4CD6452C291', 'o': '2028C26E3FC54ED0650D476037E0BB5F0D5BFB7F98BDC2341B1BEE2A2B9AB186', 'o_prime': '0DC27EC1CF79EF3DEDF9A1C7AF6CB5A7C54EDFEC5FD69CC1F31346ED44705C0A', 'm': '1240BAC6DD96B33905527162AF33BFEF9F955BDB4F6DE92AAF022C74DDD71635', 'm_prime': '1CA879CD16E904A219EE49F4EDB0C07288DCD3A51E93C3A9C63F367CCBA1CDEE', 't': '16E4FBC716BB8B1FB063F94D081D1B9C42B17480F21F75D27AAF31F930DCE38C', 't_prime': '12D742C11742FE9D5D6021AFA58F521E839D513F4E86DB422EB9BD15E38A78DE', 'm2': '0D79E38AB913D137FCE4FADE4C20C351117ABAF86912BA660822126FEE2CFF04', 's': '12E81DA28C2FDDC6F09A8376098A9355DACE7648B23981657485E6E3CEA2B96B', 'c': '11D128C842E25ADCC6496DD1E1B3CC647EF4DD4246205F38C23B0BD2636C0BF4'}, 'c_list': {'e': '6 4A781D8F0F1B5E702CBA9B6E0373803D7D90A78D35F3EE8E5287B0B8EA66806C 4 116CAC6E14E2A6549E7E961D2097A6FD1827B37B76F3A80CCAD472A97D656E0D 4 2C95E7D8DD939FABB08F3186A3C85EB17A26712FE02D94CC350186E174ADB66D', 'd': '6 46BF53364BB885896708F9D1E76D346BB2DCF531236E3D6685C730683A90AFE0 4 0D26779D14FBEC68C0D4F73D61F47F6788B5B3FA2D1DD3A91F2B0DDC0975B15E 4 2A4E932C2D82B2ECAEDBCDE48AC1534E3D1CCA0468BFF9BA50DB21B73A2CD886', 'a': '6 4D1EE516A2521848A5A27B0B1770A0DD098BC116DF1612C3A253AE26252B3C12 4 28A9937C362AD4D8F4CC8095D58ECA7F45C37D7B693A71544338005D451518C4 4 3360910F2D72F16BD69BA2D4654F5BA4B12E78B69F64DC72D73CF3224D629701', 'g': '6 42AAFC536E3A9292DA28648B41D8F6F3013B104A15A5BD16D53C413EF3580157 4 36D0BF0A79EE978A072900F1C5710E2D62000BE0C8E0C5F80AE851F02D46DF88 4 119D66B907A3711F86F26EFC46641F8E79476EFEC51F256FD89B6485C54286A0', 'w': '21 1292412FB870B13A8E4F054DFF20BF7EEF26DC75E2B515B7A1D765442CBFB3DAC 21 110A73CBB6EE50415B31DF2038772445C83E4C71EACBEB8D62AA30287AE2A622A 6 8D3B83354567116DCD42C5F52E699448FA4F57CABC5783706B6213E215F5710F 4 121B8C86F7CB534963EC30A3DB3EF53AE434F4BE161D201642166F7EB97F5645 6 532CC39F8A5B0D238951D9BABA295BB75A7400269C693CB3C2B6460C3278F7CD 4 3AAF9C4759F254697F48BCB39655E8401096351670A4552C7EB9E32AFCF9781C', 's': '21 125D30576F8DCB973009CC90C7AF546D56D2C6C00ED5B0866246A7C2D77C24EE1 21 11888893DE7BFA57B69B2CEEE260D1C21BB33442E96732C8825C5FCCA4950D136 6 66ECB2125D6ED517B8703B87567577AFE2577269171E2F33089E21BC7B252964 4 2448FAABC3D4D28E5388E9275A3DEC13566DCDAF69FEF0ABA1A2A426468B1221 6 6EC6CEB9918F5E4C0953222D688C83ADDC917F53EF79D159D276CF14EB0EFAD0 4 239FC9701F66FC8E39B17137D3E4B46B0DEDB87DF2DD7E792DC7217779654CE1', 'u': '21 138A12CEEFAC6EAA51FCF8BD442D3A842D69B1C633E182E7B30C50BCC7B6641D7 21 12A39425775924D57A82CE92537B46D03FA96F4F277772A4DDC8E82E4D8C8CB8F 6 7F2F60677C744ED0062C4061D8232785B24EEA494E5B5BA9C5AA338B8A891920 4 1241F8E5F28C074B0C9C4885BA1315C4C648E1AD90C051A28D94CF1693D7D17A 6 7F25AB86A08F74EC0EA1462433D8B134F018C459F780C4C1D482CF979066BFC5 4 37284F1A781BEC28C1556A4070B59CB126D8FC1B0FDC3D8BFB0667B907A5E245'}}}], 'aggregated_proof': {'c_hash': '104366960954070452974043182500066926377718495768890963674320068186425180910313', 'c_list': [[4, 16, 194, 85, 167, 204, 166, 44, 91, 12, 6, 99, 208, 113, 176, 84, 68, 199, 88, 236, 6, 236, 114, 211, 225, 235, 233, 214, 235, 67, 105, 61, 5, 31, 203, 184, 248, 93, 62, 221, 241, 114, 68, 228, 37, 205, 190, 200, 183, 15, 44, 166, 224, 20, 73, 165, 157, 97, 225, 26, 72, 58, 87, 18, 126, 0, 0, 0, 0, 0, 0, 0, 0, 0, 0, 0, 0, 0, 0, 0, 0, 0, 0, 0, 0, 0, 0, 0, 0, 0, 0, 0, 0, 0, 0, 0, 0, 0, 0, 0, 0, 0, 0, 0, 0, 0, 0, 0, 0, 0, 0, 0, 0, 0, 0, 0, 0, 0, 0, 0, 0, 0, 0, 0, 0, 0, 0, 0], [4, 36, 18, 100, 156, 92, 69, 13, 179, 71, 124, 56, 126, 44, 200, 132, 47, 46, 254, 234, 30, 20, 165, 225, 200, 210, 98, 228, 6, 145, 58, 126, 229, 19, 209, 10, 173, 217, 92, 234, 70, 213, 133, 148, 88, 25, 148, 0, 192, 111, 29, 122, 149, 96, 165, 78, 151, 136, 133, 91, 90, 6, 35, 62, 176, 0, 0, 0, 0, 0, 0, 0, 0, 0, 0, 0, 0, 0, 0, 0, 0, 0, 0, 0, 0, 0, 0, 0, 0, 0, 0, 0, 0, 0, 0, 0, 0, 0, 0, 0, 0, 0, 0, 0, 0, 0, 0, 0, 0, 0, 0, 0, 0, 0, 0, 0, 0, 0, 0, 0, 0, 0, 0, 0, 0, 0, 0, 0], [4, 34, 75, 154, 23, 128, 168, 235, 84, 107, 149, 26, 187, 26, 181, 54, 144, 127, 157, 67, 196, 6, 27, 155, 220, 28, 103, 239, 133, 30, 228, 224, 93, 0, 130, 74, 13, 18, 47, 128, 208, 78, 4, 203, 235, 10, 104, 219, 190, 137, 190, 48, 195, 1, 213, 6, 205, 31, 201, 127, 65, 23, 55, 169, 255, 0, 0, 0, 0, 0, 0, 0, 0, 0, 0, 0, 0, 0, 0, 0, 0, 0, 0, 0, 0, 0, 0, 0, 0, 0, 0, 0, 0, 0, 0, 0, 0, 0, 0, 0, 0, 0, 0, 0, 0, 0, 0, 0, 0, 0, 0, 0, 0, 0, 0, 0, 0, 0, 0, 0, 0, 0, 0, 0, 0, 0, 0, 0], [4, 29, 247, 197, 164, 107, 187, 111, 24, 136, 217, 35, 128, 76, 253, 76, 112, 238, 255, 116, 251, 142, 22, 180, 36, 166, 9, 59, 186, 27, 35, 190, 74, 5, 56, 89, 18, 181, 212, 62, 41, 153, 228, 157, 146, 252, 3, 66, 137, 65, 63, 211, 156, 168, 211, 163, 236, 197, 69, 30, 249, 232, 82, 71, 40, 0, 0, 0, 0, 0, 0, 0, 0, 0, 0, 0, 0, 0, 0, 0, 0, 0, 0, 0, 0, 0, 0, 0, 0, 0, 0, 0, 0, 0, 0, 0, 0, 0, 0, 0, 0, 0, 0, 0, 0, 0, 0, 0, 0, 0, 0, 0, 0, 0, 0, 0, 0, 0, 0, 0, 0, 0, 0, 0, 0, 0, 0, 0], [5, 197, 95, 66, 205, 148, 120, 153, 84, 0, 121, 207, 62, 166, 190, 136, 238, 211, 166, 161, 140, 157, 50, 138, 33, 213, 17, 31, 75, 30, 247, 64, 7, 4, 178, 64, 28, 89, 221, 192, 76, 127, 243, 25, 109, 158, 154, 133, 1, 149, 208, 195, 243, 231, 212, 128, 218, 225, 14, 17, 219, 164, 176, 15, 0, 230, 22, 181, 255, 41, 110, 69, 152, 175, 86, 202, 89, 46, 90, 194, 239, 124, 1, 200, 243, 30, 127, 121, 8, 117, 100, 222, 28, 95, 66, 110, 31, 141, 221, 240, 51, 139, 153, 244, 18, 24, 34, 5, 186, 61, 206, 15, 103, 175, 202, 13, 235, 138, 39, 92, 115, 144, 53, 71, 76, 186, 125, 39], [2, 142, 20, 176, 91, 28, 167, 97, 23, 196, 131, 97, 8, 187, 135, 222, 43, 38, 243, 132, 138, 66, 183, 97, 241, 219, 47, 142, 110, 165, 33, 170, 17, 15, 116, 102, 30, 54, 248, 134, 21, 19, 59, 180, 91, 224, 127, 240, 75, 181, 90, 165, 147, 106, 164, 94, 82, 144, 140, 23, 72, 77, 97, 209, 22, 23, 169, 7, 16, 100, 22, 169, 113, 229, 6, 54, 248, 193, 32, 211, 95, 209, 109, 2, 96, 173, 137, 248, 171, 49, 75, 136, 162, 154, 20, 173, 9, 247, 213, 117, 209, 183, 209, 104, 211, 245, 223, 11, 52, 251, 133, 224, 99, 189, 7, 233, 247, 1, 34, 0, 203, 182, 53, 246, 96, 230, 69, 86], [3, 140, 214, 230, 64, 196, 43, 70, 185, 178, 135, 206, 141, 179, 184, 163, 160, 171, 223, 60, 218, 116, 47, 76, 215, 161, 76, 209, 247, 66, 118, 247, 20, 56, 151, 133, 55, 139, 38, 83, 147, 140, 255, 90, 171, 116, 114, 0, 3, 27, 36, 22, 17, 146, 210, 58, 52, 57, 199, 35, 165, 198, 123, 27, 0, 68, 194, 90, 194, 240, 228, 131, 172, 189, 68, 6, 112, 147, 189, 255, 231, 190, 147, 102, 160, 95, 217, 218, 11, 64, 132, 65, 48, 228, 42, 47, 29, 88, 154, 150, 241, 50, 27, 125, 155, 101, 2, 67, 171, 146, 115, 91, 96, 128, 230, 74, 66, 107, 213, 63, 218, 104, 170, 218, 212, 231, 23, 220], [108, 198, 65, 249, 179, 73, 248, 220, 209, 239, 52, 41, 163, 28, 12, 72, 153, 3, 220, 183, 0, 205, 216, 86, 97, 81, 178, 200, 96, 11, 154, 120, 116, 31, 205, 24, 42, 217, 193, 162, 215, 75, 200, 226, 207, 10, 206, 65, 225, 163, 164, 237, 226, 228, 136, 219, 245, 179, 142, 145, 250, 240, 223, 103, 233, 228, 148, 254, 104, 142, 192, 210, 28, 104, 126, 82, 41, 164, 49, 102, 164, 41, 149, 242, 154, 137, 49, 58, 42, 217, 248, 78, 85, 219, 41, 150, 18, 84, 201, 221, 167, 189, 54, 90, 94, 40, 66, 63, 127, 0, 93, 25, 188, 46, 93, 38, 40, 174, 144, 226, 221, 216, 213, 37, 121, 65, 174, 11, 207, 55, 27, 243, 91, 5, 211, 238, 246, 65, 165, 13, 28, 41, 148, 40, 149, 241, 216, 163, 128, 52, 249, 146, 63, 1, 88, 214, 209, 41, 34, 183, 149, 53, 218, 191, 150, 42, 105, 157, 212, 39, 38, 119, 92, 65, 145, 216, 40, 138, 108, 127, 210, 204, 179, 164, 59, 76, 158, 70, 59, 155, 87, 254, 195, 140, 45, 39, 195, 144, 38, 127, 128, 65, 161, 157, 132, 217, 74, 11, 137, 64, 152, 131, 111, 171, 228, 208, 24, 70, 147, 32, 13, 248, 44, 80, 252, 104, 224, 234, 244, 21, 192, 120, 184, 181, 218, 239, 81, 140, 98, 33, 36, 229, 15, 192, 120, 56, 60, 99, 146, 195, 4, 129, 176, 16, 9, 96]]}}, 'requested_proof': {'revealed_attrs': {'0_skill_uuid': {'sub_proof_index': 0, 'raw': 'researcher', 'encoded': '24214165878429772374367858032287880675266648921286067519661391650938186682695'}}, 'self_attested_attrs': {}, 'unrevealed_attrs': {}, 'predicates': {}}, 'identifiers': [{'schema_id': 'PQRXDxdGqQGSZ8z69p4xZP:2:test_revocable_schema:0.0.1', 'cred_def_id': 'PQRXDxdGqQGSZ8z69p4xZP:3:CL:20:default', 'rev_reg_id': 'PQRXDxdGqQGSZ8z69p4xZP:4:PQRXDxdGqQGSZ8z69p4xZP:3:CL:20:default:CL_ACCUM:f0bdd25d-4fe5-4edc-858a-293a6aa2cb54', 'timestamp': 1672627444}]}}\n",
      "Handle present proof\n",
      "Role prover, Exchange 3185a034-0ba0-42c2-bc1e-1ceebfd99305 in state presentation_sent\n",
      "Handle present proof\n",
      "Role prover, Exchange 3185a034-0ba0-42c2-bc1e-1ceebfd99305 in state presentation_acked\n"
     ]
    }
   ],
   "source": [
    "response = await agent_controller.proofs.send_presentation(pres_ex_id, proof)\n",
    "print(response)"
   ]
  },
  {
   "cell_type": "markdown",
   "metadata": {},
   "source": [
    "## 23. Continue in [Alice's Notebook](http://localhost:8888/lab/tree/5%20Advanced%20Concepts/Part%202%20-%20Revocation.ipynb)\n",
    "\n",
    "Alice will verify the now revoked credential to be NOT OK."
   ]
  },
  {
   "cell_type": "markdown",
   "metadata": {},
   "source": [
    "## End of Tutorial\n",
    "\n",
    "Be sure to terminate the controller."
   ]
  },
  {
   "cell_type": "code",
   "execution_count": 6,
   "metadata": {},
   "outputs": [
    {
     "name": "stdout",
     "output_type": "stream",
     "text": [
      "None\n"
     ]
    }
   ],
   "source": [
    "response = await agent_controller.terminate()\n",
    "print(response)"
   ]
  },
  {
   "cell_type": "code",
   "execution_count": null,
   "metadata": {},
   "outputs": [],
   "source": []
  }
 ],
 "metadata": {
  "kernelspec": {
   "display_name": "Python 3 (ipykernel)",
   "language": "python",
   "name": "python3"
  },
  "language_info": {
   "codemirror_mode": {
    "name": "ipython",
    "version": 3
   },
   "file_extension": ".py",
   "mimetype": "text/x-python",
   "name": "python",
   "nbconvert_exporter": "python",
   "pygments_lexer": "ipython3",
   "version": "3.10.8"
  }
 },
 "nbformat": 4,
 "nbformat_minor": 4
}
