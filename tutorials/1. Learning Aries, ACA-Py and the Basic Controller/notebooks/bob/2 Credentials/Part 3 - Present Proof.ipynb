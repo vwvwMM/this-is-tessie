{
 "cells": [
  {
   "cell_type": "markdown",
   "metadata": {},
   "source": [
    "# Present Proof\n",
    "## Role:  Prover\n",
    "\n",
    "## This notebook works through the present proof protocol from the provers's perspective, it should be run alongside the [verifier](http://localhost:8888/lab/tree/2%20Credentials/Part%203%20-%20Present%20Proof.ipynb) notebook from Alices's perspective. \n",
    "\n",
    "## Before running through these two notebooks you should run through the Issuer/Holder flow found in these two notebooks - [issuer](http://localhost:8888/lab/tree/2%20Credentials/Part%202%20-%20Issue%20Credential.ipynb) [holder](http://localhost:8889/lab/tree/2%20Credentials/Part%202%20-%20Issue%20Credential.ipynb).\n",
    "\n",
    "If unfamiliar with the present-proof protocol it is worth reading through the [aries-rfs](https://github.com/hyperledger/aries-rfcs/tree/master/features/0037-present-proof)"
   ]
  },
  {
   "cell_type": "markdown",
   "metadata": {},
   "source": [
    "## Complete steps 1-3 in the [verifier](http://localhost:8888/lab/tree/2%20Credentials/Part%203%20-%20Present%20Proof.ipynb) notebook first."
   ]
  },
  {
   "cell_type": "markdown",
   "metadata": {},
   "source": [
    "## 4. Instatiate the controller for Bob's Agent"
   ]
  },
  {
   "cell_type": "code",
   "execution_count": 1,
   "metadata": {},
   "outputs": [
    {
     "name": "stdout",
     "output_type": "stream",
     "text": [
      "IPython autoawait is `on`, and set to use `asyncio`\n"
     ]
    }
   ],
   "source": [
    "%autoawait\n",
    "import time\n",
    "import asyncio\n",
    "\n",
    "from aries_basic_controller.aries_controller import AriesAgentController\n",
    "    \n",
    "WEBHOOK_HOST = \"0.0.0.0\"\n",
    "WEBHOOK_PORT = 8052\n",
    "WEBHOOK_BASE = \"\"\n",
    "ADMIN_URL = \"http://bob-agent:8051\"\n",
    "\n",
    "agent_controller = AriesAgentController(admin_url=ADMIN_URL)"
   ]
  },
  {
   "cell_type": "code",
   "execution_count": 2,
   "metadata": {},
   "outputs": [],
   "source": [
    "agent_controller.init_webhook_server(webhook_host=WEBHOOK_HOST,\n",
    "                                     webhook_port=WEBHOOK_PORT,\n",
    "                                     webhook_base=WEBHOOK_BASE)"
   ]
  },
  {
   "cell_type": "markdown",
   "metadata": {},
   "source": [
    "## 5. Verify that Bob has at least one credential in his wallet\n",
    "\n",
    "This uses the credential api, for more details see this [notebook](http://localhost:8889/lab/tree/2%20Credentials/Part%202%20-%20Issue%20Credential.ipynb). \n",
    "A credential with the specified credential_id is issued and saved in the issue-credential flow that can be run through  by following the [issuer](http://localhost:8888/lab/tree/2%20Credentials/Part%203%20-%20Present%20Proof.ipynb) and [holder](http://localhost:8889/lab/tree/2%20Credentials/Part%203%20-%20Present%20Proof.ipynb) notebooks. (See step 12. store the credential, in the holder notebook for the credential id)\n",
    "\n",
    "**This step will error out otherwise**"
   ]
  },
  {
   "cell_type": "code",
   "execution_count": 3,
   "metadata": {},
   "outputs": [
    {
     "name": "stdout",
     "output_type": "stream",
     "text": [
      "{'referent': 'My OM Credential', 'attrs': {'age': '21', 'skill': 'researcher', 'name': 'Bob'}, 'schema_id': 'PQRXDxdGqQGSZ8z69p4xZP:2:open_mined_contributor:0.0.2', 'cred_def_id': 'PQRXDxdGqQGSZ8z69p4xZP:3:CL:18:default', 'rev_reg_id': None, 'cred_rev_id': None}\n"
     ]
    }
   ],
   "source": [
    "credential_id = \"My OM Credential\"\n",
    "credential = await agent_controller.credentials.get_by_id(credential_id)\n",
    "print(credential)"
   ]
  },
  {
   "cell_type": "markdown",
   "metadata": {},
   "source": [
    "## 6. Register Listeners\n",
    "\n",
    "The handler should get called every time the controller receives a webhook with the topic present_proof, printing out the payload. The agent calls to this webhook every time it receives a present proof protocol message from another agent. \n",
    "\n",
    "The code for this protocol can be found [here](https://github.com/hyperledger/aries-cloudagent-python/tree/master/aries_cloudagent/protocols/issue_credential)."
   ]
  },
  {
   "cell_type": "code",
   "execution_count": 4,
   "metadata": {},
   "outputs": [
    {
     "name": "stdout",
     "output_type": "stream",
     "text": [
      "Subscribing too: present_proof\n"
     ]
    },
    {
     "name": "stderr",
     "output_type": "stream",
     "text": [
      "Listening webhooks failed! OSError(98, \"error while attempting to bind on address ('0.0.0.0', 8052): address already in use\") occurred.\n"
     ]
    }
   ],
   "source": [
    "loop = asyncio.get_event_loop()\n",
    "loop.create_task(agent_controller.listen_webhooks())\n",
    "\n",
    "def proof_handler(payload):\n",
    "    print(\"Handle present proof\")\n",
    "    role = payload[\"role\"]\n",
    "    pres_ex_id = payload[\"presentation_exchange_id\"]\n",
    "    state = payload[\"state\"]\n",
    "    print(f\"Role {role}, Exchange {pres_ex_id} in state {state}\")\n",
    "          \n",
    "proof_listener = {\n",
    "    \"topic\": \"present_proof\",\n",
    "    \"handler\": proof_handler\n",
    "}\n",
    "agent_controller.register_listeners([proof_listener], defaults=True)"
   ]
  },
  {
   "cell_type": "markdown",
   "metadata": {},
   "source": [
    "## 7. Continue in the [verifier](http://localhost:8888/lab/tree/2%20Credentials/Part%203%20-%20Present%20Proof.ipynb) notebook.\n",
    "\n",
    "This sends a proof request to Bob"
   ]
  },
  {
   "cell_type": "markdown",
   "metadata": {},
   "source": [
    "## 8. Fetch the record of the proof request\n",
    "\n",
    "### TODO refactor to use handler."
   ]
  },
  {
   "cell_type": "code",
   "execution_count": 5,
   "metadata": {},
   "outputs": [
    {
     "name": "stdout",
     "output_type": "stream",
     "text": [
      "{'results': [{'presentation_request_dict': {'@type': 'did:sov:BzCbsNYhMrjHiqZDTUASHg;spec/present-proof/1.0/request-presentation', '@id': '706e67a3-80b2-4e87-bab6-825a8677a4c6', 'request_presentations~attach': [{'@id': 'libindy-request-presentation-0', 'mime-type': 'application/json', 'data': {'base64': 'eyJuYW1lIjogIlByb29mIG9mIFBlcnNvbmFsIEluZm9ybWF0aW9uIiwgInZlcnNpb24iOiAiMS4wIiwgInJlcXVlc3RlZF9hdHRyaWJ1dGVzIjogeyIwX25hbWVfdXVpZCI6IHsibmFtZSI6ICJuYW1lIiwgInJlc3RyaWN0aW9ucyI6IFt7Imlzc3Vlcl9kaWQiOiAiUFFSWER4ZEdxUUdTWjh6NjlwNHhaUCJ9XX0sICIwX3NraWxsX3V1aWQiOiB7Im5hbWUiOiAic2tpbGwiLCAicmVzdHJpY3Rpb25zIjogW3siaXNzdWVyX2RpZCI6ICJQUVJYRHhkR3FRR1NaOHo2OXA0eFpQIn1dfSwgIjBfY291bnRyeV91dWlkIjogeyJuYW1lIjogImNvdW50cnkifX0sICJyZXF1ZXN0ZWRfcHJlZGljYXRlcyI6IHsiMF9hZ2VfR0VfdXVpZCI6IHsibmFtZSI6ICJhZ2UiLCAicF90eXBlIjogIj49IiwgInBfdmFsdWUiOiAyMSwgInJlc3RyaWN0aW9ucyI6IFt7Imlzc3Vlcl9kaWQiOiAiUFFSWER4ZEdxUUdTWjh6NjlwNHhaUCJ9XX19LCAibm9uY2UiOiAiNzQ2NjY4MjMwNjQ3MDQ3NDI1ODMzODEwIn0='}}]}, 'created_at': '2023-01-01 15:54:11.285500Z', 'trace': False, 'thread_id': '706e67a3-80b2-4e87-bab6-825a8677a4c6', 'presentation_exchange_id': '13cf4b8a-341a-4ca0-8dd2-8b5d7680ec7a', 'state': 'request_received', 'role': 'prover', 'initiator': 'external', 'presentation_request': {'name': 'Proof of Personal Information', 'version': '1.0', 'requested_attributes': {'0_name_uuid': {'name': 'name', 'restrictions': [{'issuer_did': 'PQRXDxdGqQGSZ8z69p4xZP'}]}, '0_skill_uuid': {'name': 'skill', 'restrictions': [{'issuer_did': 'PQRXDxdGqQGSZ8z69p4xZP'}]}, '0_country_uuid': {'name': 'country'}}, 'requested_predicates': {'0_age_GE_uuid': {'name': 'age', 'p_type': '>=', 'p_value': 21, 'restrictions': [{'issuer_did': 'PQRXDxdGqQGSZ8z69p4xZP'}]}}, 'nonce': '746668230647047425833810'}, 'updated_at': '2023-01-01 15:54:11.285500Z', 'connection_id': '9777a4c5-00c9-4816-acd3-3139431cee8b'}]}\n",
      "\n",
      "\n",
      "Presentation Exchange ID\n",
      "\n",
      "13cf4b8a-341a-4ca0-8dd2-8b5d7680ec7a\n",
      "Presentation Request Object\n",
      "\n",
      "{'name': 'Proof of Personal Information', 'version': '1.0', 'requested_attributes': {'0_name_uuid': {'name': 'name', 'restrictions': [{'issuer_did': 'PQRXDxdGqQGSZ8z69p4xZP'}]}, '0_skill_uuid': {'name': 'skill', 'restrictions': [{'issuer_did': 'PQRXDxdGqQGSZ8z69p4xZP'}]}, '0_country_uuid': {'name': 'country'}}, 'requested_predicates': {'0_age_GE_uuid': {'name': 'age', 'p_type': '>=', 'p_value': 21, 'restrictions': [{'issuer_did': 'PQRXDxdGqQGSZ8z69p4xZP'}]}}, 'nonce': '746668230647047425833810'}\n",
      "Requested Attributes\n",
      "\n",
      "{'0_name_uuid': {'name': 'name', 'restrictions': [{'issuer_did': 'PQRXDxdGqQGSZ8z69p4xZP'}]}, '0_skill_uuid': {'name': 'skill', 'restrictions': [{'issuer_did': 'PQRXDxdGqQGSZ8z69p4xZP'}]}, '0_country_uuid': {'name': 'country'}}\n",
      "Requested Predicates\n",
      "\n",
      "{'0_age_GE_uuid': {'name': 'age', 'p_type': '>=', 'p_value': 21, 'restrictions': [{'issuer_did': 'PQRXDxdGqQGSZ8z69p4xZP'}]}}\n"
     ]
    }
   ],
   "source": [
    "response = await agent_controller.proofs.get_records()\n",
    "print(response)\n",
    "\n",
    "print('\\n')\n",
    "\n",
    "state = response['results'][0][\"state\"]\n",
    "presentation_exchange_id = response['results'][0]['presentation_exchange_id']\n",
    "presentation_request = response['results'][0]['presentation_request']\n",
    "\n",
    "print('Presentation Exchange ID\\n')\n",
    "print(response['results'][0]['presentation_exchange_id'])\n",
    "print('Presentation Request Object\\n')\n",
    "print(response['results'][0]['presentation_request'])\n",
    "print('Requested Attributes\\n')\n",
    "print(response['results'][0]['presentation_request']['requested_attributes'])\n",
    "requested_attribs = response['results'][0]['presentation_request']['requested_attributes']\n",
    "print('Requested Predicates\\n')\n",
    "print(response['results'][0]['presentation_request']['requested_predicates'])\n",
    "requested_predicates = response['results'][0]['presentation_request']['requested_predicates']"
   ]
  },
  {
   "cell_type": "markdown",
   "metadata": {},
   "source": [
    "## 9. Fetch relevant credentials for proof presentation\n",
    "\n",
    "### TODO: Make clearer. Better documentation. Again this is way too complex. We need to think of ways to abstract away this complexity. For now breaking it down and documenting each part in markdown may be helpful."
   ]
  },
  {
   "cell_type": "code",
   "execution_count": 6,
   "metadata": {},
   "outputs": [
    {
     "name": "stdout",
     "output_type": "stream",
     "text": [
      "Received Request -> Query for credentials in the wallet that satisfy the proof request\n",
      "[{'cred_info': {'referent': 'My OM Credential', 'attrs': {'name': 'Bob', 'age': '21', 'skill': 'researcher'}, 'schema_id': 'PQRXDxdGqQGSZ8z69p4xZP:2:open_mined_contributor:0.0.2', 'cred_def_id': 'PQRXDxdGqQGSZ8z69p4xZP:3:CL:18:default', 'rev_reg_id': None, 'cred_rev_id': None}, 'interval': None, 'presentation_referents': ['0_name_uuid', '0_age_GE_uuid', '0_skill_uuid']}]\n",
      "\n",
      "Generate the proof\n",
      "{'requested_predicates': {'0_age_GE_uuid': {'cred_id': 'My OM Credential'}}, 'requested_attributes': {'0_name_uuid': {'cred_id': 'My OM Credential', 'revealed': True}, '0_skill_uuid': {'cred_id': 'My OM Credential', 'revealed': True}}, 'self_attested_attributes': {'0_country_uuid': 'South Africa'}}\n",
      "\n",
      "XXX\n",
      "{'0_age_GE_uuid': {'cred_id': 'My OM Credential'}}\n",
      "{'0_name_uuid': {'cred_id': 'My OM Credential', 'revealed': True}, '0_skill_uuid': {'cred_id': 'My OM Credential', 'revealed': True}}\n",
      "{'0_country_uuid': 'South Africa'}\n"
     ]
    }
   ],
   "source": [
    "if state == \"request_received\":\n",
    "    print(\n",
    "    \"Received Request -> Query for credentials in the wallet that satisfy the proof request\")\n",
    "\n",
    "# include self-attested attributes (not included in credentials)\n",
    "credentials_by_reft = {}\n",
    "revealed = {}\n",
    "self_attested = {}\n",
    "predicates = {}\n",
    "\n",
    "# select credentials to provide for the proof\n",
    "credentials = await agent_controller.proofs.get_presentation_credentials(presentation_exchange_id)\n",
    "print(credentials)\n",
    "\n",
    "if credentials:\n",
    "    for row in sorted(\n",
    "        credentials,\n",
    "        key=lambda c: dict(c[\"cred_info\"][\"attrs\"]),\n",
    "        reverse=True,\n",
    "    ):\n",
    "        for referent in row[\"presentation_referents\"]:\n",
    "            if referent not in credentials_by_reft:\n",
    "                credentials_by_reft[referent] = row\n",
    "\n",
    "for referent in presentation_request[\"requested_attributes\"]:\n",
    "    if referent in credentials_by_reft:\n",
    "        revealed[referent] = {\n",
    "            \"cred_id\": credentials_by_reft[referent][\"cred_info\"][\n",
    "                \"referent\"\n",
    "            ],\n",
    "            \"revealed\": True,\n",
    "        }\n",
    "    else:\n",
    "        self_attested[referent] = \"South Africa\"\n",
    "\n",
    "for referent in presentation_request[\"requested_predicates\"]:\n",
    "    if referent in credentials_by_reft:\n",
    "        predicates[referent] = {\n",
    "            \"cred_id\": credentials_by_reft[referent][\"cred_info\"][\n",
    "                \"referent\"\n",
    "            ]\n",
    "        }\n",
    "\n",
    "print(\"\\nGenerate the proof\")\n",
    "proof = {\n",
    "    \"requested_predicates\": predicates,\n",
    "    \"requested_attributes\": revealed,\n",
    "    \"self_attested_attributes\": self_attested,\n",
    "}\n",
    "print(proof)\n",
    "print(\"\\nXXX\")\n",
    "print(predicates)\n",
    "print(revealed)\n",
    "print(self_attested)"
   ]
  },
  {
   "cell_type": "markdown",
   "metadata": {},
   "source": [
    "## 10. Send Proof back to Alice"
   ]
  },
  {
   "cell_type": "code",
   "execution_count": 7,
   "metadata": {},
   "outputs": [
    {
     "name": "stdout",
     "output_type": "stream",
     "text": [
      "{'presentation_request_dict': {'@type': 'did:sov:BzCbsNYhMrjHiqZDTUASHg;spec/present-proof/1.0/request-presentation', '@id': '706e67a3-80b2-4e87-bab6-825a8677a4c6', 'request_presentations~attach': [{'@id': 'libindy-request-presentation-0', 'mime-type': 'application/json', 'data': {'base64': 'eyJuYW1lIjogIlByb29mIG9mIFBlcnNvbmFsIEluZm9ybWF0aW9uIiwgInZlcnNpb24iOiAiMS4wIiwgInJlcXVlc3RlZF9hdHRyaWJ1dGVzIjogeyIwX25hbWVfdXVpZCI6IHsibmFtZSI6ICJuYW1lIiwgInJlc3RyaWN0aW9ucyI6IFt7Imlzc3Vlcl9kaWQiOiAiUFFSWER4ZEdxUUdTWjh6NjlwNHhaUCJ9XX0sICIwX3NraWxsX3V1aWQiOiB7Im5hbWUiOiAic2tpbGwiLCAicmVzdHJpY3Rpb25zIjogW3siaXNzdWVyX2RpZCI6ICJQUVJYRHhkR3FRR1NaOHo2OXA0eFpQIn1dfSwgIjBfY291bnRyeV91dWlkIjogeyJuYW1lIjogImNvdW50cnkifX0sICJyZXF1ZXN0ZWRfcHJlZGljYXRlcyI6IHsiMF9hZ2VfR0VfdXVpZCI6IHsibmFtZSI6ICJhZ2UiLCAicF90eXBlIjogIj49IiwgInBfdmFsdWUiOiAyMSwgInJlc3RyaWN0aW9ucyI6IFt7Imlzc3Vlcl9kaWQiOiAiUFFSWER4ZEdxUUdTWjh6NjlwNHhaUCJ9XX19LCAibm9uY2UiOiAiNzQ2NjY4MjMwNjQ3MDQ3NDI1ODMzODEwIn0='}}]}, 'created_at': '2023-01-01 15:54:11.285500Z', 'trace': False, 'presentation': {'proof': {'proofs': [{'primary_proof': {'eq_proof': {'revealed_attrs': {'name': '93006290325627508022776103386395994712401809437930957652111221015872244345185', 'skill': '24214165878429772374367858032287880675266648921286067519661391650938186682695'}, 'a_prime': '84393778435494002822095394093817373622666426189398366442085603814677354740003528401063726661970069835310911245831856747379993589848582293827477590281437762816443707142729403209103835155487481773734883418670867737421446186866318562053451618536501937930003016916961176262353602820320829275567526519225244821235443716284585746282725261029269095913587587478177270381437962273722554773308847096191569134989064975784779158962587433347191315530833592335196409698186381014483725440831125670438798987581449118689200381349660809091033306926110558685272429553502769079663105325049406964486362978023673738147633207839330775564052', 'e': '66034637250302248457384931195603615563810822892157066907942981126511156461020540329845726004272231810319898681448515444719961223229419465', 'v': '798752419010268921942848290498374161933482505831514495387941064623284024593134452118015853649806803334974105849183145949637793199025273361392028953140863109938314501412936947130171299119091275129672670643038947337418147856493780156127982140854764985001347778364896148943021520776747239291083480928332325776853225971819650379502236428023596106300628735888171235468664040139467846491174947230736198089136640746054389258682792207568008026892992866608944494122628349970413851963320056706657009386487179055744703505443392671992253022588438435032442456621593843451291372163036823888558762772106803542938111836367483259685802739454933992445455257807713029437923051230555390596283869765083939547752683150845227263998967043787961861841660508903221250861961240580637748234489488748831412617181824874047423376896376454950809246725746492492759869499034894797811634894483309748196898227819525823203000973022846581126033679113142000700', 'm': {'age': '9221809368070596748738586971025418385303222378675679105855969700720005482675448728837254088914526905331108537223308598487788570126377627661312904109536955198715927284820224745792', 'master_secret': '15154135830801571110164444335216577256890760961191380767763691666571847606994095372552794815000279867247156973266244281971640951183896182616966191635944595412467750885287711063472'}, 'm2': '515310308747804173180455931273144156587767805261544235584406919510967665990498655413460766164321913759578751993942085874740094279961170352384899834264103768697307253995178542147'}, 'ge_proofs': [{'u': {'0': '15230749381863649370462205341748768058571007091767012400367799315185902478889892631009321641155846643671990964318590670265865425966996719681815017325457187384708970994160333829537', '1': '8751912613271681647626219121167095924884931485057783112894058129390182182190544570871361004463312079969428086000957411849118749360612799544074262658479206048810164350465104393177', '3': '5829226756474481335905896512950704161303396569194201334459395585406246114742093017600382150033549237966104692395225119961658553799861108826145024519225769967607441898721372603165', '2': '10914630634658967221484871342706098373798295581552662679621770138991725917076280465453001711723397564807424900174271364615798378336347225750439717050277468744574101055188791091375'}, 'r': {'DELTA': '10017494014178222411695744167565043904819497782082941500701725400514043699923709025698350948582906206080164467914721488268072265482548405589226134605282093574199939963807220130897494825181247876203524194606808483750175369912646781171049279848510091029392804037769702266057656397169828608699571966836339599798314197432438566866133004565744404426514246186587101219440655792591650827635478762010365947202097648214330642493997688153725921826371848741306999293253164584008667912410133908747841671823915928328512015503335874074582491124507443971006111661906631004714211786103748683002371101519351629674111314058114034008050921023158477191604123129367594477691729650166130032775176099827306730904060829510114429028526127374', '0': '2094383618540558166018401232877299036308770237180897548162483010484930720011450913762711100546029687559277640170815349702423526364345328777853291722624764372989436813579085833097460752677685032491661646730310650779291727895449004385063282693882083398187128866628494886411660393698064289193585148923161650546666762530481011525633872537435839710385069839863780970216634278205738086655245783453172768494701141713821280647124660010242349489400345283338347137437835040484013202745967793395884129652863623606357667885999922502169418634815534713058837533268943146147856029247339424773174788950772658462037957661974815824889744331881323249418645048392617237412516793275054267062805124683810137409850029696796636028729837230693', '3': '2060589660468401218495331601533320951832182741237629090112980358865742708267892678297965425675366376755310752449133957755136692291442101258874281665443389376155328631255879841699667132525574760015598924344191112388884996362087192482213703282670395836317471161609257775666667830309666423361020961160175550954102383698794989642808029190778928160266115646271178944611941298995129717587572823322435464880636722588152475430608008610209227656329915919143282041524010549587942800849474811876785014894479551191494792261076361769715734326644252334180456145265339264037420508169172258256011076427856952926401175222655318718694834516882366623453687914022149631875386095360304478697290853823396020987607227633875192018250734129687', '2': '1458563291633606731106956471432845392994537957441979660597997558213673138805892847654428853569590987204315583024565147254274273347616354769020771150485123333652464944131332911504281499012116153374291533055436590129333044600602242833233602322429720150005699618616977397646279009817565024492124892098652174168052165930529146367310659067904278347754728504528879435197088674174207018870277900712401630760941686746615617158164901310116483021848812258761128461171510083735520281934277171740326374601296789499550590912634254086415900167214941511349031671594878920539846144815973767616359762401304194098041678352521040494185917017586958699613352616759684313159325816160342013582237696511960759273784251529768641454288112640365', '1': '1813288864658255745674961109366135937368195746553954049426331351842771042098392708264441463739869752712642294268437220022742338596195433300370080169250773371581611996024925876566201917604481515939810060648571189588436288092820849058695187621908951262233996162461596362535924640558175558826735573096887845527271553251216982159173889684345221136552445524739252033161971743264190721977124035916279738602499176549826822705116963298272487823311538842799582311371980378990832590414285044551930636635123052370513785381901624015448978091554918896403141436277998370615228988434909245541037875203794382114818701171088896847177449131271887700234997139839155045999124884015660389959844764333600360782096479631207417254966816248556'}, 'mj': '9221809368070596748738586971025418385303222378675679105855969700720005482675448728837254088914526905331108537223308598487788570126377627661312904109536955198715927284820224745792', 'alpha': '64962199507341508472003435083261499515680972311588107479363546145266231487425297344112199089942528974788320577860713049517358980579075657219431009178392302580763686602375341139196037612545180298116033305069579612681160763492500960640336159788295799380774639411816465492999560425894867647954475892303136531426994106958088500783105439201274770902156828058487143650002068217355596436650889930656391553968754169961460176524305554881771391494857310000802098831648504673626017815111569138862734885486140662713996737699502293627989605889631981378298988588273631943583541392850682139989135742318931974759899650819893032734395175276552903331027947064277203724316621708179396850434345957563647158250541086053779775877379967839853389715470763615509682564403369203723369471770282006433253857552416944595928914961208280781323528311701848415055266708234', 't': {'2': '77358614640350847119612492108360184132429809371352555707300799782420313375939613819883021031474920221135811572539230152981810630284565149325647078845637467020867429987006340412198166982017289305426069906264904643663259673170628233355997453138897580818847583085538042481680765329705614035558980971556862155453401025874748327852958622564973197968068585083700236641976309345766948429414436671875839563925075980593754407811862371033333524962617005168056344229997229774269808272503343007759656869259166883880732878668596479499526658895591079085804469610221258881787459510783863342019353044906180211175328362017499393100910', 'DELTA': '73481979532729140968855708921608484165360769674132586416692920325591733500841945697053992665921710802173027203493704679033581483510534981770401341518348529575402740558912821217205955943051719532936793134838799762788533530676217183431862288552344206581198292007285632275737447045393150047435478691878237171851769643113991695464632463343720427756959043057473013929148190713433000692027134768022552706209084248449771216435656630554954436885886738049378051692434809915672181579006157000073648491238037106938100532763723892547549486112617123916440365162143658952550297784069235872159249066420562276691484695048123360728555', '0': '61169840199966924262044602868197895365893717557440558746888490971559035256054838039993561735686244497655092227470797187328963153433887398162337182184630586000396820808697846507696146186085721178411249573371489728856805542086862130178825515982916337261054928533450011103460462930675803973873552720288793946888891562296068830020092236820626691264781357774883386390336736286824042418537968262260205446098826405673688347296504523318163059943013136850550984807669775886624567228743633425321855625059063162467626168036328820472109042187880764043584861013063353935079955010907959268261004829519422818820748874941542127491445', '3': '74835372115737137239841268994746378299052532684176896117941181762218902474077823196872432664909097650782083271782896081453969692047280269226959480703875898221840395653508386929272843207750226475216148138999321754964580660037088684860472863222584043301200567437706267285654160634053699454292516851593304835233934308414588783530435980565688250085759001089908885729924361630733500188539578428513077882666170689897781713160721754342852015448931106475985689155212322767843111434207853251388690087892161096729740462895352840348091888843562706896626755266618604521312814181418719440576131437209469711974096411593540409212832', '1': '78651202669304177289313700164121904260582899842649397565444733347816424826071112825799993067283664415051842149941271341237669834781380619844745452089400534244087050393327116952997479949320058245569672897663079831394071693445449248380868725294461991775172998467433163922062113288733391692087835717538671710961234706928216566398989921055941490760362912499816890752858405233466003506339912990625552795331248154020120938635499905912530397801116753891186111526625919672032961282268886863178890271595993481158105335115380156787221361327948053131402450535942186774314849660005522993619245613149226677630606799762427769257225'}, 'predicate': {'attr_name': 'age', 'p_type': 'GE', 'value': 21}}]}, 'non_revoc_proof': None}], 'aggregated_proof': {'c_hash': '63225163654864734939047023960831862835675822826385902390159933068570298064550', 'c_list': [[2, 156, 135, 10, 63, 19, 6, 134, 74, 225, 123, 126, 253, 19, 150, 205, 210, 209, 115, 232, 121, 50, 148, 55, 255, 152, 145, 60, 61, 148, 31, 32, 157, 203, 52, 8, 73, 20, 229, 206, 181, 105, 151, 6, 15, 101, 28, 85, 161, 130, 99, 209, 230, 138, 163, 251, 62, 147, 67, 198, 175, 28, 89, 82, 136, 181, 118, 181, 238, 38, 39, 197, 47, 245, 144, 252, 153, 127, 109, 117, 110, 91, 207, 189, 71, 157, 11, 13, 204, 183, 195, 88, 47, 158, 228, 254, 191, 221, 89, 94, 123, 194, 66, 69, 96, 143, 28, 152, 192, 32, 98, 184, 136, 235, 73, 200, 50, 98, 165, 155, 132, 111, 151, 162, 48, 223, 8, 92, 141, 130, 191, 32, 230, 252, 129, 13, 95, 224, 244, 128, 106, 62, 207, 118, 200, 71, 15, 107, 210, 35, 95, 34, 42, 152, 224, 198, 137, 0, 88, 33, 121, 57, 176, 182, 14, 228, 160, 128, 189, 110, 81, 68, 121, 140, 47, 73, 67, 34, 139, 235, 25, 202, 255, 96, 224, 240, 100, 187, 43, 210, 22, 23, 1, 3, 144, 182, 208, 199, 81, 172, 67, 112, 144, 148, 93, 139, 92, 139, 127, 146, 38, 9, 29, 77, 211, 177, 163, 177, 74, 205, 225, 127, 89, 142, 155, 244, 71, 109, 169, 136, 159, 63, 254, 102, 10, 31, 147, 102, 29, 82, 118, 12, 35, 90, 230, 105, 104, 151, 64, 52, 194, 116, 164, 175, 95, 127, 20], [1, 228, 142, 248, 10, 99, 222, 109, 220, 142, 4, 209, 88, 92, 112, 229, 241, 125, 205, 245, 76, 92, 46, 63, 113, 90, 128, 252, 210, 195, 148, 68, 59, 176, 131, 245, 32, 231, 223, 40, 239, 103, 51, 138, 102, 28, 116, 215, 109, 0, 221, 165, 146, 48, 70, 149, 92, 204, 165, 224, 119, 65, 106, 138, 197, 7, 68, 113, 53, 205, 151, 181, 107, 122, 53, 137, 244, 230, 54, 235, 235, 116, 21, 203, 58, 27, 147, 220, 243, 111, 58, 134, 43, 140, 243, 52, 123, 88, 83, 171, 228, 125, 38, 12, 155, 194, 139, 170, 230, 162, 7, 52, 40, 90, 56, 197, 102, 41, 138, 0, 93, 137, 108, 183, 144, 37, 136, 23, 85, 116, 62, 100, 38, 67, 113, 254, 108, 214, 148, 37, 31, 126, 63, 214, 137, 77, 138, 255, 126, 92, 8, 255, 32, 215, 226, 89, 22, 110, 225, 73, 229, 123, 162, 49, 103, 104, 34, 10, 40, 15, 45, 55, 213, 56, 249, 60, 125, 154, 96, 181, 173, 129, 118, 141, 152, 187, 93, 4, 128, 69, 3, 84, 104, 220, 173, 176, 85, 27, 42, 237, 43, 5, 143, 104, 240, 164, 44, 21, 43, 250, 186, 128, 18, 204, 244, 46, 192, 208, 4, 240, 82, 62, 43, 252, 199, 99, 233, 64, 70, 132, 135, 111, 241, 144, 92, 139, 64, 29, 243, 45, 107, 184, 216, 129, 118, 156, 253, 36, 47, 47, 213, 243, 41, 60, 109, 217, 117], [2, 111, 9, 156, 15, 107, 155, 71, 44, 50, 204, 149, 64, 142, 152, 205, 140, 103, 111, 158, 243, 179, 86, 45, 40, 205, 41, 165, 235, 142, 59, 124, 5, 204, 134, 93, 254, 129, 158, 137, 157, 53, 23, 121, 186, 187, 251, 53, 136, 177, 31, 201, 105, 82, 149, 230, 175, 18, 5, 7, 163, 7, 226, 82, 191, 247, 75, 92, 10, 198, 143, 2, 89, 188, 173, 128, 27, 52, 17, 175, 80, 143, 48, 253, 226, 133, 158, 17, 182, 116, 34, 76, 226, 103, 30, 4, 68, 58, 75, 55, 2, 68, 65, 44, 170, 183, 221, 221, 120, 122, 163, 163, 83, 0, 22, 216, 210, 75, 189, 148, 186, 71, 172, 55, 88, 92, 136, 115, 192, 214, 228, 46, 220, 219, 150, 226, 164, 230, 79, 179, 189, 223, 10, 234, 245, 62, 61, 21, 45, 15, 113, 45, 77, 170, 221, 29, 77, 228, 240, 107, 190, 191, 111, 234, 205, 26, 240, 33, 66, 107, 110, 197, 194, 27, 9, 75, 190, 97, 104, 226, 233, 211, 139, 233, 65, 166, 55, 47, 247, 26, 157, 254, 229, 245, 3, 166, 195, 105, 207, 65, 106, 19, 102, 174, 74, 183, 170, 182, 185, 243, 116, 134, 222, 138, 235, 134, 165, 49, 23, 69, 193, 235, 172, 210, 214, 231, 99, 12, 251, 158, 25, 183, 236, 4, 163, 148, 44, 16, 32, 147, 94, 237, 12, 158, 158, 207, 80, 232, 119, 115, 50, 26, 49, 197, 91, 253, 9], [2, 100, 204, 91, 74, 233, 228, 178, 243, 88, 181, 146, 254, 117, 65, 34, 32, 233, 8, 94, 172, 184, 92, 106, 232, 5, 11, 174, 15, 117, 157, 199, 81, 222, 136, 16, 214, 75, 179, 172, 148, 156, 150, 193, 162, 56, 98, 44, 74, 122, 30, 80, 131, 95, 97, 236, 137, 74, 207, 166, 193, 168, 79, 165, 132, 5, 216, 109, 214, 234, 6, 133, 244, 184, 201, 187, 248, 27, 238, 141, 125, 136, 190, 96, 54, 73, 22, 245, 249, 108, 216, 219, 224, 168, 52, 224, 111, 52, 248, 31, 175, 161, 88, 130, 41, 112, 226, 98, 29, 90, 29, 255, 34, 116, 30, 163, 150, 199, 128, 73, 170, 190, 43, 59, 147, 65, 250, 37, 128, 7, 161, 103, 85, 217, 92, 237, 159, 144, 70, 140, 163, 69, 101, 224, 27, 213, 82, 247, 149, 107, 72, 154, 2, 28, 81, 56, 183, 193, 216, 250, 242, 233, 255, 140, 105, 112, 186, 107, 12, 201, 242, 93, 224, 252, 115, 241, 176, 200, 191, 231, 194, 132, 24, 139, 198, 56, 1, 227, 139, 227, 79, 49, 160, 33, 192, 57, 93, 87, 31, 2, 85, 131, 28, 243, 197, 91, 205, 14, 106, 128, 55, 231, 190, 43, 77, 106, 38, 239, 4, 14, 238, 209, 192, 86, 56, 66, 96, 145, 51, 248, 66, 242, 150, 173, 179, 54, 175, 54, 171, 187, 93, 229, 220, 222, 7, 130, 150, 56, 195, 88, 67, 117, 110, 96, 77, 12, 110], [2, 80, 207, 114, 63, 190, 219, 127, 43, 65, 190, 112, 21, 185, 148, 64, 127, 93, 15, 96, 60, 226, 222, 213, 230, 16, 114, 131, 196, 32, 230, 150, 72, 103, 252, 69, 153, 62, 77, 244, 72, 59, 32, 128, 24, 168, 173, 153, 69, 6, 69, 174, 116, 208, 224, 27, 110, 104, 3, 145, 90, 224, 182, 96, 186, 98, 235, 83, 87, 233, 51, 250, 69, 81, 221, 47, 36, 134, 174, 91, 7, 98, 62, 208, 235, 56, 169, 96, 102, 126, 116, 29, 76, 60, 245, 38, 168, 134, 59, 11, 90, 144, 122, 199, 252, 121, 76, 47, 55, 199, 196, 244, 15, 113, 90, 123, 223, 31, 154, 157, 46, 216, 30, 122, 75, 151, 58, 23, 209, 190, 179, 71, 93, 217, 22, 229, 10, 157, 188, 85, 40, 189, 232, 77, 81, 36, 111, 120, 246, 155, 37, 171, 255, 43, 143, 176, 107, 29, 142, 126, 153, 84, 64, 150, 134, 254, 35, 228, 12, 173, 246, 107, 34, 87, 194, 12, 252, 121, 209, 180, 91, 205, 216, 237, 64, 111, 45, 38, 82, 202, 8, 22, 29, 214, 147, 208, 126, 122, 242, 20, 89, 89, 37, 22, 52, 11, 31, 220, 81, 241, 245, 135, 27, 113, 14, 53, 128, 249, 97, 120, 53, 3, 107, 12, 71, 109, 17, 166, 58, 96, 103, 140, 127, 66, 119, 83, 61, 38, 65, 180, 40, 182, 22, 37, 170, 121, 107, 87, 16, 160, 72, 241, 104, 41, 47, 191, 160], [2, 70, 22, 227, 24, 8, 148, 224, 104, 29, 8, 227, 221, 2, 128, 99, 248, 110, 10, 212, 133, 233, 177, 87, 141, 9, 231, 76, 255, 170, 22, 212, 158, 20, 146, 16, 168, 146, 180, 164, 74, 156, 154, 106, 20, 211, 161, 64, 35, 19, 203, 224, 91, 95, 247, 176, 146, 122, 166, 233, 179, 142, 243, 151, 220, 17, 252, 5, 88, 243, 234, 129, 35, 139, 112, 219, 187, 218, 90, 134, 37, 196, 180, 23, 247, 125, 31, 168, 149, 40, 184, 92, 4, 3, 172, 227, 107, 68, 187, 26, 42, 55, 67, 165, 175, 227, 52, 97, 155, 150, 8, 214, 245, 206, 92, 31, 4, 60, 172, 246, 251, 130, 24, 218, 86, 127, 45, 87, 76, 123, 200, 200, 144, 34, 114, 156, 204, 49, 195, 73, 47, 130, 23, 191, 8, 178, 180, 96, 122, 56, 131, 136, 75, 242, 213, 67, 57, 223, 168, 18, 15, 139, 190, 92, 158, 90, 212, 210, 142, 202, 47, 169, 212, 60, 195, 175, 13, 107, 128, 159, 216, 154, 230, 20, 161, 149, 125, 77, 232, 183, 49, 89, 48, 106, 229, 102, 241, 120, 16, 74, 195, 202, 59, 106, 4, 160, 7, 245, 125, 35, 13, 104, 79, 208, 97, 183, 63, 185, 183, 142, 134, 49, 99, 33, 45, 40, 255, 38, 1, 248, 199, 226, 37, 209, 22, 181, 222, 172, 236, 134, 21, 75, 163, 231, 160, 210, 1, 169, 206, 8, 249, 250, 50, 53, 167, 213, 235]]}}, 'requested_proof': {'revealed_attrs': {'0_skill_uuid': {'sub_proof_index': 0, 'raw': 'researcher', 'encoded': '24214165878429772374367858032287880675266648921286067519661391650938186682695'}, '0_name_uuid': {'sub_proof_index': 0, 'raw': 'Bob', 'encoded': '93006290325627508022776103386395994712401809437930957652111221015872244345185'}}, 'self_attested_attrs': {'0_country_uuid': 'South Africa'}, 'unrevealed_attrs': {}, 'predicates': {'0_age_GE_uuid': {'sub_proof_index': 0}}}, 'identifiers': [{'schema_id': 'PQRXDxdGqQGSZ8z69p4xZP:2:open_mined_contributor:0.0.2', 'cred_def_id': 'PQRXDxdGqQGSZ8z69p4xZP:3:CL:18:default', 'rev_reg_id': None, 'timestamp': None}]}, 'thread_id': '706e67a3-80b2-4e87-bab6-825a8677a4c6', 'presentation_exchange_id': '13cf4b8a-341a-4ca0-8dd2-8b5d7680ec7a', 'state': 'presentation_sent', 'role': 'prover', 'initiator': 'external', 'presentation_request': {'name': 'Proof of Personal Information', 'version': '1.0', 'requested_attributes': {'0_name_uuid': {'name': 'name', 'restrictions': [{'issuer_did': 'PQRXDxdGqQGSZ8z69p4xZP'}]}, '0_skill_uuid': {'name': 'skill', 'restrictions': [{'issuer_did': 'PQRXDxdGqQGSZ8z69p4xZP'}]}, '0_country_uuid': {'name': 'country'}}, 'requested_predicates': {'0_age_GE_uuid': {'name': 'age', 'p_type': '>=', 'p_value': 21, 'restrictions': [{'issuer_did': 'PQRXDxdGqQGSZ8z69p4xZP'}]}}, 'nonce': '746668230647047425833810'}, 'updated_at': '2023-01-01 15:56:47.285072Z', 'connection_id': '9777a4c5-00c9-4816-acd3-3139431cee8b'}\n"
     ]
    }
   ],
   "source": [
    "response = await agent_controller.proofs.send_presentation(presentation_exchange_id, proof)\n",
    "print(response)"
   ]
  },
  {
   "cell_type": "markdown",
   "metadata": {},
   "source": [
    "## 11. Continue in the verifier notebook\n",
    "\n",
    "The verifier needs to check the proof send by Bob is verifiable."
   ]
  },
  {
   "cell_type": "markdown",
   "metadata": {},
   "source": [
    "## End of Tutorial\n",
    "\n",
    "Be sure to terminate the controller."
   ]
  },
  {
   "cell_type": "code",
   "execution_count": 8,
   "metadata": {},
   "outputs": [],
   "source": [
    "response = await agent_controller.terminate()"
   ]
  },
  {
   "cell_type": "code",
   "execution_count": null,
   "metadata": {},
   "outputs": [],
   "source": []
  }
 ],
 "metadata": {
  "kernelspec": {
   "display_name": "Python 3 (ipykernel)",
   "language": "python",
   "name": "python3"
  },
  "language_info": {
   "codemirror_mode": {
    "name": "ipython",
    "version": 3
   },
   "file_extension": ".py",
   "mimetype": "text/x-python",
   "name": "python",
   "nbconvert_exporter": "python",
   "pygments_lexer": "ipython3",
   "version": "3.10.8"
  }
 },
 "nbformat": 4,
 "nbformat_minor": 4
}
