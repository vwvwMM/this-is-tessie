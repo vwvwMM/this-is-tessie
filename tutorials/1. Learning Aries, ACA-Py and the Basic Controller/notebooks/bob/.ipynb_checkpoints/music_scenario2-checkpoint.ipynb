{
 "cells": [
  {
   "cell_type": "code",
   "execution_count": 52,
   "id": "a0214a96",
   "metadata": {},
   "outputs": [
    {
     "name": "stdout",
     "output_type": "stream",
     "text": [
      "IPython autoawait is `on`, and set to use `asyncio`\n"
     ]
    }
   ],
   "source": [
    "%autoawait\n",
    "import time\n",
    "import asyncio\n",
    "from aries_basic_controller.aries_controller import AriesAgentController\n",
    "    \n",
    "WEBHOOK_HOST = \"0.0.0.0\"\n",
    "WEBHOOK_PORT = 8052\n",
    "WEBHOOK_BASE = \"\"\n",
    "ADMIN_URL = \"http://bob-agent:8051\"\n",
    "\n",
    "API_KEY = \"bob_api_123456789\"\n",
    "\n",
    "# Based on the aca-py agent you wish to control\n",
    "agent_controller = AriesAgentController(admin_url=ADMIN_URL, api_key=API_KEY)"
   ]
  },
  {
   "cell_type": "code",
   "execution_count": 53,
   "id": "35937ddc",
   "metadata": {},
   "outputs": [],
   "source": [
    "agent_controller.init_webhook_server(webhook_host=WEBHOOK_HOST,\n",
    "                                     webhook_port=WEBHOOK_PORT,\n",
    "                                     webhook_base=WEBHOOK_BASE)"
   ]
  },
  {
   "cell_type": "markdown",
   "id": "09643c5a",
   "metadata": {},
   "source": [
    "## 3. connect to SP"
   ]
  },
  {
   "cell_type": "code",
   "execution_count": 54,
   "id": "aa0b9234",
   "metadata": {},
   "outputs": [
    {
     "name": "stdout",
     "output_type": "stream",
     "text": [
      "Subscribing too: connections\n"
     ]
    },
    {
     "name": "stderr",
     "output_type": "stream",
     "text": [
      "Listening webhooks failed! OSError(98, \"error while attempting to bind on address ('0.0.0.0', 8052): address already in use\") occurred.\n"
     ]
    }
   ],
   "source": [
    "\n",
    "loop = asyncio.get_event_loop()\n",
    "loop.create_task(agent_controller.listen_webhooks())\n",
    "\n",
    "def connection_handler(payload):\n",
    "    print(\"Connection Handler Called\")\n",
    "    connection_id = payload[\"connection_id\"]\n",
    "    state = payload[\"state\"]\n",
    "    print(f\"Connection {connection_id} in State {state}\")\n",
    "    \n",
    "connection_listener = {\n",
    "    \"handler\": connection_handler,\n",
    "    \"topic\": \"connections\"\n",
    "}\n",
    "\n",
    "agent_controller.register_listeners([connection_listener], defaults=True)"
   ]
  },
  {
   "cell_type": "code",
   "execution_count": 55,
   "id": "959c82d5",
   "metadata": {},
   "outputs": [],
   "source": [
    "#Paste in invitation from Carol agent\n",
    "invitation = {'@type': 'did:sov:BzCbsNYhMrjHiqZDTUASHg;spec/connections/1.0/invitation', '@id': '082d1357-64ec-4653-84af-777dd838b48f', 'label': 'Carol', 'serviceEndpoint': 'http://192.168.65.3:8080', 'recipientKeys': ['AjzspEpMcf53s9nS4XcBogeH8zKHWkESzbLKbPV1TtKq']}"
   ]
  },
  {
   "cell_type": "code",
   "execution_count": 56,
   "id": "501ce7c3",
   "metadata": {},
   "outputs": [
    {
     "name": "stdout",
     "output_type": "stream",
     "text": [
      "Connection {'their_role': 'inviter', 'invitation_key': 'AjzspEpMcf53s9nS4XcBogeH8zKHWkESzbLKbPV1TtKq', 'their_label': 'Carol', 'invitation_mode': 'once', 'accept': 'manual', 'request_id': '48a27447-45ff-4d41-985e-ae9ca6130d40', 'state': 'request', 'connection_id': '24d83a42-68fa-45e5-96d5-f59481212810', 'created_at': '2023-01-03 11:26:15.088781Z', 'rfc23_state': 'request-sent', 'updated_at': '2023-01-03 11:26:15.147151Z', 'routing_state': 'none', 'my_did': 'GAAHQwGB13skFWsLAgYdRZ'}\n"
     ]
    }
   ],
   "source": [
    "# Receive Invitation\n",
    "response = await agent_controller.connections.accept_connection(invitation)\n",
    "# Print out accepted Invite and Carol's connection ID\n",
    "print(\"Connection\", response)\n",
    "sp_connection = response[\"connection_id\"]\n"
   ]
  },
  {
   "cell_type": "code",
   "execution_count": 5,
   "id": "9fe418e1",
   "metadata": {},
   "outputs": [],
   "source": [
    "# sp_connection = '73437da8-d87e-46b7-aa1e-c1ccc86fccf7'"
   ]
  },
  {
   "cell_type": "markdown",
   "id": "38651137",
   "metadata": {},
   "source": [
    "### switch to SP"
   ]
  },
  {
   "cell_type": "code",
   "execution_count": 57,
   "id": "03e45722",
   "metadata": {},
   "outputs": [
    {
     "name": "stdout",
     "output_type": "stream",
     "text": [
      "SP AGENT CONNECTION\n",
      "{'their_role': 'inviter', 'invitation_key': 'AjzspEpMcf53s9nS4XcBogeH8zKHWkESzbLKbPV1TtKq', 'their_label': 'Carol', 'invitation_mode': 'once', 'accept': 'manual', 'request_id': '48a27447-45ff-4d41-985e-ae9ca6130d40', 'state': 'active', 'connection_id': '24d83a42-68fa-45e5-96d5-f59481212810', 'created_at': '2023-01-03 11:26:15.088781Z', 'rfc23_state': 'completed', 'updated_at': '2023-01-03 11:26:27.598160Z', 'routing_state': 'none', 'my_did': 'GAAHQwGB13skFWsLAgYdRZ', 'their_did': 'HHG2eTSodgTkGHU2QQUDBY'}\n",
      "State: active\n"
     ]
    }
   ],
   "source": [
    "# Print connection list\n",
    "connection = await agent_controller.connections.get_connection(sp_connection)\n",
    "print(\"SP AGENT CONNECTION\")\n",
    "print(connection)\n",
    "print(\"State:\", connection[\"state\"])"
   ]
  },
  {
   "cell_type": "code",
   "execution_count": 58,
   "id": "c94eaab2",
   "metadata": {},
   "outputs": [
    {
     "name": "stdout",
     "output_type": "stream",
     "text": [
      "{'results': [{'their_role': 'inviter', 'invitation_key': '8yDBAPXWfTEKdKCdRHBr7rKVpJ5pZkQ2bLGoJEXFbxCX', 'their_label': 'Alice', 'invitation_mode': 'once', 'accept': 'manual', 'request_id': '22d9839a-dded-477d-a7f7-300187999d92', 'state': 'request', 'connection_id': '0380cef4-1ad8-44d1-9d3b-aeb00d16daf2', 'created_at': '2023-01-03 09:28:18.914466Z', 'rfc23_state': 'request-sent', 'updated_at': '2023-01-03 09:28:18.975253Z', 'routing_state': 'none', 'my_did': 'X912oZQ5u5JLBk7fDT2LfT'}, {'their_role': 'inviter', 'invitation_key': '8fzHn56Ws5XGrbnFgFC7cvNxAJaQ5H6twaRWGA8TKphM', 'their_label': 'Alice', 'invitation_mode': 'once', 'accept': 'manual', 'request_id': '3c858a56-d4f3-4f83-91d6-093f66e0ab82', 'state': 'active', 'connection_id': '3fa138e7-7965-48c9-b731-8fc1d72c2d3e', 'created_at': '2023-01-03 09:28:35.129989Z', 'rfc23_state': 'completed', 'updated_at': '2023-01-03 09:29:15.049797Z', 'routing_state': 'none', 'my_did': 'VjHmiqvFUDKtfjzadgFhjk', 'their_did': 'QRT3h2UtVYUFwkjVEJjK5U'}, {'their_role': 'inviter', 'invitation_key': '35QmqBc3s1QuGM7PNTagQta1SdZmRMf3yBLYnJUTLWEY', 'their_label': 'Carol', 'invitation_mode': 'once', 'accept': 'manual', 'request_id': '8ea8a08a-1192-494b-a403-d1f5183170bc', 'state': 'active', 'connection_id': 'e75ff16d-708f-4f31-9d79-6231d6423177', 'created_at': '2023-01-03 09:36:14.104527Z', 'rfc23_state': 'completed', 'updated_at': '2023-01-03 09:37:07.677053Z', 'routing_state': 'none', 'my_did': 'NBhZa3QoeBJ2R3Lc1wXusu', 'their_did': 'MLRq9bHSc6bqPHSgdCffUs'}, {'their_role': 'inviter', 'invitation_key': '7a5RP5ipXyM1Bra395Xn1ANni38p53F4Hg3nARjpYYw5', 'their_label': 'Alice', 'invitation_mode': 'once', 'accept': 'manual', 'request_id': '3b093449-cc3a-4fdf-8694-f97e96525d5e', 'state': 'active', 'connection_id': 'e43a8669-e546-45ad-9c74-9e5990b89534', 'created_at': '2023-01-03 09:38:20.791763Z', 'rfc23_state': 'completed', 'updated_at': '2023-01-03 09:38:35.465094Z', 'routing_state': 'none', 'my_did': 'B9LWxnPaVKusAdELrcZjJ2', 'their_did': '2jtbrtAtQ5i6CuoZXNQTW1'}, {'their_role': 'inviter', 'invitation_key': 'AjzspEpMcf53s9nS4XcBogeH8zKHWkESzbLKbPV1TtKq', 'their_label': 'Carol', 'invitation_mode': 'once', 'accept': 'manual', 'request_id': '48a27447-45ff-4d41-985e-ae9ca6130d40', 'state': 'active', 'connection_id': '24d83a42-68fa-45e5-96d5-f59481212810', 'created_at': '2023-01-03 11:26:15.088781Z', 'rfc23_state': 'completed', 'updated_at': '2023-01-03 11:26:27.598160Z', 'routing_state': 'none', 'my_did': 'GAAHQwGB13skFWsLAgYdRZ', 'their_did': 'HHG2eTSodgTkGHU2QQUDBY'}]}\n"
     ]
    }
   ],
   "source": [
    "response = await agent_controller.connections.get_connections()\n",
    "print(response)"
   ]
  },
  {
   "cell_type": "markdown",
   "id": "06cc106f",
   "metadata": {},
   "source": [
    "## 5. connect to DM"
   ]
  },
  {
   "cell_type": "code",
   "execution_count": 69,
   "id": "9e2db99b",
   "metadata": {},
   "outputs": [],
   "source": [
    "#Paste in invitation from Carol agent\n",
    "invitation = {'@type': 'did:sov:BzCbsNYhMrjHiqZDTUASHg;spec/connections/1.0/invitation', '@id': 'ff2a54fa-b5c7-40b5-98f9-1c4fab300b2f', 'label': 'Alice', 'recipientKeys': ['EASvR9t7Dkb8pUta1dDcpZwDJj32zCLkXpjFvPotNTWx'], 'serviceEndpoint': 'http://192.168.65.3:8020'}"
   ]
  },
  {
   "cell_type": "code",
   "execution_count": 70,
   "id": "bd9ea7b7",
   "metadata": {},
   "outputs": [
    {
     "name": "stdout",
     "output_type": "stream",
     "text": [
      "Connection {'their_role': 'inviter', 'invitation_key': 'EASvR9t7Dkb8pUta1dDcpZwDJj32zCLkXpjFvPotNTWx', 'their_label': 'Alice', 'invitation_mode': 'once', 'accept': 'manual', 'request_id': '9fdc1952-b260-4292-b0d0-e24b5bdd72ba', 'state': 'request', 'connection_id': 'f2416802-9c49-406e-8035-3415108a72ca', 'created_at': '2023-01-03 11:31:24.992814Z', 'rfc23_state': 'request-sent', 'updated_at': '2023-01-03 11:31:25.035068Z', 'routing_state': 'none', 'my_did': 'KBtYiK8eaWNKEtnVWAR64h'}\n"
     ]
    }
   ],
   "source": [
    "# Receive Invitation\n",
    "response = await agent_controller.connections.accept_connection(invitation)\n",
    "# Print out accepted Invite and Carol's connection ID\n",
    "print(\"Connection\", response)\n",
    "dm_connection = response[\"connection_id\"]"
   ]
  },
  {
   "cell_type": "markdown",
   "id": "127179b4",
   "metadata": {},
   "source": [
    "### switch to DM"
   ]
  },
  {
   "cell_type": "code",
   "execution_count": 71,
   "id": "01edd71e",
   "metadata": {},
   "outputs": [
    {
     "name": "stdout",
     "output_type": "stream",
     "text": [
      "{'their_role': 'inviter', 'invitation_key': 'EASvR9t7Dkb8pUta1dDcpZwDJj32zCLkXpjFvPotNTWx', 'their_label': 'Alice', 'invitation_mode': 'once', 'accept': 'manual', 'request_id': '9fdc1952-b260-4292-b0d0-e24b5bdd72ba', 'state': 'active', 'connection_id': 'f2416802-9c49-406e-8035-3415108a72ca', 'created_at': '2023-01-03 11:31:24.992814Z', 'rfc23_state': 'completed', 'updated_at': '2023-01-03 11:31:58.077211Z', 'routing_state': 'none', 'my_did': 'KBtYiK8eaWNKEtnVWAR64h', 'their_did': 'US6mN2w2jdYCrwiBQdBzQE'}\n",
      "Is Active? active\n"
     ]
    }
   ],
   "source": [
    "connection = await agent_controller.connections.get_connection(dm_connection)\n",
    "print(connection)\n",
    "print(\"Is Active?\", connection[\"state\"])"
   ]
  },
  {
   "cell_type": "markdown",
   "id": "b1ccd11c",
   "metadata": {},
   "source": [
    "## 8. exchange DID with DM"
   ]
  },
  {
   "cell_type": "code",
   "execution_count": 72,
   "id": "4175405e",
   "metadata": {},
   "outputs": [
    {
     "name": "stdout",
     "output_type": "stream",
     "text": [
      "my DID gZj39Y8JGQ5GVQp2y6zFH\n"
     ]
    }
   ],
   "source": [
    "my_did = await agent_controller.wallet.get_public_did()\n",
    "my_did = my_did['result']['did']\n",
    "print(\"my DID\", my_did)\n",
    "dm_did = 'None'"
   ]
  },
  {
   "cell_type": "code",
   "execution_count": 73,
   "id": "f036b363",
   "metadata": {},
   "outputs": [
    {
     "name": "stdout",
     "output_type": "stream",
     "text": [
      "Subscribing too: basicmessages\n"
     ]
    },
    {
     "name": "stderr",
     "output_type": "stream",
     "text": [
      "Listening webhooks failed! OSError(98, \"error while attempting to bind on address ('0.0.0.0', 8052): address already in use\") occurred.\n"
     ]
    }
   ],
   "source": [
    "def messages_handler(payload):\n",
    "    global dm_did\n",
    "    connection_id = payload[\"connection_id\"]\n",
    "    print(\"Handle message\", payload, connection_id)\n",
    "    dm_did = payload['content']\n",
    "    print('DM DID', dm_did)\n",
    "\n",
    "\n",
    "message_listener = {\n",
    "    \"handler\": messages_handler,\n",
    "    \"topic\": \"basicmessages\"\n",
    "}\n",
    "\n",
    "loop = asyncio.get_event_loop()\n",
    "loop.create_task(agent_controller.listen_webhooks())\n",
    "\n",
    "agent_controller.register_listeners([message_listener], defaults=True)"
   ]
  },
  {
   "cell_type": "code",
   "execution_count": 42,
   "id": "1baf18eb",
   "metadata": {},
   "outputs": [
    {
     "data": {
      "text/plain": [
       "{'thread_id': '695118a3-4e08-410a-aa2e-1d265664a30e'}"
      ]
     },
     "execution_count": 42,
     "metadata": {},
     "output_type": "execute_result"
    }
   ],
   "source": [
    "await agent_controller.messaging.trust_ping(dm_connection, \"hello, world!\")"
   ]
  },
  {
   "cell_type": "code",
   "execution_count": 74,
   "id": "0777e9d3",
   "metadata": {},
   "outputs": [
    {
     "name": "stdout",
     "output_type": "stream",
     "text": [
      "{}\n"
     ]
    }
   ],
   "source": [
    "response = await agent_controller.messaging.send_message(dm_connection, 'music_'+my_did)\n",
    "print(response)"
   ]
  },
  {
   "cell_type": "code",
   "execution_count": 35,
   "id": "96a91c73",
   "metadata": {},
   "outputs": [
    {
     "name": "stdout",
     "output_type": "stream",
     "text": [
      "None\n"
     ]
    }
   ],
   "source": [
    "print(dm_did)"
   ]
  },
  {
   "cell_type": "markdown",
   "id": "8be2fb12",
   "metadata": {},
   "source": [
    "## present proof that itself belongs to DM to SP"
   ]
  },
  {
   "cell_type": "code",
   "execution_count": 13,
   "id": "ad95ef04",
   "metadata": {},
   "outputs": [
    {
     "name": "stdout",
     "output_type": "stream",
     "text": [
      "Subscribing too: present_proof\n"
     ]
    },
    {
     "name": "stderr",
     "output_type": "stream",
     "text": [
      "Listening webhooks failed! OSError(98, \"error while attempting to bind on address ('0.0.0.0', 8052): address already in use\") occurred.\n"
     ]
    }
   ],
   "source": [
    "loop = asyncio.get_event_loop()\n",
    "loop.create_task(agent_controller.listen_webhooks())\n",
    "\n",
    "def proof_handler(payload):\n",
    "    print(\"Handle present proof\")\n",
    "    role = payload[\"role\"]\n",
    "    pres_ex_id = payload[\"presentation_exchange_id\"]\n",
    "    state = payload[\"state\"]\n",
    "    print(f\"Role {role}, Exchange {pres_ex_id} in state {state}\")\n",
    "          \n",
    "proof_listener = {\n",
    "    \"topic\": \"present_proof\",\n",
    "    \"handler\": proof_handler\n",
    "}\n",
    "agent_controller.register_listeners([proof_listener], defaults=True)"
   ]
  },
  {
   "cell_type": "markdown",
   "id": "a0b5eb61",
   "metadata": {},
   "source": [
    "### switch to SP"
   ]
  },
  {
   "cell_type": "code",
   "execution_count": 14,
   "id": "6327e09d",
   "metadata": {},
   "outputs": [
    {
     "name": "stdout",
     "output_type": "stream",
     "text": [
      "[{'trace': False, 'presentation_request': {'name': 'Proof of Ownership of DM', 'version': '1.0', 'requested_attributes': {'0_author_uuid': {'name': 'author', 'restrictions': [{'issuer_did': 'PQRXDxdGqQGSZ8z69p4xZP'}]}, '0_origin_uuid': {'name': 'origin', 'restrictions': [{'issuer_did': 'PQRXDxdGqQGSZ8z69p4xZP'}]}, '0_owner_uuid': {'name': 'owner', 'restrictions': [{'issuer_did': 'PQRXDxdGqQGSZ8z69p4xZP'}]}, '0_time_uuid': {'name': 'time', 'restrictions': [{'issuer_did': 'PQRXDxdGqQGSZ8z69p4xZP'}]}}, 'requested_predicates': {}, 'nonce': '857932762503873741699352'}, 'presentation_request_dict': {'@type': 'did:sov:BzCbsNYhMrjHiqZDTUASHg;spec/present-proof/1.0/request-presentation', '@id': '3264ffcd-fed8-434e-9406-9eacf5ad7d7c', 'request_presentations~attach': [{'@id': 'libindy-request-presentation-0', 'mime-type': 'application/json', 'data': {'base64': 'eyJuYW1lIjogIlByb29mIG9mIE93bmVyc2hpcCBvZiBETSIsICJ2ZXJzaW9uIjogIjEuMCIsICJyZXF1ZXN0ZWRfYXR0cmlidXRlcyI6IHsiMF9hdXRob3JfdXVpZCI6IHsibmFtZSI6ICJhdXRob3IiLCAicmVzdHJpY3Rpb25zIjogW3siaXNzdWVyX2RpZCI6ICJQUVJYRHhkR3FRR1NaOHo2OXA0eFpQIn1dfSwgIjBfb3JpZ2luX3V1aWQiOiB7Im5hbWUiOiAib3JpZ2luIiwgInJlc3RyaWN0aW9ucyI6IFt7Imlzc3Vlcl9kaWQiOiAiUFFSWER4ZEdxUUdTWjh6NjlwNHhaUCJ9XX0sICIwX293bmVyX3V1aWQiOiB7Im5hbWUiOiAib3duZXIiLCAicmVzdHJpY3Rpb25zIjogW3siaXNzdWVyX2RpZCI6ICJQUVJYRHhkR3FRR1NaOHo2OXA0eFpQIn1dfSwgIjBfdGltZV91dWlkIjogeyJuYW1lIjogInRpbWUiLCAicmVzdHJpY3Rpb25zIjogW3siaXNzdWVyX2RpZCI6ICJQUVJYRHhkR3FRR1NaOHo2OXA0eFpQIn1dfX0sICJyZXF1ZXN0ZWRfcHJlZGljYXRlcyI6IHt9LCAibm9uY2UiOiAiODU3OTMyNzYyNTAzODczNzQxNjk5MzUyIn0='}}]}, 'state': 'request_received', 'connection_id': 'e75ff16d-708f-4f31-9d79-6231d6423177', 'initiator': 'external', 'created_at': '2023-01-03 09:40:47.508987Z', 'presentation_exchange_id': '1ed6c9ba-b50c-4403-9ad0-a406321d213a', 'updated_at': '2023-01-03 09:40:47.508987Z', 'thread_id': '3264ffcd-fed8-434e-9406-9eacf5ad7d7c', 'role': 'prover'}]\n",
      "\n",
      "\n",
      "Presentation Exchange ID\n",
      "\n",
      "1ed6c9ba-b50c-4403-9ad0-a406321d213a\n",
      "Presentation Request Object\n",
      "\n",
      "{'name': 'Proof of Ownership of DM', 'version': '1.0', 'requested_attributes': {'0_author_uuid': {'name': 'author', 'restrictions': [{'issuer_did': 'PQRXDxdGqQGSZ8z69p4xZP'}]}, '0_origin_uuid': {'name': 'origin', 'restrictions': [{'issuer_did': 'PQRXDxdGqQGSZ8z69p4xZP'}]}, '0_owner_uuid': {'name': 'owner', 'restrictions': [{'issuer_did': 'PQRXDxdGqQGSZ8z69p4xZP'}]}, '0_time_uuid': {'name': 'time', 'restrictions': [{'issuer_did': 'PQRXDxdGqQGSZ8z69p4xZP'}]}}, 'requested_predicates': {}, 'nonce': '857932762503873741699352'}\n",
      "Requested Attributes\n",
      "\n",
      "{'0_author_uuid': {'name': 'author', 'restrictions': [{'issuer_did': 'PQRXDxdGqQGSZ8z69p4xZP'}]}, '0_origin_uuid': {'name': 'origin', 'restrictions': [{'issuer_did': 'PQRXDxdGqQGSZ8z69p4xZP'}]}, '0_owner_uuid': {'name': 'owner', 'restrictions': [{'issuer_did': 'PQRXDxdGqQGSZ8z69p4xZP'}]}, '0_time_uuid': {'name': 'time', 'restrictions': [{'issuer_did': 'PQRXDxdGqQGSZ8z69p4xZP'}]}}\n",
      "Requested Predicates\n",
      "\n",
      "{}\n"
     ]
    }
   ],
   "source": [
    "response = await agent_controller.proofs.get_records()\n",
    "print((response['results']))\n",
    "\n",
    "print('\\n')\n",
    "\n",
    "state = response['results'][0][\"state\"]\n",
    "presentation_exchange_id = response['results'][0]['presentation_exchange_id']\n",
    "presentation_request = response['results'][0]['presentation_request']\n",
    "\n",
    "print('Presentation Exchange ID\\n')\n",
    "print(response['results'][0]['presentation_exchange_id'])\n",
    "print('Presentation Request Object\\n')\n",
    "print(response['results'][0]['presentation_request'])\n",
    "print('Requested Attributes\\n')\n",
    "print(response['results'][0]['presentation_request']['requested_attributes'])\n",
    "requested_attribs = response['results'][0]['presentation_request']['requested_attributes']\n",
    "print('Requested Predicates\\n')\n",
    "print(response['results'][0]['presentation_request']['requested_predicates'])\n",
    "requested_predicates = response['results'][0]['presentation_request']['requested_predicates']"
   ]
  },
  {
   "cell_type": "code",
   "execution_count": 15,
   "id": "1e2860b6",
   "metadata": {},
   "outputs": [
    {
     "name": "stdout",
     "output_type": "stream",
     "text": [
      "Received Request -> Query for credentials in the wallet that satisfy the proof request\n",
      "[{'cred_info': {'referent': 'My OM Credential', 'attrs': {'origin': 'PQRXDxdGqQGSZ8z69p4xZP', 'version': 'v1', 'name': 'balabababa music', 'author': 'PQRXDxdGqQGSZ8z69p4xZP', 'owner': 'PQRXDxdGqQGSZ8z69p4xZP', 'time': '01-03-2023, 09:31:44'}, 'schema_id': 'PQRXDxdGqQGSZ8z69p4xZP:2:music_schema:0.0.1', 'cred_def_id': 'PQRXDxdGqQGSZ8z69p4xZP:3:CL:12:default', 'rev_reg_id': None, 'cred_rev_id': None}, 'interval': None, 'presentation_referents': ['0_author_uuid', '0_time_uuid', '0_origin_uuid', '0_owner_uuid']}]\n",
      "\n",
      "Generate the proof\n",
      "{'requested_predicates': {}, 'requested_attributes': {'0_author_uuid': {'cred_id': 'My OM Credential', 'revealed': True}, '0_origin_uuid': {'cred_id': 'My OM Credential', 'revealed': True}, '0_owner_uuid': {'cred_id': 'My OM Credential', 'revealed': True}, '0_time_uuid': {'cred_id': 'My OM Credential', 'revealed': True}}, 'self_attested_attributes': {}}\n",
      "\n",
      "XXX\n",
      "{}\n",
      "{'0_author_uuid': {'cred_id': 'My OM Credential', 'revealed': True}, '0_origin_uuid': {'cred_id': 'My OM Credential', 'revealed': True}, '0_owner_uuid': {'cred_id': 'My OM Credential', 'revealed': True}, '0_time_uuid': {'cred_id': 'My OM Credential', 'revealed': True}}\n",
      "{}\n"
     ]
    }
   ],
   "source": [
    "if state == \"request_received\":\n",
    "    print(\n",
    "    \"Received Request -> Query for credentials in the wallet that satisfy the proof request\")\n",
    "\n",
    "# include self-attested attributes (not included in credentials)\n",
    "credentials_by_reft = {}\n",
    "revealed = {}\n",
    "self_attested = {}\n",
    "predicates = {}\n",
    "\n",
    "# select credentials to provide for the proof\n",
    "credentials = await agent_controller.proofs.get_presentation_credentials(presentation_exchange_id)\n",
    "print(credentials)\n",
    "\n",
    "if credentials:\n",
    "    for row in sorted(\n",
    "        credentials,\n",
    "        key=lambda c: dict(c[\"cred_info\"][\"attrs\"]),\n",
    "        reverse=True,\n",
    "    ):\n",
    "        for referent in row[\"presentation_referents\"]:\n",
    "            if referent not in credentials_by_reft:\n",
    "                credentials_by_reft[referent] = row\n",
    "\n",
    "for referent in presentation_request[\"requested_attributes\"]:\n",
    "    if referent in credentials_by_reft:\n",
    "        revealed[referent] = {\n",
    "            \"cred_id\": credentials_by_reft[referent][\"cred_info\"][\n",
    "                \"referent\"\n",
    "            ],\n",
    "            \"revealed\": True,\n",
    "        }\n",
    "    else:\n",
    "        self_attested[referent] = \"South Africa\"\n",
    "\n",
    "for referent in presentation_request[\"requested_predicates\"]:\n",
    "    if referent in credentials_by_reft:\n",
    "        predicates[referent] = {\n",
    "            \"cred_id\": credentials_by_reft[referent][\"cred_info\"][\n",
    "                \"referent\"\n",
    "            ]\n",
    "        }\n",
    "\n",
    "print(\"\\nGenerate the proof\")\n",
    "proof = {\n",
    "    \"requested_predicates\": predicates,\n",
    "    \"requested_attributes\": revealed,\n",
    "    \"self_attested_attributes\": self_attested,\n",
    "}\n",
    "print(proof)\n",
    "print(\"\\nXXX\")\n",
    "print(predicates)\n",
    "print(revealed)\n",
    "print(self_attested)"
   ]
  },
  {
   "cell_type": "code",
   "execution_count": 16,
   "id": "1a6df267",
   "metadata": {},
   "outputs": [
    {
     "name": "stdout",
     "output_type": "stream",
     "text": [
      "{'trace': False, 'presentation_request': {'name': 'Proof of Ownership of DM', 'version': '1.0', 'requested_attributes': {'0_author_uuid': {'name': 'author', 'restrictions': [{'issuer_did': 'PQRXDxdGqQGSZ8z69p4xZP'}]}, '0_origin_uuid': {'name': 'origin', 'restrictions': [{'issuer_did': 'PQRXDxdGqQGSZ8z69p4xZP'}]}, '0_owner_uuid': {'name': 'owner', 'restrictions': [{'issuer_did': 'PQRXDxdGqQGSZ8z69p4xZP'}]}, '0_time_uuid': {'name': 'time', 'restrictions': [{'issuer_did': 'PQRXDxdGqQGSZ8z69p4xZP'}]}}, 'requested_predicates': {}, 'nonce': '857932762503873741699352'}, 'presentation': {'proof': {'proofs': [{'primary_proof': {'eq_proof': {'revealed_attrs': {'author': '43137799088118443800136745895388480458686925529355594539512585697577946794869', 'origin': '43137799088118443800136745895388480458686925529355594539512585697577946794869', 'owner': '43137799088118443800136745895388480458686925529355594539512585697577946794869', 'time': '75476434297632474471207801600301378218551076441854970499300802414807135889988'}, 'a_prime': '32263527416863378171037692997719176164700516124725809961847619319469461209710059656271769411601153289338524039937739473178688659683733918270146893592343812477094375102152744692760930770991169944007706635148463010101671895975435666078758566050438070629807644491216058399349278393501082126530297914869945581673243247228626210637335423489666674121262086840285709376942565260568039629911602460071723261697207054661723407262855221143354849379387935136058340509289504783351814930506763877990628594497681691211907784959233500213782671336598838177613524964982429460737657144378575091660843499696050495378450563697479716908628', 'e': '55183958623716768345953538682514412086390056478114901861676909618555816201048397918837041912496758777694064789790520642967934625367081529', 'v': '499552226740118060578740045345197160523256079618243983903779915093176466995682584734684388003567343655115312249932175847372384931921137620731356113703644601328443886082362020741956541036730675939839793750847441707522087323403892697474267793466727346831182324812587080189670697825818731907280621665279423304699014859331189973835588619544112566161643417756770171463657946713619145086693357212251752305035300288273207579606207443412879863098915235425484526010979476353910321021184162150390630096067784647683378777118865658774843055287427181227514866597735842877954663271431295284108629673391390571827831654069074947971928503431774811906293673224930857276059342035635485530702849434369162218048316396531610624729879257931325298362577303396403716008968753008199335526834254050547042962921357398558273138948212972097346507229950126066805846226392409436359108381491856501473052913344346647131499406652227162649831311155231683918', 'm': {'version': '15905726582924030647497461625130111448931513708677888033129074395810314179690710272649343176424509599285133368942722168769542790044490148124084245938566446773656994911026723926827', 'name': '2666796052516255365233314262974055637068661073368393034400211169770184402709731380424365243304781168971817716550124508883594331212973646749687439059473317372597977726467199674035', 'master_secret': '321092387540987485216137793275569648200324371214614369345555048485507823079420025625223069566589393487738781732477367939838811809672163646171119203384544023591315539314810455273'}, 'm2': '3622802449284056398922292195220074628508180284377395005441203240052695139690296962876111434407678764603416178406754888356297437940811360078620683816466038692502006399095286976964'}, 'ge_proofs': []}, 'non_revoc_proof': None}], 'aggregated_proof': {'c_hash': '59076397708526156899396539245840455555320247581510844864212738607670202543830', 'c_list': [[255, 147, 140, 209, 72, 101, 243, 135, 238, 18, 117, 56, 66, 71, 218, 6, 245, 150, 203, 10, 230, 158, 1, 226, 25, 34, 11, 13, 106, 165, 177, 121, 78, 205, 29, 14, 180, 196, 31, 46, 224, 151, 43, 121, 45, 16, 203, 151, 147, 201, 120, 63, 197, 182, 9, 224, 118, 66, 37, 214, 177, 147, 48, 83, 211, 83, 232, 227, 209, 74, 235, 105, 18, 233, 172, 186, 84, 16, 225, 177, 140, 31, 236, 27, 55, 208, 156, 100, 207, 141, 203, 173, 190, 55, 193, 83, 135, 110, 87, 7, 34, 192, 174, 81, 36, 243, 116, 27, 21, 62, 25, 243, 1, 250, 179, 185, 19, 54, 239, 215, 1, 181, 50, 255, 172, 199, 206, 247, 206, 179, 211, 248, 180, 251, 96, 100, 250, 37, 77, 191, 178, 108, 176, 179, 73, 128, 91, 170, 254, 243, 38, 56, 32, 143, 53, 4, 239, 161, 29, 204, 68, 84, 199, 238, 142, 23, 150, 105, 72, 75, 89, 165, 97, 249, 156, 38, 231, 100, 207, 6, 186, 1, 64, 19, 46, 37, 13, 180, 196, 32, 65, 18, 247, 200, 226, 95, 40, 203, 182, 23, 15, 114, 114, 92, 56, 95, 123, 78, 186, 119, 156, 90, 55, 171, 133, 186, 175, 30, 182, 162, 47, 233, 177, 183, 64, 130, 228, 32, 69, 37, 231, 85, 157, 91, 248, 194, 13, 201, 91, 149, 234, 108, 218, 60, 215, 75, 214, 8, 120, 60, 50, 65, 156, 87, 46, 84]]}}, 'requested_proof': {'revealed_attrs': {'0_author_uuid': {'sub_proof_index': 0, 'raw': 'PQRXDxdGqQGSZ8z69p4xZP', 'encoded': '43137799088118443800136745895388480458686925529355594539512585697577946794869'}, '0_origin_uuid': {'sub_proof_index': 0, 'raw': 'PQRXDxdGqQGSZ8z69p4xZP', 'encoded': '43137799088118443800136745895388480458686925529355594539512585697577946794869'}, '0_time_uuid': {'sub_proof_index': 0, 'raw': '01-03-2023, 09:31:44', 'encoded': '75476434297632474471207801600301378218551076441854970499300802414807135889988'}, '0_owner_uuid': {'sub_proof_index': 0, 'raw': 'PQRXDxdGqQGSZ8z69p4xZP', 'encoded': '43137799088118443800136745895388480458686925529355594539512585697577946794869'}}, 'self_attested_attrs': {}, 'unrevealed_attrs': {}, 'predicates': {}}, 'identifiers': [{'schema_id': 'PQRXDxdGqQGSZ8z69p4xZP:2:music_schema:0.0.1', 'cred_def_id': 'PQRXDxdGqQGSZ8z69p4xZP:3:CL:12:default', 'rev_reg_id': None, 'timestamp': None}]}, 'presentation_request_dict': {'@type': 'did:sov:BzCbsNYhMrjHiqZDTUASHg;spec/present-proof/1.0/request-presentation', '@id': '3264ffcd-fed8-434e-9406-9eacf5ad7d7c', 'request_presentations~attach': [{'@id': 'libindy-request-presentation-0', 'mime-type': 'application/json', 'data': {'base64': 'eyJuYW1lIjogIlByb29mIG9mIE93bmVyc2hpcCBvZiBETSIsICJ2ZXJzaW9uIjogIjEuMCIsICJyZXF1ZXN0ZWRfYXR0cmlidXRlcyI6IHsiMF9hdXRob3JfdXVpZCI6IHsibmFtZSI6ICJhdXRob3IiLCAicmVzdHJpY3Rpb25zIjogW3siaXNzdWVyX2RpZCI6ICJQUVJYRHhkR3FRR1NaOHo2OXA0eFpQIn1dfSwgIjBfb3JpZ2luX3V1aWQiOiB7Im5hbWUiOiAib3JpZ2luIiwgInJlc3RyaWN0aW9ucyI6IFt7Imlzc3Vlcl9kaWQiOiAiUFFSWER4ZEdxUUdTWjh6NjlwNHhaUCJ9XX0sICIwX293bmVyX3V1aWQiOiB7Im5hbWUiOiAib3duZXIiLCAicmVzdHJpY3Rpb25zIjogW3siaXNzdWVyX2RpZCI6ICJQUVJYRHhkR3FRR1NaOHo2OXA0eFpQIn1dfSwgIjBfdGltZV91dWlkIjogeyJuYW1lIjogInRpbWUiLCAicmVzdHJpY3Rpb25zIjogW3siaXNzdWVyX2RpZCI6ICJQUVJYRHhkR3FRR1NaOHo2OXA0eFpQIn1dfX0sICJyZXF1ZXN0ZWRfcHJlZGljYXRlcyI6IHt9LCAibm9uY2UiOiAiODU3OTMyNzYyNTAzODczNzQxNjk5MzUyIn0='}}]}, 'state': 'presentation_sent', 'connection_id': 'e75ff16d-708f-4f31-9d79-6231d6423177', 'initiator': 'external', 'created_at': '2023-01-03 09:40:47.508987Z', 'presentation_exchange_id': '1ed6c9ba-b50c-4403-9ad0-a406321d213a', 'updated_at': '2023-01-03 09:41:00.094597Z', 'thread_id': '3264ffcd-fed8-434e-9406-9eacf5ad7d7c', 'role': 'prover'}\n"
     ]
    }
   ],
   "source": [
    "response = await agent_controller.proofs.send_presentation(presentation_exchange_id, proof)\n",
    "print(response)"
   ]
  },
  {
   "cell_type": "markdown",
   "id": "e61300ac",
   "metadata": {},
   "source": [
    "## save new VC"
   ]
  },
  {
   "cell_type": "code",
   "execution_count": 17,
   "id": "74f8b6c6",
   "metadata": {},
   "outputs": [
    {
     "name": "stdout",
     "output_type": "stream",
     "text": [
      "Subscribing too: issue_credential\n"
     ]
    },
    {
     "name": "stderr",
     "output_type": "stream",
     "text": [
      "Listening webhooks failed! OSError(98, \"error while attempting to bind on address ('0.0.0.0', 8052): address already in use\") occurred.\n"
     ]
    }
   ],
   "source": [
    "loop = asyncio.get_event_loop()\n",
    "loop.create_task(agent_controller.listen_webhooks())\n",
    "def cred_handler(payload):\n",
    "    print(\"Handle Credentials\")\n",
    "    exchange_id = payload['credential_exchange_id']\n",
    "    state = payload['state']\n",
    "    role = payload['role']\n",
    "    attributes = payload['credential_proposal_dict']['credential_proposal']['attributes']\n",
    "    print(f\"Credential exchange {exchange_id}, role: {role}, state: {state}\")\n",
    "    print(f\"Attributes: {attributes}\")\n",
    "    \n",
    "cred_listener = {\n",
    "    \"topic\": \"issue_credential\",\n",
    "    \"handler\": cred_handler\n",
    "}\n",
    "agent_controller.register_listeners([cred_listener], defaults=True)"
   ]
  },
  {
   "cell_type": "code",
   "execution_count": 19,
   "id": "25aa461f",
   "metadata": {},
   "outputs": [
    {
     "name": "stdout",
     "output_type": "stream",
     "text": [
      "Credential exchange d27b4215-d0e5-4151-9897-12c1c38bcb6a, role: holder, state: offer_received\n",
      "Being offered: [{'name': 'author', 'value': 'PQRXDxdGqQGSZ8z69p4xZP'}, {'name': 'origin', 'value': 'PQRXDxdGqQGSZ8z69p4xZP'}, {'name': 'owner', 'value': '8HWQruWXrv8s6BBLXm53B'}, {'name': 'time', 'value': '01-03-2023, 09:50:36'}, {'name': 'version', 'value': 'v1'}, {'name': 'name', 'value': 'balabababa music'}]\n"
     ]
    }
   ],
   "source": [
    "response = await agent_controller.issuer.get_records()\n",
    "results = response[\"results\"]\n",
    "if len(results) == 0:\n",
    "    print(\"You need to first send a credential from the issuer notebook (Alice)\")\n",
    "else:\n",
    "    cred_record = results[0]\n",
    "    cred_ex_id = cred_record['credential_exchange_id']\n",
    "    state = cred_record['state']\n",
    "    role = cred_record['role']\n",
    "    attributes = results[0]['credential_proposal_dict']['credential_proposal']['attributes']\n",
    "    print(f\"Credential exchange {cred_ex_id}, role: {role}, state: {state}\")\n",
    "    print(f\"Being offered: {attributes}\")"
   ]
  },
  {
   "cell_type": "code",
   "execution_count": 21,
   "id": "19b12b2b",
   "metadata": {},
   "outputs": [
    {
     "ename": "ClientResponseError",
     "evalue": "400, message='Credential exchange d27b4215-d0e5-4151-9897-12c1c38bcb6a in credential_received state (must be offer_received).', url=URL('http://bob-agent:8051/issue-credential/records/d27b4215-d0e5-4151-9897-12c1c38bcb6a/send-request')",
     "output_type": "error",
     "traceback": [
      "\u001b[0;31m---------------------------------------------------------------------------\u001b[0m",
      "\u001b[0;31mClientResponseError\u001b[0m                       Traceback (most recent call last)",
      "Cell \u001b[0;32mIn[21], line 1\u001b[0m\n\u001b[0;32m----> 1\u001b[0m record \u001b[38;5;241m=\u001b[39m \u001b[38;5;28;01mawait\u001b[39;00m agent_controller\u001b[38;5;241m.\u001b[39missuer\u001b[38;5;241m.\u001b[39msend_request_for_record(cred_ex_id)\n\u001b[1;32m      2\u001b[0m state \u001b[38;5;241m=\u001b[39m record[\u001b[38;5;124m'\u001b[39m\u001b[38;5;124mstate\u001b[39m\u001b[38;5;124m'\u001b[39m]\n\u001b[1;32m      3\u001b[0m role \u001b[38;5;241m=\u001b[39m record[\u001b[38;5;124m'\u001b[39m\u001b[38;5;124mrole\u001b[39m\u001b[38;5;124m'\u001b[39m]\n",
      "File \u001b[0;32m/aries_basic_controller/controllers/issuer.py:78\u001b[0m, in \u001b[0;36mIssuerController.send_request_for_record\u001b[0;34m(self, cred_ex_id)\u001b[0m\n\u001b[1;32m     77\u001b[0m \u001b[38;5;28;01masync\u001b[39;00m \u001b[38;5;28;01mdef\u001b[39;00m \u001b[38;5;21msend_request_for_record\u001b[39m(\u001b[38;5;28mself\u001b[39m, cred_ex_id):\n\u001b[0;32m---> 78\u001b[0m     \u001b[38;5;28;01mreturn\u001b[39;00m \u001b[38;5;28;01mawait\u001b[39;00m \u001b[38;5;28mself\u001b[39m\u001b[38;5;241m.\u001b[39madmin_POST(\u001b[38;5;124mf\u001b[39m\u001b[38;5;124m\"\u001b[39m\u001b[38;5;132;01m{\u001b[39;00m\u001b[38;5;28mself\u001b[39m\u001b[38;5;241m.\u001b[39mbase_url\u001b[38;5;132;01m}\u001b[39;00m\u001b[38;5;124m/records/\u001b[39m\u001b[38;5;132;01m{\u001b[39;00mcred_ex_id\u001b[38;5;132;01m}\u001b[39;00m\u001b[38;5;124m/send-request\u001b[39m\u001b[38;5;124m\"\u001b[39m)\n",
      "File \u001b[0;32m/aries_basic_controller/controllers/base.py:95\u001b[0m, in \u001b[0;36mBaseController.admin_POST\u001b[0;34m(self, path, json_data, text, params, data)\u001b[0m\n\u001b[1;32m     89\u001b[0m \u001b[38;5;28;01mtry\u001b[39;00m:\n\u001b[1;32m     90\u001b[0m     EVENT_LOGGER\u001b[38;5;241m.\u001b[39mdebug(\n\u001b[1;32m     91\u001b[0m         \u001b[38;5;124m\"\u001b[39m\u001b[38;5;124mController POST \u001b[39m\u001b[38;5;132;01m%s\u001b[39;00m\u001b[38;5;124m request to Agent\u001b[39m\u001b[38;5;132;01m%s\u001b[39;00m\u001b[38;5;124m\"\u001b[39m,\n\u001b[1;32m     92\u001b[0m         path,\n\u001b[1;32m     93\u001b[0m         (\u001b[38;5;124m\"\u001b[39m\u001b[38;5;124m with data: \u001b[39m\u001b[38;5;130;01m\\n\u001b[39;00m\u001b[38;5;132;01m{}\u001b[39;00m\u001b[38;5;124m\"\u001b[39m\u001b[38;5;241m.\u001b[39mformat(repr_json(json_data)) \u001b[38;5;28;01mif\u001b[39;00m json_data \u001b[38;5;28;01melse\u001b[39;00m \u001b[38;5;124m\"\u001b[39m\u001b[38;5;124m\"\u001b[39m),\n\u001b[1;32m     94\u001b[0m     )\n\u001b[0;32m---> 95\u001b[0m     response \u001b[38;5;241m=\u001b[39m \u001b[38;5;28;01mawait\u001b[39;00m \u001b[38;5;28mself\u001b[39m\u001b[38;5;241m.\u001b[39madmin_request(\u001b[38;5;124m\"\u001b[39m\u001b[38;5;124mPOST\u001b[39m\u001b[38;5;124m\"\u001b[39m, path, json_data, text, params, data)\n\u001b[1;32m     96\u001b[0m     EVENT_LOGGER\u001b[38;5;241m.\u001b[39mdebug(\n\u001b[1;32m     97\u001b[0m         \u001b[38;5;124m\"\u001b[39m\u001b[38;5;124mResponse from POST \u001b[39m\u001b[38;5;132;01m%s\u001b[39;00m\u001b[38;5;124m received: \u001b[39m\u001b[38;5;130;01m\\n\u001b[39;00m\u001b[38;5;132;01m%s\u001b[39;00m\u001b[38;5;124m\"\u001b[39m,\n\u001b[1;32m     98\u001b[0m         path,\n\u001b[1;32m     99\u001b[0m         repr_json(response),\n\u001b[1;32m    100\u001b[0m     )\n\u001b[1;32m    101\u001b[0m     \u001b[38;5;28;01mreturn\u001b[39;00m response\n",
      "File \u001b[0;32m/aries_basic_controller/controllers/base.py:63\u001b[0m, in \u001b[0;36mBaseController.admin_request\u001b[0;34m(self, method, path, json_data, text, params, data)\u001b[0m\n\u001b[1;32m     59\u001b[0m params \u001b[38;5;241m=\u001b[39m {k: v \u001b[38;5;28;01mfor\u001b[39;00m (k, v) \u001b[38;5;129;01min\u001b[39;00m (params \u001b[38;5;129;01mor\u001b[39;00m {})\u001b[38;5;241m.\u001b[39mitems() \u001b[38;5;28;01mif\u001b[39;00m v \u001b[38;5;129;01mis\u001b[39;00m \u001b[38;5;129;01mnot\u001b[39;00m \u001b[38;5;28;01mNone\u001b[39;00m}\n\u001b[1;32m     60\u001b[0m \u001b[38;5;28;01masync\u001b[39;00m \u001b[38;5;28;01mwith\u001b[39;00m \u001b[38;5;28mself\u001b[39m\u001b[38;5;241m.\u001b[39mclient_session\u001b[38;5;241m.\u001b[39mrequest(\n\u001b[1;32m     61\u001b[0m     method, \u001b[38;5;28mself\u001b[39m\u001b[38;5;241m.\u001b[39madmin_url \u001b[38;5;241m+\u001b[39m path, json\u001b[38;5;241m=\u001b[39mjson_data, params\u001b[38;5;241m=\u001b[39mparams, data\u001b[38;5;241m=\u001b[39mdata\n\u001b[1;32m     62\u001b[0m ) \u001b[38;5;28;01mas\u001b[39;00m resp:\n\u001b[0;32m---> 63\u001b[0m     \u001b[43mresp\u001b[49m\u001b[38;5;241;43m.\u001b[39;49m\u001b[43mraise_for_status\u001b[49m\u001b[43m(\u001b[49m\u001b[43m)\u001b[49m\n\u001b[1;32m     64\u001b[0m     resp_text \u001b[38;5;241m=\u001b[39m \u001b[38;5;28;01mawait\u001b[39;00m resp\u001b[38;5;241m.\u001b[39mtext()\n\u001b[1;32m     65\u001b[0m     \u001b[38;5;28;01mif\u001b[39;00m \u001b[38;5;129;01mnot\u001b[39;00m resp_text \u001b[38;5;129;01mand\u001b[39;00m \u001b[38;5;129;01mnot\u001b[39;00m text:\n",
      "File \u001b[0;32m/opt/conda/lib/python3.10/site-packages/aiohttp/client_reqrep.py:1000\u001b[0m, in \u001b[0;36mClientResponse.raise_for_status\u001b[0;34m(self)\u001b[0m\n\u001b[1;32m    998\u001b[0m \u001b[38;5;28;01massert\u001b[39;00m \u001b[38;5;28mself\u001b[39m\u001b[38;5;241m.\u001b[39mreason \u001b[38;5;129;01mis\u001b[39;00m \u001b[38;5;129;01mnot\u001b[39;00m \u001b[38;5;28;01mNone\u001b[39;00m\n\u001b[1;32m    999\u001b[0m \u001b[38;5;28mself\u001b[39m\u001b[38;5;241m.\u001b[39mrelease()\n\u001b[0;32m-> 1000\u001b[0m \u001b[38;5;28;01mraise\u001b[39;00m ClientResponseError(\n\u001b[1;32m   1001\u001b[0m     \u001b[38;5;28mself\u001b[39m\u001b[38;5;241m.\u001b[39mrequest_info,\n\u001b[1;32m   1002\u001b[0m     \u001b[38;5;28mself\u001b[39m\u001b[38;5;241m.\u001b[39mhistory,\n\u001b[1;32m   1003\u001b[0m     status\u001b[38;5;241m=\u001b[39m\u001b[38;5;28mself\u001b[39m\u001b[38;5;241m.\u001b[39mstatus,\n\u001b[1;32m   1004\u001b[0m     message\u001b[38;5;241m=\u001b[39m\u001b[38;5;28mself\u001b[39m\u001b[38;5;241m.\u001b[39mreason,\n\u001b[1;32m   1005\u001b[0m     headers\u001b[38;5;241m=\u001b[39m\u001b[38;5;28mself\u001b[39m\u001b[38;5;241m.\u001b[39mheaders,\n\u001b[1;32m   1006\u001b[0m )\n",
      "\u001b[0;31mClientResponseError\u001b[0m: 400, message='Credential exchange d27b4215-d0e5-4151-9897-12c1c38bcb6a in credential_received state (must be offer_received).', url=URL('http://bob-agent:8051/issue-credential/records/d27b4215-d0e5-4151-9897-12c1c38bcb6a/send-request')"
     ]
    },
    {
     "name": "stdout",
     "output_type": "stream",
     "text": [
      "Error during POST /issue-credential/records/d27b4215-d0e5-4151-9897-12c1c38bcb6a/send-request: 400, message='Credential exchange d27b4215-d0e5-4151-9897-12c1c38bcb6a in credential_received state (must be offer_received).', url=URL('http://bob-agent:8051/issue-credential/records/d27b4215-d0e5-4151-9897-12c1c38bcb6a/send-request')\n"
     ]
    }
   ],
   "source": [
    "record = await agent_controller.issuer.send_request_for_record(cred_ex_id)\n",
    "state = record['state']\n",
    "role = record['role']\n",
    "print(f\"Credential exchange {cred_ex_id}, role: {role}, state: {state}\")"
   ]
  },
  {
   "cell_type": "markdown",
   "id": "df1d13ca",
   "metadata": {},
   "source": [
    "### switch to DM"
   ]
  },
  {
   "cell_type": "code",
   "execution_count": 22,
   "id": "59a575fc",
   "metadata": {},
   "outputs": [
    {
     "name": "stdout",
     "output_type": "stream",
     "text": [
      "Credential exchange d27b4215-d0e5-4151-9897-12c1c38bcb6a, role: holder, state: credential_acked\n"
     ]
    }
   ],
   "source": [
    "response = await agent_controller.issuer.store_credential(cred_ex_id, \"Credential of Ownership\")\n",
    "state = response['state']\n",
    "role = response['role']\n",
    "print(f\"Credential exchange {cred_ex_id}, role: {role}, state: {state}\")"
   ]
  },
  {
   "cell_type": "markdown",
   "id": "0822f125",
   "metadata": {},
   "source": [
    "## ask proof of ownership from SP"
   ]
  },
  {
   "cell_type": "code",
   "execution_count": 23,
   "id": "c372e474",
   "metadata": {},
   "outputs": [
    {
     "name": "stdout",
     "output_type": "stream",
     "text": [
      "Request proof from SP\n"
     ]
    }
   ],
   "source": [
    "print(\"Request proof from SP\")\n",
    "#Set some variables\n",
    "\n",
    "revocation = False\n",
    "SELF_ATTESTED = True\n",
    "exchange_tracing = False\n",
    "\n",
    "#Enable this to ask for attributes to identity a user\n",
    "req_attrs = [\n",
    "    {\"name\": \"possession\", \"restrictions\": [{\"issuer_did\": dm_did}]},\n",
    "    {\"name\": \"time\", \"restrictions\": [{\"issuer_did\": dm_did}]},\n",
    "]\n",
    "\n",
    "if revocation:\n",
    "    req_attrs.append(\n",
    "        {\n",
    "            \"name\": \"owner\",\n",
    "            \"restrictions\": [{\"issuer_did\": agent.did}],\n",
    "            \"non_revoked\": {\"to\": int(time.time() - 1)},\n",
    "        },\n",
    "    )\n",
    "\n",
    "\n",
    "\n",
    "#Set predicates for Zero Knowledge Proofs\n",
    "req_preds = []\n",
    "\n",
    "indy_proof_request = {\n",
    "    \"name\": \"Proof of Ownership\",\n",
    "    \"version\": \"1.0\",\n",
    "    \"requested_attributes\": {\n",
    "        f\"0_{req_attr['name']}_uuid\":\n",
    "        req_attr for req_attr in req_attrs\n",
    "    },\n",
    "    \"requested_predicates\": {\n",
    "        f\"0_{req_pred['name']}_GE_uuid\":\n",
    "        req_pred for req_pred in req_preds\n",
    "    },\n",
    "}\n",
    "\n",
    "if revocation:\n",
    "    indy_proof_request[\"non_revoked\"] = {\"to\": int(time.time())}\n",
    "\n",
    "#proof_request = indy_proof_request\n",
    "exchange_tracing_id = exchange_tracing\n",
    "proof_request_web_request = {\n",
    "    \"connection_id\": sp_connection,\n",
    "    \"proof_request\": indy_proof_request,\n",
    "    \"trace\": exchange_tracing,\n",
    "}"
   ]
  },
  {
   "cell_type": "code",
   "execution_count": 24,
   "id": "5c9a1932",
   "metadata": {},
   "outputs": [
    {
     "name": "stdout",
     "output_type": "stream",
     "text": [
      "{'trace': False, 'presentation_request': {'name': 'Proof of Ownership', 'version': '1.0', 'requested_attributes': {'0_possession_uuid': {'name': 'possession', 'restrictions': [{'issuer_did': 'None'}]}, '0_time_uuid': {'name': 'time', 'restrictions': [{'issuer_did': 'None'}]}}, 'requested_predicates': {}, 'nonce': '824512507423231212313172'}, 'presentation_request_dict': {'@type': 'did:sov:BzCbsNYhMrjHiqZDTUASHg;spec/present-proof/1.0/request-presentation', '@id': 'f22aecef-9e4c-4022-b311-ed5c73a67276', 'request_presentations~attach': [{'@id': 'libindy-request-presentation-0', 'mime-type': 'application/json', 'data': {'base64': 'eyJuYW1lIjogIlByb29mIG9mIE93bmVyc2hpcCIsICJ2ZXJzaW9uIjogIjEuMCIsICJyZXF1ZXN0ZWRfYXR0cmlidXRlcyI6IHsiMF9wb3NzZXNzaW9uX3V1aWQiOiB7Im5hbWUiOiAicG9zc2Vzc2lvbiIsICJyZXN0cmljdGlvbnMiOiBbeyJpc3N1ZXJfZGlkIjogIk5vbmUifV19LCAiMF90aW1lX3V1aWQiOiB7Im5hbWUiOiAidGltZSIsICJyZXN0cmljdGlvbnMiOiBbeyJpc3N1ZXJfZGlkIjogIk5vbmUifV19fSwgInJlcXVlc3RlZF9wcmVkaWNhdGVzIjoge30sICJub25jZSI6ICI4MjQ1MTI1MDc0MjMyMzEyMTIzMTMxNzIifQ=='}}]}, 'state': 'request_sent', 'connection_id': 'e75ff16d-708f-4f31-9d79-6231d6423177', 'initiator': 'self', 'created_at': '2023-01-03 09:55:59.057791Z', 'auto_present': False, 'presentation_exchange_id': 'e307f92e-e571-4f3e-b322-157f5450f31a', 'updated_at': '2023-01-03 09:55:59.057791Z', 'thread_id': 'f22aecef-9e4c-4022-b311-ed5c73a67276', 'role': 'verifier'}\n",
      "\n",
      "\n",
      "e307f92e-e571-4f3e-b322-157f5450f31a\n"
     ]
    }
   ],
   "source": [
    "response = await agent_controller.proofs.send_request(proof_request_web_request)\n",
    "print(response)\n",
    "presentation_exchange_id = response['presentation_exchange_id']\n",
    "print(\"\\n\")\n",
    "print(presentation_exchange_id)"
   ]
  },
  {
   "cell_type": "markdown",
   "id": "927b8fdb",
   "metadata": {},
   "source": [
    "### switch to SP"
   ]
  },
  {
   "cell_type": "code",
   "execution_count": 34,
   "id": "df07f94d",
   "metadata": {},
   "outputs": [
    {
     "name": "stdout",
     "output_type": "stream",
     "text": [
      "{'auto_present': False, 'created_at': '2023-01-03 06:47:07.801744Z', 'thread_id': '4c0c7b44-6afd-4ef3-b3f1-facab14b608b', 'state': 'verified', 'updated_at': '2023-01-03 06:53:45.700838Z', 'presentation_request': {'name': 'Proof of Ownership', 'version': '1.0', 'requested_attributes': {'0_possession_uuid': {'name': 'possession', 'restrictions': [{'issuer_did': 'PQRXDxdGqQGSZ8z69p4xZP'}]}, '0_time_uuid': {'name': 'time', 'restrictions': [{'issuer_did': 'PQRXDxdGqQGSZ8z69p4xZP'}]}}, 'requested_predicates': {}, 'nonce': '84982767156097137759648'}, 'verified': 'true', 'role': 'verifier', 'presentation_request_dict': {'@type': 'did:sov:BzCbsNYhMrjHiqZDTUASHg;spec/present-proof/1.0/request-presentation', '@id': '4c0c7b44-6afd-4ef3-b3f1-facab14b608b', 'request_presentations~attach': [{'@id': 'libindy-request-presentation-0', 'mime-type': 'application/json', 'data': {'base64': 'eyJuYW1lIjogIlByb29mIG9mIE93bmVyc2hpcCIsICJ2ZXJzaW9uIjogIjEuMCIsICJyZXF1ZXN0ZWRfYXR0cmlidXRlcyI6IHsiMF9wb3NzZXNzaW9uX3V1aWQiOiB7Im5hbWUiOiAicG9zc2Vzc2lvbiIsICJyZXN0cmljdGlvbnMiOiBbeyJpc3N1ZXJfZGlkIjogIlBRUlhEeGRHcVFHU1o4ejY5cDR4WlAifV19LCAiMF90aW1lX3V1aWQiOiB7Im5hbWUiOiAidGltZSIsICJyZXN0cmljdGlvbnMiOiBbeyJpc3N1ZXJfZGlkIjogIlBRUlhEeGRHcVFHU1o4ejY5cDR4WlAifV19fSwgInJlcXVlc3RlZF9wcmVkaWNhdGVzIjoge30sICJub25jZSI6ICI4NDk4Mjc2NzE1NjA5NzEzNzc1OTY0OCJ9'}}]}, 'trace': False, 'initiator': 'self', 'presentation': {'proof': {'proofs': [{'primary_proof': {'eq_proof': {'revealed_attrs': {'possession': '14346002616261423285990950419275147645475068884382384349932040365790330023719', 'time': '49877962901940461283957341209906430548424852941388192104851037378149845680243'}, 'a_prime': '28575395726803784489509548117653148574170953588337373772127842094306148101180633028985316504899829041962739903997909541941362934193568776097798135300928609739929742768941889082066411568210903642646217353985292979377500568094160487641011328500401014108204508494300584181167224832850440767217121685510010760505191391048192628762417538223644074599230668837005186710113065435477883988370980596203996532560733277890018283725348826923045260888625535344291842317537364322441459081696273210783861137933512257034975031801604027475293066220939714000420767991030275172481153010935239504205821067835426692074466120668751489701603', 'e': '38497983370485989305216024341437916142596247024072529537681307251663865207747390252103542020018720275788375027629621418194433817005986987', 'v': '657557278051364633607478191919256460347989117425174601074423263196854245449470045799460827940326378582511437949140288748919094122029846449838205947187375938118614634881043094606281596745728250721069811550141329166545151890711128431237366699672166058456861872279753192007313616247273349841512175733125450920787265943931396967829317666566495332272195577049751951834599588111933696897019756308262761234190242101328379634908042261671665727240375961826780986815428553171647568845196829822720703996641488560131858811209862003205042231947150634194538374875744807728393837825519902919182950591876874982433884300470409163719086563917893968442402696671446307625661870889681054995277599396829230221138309188482527208049074160054595223634569054488393760532736934893465075927627625003527856172973637106552647303019308197694247849810700023036765866539492148400172047751069090668104590168948480679880708900936634180219474812711769700032', 'm': {'master_secret': '4488726857256510186166219977927155493942072510024740611298168494789742639929083711289080837392730725859870872463444983514722169032943980171362201425755681818512832564237835358319'}, 'm2': '3892909529973031860744231238783759759970722468309061012045049593581526600755115131609876678917132319559367759414179823012455579255416144103298026041090671041296826583210247609994'}, 'ge_proofs': []}, 'non_revoc_proof': None}], 'aggregated_proof': {'c_hash': '99104728970856093037797663334717841931552208238219516654267625341184390355615', 'c_list': [[226, 92, 89, 63, 132, 215, 27, 225, 230, 183, 150, 42, 169, 41, 100, 249, 185, 3, 239, 154, 67, 108, 136, 182, 48, 133, 228, 73, 188, 236, 158, 64, 51, 188, 145, 147, 130, 142, 125, 104, 11, 112, 26, 92, 181, 247, 238, 116, 170, 158, 49, 187, 66, 109, 31, 52, 88, 76, 46, 49, 80, 133, 109, 147, 164, 65, 134, 145, 15, 113, 79, 194, 249, 88, 57, 138, 134, 250, 210, 188, 42, 164, 219, 247, 167, 213, 240, 62, 219, 146, 88, 93, 175, 133, 156, 103, 248, 216, 129, 246, 28, 185, 120, 250, 94, 194, 88, 167, 57, 249, 191, 42, 188, 239, 238, 45, 219, 62, 251, 141, 154, 89, 226, 112, 184, 77, 26, 125, 212, 213, 223, 140, 97, 94, 247, 81, 215, 217, 186, 221, 31, 67, 85, 68, 234, 132, 67, 2, 113, 198, 154, 141, 87, 167, 165, 113, 6, 77, 111, 206, 95, 207, 198, 90, 145, 11, 204, 199, 38, 227, 55, 98, 26, 53, 166, 154, 242, 178, 242, 12, 138, 157, 147, 78, 140, 221, 215, 28, 180, 204, 242, 187, 58, 107, 26, 81, 174, 89, 159, 199, 103, 133, 234, 217, 39, 248, 184, 163, 15, 182, 250, 101, 174, 214, 119, 196, 86, 239, 120, 153, 1, 255, 135, 7, 173, 130, 70, 99, 45, 39, 133, 45, 27, 205, 157, 229, 98, 40, 211, 149, 39, 87, 140, 181, 117, 140, 11, 90, 74, 170, 82, 254, 38, 80, 150, 227]]}}, 'requested_proof': {'revealed_attrs': {'0_possession_uuid': {'sub_proof_index': 0, 'raw': 'gZj39Y8JGQ5GVQp2y6zFH', 'encoded': '14346002616261423285990950419275147645475068884382384349932040365790330023719'}, '0_time_uuid': {'sub_proof_index': 0, 'raw': '01-03-2023, 06:22:15', 'encoded': '49877962901940461283957341209906430548424852941388192104851037378149845680243'}}, 'self_attested_attrs': {}, 'unrevealed_attrs': {}, 'predicates': {}}, 'identifiers': [{'schema_id': 'PQRXDxdGqQGSZ8z69p4xZP:2:possession schema:0.0.1', 'cred_def_id': 'PQRXDxdGqQGSZ8z69p4xZP:3:CL:39:default', 'rev_reg_id': None, 'timestamp': None}]}, 'connection_id': '73437da8-d87e-46b7-aa1e-c1ccc86fccf7', 'presentation_exchange_id': 'e14cc5f4-534c-46d5-98c0-64e78078d73c'}\n",
      "Handle present proof\n",
      "Role verifier, Exchange e14cc5f4-534c-46d5-98c0-64e78078d73c in state verified\n"
     ]
    }
   ],
   "source": [
    "verify = await agent_controller.proofs.verify_presentation(presentation_exchange_id)\n",
    "print(verify)"
   ]
  },
  {
   "cell_type": "code",
   "execution_count": 35,
   "id": "bff0026f",
   "metadata": {},
   "outputs": [
    {
     "name": "stdout",
     "output_type": "stream",
     "text": [
      "verified\n",
      "True\n"
     ]
    }
   ],
   "source": [
    "print(verify['state'])\n",
    "print(verify['state'] == 'verified')"
   ]
  },
  {
   "cell_type": "code",
   "execution_count": 36,
   "id": "555a10bb",
   "metadata": {},
   "outputs": [
    {
     "name": "stdout",
     "output_type": "stream",
     "text": [
      "0_possession_uuid : gZj39Y8JGQ5GVQp2y6zFH\n",
      "0_time_uuid : 01-03-2023, 06:22:15\n"
     ]
    }
   ],
   "source": [
    "for (name, val) in verify['presentation']['requested_proof']['revealed_attrs'].items():\n",
    "    ## This is the actual data that you want. It's a little hidden\n",
    "    print(name + \" : \" + val['raw'])"
   ]
  },
  {
   "cell_type": "code",
   "execution_count": 75,
   "id": "de0ffbeb",
   "metadata": {},
   "outputs": [
    {
     "name": "stdout",
     "output_type": "stream",
     "text": [
      "None\n"
     ]
    }
   ],
   "source": [
    "response = await agent_controller.terminate()\n",
    "print(response)"
   ]
  },
  {
   "cell_type": "code",
   "execution_count": null,
   "id": "54217638",
   "metadata": {},
   "outputs": [],
   "source": []
  }
 ],
 "metadata": {
  "kernelspec": {
   "display_name": "Python 3 (ipykernel)",
   "language": "python",
   "name": "python3"
  },
  "language_info": {
   "codemirror_mode": {
    "name": "ipython",
    "version": 3
   },
   "file_extension": ".py",
   "mimetype": "text/x-python",
   "name": "python",
   "nbconvert_exporter": "python",
   "pygments_lexer": "ipython3",
   "version": "3.10.8"
  }
 },
 "nbformat": 4,
 "nbformat_minor": 5
}
