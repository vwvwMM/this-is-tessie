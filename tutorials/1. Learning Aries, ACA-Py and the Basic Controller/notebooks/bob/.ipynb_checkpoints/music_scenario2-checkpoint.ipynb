{
  "cells": [
    {
      "cell_type": "code",
      "execution_count": 34,
      "id": "729ac1cc",
      "metadata": {},
      "outputs": [],
      "source": [
        "%autoawait\n",
        "import time\n",
        "import asyncio\n",
        "from aries_basic_controller.aries_controller import AriesAgentController\n",
        "    \n",
        "WEBHOOK_HOST = \"0.0.0.0\"\n",
        "WEBHOOK_PORT = 8052\n",
        "WEBHOOK_BASE = \"\"\n",
        "ADMIN_URL = \"http://bob-agent:8051\"\n",
        "\n",
        "API_KEY = \"bob_api_123456789\"\n",
        "\n",
        "# Based on the aca-py agent you wish to control\n",
        "agent_controller = AriesAgentController(admin_url=ADMIN_URL, api_key=API_KEY)"
      ]
    },
    {
      "cell_type": "code",
      "execution_count": 35,
      "id": "344e608e",
      "metadata": {},
      "outputs": [],
      "source": [
        "agent_controller.init_webhook_server(webhook_host=WEBHOOK_HOST,\n",
        "                                     webhook_port=WEBHOOK_PORT,\n",
        "                                     webhook_base=WEBHOOK_BASE)"
      ]
    },
    {
      "cell_type": "markdown",
      "id": "a8c340fa",
      "metadata": {},
      "source": [
        "# connect 3 agents"
      ]
    },
    {
      "cell_type": "markdown",
      "id": "f5dbc9b6",
      "metadata": {},
      "source": [
        "## 6. connect to SP"
      ]
    },
    {
      "cell_type": "code",
      "execution_count": 3,
      "id": "a6e0143e",
      "metadata": {},
      "outputs": [
        {
          "name": "stdout",
          "output_type": "stream",
          "text": [
            "Subscribing too: connections\n"
          ]
        }
      ],
      "source": [
        "\n",
        "loop = asyncio.get_event_loop()\n",
        "loop.create_task(agent_controller.listen_webhooks())\n",
        "\n",
        "def connection_handler(payload):\n",
        "    print(\"Connection Handler Called\")\n",
        "    connection_id = payload[\"connection_id\"]\n",
        "    state = payload[\"state\"]\n",
        "    print(f\"Connection {connection_id} in State {state}\")\n",
        "    \n",
        "connection_listener = {\n",
        "    \"handler\": connection_handler,\n",
        "    \"topic\": \"connections\"\n",
        "}\n",
        "\n",
        "agent_controller.register_listeners([connection_listener], defaults=True)"
      ]
    },
    {
      "cell_type": "code",
      "execution_count": 4,
      "id": "eb088b9c",
      "metadata": {},
      "outputs": [],
      "source": [
        "#Paste in invitation from Carol agent\n",
        "invitation = {'@type': 'did:sov:BzCbsNYhMrjHiqZDTUASHg;spec/connections/1.0/invitation', '@id': '41081439-7db1-4060-ace9-4a2a618a941b', 'recipientKeys': ['CKwsvo1gh2VjE6BfChqfi171X6AzMee11pRqbnCQQtfe'], 'label': 'Carol', 'serviceEndpoint': 'http://192.168.65.3:8080'}"
      ]
    },
    {
      "cell_type": "code",
      "execution_count": 5,
      "id": "c0375e27",
      "metadata": {},
      "outputs": [
        {
          "name": "stdout",
          "output_type": "stream",
          "text": [
            "Connection Handler Called\n",
            "Connection efcd4a91-1920-4b4a-8cd9-c2506c800e69 in State invitation\n",
            "Connection Handler Called\n",
            "Connection efcd4a91-1920-4b4a-8cd9-c2506c800e69 in State request\n",
            "Connection {'rfc23_state': 'request-sent', 'state': 'request', 'their_label': 'Carol', 'their_role': 'inviter', 'invitation_key': 'CKwsvo1gh2VjE6BfChqfi171X6AzMee11pRqbnCQQtfe', 'invitation_mode': 'once', 'created_at': '2023-01-03 12:19:48.915018Z', 'request_id': 'b59c43cf-d023-47a2-8a44-b570d41789c1', 'connection_id': 'efcd4a91-1920-4b4a-8cd9-c2506c800e69', 'routing_state': 'none', 'updated_at': '2023-01-03 12:19:48.956711Z', 'accept': 'manual', 'my_did': 'AfY42mQdAawA3CMpusYpLN'}\n",
            "Connection Handler Called\n",
            "Connection efcd4a91-1920-4b4a-8cd9-c2506c800e69 in State response\n",
            "Connection Handler Called\n",
            "Connection efcd4a91-1920-4b4a-8cd9-c2506c800e69 in State active\n"
          ]
        }
      ],
      "source": [
        "# Receive Invitation\n",
        "response = await agent_controller.connections.accept_connection(invitation)\n",
        "# Print out accepted Invite and Carol's connection ID\n",
        "print(\"Connection\", response)\n",
        "sp_connection = response[\"connection_id\"]\n"
      ]
    },
    {
      "cell_type": "code",
      "execution_count": 5,
      "id": "aa7bc013",
      "metadata": {},
      "outputs": [],
      "source": [
        "# sp_connection = '73437da8-d87e-46b7-aa1e-c1ccc86fccf7'"
      ]
    },
    {
      "cell_type": "markdown",
      "id": "c7be5f25",
      "metadata": {},
      "source": [
        "### 7. switch to SP"
      ]
    },
    {
      "cell_type": "markdown",
      "id": "c83717e6",
      "metadata": {},
      "source": [
        "### 8."
      ]
    },
    {
      "cell_type": "code",
      "execution_count": 6,
      "id": "a9e1152a",
      "metadata": {},
      "outputs": [
        {
          "name": "stdout",
          "output_type": "stream",
          "text": [
            "SP AGENT CONNECTION\n",
            "{'rfc23_state': 'completed', 'state': 'active', 'their_label': 'Carol', 'their_role': 'inviter', 'invitation_key': 'CKwsvo1gh2VjE6BfChqfi171X6AzMee11pRqbnCQQtfe', 'invitation_mode': 'once', 'created_at': '2023-01-03 12:19:48.915018Z', 'request_id': 'b59c43cf-d023-47a2-8a44-b570d41789c1', 'their_did': '9YrzDVXwE1e9UNk7rgfCET', 'connection_id': 'efcd4a91-1920-4b4a-8cd9-c2506c800e69', 'routing_state': 'none', 'updated_at': '2023-01-03 12:19:54.398607Z', 'accept': 'manual', 'my_did': 'AfY42mQdAawA3CMpusYpLN'}\n",
            "State: active\n"
          ]
        }
      ],
      "source": [
        "# Print connection list\n",
        "connection = await agent_controller.connections.get_connection(sp_connection)\n",
        "print(\"SP AGENT CONNECTION\")\n",
        "print(connection)\n",
        "print(\"State:\", connection[\"state\"])"
      ]
    },
    {
      "cell_type": "code",
      "execution_count": 7,
      "id": "fc3a8ea8",
      "metadata": {},
      "outputs": [
        {
          "name": "stdout",
          "output_type": "stream",
          "text": [
            "{'results': [{'rfc23_state': 'completed', 'state': 'active', 'their_label': 'Carol', 'their_role': 'inviter', 'invitation_key': 'CKwsvo1gh2VjE6BfChqfi171X6AzMee11pRqbnCQQtfe', 'invitation_mode': 'once', 'created_at': '2023-01-03 12:19:48.915018Z', 'request_id': 'b59c43cf-d023-47a2-8a44-b570d41789c1', 'their_did': '9YrzDVXwE1e9UNk7rgfCET', 'connection_id': 'efcd4a91-1920-4b4a-8cd9-c2506c800e69', 'routing_state': 'none', 'updated_at': '2023-01-03 12:19:54.398607Z', 'accept': 'manual', 'my_did': 'AfY42mQdAawA3CMpusYpLN'}]}\n"
          ]
        }
      ],
      "source": [
        "response = await agent_controller.connections.get_connections()\n",
        "print(response)"
      ]
    },
    {
      "cell_type": "markdown",
      "id": "1d8c9c2f",
      "metadata": {},
      "source": [
        "## 9. switch to DM"
      ]
    },
    {
      "cell_type": "markdown",
      "id": "a1d31a12",
      "metadata": {},
      "source": [
        "## 10. connect to DM"
      ]
    },
    {
      "cell_type": "code",
      "execution_count": 8,
      "id": "bde6e366",
      "metadata": {},
      "outputs": [],
      "source": [
        "#Paste in invitation from Carol agent\n",
        "invitation = {'@type': 'did:sov:BzCbsNYhMrjHiqZDTUASHg;spec/connections/1.0/invitation', '@id': 'e3a2ca2c-d327-4335-8771-0f36013c848d', 'recipientKeys': ['DHLmYoHNjhVwRLkwf9spNbjmmoAhHthE4D2ADG33ajpc'], 'serviceEndpoint': 'http://192.168.65.3:8020', 'label': 'Alice'}"
      ]
    },
    {
      "cell_type": "code",
      "execution_count": 9,
      "id": "67e9c224",
      "metadata": {},
      "outputs": [
        {
          "name": "stdout",
          "output_type": "stream",
          "text": [
            "Connection Handler Called\n",
            "Connection 0e1e3a68-0dab-4ee5-9c9d-2541460bf90e in State invitation\n",
            "Connection Handler Called\n",
            "Connection 0e1e3a68-0dab-4ee5-9c9d-2541460bf90e in State request\n",
            "Connection {'rfc23_state': 'request-sent', 'state': 'request', 'their_label': 'Alice', 'their_role': 'inviter', 'invitation_key': 'DHLmYoHNjhVwRLkwf9spNbjmmoAhHthE4D2ADG33ajpc', 'invitation_mode': 'once', 'created_at': '2023-01-03 12:20:23.486086Z', 'request_id': '5e150f7c-32d9-4aae-9661-ccfd0000fc98', 'connection_id': '0e1e3a68-0dab-4ee5-9c9d-2541460bf90e', 'routing_state': 'none', 'updated_at': '2023-01-03 12:20:23.529720Z', 'accept': 'manual', 'my_did': '7dsM89cArCQEM8LHWsE6WU'}\n",
            "Connection Handler Called\n",
            "Connection 0e1e3a68-0dab-4ee5-9c9d-2541460bf90e in State response\n",
            "Connection Handler Called\n",
            "Connection 0e1e3a68-0dab-4ee5-9c9d-2541460bf90e in State active\n"
          ]
        }
      ],
      "source": [
        "# Receive Invitation\n",
        "response = await agent_controller.connections.accept_connection(invitation)\n",
        "# Print out accepted Invite and Carol's connection ID\n",
        "print(\"Connection\", response)\n",
        "dm_connection = response[\"connection_id\"]\n",
        "print(dm_connection)"
      ]
    },
    {
      "cell_type": "markdown",
      "id": "378bb48e",
      "metadata": {},
      "source": [
        "### 11. switch to DM"
      ]
    },
    {
      "cell_type": "markdown",
      "id": "95587a7f",
      "metadata": {},
      "source": [
        "### 12."
      ]
    },
    {
      "cell_type": "code",
      "execution_count": 10,
      "id": "a5a2f296",
      "metadata": {},
      "outputs": [
        {
          "name": "stdout",
          "output_type": "stream",
          "text": [
            "{'rfc23_state': 'completed', 'state': 'active', 'their_label': 'Alice', 'their_role': 'inviter', 'invitation_key': 'DHLmYoHNjhVwRLkwf9spNbjmmoAhHthE4D2ADG33ajpc', 'invitation_mode': 'once', 'created_at': '2023-01-03 12:20:23.486086Z', 'request_id': '5e150f7c-32d9-4aae-9661-ccfd0000fc98', 'their_did': '9PPzLD1Nhkbqeoq419ZWVC', 'connection_id': '0e1e3a68-0dab-4ee5-9c9d-2541460bf90e', 'routing_state': 'none', 'updated_at': '2023-01-03 12:20:28.219246Z', 'accept': 'manual', 'my_did': '7dsM89cArCQEM8LHWsE6WU'}\n",
            "Is Active? active\n"
          ]
        }
      ],
      "source": [
        "connection = await agent_controller.connections.get_connection(dm_connection)\n",
        "print(connection)\n",
        "print(\"Is Active?\", connection[\"state\"])"
      ]
    },
    {
      "cell_type": "markdown",
      "id": "4fc0e1bf",
      "metadata": {},
      "source": [
        "# exchange DID with DM"
      ]
    },
    {
      "cell_type": "markdown",
      "id": "7bcce820",
      "metadata": {},
      "source": [
        "## 2."
      ]
    },
    {
      "cell_type": "code",
      "execution_count": 11,
      "id": "0d78ba08",
      "metadata": {},
      "outputs": [],
      "source": [
        "my_did = await agent_controller.wallet.get_public_did()\n",
        "my_did = my_did['result']['did']\n",
        "print(\"my DID\", my_did)\n",
        "dm_did = 'None'"
      ]
    },
    {
      "cell_type": "code",
      "execution_count": 12,
      "id": "0c548e6c",
      "metadata": {},
      "outputs": [
        {
          "name": "stdout",
          "output_type": "stream",
          "text": [
            "Subscribing too: basicmessages\n"
          ]
        },
        {
          "name": "stderr",
          "output_type": "stream",
          "text": [
            "WARNING:aries_webhook_server:Listening webhooks failed! OSError(98, \"error while attempting to bind on address ('0.0.0.0', 8052): address already in use\") occurred.\n"
          ]
        }
      ],
      "source": [
        "def messages_handler(payload):\n",
        "    global dm_did\n",
        "    connection_id = payload[\"connection_id\"]\n",
        "    print(\"Handle message\", payload, connection_id)\n",
        "    dm_did = payload['content']\n",
        "    print('DM DID', dm_did)\n",
        "\n",
        "\n",
        "message_listener = {\n",
        "    \"handler\": messages_handler,\n",
        "    \"topic\": \"basicmessages\"\n",
        "}\n",
        "\n",
        "loop = asyncio.get_event_loop()\n",
        "loop.create_task(agent_controller.listen_webhooks())\n",
        "\n",
        "agent_controller.register_listeners([message_listener], defaults=True)"
      ]
    },
    {
      "cell_type": "code",
      "execution_count": 106,
      "id": "97b8bd33",
      "metadata": {},
      "outputs": [],
      "source": [
        "# await agent_controller.messaging.trust_ping(dm_connection, \"hello, world!\")"
      ]
    },
    {
      "cell_type": "code",
      "execution_count": 13,
      "id": "236f2404",
      "metadata": {},
      "outputs": [
        {
          "name": "stdout",
          "output_type": "stream",
          "text": [
            "{}\n",
            "Handle message {'connection_id': '0e1e3a68-0dab-4ee5-9c9d-2541460bf90e', 'message_id': '4bb10be8-0203-4a54-bc4f-e1375d64fd0a', 'content': 'PQRXDxdGqQGSZ8z69p4xZP', 'state': 'received'} 0e1e3a68-0dab-4ee5-9c9d-2541460bf90e\n",
            "DM DID PQRXDxdGqQGSZ8z69p4xZP\n"
          ]
        }
      ],
      "source": [
        "response = await agent_controller.messaging.send_message(dm_connection, 'music_'+my_did)\n",
        "print(response)"
      ]
    },
    {
      "cell_type": "code",
      "execution_count": 14,
      "id": "c98ec3b8",
      "metadata": {},
      "outputs": [
        {
          "name": "stdout",
          "output_type": "stream",
          "text": [
            "PQRXDxdGqQGSZ8z69p4xZP\n"
          ]
        }
      ],
      "source": [
        "print(dm_did)"
      ]
    },
    {
      "cell_type": "markdown",
      "id": "3d8c99f8",
      "metadata": {},
      "source": [
        "# verify MUSIC"
      ]
    },
    {
      "cell_type": "markdown",
      "id": "8a255d36",
      "metadata": {},
      "source": [
        "## 2. present proof that itself belongs to DM to SP"
      ]
    },
    {
      "cell_type": "code",
      "execution_count": 15,
      "id": "62c9ffe5",
      "metadata": {},
      "outputs": [
        {
          "name": "stdout",
          "output_type": "stream",
          "text": [
            "Subscribing too: present_proof\n"
          ]
        },
        {
          "name": "stderr",
          "output_type": "stream",
          "text": [
            "WARNING:aries_webhook_server:Listening webhooks failed! OSError(98, \"error while attempting to bind on address ('0.0.0.0', 8052): address already in use\") occurred.\n"
          ]
        },
        {
          "name": "stdout",
          "output_type": "stream",
          "text": [
            "Handle present proof\n",
            "Role prover, Exchange 2daa2b0e-0147-4f4b-afab-1616f5d3c17b in state request_received\n"
          ]
        }
      ],
      "source": [
        "loop = asyncio.get_event_loop()\n",
        "loop.create_task(agent_controller.listen_webhooks())\n",
        "\n",
        "def proof_handler(payload):\n",
        "    print(\"Handle present proof\")\n",
        "    role = payload[\"role\"]\n",
        "    pres_ex_id = payload[\"presentation_exchange_id\"]\n",
        "    state = payload[\"state\"]\n",
        "    print(f\"Role {role}, Exchange {pres_ex_id} in state {state}\")\n",
        "          \n",
        "proof_listener = {\n",
        "    \"topic\": \"present_proof\",\n",
        "    \"handler\": proof_handler\n",
        "}\n",
        "agent_controller.register_listeners([proof_listener], defaults=True)"
      ]
    },
    {
      "cell_type": "markdown",
      "id": "9c54f594",
      "metadata": {},
      "source": [
        "### 3. switch to SP"
      ]
    },
    {
      "cell_type": "markdown",
      "id": "9556c01d",
      "metadata": {},
      "source": [
        "## 4."
      ]
    },
    {
      "cell_type": "code",
      "execution_count": 16,
      "id": "bb42cb20",
      "metadata": {},
      "outputs": [
        {
          "name": "stdout",
          "output_type": "stream",
          "text": [
            "[{'thread_id': 'e5c0ec43-084a-4671-b255-92484d67c147', 'trace': False, 'presentation_exchange_id': '2daa2b0e-0147-4f4b-afab-1616f5d3c17b', 'state': 'request_received', 'presentation_request': {'name': 'Proof of Ownership of DM', 'version': '1.0', 'requested_attributes': {'0_author_uuid': {'name': 'author', 'restrictions': [{'issuer_did': 'PQRXDxdGqQGSZ8z69p4xZP'}]}, '0_origin_uuid': {'name': 'origin', 'restrictions': [{'issuer_did': 'PQRXDxdGqQGSZ8z69p4xZP'}]}, '0_owner_uuid': {'name': 'owner', 'restrictions': [{'issuer_did': 'PQRXDxdGqQGSZ8z69p4xZP'}]}, '0_time_uuid': {'name': 'time', 'restrictions': [{'issuer_did': 'PQRXDxdGqQGSZ8z69p4xZP'}]}}, 'requested_predicates': {}, 'nonce': '638743137943876179010726'}, 'initiator': 'external', 'created_at': '2023-01-03 12:28:55.274417Z', 'role': 'prover', 'connection_id': 'efcd4a91-1920-4b4a-8cd9-c2506c800e69', 'updated_at': '2023-01-03 12:28:55.274417Z', 'presentation_request_dict': {'@type': 'did:sov:BzCbsNYhMrjHiqZDTUASHg;spec/present-proof/1.0/request-presentation', '@id': 'e5c0ec43-084a-4671-b255-92484d67c147', 'request_presentations~attach': [{'@id': 'libindy-request-presentation-0', 'mime-type': 'application/json', 'data': {'base64': 'eyJuYW1lIjogIlByb29mIG9mIE93bmVyc2hpcCBvZiBETSIsICJ2ZXJzaW9uIjogIjEuMCIsICJyZXF1ZXN0ZWRfYXR0cmlidXRlcyI6IHsiMF9hdXRob3JfdXVpZCI6IHsibmFtZSI6ICJhdXRob3IiLCAicmVzdHJpY3Rpb25zIjogW3siaXNzdWVyX2RpZCI6ICJQUVJYRHhkR3FRR1NaOHo2OXA0eFpQIn1dfSwgIjBfb3JpZ2luX3V1aWQiOiB7Im5hbWUiOiAib3JpZ2luIiwgInJlc3RyaWN0aW9ucyI6IFt7Imlzc3Vlcl9kaWQiOiAiUFFSWER4ZEdxUUdTWjh6NjlwNHhaUCJ9XX0sICIwX293bmVyX3V1aWQiOiB7Im5hbWUiOiAib3duZXIiLCAicmVzdHJpY3Rpb25zIjogW3siaXNzdWVyX2RpZCI6ICJQUVJYRHhkR3FRR1NaOHo2OXA0eFpQIn1dfSwgIjBfdGltZV91dWlkIjogeyJuYW1lIjogInRpbWUiLCAicmVzdHJpY3Rpb25zIjogW3siaXNzdWVyX2RpZCI6ICJQUVJYRHhkR3FRR1NaOHo2OXA0eFpQIn1dfX0sICJyZXF1ZXN0ZWRfcHJlZGljYXRlcyI6IHt9LCAibm9uY2UiOiAiNjM4NzQzMTM3OTQzODc2MTc5MDEwNzI2In0='}}]}}]\n",
            "\n",
            "\n",
            "Presentation Exchange ID\n",
            "\n",
            "2daa2b0e-0147-4f4b-afab-1616f5d3c17b\n",
            "Presentation Request Object\n",
            "\n",
            "{'name': 'Proof of Ownership of DM', 'version': '1.0', 'requested_attributes': {'0_author_uuid': {'name': 'author', 'restrictions': [{'issuer_did': 'PQRXDxdGqQGSZ8z69p4xZP'}]}, '0_origin_uuid': {'name': 'origin', 'restrictions': [{'issuer_did': 'PQRXDxdGqQGSZ8z69p4xZP'}]}, '0_owner_uuid': {'name': 'owner', 'restrictions': [{'issuer_did': 'PQRXDxdGqQGSZ8z69p4xZP'}]}, '0_time_uuid': {'name': 'time', 'restrictions': [{'issuer_did': 'PQRXDxdGqQGSZ8z69p4xZP'}]}}, 'requested_predicates': {}, 'nonce': '638743137943876179010726'}\n",
            "Requested Attributes\n",
            "\n",
            "{'0_author_uuid': {'name': 'author', 'restrictions': [{'issuer_did': 'PQRXDxdGqQGSZ8z69p4xZP'}]}, '0_origin_uuid': {'name': 'origin', 'restrictions': [{'issuer_did': 'PQRXDxdGqQGSZ8z69p4xZP'}]}, '0_owner_uuid': {'name': 'owner', 'restrictions': [{'issuer_did': 'PQRXDxdGqQGSZ8z69p4xZP'}]}, '0_time_uuid': {'name': 'time', 'restrictions': [{'issuer_did': 'PQRXDxdGqQGSZ8z69p4xZP'}]}}\n",
            "Requested Predicates\n",
            "\n",
            "{}\n"
          ]
        }
      ],
      "source": [
        "response = await agent_controller.proofs.get_records()\n",
        "print((response['results']))\n",
        "\n",
        "print('\\n')\n",
        "\n",
        "state = response['results'][0][\"state\"]\n",
        "presentation_exchange_id = response['results'][0]['presentation_exchange_id']\n",
        "presentation_request = response['results'][0]['presentation_request']\n",
        "\n",
        "print('Presentation Exchange ID\\n')\n",
        "print(response['results'][0]['presentation_exchange_id'])\n",
        "print('Presentation Request Object\\n')\n",
        "print(response['results'][0]['presentation_request'])\n",
        "print('Requested Attributes\\n')\n",
        "print(response['results'][0]['presentation_request']['requested_attributes'])\n",
        "requested_attribs = response['results'][0]['presentation_request']['requested_attributes']\n",
        "print('Requested Predicates\\n')\n",
        "print(response['results'][0]['presentation_request']['requested_predicates'])\n",
        "requested_predicates = response['results'][0]['presentation_request']['requested_predicates']"
      ]
    },
    {
      "cell_type": "code",
      "execution_count": 17,
      "id": "c8028c2f",
      "metadata": {},
      "outputs": [
        {
          "name": "stdout",
          "output_type": "stream",
          "text": [
            "Received Request -> Query for credentials in the wallet that satisfy the proof request\n",
            "[{'cred_info': {'referent': 'My OM Credential', 'attrs': {'time': '01-03-2023, 12:12:33', 'origin': 'PQRXDxdGqQGSZ8z69p4xZP', 'version': 'v1', 'author': 'PQRXDxdGqQGSZ8z69p4xZP', 'owner': 'PQRXDxdGqQGSZ8z69p4xZP', 'name': 'balabababa music'}, 'schema_id': 'PQRXDxdGqQGSZ8z69p4xZP:2:music_schema:0.0.1', 'cred_def_id': 'PQRXDxdGqQGSZ8z69p4xZP:3:CL:12:default', 'rev_reg_id': None, 'cred_rev_id': None}, 'interval': None, 'presentation_referents': ['0_time_uuid', '0_owner_uuid', '0_author_uuid', '0_origin_uuid']}]\n",
            "\n",
            "Generate the proof\n",
            "{'requested_predicates': {}, 'requested_attributes': {'0_author_uuid': {'cred_id': 'My OM Credential', 'revealed': True}, '0_origin_uuid': {'cred_id': 'My OM Credential', 'revealed': True}, '0_owner_uuid': {'cred_id': 'My OM Credential', 'revealed': True}, '0_time_uuid': {'cred_id': 'My OM Credential', 'revealed': True}}, 'self_attested_attributes': {}}\n",
            "\n",
            "XXX\n",
            "{}\n",
            "{'0_author_uuid': {'cred_id': 'My OM Credential', 'revealed': True}, '0_origin_uuid': {'cred_id': 'My OM Credential', 'revealed': True}, '0_owner_uuid': {'cred_id': 'My OM Credential', 'revealed': True}, '0_time_uuid': {'cred_id': 'My OM Credential', 'revealed': True}}\n",
            "{}\n"
          ]
        }
      ],
      "source": [
        "if state == \"request_received\":\n",
        "    print(\n",
        "    \"Received Request -> Query for credentials in the wallet that satisfy the proof request\")\n",
        "\n",
        "# include self-attested attributes (not included in credentials)\n",
        "credentials_by_reft = {}\n",
        "revealed = {}\n",
        "self_attested = {}\n",
        "predicates = {}\n",
        "\n",
        "# select credentials to provide for the proof\n",
        "credentials = await agent_controller.proofs.get_presentation_credentials(presentation_exchange_id)\n",
        "print(credentials)\n",
        "\n",
        "if credentials:\n",
        "    for row in sorted(\n",
        "        credentials,\n",
        "        key=lambda c: dict(c[\"cred_info\"][\"attrs\"]),\n",
        "        reverse=True,\n",
        "    ):\n",
        "        for referent in row[\"presentation_referents\"]:\n",
        "            if referent not in credentials_by_reft:\n",
        "                credentials_by_reft[referent] = row\n",
        "\n",
        "for referent in presentation_request[\"requested_attributes\"]:\n",
        "    if referent in credentials_by_reft:\n",
        "        revealed[referent] = {\n",
        "            \"cred_id\": credentials_by_reft[referent][\"cred_info\"][\n",
        "                \"referent\"\n",
        "            ],\n",
        "            \"revealed\": True,\n",
        "        }\n",
        "    else:\n",
        "        self_attested[referent] = \"South Africa\"\n",
        "\n",
        "for referent in presentation_request[\"requested_predicates\"]:\n",
        "    if referent in credentials_by_reft:\n",
        "        predicates[referent] = {\n",
        "            \"cred_id\": credentials_by_reft[referent][\"cred_info\"][\n",
        "                \"referent\"\n",
        "            ]\n",
        "        }\n",
        "\n",
        "print(\"\\nGenerate the proof\")\n",
        "proof = {\n",
        "    \"requested_predicates\": predicates,\n",
        "    \"requested_attributes\": revealed,\n",
        "    \"self_attested_attributes\": self_attested,\n",
        "}\n",
        "print(proof)\n",
        "print(\"\\nXXX\")\n",
        "print(predicates)\n",
        "print(revealed)\n",
        "print(self_attested)"
      ]
    },
    {
      "cell_type": "code",
      "execution_count": 18,
      "id": "6bc2fff4",
      "metadata": {},
      "outputs": [
        {
          "name": "stdout",
          "output_type": "stream",
          "text": [
            "Handle present proof\n",
            "Role prover, Exchange 2daa2b0e-0147-4f4b-afab-1616f5d3c17b in state presentation_sent\n",
            "{'thread_id': 'e5c0ec43-084a-4671-b255-92484d67c147', 'trace': False, 'presentation_exchange_id': '2daa2b0e-0147-4f4b-afab-1616f5d3c17b', 'state': 'presentation_sent', 'presentation': {'proof': {'proofs': [{'primary_proof': {'eq_proof': {'revealed_attrs': {'author': '43137799088118443800136745895388480458686925529355594539512585697577946794869', 'origin': '43137799088118443800136745895388480458686925529355594539512585697577946794869', 'owner': '43137799088118443800136745895388480458686925529355594539512585697577946794869', 'time': '48587442510936264572122896078570777346685050877026407568254355401140050668337'}, 'a_prime': '39700088227138820639938142343604558504689216581900386307338493371958280425413760432103127835042927539622704300397767275855423961813039464230980175080517433598295296239289918610836096532356069098151851299668724172821843189948169693854307927025764100495947248658957173511715400335632203954902933052916118568754171716578112322073394521434647861542881116714456666037340620895590101696142705885527891491522024609028956621583356088749065585297188156472299732454045102206344610764636325025082675338781472657281165726123756725597238416548393054215185410504591900354460604654282535429685400280825609091034423870194896124369910', 'e': '31482963574801001825270552908272031782969077158585632147948782357497807900576378297287110338936706017130193692161567489078131540263705955', 'v': '920769922257532723116839549950554749156254999035395059754613452896117534197911911204777498437745534189987882529814717870222082895338818462598975264577473992381056371678665723649577934963584071848280321784194704254960732683539076429908738044258670407751218397501533792339228756464441592934339341152738447581449117304418535281663132662120925471711141055061961092819618945204448593300848850381775812058554270836235624374941045828978467341774575140813950517397478202396195776950354528838947282044125424032203351509375441166209201136372543093741024227108409284213097310566692383581529143220432951626780655175960396100697344724482535826459425706934744055837556463810575301630458227250488005054553744316610992339775046393040003069301349415055510735878044159606808862794797508188206904268841292843084196245131120274961762241548932937220221995001054932950215776740437584321263899473349693489366612903051219059109007373772041185210', 'm': {'version': '7737099588614131093630783233200224965796647770975504724529822032702771043093127696996436499286836609451850570190141247238867135164372874341167160529006677020304442910643988863948', 'name': '6177854666223381575012294378126933529118329695799677098458652283370291214704925003012742887135500546511201240978790120275005188071578074934704783886805478159450571328860866100773', 'master_secret': '14239907062458382827836543540298972939871333783779682349076962749045793812699860229889504131000521926724124233010480174516221090519537987586249610088958109350222797810567613843083'}, 'm2': '12145232623310052231770983323168988656343778816449501357009768199053718523235601779009590221546746782556442963252176302901211090049582501976489650612883115302866395561602979461344'}, 'ge_proofs': []}, 'non_revoc_proof': None}], 'aggregated_proof': {'c_hash': '40322118902404850248209753440645152226004787735587296182289702969001426228742', 'c_list': [[1, 58, 124, 59, 18, 170, 143, 66, 64, 1, 237, 109, 151, 4, 54, 211, 178, 31, 193, 226, 128, 5, 28, 159, 161, 174, 153, 42, 126, 199, 22, 15, 0, 139, 53, 112, 197, 55, 78, 155, 30, 13, 245, 138, 8, 135, 153, 183, 36, 6, 69, 113, 137, 108, 208, 126, 72, 223, 10, 150, 65, 175, 156, 234, 45, 138, 67, 121, 189, 203, 43, 251, 63, 219, 93, 67, 26, 148, 191, 101, 86, 55, 101, 169, 206, 144, 63, 90, 28, 16, 97, 170, 19, 37, 178, 247, 101, 94, 91, 136, 169, 141, 218, 195, 225, 26, 172, 242, 95, 10, 68, 254, 232, 53, 191, 126, 31, 114, 171, 198, 94, 144, 219, 14, 163, 234, 15, 253, 200, 58, 174, 189, 95, 164, 54, 165, 216, 141, 58, 102, 116, 224, 61, 6, 58, 76, 9, 236, 27, 194, 154, 190, 69, 107, 239, 218, 153, 94, 202, 94, 217, 37, 161, 253, 151, 61, 208, 83, 81, 199, 5, 166, 254, 197, 4, 195, 190, 92, 133, 26, 88, 218, 225, 206, 113, 109, 80, 198, 195, 79, 131, 187, 197, 4, 57, 251, 236, 226, 166, 165, 214, 111, 70, 166, 116, 123, 217, 44, 123, 152, 148, 247, 240, 218, 7, 225, 192, 178, 21, 161, 111, 149, 242, 150, 89, 238, 96, 128, 49, 193, 36, 239, 147, 104, 75, 193, 163, 60, 201, 47, 103, 200, 40, 68, 210, 239, 70, 1, 16, 224, 23, 42, 123, 79, 85, 219, 246]]}}, 'requested_proof': {'revealed_attrs': {'0_author_uuid': {'sub_proof_index': 0, 'raw': 'PQRXDxdGqQGSZ8z69p4xZP', 'encoded': '43137799088118443800136745895388480458686925529355594539512585697577946794869'}, '0_time_uuid': {'sub_proof_index': 0, 'raw': '01-03-2023, 12:12:33', 'encoded': '48587442510936264572122896078570777346685050877026407568254355401140050668337'}, '0_owner_uuid': {'sub_proof_index': 0, 'raw': 'PQRXDxdGqQGSZ8z69p4xZP', 'encoded': '43137799088118443800136745895388480458686925529355594539512585697577946794869'}, '0_origin_uuid': {'sub_proof_index': 0, 'raw': 'PQRXDxdGqQGSZ8z69p4xZP', 'encoded': '43137799088118443800136745895388480458686925529355594539512585697577946794869'}}, 'self_attested_attrs': {}, 'unrevealed_attrs': {}, 'predicates': {}}, 'identifiers': [{'schema_id': 'PQRXDxdGqQGSZ8z69p4xZP:2:music_schema:0.0.1', 'cred_def_id': 'PQRXDxdGqQGSZ8z69p4xZP:3:CL:12:default', 'rev_reg_id': None, 'timestamp': None}]}, 'presentation_request': {'name': 'Proof of Ownership of DM', 'version': '1.0', 'requested_attributes': {'0_author_uuid': {'name': 'author', 'restrictions': [{'issuer_did': 'PQRXDxdGqQGSZ8z69p4xZP'}]}, '0_origin_uuid': {'name': 'origin', 'restrictions': [{'issuer_did': 'PQRXDxdGqQGSZ8z69p4xZP'}]}, '0_owner_uuid': {'name': 'owner', 'restrictions': [{'issuer_did': 'PQRXDxdGqQGSZ8z69p4xZP'}]}, '0_time_uuid': {'name': 'time', 'restrictions': [{'issuer_did': 'PQRXDxdGqQGSZ8z69p4xZP'}]}}, 'requested_predicates': {}, 'nonce': '638743137943876179010726'}, 'initiator': 'external', 'created_at': '2023-01-03 12:28:55.274417Z', 'role': 'prover', 'connection_id': 'efcd4a91-1920-4b4a-8cd9-c2506c800e69', 'updated_at': '2023-01-03 12:29:04.835966Z', 'presentation_request_dict': {'@type': 'did:sov:BzCbsNYhMrjHiqZDTUASHg;spec/present-proof/1.0/request-presentation', '@id': 'e5c0ec43-084a-4671-b255-92484d67c147', 'request_presentations~attach': [{'@id': 'libindy-request-presentation-0', 'mime-type': 'application/json', 'data': {'base64': 'eyJuYW1lIjogIlByb29mIG9mIE93bmVyc2hpcCBvZiBETSIsICJ2ZXJzaW9uIjogIjEuMCIsICJyZXF1ZXN0ZWRfYXR0cmlidXRlcyI6IHsiMF9hdXRob3JfdXVpZCI6IHsibmFtZSI6ICJhdXRob3IiLCAicmVzdHJpY3Rpb25zIjogW3siaXNzdWVyX2RpZCI6ICJQUVJYRHhkR3FRR1NaOHo2OXA0eFpQIn1dfSwgIjBfb3JpZ2luX3V1aWQiOiB7Im5hbWUiOiAib3JpZ2luIiwgInJlc3RyaWN0aW9ucyI6IFt7Imlzc3Vlcl9kaWQiOiAiUFFSWER4ZEdxUUdTWjh6NjlwNHhaUCJ9XX0sICIwX293bmVyX3V1aWQiOiB7Im5hbWUiOiAib3duZXIiLCAicmVzdHJpY3Rpb25zIjogW3siaXNzdWVyX2RpZCI6ICJQUVJYRHhkR3FRR1NaOHo2OXA0eFpQIn1dfSwgIjBfdGltZV91dWlkIjogeyJuYW1lIjogInRpbWUiLCAicmVzdHJpY3Rpb25zIjogW3siaXNzdWVyX2RpZCI6ICJQUVJYRHhkR3FRR1NaOHo2OXA0eFpQIn1dfX0sICJyZXF1ZXN0ZWRfcHJlZGljYXRlcyI6IHt9LCAibm9uY2UiOiAiNjM4NzQzMTM3OTQzODc2MTc5MDEwNzI2In0='}}]}}\n",
            "Handle present proof\n",
            "Role prover, Exchange 2daa2b0e-0147-4f4b-afab-1616f5d3c17b in state presentation_acked\n"
          ]
        }
      ],
      "source": [
        "response = await agent_controller.proofs.send_presentation(presentation_exchange_id, proof)\n",
        "print(response)"
      ]
    },
    {
      "cell_type": "markdown",
      "id": "7de2662b",
      "metadata": {},
      "source": [
        "## 5. switch to SP"
      ]
    },
    {
      "cell_type": "markdown",
      "id": "23a575b9",
      "metadata": {},
      "source": [
        "# transfer possession"
      ]
    },
    {
      "cell_type": "markdown",
      "id": "fc61eab9",
      "metadata": {},
      "source": [
        "## 6. save new VC"
      ]
    },
    {
      "cell_type": "code",
      "execution_count": 19,
      "id": "72393382",
      "metadata": {},
      "outputs": [
        {
          "name": "stdout",
          "output_type": "stream",
          "text": [
            "Subscribing too: issue_credential\n"
          ]
        },
        {
          "name": "stderr",
          "output_type": "stream",
          "text": [
            "WARNING:aries_webhook_server:Listening webhooks failed! OSError(98, \"error while attempting to bind on address ('0.0.0.0', 8052): address already in use\") occurred.\n"
          ]
        }
      ],
      "source": [
        "loop = asyncio.get_event_loop()\n",
        "loop.create_task(agent_controller.listen_webhooks())\n",
        "def cred_handler(payload):\n",
        "    print(\"Handle Credentials\")\n",
        "    exchange_id = payload['credential_exchange_id']\n",
        "    state = payload['state']\n",
        "    role = payload['role']\n",
        "    attributes = payload['credential_proposal_dict']['credential_proposal']['attributes']\n",
        "    print(f\"Credential exchange {exchange_id}, role: {role}, state: {state}\")\n",
        "    print(f\"Attributes: {attributes}\")\n",
        "    \n",
        "cred_listener = {\n",
        "    \"topic\": \"issue_credential\",\n",
        "    \"handler\": cred_handler\n",
        "}\n",
        "agent_controller.register_listeners([cred_listener], defaults=True)"
      ]
    },
    {
      "cell_type": "code",
      "execution_count": 24,
      "id": "757208f2",
      "metadata": {},
      "outputs": [
        {
          "name": "stdout",
          "output_type": "stream",
          "text": [
            "Credential exchange d7cf7b27-1048-4d64-8262-25d9b4b348ac, role: holder, state: offer_received\n",
            "Being offered: [{'name': 'author', 'value': 'PQRXDxdGqQGSZ8z69p4xZP'}, {'name': 'origin', 'value': 'PQRXDxdGqQGSZ8z69p4xZP'}, {'name': 'owner', 'value': '8HWQruWXrv8s6BBLXm53B'}, {'name': 'time', 'value': '01-03-2023, 12:31:55'}, {'name': 'version', 'value': 'v1'}, {'name': 'name', 'value': 'balabababa music'}]\n"
          ]
        }
      ],
      "source": [
        "response = await agent_controller.issuer.get_records()\n",
        "results = response[\"results\"]\n",
        "if len(results) == 0:\n",
        "    print(\"You need to first send a credential from the issuer notebook (Alice)\")\n",
        "else:\n",
        "    cred_record = results[1]\n",
        "    cred_ex_id = cred_record['credential_exchange_id']\n",
        "    state = cred_record['state']\n",
        "    role = cred_record['role']\n",
        "    attributes = results[1]['credential_proposal_dict']['credential_proposal']['attributes']\n",
        "    print(f\"Credential exchange {cred_ex_id}, role: {role}, state: {state}\")\n",
        "    print(f\"Being offered: {attributes}\")"
      ]
    },
    {
      "cell_type": "code",
      "execution_count": 25,
      "id": "7a259ecc",
      "metadata": {},
      "outputs": [
        {
          "name": "stdout",
          "output_type": "stream",
          "text": [
            "Credential exchange d7cf7b27-1048-4d64-8262-25d9b4b348ac, role: holder, state: request_sent\n",
            "Handle Credentials\n",
            "Credential exchange d7cf7b27-1048-4d64-8262-25d9b4b348ac, role: holder, state: request_sent\n",
            "Attributes: [{'name': 'author', 'value': 'PQRXDxdGqQGSZ8z69p4xZP'}, {'name': 'origin', 'value': 'PQRXDxdGqQGSZ8z69p4xZP'}, {'name': 'owner', 'value': '8HWQruWXrv8s6BBLXm53B'}, {'name': 'time', 'value': '01-03-2023, 12:31:55'}, {'name': 'version', 'value': 'v1'}, {'name': 'name', 'value': 'balabababa music'}]\n",
            "Handle Credentials\n",
            "Credential exchange d7cf7b27-1048-4d64-8262-25d9b4b348ac, role: holder, state: credential_received\n",
            "Attributes: [{'name': 'author', 'value': 'PQRXDxdGqQGSZ8z69p4xZP'}, {'name': 'origin', 'value': 'PQRXDxdGqQGSZ8z69p4xZP'}, {'name': 'owner', 'value': '8HWQruWXrv8s6BBLXm53B'}, {'name': 'time', 'value': '01-03-2023, 12:31:55'}, {'name': 'version', 'value': 'v1'}, {'name': 'name', 'value': 'balabababa music'}]\n"
          ]
        }
      ],
      "source": [
        "record = await agent_controller.issuer.send_request_for_record(cred_ex_id)\n",
        "state = record['state']\n",
        "role = record['role']\n",
        "print(f\"Credential exchange {cred_ex_id}, role: {role}, state: {state}\")"
      ]
    },
    {
      "cell_type": "code",
      "execution_count": 26,
      "id": "35bd5504",
      "metadata": {},
      "outputs": [
        {
          "name": "stdout",
          "output_type": "stream",
          "text": [
            "Handle Credentials\n",
            "Credential exchange d7cf7b27-1048-4d64-8262-25d9b4b348ac, role: holder, state: credential_acked\n",
            "Attributes: [{'name': 'author', 'value': 'PQRXDxdGqQGSZ8z69p4xZP'}, {'name': 'origin', 'value': 'PQRXDxdGqQGSZ8z69p4xZP'}, {'name': 'owner', 'value': '8HWQruWXrv8s6BBLXm53B'}, {'name': 'time', 'value': '01-03-2023, 12:31:55'}, {'name': 'version', 'value': 'v1'}, {'name': 'name', 'value': 'balabababa music'}]\n",
            "Credential exchange d7cf7b27-1048-4d64-8262-25d9b4b348ac, role: holder, state: credential_acked\n"
          ]
        }
      ],
      "source": [
        "response = await agent_controller.issuer.store_credential(cred_ex_id, \"Credential of Ownership\")\n",
        "state = response['state']\n",
        "role = response['role']\n",
        "print(f\"Credential exchange {cred_ex_id}, role: {role}, state: {state}\")"
      ]
    },
    {
      "cell_type": "code",
      "execution_count": 79,
      "id": "4d1c80d5",
      "metadata": {},
      "outputs": [
        {
          "name": "stdout",
          "output_type": "stream",
          "text": [
            "dict_keys(['thread_id', 'trace', 'initiator', 'role', 'credential_offer', 'connection_id', 'credential_exchange_id', 'updated_at', 'auto_remove', 'auto_issue', 'credential_proposal_dict', 'state', 'credential_definition_id', 'created_at', 'auto_offer', 'schema_id'])\n"
          ]
        }
      ],
      "source": [
        "records = await agent_controller.issuer.get_records()\n",
        "print(records['results'][1].keys())"
      ]
    },
    {
      "cell_type": "code",
      "execution_count": 80,
      "id": "3536dfa8",
      "metadata": {},
      "outputs": [
        {
          "name": "stdout",
          "output_type": "stream",
          "text": [
            "2023-01-03 12:13:19\n",
            "2023-01-03 12:32:43\n",
            "2023-01-03 12:33:57\n",
            "2023-01-03 12:33:39\n",
            "latest time 2023-01-03 12:33:57\n",
            "2023-01-03 12:13:19\n",
            "2023-01-03 12:32:43\n",
            "2023-01-03 12:33:57\n",
            "2023-01-03 12:33:39\n",
            "[{'thread_id': '8a3a34ed-cf0b-4853-a66c-40f17f7f9e81', 'trace': True, 'initiator': 'external', 'role': 'holder', 'credential_offer': {'schema_id': 'PQRXDxdGqQGSZ8z69p4xZP:2:music_schema:0.0.1', 'cred_def_id': 'PQRXDxdGqQGSZ8z69p4xZP:3:CL:12:default', 'key_correctness_proof': {'c': '101634142341750034749566624785814263449691984998703964587301163772954262280484', 'xz_cap': '736970995140092429165283233225492079842401468755263968334325947186811456245617591823460313068236668697616260734912028751808494051057150799200569170366992905537393282331342652778890927232468506804821756239313451432344986825064139582849968841894449787305150807171692718506968009408389657583426273153158828969395554346595221797825454768805525203091303799380951785297407990288125013882304196258435847412082051486113037245400000778866072359211145065293514002868474030946759377459632373812206720027670006913168132307281676294995309053054292499615576278240651392257860373110031732375913836863638315895401341857663998226395715697420561736694329249897503831357583872986937417301698637536083518402901514', 'xr_cap': [['name', '1247588960984508984513510095777870974934521576016938173405118428880925160828645194509265470924077106550250357986684799618593235213285536230451468695667900536499888705823676982259633450735361484998834163310486863371442866114346548440142940810003934519351696157136977334519468463296287049623934127337177191050739207424260139106253633151912780975491455673376302904974131057571037829505199496388748414852426852686166288592493515165788285531834273986956317252372150721019305434068280597581288096554093612716116510483158084102516948542087732008698165921335729666111438153699860057526073787987838189119152000132570745254635138206763146071450921028749511197872815683217189905732396287056128481171550579'], ['origin', '889687679057227007717249277184510918750476712975571824871324451799960653048674098535331185071608007992449152795771365252579269889811247010575381232292156545616165151240783060351144793741329706322811957950933119767058326627869705513720360305670324831236238458067742594939647312504852772838519960861588490909094737529625912201685861111849951679049997779537205901454798112633087278105606361842449772951765275564035478316795600274983106639084397883604269985056656527248932294586452896080107580309968949307438831166385358268679450507710854617330136846882106936136822188250346446471184324047587572746688072737748852740865839986112228656590025757816605447665518654930677789417104221493857758156640694'], ['version', '1152755916914702231453411498322252217591042311924161165837967580424039998675780988946390323299893677722377382744286723008219620535925764995317547081330112532639864908922098133438304748360653824597861156268423635858943832965731497718416647744591150624695730600863696987381156500407926623498839249644866041068022623477290156891008226250375945451695838773156534404644610757276133040193295046685308166184236551237279851544243140116024727011932197995527929368841397540667206868086396918181925976671698664069970939157222507734596297545188319338206397476796864575886397732577347415085647162347785080532556375006206384909373604380501000660615918268453690386969960678766052367753681660557688878532212948'], ['author', '281309550432233183938649537841725199607144749754550505115695261174202208468649209326658060884438721025101613704485511091098915687720410262526691906066713967336500871261082513567755232279415975116301859481798776249402927003411487086616859776770046795225579786666479047133566740544836899148643999550551551705218039906051890945006049276854801771163586573052405663334635787197460769328664963940874903624379151357752102468707175453241407548970638721140272191645761801885379335595500985360341452642923274136214492850225872329282815493241211413498547505336067877664456529387317306036850238330952989430682095264076359105561138175674738356220333272053245420244283059783133205535240698743695744606490608'], ['owner', '294999249710860933013824087389241999328550143667390873148899826545392472236716201741061927619854186923004623144207694900584786545968540832727217636441293477065819596306905846810545402650824407288896062534281992413868024528035452693171858719604881516053068067007937033515464346857583232445902567911881124572554415578491951783307396035837635323079392469585374615333441702095539176227620107302503319154046475148770127301639805595300367166430505890623674092799190834354304492402619561033224396843451966602044089092464881343181791144724237586635599382140971282552955375653762017254893097730278050072891455084481037627933192217884850848924031355108523559099043089326878988182160241609536768486754592'], ['time', '1183118408873689589796731056014342549264114117872166106199656748605011657093630183254563690029625834072587223432034721791392040834956427971658676521295370983093191790563624220458935199032404596970960547066062310784012661489719792700080527019352504735433713419453650511967343500657916829243775363374508845523731247398432362845687994811995344169791340669393273692702334249118704835994019666571353571907906080807115895295166098451726632777392482065290981707632632109851056119297728500103217632330368484072013268267874704539104513794579651287164222084362028577347302088236561723408294638126743540285656464567002305512193735563545885629320148994643211629858181396423491566754737543054942959120059132'], ['master_secret', '1017646923547383438629612450584108152409362650127883953246682940431007866138409270892479281462568621428211465570211068296220834097636616887038866070337616089174427174844774410329555749031182026814017286144829611594528207901465395212119637211618444806316967929090806547849955157771598279958120507567133646777411025475542211746534170586485507674266560339960579182677047856788039836482243332464541307770851451296352670916509027001652670993949092453194492998083875778113857028238977199801600459415532235086851729466516993237056293166186410544626968333833175224719208553064400850559261772603693695015038724779289055375414812320316853169627995164438745975079510080447680051441962653551062060718472072']]}, 'nonce': '130954174168526775906344'}, 'connection_id': '0e1e3a68-0dab-4ee5-9c9d-2541460bf90e', 'credential_exchange_id': '970de5a8-33d2-4d28-a41d-b8be0b903e34', 'updated_at': '2023-01-03 12:33:58.218301Z', 'auto_remove': True, 'auto_issue': False, 'credential_proposal_dict': {'@type': 'did:sov:BzCbsNYhMrjHiqZDTUASHg;spec/issue-credential/1.0/propose-credential', '@id': '535c446f-fd83-41f6-970b-8df26328a9ba', 'credential_proposal': {'@type': 'did:sov:BzCbsNYhMrjHiqZDTUASHg;spec/issue-credential/1.0/credential-preview', 'attributes': [{'name': 'author', 'value': 'PQRXDxdGqQGSZ8z69p4xZP'}, {'name': 'origin', 'value': 'PQRXDxdGqQGSZ8z69p4xZP'}, {'name': 'owner', 'value': '8HWQruWXrv8s6BBLXm53B'}, {'name': 'time', 'value': '01-03-2023, 12:33:57'}, {'name': 'version', 'value': 'v1'}, {'name': 'name', 'value': 'balabababa music'}]}, 'cred_def_id': 'PQRXDxdGqQGSZ8z69p4xZP:3:CL:12:default', 'comment': 'create automated credential exchange', 'schema_id': 'PQRXDxdGqQGSZ8z69p4xZP:2:music_schema:0.0.1'}, 'state': 'offer_received', 'credential_definition_id': 'PQRXDxdGqQGSZ8z69p4xZP:3:CL:12:default', 'created_at': '2023-01-03 12:33:58.218301Z', 'auto_offer': False, 'schema_id': 'PQRXDxdGqQGSZ8z69p4xZP:2:music_schema:0.0.1'}]\n"
          ]
        }
      ],
      "source": [
        "import datetime\n",
        "\n",
        "for i in range(len(records['results'])):\n",
        "    record = records['results'][i]['credential_proposal_dict']['credential_proposal']['attributes']\n",
        "    time = [attr['value'] for attr in record if attr['name']=='time']\n",
        "    time = time[0]\n",
        "    time = datetime.datetime.strptime(time, '%m-%d-%Y, %H:%M:%S')\n",
        "    print(time)\n",
        "    if i == 0 or time > latest:\n",
        "        latest = time\n",
        "\n",
        "print('latest time', latest)        \n",
        "        \n",
        "for i in range(len(records['results'])):\n",
        "    record = records['results'][i]['credential_proposal_dict']['credential_proposal']['attributes']\n",
        "    time = [attr['value'] for attr in record if attr['name']=='time']\n",
        "    time = time[0]\n",
        "    time = datetime.datetime.strptime(time, '%m-%d-%Y, %H:%M:%S')\n",
        "    if time < latest:\n",
        "        cred_ex_id = records['results'][i]['credential_exchange_id']\n",
        "        response = await agent_controller.issuer.remove_record(cred_ex_id)\n",
        "\n",
        "records = await agent_controller.issuer.get_records()\n"
      ]
    },
    {
      "cell_type": "code",
      "execution_count": 81,
      "id": "6762eb33",
      "metadata": {},
      "outputs": [
        {
          "name": "stdout",
          "output_type": "stream",
          "text": [
            "1\n"
          ]
        }
      ],
      "source": [
        "print(len(records['results']))"
      ]
    },
    {
      "cell_type": "markdown",
      "id": "7bd93066",
      "metadata": {},
      "source": [
        "## 7. switch to DM"
      ]
    },
    {
      "cell_type": "markdown",
      "id": "0814852a",
      "metadata": {},
      "source": [
        "## 12. ask proof of ownership from SP"
      ]
    },
    {
      "cell_type": "code",
      "execution_count": 27,
      "id": "bef0787b",
      "metadata": {},
      "outputs": [],
      "source": [
        "print(\"Request proof from SP\")\n",
        "#Set some variables\n",
        "\n",
        "revocation = False\n",
        "SELF_ATTESTED = True\n",
        "exchange_tracing = False\n",
        "\n",
        "#Enable this to ask for attributes to identity a user\n",
        "req_attrs = [\n",
        "    {\"name\": \"possession\", \"restrictions\": [{\"issuer_did\": dm_did}]},\n",
        "    {\"name\": \"time\", \"restrictions\": [{\"issuer_did\": dm_did}]},\n",
        "]\n",
        "\n",
        "if revocation:\n",
        "    req_attrs.append(\n",
        "        {\n",
        "            \"name\": \"owner\",\n",
        "            \"restrictions\": [{\"issuer_did\": agent.did}],\n",
        "            \"non_revoked\": {\"to\": int(time.time() - 1)},\n",
        "        },\n",
        "    )\n",
        "\n",
        "\n",
        "\n",
        "#Set predicates for Zero Knowledge Proofs\n",
        "req_preds = []\n",
        "\n",
        "indy_proof_request = {\n",
        "    \"name\": \"Proof of Ownership\",\n",
        "    \"version\": \"1.0\",\n",
        "    \"requested_attributes\": {\n",
        "        f\"0_{req_attr['name']}_uuid\":\n",
        "        req_attr for req_attr in req_attrs\n",
        "    },\n",
        "    \"requested_predicates\": {\n",
        "        f\"0_{req_pred['name']}_GE_uuid\":\n",
        "        req_pred for req_pred in req_preds\n",
        "    },\n",
        "}\n",
        "\n",
        "if revocation:\n",
        "    indy_proof_request[\"non_revoked\"] = {\"to\": int(time.time())}\n",
        "\n",
        "#proof_request = indy_proof_request\n",
        "exchange_tracing_id = exchange_tracing\n",
        "proof_request_web_request = {\n",
        "    \"connection_id\": sp_connection,\n",
        "    \"proof_request\": indy_proof_request,\n",
        "    \"trace\": exchange_tracing,\n",
        "}"
      ]
    },
    {
      "cell_type": "code",
      "execution_count": 28,
      "id": "0499855f",
      "metadata": {},
      "outputs": [
        {
          "name": "stdout",
          "output_type": "stream",
          "text": [
            "{'thread_id': 'e8791044-eccd-4f6c-b1fa-ce46fb7955d7', 'trace': False, 'presentation_exchange_id': '486c45a1-9107-4113-bc7c-230bb490f1c8', 'state': 'request_sent', 'auto_present': False, 'presentation_request': {'name': 'Proof of Ownership', 'version': '1.0', 'requested_attributes': {'0_possession_uuid': {'name': 'possession', 'restrictions': [{'issuer_did': 'PQRXDxdGqQGSZ8z69p4xZP'}]}, '0_time_uuid': {'name': 'time', 'restrictions': [{'issuer_did': 'PQRXDxdGqQGSZ8z69p4xZP'}]}}, 'requested_predicates': {}, 'nonce': '1172692218852922603579014'}, 'initiator': 'self', 'created_at': '2023-01-03 12:36:33.444498Z', 'role': 'verifier', 'connection_id': 'efcd4a91-1920-4b4a-8cd9-c2506c800e69', 'updated_at': '2023-01-03 12:36:33.444498Z', 'presentation_request_dict': {'@type': 'did:sov:BzCbsNYhMrjHiqZDTUASHg;spec/present-proof/1.0/request-presentation', '@id': 'e8791044-eccd-4f6c-b1fa-ce46fb7955d7', 'request_presentations~attach': [{'@id': 'libindy-request-presentation-0', 'mime-type': 'application/json', 'data': {'base64': 'eyJuYW1lIjogIlByb29mIG9mIE93bmVyc2hpcCIsICJ2ZXJzaW9uIjogIjEuMCIsICJyZXF1ZXN0ZWRfYXR0cmlidXRlcyI6IHsiMF9wb3NzZXNzaW9uX3V1aWQiOiB7Im5hbWUiOiAicG9zc2Vzc2lvbiIsICJyZXN0cmljdGlvbnMiOiBbeyJpc3N1ZXJfZGlkIjogIlBRUlhEeGRHcVFHU1o4ejY5cDR4WlAifV19LCAiMF90aW1lX3V1aWQiOiB7Im5hbWUiOiAidGltZSIsICJyZXN0cmljdGlvbnMiOiBbeyJpc3N1ZXJfZGlkIjogIlBRUlhEeGRHcVFHU1o4ejY5cDR4WlAifV19fSwgInJlcXVlc3RlZF9wcmVkaWNhdGVzIjoge30sICJub25jZSI6ICIxMTcyNjkyMjE4ODUyOTIyNjAzNTc5MDE0In0='}}]}}\n",
            "\n",
            "\n",
            "486c45a1-9107-4113-bc7c-230bb490f1c8\n",
            "Handle present proof\n",
            "Role verifier, Exchange 486c45a1-9107-4113-bc7c-230bb490f1c8 in state request_sent\n",
            "Handle present proof\n",
            "Role verifier, Exchange 486c45a1-9107-4113-bc7c-230bb490f1c8 in state presentation_received\n"
          ]
        }
      ],
      "source": [
        "response = await agent_controller.proofs.send_request(proof_request_web_request)\n",
        "print(response)\n",
        "presentation_exchange_id = response['presentation_exchange_id']\n",
        "print(\"\\n\")\n",
        "print(presentation_exchange_id)"
      ]
    },
    {
      "cell_type": "markdown",
      "id": "d288cc31",
      "metadata": {},
      "source": [
        "## 13. switch to SP"
      ]
    },
    {
      "cell_type": "markdown",
      "id": "98c228c1",
      "metadata": {},
      "source": [
        "## 14."
      ]
    },
    {
      "cell_type": "code",
      "execution_count": 29,
      "id": "bb73513c",
      "metadata": {},
      "outputs": [
        {
          "name": "stdout",
          "output_type": "stream",
          "text": [
            "{'thread_id': 'e8791044-eccd-4f6c-b1fa-ce46fb7955d7', 'trace': False, 'presentation_exchange_id': '486c45a1-9107-4113-bc7c-230bb490f1c8', 'state': 'verified', 'presentation': {'proof': {'proofs': [{'primary_proof': {'eq_proof': {'revealed_attrs': {'possession': '102987336249554097029535212322581322789799900648198034993379397001115665086549', 'time': '15154610127789307180073374407497684466430857047417102119930354925405544503067'}, 'a_prime': '97211340361338065332607246249739079878607492338692247649532440119352738758506962319073636367013769083097892415350654944340048857953693873584579049305900468033867582306045465991508788972122920878188254054442304044089583257015052890046132020475084342480255393188191272681146217515369841716953555182284886228654761659151785145096006966644823019850156339064853346743400605570117166129911697334360248127144930417384276812240819049347924827494989112128027754627052849497672023500278047405882704049834674916646274143852920764407677916437480128739025484030930263899052634665826529838829128433248151895924598469616479996860055', 'e': '144719741136662325411028339906276762580080949431044450198878672056756696809347993173550606021802092639674570828911465294465741400279499448', 'v': '311167115760126478266098423731362034039198907450245133071533227711079716852567071731624480469357555129353709966475558260595433905050118405218050069816646157520252194358057813573319181296476320495751785474459216990790131877472546756081593151913580743782069408746367161068838715401418333483733715147934473338731855890965322285711850896712017325705793180623227546301037105848984646344275666244992167661895259269174225071389943900315484196589570545201835851976940135898399133738168622745703489906270093626581314272387063350970811991767596862677069346173470331700560476282394722091834493642209336906242252244574859502043549715847228909280528049903392902781469859936842309638273611677021547104128903592610808121160796161183550975896462044810631659212899421201499344005399347741595798662085261522607996261454862800202391545500638811555276726870362077766412953524464464272642129642448608738725528823053817471252991976540394030193', 'm': {'master_secret': '10842281562312904818059210842621157067633172988962337113527512442475312392637264456705007720005862110780746510984925273368545689150481858344906813776593228487074736190395443484194'}, 'm2': '15757183251391998425983718158930319518985914277524236820316069213953205023353573723996235638401581988041675559042934256754372594454846935007340005041177166047748523197533052604629'}, 'ge_proofs': []}, 'non_revoc_proof': None}], 'aggregated_proof': {'c_hash': '38820832753860950059169303777002836293936066705974776381413134616722190013025', 'c_list': [[3, 2, 15, 232, 248, 245, 95, 49, 72, 85, 165, 179, 156, 210, 120, 8, 211, 247, 229, 54, 154, 115, 0, 143, 188, 212, 97, 175, 141, 37, 83, 23, 152, 119, 71, 173, 89, 129, 16, 70, 193, 192, 114, 139, 213, 201, 12, 147, 138, 94, 244, 46, 30, 90, 81, 84, 97, 112, 54, 146, 90, 94, 118, 22, 0, 226, 194, 19, 152, 46, 31, 171, 236, 54, 82, 206, 76, 94, 114, 178, 180, 21, 159, 228, 248, 146, 164, 18, 121, 19, 84, 139, 38, 104, 48, 5, 237, 36, 245, 239, 24, 96, 204, 130, 9, 118, 24, 14, 130, 63, 106, 166, 3, 156, 19, 151, 65, 81, 181, 125, 162, 213, 97, 27, 147, 195, 251, 80, 129, 215, 183, 212, 197, 69, 111, 219, 121, 180, 51, 172, 140, 196, 80, 203, 213, 81, 61, 167, 118, 230, 5, 102, 100, 169, 155, 170, 224, 62, 5, 214, 41, 158, 166, 17, 43, 235, 219, 13, 29, 28, 220, 83, 47, 69, 84, 168, 244, 2, 122, 101, 142, 27, 215, 47, 132, 204, 62, 9, 118, 140, 122, 252, 233, 178, 153, 21, 241, 30, 69, 209, 152, 7, 186, 149, 92, 10, 253, 248, 1, 38, 8, 218, 193, 71, 117, 95, 42, 124, 81, 206, 34, 68, 194, 176, 184, 156, 188, 196, 204, 245, 241, 239, 94, 91, 157, 129, 52, 53, 216, 237, 137, 116, 111, 219, 28, 211, 190, 104, 143, 170, 81, 145, 150, 146, 249, 214, 151]]}}, 'requested_proof': {'revealed_attrs': {'0_possession_uuid': {'sub_proof_index': 0, 'raw': '', 'encoded': '102987336249554097029535212322581322789799900648198034993379397001115665086549'}, '0_time_uuid': {'sub_proof_index': 0, 'raw': '01-03-2023, 12:35:32', 'encoded': '15154610127789307180073374407497684466430857047417102119930354925405544503067'}}, 'self_attested_attrs': {}, 'unrevealed_attrs': {}, 'predicates': {}}, 'identifiers': [{'schema_id': 'PQRXDxdGqQGSZ8z69p4xZP:2:possession schema:0.0.1', 'cred_def_id': 'PQRXDxdGqQGSZ8z69p4xZP:3:CL:14:default', 'rev_reg_id': None, 'timestamp': None}]}, 'auto_present': False, 'presentation_request': {'name': 'Proof of Ownership', 'version': '1.0', 'requested_attributes': {'0_possession_uuid': {'name': 'possession', 'restrictions': [{'issuer_did': 'PQRXDxdGqQGSZ8z69p4xZP'}]}, '0_time_uuid': {'name': 'time', 'restrictions': [{'issuer_did': 'PQRXDxdGqQGSZ8z69p4xZP'}]}}, 'requested_predicates': {}, 'nonce': '1172692218852922603579014'}, 'initiator': 'self', 'created_at': '2023-01-03 12:36:33.444498Z', 'role': 'verifier', 'connection_id': 'efcd4a91-1920-4b4a-8cd9-c2506c800e69', 'updated_at': '2023-01-03 12:38:04.765746Z', 'presentation_request_dict': {'@type': 'did:sov:BzCbsNYhMrjHiqZDTUASHg;spec/present-proof/1.0/request-presentation', '@id': 'e8791044-eccd-4f6c-b1fa-ce46fb7955d7', 'request_presentations~attach': [{'@id': 'libindy-request-presentation-0', 'mime-type': 'application/json', 'data': {'base64': 'eyJuYW1lIjogIlByb29mIG9mIE93bmVyc2hpcCIsICJ2ZXJzaW9uIjogIjEuMCIsICJyZXF1ZXN0ZWRfYXR0cmlidXRlcyI6IHsiMF9wb3NzZXNzaW9uX3V1aWQiOiB7Im5hbWUiOiAicG9zc2Vzc2lvbiIsICJyZXN0cmljdGlvbnMiOiBbeyJpc3N1ZXJfZGlkIjogIlBRUlhEeGRHcVFHU1o4ejY5cDR4WlAifV19LCAiMF90aW1lX3V1aWQiOiB7Im5hbWUiOiAidGltZSIsICJyZXN0cmljdGlvbnMiOiBbeyJpc3N1ZXJfZGlkIjogIlBRUlhEeGRHcVFHU1o4ejY5cDR4WlAifV19fSwgInJlcXVlc3RlZF9wcmVkaWNhdGVzIjoge30sICJub25jZSI6ICIxMTcyNjkyMjE4ODUyOTIyNjAzNTc5MDE0In0='}}]}, 'verified': 'true'}\n",
            "Handle present proof\n",
            "Role verifier, Exchange 486c45a1-9107-4113-bc7c-230bb490f1c8 in state verified\n"
          ]
        }
      ],
      "source": [
        "verify = await agent_controller.proofs.verify_presentation(presentation_exchange_id)\n",
        "print(verify)"
      ]
    },
    {
      "cell_type": "code",
      "execution_count": 30,
      "id": "bb88e653",
      "metadata": {},
      "outputs": [],
      "source": [
        "print(verify['state'])\n",
        "print(verify['state'] == 'verified')"
      ]
    },
    {
      "cell_type": "code",
      "execution_count": 31,
      "id": "78e2bd8c",
      "metadata": {},
      "outputs": [
        {
          "name": "stdout",
          "output_type": "stream",
          "text": [
            "0_possession_uuid : \n",
            "0_time_uuid : 01-03-2023, 12:35:32\n"
          ]
        }
      ],
      "source": [
        "for (name, val) in verify['presentation']['requested_proof']['revealed_attrs'].items():\n",
        "    ## This is the actual data that you want. It's a little hidden\n",
        "    print(name + \" : \" + val['raw'])"
      ]
    },
    {
      "cell_type": "code",
      "execution_count": 32,
      "id": "874ae0c2",
      "metadata": {},
      "outputs": [],
      "source": [
        "response = await agent_controller.terminate()\n",
        "print(response)"
      ]
    },
    {
      "cell_type": "code",
      "execution_count": null,
      "id": "ba5e8533",
      "metadata": {},
      "outputs": [],
      "source": []
    }
  ],
  "metadata": {
    "kernelspec": {
      "display_name": "Python 3 (ipykernel)",
      "language": "python",
      "name": "python3"
    },
    "language_info": {
      "codemirror_mode": {
        "name": "ipython",
        "version": 3
      },
      "file_extension": ".py",
      "mimetype": "text/x-python",
      "name": "python",
      "nbconvert_exporter": "python",
      "pygments_lexer": "ipython3",
      "version": "3.10.8"
    }
  },
  "nbformat": 4,
  "nbformat_minor": 5
}
