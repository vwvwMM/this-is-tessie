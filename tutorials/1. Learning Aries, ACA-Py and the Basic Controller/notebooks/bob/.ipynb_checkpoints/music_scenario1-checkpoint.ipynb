{
 "cells": [
  {
   "cell_type": "markdown",
   "id": "9802e445",
   "metadata": {},
   "source": [
    "# DM (device manufacturer) connects to music (device) and assign them ownership - Music"
   ]
  },
  {
   "cell_type": "markdown",
   "id": "17b6503c",
   "metadata": {},
   "source": [
    "## 3. Initialize Music"
   ]
  },
  {
   "cell_type": "code",
   "execution_count": 1,
   "id": "2526edf8",
   "metadata": {},
   "outputs": [
    {
     "name": "stdout",
     "output_type": "stream",
     "text": [
      "IPython autoawait is `on`, and set to use `asyncio`\n",
      "Subscribing too: connections\n",
      "Connection Handler Called\n",
      "Connection 594956e5-860d-44ae-9d57-b638e79f1301 in State invitation\n",
      "Connection Handler Called\n",
      "Connection 594956e5-860d-44ae-9d57-b638e79f1301 in State request\n",
      "Connection {'created_at': '2023-01-05 11:53:22.445395Z', 'invitation_key': 'HSwsn6VAroBPox1xGmaLEchXW9Xybwb5VAWX74XfQTJb', 'their_role': 'inviter', 'routing_state': 'none', 'rfc23_state': 'request-sent', 'accept': 'manual', 'their_label': 'Alice', 'invitation_mode': 'once', 'connection_id': '594956e5-860d-44ae-9d57-b638e79f1301', 'request_id': '650b6941-baae-4c0c-bb08-89b7a73690f2', 'my_did': '7xVTb5Rj5S3kJBLmJ5YnvY', 'updated_at': '2023-01-05 11:53:22.512467Z', 'state': 'request'}\n"
     ]
    }
   ],
   "source": [
    "%autoawait\n",
    "import time\n",
    "import asyncio\n",
    "from aries_basic_controller.aries_controller import AriesAgentController\n",
    "    \n",
    "WEBHOOK_HOST = \"0.0.0.0\"\n",
    "WEBHOOK_PORT = 8052\n",
    "WEBHOOK_BASE = \"\"\n",
    "ADMIN_URL = \"http://bob-agent:8051\"\n",
    "API_KEY = \"bob_api_123456789\"\n",
    "\n",
    "agent_controller = AriesAgentController(admin_url=ADMIN_URL, api_key=API_KEY)\n",
    "\n",
    "agent_controller.init_webhook_server(webhook_host=WEBHOOK_HOST,\n",
    "                                     webhook_port=WEBHOOK_PORT,\n",
    "                                     webhook_base=WEBHOOK_BASE)\n",
    "\n",
    "loop = asyncio.get_event_loop()\n",
    "loop.create_task(agent_controller.listen_webhooks())\n",
    "\n",
    "def connection_handler(payload):\n",
    "    print(\"Connection Handler Called\")\n",
    "    connection_id = payload[\"connection_id\"]\n",
    "    state = payload[\"state\"]\n",
    "    print(f\"Connection {connection_id} in State {state}\")\n",
    "    \n",
    "connection_listener = {\n",
    "    \"handler\": connection_handler,\n",
    "    \"topic\": \"connections\"\n",
    "}\n",
    "\n",
    "agent_controller.register_listeners([connection_listener], defaults=True)\n",
    "\n",
    "\n",
    "######################\n",
    "# Remember to update #\n",
    "######################\n",
    "\n",
    "invitation = {'@type': 'did:sov:BzCbsNYhMrjHiqZDTUASHg;spec/connections/1.0/invitation', '@id': 'c51c7589-4363-4cb2-abc2-2e0cbeddbfba', 'label': 'Alice', 'recipientKeys': ['HSwsn6VAroBPox1xGmaLEchXW9Xybwb5VAWX74XfQTJb'], 'serviceEndpoint': 'http://192.168.65.3:8020'}\n",
    "\n",
    "\n",
    "# Receive Invitation\n",
    "response = await agent_controller.connections.accept_connection(invitation)\n",
    "# Print out accepted Invite and Alice's connection ID\n",
    "print(\"Connection\", response)\n",
    "alice_id = response[\"connection_id\"]\n"
   ]
  },
  {
   "cell_type": "code",
   "execution_count": 2,
   "id": "f903ba38",
   "metadata": {},
   "outputs": [
    {
     "name": "stdout",
     "output_type": "stream",
     "text": [
      "Alice AGENT CONNECTION\n",
      "{'created_at': '2023-01-05 11:53:22.445395Z', 'invitation_key': 'HSwsn6VAroBPox1xGmaLEchXW9Xybwb5VAWX74XfQTJb', 'their_role': 'inviter', 'routing_state': 'none', 'rfc23_state': 'request-sent', 'accept': 'manual', 'their_label': 'Alice', 'invitation_mode': 'once', 'connection_id': '594956e5-860d-44ae-9d57-b638e79f1301', 'request_id': '650b6941-baae-4c0c-bb08-89b7a73690f2', 'my_did': '7xVTb5Rj5S3kJBLmJ5YnvY', 'updated_at': '2023-01-05 11:53:22.512467Z', 'state': 'request'}\n",
      "State: request\n"
     ]
    }
   ],
   "source": [
    "# Print connection list\n",
    "connection = await agent_controller.connections.get_connection(alice_id)\n",
    "print(\"Alice AGENT CONNECTION\")\n",
    "print(connection)\n",
    "print(\"State:\", connection[\"state\"])"
   ]
  },
  {
   "cell_type": "code",
   "execution_count": 3,
   "id": "a361e54a",
   "metadata": {},
   "outputs": [
    {
     "name": "stdout",
     "output_type": "stream",
     "text": [
      "None\n"
     ]
    }
   ],
   "source": [
    "# response = await agent_controller.terminate()\n",
    "# print(response)"
   ]
  },
  {
   "cell_type": "markdown",
   "id": "8942a8fa",
   "metadata": {},
   "source": [
    "# Give MUSIC the VC of ownership and origin - DM"
   ]
  },
  {
   "cell_type": "markdown",
   "id": "52d5a03d",
   "metadata": {},
   "source": [
    "## 3. Credential Exchange!"
   ]
  },
  {
   "cell_type": "code",
   "execution_count": 6,
   "id": "5ae530f9",
   "metadata": {},
   "outputs": [
    {
     "name": "stdout",
     "output_type": "stream",
     "text": [
      "Credential exchange 7a2e3f54-c8d1-47cd-bd31-690d42b81cf8, role: holder, state: offer_received\n",
      "Being offered: [{'name': 'author', 'value': 'PQRXDxdGqQGSZ8z69p4xZP'}, {'name': 'name', 'value': 'balabababa music'}, {'name': 'time', 'value': '01-03-2023, 09:50:08'}, {'name': 'origin', 'value': 'PQRXDxdGqQGSZ8z69p4xZP'}, {'name': 'owner', 'value': 'PQRXDxdGqQGSZ8z69p4xZP'}, {'name': 'version', 'value': 'v1'}]\n"
     ]
    }
   ],
   "source": [
    "response = await agent_controller.issuer.get_records()\n",
    "results = response[\"results\"]\n",
    "if len(results) == 0:\n",
    "    print(\"You need to first send a credential from the issuer notebook (Alice)\")\n",
    "else:\n",
    "    cred_record = results[0]\n",
    "    cred_ex_id = cred_record['credential_exchange_id']\n",
    "    state = cred_record['state']\n",
    "    role = cred_record['role']\n",
    "    attributes = results[0]['credential_proposal_dict']['credential_proposal']['attributes']\n",
    "    print(f\"Credential exchange {cred_ex_id}, role: {role}, state: {state}\")\n",
    "    print(f\"Being offered: {attributes}\")"
   ]
  },
  {
   "cell_type": "code",
   "execution_count": 7,
   "id": "10e16d7a",
   "metadata": {},
   "outputs": [
    {
     "name": "stdout",
     "output_type": "stream",
     "text": [
      "Credential exchange 7a2e3f54-c8d1-47cd-bd31-690d42b81cf8, role: holder, state: request_sent\n"
     ]
    }
   ],
   "source": [
    "# Request credential from issuer\n",
    "record = await agent_controller.issuer.send_request_for_record(cred_ex_id)\n",
    "state = record['state']\n",
    "role = record['role']\n",
    "print(f\"Credential exchange {cred_ex_id}, role: {role}, state: {state}\")"
   ]
  },
  {
   "cell_type": "code",
   "execution_count": 8,
   "id": "0f3fa47b",
   "metadata": {},
   "outputs": [
    {
     "name": "stdout",
     "output_type": "stream",
     "text": [
      "Credential exchange 7a2e3f54-c8d1-47cd-bd31-690d42b81cf8, role: holder, state: credential_received\n"
     ]
    }
   ],
   "source": [
    "record = await agent_controller.issuer.get_record_by_id(cred_ex_id)\n",
    "state = record['state']\n",
    "role = record['role']\n",
    "print(f\"Credential exchange {cred_ex_id}, role: {role}, state: {state}\")"
   ]
  },
  {
   "cell_type": "code",
   "execution_count": 10,
   "id": "56d055ab",
   "metadata": {},
   "outputs": [
    {
     "name": "stdout",
     "output_type": "stream",
     "text": [
      "Credential exchange 7a2e3f54-c8d1-47cd-bd31-690d42b81cf8, role: holder, state: credential_acked\n"
     ]
    }
   ],
   "source": [
    "# Store credential\n",
    "response = await agent_controller.issuer.store_credential(cred_ex_id, \"My Credential\")\n",
    "state = response['state']\n",
    "role = response['role']\n",
    "print(f\"Credential exchange {cred_ex_id}, role: {role}, state: {state}\")"
   ]
  },
  {
   "cell_type": "markdown",
   "id": "fe819c18",
   "metadata": {},
   "source": [
    "## Remove connection !!!"
   ]
  },
  {
   "cell_type": "code",
   "execution_count": 9,
   "id": "143e4402",
   "metadata": {},
   "outputs": [
    {
     "name": "stdout",
     "output_type": "stream",
     "text": [
      "{}\n",
      "{'results': [{'their_label': 'Alice', 'accept': 'manual', 'state': 'request', 'connection_id': '521d9010-2f24-4a6b-9f48-c369db186f0b', 'invitation_key': 'GC6DHU7HHN4YVKoAHqrNg3VkpTyWUTpY7zKmpZSYvW1z', 'routing_state': 'none', 'created_at': '2023-01-02 13:20:47.668037Z', 'updated_at': '2023-01-02 13:20:47.728024Z', 'their_role': 'inviter', 'request_id': '18a7c875-3cf3-450e-92b6-850ddad8d0b8', 'invitation_mode': 'once', 'rfc23_state': 'request-sent', 'my_did': '2sTtp6vonk2F6gGjQELqFD'}, {'their_label': 'Alice', 'accept': 'manual', 'state': 'response', 'connection_id': '663ddab5-2135-478a-b7f1-3d7dfebe22ad', 'invitation_key': 'HHTzqiXeQey1NmZCZRkGMbT8KejyxGna2Su3gX3kHYDw', 'routing_state': 'none', 'created_at': '2023-01-02 13:21:20.734655Z', 'updated_at': '2023-01-02 13:21:38.481793Z', 'their_role': 'inviter', 'their_did': 'VWHUDyJon3XHkwdGiF3uQ9', 'request_id': '2f6713ee-3a34-44c8-b262-d0f9e955037a', 'invitation_mode': 'once', 'rfc23_state': 'response-received', 'my_did': '7vbdgKJzN44MxL7vXBjmoB'}, {'their_label': 'Alice', 'accept': 'manual', 'state': 'request', 'connection_id': 'e74e344f-efb1-4b5f-ad44-226232b586f9', 'invitation_key': 'HHTzqiXeQey1NmZCZRkGMbT8KejyxGna2Su3gX3kHYDw', 'routing_state': 'none', 'created_at': '2023-01-02 13:25:04.934558Z', 'updated_at': '2023-01-02 13:25:04.977473Z', 'their_role': 'inviter', 'request_id': 'da7d1cbc-7297-477e-8fd8-3fe4a66d63db', 'invitation_mode': 'once', 'rfc23_state': 'request-sent', 'my_did': 'g9hW5x3ucLxmySeibJZsM'}]}\n"
     ]
    }
   ],
   "source": [
    "remove = await agent_controller.connections.remove_connection(alice_id)\n",
    "print(remove)\n",
    "response = await agent_controller.connections.get_connections()\n",
    "print(response)"
   ]
  },
  {
   "cell_type": "code",
   "execution_count": 12,
   "id": "6461e4c5",
   "metadata": {},
   "outputs": [
    {
     "name": "stdout",
     "output_type": "stream",
     "text": [
      "None\n"
     ]
    }
   ],
   "source": [
    "response = await agent_controller.terminate()\n",
    "print(response)"
   ]
  },
  {
   "cell_type": "code",
   "execution_count": null,
   "id": "cd0964be",
   "metadata": {},
   "outputs": [],
   "source": []
  },
  {
   "cell_type": "code",
   "execution_count": null,
   "id": "310bb4b5",
   "metadata": {},
   "outputs": [],
   "source": []
  }
 ],
 "metadata": {
  "kernelspec": {
   "display_name": "Python 3 (ipykernel)",
   "language": "python",
   "name": "python3"
  },
  "language_info": {
   "codemirror_mode": {
    "name": "ipython",
    "version": 3
   },
   "file_extension": ".py",
   "mimetype": "text/x-python",
   "name": "python",
   "nbconvert_exporter": "python",
   "pygments_lexer": "ipython3",
   "version": "3.10.8"
  },
  "vscode": {
   "interpreter": {
    "hash": "b0fa6594d8f4cbf19f97940f81e996739fb7646882a419484c72d19e05852a7e"
   }
  }
 },
 "nbformat": 4,
 "nbformat_minor": 5
}
