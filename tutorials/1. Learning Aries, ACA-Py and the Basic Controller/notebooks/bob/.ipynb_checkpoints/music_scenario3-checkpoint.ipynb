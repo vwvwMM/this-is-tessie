{
 "cells": [
  {
   "cell_type": "markdown",
   "id": "f75f27dd",
   "metadata": {},
   "source": [
    "# 二創 Scenario"
   ]
  },
  {
   "cell_type": "markdown",
   "id": "a52ac7b1",
   "metadata": {},
   "source": [
    "## 1. Initialize agent"
   ]
  },
  {
   "cell_type": "code",
   "execution_count": null,
   "id": "e9adb85a",
   "metadata": {},
   "outputs": [],
   "source": [
    "%autoawait\n",
    "import time\n",
    "import asyncio\n",
    "from aries_basic_controller.aries_controller import AriesAgentController\n",
    "    \n",
    "WEBHOOK_HOST = \"0.0.0.0\"\n",
    "WEBHOOK_PORT = 8052\n",
    "WEBHOOK_BASE = \"\"\n",
    "ADMIN_URL = \"http://bob-agent:8051\"\n",
    "\n",
    "API_KEY = \"bob_api_123456789\"\n",
    "\n",
    "# Based on the aca-py agent you wish to control\n",
    "agent_controller = AriesAgentController(admin_url=ADMIN_URL, api_key=API_KEY)\n",
    "\n",
    "agent_controller.init_webhook_server(webhook_host=WEBHOOK_HOST, \n",
    "                                     webhook_port=WEBHOOK_PORT,\n",
    "                                     webhook_base=WEBHOOK_BASE)"
   ]
  },
  {
   "cell_type": "markdown",
   "id": "4f2804e1",
   "metadata": {},
   "source": [
    "## 2. DM-MUSIC did exchange"
   ]
  },
  {
   "cell_type": "markdown",
   "id": "734af414",
   "metadata": {},
   "source": [
    "### Build connection"
   ]
  },
  {
   "cell_type": "code",
   "execution_count": null,
   "id": "c42a0c8f",
   "metadata": {},
   "outputs": [],
   "source": [
    "loop = asyncio.get_event_loop()\n",
    "loop.create_task(agent_controller.listen_webhooks())\n",
    "\n",
    "def connection_handler(payload):\n",
    "    print(\"Connection Handler Called\")\n",
    "    connection_id = payload[\"connection_id\"]\n",
    "    state = payload[\"state\"]\n",
    "    print(f\"Connection {connection_id} in State {state}\")\n",
    "    \n",
    "connection_listener = {\n",
    "    \"handler\": connection_handler,\n",
    "    \"topic\": \"connections\"\n",
    "}\n",
    "\n",
    "agent_controller.register_listeners([connection_listener], defaults=True)"
   ]
  },
  {
   "cell_type": "code",
   "execution_count": null,
   "id": "7061a456",
   "metadata": {},
   "outputs": [],
   "source": [
    "##############\n",
    "# Invitation #\n",
    "##############\n",
    "\n",
    "invitation = {'@type': 'did:sov:BzCbsNYhMrjHiqZDTUASHg;spec/connections/1.0/invitation', '@id': '5f71807a-8c5b-4e8d-8413-1ad01a96d169', 'serviceEndpoint': 'http://192.168.65.3:8020', 'recipientKeys': ['gqoZHV5AEYdr7qAqckN4wMT9Mm3HzSbUrrxr7XvaN1P'], 'label': 'Alice'}\n"
   ]
  },
  {
   "cell_type": "code",
   "execution_count": null,
   "id": "4da46749",
   "metadata": {},
   "outputs": [],
   "source": [
    "# Receive Invitation\n",
    "response = await agent_controller.connections.accept_connection(invitation)\n",
    "# Print out accepted Invite and Alice's connection ID\n",
    "print(\"Connection\", response)\n",
    "alice_id = response[\"connection_id\"]"
   ]
  },
  {
   "cell_type": "markdown",
   "id": "3e7a5568",
   "metadata": {},
   "source": [
    "### > Break here - switch to DM accept request <"
   ]
  },
  {
   "cell_type": "markdown",
   "id": "4877c52d",
   "metadata": {},
   "source": [
    "### Send DID to DM"
   ]
  },
  {
   "cell_type": "code",
   "execution_count": null,
   "id": "50c973fc",
   "metadata": {},
   "outputs": [],
   "source": [
    "# Print connection list\n",
    "connection = await agent_controller.connections.get_connection(alice_id)\n",
    "print(\"Alice AGENT CONNECTION\")\n",
    "print(connection)\n",
    "print(\"State:\", connection[\"state\"])\n",
    "music_connection = connection[\"connection_id\"]\n",
    "print(music_connection)"
   ]
  },
  {
   "cell_type": "code",
   "execution_count": null,
   "id": "4cebe900",
   "metadata": {},
   "outputs": [],
   "source": [
    "my_did = await agent_controller.wallet.get_public_did()\n",
    "my_did = my_did['result']['did']\n",
    "print(\"my DID\", my_did)\n",
    "dm_did = 'None'"
   ]
  },
  {
   "cell_type": "code",
   "execution_count": null,
   "id": "1608f997",
   "metadata": {},
   "outputs": [],
   "source": [
    "def messages_handler(payload):\n",
    "    global dm_did\n",
    "    connection_id = payload[\"connection_id\"]\n",
    "    print(\"Handle message\", payload, connection_id)\n",
    "    dm_did = payload['content']\n",
    "    print('DM DID', music_did)\n",
    "\n",
    "\n",
    "message_listener = {\n",
    "    \"handler\": messages_handler,\n",
    "    \"topic\": \"basicmessages\"\n",
    "}\n",
    "\n",
    "loop = asyncio.get_event_loop()\n",
    "loop.create_task(agent_controller.listen_webhooks())\n",
    "\n",
    "agent_controller.register_listeners([message_listener], defaults=True)"
   ]
  },
  {
   "cell_type": "code",
   "execution_count": null,
   "id": "f95d35bf",
   "metadata": {},
   "outputs": [],
   "source": [
    "response = await agent_controller.messaging.send_message(music_connection, 'music_'+my_did)\n",
    "print(response)"
   ]
  },
  {
   "cell_type": "code",
   "execution_count": null,
   "id": "f01431d7",
   "metadata": {},
   "outputs": [],
   "source": [
    "print(dm_did)\n",
    "print(my_did)"
   ]
  },
  {
   "cell_type": "markdown",
   "id": "6d73e695",
   "metadata": {},
   "source": [
    "## 3. Verify the song with SP - MUSIC"
   ]
  },
  {
   "cell_type": "markdown",
   "id": "5e206a7c",
   "metadata": {},
   "source": [
    "### Basic setup - existence check and listener"
   ]
  },
  {
   "cell_type": "code",
   "execution_count": null,
   "id": "584fb7e1",
   "metadata": {},
   "outputs": [],
   "source": [
    "##############\n",
    "# Invitation #\n",
    "##############\n",
    "\n",
    "invitation = {'@type': 'did:sov:BzCbsNYhMrjHiqZDTUASHg;spec/connections/1.0/invitation', '@id': 'f333199a-9381-4fa5-b23d-34c0adbcb2d1', 'label': 'Carol', 'serviceEndpoint': 'http://192.168.65.3:8080', 'recipientKeys': ['EJmRUbfL5tabRD5EDmDnCo3tVPGUewGxoVmq8jbwLhFn']}"
   ]
  },
  {
   "cell_type": "code",
   "execution_count": null,
   "id": "0d4afaab",
   "metadata": {},
   "outputs": [],
   "source": [
    "# Receive Invitation\n",
    "response = await agent_controller.connections.accept_connection(invitation)\n",
    "# Print out accepted Invite and Alice's connection ID\n",
    "print(\"Connection\", response)\n",
    "alice_id = response[\"connection_id\"]"
   ]
  },
  {
   "cell_type": "code",
   "execution_count": null,
   "id": "aa95a5be",
   "metadata": {},
   "outputs": [],
   "source": [
    "# Song exists?\n",
    "credential_id = \"My Credential\"\n",
    "credential = await agent_controller.credentials.get_by_id(credential_id)\n",
    "print(credential)"
   ]
  },
  {
   "cell_type": "code",
   "execution_count": null,
   "id": "a7d13b3d",
   "metadata": {},
   "outputs": [],
   "source": [
    "loop = asyncio.get_event_loop()\n",
    "loop.create_task(agent_controller.listen_webhooks())\n",
    "\n",
    "def proof_handler(payload):\n",
    "    global presentation_exchange_id\n",
    "    print(\"Handle present proof\")\n",
    "    role = payload[\"role\"]\n",
    "    pres_ex_id = payload[\"presentation_exchange_id\"]\n",
    "    state = payload[\"state\"]\n",
    "    print(f\"Role {role}, Exchange {pres_ex_id} in state {state}\")\n",
    "    if state == \"presentation_received\":\n",
    "     \n",
    "        presentation_exchange_id = pres_ex_id \n",
    "        print(presentation_exchange_id)\n",
    "proof_listener = {\n",
    "    \"topic\": \"present_proof\",\n",
    "    \"handler\": proof_handler\n",
    "}\n",
    "agent_controller.register_listeners([proof_listener], defaults=True)"
   ]
  },
  {
   "cell_type": "markdown",
   "id": "cbf973f5",
   "metadata": {},
   "source": [
    "### > Break: Go to SP verifier for getting the song it wants to recreate <"
   ]
  },
  {
   "cell_type": "markdown",
   "id": "96839d61",
   "metadata": {},
   "source": [
    "### Fetch proof request records"
   ]
  },
  {
   "cell_type": "code",
   "execution_count": null,
   "id": "478095e2",
   "metadata": {},
   "outputs": [],
   "source": [
    "from datetime import datetime\n",
    "response = await agent_controller.proofs.get_records()\n",
    "print(response)\n",
    "\n",
    "format = \"%Y-%m-%d %H:%M:%S.%fZ\"\n",
    "\n",
    "\n",
    "response[\"results\"] = list(filter(lambda r: r[\"state\"] == \"request_received\", response[\"results\"]))\n",
    "response[\"results\"] = sorted(\n",
    "        response[\"results\"],\n",
    "        key=lambda c: datetime.strptime(c[\"created_at\"], format),\n",
    "        reverse=True,\n",
    "    )\n",
    "print(response[\"results\"][0][\"created_at\"])\n",
    "print(response[\"results\"][0][\"state\"])\n",
    "print('\\n')\n",
    "state = response['results'][0][\"state\"]\n",
    "presentation_exchange_id = response['results'][-1]['presentation_exchange_id']\n",
    "presentation_request = response['results'][-1]['presentation_request']\n",
    "\n",
    "print('Presentation Exchange ID\\n')\n",
    "print(response['results'][0]['presentation_exchange_id'])\n",
    "print('Presentation Request Object\\n')\n",
    "print(response['results'][0]['presentation_request'])\n",
    "print('Requested Attributes\\n')\n",
    "print(response['results'][0]['presentation_request']['requested_attributes'])\n",
    "requested_attribs = response['results'][-1]['presentation_request']['requested_attributes']\n",
    "print('Requested Predicates\\n')\n",
    "print(response['results'][0]['presentation_request']['requested_predicates'])\n",
    "requested_predicates = response['results'][-1]['presentation_request']['requested_predicates']"
   ]
  },
  {
   "cell_type": "code",
   "execution_count": null,
   "id": "06255627",
   "metadata": {},
   "outputs": [],
   "source": [
    "if state == \"request_received\":\n",
    "    print(\n",
    "    \"Received Request -> Query for credentials in the wallet that satisfy the proof request\")\n",
    "\n",
    "# include self-attested attributes (not included in credentials)\n",
    "credentials_by_reft = {}\n",
    "revealed = {}\n",
    "self_attested = {}\n",
    "predicates = {}\n",
    "\n",
    "# select credentials to provide for the proof\n",
    "credentials = await agent_controller.proofs.get_presentation_credentials(presentation_exchange_id)\n",
    "print(credentials)\n",
    "\n",
    "if credentials:\n",
    "    for row in sorted(\n",
    "        credentials,\n",
    "        key=lambda c: dict(c[\"cred_info\"][\"attrs\"]),\n",
    "        reverse=True,\n",
    "    ):\n",
    "        for referent in row[\"presentation_referents\"]:\n",
    "            if referent not in credentials_by_reft:\n",
    "                credentials_by_reft[referent] = row\n",
    "\n",
    "for referent in presentation_request[\"requested_attributes\"]:\n",
    "    if referent in credentials_by_reft:\n",
    "        revealed[referent] = {\n",
    "            \"cred_id\": credentials_by_reft[referent][\"cred_info\"][\n",
    "                \"referent\"\n",
    "            ],\n",
    "            \"revealed\": True,\n",
    "        }\n",
    "    else:\n",
    "        self_attested[referent] = \"South Africa\"\n",
    "\n",
    "for referent in presentation_request[\"requested_predicates\"]:\n",
    "    if referent in credentials_by_reft:\n",
    "        predicates[referent] = {\n",
    "            \"cred_id\": credentials_by_reft[referent][\"cred_info\"][\n",
    "                \"referent\"\n",
    "            ]\n",
    "        }\n",
    "\n",
    "print(\"\\nGenerate the proof\")\n",
    "proof = {\n",
    "    \"requested_predicates\": predicates,\n",
    "    \"requested_attributes\": revealed,\n",
    "    \"self_attested_attributes\": self_attested,\n",
    "}\n",
    "print(proof)\n",
    "print(\"\\nXXX\")\n",
    "print(predicates)\n",
    "print(revealed)\n",
    "print(self_attested)"
   ]
  },
  {
   "cell_type": "markdown",
   "id": "92e9c470",
   "metadata": {},
   "source": [
    "### Send proof back!"
   ]
  },
  {
   "cell_type": "code",
   "execution_count": null,
   "id": "bb009d5e",
   "metadata": {},
   "outputs": [],
   "source": [
    "response = await agent_controller.proofs.send_presentation(presentation_exchange_id, proof)\n",
    "print(response)"
   ]
  },
  {
   "cell_type": "markdown",
   "id": "d78e27b1",
   "metadata": {},
   "source": [
    "## 5. Check the VC of SP, if they want to publish their recreation - MUSIC is the Verifier\n",
    "\n",
    "Scenario:  \n",
    "Some SP will contact the MUSIC platform for **recreation publishing**.    \n",
    "In this case, the platform will check the SP's recreation-VC to see that if the SP has the right to write the VC of ownership of recreation on their platform.    \n",
    "If the VC has the correct recreation-VC, then it can post their recreation artpiece on the platform with an ownership-VC that has \n",
    "```{ author: recreator, origin: creator, ...}```\n"
   ]
  },
  {
   "cell_type": "markdown",
   "id": "fc1e01f9",
   "metadata": {},
   "source": [
    "### Send proof request"
   ]
  },
  {
   "cell_type": "code",
   "execution_count": null,
   "id": "9560ed97",
   "metadata": {},
   "outputs": [],
   "source": [
    "try:\n",
    "    response = await agent_controller.connections.get_connections()\n",
    "    results = response['results']\n",
    "    print(\"Results : \", results)\n",
    "    print('\\n')\n",
    "    if len(results) > 0:\n",
    "        connections = response['results']\n",
    "        print(\"Connection :\", connections)\n",
    "        for connection in connections:\n",
    "            if connection['state'] == 'active' and connection[\"their_label\"] == \"Carol\":\n",
    "                connection_id = connection[\"connection_id\"]\n",
    "                print(\"\\nActive Connection ID : \", connection_id)\n",
    "            else:\n",
    "                print(\"\\nNo active connection found - wait a bit and execute again\")\n",
    "    else:\n",
    "        print(\"You must create a connection\")\n",
    "except ConnectionRefusedError as e:\n",
    "    print(repr(e))"
   ]
  },
  {
   "cell_type": "code",
   "execution_count": null,
   "id": "9bd8a627",
   "metadata": {},
   "outputs": [],
   "source": [
    "response = await agent_controller.wallet.get_public_did()\n",
    "issuer_did = dm_did\n",
    "print(\"issuer: dm, has \", dm_did)\n",
    "\n",
    "print(\"Request proof of Name and Age range from Bob\")\n",
    "#Set some variables\n",
    "\n",
    "exchange_tracing = False\n",
    "\n",
    "#Enable this to ask for attributes to identity a user\n",
    "req_attrs = [\n",
    "    {\"name\": \"target\", \"restrictions\": [{\"issuer_did\": issuer_did}]},\n",
    "    {\"name\": \"time\", \"restrictions\": [{\"issuer_did\": issuer_did}]},\n",
    "    {\"name\": \"origin\", \"restrictions\": [{\"issuer_did\": issuer_did}]},\n",
    "    {\"name\": \"owner\", \"restrictions\": [{\"issuer_did\": issuer_did}]},\n",
    "]\n",
    "\n",
    "\n",
    "#Set predicates for Zero Knowledge Proofs\n",
    "req_preds = []\n",
    "\n",
    "indy_proof_request = {\n",
    "    \"name\": \"Proof of Personal Information\",\n",
    "    \"version\": \"1.0\",\n",
    "    \"requested_attributes\": {\n",
    "        f\"0_{req_attr['name']}_uuid\":\n",
    "        req_attr for req_attr in req_attrs\n",
    "    },\n",
    "    \"requested_predicates\": {\n",
    "        f\"0_{req_pred['name']}_GE_uuid\":\n",
    "        req_pred for req_pred in req_preds\n",
    "    },\n",
    "}\n",
    "\n",
    "#proof_request = indy_proof_request\n",
    "exchange_tracing_id = exchange_tracing\n",
    "proof_request_web_request = {\n",
    "    \"connection_id\": connection_id,\n",
    "    \"proof_request\": indy_proof_request,\n",
    "    \"trace\": exchange_tracing,\n",
    "}"
   ]
  },
  {
   "cell_type": "code",
   "execution_count": null,
   "id": "ebf6648a",
   "metadata": {},
   "outputs": [],
   "source": [
    "response = await agent_controller.proofs.send_request(proof_request_web_request)\n",
    "print(response)\n",
    "presentation_exchange_id = response['presentation_exchange_id']\n",
    "print(\"\\n\")\n",
    "print(presentation_exchange_id)"
   ]
  },
  {
   "cell_type": "markdown",
   "id": "858a2901",
   "metadata": {},
   "source": [
    "### >Break: Finish sending proof, check MUSIC for the proof request!<"
   ]
  },
  {
   "cell_type": "markdown",
   "id": "f4269990",
   "metadata": {},
   "source": [
    "### Verify the result back"
   ]
  },
  {
   "cell_type": "markdown",
   "id": "4edd3386",
   "metadata": {},
   "source": [
    "### Check the song1"
   ]
  },
  {
   "cell_type": "code",
   "execution_count": null,
   "id": "41bcc40c",
   "metadata": {},
   "outputs": [],
   "source": [
    "verify = await agent_controller.proofs.verify_presentation(presentation_exchange_id)\n",
    "print(verify)"
   ]
  },
  {
   "cell_type": "code",
   "execution_count": null,
   "id": "7e652cfd",
   "metadata": {},
   "outputs": [],
   "source": [
    "## TODO: if verify:\n",
    "target_song = verify[\"presentation\"][\"requested_proof\"][\"revealed_attrs\"][\"0_target_uuid\"][\"raw\"]\n",
    "owner = verify[\"presentation\"][\"requested_proof\"][\"revealed_attrs\"][\"0_owner_uuid\"][\"raw\"]\n",
    "issuer = verify[\"presentation_request\"][\"requested_attributes\"][\"0_target_uuid\"][\"restrictions\"][0][\"issuer_did\"]\n",
    "print(target_song)\n",
    "print(owner)\n",
    "print(issuer)"
   ]
  },
  {
   "cell_type": "code",
   "execution_count": null,
   "id": "b0616a68",
   "metadata": {},
   "outputs": [],
   "source": [
    "response = await agent_controller.issuer.get_records()\n",
    "results = response[\"results\"]\n",
    "if len(results) == 0:\n",
    "    print(\"You need to first send a credential from the issuer notebook (Alice)\")\n",
    "else:\n",
    "    cred_record = results[0]\n",
    "    cred_ex_id = cred_record['credential_exchange_id']\n",
    "    state = cred_record['state']\n",
    "    role = cred_record['role']\n",
    "    attributes = results[0]['credential_proposal_dict']['credential_proposal']['attributes']\n",
    "    print(f\"Credential exchange {cred_ex_id}, role: {role}, state: {state}\")\n",
    "    print(f\"Being offered: {attributes}\")"
   ]
  },
  {
   "cell_type": "code",
   "execution_count": null,
   "id": "7794bbe3",
   "metadata": {},
   "outputs": [],
   "source": [
    "# Request credential from issuer\n",
    "record = await agent_controller.issuer.send_request_for_record(cred_ex_id)\n",
    "state = record['state']\n",
    "role = record['role']\n",
    "print(f\"Credential exchange {cred_ex_id}, role: {role}, state: {state}\")"
   ]
  },
  {
   "cell_type": "code",
   "execution_count": null,
   "id": "a2c0d31f",
   "metadata": {},
   "outputs": [],
   "source": [
    "record = await agent_controller.issuer.get_record_by_id(cred_ex_id)\n",
    "state = record['state']\n",
    "role = record['role']\n",
    "print(f\"Credential exchange {cred_ex_id}, role: {role}, state: {state}\")"
   ]
  },
  {
   "cell_type": "code",
   "execution_count": null,
   "id": "0f261f52",
   "metadata": {},
   "outputs": [],
   "source": [
    "all_credential = await agent_controller.credentials.get_all()\n",
    "print(all_credential)\n",
    "ownership_credential = list(filter(lambda r: r[\"referent\"] == \"My Credential\", all_credential[\"results\"]))\n",
    "print(ownership_credential)\n",
    "recreation_credential = list(filter(lambda r: r[\"attrs\"][\"music\"] == target_song and r[\"attrs\"][\"owner\"] == issuer, ownership_credential))\n",
    "print(recreation_credential)"
   ]
  },
  {
   "cell_type": "code",
   "execution_count": null,
   "id": "7f079059",
   "metadata": {},
   "outputs": [],
   "source": [
    "# Store credential\n",
    "print(attributes)\n",
    "print(list(filter(lambda r: r[\"name\"] == \"owner\" and r[\"value\"] == owner, attributes)))\n",
    "ver = len(list(filter(lambda r: r[\"name\"] == \"owner\" and r[\"value\"] == owner, attributes))) > 0\n",
    "print(ver)\n",
    "\n",
    "if ver and len(recreation_credential) > 0:\n",
    "    response = await agent_controller.issuer.store_credential(cred_ex_id, \"My Credential\")\n",
    "    state = response['state']\n",
    "    role = response['role']\n",
    "    print(f\"Credential exchange {cred_ex_id}, role: {role}, state: {state}\")"
   ]
  },
  {
   "cell_type": "markdown",
   "id": "435eeb42",
   "metadata": {},
   "source": [
    "# Terminate Agent"
   ]
  },
  {
   "cell_type": "code",
   "execution_count": null,
   "id": "e07503f7",
   "metadata": {},
   "outputs": [],
   "source": [
    "response = await agent_controller.terminate()\n",
    "print(response)"
   ]
  },
  {
   "cell_type": "code",
   "execution_count": null,
   "id": "6865fc8d",
   "metadata": {},
   "outputs": [],
   "source": []
  }
 ],
 "metadata": {
  "kernelspec": {
   "display_name": "Python 3 (ipykernel)",
   "language": "python",
   "name": "python3"
  },
  "language_info": {
   "codemirror_mode": {
    "name": "ipython",
    "version": 3
   },
   "file_extension": ".py",
   "mimetype": "text/x-python",
   "name": "python",
   "nbconvert_exporter": "python",
   "pygments_lexer": "ipython3",
   "version": "3.10.8"
  }
 },
 "nbformat": 4,
 "nbformat_minor": 5
}
