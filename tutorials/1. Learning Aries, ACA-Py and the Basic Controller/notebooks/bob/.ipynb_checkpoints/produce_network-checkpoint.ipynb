{
 "cells": [
  {
   "cell_type": "markdown",
   "id": "f2bc084d",
   "metadata": {},
   "source": [
    "# DM (device manufacturer) connects to music (device) and assign them ownership - Music"
   ]
  },
  {
   "cell_type": "markdown",
   "id": "66237b10",
   "metadata": {},
   "source": [
    "## 3. Initialize Music"
   ]
  },
  {
   "cell_type": "code",
   "execution_count": 1,
   "id": "de7666fb",
   "metadata": {},
   "outputs": [
    {
     "name": "stdout",
     "output_type": "stream",
     "text": [
      "IPython autoawait is `on`, and set to use `asyncio`\n",
      "Subscribing too: connections\n",
      "Connection Handler Called\n",
      "Connection ff96c2d7-c1c8-4fe8-89f7-bf5d85a8b62b in State invitation\n",
      "Connection Handler Called\n",
      "Connection ff96c2d7-c1c8-4fe8-89f7-bf5d85a8b62b in State request\n",
      "Connection {'my_did': 'D6pU4QVFu5EKGP4udRmYqN', 'their_role': 'inviter', 'routing_state': 'none', 'invitation_mode': 'once', 'invitation_key': 'E9Tkz2maMyr5FsQyZTxEMVeNYhCk1kHXAvc8cjhVgRzJ', 'state': 'request', 'created_at': '2023-01-03 04:26:02.281171Z', 'accept': 'manual', 'updated_at': '2023-01-03 04:26:02.357453Z', 'request_id': '634e9ccc-2954-4fde-b13a-641c1a2dd9cc', 'connection_id': 'ff96c2d7-c1c8-4fe8-89f7-bf5d85a8b62b', 'rfc23_state': 'request-sent', 'their_label': 'Alice'}\n"
     ]
    }
   ],
   "source": [
    "%autoawait\n",
    "import time\n",
    "import asyncio\n",
    "from aries_basic_controller.aries_controller import AriesAgentController\n",
    "    \n",
    "WEBHOOK_HOST = \"0.0.0.0\"\n",
    "WEBHOOK_PORT = 8052\n",
    "WEBHOOK_BASE = \"\"\n",
    "ADMIN_URL = \"http://bob-agent:8051\"\n",
    "API_KEY = \"bob_api_123456789\"\n",
    "\n",
    "agent_controller = AriesAgentController(admin_url=ADMIN_URL, api_key=API_KEY)\n",
    "\n",
    "agent_controller.init_webhook_server(webhook_host=WEBHOOK_HOST,\n",
    "                                     webhook_port=WEBHOOK_PORT,\n",
    "                                     webhook_base=WEBHOOK_BASE)\n",
    "\n",
    "loop = asyncio.get_event_loop()\n",
    "loop.create_task(agent_controller.listen_webhooks())\n",
    "\n",
    "def connection_handler(payload):\n",
    "    print(\"Connection Handler Called\")\n",
    "    connection_id = payload[\"connection_id\"]\n",
    "    state = payload[\"state\"]\n",
    "    print(f\"Connection {connection_id} in State {state}\")\n",
    "    \n",
    "connection_listener = {\n",
    "    \"handler\": connection_handler,\n",
    "    \"topic\": \"connections\"\n",
    "}\n",
    "\n",
    "agent_controller.register_listeners([connection_listener], defaults=True)\n",
    "\n",
    "\n",
    "######################\n",
    "# Remember to update #\n",
    "######################\n",
    "\n",
    "invitation = {'@type': 'did:sov:BzCbsNYhMrjHiqZDTUASHg;spec/connections/1.0/invitation', '@id': 'a01e4668-44b8-43f7-8568-2a18af18c566', 'recipientKeys': ['HP7gvAJMddRagAmzzTXK9s9a5yQLArvrowgaezhy3pgT'], 'label': 'Alice', 'serviceEndpoint': 'http://192.168.65.3:8020'}\n",
    "\n",
    "\n",
    "# Receive Invitation\n",
    "response = await agent_controller.connections.accept_connection(invitation)\n",
    "# Print out accepted Invite and Alice's connection ID\n",
    "print(\"Connection\", response)\n",
    "alice_id = response[\"connection_id\"]\n"
   ]
  },
  {
   "cell_type": "code",
   "execution_count": 2,
   "id": "3d9f8496",
   "metadata": {},
   "outputs": [
    {
     "name": "stdout",
     "output_type": "stream",
     "text": [
      "Alice AGENT CONNECTION\n",
      "{'my_did': 'D6pU4QVFu5EKGP4udRmYqN', 'their_role': 'inviter', 'routing_state': 'none', 'invitation_mode': 'once', 'invitation_key': 'E9Tkz2maMyr5FsQyZTxEMVeNYhCk1kHXAvc8cjhVgRzJ', 'state': 'request', 'created_at': '2023-01-03 04:26:02.281171Z', 'accept': 'manual', 'updated_at': '2023-01-03 04:26:02.357453Z', 'request_id': '634e9ccc-2954-4fde-b13a-641c1a2dd9cc', 'connection_id': 'ff96c2d7-c1c8-4fe8-89f7-bf5d85a8b62b', 'rfc23_state': 'request-sent', 'their_label': 'Alice'}\n",
      "State: request\n"
     ]
    }
   ],
   "source": [
    "# Print connection list\n",
    "connection = await agent_controller.connections.get_connection(alice_id)\n",
    "print(\"Alice AGENT CONNECTION\")\n",
    "print(connection)\n",
    "print(\"State:\", connection[\"state\"])"
   ]
  },
  {
   "cell_type": "markdown",
   "id": "ce67217c",
   "metadata": {},
   "source": [
    "# Give MUSIC the VC of ownership and origin - DM"
   ]
  },
  {
   "cell_type": "markdown",
   "id": "2ef9cef7",
   "metadata": {},
   "source": [
    "## 3. Credential Exchange!"
   ]
  },
  {
   "cell_type": "code",
   "execution_count": 3,
   "id": "fb0d907e",
   "metadata": {},
   "outputs": [
    {
     "name": "stdout",
     "output_type": "stream",
     "text": [
      "Credential exchange 21e136bb-c35b-4a14-84b4-9851e9323fe5, role: holder, state: offer_received\n",
      "Being offered: [{'name': 'author', 'value': 'PQRXDxdGqQGSZ8z69p4xZP'}, {'name': 'name', 'value': 'balabababa'}, {'name': 'time', 'value': '01-02-2023, 18:54:19'}, {'name': 'original_author', 'value': 'PQRXDxdGqQGSZ8z69p4xZP'}]\n"
     ]
    }
   ],
   "source": [
    "response = await agent_controller.issuer.get_records()\n",
    "results = response[\"results\"]\n",
    "if len(results) == 0:\n",
    "    print(\"You need to first send a credential from the issuer notebook (Alice)\")\n",
    "else:\n",
    "    cred_record = results[0]\n",
    "    cred_ex_id = cred_record['credential_exchange_id']\n",
    "    state = cred_record['state']\n",
    "    role = cred_record['role']\n",
    "    attributes = results[0]['credential_proposal_dict']['credential_proposal']['attributes']\n",
    "    print(f\"Credential exchange {cred_ex_id}, role: {role}, state: {state}\")\n",
    "    print(f\"Being offered: {attributes}\")"
   ]
  },
  {
   "cell_type": "code",
   "execution_count": 4,
   "id": "b9a60496",
   "metadata": {},
   "outputs": [
    {
     "name": "stdout",
     "output_type": "stream",
     "text": [
      "Credential exchange 21e136bb-c35b-4a14-84b4-9851e9323fe5, role: holder, state: request_sent\n"
     ]
    }
   ],
   "source": [
    "# Request credential from issuer\n",
    "record = await agent_controller.issuer.send_request_for_record(cred_ex_id)\n",
    "state = record['state']\n",
    "role = record['role']\n",
    "print(f\"Credential exchange {cred_ex_id}, role: {role}, state: {state}\")"
   ]
  },
  {
   "cell_type": "code",
   "execution_count": 5,
   "id": "8c1786e9",
   "metadata": {},
   "outputs": [
    {
     "name": "stdout",
     "output_type": "stream",
     "text": [
      "Credential exchange 21e136bb-c35b-4a14-84b4-9851e9323fe5, role: holder, state: credential_received\n"
     ]
    }
   ],
   "source": [
    "record = await agent_controller.issuer.get_record_by_id(cred_ex_id)\n",
    "state = record['state']\n",
    "role = record['role']\n",
    "print(f\"Credential exchange {cred_ex_id}, role: {role}, state: {state}\")"
   ]
  },
  {
   "cell_type": "code",
   "execution_count": 6,
   "id": "a2ec7f0a",
   "metadata": {},
   "outputs": [
    {
     "name": "stdout",
     "output_type": "stream",
     "text": [
      "Credential exchange 21e136bb-c35b-4a14-84b4-9851e9323fe5, role: holder, state: credential_acked\n"
     ]
    }
   ],
   "source": [
    "# Store credential\n",
    "response = await agent_controller.issuer.store_credential(cred_ex_id, \"My OM Credential\")\n",
    "state = response['state']\n",
    "role = response['role']\n",
    "print(f\"Credential exchange {cred_ex_id}, role: {role}, state: {state}\")"
   ]
  },
  {
   "cell_type": "markdown",
   "id": "082f8dfd",
   "metadata": {},
   "source": [
    "## Remove connection !!!"
   ]
  },
  {
   "cell_type": "code",
   "execution_count": 9,
   "id": "102fe208",
   "metadata": {},
   "outputs": [
    {
     "name": "stdout",
     "output_type": "stream",
     "text": [
      "{}\n",
      "{'results': [{'their_label': 'Alice', 'accept': 'manual', 'state': 'request', 'connection_id': '521d9010-2f24-4a6b-9f48-c369db186f0b', 'invitation_key': 'GC6DHU7HHN4YVKoAHqrNg3VkpTyWUTpY7zKmpZSYvW1z', 'routing_state': 'none', 'created_at': '2023-01-02 13:20:47.668037Z', 'updated_at': '2023-01-02 13:20:47.728024Z', 'their_role': 'inviter', 'request_id': '18a7c875-3cf3-450e-92b6-850ddad8d0b8', 'invitation_mode': 'once', 'rfc23_state': 'request-sent', 'my_did': '2sTtp6vonk2F6gGjQELqFD'}, {'their_label': 'Alice', 'accept': 'manual', 'state': 'response', 'connection_id': '663ddab5-2135-478a-b7f1-3d7dfebe22ad', 'invitation_key': 'HHTzqiXeQey1NmZCZRkGMbT8KejyxGna2Su3gX3kHYDw', 'routing_state': 'none', 'created_at': '2023-01-02 13:21:20.734655Z', 'updated_at': '2023-01-02 13:21:38.481793Z', 'their_role': 'inviter', 'their_did': 'VWHUDyJon3XHkwdGiF3uQ9', 'request_id': '2f6713ee-3a34-44c8-b262-d0f9e955037a', 'invitation_mode': 'once', 'rfc23_state': 'response-received', 'my_did': '7vbdgKJzN44MxL7vXBjmoB'}, {'their_label': 'Alice', 'accept': 'manual', 'state': 'request', 'connection_id': 'e74e344f-efb1-4b5f-ad44-226232b586f9', 'invitation_key': 'HHTzqiXeQey1NmZCZRkGMbT8KejyxGna2Su3gX3kHYDw', 'routing_state': 'none', 'created_at': '2023-01-02 13:25:04.934558Z', 'updated_at': '2023-01-02 13:25:04.977473Z', 'their_role': 'inviter', 'request_id': 'da7d1cbc-7297-477e-8fd8-3fe4a66d63db', 'invitation_mode': 'once', 'rfc23_state': 'request-sent', 'my_did': 'g9hW5x3ucLxmySeibJZsM'}]}\n"
     ]
    }
   ],
   "source": [
    "remove = await agent_controller.connections.remove_connection(alice_id)\n",
    "print(remove)\n",
    "response = await agent_controller.connections.get_connections()\n",
    "print(response)"
   ]
  },
  {
   "cell_type": "code",
   "execution_count": 3,
   "id": "d00dfae2",
   "metadata": {},
   "outputs": [
    {
     "name": "stdout",
     "output_type": "stream",
     "text": [
      "None\n"
     ]
    }
   ],
   "source": [
    "response = await agent_controller.terminate()\n",
    "print(response)"
   ]
  },
  {
   "cell_type": "code",
   "execution_count": null,
   "id": "7f1e9acd",
   "metadata": {},
   "outputs": [],
   "source": []
  },
  {
   "cell_type": "code",
   "execution_count": null,
   "id": "f366ba08",
   "metadata": {},
   "outputs": [],
   "source": []
  }
 ],
 "metadata": {
  "kernelspec": {
   "display_name": "Python 3 (ipykernel)",
   "language": "python",
   "name": "python3"
  },
  "language_info": {
   "codemirror_mode": {
    "name": "ipython",
    "version": 3
   },
   "file_extension": ".py",
   "mimetype": "text/x-python",
   "name": "python",
   "nbconvert_exporter": "python",
   "pygments_lexer": "ipython3",
   "version": "3.10.8"
  }
 },
 "nbformat": 4,
 "nbformat_minor": 5
}
