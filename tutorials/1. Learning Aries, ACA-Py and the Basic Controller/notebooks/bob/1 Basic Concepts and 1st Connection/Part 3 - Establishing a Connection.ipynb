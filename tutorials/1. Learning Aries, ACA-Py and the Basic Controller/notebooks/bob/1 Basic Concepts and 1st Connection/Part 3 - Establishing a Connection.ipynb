{
 "cells": [
  {
   "cell_type": "markdown",
   "metadata": {
    "pycharm": {
     "name": "#%% md\n"
    }
   },
   "source": [
    "# Establishing a Connection - Bob\n",
    "## Role: Invitee\n",
    "\n",
    "If you want to start at Part 1 of this tutorial series go [here](http://localhost:8888/lab/tree/1%20Basic%20Concepts%20and%201st%20Connection/Part%201%20-%20Self-Sovereign%20Identity.ipynb).\n",
    "\n",
    "In this notebook we'll be responding to an invitation from Alice through our Agents. This notebook has the following phases:\n",
    "\n",
    "<b>Begin with the [Alice notebook](http://localhost:8888/lab/tree/1%20Basic%20Concepts%20and%201st%20Connection/Part%203%20-%20Establishing%20a%20Connection.ipynb)</b>\n",
    "\n",
    "\n",
    "6. Instatiate the controller for our Agent\n",
    "7. Set up a message listener running as a service on our controller\n",
    "8. Paste the invitation from the Alice notebook into the invitation variable here\n",
    "9. Accept the invitation\n",
    "\n",
    "<b>Carry on at the Alice side</b>\n",
    "    \n",
    "14. Check if connection active\n"
   ]
  },
  {
   "cell_type": "markdown",
   "metadata": {
    "pycharm": {
     "name": "#%% md\n"
    }
   },
   "source": [
    "### 6. Instatiate the controller for our Agent"
   ]
  },
  {
   "cell_type": "code",
   "execution_count": 9,
   "metadata": {},
   "outputs": [
    {
     "name": "stdout",
     "output_type": "stream",
     "text": [
      "IPython autoawait is `on`, and set to use `asyncio`\n"
     ]
    }
   ],
   "source": [
    "%autoawait\n",
    "import time\n",
    "import asyncio\n",
    "from aries_basic_controller.aries_controller import AriesAgentController\n",
    "    \n",
    "WEBHOOK_HOST = \"0.0.0.0\"\n",
    "WEBHOOK_PORT = 8052\n",
    "WEBHOOK_BASE = \"\"\n",
    "ADMIN_URL = \"http://bob-agent:8051\"\n",
    "\n",
    "agent_controller = AriesAgentController(admin_url=ADMIN_URL)"
   ]
  },
  {
   "cell_type": "code",
   "execution_count": 10,
   "metadata": {},
   "outputs": [],
   "source": [
    "agent_controller.init_webhook_server(webhook_host=WEBHOOK_HOST,\n",
    "                                     webhook_port=WEBHOOK_PORT,\n",
    "                                     webhook_base=WEBHOOK_BASE)"
   ]
  },
  {
   "cell_type": "markdown",
   "metadata": {},
   "source": [
    "### 7. Listen for webhooks and register default listeners\n",
    "\n",
    "Everytime a webhook is received from the agent, the controller reemits the hook using PyPubSub. The default listeners are used to update state and print logs.\n"
   ]
  },
  {
   "cell_type": "code",
   "execution_count": 11,
   "metadata": {},
   "outputs": [
    {
     "name": "stdout",
     "output_type": "stream",
     "text": [
      "Subscribing too: connections\n"
     ]
    }
   ],
   "source": [
    "\n",
    "loop = asyncio.get_event_loop()\n",
    "loop.create_task(agent_controller.listen_webhooks())\n",
    "\n",
    "def connection_handler(payload):\n",
    "    print(\"Connection Handler Called\")\n",
    "    connection_id = payload[\"connection_id\"]\n",
    "    state = payload[\"state\"]\n",
    "    print(f\"Connection {connection_id} in State {state}\")\n",
    "    \n",
    "connection_listener = {\n",
    "    \"handler\": connection_handler,\n",
    "    \"topic\": \"connections\"\n",
    "}\n",
    "\n",
    "agent_controller.register_listeners([connection_listener], defaults=True)"
   ]
  },
  {
   "cell_type": "markdown",
   "metadata": {
    "pycharm": {
     "name": "#%% md\n"
    }
   },
   "source": [
    "### 8. Paste the invitation from the Alice notebook into the invitation variable here;"
   ]
  },
  {
   "cell_type": "code",
   "execution_count": 12,
   "metadata": {},
   "outputs": [],
   "source": [
    "#Paste in invitation from Alice agent\n",
    "invitation = {'@type': 'did:sov:BzCbsNYhMrjHiqZDTUASHg;spec/connections/1.0/invitation', '@id': '3d67fb90-4e97-4c5c-bff9-add0e47a1b30', 'label': 'Alice', 'recipientKeys': ['4DLhPbSzr4tGnrN18qwLEvrF4Qvntx2z7LPyYn1rDc5Z'], 'serviceEndpoint': 'http://192.168.65.3:8020'}"
   ]
  },
  {
   "cell_type": "markdown",
   "metadata": {
    "pycharm": {
     "name": "#%% md\n"
    }
   },
   "source": [
    "### 9. Accept the invitation, then move to Alice's notebook"
   ]
  },
  {
   "cell_type": "code",
   "execution_count": 13,
   "metadata": {
    "pycharm": {
     "name": "#%%\n"
    }
   },
   "outputs": [
    {
     "name": "stdout",
     "output_type": "stream",
     "text": [
      "Connection Handler Called\n",
      "Connection 842b811f-36df-4137-8577-15469f260f8b in State invitation\n",
      "Connection Handler Called\n",
      "Connection 842b811f-36df-4137-8577-15469f260f8b in State request\n",
      "Connection {'their_label': 'Carol', 'invitation_key': '5NqLisZNrS2AbeBNCQHcF7hZx22Xd6aYx8vxadbdkqmJ', 'invitation_mode': 'once', 'connection_id': '842b811f-36df-4137-8577-15469f260f8b', 'request_id': 'dcd5a0ac-25fa-492c-bf37-5e00fa16aac4', 'my_did': '3jAoJUdyYtxQa6AkTbaeAm', 'accept': 'manual', 'rfc23_state': 'request-sent', 'their_role': 'inviter', 'created_at': '2023-01-02 08:52:07.421499Z', 'state': 'request', 'routing_state': 'none', 'updated_at': '2023-01-02 08:52:07.477463Z'}\n",
      "Connection Handler Called\n",
      "Connection 842b811f-36df-4137-8577-15469f260f8b in State response\n",
      "Connection Handler Called\n",
      "Connection 842b811f-36df-4137-8577-15469f260f8b in State active\n"
     ]
    }
   ],
   "source": [
    "# Receive Invitation\n",
    "response = await agent_controller.connections.accept_connection(invitation)\n",
    "# Print out accepted Invite and Alice's connection ID\n",
    "print(\"Connection\", response)\n",
    "alice_id = response[\"connection_id\"]\n"
   ]
  },
  {
   "cell_type": "markdown",
   "metadata": {},
   "source": [
    "### 13. Check if connection state is active\n",
    "\n",
    "It should be if you send a trust ping from Alice's side"
   ]
  },
  {
   "cell_type": "code",
   "execution_count": 14,
   "metadata": {
    "pycharm": {
     "name": "#%%\n"
    }
   },
   "outputs": [
    {
     "name": "stdout",
     "output_type": "stream",
     "text": [
      "Alice AGENT CONNECTION\n",
      "{'their_did': 'QWLH91NGnms8E57znbMPbX', 'their_label': 'Carol', 'invitation_key': '5NqLisZNrS2AbeBNCQHcF7hZx22Xd6aYx8vxadbdkqmJ', 'invitation_mode': 'once', 'connection_id': '842b811f-36df-4137-8577-15469f260f8b', 'request_id': 'dcd5a0ac-25fa-492c-bf37-5e00fa16aac4', 'my_did': '3jAoJUdyYtxQa6AkTbaeAm', 'accept': 'manual', 'rfc23_state': 'completed', 'their_role': 'inviter', 'created_at': '2023-01-02 08:52:07.421499Z', 'state': 'active', 'routing_state': 'none', 'updated_at': '2023-01-02 08:52:22.318473Z'}\n",
      "State: active\n"
     ]
    }
   ],
   "source": [
    "# Print connection list\n",
    "connection = await agent_controller.connections.get_connection(alice_id)\n",
    "print(\"Alice AGENT CONNECTION\")\n",
    "print(connection)\n",
    "print(\"State:\", connection[\"state\"])"
   ]
  },
  {
   "cell_type": "markdown",
   "metadata": {},
   "source": [
    "## Optional: Remove connection"
   ]
  },
  {
   "cell_type": "code",
   "execution_count": 15,
   "metadata": {},
   "outputs": [
    {
     "name": "stdout",
     "output_type": "stream",
     "text": [
      "{}\n"
     ]
    }
   ],
   "source": [
    "remove = await agent_controller.connections.remove_connection(alice_id)\n",
    "print(remove)"
   ]
  },
  {
   "cell_type": "code",
   "execution_count": 16,
   "metadata": {},
   "outputs": [
    {
     "name": "stdout",
     "output_type": "stream",
     "text": [
      "{'results': [{'their_did': 'CXVXVERJAYXkEVaS3EB4fT', 'their_label': 'Carol', 'invitation_key': 'AuBeW7Laq6SQzUAM5JNdwv13wdXeVDzxD3myp7euN5xq', 'invitation_mode': 'once', 'connection_id': '606a4a0e-2b3b-4f3a-b402-a20ab4713590', 'request_id': '6b7c6af7-ae20-43d5-b370-ca76ced61822', 'my_did': 'LpmiP5Lpre6u2BF76nSALw', 'accept': 'manual', 'rfc23_state': 'completed', 'their_role': 'inviter', 'created_at': '2023-01-02 08:19:47.213947Z', 'state': 'active', 'routing_state': 'none', 'updated_at': '2023-01-02 08:20:24.085479Z'}]}\n"
     ]
    }
   ],
   "source": [
    "response = await agent_controller.connections.get_connections()\n",
    "print(response)"
   ]
  },
  {
   "cell_type": "markdown",
   "metadata": {},
   "source": [
    "## End of Tutorial\n",
    "\n",
    "#### Terminate Controller & Stop Webhook Server\n",
    "\n",
    "**Note: You will need to run this command when combining this example with others such as Issuer**"
   ]
  },
  {
   "cell_type": "code",
   "execution_count": 17,
   "metadata": {},
   "outputs": [
    {
     "name": "stdout",
     "output_type": "stream",
     "text": [
      "None\n"
     ]
    }
   ],
   "source": [
    "response = await agent_controller.terminate()\n",
    "print(response)"
   ]
  },
  {
   "cell_type": "code",
   "execution_count": null,
   "metadata": {},
   "outputs": [],
   "source": []
  }
 ],
 "metadata": {
  "kernelspec": {
   "display_name": "Python 3 (ipykernel)",
   "language": "python",
   "name": "python3"
  },
  "language_info": {
   "codemirror_mode": {
    "name": "ipython",
    "version": 3
   },
   "file_extension": ".py",
   "mimetype": "text/x-python",
   "name": "python",
   "nbconvert_exporter": "python",
   "pygments_lexer": "ipython3",
   "version": "3.10.8"
  },
  "pycharm": {
   "stem_cell": {
    "cell_type": "raw",
    "metadata": {
     "collapsed": false
    },
    "source": []
   }
  }
 },
 "nbformat": 4,
 "nbformat_minor": 4
}
