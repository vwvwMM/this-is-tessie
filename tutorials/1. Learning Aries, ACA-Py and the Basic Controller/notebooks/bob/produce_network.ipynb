{
  "cells": [
    {
      "cell_type": "markdown",
      "id": "3f04ad7b",
      "metadata": {},
      "source": [
        "# DM (device manufacturer) connects to music (device) and assign them ownership - DM"
      ]
    },
    {
      "cell_type": "markdown",
      "id": "3f0a4065",
      "metadata": {},
      "source": [
        "## 1. Create Invitation from agent"
      ]
    },
    {
      "cell_type": "code",
      "execution_count": 1,
      "id": "846d153b",
      "metadata": {},
      "outputs": [
        {
          "name": "stdout",
          "output_type": "stream",
          "text": [
            "IPython autoawait is `on`, and set to use `asyncio`\n",
            "Subscribing too: connections\n"
          ]
        }
      ],
      "source": [
        "%autoawait\n",
        "import time\n",
        "import asyncio\n",
        "from aries_basic_controller.aries_controller import AriesAgentController\n",
        "    \n",
        "WEBHOOK_HOST = \"0.0.0.0\"\n",
        "WEBHOOK_PORT = 8022\n",
        "WEBHOOK_BASE = \"\"\n",
        "ADMIN_URL = \"http://alice-agent:8021\"\n",
        "\n",
        "# WARNING: You should use environment variables for this\n",
        "# TODO: Make env variables accessible through juypter notebooks\n",
        "API_KEY = \"alice_api_123456789\"\n",
        "\n",
        "# Based on the aca-py agent you wish to control\n",
        "agent_controller = AriesAgentController(admin_url=ADMIN_URL, api_key=API_KEY)\n",
        "agent_controller.init_webhook_server(webhook_host=WEBHOOK_HOST, \n",
        "                                     webhook_port=WEBHOOK_PORT,\n",
        "                                     webhook_base=WEBHOOK_BASE)\n",
        "\n",
        "loop = asyncio.get_event_loop()\n",
        "loop.create_task(agent_controller.listen_webhooks())\n",
        "\n",
        "def connection_handler(payload):\n",
        "    print(\"Connection Handler Called\")\n",
        "    connection_id = payload[\"connection_id\"]\n",
        "    state = payload[\"state\"]\n",
        "    print(f\"Connection {connection_id} in State {state}\")\n",
        "    \n",
        "connection_listener = {\n",
        "    \"handler\": connection_handler,\n",
        "    \"topic\": \"connections\"\n",
        "}\n",
        "\n",
        "agent_controller.register_listeners([connection_listener], defaults=True)\n"
      ]
    },
    {
      "cell_type": "markdown",
      "id": "184fa201",
      "metadata": {},
      "source": [
        "## 2. Create invitation"
      ]
    },
    {
      "cell_type": "code",
      "execution_count": 2,
      "id": "ced97b9d",
      "metadata": {},
      "outputs": [
        {
          "name": "stdout",
          "output_type": "stream",
          "text": [
            "Connection ID 3a5b59b0-f221-429b-b8f3-b121e1b7c640\n",
            "Invitation\n",
            "{'@type': 'did:sov:BzCbsNYhMrjHiqZDTUASHg;spec/connections/1.0/invitation', '@id': '2065f3a1-1568-41ad-9a0d-d217d3eecfd0', 'recipientKeys': ['2EZgL2gMffbxQFWBS2mVkuLmFPAzaMVgwGZXTswYCE6y'], 'serviceEndpoint': 'http://192.168.65.3:8020', 'label': 'Alice'}\n",
            "Connection Handler Called\n",
            "Connection 3a5b59b0-f221-429b-b8f3-b121e1b7c640 in State invitation\n",
            "Connection Handler Called\n",
            "Connection 3a5b59b0-f221-429b-b8f3-b121e1b7c640 in State request\n"
          ]
        }
      ],
      "source": [
        "# Create Invitation\n",
        "invite = await agent_controller.connections.create_invitation()\n",
        "connection_id = invite[\"connection_id\"]\n",
        "invite_message = invite['invitation']\n",
        "print(\"Connection ID\", connection_id)\n",
        "print(\"Invitation\")\n",
        "print(invite_message)"
      ]
    },
    {
      "cell_type": "markdown",
      "id": "77ee5208",
      "metadata": {},
      "source": [
        "## 4. Accept Request - Recipient first!!!!!"
      ]
    },
    {
      "cell_type": "code",
      "execution_count": 3,
      "id": "fda62feb",
      "metadata": {},
      "outputs": [
        {
          "name": "stdout",
          "output_type": "stream",
          "text": [
            "Connection Handler Called\n",
            "Connection 3a5b59b0-f221-429b-b8f3-b121e1b7c640 in State response\n",
            "ACCEPT REQUEST\n",
            "{'invitation_key': '2EZgL2gMffbxQFWBS2mVkuLmFPAzaMVgwGZXTswYCE6y', 'updated_at': '2023-01-03 12:11:55.955925Z', 'invitation_mode': 'once', 'created_at': '2023-01-03 12:10:47.835278Z', 'my_did': 'XtNBn5VgqaouerjBv9zGiy', 'their_did': 'JwZFj9aDdiL1d4pJSSL3Wj', 'state': 'response', 'their_label': 'Bob', 'connection_id': '3a5b59b0-f221-429b-b8f3-b121e1b7c640', 'rfc23_state': 'response-sent', 'their_role': 'invitee', 'routing_state': 'none', 'accept': 'manual'}\n",
            "state response\n"
          ]
        }
      ],
      "source": [
        "# Accept Request for Invite created\n",
        "connection = await agent_controller.connections.accept_request(connection_id)\n",
        "print(\"ACCEPT REQUEST\")\n",
        "print(connection)\n",
        "print(\"state\", connection[\"state\"])"
      ]
    },
    {
      "cell_type": "code",
      "execution_count": 4,
      "id": "50c720bc",
      "metadata": {},
      "outputs": [
        {
          "name": "stdout",
          "output_type": "stream",
          "text": [
            "Trust Ping {'thread_id': '97c6e4da-41ac-4dbd-bbe9-183416d83b91'}\n",
            "{'invitation_key': '2EZgL2gMffbxQFWBS2mVkuLmFPAzaMVgwGZXTswYCE6y', 'updated_at': '2023-01-03 12:11:55.955925Z', 'invitation_mode': 'once', 'created_at': '2023-01-03 12:10:47.835278Z', 'my_did': 'XtNBn5VgqaouerjBv9zGiy', 'their_did': 'JwZFj9aDdiL1d4pJSSL3Wj', 'state': 'response', 'their_label': 'Bob', 'connection_id': '3a5b59b0-f221-429b-b8f3-b121e1b7c640', 'rfc23_state': 'response-sent', 'their_role': 'invitee', 'routing_state': 'none', 'accept': 'manual'}\n",
            "Is Active? response\n",
            "Connection Handler Called\n",
            "Connection 3a5b59b0-f221-429b-b8f3-b121e1b7c640 in State active\n"
          ]
        }
      ],
      "source": [
        "trust_ping = await agent_controller.messaging.trust_ping(connection_id, \"hello\")\n",
        "print(\"Trust Ping\", trust_ping)\n",
        "\n",
        "connection = await agent_controller.connections.get_connection(connection_id)\n",
        "print(connection)\n",
        "print(\"Is Active?\", connection[\"state\"])\n",
        "connection_id = connection[\"connection_id\"]"
      ]
    },
    {
      "cell_type": "markdown",
      "id": "34c27dd8",
      "metadata": {},
      "source": [
        "# Give MUSIC the VC of ownership and origin - DM"
      ]
    },
    {
      "cell_type": "markdown",
      "id": "37d69d66",
      "metadata": {},
      "source": [
        "## 1. Write Ownership schema"
      ]
    },
    {
      "cell_type": "code",
      "execution_count": 5,
      "id": "9009221f",
      "metadata": {},
      "outputs": [
        {
          "name": "stdout",
          "output_type": "stream",
          "text": [
            "PQRXDxdGqQGSZ8z69p4xZP:2:music_schema:0.0.1\n",
            "PQRXDxdGqQGSZ8z69p4xZP:3:CL:12:default\n"
          ]
        }
      ],
      "source": [
        "# Define you schema name - must be unique on the ledger\n",
        "schema_name = \"music_schema\"\n",
        "# Can version the schema if you wish to update it\n",
        "schema_version = \"0.0.1\"\n",
        "# Define any list of attributes you wish to include in your schema\n",
        "attributes = [\"origin\", \"name\", \"time\", \"version\", \"author\", \"owner\"]\n",
        "\n",
        "# Write schema to ledger\n",
        "response = await agent_controller.schema.write_schema(schema_name, attributes, schema_version)\n",
        "schema_id = response[\"schema_id\"]\n",
        "print(schema_id)\n",
        "\n",
        "# Write cred. def.\n",
        "response = await agent_controller.definitions.write_cred_def(schema_id)\n",
        "cred_def_id = response[\"credential_definition_id\"]\n",
        "print(cred_def_id)\n",
        "\n",
        "\n",
        "# # Update schema\n",
        "# attributes = [\"author\", \"name\", \"time\", \"is_original\", \"type\"]\n",
        "# schema_version = \"0.0.2\"\n",
        "# response = await agent_controller.schema.write_schema(schema_name, attributes, schema_version)\n",
        "# updated_schema_id = response[\"schema_id\"]\n",
        "# print(updated_schema_id)\n",
        "\n",
        "# # Write another Credential Definition for the Updated Schema\n",
        "# response = await agent_controller.definitions.write_cred_def(updated_schema_id, support_revocation=True)\n",
        "# updated_cred_def_id = response[\"credential_definition_id\"]\n",
        "# print(updated_cred_def_id)"
      ]
    },
    {
      "cell_type": "markdown",
      "id": "1b5097ca",
      "metadata": {},
      "source": [
        "## 2. Write VC"
      ]
    },
    {
      "cell_type": "code",
      "execution_count": 6,
      "id": "d60f3de2",
      "metadata": {},
      "outputs": [
        {
          "name": "stdout",
          "output_type": "stream",
          "text": [
            "PQRXDxdGqQGSZ8z69p4xZP\n",
            "{'schema_ids': ['PQRXDxdGqQGSZ8z69p4xZP:2:music_schema:0.0.1']}\n"
          ]
        }
      ],
      "source": [
        "nym = await agent_controller.wallet.get_public_did()\n",
        "print(nym[\"result\"][\"did\"])\n",
        "created_schema = await agent_controller.schema.get_created_schema(schema_issuer_did='PQRXDxdGqQGSZ8z69p4xZP')\n",
        "print(created_schema)\n",
        "schema_id = created_schema[\"schema_ids\"][-1]"
      ]
    },
    {
      "cell_type": "code",
      "execution_count": 7,
      "id": "b7afa49c",
      "metadata": {},
      "outputs": [
        {
          "name": "stdout",
          "output_type": "stream",
          "text": [
            "['PQRXDxdGqQGSZ8z69p4xZP:3:CL:12:default']\n"
          ]
        }
      ],
      "source": [
        "definitions = await agent_controller.definitions.search_created(schema_id=schema_id)\n",
        "print(definitions[\"credential_definition_ids\"])\n",
        "cred_def_id = definitions[\"credential_definition_ids\"][-1]"
      ]
    },
    {
      "cell_type": "code",
      "execution_count": 8,
      "id": "4ffe475f",
      "metadata": {},
      "outputs": [
        {
          "name": "stdout",
          "output_type": "stream",
          "text": [
            "1\n",
            "Connection : {'invitation_key': '2EZgL2gMffbxQFWBS2mVkuLmFPAzaMVgwGZXTswYCE6y', 'updated_at': '2023-01-03 12:11:59.431606Z', 'invitation_mode': 'once', 'created_at': '2023-01-03 12:10:47.835278Z', 'my_did': 'XtNBn5VgqaouerjBv9zGiy', 'their_did': 'JwZFj9aDdiL1d4pJSSL3Wj', 'state': 'active', 'their_label': 'Bob', 'connection_id': '3a5b59b0-f221-429b-b8f3-b121e1b7c640', 'rfc23_state': 'completed', 'their_role': 'invitee', 'routing_state': 'none', 'accept': 'manual'}\n",
            "Active Connection ID :  3a5b59b0-f221-429b-b8f3-b121e1b7c640\n"
          ]
        }
      ],
      "source": [
        "response = await agent_controller.connections.get_connections()\n",
        "results = response['results']\n",
        "print(len(results))\n",
        "# print(\"Results : \", results)\n",
        "if len(results) > 0:\n",
        "    connection = response['results']\n",
        "    for con in connection:\n",
        "        print(\"Connection :\", con)\n",
        "        if con['state'] == 'active':       \n",
        "            connection_id = con[\"connection_id\"]\n",
        "            print(\"Active Connection ID : \", connection_id)\n",
        "        else: print(\"Inactive Connection ID: \", con[\"connection_id\"], \"with state: \", con[\"state\"])\n",
        "else:\n",
        "    print(\"You must create a connection\")"
      ]
    },
    {
      "cell_type": "code",
      "execution_count": 11,
      "id": "d52da848",
      "metadata": {},
      "outputs": [
        {
          "name": "stdout",
          "output_type": "stream",
          "text": [
            "[{'name': 'author', 'value': 'PQRXDxdGqQGSZ8z69p4xZP'}, {'name': 'name', 'value': 'balabababa music'}, {'name': 'time', 'value': '01-03-2023, 12:13:19'}, {'name': 'origin', 'value': 'PQRXDxdGqQGSZ8z69p4xZP'}, {'name': 'owner', 'value': 'PQRXDxdGqQGSZ8z69p4xZP'}, {'name': 'version', 'value': 'v1'}]\n",
            "Credential exchange c5dc49c8-0dd3-43ad-846c-8b9d24754ed1, role: issuer, state: offer_sent\n"
          ]
        }
      ],
      "source": [
        "import datetime\n",
        "time = datetime.datetime.now().strftime(\"%m-%d-%Y, %H:%M:%S\")\n",
        "credential_attributes = [\n",
        "    {\"name\": \"author\", \"value\": nym[\"result\"][\"did\"]},\n",
        "    {\"name\": \"name\", \"value\": \"balabababa music\"},\n",
        "    {\"name\": \"time\", \"value\": time},\n",
        "    {\"name\": \"origin\", \"value\": nym[\"result\"][\"did\"]},\n",
        "    {\"name\": \"owner\", \"value\": nym[\"result\"][\"did\"]},\n",
        "    {\"name\": \"version\", \"value\": \"v1\"}\n",
        "]\n",
        "print(credential_attributes)\n",
        "\n",
        "\n",
        "# send credential\n",
        "record = await agent_controller.issuer.send_credential(connection_id, schema_id, cred_def_id, credential_attributes, auto_remove=False, trace=True)\n",
        "record_id = record['credential_exchange_id']\n",
        "state = record['state']\n",
        "role = record['role']\n",
        "print(f\"Credential exchange {record_id}, role: {role}, state: {state}\")"
      ]
    },
    {
      "cell_type": "markdown",
      "id": "94cedb08",
      "metadata": {},
      "source": [
        "## 4. Wait for credential exchange"
      ]
    },
    {
      "cell_type": "code",
      "execution_count": 10,
      "id": "c0813d92",
      "metadata": {},
      "outputs": [
        {
          "name": "stdout",
          "output_type": "stream",
          "text": [
            "[{'credential': {'schema_id': 'PQRXDxdGqQGSZ8z69p4xZP:2:music_schema:0.0.1', 'cred_def_id': 'PQRXDxdGqQGSZ8z69p4xZP:3:CL:12:default', 'rev_reg_id': None, 'values': {'author': {'raw': 'PQRXDxdGqQGSZ8z69p4xZP', 'encoded': '43137799088118443800136745895388480458686925529355594539512585697577946794869'}, 'version': {'raw': 'v1', 'encoded': '27131969825814800887461230010484753141979851386045457649691352597878165178622'}, 'owner': {'raw': 'PQRXDxdGqQGSZ8z69p4xZP', 'encoded': '43137799088118443800136745895388480458686925529355594539512585697577946794869'}, 'time': {'raw': '01-03-2023, 12:12:33', 'encoded': '48587442510936264572122896078570777346685050877026407568254355401140050668337'}, 'name': {'raw': 'balabababa music', 'encoded': '78349233637792322947684343969666349239482962495698159244268994899549966660302'}, 'origin': {'raw': 'PQRXDxdGqQGSZ8z69p4xZP', 'encoded': '43137799088118443800136745895388480458686925529355594539512585697577946794869'}}, 'signature': {'p_credential': {'m_2': '16777661183330068567493374470682079280514135473251415846310996136300867744969', 'a': '29406414945019088287074960681326591842460876382596144267620814158776138034159397497544128140615831926061186666446148783201568074662161298069309646926947771096140609294309498770196541203843723656403017630255469740568413797998497768382285561797230785283955303533753833361175545676616230635596661720389306381421301441484057621076174921373524900874656430848006380636742045282385319770339592529548091075789103044061491139556769595944920288208095702770011771035869709348739211356814367045793974426550023441300873059620838869866840623140046147751269284651524845662656756874663708219603095406058097637282667031292373606555706', 'e': '259344723055062059907025491480697571938277889515152306249728583105665800713306759149981690559193987143012367913206299323899696942213235956742930136574035104457087012639936304917759', 'v': '5259985101691052832537033127926311403916207417872765503603275418655031642508013754867760742159364583514459724927103532456169401559440527169087940216667059107512664730210228717963994301565831827736182314414128737893586689545721298553245921318904019432554381788151555557160372637160706626976506779314731780258794077712063899719525110994785946173907066275433506720156045945924595436026432081493061540130444778293804294564129699489779049740629899564199097077648441469280022279546488848346329995464104850494455119895456447070743056581459724065975159646460462517938498502810022203942570880318732901387881854116198859625540769320555952932706523150203563344371573203169501740399392459558713496423971647631393683424001994740546380361511728453761005184290246585085556101866988039263391954302974314130132918600036782382236948977579'}, 'r_credential': None}, 'signature_correctness_proof': {'se': '23485021206463171995784307381590884938651926053409888726509536570327381772311881451707534692755067578410795189833058876970456352747652639066227432693799858163384824372646559642406434331768631148159315469836811049736477365073265412148379696922625475964267753490957621751350442585812910628080943178817999407855318509780275395437260992974439925525082341420036829259958737268657041559651981057638073441857501544095574798874896056206016387238392926497718602208534473234643177261403580336156743242614071607762846392759208352860848915457015444936594345477648378321393326913442335549075460045494027274416008739177357135244568', 'c': '14438638770273759547028284433937246243409943825633334549343494654660892905687'}, 'rev_reg': None, 'witness': None}, 'state': 'credential_issued', 'auto_remove': False, 'credential_exchange_id': 'b8cf7b7c-ac64-448d-97a5-42dc5f1a0d41', 'updated_at': '2023-01-03 12:12:41.535329Z', 'auto_issue': True, 'role': 'issuer', 'credential_proposal_dict': {'@type': 'did:sov:BzCbsNYhMrjHiqZDTUASHg;spec/issue-credential/1.0/propose-credential', '@id': '7a7ee3aa-6f18-4320-9330-0ea53dfeb7b1', '~trace': {'target': 'log', 'full_thread': True, 'trace_reports': []}, 'credential_proposal': {'@type': 'did:sov:BzCbsNYhMrjHiqZDTUASHg;spec/issue-credential/1.0/credential-preview', 'attributes': [{'name': 'author', 'value': 'PQRXDxdGqQGSZ8z69p4xZP'}, {'name': 'name', 'value': 'balabababa music'}, {'name': 'time', 'value': '01-03-2023, 12:12:33'}, {'name': 'origin', 'value': 'PQRXDxdGqQGSZ8z69p4xZP'}, {'name': 'owner', 'value': 'PQRXDxdGqQGSZ8z69p4xZP'}, {'name': 'version', 'value': 'v1'}]}, 'schema_name': 'music_schema', 'schema_id': 'PQRXDxdGqQGSZ8z69p4xZP:2:music_schema:0.0.1', 'comment': '', 'schema_issuer_did': 'PQRXDxdGqQGSZ8z69p4xZP', 'issuer_did': 'PQRXDxdGqQGSZ8z69p4xZP', 'schema_version': '0.0.1', 'cred_def_id': 'PQRXDxdGqQGSZ8z69p4xZP:3:CL:12:default'}, 'initiator': 'self', 'trace': True, 'credential_offer': {'schema_id': 'PQRXDxdGqQGSZ8z69p4xZP:2:music_schema:0.0.1', 'cred_def_id': 'PQRXDxdGqQGSZ8z69p4xZP:3:CL:12:default', 'key_correctness_proof': {'c': '101634142341750034749566624785814263449691984998703964587301163772954262280484', 'xz_cap': '736970995140092429165283233225492079842401468755263968334325947186811456245617591823460313068236668697616260734912028751808494051057150799200569170366992905537393282331342652778890927232468506804821756239313451432344986825064139582849968841894449787305150807171692718506968009408389657583426273153158828969395554346595221797825454768805525203091303799380951785297407990288125013882304196258435847412082051486113037245400000778866072359211145065293514002868474030946759377459632373812206720027670006913168132307281676294995309053054292499615576278240651392257860373110031732375913836863638315895401341857663998226395715697420561736694329249897503831357583872986937417301698637536083518402901514', 'xr_cap': [['name', '1247588960984508984513510095777870974934521576016938173405118428880925160828645194509265470924077106550250357986684799618593235213285536230451468695667900536499888705823676982259633450735361484998834163310486863371442866114346548440142940810003934519351696157136977334519468463296287049623934127337177191050739207424260139106253633151912780975491455673376302904974131057571037829505199496388748414852426852686166288592493515165788285531834273986956317252372150721019305434068280597581288096554093612716116510483158084102516948542087732008698165921335729666111438153699860057526073787987838189119152000132570745254635138206763146071450921028749511197872815683217189905732396287056128481171550579'], ['origin', '889687679057227007717249277184510918750476712975571824871324451799960653048674098535331185071608007992449152795771365252579269889811247010575381232292156545616165151240783060351144793741329706322811957950933119767058326627869705513720360305670324831236238458067742594939647312504852772838519960861588490909094737529625912201685861111849951679049997779537205901454798112633087278105606361842449772951765275564035478316795600274983106639084397883604269985056656527248932294586452896080107580309968949307438831166385358268679450507710854617330136846882106936136822188250346446471184324047587572746688072737748852740865839986112228656590025757816605447665518654930677789417104221493857758156640694'], ['version', '1152755916914702231453411498322252217591042311924161165837967580424039998675780988946390323299893677722377382744286723008219620535925764995317547081330112532639864908922098133438304748360653824597861156268423635858943832965731497718416647744591150624695730600863696987381156500407926623498839249644866041068022623477290156891008226250375945451695838773156534404644610757276133040193295046685308166184236551237279851544243140116024727011932197995527929368841397540667206868086396918181925976671698664069970939157222507734596297545188319338206397476796864575886397732577347415085647162347785080532556375006206384909373604380501000660615918268453690386969960678766052367753681660557688878532212948'], ['author', '281309550432233183938649537841725199607144749754550505115695261174202208468649209326658060884438721025101613704485511091098915687720410262526691906066713967336500871261082513567755232279415975116301859481798776249402927003411487086616859776770046795225579786666479047133566740544836899148643999550551551705218039906051890945006049276854801771163586573052405663334635787197460769328664963940874903624379151357752102468707175453241407548970638721140272191645761801885379335595500985360341452642923274136214492850225872329282815493241211413498547505336067877664456529387317306036850238330952989430682095264076359105561138175674738356220333272053245420244283059783133205535240698743695744606490608'], ['owner', '294999249710860933013824087389241999328550143667390873148899826545392472236716201741061927619854186923004623144207694900584786545968540832727217636441293477065819596306905846810545402650824407288896062534281992413868024528035452693171858719604881516053068067007937033515464346857583232445902567911881124572554415578491951783307396035837635323079392469585374615333441702095539176227620107302503319154046475148770127301639805595300367166430505890623674092799190834354304492402619561033224396843451966602044089092464881343181791144724237586635599382140971282552955375653762017254893097730278050072891455084481037627933192217884850848924031355108523559099043089326878988182160241609536768486754592'], ['time', '1183118408873689589796731056014342549264114117872166106199656748605011657093630183254563690029625834072587223432034721791392040834956427971658676521295370983093191790563624220458935199032404596970960547066062310784012661489719792700080527019352504735433713419453650511967343500657916829243775363374508845523731247398432362845687994811995344169791340669393273692702334249118704835994019666571353571907906080807115895295166098451726632777392482065290981707632632109851056119297728500103217632330368484072013268267874704539104513794579651287164222084362028577347302088236561723408294638126743540285656464567002305512193735563545885629320148994643211629858181396423491566754737543054942959120059132'], ['master_secret', '1017646923547383438629612450584108152409362650127883953246682940431007866138409270892479281462568621428211465570211068296220834097636616887038866070337616089174427174844774410329555749031182026814017286144829611594528207901465395212119637211618444806316967929090806547849955157771598279958120507567133646777411025475542211746534170586485507674266560339960579182677047856788039836482243332464541307770851451296352670916509027001652670993949092453194492998083875778113857028238977199801600459415532235086851729466516993237056293166186410544626968333833175224719208553064400850559261772603693695015038724779289055375414812320316853169627995164438745975079510080447680051441962653551062060718472072']]}, 'nonce': '130954174168526775906344'}, 'schema_id': 'PQRXDxdGqQGSZ8z69p4xZP:2:music_schema:0.0.1', 'credential_offer_dict': {'@type': 'did:sov:BzCbsNYhMrjHiqZDTUASHg;spec/issue-credential/1.0/offer-credential', '@id': '7b8c1795-c149-4290-9a8d-95629c5c7a8e', '~thread': {}, '~trace': {'target': 'log', 'full_thread': True, 'trace_reports': []}, 'offers~attach': [{'@id': 'libindy-cred-offer-0', 'mime-type': 'application/json', 'data': {'base64': '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'}}], 'credential_preview': {'@type': 'did:sov:BzCbsNYhMrjHiqZDTUASHg;spec/issue-credential/1.0/credential-preview', 'attributes': [{'name': 'author', 'value': 'PQRXDxdGqQGSZ8z69p4xZP'}, {'name': 'name', 'value': 'balabababa music'}, {'name': 'time', 'value': '01-03-2023, 12:12:33'}, {'name': 'origin', 'value': 'PQRXDxdGqQGSZ8z69p4xZP'}, {'name': 'owner', 'value': 'PQRXDxdGqQGSZ8z69p4xZP'}, {'name': 'version', 'value': 'v1'}]}, 'comment': 'create automated credential exchange'}, 'credential_definition_id': 'PQRXDxdGqQGSZ8z69p4xZP:3:CL:12:default', 'credential_request': {'prover_did': 'JwZFj9aDdiL1d4pJSSL3Wj', 'cred_def_id': 'PQRXDxdGqQGSZ8z69p4xZP:3:CL:12:default', 'blinded_ms': {'u': '96229675495560078637245824003032678954171280725368855572494937349940996397329356496816940083361584682580920589971932071806873492461163053384955083448662054130358850660017395494064248133032858882848773509590270972713030199152843082537193549663924429289299341391479899562282693277153738884378740668994873455101084238489318373600469293799908554884638211628688665457352538731906530984515356480087193120288535762478118130505831166641532699455799024939154165166372260662000794205407079765250592661188351101147754166772438482933615429327201320158707017950914012185213183494788855651921382933245987949683833245111178481318510', 'ur': None, 'hidden_attributes': ['master_secret'], 'committed_attributes': {}}, 'blinded_ms_correctness_proof': {'c': '37907634946660435018395526034716208698026006183322153470202700362543088193266', 'v_dash_cap': '814303713985313622468286452855001493252424593763123260948619400618020601836822649378993995027299751175618268015604129000611163451458639136933434308886392305774004091382500689148517870592709632335736011116612805414728355071697304175536001740429650350787905091307610923223296850729899608709432016873769329012573042713372035290538520100735643870991037049968709884914603472320758882040427943655439675220845661014998727897057539279880417699917983583354927047197493326763709923632397117516431775801612076350539646855353583872590168580437436826439476676455155513835329999554603443934281529140976158131396605113022701660586821111613694483013009052195430919367149183744659756524369391146414283830435553807378749861633760517826', 'm_caps': {'master_secret': '26259398434302880491417534717954811963232489746352157028566379308902927454672179819091078489608572678195495200177081458892928600257893059770380251833266869733212066744285836839521'}, 'r_caps': {}}, 'nonce': '521525066626549853059336'}, 'thread_id': '7b8c1795-c149-4290-9a8d-95629c5c7a8e', 'auto_offer': False, 'created_at': '2023-01-03 12:12:33.658242Z', 'connection_id': '3a5b59b0-f221-429b-b8f3-b121e1b7c640'}]\n",
            "Credential exchange b8cf7b7c-ac64-448d-97a5-42dc5f1a0d41, role: issuer, state: credential_issued\n"
          ]
        }
      ],
      "source": [
        "response = await agent_controller.issuer.get_records()\n",
        "print(response['results'])\n",
        "cred_record = await agent_controller.issuer.get_record_by_id(record_id)\n",
        "state = cred_record['state']\n",
        "role = cred_record['role']\n",
        "print(f\"Credential exchange {record_id}, role: {role}, state: {state}\")"
      ]
    },
    {
      "cell_type": "code",
      "execution_count": 24,
      "id": "8f2c3aa7",
      "metadata": {},
      "outputs": [
        {
          "name": "stdout",
          "output_type": "stream",
          "text": [
            "{}\n"
          ]
        }
      ],
      "source": [
        "## Remove records\n",
        "response = await agent_controller.issuer.remove_record(record_id)\n",
        "print(response)"
      ]
    },
    {
      "cell_type": "code",
      "execution_count": 12,
      "id": "76a30494",
      "metadata": {},
      "outputs": [
        {
          "name": "stdout",
          "output_type": "stream",
          "text": [
            "None\n"
          ]
        }
      ],
      "source": [
        "response = await agent_controller.terminate()\n",
        "print(response)"
      ]
    },
    {
      "cell_type": "code",
      "execution_count": null,
      "id": "8bf73a63",
      "metadata": {},
      "outputs": [],
      "source": []
    }
  ],
  "metadata": {
    "kernelspec": {
      "display_name": "Python 3 (ipykernel)",
      "language": "python",
      "name": "python3"
    },
    "language_info": {
      "codemirror_mode": {
        "name": "ipython",
        "version": 3
      },
      "file_extension": ".py",
      "mimetype": "text/x-python",
      "name": "python",
      "nbconvert_exporter": "python",
      "pygments_lexer": "ipython3",
      "version": "3.10.8"
    }
  },
  "nbformat": 4,
  "nbformat_minor": 5
}
