{
 "cells": [
  {
   "cell_type": "markdown",
   "id": "406a7980",
   "metadata": {},
   "source": [
    "# DM (device manufacturer) connects to music (device) and assign them ownership - Music"
   ]
  },
  {
   "cell_type": "markdown",
   "id": "1341208a",
   "metadata": {},
   "source": [
    "## 3. Initialize Music"
   ]
  },
  {
   "cell_type": "code",
   "execution_count": 1,
   "id": "7e0907e7",
   "metadata": {},
   "outputs": [
    {
     "name": "stdout",
     "output_type": "stream",
     "text": [
      "IPython autoawait is `on`, and set to use `asyncio`\n",
      "Subscribing too: connections\n",
      "Connection Handler Called\n",
      "Connection 6e50c915-b645-4983-aa62-9b743915bf84 in State invitation\n",
      "Connection Handler Called\n",
      "Connection 6e50c915-b645-4983-aa62-9b743915bf84 in State request\n",
      "Connection {'rfc23_state': 'request-sent', 'state': 'request', 'their_label': 'Alice', 'their_role': 'inviter', 'invitation_key': '2EZgL2gMffbxQFWBS2mVkuLmFPAzaMVgwGZXTswYCE6y', 'invitation_mode': 'once', 'created_at': '2023-01-03 12:11:05.203200Z', 'request_id': '3c5e3b3e-38ae-4df4-85b7-644a9c550a09', 'connection_id': '6e50c915-b645-4983-aa62-9b743915bf84', 'routing_state': 'none', 'updated_at': '2023-01-03 12:11:05.262616Z', 'accept': 'manual', 'my_did': 'JwZFj9aDdiL1d4pJSSL3Wj'}\n",
      "Connection Handler Called\n",
      "Connection 6e50c915-b645-4983-aa62-9b743915bf84 in State response\n",
      "Connection Handler Called\n",
      "Connection 6e50c915-b645-4983-aa62-9b743915bf84 in State active\n"
     ]
    }
   ],
   "source": [
    "%autoawait\n",
    "import time\n",
    "import asyncio\n",
    "from aries_basic_controller.aries_controller import AriesAgentController\n",
    "    \n",
    "WEBHOOK_HOST = \"0.0.0.0\"\n",
    "WEBHOOK_PORT = 8052\n",
    "WEBHOOK_BASE = \"\"\n",
    "ADMIN_URL = \"http://bob-agent:8051\"\n",
    "API_KEY = \"bob_api_123456789\"\n",
    "\n",
    "agent_controller = AriesAgentController(admin_url=ADMIN_URL, api_key=API_KEY)\n",
    "\n",
    "agent_controller.init_webhook_server(webhook_host=WEBHOOK_HOST,\n",
    "                                     webhook_port=WEBHOOK_PORT,\n",
    "                                     webhook_base=WEBHOOK_BASE)\n",
    "\n",
    "loop = asyncio.get_event_loop()\n",
    "loop.create_task(agent_controller.listen_webhooks())\n",
    "\n",
    "def connection_handler(payload):\n",
    "    print(\"Connection Handler Called\")\n",
    "    connection_id = payload[\"connection_id\"]\n",
    "    state = payload[\"state\"]\n",
    "    print(f\"Connection {connection_id} in State {state}\")\n",
    "    \n",
    "connection_listener = {\n",
    "    \"handler\": connection_handler,\n",
    "    \"topic\": \"connections\"\n",
    "}\n",
    "\n",
    "agent_controller.register_listeners([connection_listener], defaults=True)\n",
    "\n",
    "\n",
    "######################\n",
    "# Remember to update #\n",
    "######################\n",
    "\n",
    "invitation = {'@type': 'did:sov:BzCbsNYhMrjHiqZDTUASHg;spec/connections/1.0/invitation', '@id': '2065f3a1-1568-41ad-9a0d-d217d3eecfd0', 'recipientKeys': ['2EZgL2gMffbxQFWBS2mVkuLmFPAzaMVgwGZXTswYCE6y'], 'serviceEndpoint': 'http://192.168.65.3:8020', 'label': 'Alice'}\n",
    "\n",
    "\n",
    "# Receive Invitation\n",
    "response = await agent_controller.connections.accept_connection(invitation)\n",
    "# Print out accepted Invite and Alice's connection ID\n",
    "print(\"Connection\", response)\n",
    "alice_id = response[\"connection_id\"]\n"
   ]
  },
  {
   "cell_type": "code",
   "execution_count": 2,
   "id": "0a7adf57",
   "metadata": {},
   "outputs": [
    {
     "name": "stdout",
     "output_type": "stream",
     "text": [
      "Alice AGENT CONNECTION\n",
      "{'rfc23_state': 'completed', 'state': 'active', 'their_label': 'Alice', 'their_role': 'inviter', 'invitation_key': '2EZgL2gMffbxQFWBS2mVkuLmFPAzaMVgwGZXTswYCE6y', 'invitation_mode': 'once', 'created_at': '2023-01-03 12:11:05.203200Z', 'request_id': '3c5e3b3e-38ae-4df4-85b7-644a9c550a09', 'their_did': 'XtNBn5VgqaouerjBv9zGiy', 'connection_id': '6e50c915-b645-4983-aa62-9b743915bf84', 'routing_state': 'none', 'updated_at': '2023-01-03 12:11:59.345427Z', 'accept': 'manual', 'my_did': 'JwZFj9aDdiL1d4pJSSL3Wj'}\n",
      "State: active\n"
     ]
    }
   ],
   "source": [
    "# Print connection list\n",
    "connection = await agent_controller.connections.get_connection(alice_id)\n",
    "print(\"Alice AGENT CONNECTION\")\n",
    "print(connection)\n",
    "print(\"State:\", connection[\"state\"])"
   ]
  },
  {
   "cell_type": "markdown",
   "id": "3680db4b",
   "metadata": {},
   "source": [
    "# Give MUSIC the VC of ownership and origin - DM"
   ]
  },
  {
   "cell_type": "markdown",
   "id": "76d24a03",
   "metadata": {},
   "source": [
    "## 3. Credential Exchange!"
   ]
  },
  {
   "cell_type": "code",
   "execution_count": 3,
   "id": "e51ba69a",
   "metadata": {},
   "outputs": [
    {
     "name": "stdout",
     "output_type": "stream",
     "text": [
      "Credential exchange 0a9a0112-9a00-4449-8894-f80fe533e426, role: holder, state: offer_received\n",
      "Being offered: [{'name': 'author', 'value': 'PQRXDxdGqQGSZ8z69p4xZP'}, {'name': 'name', 'value': 'balabababa music'}, {'name': 'time', 'value': '01-03-2023, 12:12:33'}, {'name': 'origin', 'value': 'PQRXDxdGqQGSZ8z69p4xZP'}, {'name': 'owner', 'value': 'PQRXDxdGqQGSZ8z69p4xZP'}, {'name': 'version', 'value': 'v1'}]\n"
     ]
    }
   ],
   "source": [
    "response = await agent_controller.issuer.get_records()\n",
    "results = response[\"results\"]\n",
    "if len(results) == 0:\n",
    "    print(\"You need to first send a credential from the issuer notebook (Alice)\")\n",
    "else:\n",
    "    cred_record = results[0]\n",
    "    cred_ex_id = cred_record['credential_exchange_id']\n",
    "    state = cred_record['state']\n",
    "    role = cred_record['role']\n",
    "    attributes = results[0]['credential_proposal_dict']['credential_proposal']['attributes']\n",
    "    print(f\"Credential exchange {cred_ex_id}, role: {role}, state: {state}\")\n",
    "    print(f\"Being offered: {attributes}\")"
   ]
  },
  {
   "cell_type": "code",
   "execution_count": 4,
   "id": "2dc43803",
   "metadata": {},
   "outputs": [
    {
     "name": "stdout",
     "output_type": "stream",
     "text": [
      "Credential exchange 0a9a0112-9a00-4449-8894-f80fe533e426, role: holder, state: request_sent\n"
     ]
    }
   ],
   "source": [
    "# Request credential from issuer\n",
    "record = await agent_controller.issuer.send_request_for_record(cred_ex_id)\n",
    "state = record['state']\n",
    "role = record['role']\n",
    "print(f\"Credential exchange {cred_ex_id}, role: {role}, state: {state}\")"
   ]
  },
  {
   "cell_type": "code",
   "execution_count": 6,
   "id": "79f2e3e4",
   "metadata": {},
   "outputs": [
    {
     "name": "stdout",
     "output_type": "stream",
     "text": [
      "Credential exchange 0a9a0112-9a00-4449-8894-f80fe533e426, role: holder, state: credential_received\n"
     ]
    }
   ],
   "source": [
    "record = await agent_controller.issuer.get_record_by_id(cred_ex_id)\n",
    "state = record['state']\n",
    "role = record['role']\n",
    "print(f\"Credential exchange {cred_ex_id}, role: {role}, state: {state}\")"
   ]
  },
  {
   "cell_type": "code",
   "execution_count": 7,
   "id": "d80164a6",
   "metadata": {},
   "outputs": [
    {
     "name": "stdout",
     "output_type": "stream",
     "text": [
      "Credential exchange 0a9a0112-9a00-4449-8894-f80fe533e426, role: holder, state: credential_acked\n"
     ]
    }
   ],
   "source": [
    "# Store credential\n",
    "response = await agent_controller.issuer.store_credential(cred_ex_id, \"My OM Credential\")\n",
    "state = response['state']\n",
    "role = response['role']\n",
    "print(f\"Credential exchange {cred_ex_id}, role: {role}, state: {state}\")"
   ]
  },
  {
   "cell_type": "markdown",
   "id": "dba9a208",
   "metadata": {},
   "source": [
    "## Remove connection !!!"
   ]
  },
  {
   "cell_type": "code",
   "execution_count": 8,
   "id": "60fe1fc7",
   "metadata": {},
   "outputs": [
    {
     "name": "stdout",
     "output_type": "stream",
     "text": [
      "{}\n",
      "{'results': []}\n"
     ]
    }
   ],
   "source": [
    "remove = await agent_controller.connections.remove_connection(alice_id)\n",
    "print(remove)\n",
    "response = await agent_controller.connections.get_connections()\n",
    "print(response)"
   ]
  },
  {
   "cell_type": "code",
   "execution_count": 9,
   "id": "8cf3b51d",
   "metadata": {},
   "outputs": [
    {
     "name": "stdout",
     "output_type": "stream",
     "text": [
      "None\n"
     ]
    }
   ],
   "source": [
    "response = await agent_controller.terminate()\n",
    "print(response)"
   ]
  },
  {
   "cell_type": "code",
   "execution_count": null,
   "id": "8efeb15a",
   "metadata": {},
   "outputs": [],
   "source": []
  },
  {
   "cell_type": "code",
   "execution_count": null,
   "id": "a905fe39",
   "metadata": {},
   "outputs": [],
   "source": []
  }
 ],
 "metadata": {
  "kernelspec": {
   "display_name": "Python 3 (ipykernel)",
   "language": "python",
   "name": "python3"
  },
  "language_info": {
   "codemirror_mode": {
    "name": "ipython",
    "version": 3
   },
   "file_extension": ".py",
   "mimetype": "text/x-python",
   "name": "python",
   "nbconvert_exporter": "python",
   "pygments_lexer": "ipython3",
   "version": "3.10.8"
  }
 },
 "nbformat": 4,
 "nbformat_minor": 5
}
