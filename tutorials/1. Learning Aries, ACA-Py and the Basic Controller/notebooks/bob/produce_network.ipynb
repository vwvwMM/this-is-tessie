{
  "cells": [
    {
      "cell_type": "markdown",
      "id": "de7f6f72",
      "metadata": {},
      "source": [
        "# DM (device manufacturer) connects to music (device) and assign them ownership - Music"
      ]
    },
    {
      "cell_type": "markdown",
      "id": "337bfda2",
      "metadata": {},
      "source": [
        "## 3. Initialize Music"
      ]
    },
    {
      "cell_type": "code",
      "execution_count": 5,
      "id": "3154bc89",
      "metadata": {},
      "outputs": [
        {
          "name": "stderr",
          "output_type": "stream",
          "text": [
            "ERROR:asyncio:Unclosed client session\n",
            "client_session: <aiohttp.client.ClientSession object at 0xffff835bf580>\n",
            "WARNING:aries_webhook_server:Listening webhooks failed! OSError(98, \"error while attempting to bind on address ('0.0.0.0', 8052): address already in use\") occurred.\n"
          ]
        },
        {
          "name": "stdout",
          "output_type": "stream",
          "text": [
            "IPython autoawait is `on`, and set to use `asyncio`\n",
            "Subscribing too: connections\n",
            "Connection Handler Called\n",
            "Connection baa276da-1701-4bab-bea5-2131c73b8c99 in State invitation\n",
            "Connection Handler Called\n",
            "Connection baa276da-1701-4bab-bea5-2131c73b8c99 in State request\n",
            "Connection {'updated_at': '2023-01-03 09:50:17.474612Z', 'invitation_key': 'HPzbCgs9vbNADqSan19WJXj5Lh4sojXbZRSNH4rGXuoS', 'routing_state': 'none', 'my_did': 'RVUeTCGDsdFCQuN3Nrz6bt', 'their_label': 'Alice', 'created_at': '2023-01-03 09:50:17.433112Z', 'connection_id': 'baa276da-1701-4bab-bea5-2131c73b8c99', 'state': 'request', 'their_role': 'inviter', 'request_id': 'b1246b8a-8da8-4b73-a4ef-97dbc155d10d', 'accept': 'manual', 'rfc23_state': 'request-sent', 'invitation_mode': 'once'}\n"
          ]
        }
      ],
      "source": [
        "%autoawait\n",
        "import time\n",
        "import asyncio\n",
        "from aries_basic_controller.aries_controller import AriesAgentController\n",
        "    \n",
        "WEBHOOK_HOST = \"0.0.0.0\"\n",
        "WEBHOOK_PORT = 8052\n",
        "WEBHOOK_BASE = \"\"\n",
        "ADMIN_URL = \"http://bob-agent:8051\"\n",
        "API_KEY = \"bob_api_123456789\"\n",
        "\n",
        "agent_controller = AriesAgentController(admin_url=ADMIN_URL, api_key=API_KEY)\n",
        "\n",
        "agent_controller.init_webhook_server(webhook_host=WEBHOOK_HOST,\n",
        "                                     webhook_port=WEBHOOK_PORT,\n",
        "                                     webhook_base=WEBHOOK_BASE)\n",
        "\n",
        "loop = asyncio.get_event_loop()\n",
        "loop.create_task(agent_controller.listen_webhooks())\n",
        "\n",
        "def connection_handler(payload):\n",
        "    print(\"Connection Handler Called\")\n",
        "    connection_id = payload[\"connection_id\"]\n",
        "    state = payload[\"state\"]\n",
        "    print(f\"Connection {connection_id} in State {state}\")\n",
        "    \n",
        "connection_listener = {\n",
        "    \"handler\": connection_handler,\n",
        "    \"topic\": \"connections\"\n",
        "}\n",
        "\n",
        "agent_controller.register_listeners([connection_listener], defaults=True)\n",
        "\n",
        "\n",
        "######################\n",
        "# Remember to update #\n",
        "######################\n",
        "\n",
        "invitation = {'@type': 'did:sov:BzCbsNYhMrjHiqZDTUASHg;spec/connections/1.0/invitation', '@id': '1574a7ae-4fff-4bbe-b6d0-99bd2261f503', 'label': 'Alice', 'recipientKeys': ['HPzbCgs9vbNADqSan19WJXj5Lh4sojXbZRSNH4rGXuoS'], 'serviceEndpoint': 'http://192.168.65.3:8020'}\n",
        "\n",
        "\n",
        "# Receive Invitation\n",
        "response = await agent_controller.connections.accept_connection(invitation)\n",
        "# Print out accepted Invite and Alice's connection ID\n",
        "print(\"Connection\", response)\n",
        "alice_id = response[\"connection_id\"]\n"
      ]
    },
    {
      "cell_type": "code",
      "execution_count": 2,
      "id": "343b948c",
      "metadata": {},
      "outputs": [
        {
          "name": "stdout",
          "output_type": "stream",
          "text": [
            "Alice AGENT CONNECTION\n",
            "{'updated_at': '2023-01-03 09:48:05.335937Z', 'invitation_key': 'HPzbCgs9vbNADqSan19WJXj5Lh4sojXbZRSNH4rGXuoS', 'routing_state': 'none', 'my_did': 'NBqKhfDcnkrgJK6eRfG9Ki', 'their_label': 'Alice', 'created_at': '2023-01-03 09:48:05.247236Z', 'connection_id': '6eec15ec-5b21-4d65-b6fb-98b26b7b00ae', 'state': 'request', 'their_role': 'inviter', 'request_id': '9745aef8-5619-4403-b548-d88ae84b2633', 'accept': 'manual', 'rfc23_state': 'request-sent', 'invitation_mode': 'once'}\n",
            "State: request\n",
            "Connection Handler Called\n",
            "Connection 6eec15ec-5b21-4d65-b6fb-98b26b7b00ae in State response\n",
            "Connection Handler Called\n",
            "Connection 6eec15ec-5b21-4d65-b6fb-98b26b7b00ae in State active\n"
          ]
        }
      ],
      "source": [
        "# Print connection list\n",
        "connection = await agent_controller.connections.get_connection(alice_id)\n",
        "print(\"Alice AGENT CONNECTION\")\n",
        "print(connection)\n",
        "print(\"State:\", connection[\"state\"])"
      ]
    },
    {
      "cell_type": "code",
      "execution_count": 3,
      "id": "1653a630",
      "metadata": {},
      "outputs": [
        {
          "name": "stdout",
          "output_type": "stream",
          "text": [
            "None\n"
          ]
        }
      ],
      "source": [
        "response = await agent_controller.terminate()\n",
        "print(response)"
      ]
    },
    {
      "cell_type": "markdown",
      "id": "6eb3c0e9",
      "metadata": {},
      "source": [
        "# Give MUSIC the VC of ownership and origin - DM"
      ]
    },
    {
      "cell_type": "markdown",
      "id": "753e4863",
      "metadata": {},
      "source": [
        "## 3. Credential Exchange!"
      ]
    },
    {
      "cell_type": "code",
      "execution_count": 6,
      "id": "4ffa2774",
      "metadata": {},
      "outputs": [
        {
          "name": "stdout",
          "output_type": "stream",
          "text": [
            "Credential exchange 7a2e3f54-c8d1-47cd-bd31-690d42b81cf8, role: holder, state: offer_received\n",
            "Being offered: [{'name': 'author', 'value': 'PQRXDxdGqQGSZ8z69p4xZP'}, {'name': 'name', 'value': 'balabababa music'}, {'name': 'time', 'value': '01-03-2023, 09:50:08'}, {'name': 'origin', 'value': 'PQRXDxdGqQGSZ8z69p4xZP'}, {'name': 'owner', 'value': 'PQRXDxdGqQGSZ8z69p4xZP'}, {'name': 'version', 'value': 'v1'}]\n"
          ]
        }
      ],
      "source": [
        "response = await agent_controller.issuer.get_records()\n",
        "results = response[\"results\"]\n",
        "if len(results) == 0:\n",
        "    print(\"You need to first send a credential from the issuer notebook (Alice)\")\n",
        "else:\n",
        "    cred_record = results[0]\n",
        "    cred_ex_id = cred_record['credential_exchange_id']\n",
        "    state = cred_record['state']\n",
        "    role = cred_record['role']\n",
        "    attributes = results[0]['credential_proposal_dict']['credential_proposal']['attributes']\n",
        "    print(f\"Credential exchange {cred_ex_id}, role: {role}, state: {state}\")\n",
        "    print(f\"Being offered: {attributes}\")"
      ]
    },
    {
      "cell_type": "code",
      "execution_count": 7,
      "id": "5cec7fa6",
      "metadata": {},
      "outputs": [
        {
          "name": "stdout",
          "output_type": "stream",
          "text": [
            "Credential exchange 7a2e3f54-c8d1-47cd-bd31-690d42b81cf8, role: holder, state: request_sent\n"
          ]
        }
      ],
      "source": [
        "# Request credential from issuer\n",
        "record = await agent_controller.issuer.send_request_for_record(cred_ex_id)\n",
        "state = record['state']\n",
        "role = record['role']\n",
        "print(f\"Credential exchange {cred_ex_id}, role: {role}, state: {state}\")"
      ]
    },
    {
      "cell_type": "code",
      "execution_count": 8,
      "id": "6e152aba",
      "metadata": {},
      "outputs": [
        {
          "name": "stdout",
          "output_type": "stream",
          "text": [
            "Credential exchange 7a2e3f54-c8d1-47cd-bd31-690d42b81cf8, role: holder, state: credential_received\n"
          ]
        }
      ],
      "source": [
        "record = await agent_controller.issuer.get_record_by_id(cred_ex_id)\n",
        "state = record['state']\n",
        "role = record['role']\n",
        "print(f\"Credential exchange {cred_ex_id}, role: {role}, state: {state}\")"
      ]
    },
    {
      "cell_type": "code",
      "execution_count": 10,
      "id": "2e2f3d19",
      "metadata": {},
      "outputs": [
        {
          "name": "stdout",
          "output_type": "stream",
          "text": [
            "Credential exchange 7a2e3f54-c8d1-47cd-bd31-690d42b81cf8, role: holder, state: credential_acked\n"
          ]
        }
      ],
      "source": [
        "# Store credential\n",
        "response = await agent_controller.issuer.store_credential(cred_ex_id, \"My Credential\")\n",
        "state = response['state']\n",
        "role = response['role']\n",
        "print(f\"Credential exchange {cred_ex_id}, role: {role}, state: {state}\")"
      ]
    },
    {
      "cell_type": "markdown",
      "id": "b1f7147c",
      "metadata": {},
      "source": [
        "## Remove connection !!!"
      ]
    },
    {
      "cell_type": "code",
      "execution_count": 9,
      "id": "e663a818",
      "metadata": {},
      "outputs": [
        {
          "name": "stdout",
          "output_type": "stream",
          "text": [
            "{}\n",
            "{'results': [{'their_role': 'inviter', 'invitation_key': '8yDBAPXWfTEKdKCdRHBr7rKVpJ5pZkQ2bLGoJEXFbxCX', 'their_label': 'Alice', 'invitation_mode': 'once', 'accept': 'manual', 'request_id': '22d9839a-dded-477d-a7f7-300187999d92', 'state': 'request', 'connection_id': '0380cef4-1ad8-44d1-9d3b-aeb00d16daf2', 'created_at': '2023-01-03 09:28:18.914466Z', 'rfc23_state': 'request-sent', 'updated_at': '2023-01-03 09:28:18.975253Z', 'routing_state': 'none', 'my_did': 'X912oZQ5u5JLBk7fDT2LfT'}, {'their_role': 'inviter', 'invitation_key': '8fzHn56Ws5XGrbnFgFC7cvNxAJaQ5H6twaRWGA8TKphM', 'their_label': 'Alice', 'invitation_mode': 'once', 'accept': 'manual', 'request_id': '3c858a56-d4f3-4f83-91d6-093f66e0ab82', 'state': 'active', 'connection_id': '3fa138e7-7965-48c9-b731-8fc1d72c2d3e', 'created_at': '2023-01-03 09:28:35.129989Z', 'rfc23_state': 'completed', 'updated_at': '2023-01-03 09:29:15.049797Z', 'routing_state': 'none', 'my_did': 'VjHmiqvFUDKtfjzadgFhjk', 'their_did': 'QRT3h2UtVYUFwkjVEJjK5U'}]}\n"
          ]
        }
      ],
      "source": [
        "remove = await agent_controller.connections.remove_connection(alice_id)\n",
        "print(remove)\n",
        "response = await agent_controller.connections.get_connections()\n",
        "print(response)"
      ]
    },
    {
      "cell_type": "code",
      "execution_count": 12,
      "id": "a7731b55",
      "metadata": {},
      "outputs": [
        {
          "name": "stdout",
          "output_type": "stream",
          "text": [
            "None\n",
            "Connection Handler Called\n",
            "Connection e75ff16d-708f-4f31-9d79-6231d6423177 in State invitation\n",
            "Connection Handler Called\n",
            "Connection e75ff16d-708f-4f31-9d79-6231d6423177 in State request\n",
            "Connection Handler Called\n",
            "Connection e75ff16d-708f-4f31-9d79-6231d6423177 in State response\n",
            "Connection Handler Called\n",
            "Connection e75ff16d-708f-4f31-9d79-6231d6423177 in State active\n",
            "Connection Handler Called\n",
            "Connection e43a8669-e546-45ad-9c74-9e5990b89534 in State invitation\n",
            "Connection Handler Called\n",
            "Connection e43a8669-e546-45ad-9c74-9e5990b89534 in State request\n",
            "Connection Handler Called\n",
            "Connection e43a8669-e546-45ad-9c74-9e5990b89534 in State response\n",
            "Connection Handler Called\n",
            "Connection e43a8669-e546-45ad-9c74-9e5990b89534 in State active\n"
          ]
        }
      ],
      "source": [
        "response = await agent_controller.terminate()\n",
        "print(response)"
      ]
    },
    {
      "cell_type": "code",
      "execution_count": null,
      "id": "ba442c84",
      "metadata": {},
      "outputs": [],
      "source": []
    },
    {
      "cell_type": "code",
      "execution_count": null,
      "id": "2683d8b1",
      "metadata": {},
      "outputs": [],
      "source": []
    }
  ],
  "metadata": {
    "kernelspec": {
      "display_name": "Python 3 (ipykernel)",
      "language": "python",
      "name": "python3"
    },
    "language_info": {
      "codemirror_mode": {
        "name": "ipython",
        "version": 3
      },
      "file_extension": ".py",
      "mimetype": "text/x-python",
      "name": "python",
      "nbconvert_exporter": "python",
      "pygments_lexer": "ipython3",
      "version": "3.10.8"
    }
  },
  "nbformat": 4,
  "nbformat_minor": 5
}
