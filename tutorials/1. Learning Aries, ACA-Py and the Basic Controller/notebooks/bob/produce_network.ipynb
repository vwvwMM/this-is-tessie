{
 "cells": [
  {
   "cell_type": "markdown",
   "id": "bada344b",
   "metadata": {},
   "source": [
    "# DM (device manufacturer) connects to music (device) and assign them ownership - Music"
   ]
  },
  {
   "cell_type": "markdown",
   "id": "0134b9bb",
   "metadata": {},
   "source": [
    "## 3. Initialize Music"
   ]
  },
  {
   "cell_type": "code",
   "execution_count": 6,
   "id": "eba115d9",
   "metadata": {},
   "outputs": [
    {
     "name": "stderr",
     "output_type": "stream",
     "text": [
      "ERROR:asyncio:Unclosed client session\n",
      "client_session: <aiohttp.client.ClientSession object at 0xffff8d6bf4c0>\n",
      "WARNING:aries_webhook_server:Listening webhooks failed! OSError(98, \"error while attempting to bind on address ('0.0.0.0', 8052): address already in use\") occurred.\n"
     ]
    },
    {
     "name": "stdout",
     "output_type": "stream",
     "text": [
      "IPython autoawait is `on`, and set to use `asyncio`\n",
      "Subscribing too: connections\n",
      "Connection Handler Called\n",
      "Connection 5d918450-a06e-4cf6-a711-56d85333a1dd in State invitation\n",
      "Connection Handler Called\n",
      "Connection 5d918450-a06e-4cf6-a711-56d85333a1dd in State request\n",
      "Connection {'their_label': 'Alice', 'rfc23_state': 'request-sent', 'their_role': 'inviter', 'updated_at': '2023-01-03 06:12:18.950337Z', 'invitation_mode': 'once', 'accept': 'manual', 'invitation_key': '8yDBAPXWfTEKdKCdRHBr7rKVpJ5pZkQ2bLGoJEXFbxCX', 'request_id': '7efa89d7-6529-4a47-9c26-db47d85014bf', 'my_did': 'YTZXU7cCnfKDw3cCqUhDbA', 'routing_state': 'none', 'connection_id': '5d918450-a06e-4cf6-a711-56d85333a1dd', 'created_at': '2023-01-03 06:12:18.896817Z', 'state': 'request'}\n"
     ]
    }
   ],
   "source": [
    "%autoawait\n",
    "import time\n",
    "import asyncio\n",
    "from aries_basic_controller.aries_controller import AriesAgentController\n",
    "    \n",
    "WEBHOOK_HOST = \"0.0.0.0\"\n",
    "WEBHOOK_PORT = 8052\n",
    "WEBHOOK_BASE = \"\"\n",
    "ADMIN_URL = \"http://bob-agent:8051\"\n",
    "API_KEY = \"bob_api_123456789\"\n",
    "\n",
    "agent_controller = AriesAgentController(admin_url=ADMIN_URL, api_key=API_KEY)\n",
    "\n",
    "agent_controller.init_webhook_server(webhook_host=WEBHOOK_HOST,\n",
    "                                     webhook_port=WEBHOOK_PORT,\n",
    "                                     webhook_base=WEBHOOK_BASE)\n",
    "\n",
    "loop = asyncio.get_event_loop()\n",
    "loop.create_task(agent_controller.listen_webhooks())\n",
    "\n",
    "def connection_handler(payload):\n",
    "    print(\"Connection Handler Called\")\n",
    "    connection_id = payload[\"connection_id\"]\n",
    "    state = payload[\"state\"]\n",
    "    print(f\"Connection {connection_id} in State {state}\")\n",
    "    \n",
    "connection_listener = {\n",
    "    \"handler\": connection_handler,\n",
    "    \"topic\": \"connections\"\n",
    "}\n",
    "\n",
    "agent_controller.register_listeners([connection_listener], defaults=True)\n",
    "\n",
    "\n",
    "######################\n",
    "# Remember to update #\n",
    "######################\n",
    "\n",
    "invitation = {'@type': 'did:sov:BzCbsNYhMrjHiqZDTUASHg;spec/connections/1.0/invitation', '@id': 'f01983a3-5d75-4a07-bcec-32c0af52b789', 'recipientKeys': ['8yDBAPXWfTEKdKCdRHBr7rKVpJ5pZkQ2bLGoJEXFbxCX'], 'label': 'Alice', 'serviceEndpoint': 'http://192.168.65.3:8020'}\n",
    "\n",
    "\n",
    "# Receive Invitation\n",
    "response = await agent_controller.connections.accept_connection(invitation)\n",
    "# Print out accepted Invite and Alice's connection ID\n",
    "print(\"Connection\", response)\n",
    "alice_id = response[\"connection_id\"]\n"
   ]
  },
  {
   "cell_type": "code",
   "execution_count": 7,
   "id": "7c6a3227",
   "metadata": {},
   "outputs": [
    {
     "name": "stdout",
     "output_type": "stream",
     "text": [
      "Alice AGENT CONNECTION\n",
      "{'their_label': 'Alice', 'rfc23_state': 'request-sent', 'their_role': 'inviter', 'updated_at': '2023-01-03 06:12:18.950337Z', 'invitation_mode': 'once', 'accept': 'manual', 'invitation_key': '8yDBAPXWfTEKdKCdRHBr7rKVpJ5pZkQ2bLGoJEXFbxCX', 'request_id': '7efa89d7-6529-4a47-9c26-db47d85014bf', 'my_did': 'YTZXU7cCnfKDw3cCqUhDbA', 'routing_state': 'none', 'connection_id': '5d918450-a06e-4cf6-a711-56d85333a1dd', 'created_at': '2023-01-03 06:12:18.896817Z', 'state': 'request'}\n",
      "State: request\n",
      "Connection Handler Called\n",
      "Connection 5d918450-a06e-4cf6-a711-56d85333a1dd in State response\n",
      "Connection Handler Called\n",
      "Connection 5d918450-a06e-4cf6-a711-56d85333a1dd in State active\n"
     ]
    }
   ],
   "source": [
    "# Print connection list\n",
    "connection = await agent_controller.connections.get_connection(alice_id)\n",
    "print(\"Alice AGENT CONNECTION\")\n",
    "print(connection)\n",
    "print(\"State:\", connection[\"state\"])"
   ]
  },
  {
   "cell_type": "markdown",
   "id": "bb1c4b15",
   "metadata": {},
   "source": [
    "# Give MUSIC the VC of ownership and origin - DM"
   ]
  },
  {
   "cell_type": "markdown",
   "id": "454b0d39",
   "metadata": {},
   "source": [
    "## 3. Credential Exchange!"
   ]
  },
  {
   "cell_type": "code",
   "execution_count": 8,
   "id": "429da441",
   "metadata": {},
   "outputs": [
    {
     "name": "stdout",
     "output_type": "stream",
     "text": [
      "Credential exchange 75c7d31c-9b2c-4f80-9929-13a7871f4946, role: holder, state: credential_received\n",
      "Being offered: [{'name': 'name', 'value': 'Bob'}, {'name': 'skill', 'value': 'researcher'}, {'name': 'age', 'value': '21'}]\n"
     ]
    }
   ],
   "source": [
    "response = await agent_controller.issuer.get_records()\n",
    "results = response[\"results\"]\n",
    "if len(results) == 0:\n",
    "    print(\"You need to first send a credential from the issuer notebook (Alice)\")\n",
    "else:\n",
    "    cred_record = results[0]\n",
    "    cred_ex_id = cred_record['credential_exchange_id']\n",
    "    state = cred_record['state']\n",
    "    role = cred_record['role']\n",
    "    attributes = results[0]['credential_proposal_dict']['credential_proposal']['attributes']\n",
    "    print(f\"Credential exchange {cred_ex_id}, role: {role}, state: {state}\")\n",
    "    print(f\"Being offered: {attributes}\")"
   ]
  },
  {
   "cell_type": "code",
   "execution_count": 9,
   "id": "3521ff82",
   "metadata": {},
   "outputs": [
    {
     "ename": "ClientResponseError",
     "evalue": "400, message='Credential exchange 75c7d31c-9b2c-4f80-9929-13a7871f4946 in credential_received state (must be offer_received).', url=URL('http://bob-agent:8051/issue-credential/records/75c7d31c-9b2c-4f80-9929-13a7871f4946/send-request')",
     "output_type": "error",
     "traceback": [
      "\u001b[0;31m---------------------------------------------------------------------------\u001b[0m",
      "\u001b[0;31mClientResponseError\u001b[0m                       Traceback (most recent call last)",
      "Cell \u001b[0;32mIn[9], line 2\u001b[0m\n\u001b[1;32m      1\u001b[0m \u001b[38;5;66;03m# Request credential from issuer\u001b[39;00m\n\u001b[0;32m----> 2\u001b[0m record \u001b[38;5;241m=\u001b[39m \u001b[38;5;28;01mawait\u001b[39;00m agent_controller\u001b[38;5;241m.\u001b[39missuer\u001b[38;5;241m.\u001b[39msend_request_for_record(cred_ex_id)\n\u001b[1;32m      3\u001b[0m state \u001b[38;5;241m=\u001b[39m record[\u001b[38;5;124m'\u001b[39m\u001b[38;5;124mstate\u001b[39m\u001b[38;5;124m'\u001b[39m]\n\u001b[1;32m      4\u001b[0m role \u001b[38;5;241m=\u001b[39m record[\u001b[38;5;124m'\u001b[39m\u001b[38;5;124mrole\u001b[39m\u001b[38;5;124m'\u001b[39m]\n",
      "File \u001b[0;32m/aries_basic_controller/controllers/issuer.py:78\u001b[0m, in \u001b[0;36mIssuerController.send_request_for_record\u001b[0;34m(self, cred_ex_id)\u001b[0m\n\u001b[1;32m     77\u001b[0m \u001b[38;5;28;01masync\u001b[39;00m \u001b[38;5;28;01mdef\u001b[39;00m \u001b[38;5;21msend_request_for_record\u001b[39m(\u001b[38;5;28mself\u001b[39m, cred_ex_id):\n\u001b[0;32m---> 78\u001b[0m     \u001b[38;5;28;01mreturn\u001b[39;00m \u001b[38;5;28;01mawait\u001b[39;00m \u001b[38;5;28mself\u001b[39m\u001b[38;5;241m.\u001b[39madmin_POST(\u001b[38;5;124mf\u001b[39m\u001b[38;5;124m\"\u001b[39m\u001b[38;5;132;01m{\u001b[39;00m\u001b[38;5;28mself\u001b[39m\u001b[38;5;241m.\u001b[39mbase_url\u001b[38;5;132;01m}\u001b[39;00m\u001b[38;5;124m/records/\u001b[39m\u001b[38;5;132;01m{\u001b[39;00mcred_ex_id\u001b[38;5;132;01m}\u001b[39;00m\u001b[38;5;124m/send-request\u001b[39m\u001b[38;5;124m\"\u001b[39m)\n",
      "File \u001b[0;32m/aries_basic_controller/controllers/base.py:95\u001b[0m, in \u001b[0;36mBaseController.admin_POST\u001b[0;34m(self, path, json_data, text, params, data)\u001b[0m\n\u001b[1;32m     89\u001b[0m \u001b[38;5;28;01mtry\u001b[39;00m:\n\u001b[1;32m     90\u001b[0m     EVENT_LOGGER\u001b[38;5;241m.\u001b[39mdebug(\n\u001b[1;32m     91\u001b[0m         \u001b[38;5;124m\"\u001b[39m\u001b[38;5;124mController POST \u001b[39m\u001b[38;5;132;01m%s\u001b[39;00m\u001b[38;5;124m request to Agent\u001b[39m\u001b[38;5;132;01m%s\u001b[39;00m\u001b[38;5;124m\"\u001b[39m,\n\u001b[1;32m     92\u001b[0m         path,\n\u001b[1;32m     93\u001b[0m         (\u001b[38;5;124m\"\u001b[39m\u001b[38;5;124m with data: \u001b[39m\u001b[38;5;130;01m\\n\u001b[39;00m\u001b[38;5;132;01m{}\u001b[39;00m\u001b[38;5;124m\"\u001b[39m\u001b[38;5;241m.\u001b[39mformat(repr_json(json_data)) \u001b[38;5;28;01mif\u001b[39;00m json_data \u001b[38;5;28;01melse\u001b[39;00m \u001b[38;5;124m\"\u001b[39m\u001b[38;5;124m\"\u001b[39m),\n\u001b[1;32m     94\u001b[0m     )\n\u001b[0;32m---> 95\u001b[0m     response \u001b[38;5;241m=\u001b[39m \u001b[38;5;28;01mawait\u001b[39;00m \u001b[38;5;28mself\u001b[39m\u001b[38;5;241m.\u001b[39madmin_request(\u001b[38;5;124m\"\u001b[39m\u001b[38;5;124mPOST\u001b[39m\u001b[38;5;124m\"\u001b[39m, path, json_data, text, params, data)\n\u001b[1;32m     96\u001b[0m     EVENT_LOGGER\u001b[38;5;241m.\u001b[39mdebug(\n\u001b[1;32m     97\u001b[0m         \u001b[38;5;124m\"\u001b[39m\u001b[38;5;124mResponse from POST \u001b[39m\u001b[38;5;132;01m%s\u001b[39;00m\u001b[38;5;124m received: \u001b[39m\u001b[38;5;130;01m\\n\u001b[39;00m\u001b[38;5;132;01m%s\u001b[39;00m\u001b[38;5;124m\"\u001b[39m,\n\u001b[1;32m     98\u001b[0m         path,\n\u001b[1;32m     99\u001b[0m         repr_json(response),\n\u001b[1;32m    100\u001b[0m     )\n\u001b[1;32m    101\u001b[0m     \u001b[38;5;28;01mreturn\u001b[39;00m response\n",
      "File \u001b[0;32m/aries_basic_controller/controllers/base.py:63\u001b[0m, in \u001b[0;36mBaseController.admin_request\u001b[0;34m(self, method, path, json_data, text, params, data)\u001b[0m\n\u001b[1;32m     59\u001b[0m params \u001b[38;5;241m=\u001b[39m {k: v \u001b[38;5;28;01mfor\u001b[39;00m (k, v) \u001b[38;5;129;01min\u001b[39;00m (params \u001b[38;5;129;01mor\u001b[39;00m {})\u001b[38;5;241m.\u001b[39mitems() \u001b[38;5;28;01mif\u001b[39;00m v \u001b[38;5;129;01mis\u001b[39;00m \u001b[38;5;129;01mnot\u001b[39;00m \u001b[38;5;28;01mNone\u001b[39;00m}\n\u001b[1;32m     60\u001b[0m \u001b[38;5;28;01masync\u001b[39;00m \u001b[38;5;28;01mwith\u001b[39;00m \u001b[38;5;28mself\u001b[39m\u001b[38;5;241m.\u001b[39mclient_session\u001b[38;5;241m.\u001b[39mrequest(\n\u001b[1;32m     61\u001b[0m     method, \u001b[38;5;28mself\u001b[39m\u001b[38;5;241m.\u001b[39madmin_url \u001b[38;5;241m+\u001b[39m path, json\u001b[38;5;241m=\u001b[39mjson_data, params\u001b[38;5;241m=\u001b[39mparams, data\u001b[38;5;241m=\u001b[39mdata\n\u001b[1;32m     62\u001b[0m ) \u001b[38;5;28;01mas\u001b[39;00m resp:\n\u001b[0;32m---> 63\u001b[0m     \u001b[43mresp\u001b[49m\u001b[38;5;241;43m.\u001b[39;49m\u001b[43mraise_for_status\u001b[49m\u001b[43m(\u001b[49m\u001b[43m)\u001b[49m\n\u001b[1;32m     64\u001b[0m     resp_text \u001b[38;5;241m=\u001b[39m \u001b[38;5;28;01mawait\u001b[39;00m resp\u001b[38;5;241m.\u001b[39mtext()\n\u001b[1;32m     65\u001b[0m     \u001b[38;5;28;01mif\u001b[39;00m \u001b[38;5;129;01mnot\u001b[39;00m resp_text \u001b[38;5;129;01mand\u001b[39;00m \u001b[38;5;129;01mnot\u001b[39;00m text:\n",
      "File \u001b[0;32m/opt/conda/lib/python3.10/site-packages/aiohttp/client_reqrep.py:1000\u001b[0m, in \u001b[0;36mClientResponse.raise_for_status\u001b[0;34m(self)\u001b[0m\n\u001b[1;32m    998\u001b[0m \u001b[38;5;28;01massert\u001b[39;00m \u001b[38;5;28mself\u001b[39m\u001b[38;5;241m.\u001b[39mreason \u001b[38;5;129;01mis\u001b[39;00m \u001b[38;5;129;01mnot\u001b[39;00m \u001b[38;5;28;01mNone\u001b[39;00m\n\u001b[1;32m    999\u001b[0m \u001b[38;5;28mself\u001b[39m\u001b[38;5;241m.\u001b[39mrelease()\n\u001b[0;32m-> 1000\u001b[0m \u001b[38;5;28;01mraise\u001b[39;00m ClientResponseError(\n\u001b[1;32m   1001\u001b[0m     \u001b[38;5;28mself\u001b[39m\u001b[38;5;241m.\u001b[39mrequest_info,\n\u001b[1;32m   1002\u001b[0m     \u001b[38;5;28mself\u001b[39m\u001b[38;5;241m.\u001b[39mhistory,\n\u001b[1;32m   1003\u001b[0m     status\u001b[38;5;241m=\u001b[39m\u001b[38;5;28mself\u001b[39m\u001b[38;5;241m.\u001b[39mstatus,\n\u001b[1;32m   1004\u001b[0m     message\u001b[38;5;241m=\u001b[39m\u001b[38;5;28mself\u001b[39m\u001b[38;5;241m.\u001b[39mreason,\n\u001b[1;32m   1005\u001b[0m     headers\u001b[38;5;241m=\u001b[39m\u001b[38;5;28mself\u001b[39m\u001b[38;5;241m.\u001b[39mheaders,\n\u001b[1;32m   1006\u001b[0m )\n",
      "\u001b[0;31mClientResponseError\u001b[0m: 400, message='Credential exchange 75c7d31c-9b2c-4f80-9929-13a7871f4946 in credential_received state (must be offer_received).', url=URL('http://bob-agent:8051/issue-credential/records/75c7d31c-9b2c-4f80-9929-13a7871f4946/send-request')"
     ]
    },
    {
     "name": "stdout",
     "output_type": "stream",
     "text": [
      "Error during POST /issue-credential/records/75c7d31c-9b2c-4f80-9929-13a7871f4946/send-request: 400, message='Credential exchange 75c7d31c-9b2c-4f80-9929-13a7871f4946 in credential_received state (must be offer_received).', url=URL('http://bob-agent:8051/issue-credential/records/75c7d31c-9b2c-4f80-9929-13a7871f4946/send-request')\n"
     ]
    }
   ],
   "source": [
    "# Request credential from issuer\n",
    "record = await agent_controller.issuer.send_request_for_record(cred_ex_id)\n",
    "state = record['state']\n",
    "role = record['role']\n",
    "print(f\"Credential exchange {cred_ex_id}, role: {role}, state: {state}\")"
   ]
  },
  {
   "cell_type": "code",
   "execution_count": 10,
   "id": "afde936b",
   "metadata": {},
   "outputs": [
    {
     "name": "stdout",
     "output_type": "stream",
     "text": [
      "Credential exchange 75c7d31c-9b2c-4f80-9929-13a7871f4946, role: holder, state: credential_received\n"
     ]
    }
   ],
   "source": [
    "record = await agent_controller.issuer.get_record_by_id(cred_ex_id)\n",
    "state = record['state']\n",
    "role = record['role']\n",
    "print(f\"Credential exchange {cred_ex_id}, role: {role}, state: {state}\")"
   ]
  },
  {
   "cell_type": "code",
   "execution_count": 11,
   "id": "e58e1657",
   "metadata": {},
   "outputs": [
    {
     "name": "stdout",
     "output_type": "stream",
     "text": [
      "Credential exchange 75c7d31c-9b2c-4f80-9929-13a7871f4946, role: holder, state: credential_acked\n"
     ]
    }
   ],
   "source": [
    "# Store credential\n",
    "response = await agent_controller.issuer.store_credential(cred_ex_id, \"My OM Credential\")\n",
    "state = response['state']\n",
    "role = response['role']\n",
    "print(f\"Credential exchange {cred_ex_id}, role: {role}, state: {state}\")"
   ]
  },
  {
   "cell_type": "markdown",
   "id": "df348fdb",
   "metadata": {},
   "source": [
    "## Remove connection !!!"
   ]
  },
  {
   "cell_type": "code",
   "execution_count": 9,
   "id": "e6720bea",
   "metadata": {},
   "outputs": [
    {
     "name": "stdout",
     "output_type": "stream",
     "text": [
      "{}\n",
      "{'results': [{'their_label': 'Alice', 'accept': 'manual', 'state': 'request', 'connection_id': '521d9010-2f24-4a6b-9f48-c369db186f0b', 'invitation_key': 'GC6DHU7HHN4YVKoAHqrNg3VkpTyWUTpY7zKmpZSYvW1z', 'routing_state': 'none', 'created_at': '2023-01-02 13:20:47.668037Z', 'updated_at': '2023-01-02 13:20:47.728024Z', 'their_role': 'inviter', 'request_id': '18a7c875-3cf3-450e-92b6-850ddad8d0b8', 'invitation_mode': 'once', 'rfc23_state': 'request-sent', 'my_did': '2sTtp6vonk2F6gGjQELqFD'}, {'their_label': 'Alice', 'accept': 'manual', 'state': 'response', 'connection_id': '663ddab5-2135-478a-b7f1-3d7dfebe22ad', 'invitation_key': 'HHTzqiXeQey1NmZCZRkGMbT8KejyxGna2Su3gX3kHYDw', 'routing_state': 'none', 'created_at': '2023-01-02 13:21:20.734655Z', 'updated_at': '2023-01-02 13:21:38.481793Z', 'their_role': 'inviter', 'their_did': 'VWHUDyJon3XHkwdGiF3uQ9', 'request_id': '2f6713ee-3a34-44c8-b262-d0f9e955037a', 'invitation_mode': 'once', 'rfc23_state': 'response-received', 'my_did': '7vbdgKJzN44MxL7vXBjmoB'}, {'their_label': 'Alice', 'accept': 'manual', 'state': 'request', 'connection_id': 'e74e344f-efb1-4b5f-ad44-226232b586f9', 'invitation_key': 'HHTzqiXeQey1NmZCZRkGMbT8KejyxGna2Su3gX3kHYDw', 'routing_state': 'none', 'created_at': '2023-01-02 13:25:04.934558Z', 'updated_at': '2023-01-02 13:25:04.977473Z', 'their_role': 'inviter', 'request_id': 'da7d1cbc-7297-477e-8fd8-3fe4a66d63db', 'invitation_mode': 'once', 'rfc23_state': 'request-sent', 'my_did': 'g9hW5x3ucLxmySeibJZsM'}]}\n"
     ]
    }
   ],
   "source": [
    "remove = await agent_controller.connections.remove_connection(alice_id)\n",
    "print(remove)\n",
    "response = await agent_controller.connections.get_connections()\n",
    "print(response)"
   ]
  },
  {
   "cell_type": "code",
   "execution_count": 12,
   "id": "647c8e80",
   "metadata": {},
   "outputs": [
    {
     "name": "stdout",
     "output_type": "stream",
     "text": [
      "None\n"
     ]
    }
   ],
   "source": [
    "response = await agent_controller.terminate()\n",
    "print(response)"
   ]
  },
  {
   "cell_type": "code",
   "execution_count": null,
   "id": "c69a9f97",
   "metadata": {},
   "outputs": [],
   "source": []
  },
  {
   "cell_type": "code",
   "execution_count": null,
   "id": "c708bc58",
   "metadata": {},
   "outputs": [],
   "source": []
  }
 ],
 "metadata": {
  "kernelspec": {
   "display_name": "Python 3 (ipykernel)",
   "language": "python",
   "name": "python3"
  },
  "language_info": {
   "codemirror_mode": {
    "name": "ipython",
    "version": 3
   },
   "file_extension": ".py",
   "mimetype": "text/x-python",
   "name": "python",
   "nbconvert_exporter": "python",
   "pygments_lexer": "ipython3",
   "version": "3.10.8"
  }
 },
 "nbformat": 4,
 "nbformat_minor": 5
}
