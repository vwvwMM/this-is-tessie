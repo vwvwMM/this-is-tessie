{
 "cells": [
  {
   "cell_type": "markdown",
   "metadata": {},
   "source": [
    "# Basic Message - Alice\n",
    "\n",
    "**Should be run alongside [Bob](http://localhost:8889/lab/tree/3%20Messages/Part%201%20-%20Basic%20Message.ipynb)**"
   ]
  },
  {
   "cell_type": "code",
   "execution_count": 1,
   "metadata": {},
   "outputs": [
    {
     "name": "stdout",
     "output_type": "stream",
     "text": [
      "IPython autoawait is `on`, and set to use `asyncio`\n"
     ]
    }
   ],
   "source": [
    "%autoawait\n",
    "import time\n",
    "import asyncio"
   ]
  },
  {
   "cell_type": "code",
   "execution_count": 2,
   "metadata": {},
   "outputs": [],
   "source": [
    "from aries_basic_controller.aries_controller import AriesAgentController\n",
    "    \n",
    "WEBHOOK_HOST = \"0.0.0.0\"\n",
    "WEBHOOK_PORT = 8022\n",
    "WEBHOOK_BASE = \"\"\n",
    "ADMIN_URL = \"http://alice-agent:8021\"\n",
    "\n",
    "# WARNING: You should use environment variables for this\n",
    "# TODO: Make env variables accessible through juypter notebooks\n",
    "API_KEY = \"alice_api_123456789\"\n",
    "\n",
    "\n",
    "# Based on the aca-py agent you wish to control\n",
    "agent_controller = AriesAgentController(admin_url=ADMIN_URL, api_key=API_KEY)"
   ]
  },
  {
   "cell_type": "code",
   "execution_count": 3,
   "metadata": {},
   "outputs": [],
   "source": [
    "agent_controller.init_webhook_server(webhook_host=WEBHOOK_HOST,\n",
    "                                     webhook_port=WEBHOOK_PORT,\n",
    "                                     webhook_base=WEBHOOK_BASE)"
   ]
  },
  {
   "cell_type": "markdown",
   "metadata": {},
   "source": [
    "## Setup a listener for the basicmessages topic\n",
    "\n",
    "This is emitted using PyPubSub when the controller receives a basicmessages webhook from the agent. This happens everytime the agent receives a basicmessage."
   ]
  },
  {
   "cell_type": "code",
   "execution_count": 4,
   "metadata": {},
   "outputs": [
    {
     "name": "stdout",
     "output_type": "stream",
     "text": [
      "Subscribing too: basicmessages\n"
     ]
    }
   ],
   "source": [
    "def messages_handler(payload):\n",
    "    connection_id = payload[\"connection_id\"]\n",
    "    print(\"Handle message\", payload, connection_id)\n",
    "\n",
    "\n",
    "message_listener = {\n",
    "    \"handler\": messages_handler,\n",
    "    \"topic\": \"basicmessages\"\n",
    "}\n",
    "\n",
    "loop = asyncio.get_event_loop()\n",
    "loop.create_task(agent_controller.listen_webhooks())\n",
    "\n",
    "agent_controller.register_listeners([message_listener], defaults=True)"
   ]
  },
  {
   "cell_type": "code",
   "execution_count": 5,
   "metadata": {},
   "outputs": [
    {
     "name": "stdout",
     "output_type": "stream",
     "text": [
      "Subscribing too: basicmessages\n"
     ]
    }
   ],
   "source": [
    "def messages_handler2(payload):\n",
    "    connection_id = payload[\"connection_id\"]\n",
    "    print(\"Second Handler\", payload, connection_id)\n",
    "\n",
    "\n",
    "message_listener2 = {\n",
    "    \"handler\": messages_handler2,\n",
    "    \"topic\": \"basicmessages\"\n",
    "}\n",
    "\n",
    "agent_controller.add_listener(message_listener2)"
   ]
  },
  {
   "cell_type": "markdown",
   "metadata": {},
   "source": [
    "## Verify an Active Connection Exists\n",
    "\n",
    "This should have been established through the setup docker container using the create_connection.py script."
   ]
  },
  {
   "cell_type": "code",
   "execution_count": 6,
   "metadata": {},
   "outputs": [
    {
     "name": "stdout",
     "output_type": "stream",
     "text": [
      "Results :  [{'rfc23_state': 'completed', 'their_label': 'Bob', 'my_did': '78JbknZS4Un2nRsSXthrrX', 'created_at': '2023-01-01 15:37:41.837136Z', 'routing_state': 'none', 'connection_id': 'c3d00305-0806-4846-954d-934ac0c36533', 'invitation_mode': 'once', 'accept': 'manual', 'updated_at': '2023-01-01 15:38:46.703546Z', 'invitation_key': 'C9VVc5HS8ASbZGJ4RRH38huh7jxzV1Lxc6dv9MMhYRm6', 'state': 'active', 'their_role': 'invitee', 'their_did': '6UJzVcKRUTNd2Z3fkgSwqc'}]\n",
      "Connection : {'rfc23_state': 'completed', 'their_label': 'Bob', 'my_did': '78JbknZS4Un2nRsSXthrrX', 'created_at': '2023-01-01 15:37:41.837136Z', 'routing_state': 'none', 'connection_id': 'c3d00305-0806-4846-954d-934ac0c36533', 'invitation_mode': 'once', 'accept': 'manual', 'updated_at': '2023-01-01 15:38:46.703546Z', 'invitation_key': 'C9VVc5HS8ASbZGJ4RRH38huh7jxzV1Lxc6dv9MMhYRm6', 'state': 'active', 'their_role': 'invitee', 'their_did': '6UJzVcKRUTNd2Z3fkgSwqc'}\n",
      "Active Connection ID :  c3d00305-0806-4846-954d-934ac0c36533\n"
     ]
    }
   ],
   "source": [
    "response = await agent_controller.connections.get_connections()\n",
    "results = response['results']\n",
    "print(\"Results : \", results)\n",
    "if len(results) > 0:\n",
    "    connection = response['results'][0]\n",
    "    print(\"Connection :\", connection)\n",
    "    if connection['state'] == 'active':       \n",
    "        connection_id = connection[\"connection_id\"]\n",
    "        print(\"Active Connection ID : \", connection_id)\n",
    "    else:\n",
    "        print(\"Connection is still progressing to active state, retry in a few moments\")\n",
    "else:\n",
    "    print(\"You must create a connection\")\n",
    "    "
   ]
  },
  {
   "cell_type": "code",
   "execution_count": 7,
   "metadata": {},
   "outputs": [
    {
     "name": "stdout",
     "output_type": "stream",
     "text": [
      "c3d00305-0806-4846-954d-934ac0c36533\n"
     ]
    }
   ],
   "source": [
    "print(connection[\"connection_id\"])\n",
    "id = connection[\"connection_id\"]"
   ]
  },
  {
   "cell_type": "code",
   "execution_count": 8,
   "metadata": {},
   "outputs": [
    {
     "data": {
      "text/plain": [
       "{'thread_id': '9666d644-93f9-49af-b85f-524607d33edc'}"
      ]
     },
     "execution_count": 8,
     "metadata": {},
     "output_type": "execute_result"
    },
    {
     "name": "stdout",
     "output_type": "stream",
     "text": [
      "Handle message {'connection_id': 'c3d00305-0806-4846-954d-934ac0c36533', 'message_id': '21e3f400-57ee-47c6-9826-9ee4781543e6', 'content': 'Hello from Bob', 'state': 'received'} c3d00305-0806-4846-954d-934ac0c36533\n",
      "Second Handler {'connection_id': 'c3d00305-0806-4846-954d-934ac0c36533', 'message_id': '21e3f400-57ee-47c6-9826-9ee4781543e6', 'content': 'Hello from Bob', 'state': 'received'} c3d00305-0806-4846-954d-934ac0c36533\n"
     ]
    }
   ],
   "source": [
    "await agent_controller.messaging.trust_ping(id, \"hello, world!\")"
   ]
  },
  {
   "cell_type": "markdown",
   "metadata": {},
   "source": [
    "## Send a Basic Message over DIDComm to Bob\n",
    "\n",
    "See [aries-rfc](https://github.com/hyperledger/aries-rfcs/tree/master/features/0095-basic-message)\n",
    "\n",
    "You can send as messages as you want, if you are running the [basic-message tutorial on Bob's notebook](http://localhost:8889/lab/tree/3%20Messages/Part%201%20-%20Basic%20Message.ipynb) these will be received and printed by the message handler. You may have to run a code block to see the output."
   ]
  },
  {
   "cell_type": "code",
   "execution_count": 10,
   "metadata": {},
   "outputs": [
    {
     "name": "stdout",
     "output_type": "stream",
     "text": [
      "BASIC MESSAGE - Alice -> Bob\n",
      "{}\n",
      "Handle message {'connection_id': 'c3d00305-0806-4846-954d-934ac0c36533', 'message_id': '1ec94969-172c-4c84-93d3-7e76de1d2654', 'content': 'This is a response from Bob', 'state': 'received'} c3d00305-0806-4846-954d-934ac0c36533\n",
      "Second Handler {'connection_id': 'c3d00305-0806-4846-954d-934ac0c36533', 'message_id': '1ec94969-172c-4c84-93d3-7e76de1d2654', 'content': 'This is a response from Bob', 'state': 'received'} c3d00305-0806-4846-954d-934ac0c36533\n"
     ]
    }
   ],
   "source": [
    "basic_message = \"hello Bob\"\n",
    "response = await agent_controller.messaging.send_message(connection_id, basic_message)\n",
    "print(\"BASIC MESSAGE - Alice -> Bob\")\n",
    "print(response)"
   ]
  },
  {
   "cell_type": "markdown",
   "metadata": {},
   "source": [
    "## End of Tutorial\n",
    "\n",
    "Be sure to terminate the controller so you can run another tutorial."
   ]
  },
  {
   "cell_type": "code",
   "execution_count": 11,
   "metadata": {},
   "outputs": [
    {
     "name": "stdout",
     "output_type": "stream",
     "text": [
      "None\n"
     ]
    }
   ],
   "source": [
    "response = await agent_controller.terminate()\n",
    "print(response)"
   ]
  },
  {
   "cell_type": "code",
   "execution_count": null,
   "metadata": {},
   "outputs": [],
   "source": []
  }
 ],
 "metadata": {
  "kernelspec": {
   "display_name": "Python 3 (ipykernel)",
   "language": "python",
   "name": "python3"
  },
  "language_info": {
   "codemirror_mode": {
    "name": "ipython",
    "version": 3
   },
   "file_extension": ".py",
   "mimetype": "text/x-python",
   "name": "python",
   "nbconvert_exporter": "python",
   "pygments_lexer": "ipython3",
   "version": "3.10.8"
  }
 },
 "nbformat": 4,
 "nbformat_minor": 4
}
