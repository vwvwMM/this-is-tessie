{
 "cells": [
  {
   "cell_type": "markdown",
   "metadata": {},
   "source": [
    "# Credential Schema and Definitions\n",
    "\n",
    "A credential schema has a name and version and defines a set of attribute names that once written to the ledger can be used to issue credentials following that schema. First though, all agents wishing to issue credentials following a particular schema must write a credential definition (also called claim definition) to the ledger. The credential definition is the public key for a specific agent for a specific credential schema, currently Hyperledger stack uses [CL Signatures](https://groups.csail.mit.edu/cis/pubs/lysyanskaya/cl02b.pdf). By using this type of signature scheme we are able to sign each attribute in the credential individually, making selective disclosure and efficient zero knowledge proof generation from attributes possible.\n",
    "\n",
    "Here is an example written on the Sovrin MainNet:\n",
    "* [Credential Schema](https://indyscan.io/tx/SOVRIN_MAINNET/domain/54679)\n",
    "* [Credential Definition](https://indyscan.io/tx/SOVRIN_MAINNET/domain/54680)\n",
    "\n",
    "**It is important to keep in mind that only Public DIDs with write access to the ledger are able to write transactions such as schema or definitions to the ledger. The Sovrin MainNet for example is a public permissioned network.**\n",
    "\n",
    "In this notebook we will see how to use the AriesAgentController to write credential schema and definitions to the ledger and learn some important restrictions to be aware of."
   ]
  },
  {
   "cell_type": "markdown",
   "metadata": {},
   "source": [
    "## 1. Instantiate the Controller"
   ]
  },
  {
   "cell_type": "code",
   "execution_count": 1,
   "metadata": {},
   "outputs": [
    {
     "name": "stdout",
     "output_type": "stream",
     "text": [
      "IPython autoawait is `on`, and set to use `asyncio`\n"
     ]
    }
   ],
   "source": [
    "%autoawait\n",
    "import time\n",
    "import asyncio\n",
    "from aries_basic_controller.aries_controller import AriesAgentController\n",
    "    \n",
    "WEBHOOK_HOST = \"0.0.0.0\"\n",
    "WEBHOOK_PORT = 8022\n",
    "WEBHOOK_BASE = \"\"\n",
    "ADMIN_URL = \"http://alice-agent:8021\"\n",
    "\n",
    "# WARNING: You should use environment variables for this\n",
    "# TODO: Make env variables accessible through juypter notebooks\n",
    "API_KEY = \"alice_api_123456789\"\n",
    "\n",
    "# Based on the aca-py agent you wish to control\n",
    "agent_controller = AriesAgentController(admin_url=ADMIN_URL, api_key=API_KEY)\n"
   ]
  },
  {
   "cell_type": "code",
   "execution_count": 2,
   "metadata": {},
   "outputs": [],
   "source": [
    "agent_controller.init_webhook_server(webhook_host=WEBHOOK_HOST,\n",
    "                                     webhook_port=WEBHOOK_PORT,\n",
    "                                     webhook_base=WEBHOOK_BASE)"
   ]
  },
  {
   "cell_type": "markdown",
   "metadata": {},
   "source": [
    "## 2. Define schema arguments\n",
    "\n",
    "These can be anything you want. Be Creative :)"
   ]
  },
  {
   "cell_type": "code",
   "execution_count": 3,
   "metadata": {},
   "outputs": [],
   "source": [
    "# Define you schema name - must be unique on the ledger\n",
    "schema_name = \"chloebaba_schema\"\n",
    "# Can version the schema if you wish to update it\n",
    "schema_version = \"0.0.1\"\n",
    "# Define any list of attributes you wish to include in your schema\n",
    "attributes = [\"author\", \"name\", \"time\", \"is_original\"]\n"
   ]
  },
  {
   "cell_type": "markdown",
   "metadata": {},
   "source": [
    "## 3. Write the Schema to Ledger\n",
    "\n",
    "A schema with the same name can only be written to the ledger once. You will not be able to run this block twice."
   ]
  },
  {
   "cell_type": "code",
   "execution_count": 4,
   "metadata": {},
   "outputs": [
    {
     "name": "stdout",
     "output_type": "stream",
     "text": [
      "PQRXDxdGqQGSZ8z69p4xZP:2:chloebaba_schema:0.0.1\n"
     ]
    }
   ],
   "source": [
    "response = await agent_controller.schema.write_schema(schema_name, attributes, schema_version)\n",
    "schema_id = response[\"schema_id\"]\n",
    "print(schema_id)"
   ]
  },
  {
   "cell_type": "markdown",
   "metadata": {},
   "source": [
    "## 4. Write a credential definition for this schema\n",
    "\n",
    "It is only possible to write a single credential definition per schema per public DID to the ledger. However, [Bob](http://localhost:8889/lab/tree/2%20Credentials/Part%202%20-%20Issue%20Credentials.ipynb) is also able to write a credential definition for the schema if he wants. Feel free to copy the schema_id across and give it a try in a new notebook.\n",
    "\n",
    "#### Arguments\n",
    "* schema_id - you need to pass in one of these and it must exist on the ledger\n",
    "* tag - tag to identity the definition later, defaults to default\n",
    "* support_revocation - Determines whether you will be able to later revoke the credential, defaults to False\n",
    "\n",
    "**Note: You should be able to see these transactions on the local network [here](http://localhost:9000/browse/domain)**"
   ]
  },
  {
   "cell_type": "code",
   "execution_count": 5,
   "metadata": {},
   "outputs": [
    {
     "name": "stdout",
     "output_type": "stream",
     "text": [
      "PQRXDxdGqQGSZ8z69p4xZP:3:CL:29:default\n"
     ]
    }
   ],
   "source": [
    "response = await agent_controller.definitions.write_cred_def(schema_id)\n",
    "\n",
    "cred_def_id = response[\"credential_definition_id\"]\n",
    "print(cred_def_id)"
   ]
  },
  {
   "cell_type": "markdown",
   "metadata": {},
   "source": [
    "## 5. Update the Schema\n",
    "\n",
    "You can update a schema on the ledger by changing the version."
   ]
  },
  {
   "cell_type": "code",
   "execution_count": 6,
   "metadata": {},
   "outputs": [
    {
     "name": "stdout",
     "output_type": "stream",
     "text": [
      "PQRXDxdGqQGSZ8z69p4xZP:2:chloebaba_schema:0.0.2\n"
     ]
    }
   ],
   "source": [
    "attributes = [\"author\", \"name\", \"time\", \"is_original\", \"type\"]\n",
    "schema_version = \"0.0.2\"\n",
    "response = await agent_controller.schema.write_schema(schema_name, attributes, schema_version)\n",
    "updated_schema_id = response[\"schema_id\"]\n",
    "print(updated_schema_id)"
   ]
  },
  {
   "cell_type": "markdown",
   "metadata": {},
   "source": [
    "## 6. Write another Credential Definition for the Updated Schema\n",
    "\n",
    "Alice will now be able to issue credentials using both versions of the credential schema. Although, as a verifier you probably will expect all credentials presented to be of the latest version schema written to the ledger."
   ]
  },
  {
   "cell_type": "code",
   "execution_count": 7,
   "metadata": {},
   "outputs": [
    {
     "name": "stdout",
     "output_type": "stream",
     "text": [
      "PQRXDxdGqQGSZ8z69p4xZP:3:CL:31:default\n"
     ]
    }
   ],
   "source": [
    "response = await agent_controller.definitions.write_cred_def(updated_schema_id, support_revocation=True)\n",
    "\n",
    "updated_cred_def_id = response[\"credential_definition_id\"]\n",
    "print(updated_cred_def_id)"
   ]
  },
  {
   "cell_type": "markdown",
   "metadata": {},
   "source": [
    "## Additional Methods\n",
    "\n",
    "Typically all you will care about is using the schema and definitions controller to write them to the ledger. The api also includes some additional helper methods that you might include in more complex flows."
   ]
  },
  {
   "cell_type": "markdown",
   "metadata": {},
   "source": [
    "## Get Schema By ID"
   ]
  },
  {
   "cell_type": "code",
   "execution_count": 8,
   "metadata": {},
   "outputs": [
    {
     "name": "stdout",
     "output_type": "stream",
     "text": [
      "{'schema': {'ver': '1.0', 'id': 'PQRXDxdGqQGSZ8z69p4xZP:2:chloebaba_schema:0.0.1', 'name': 'chloebaba_schema', 'version': '0.0.1', 'attrNames': ['time', 'author', 'name', 'is_original'], 'seqNo': 29}}\n"
     ]
    }
   ],
   "source": [
    "schema = await agent_controller.schema.get_by_id(schema_id)\n",
    "print(schema)"
   ]
  },
  {
   "cell_type": "markdown",
   "metadata": {},
   "source": [
    "## Get Created definition by id\n",
    "\n",
    "As you can see it contains a bunch of BIG numbers all defined in the signature scheme. Notice that 'r' contains numbers for name, skill and master_secret, all attributes within the credential schema. (All credential schemas contain a master_secret attribute to identify the holder of the credential, it is blindly signed by the issuer). "
   ]
  },
  {
   "cell_type": "code",
   "execution_count": 9,
   "metadata": {},
   "outputs": [
    {
     "name": "stdout",
     "output_type": "stream",
     "text": [
      "{'credential_definition': {'ver': '1.0', 'id': 'PQRXDxdGqQGSZ8z69p4xZP:3:CL:29:default', 'schemaId': '29', 'type': 'CL', 'tag': 'default', 'value': {'primary': {'n': '96403054422357876705982110746198339960780904697693532047959186732181370133666730973037417337477706962591697484057658203495357508774519229401033590030702721750837555393085271541521810701122754799450741266148335833863168585225227461772221528376061248381056380320991019766161004738116248554287312971254407261658194776143836228090714344676972403605178817832445116999005871801199418768784339385624813525773848731887762938277906903331202946155803963564015657339938370715327615801874100437988826737037519286078794197599440847218778601026441178896919293585069253402068987734315140781590327535240794212880075870551902720983581', 's': '36862624578648566575112381142557179222685228275695513538904967568279530936592300104951743713925794976727092233149094402527767394231930781347834887323458652749216757134751718956391377371161246791929265002916618526539306692983632089202109669664168421890135255778501672417570176950279435893665352334415100084781608422162967004649497462441163349616649083728943269992368901293513535701262115022048368210682089975870941377539317789367733397636169476053020375984317484989682534644148105595033983638214391907588324095129153026994264785921105432477887618339258860027844086524341664989272033554104892615382141628249092254891536', 'r': {'name': '32010295043363937322217647360125984889740424739149691793498736707001741358836306916261082751098186037379291766078294616321142323571657555547401741207691063249552610872538433136244264208962334572076319130883357196693093453281077519741540597649325619154189478022341489761912112211879775798644043818797868669715501835086408581403652195481677281577815336312712938941925509305158560284250200828540661272206258402113981553063978643496528459063511934339889172710819722587140679331001038383405239157255356840156611453844871713508546597291670564415096665059354770563590495600211281738539745860477726992961582071950244879588275', 'author': '36694520466951735723382229812193865112977803332714256239418092305751984438028197890125512919285941201410095645629223096178441037416240664764694001257762000405829601930936155508588669265384542561619974681431187399083275557992862552795950009609735057907862779868951729983795451535548034319848095094241507055359691869121024835497382769856344508479903888986493325371868200964542845977099336751954260939184754390784739596705258741558285867616368693192237714741299835716083045275914868334033526687706622122239402706855460820634991839916261540071621155150646277803823229710420249852590781618742218539969063055452346036535731', 'time': '61437793634509242469987397958031165653107317869674276389214458516806985037376525024065876835261875764986345165324141322816955865274572750389535271794500030270557694402194403831579122828746006434776501940245846532185772940624748240388372004887900795366723192781857776907782377667616798331718972244813942829996162950941348208197184959275006525081432807478727422589602162602718377508284096616331191825985960695199920165344559367700376696605436214514583404866264435081977777637824420999788424146876838174375076585285090073180512762655064108869823927897945531585760355424519599810411977358799496344805979033999851067743770', 'is_original': '16623271590907097087066438922968469025518854010733429386427084278057952159095294159591011449712827001566497467540267413235318295938389530580826181116877035640589803568734355507627224803023228757668604417797200855033896675567203688073196197899030651013542001999235861801959108424272237840327337714556170221675037808630569623429867806818855238340196132259083181798028514008969559028407562565186317019148207206452548818505537438675150817611168595299772685312405434111999740611959482161625670193225934917605555798806587120178625339118508388262083251416976591658441129937778655427597026936090660204341576987877936430023279', 'master_secret': '67856478932597367175634684968150421750404979741950868386386084731511203418188029699978799716842097816222945083524322264555041988416400697850147244891140875280015381314448228290538440020605136510967086325440518436066555137151630969137129972153101164164921235030700753394468428853075545570899629696639815683916914671213184333425866927664210361696261782642313203460809973320004454268518625513860498067266028454251359668443408827222197815151399100138920507178738086110228665914761889251246833457218655658829606433490252956304084695668539315806731741679287129854254397104902836599574367976754217953639629358608874179271985'}, 'rctxt': '34397287233799083086533502312819984196229625217209214231883939802401136268899630803294337521403439081772817924468121517387443834215566779204437353536046257336428857343249337823619791788968548485760360816649688688844957550649335018095269192535072405562122656242811769858104506360956205076126427842278183826364742416389431602139726401886588974148758620009768452661657396052111339460378478902817685154671406129185503343420770797726590476724594304692355757654770299751625544458348512525907796533150402175685051385360041992802880560998487234669249169114142840200260082225212518859223624078600381984276886285438793023750041', 'z': '43931803264881048274884035252867857073241375875110717108774655764661748677775426798645389852089247394937219425176673942515578622873222852621710052801475972686726290648949362376404161679627902823099634671715663134644787407047156270794361064339023192418969867917770929652304175868539175914812933808392840993927114677143596339278376982015690796080803952944442414611587414438850928217409070702687743270452084717750463859069506307313283940697431148384174297933956275393044491817271591693843271567081875236832487071127700059043720601566905501210346940517594393849108214584344966089256448800257280588203164952886995208750257'}}}}\n"
     ]
    }
   ],
   "source": [
    "definition = await agent_controller.definitions.get_by_id(cred_def_id)\n",
    "print(definition)"
   ]
  },
  {
   "cell_type": "markdown",
   "metadata": {},
   "source": [
    "## Search ledger for schema\n",
    "\n",
    "This might be used by applications that want to ensure they are using the latest version of a particular schema that they know the name of. \n",
    "\n",
    "### Returns a list of schema ids\n",
    "\n",
    "#### Arguments:\n",
    "* schema_id - if searching for a particular set of scheme (many versions)\n",
    "* schema_issuer_did - returns a set of schema created by a particular DID. Defaults to the agents DID\n",
    "* schema_name - name of schema you are looking for\n",
    "* schema_version - particular version of a schema"
   ]
  },
  {
   "cell_type": "code",
   "execution_count": 10,
   "metadata": {},
   "outputs": [
    {
     "name": "stdout",
     "output_type": "stream",
     "text": [
      "{'schema_ids': ['PQRXDxdGqQGSZ8z69p4xZP:2:chloebaba_test_schema:0.0.2', 'PQRXDxdGqQGSZ8z69p4xZP:2:chloebaba_schema:0.0.1', 'PQRXDxdGqQGSZ8z69p4xZP:2:chloebaba_test_schema:0.0.1', 'PQRXDxdGqQGSZ8z69p4xZP:2:test_revocable_schema:0.0.1', 'PQRXDxdGqQGSZ8z69p4xZP:2:chloebaba_schema:0.0.2', 'PQRXDxdGqQGSZ8z69p4xZP:2:open_mined_contributor:0.0.2']}\n"
     ]
    }
   ],
   "source": [
    "created_schema = await agent_controller.schema.get_created_schema()\n",
    "print(created_schema)"
   ]
  },
  {
   "cell_type": "code",
   "execution_count": 11,
   "metadata": {},
   "outputs": [
    {
     "name": "stdout",
     "output_type": "stream",
     "text": [
      "{'schema_ids': ['PQRXDxdGqQGSZ8z69p4xZP:2:chloebaba_schema:0.0.1']}\n"
     ]
    }
   ],
   "source": [
    "created_schema = await agent_controller.schema.get_created_schema(schema_id=schema_id)\n",
    "print(created_schema)"
   ]
  },
  {
   "cell_type": "code",
   "execution_count": 12,
   "metadata": {},
   "outputs": [
    {
     "name": "stdout",
     "output_type": "stream",
     "text": [
      "{'schema_ids': ['PQRXDxdGqQGSZ8z69p4xZP:2:chloebaba_schema:0.0.1', 'PQRXDxdGqQGSZ8z69p4xZP:2:chloebaba_test_schema:0.0.1', 'PQRXDxdGqQGSZ8z69p4xZP:2:test_revocable_schema:0.0.1']}\n"
     ]
    }
   ],
   "source": [
    "created_schema = await agent_controller.schema.get_created_schema(schema_version='0.0.1')\n",
    "print(created_schema)"
   ]
  },
  {
   "cell_type": "code",
   "execution_count": 13,
   "metadata": {},
   "outputs": [
    {
     "name": "stdout",
     "output_type": "stream",
     "text": [
      "{'schema_ids': ['PQRXDxdGqQGSZ8z69p4xZP:2:chloebaba_test_schema:0.0.2', 'PQRXDxdGqQGSZ8z69p4xZP:2:chloebaba_schema:0.0.1', 'PQRXDxdGqQGSZ8z69p4xZP:2:chloebaba_test_schema:0.0.1', 'PQRXDxdGqQGSZ8z69p4xZP:2:test_revocable_schema:0.0.1', 'PQRXDxdGqQGSZ8z69p4xZP:2:chloebaba_schema:0.0.2', 'PQRXDxdGqQGSZ8z69p4xZP:2:open_mined_contributor:0.0.2']}\n"
     ]
    }
   ],
   "source": [
    "\n",
    "created_schema = await agent_controller.schema.get_created_schema(schema_issuer_did='PQRXDxdGqQGSZ8z69p4xZP')\n",
    "print(created_schema)"
   ]
  },
  {
   "cell_type": "markdown",
   "metadata": {},
   "source": [
    "## Search all definitions created on the ledger\n",
    "\n",
    "#### Optional Arguments\n",
    "* schema_id\n",
    "* schema_issuer_did\n",
    "* schema_version\n",
    "* schema_name\n",
    "* issuer_did\n",
    "* cred_def_id"
   ]
  },
  {
   "cell_type": "code",
   "execution_count": 14,
   "metadata": {},
   "outputs": [
    {
     "name": "stdout",
     "output_type": "stream",
     "text": [
      "{'credential_definition_ids': ['PQRXDxdGqQGSZ8z69p4xZP:3:CL:29:default']}\n"
     ]
    }
   ],
   "source": [
    "definitions = await agent_controller.definitions.search_created(cred_def_id=cred_def_id)\n",
    "print(definitions)"
   ]
  },
  {
   "cell_type": "markdown",
   "metadata": {},
   "source": [
    "## End of Tutorial\n",
    "\n",
    "Be sure to terminate the controller so you can run another tutorial."
   ]
  },
  {
   "cell_type": "code",
   "execution_count": 15,
   "metadata": {},
   "outputs": [
    {
     "name": "stdout",
     "output_type": "stream",
     "text": [
      "None\n"
     ]
    }
   ],
   "source": [
    "response = await agent_controller.terminate()\n",
    "print(response)"
   ]
  },
  {
   "cell_type": "code",
   "execution_count": null,
   "metadata": {},
   "outputs": [],
   "source": []
  }
 ],
 "metadata": {
  "kernelspec": {
   "display_name": "Python 3 (ipykernel)",
   "language": "python",
   "name": "python3"
  },
  "language_info": {
   "codemirror_mode": {
    "name": "ipython",
    "version": 3
   },
   "file_extension": ".py",
   "mimetype": "text/x-python",
   "name": "python",
   "nbconvert_exporter": "python",
   "pygments_lexer": "ipython3",
   "version": "3.10.8"
  },
  "pycharm": {
   "stem_cell": {
    "cell_type": "raw",
    "metadata": {
     "collapsed": false
    },
    "source": []
   }
  }
 },
 "nbformat": 4,
 "nbformat_minor": 4
}
