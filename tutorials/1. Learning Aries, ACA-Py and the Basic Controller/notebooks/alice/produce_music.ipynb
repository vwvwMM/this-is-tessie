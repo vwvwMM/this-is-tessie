{
  "cells": [
    {
      "cell_type": "markdown",
      "id": "348ff0e9",
      "metadata": {},
      "source": [
        "# DM (device manufacturer) connects to music (device) and assign them ownership - DM"
      ]
    },
    {
      "cell_type": "markdown",
      "id": "a8abd4c6",
      "metadata": {},
      "source": [
        "## 1. Create Invitation from agent"
      ]
    },
    {
      "cell_type": "code",
      "execution_count": 1,
      "id": "541d8145",
      "metadata": {},
      "outputs": [
        {
          "name": "stdout",
          "output_type": "stream",
          "text": [
            "IPython autoawait is `on`, and set to use `asyncio`\n",
            "Subscribing too: connections\n"
          ]
        }
      ],
      "source": [
        "%autoawait\n",
        "import time\n",
        "import asyncio\n",
        "from aries_basic_controller.aries_controller import AriesAgentController\n",
        "    \n",
        "WEBHOOK_HOST = \"0.0.0.0\"\n",
        "WEBHOOK_PORT = 8022\n",
        "WEBHOOK_BASE = \"\"\n",
        "ADMIN_URL = \"http://alice-agent:8021\"\n",
        "\n",
        "# WARNING: You should use environment variables for this\n",
        "# TODO: Make env variables accessible through juypter notebooks\n",
        "API_KEY = \"alice_api_123456789\"\n",
        "\n",
        "# Based on the aca-py agent you wish to control\n",
        "agent_controller = AriesAgentController(admin_url=ADMIN_URL, api_key=API_KEY)\n",
        "agent_controller.init_webhook_server(webhook_host=WEBHOOK_HOST, \n",
        "                                     webhook_port=WEBHOOK_PORT,\n",
        "                                     webhook_base=WEBHOOK_BASE)\n",
        "\n",
        "loop = asyncio.get_event_loop()\n",
        "loop.create_task(agent_controller.listen_webhooks())\n",
        "\n",
        "def connection_handler(payload):\n",
        "    print(\"Connection Handler Called\")\n",
        "    connection_id = payload[\"connection_id\"]\n",
        "    state = payload[\"state\"]\n",
        "    print(f\"Connection {connection_id} in State {state}\")\n",
        "    \n",
        "connection_listener = {\n",
        "    \"handler\": connection_handler,\n",
        "    \"topic\": \"connections\"\n",
        "}\n",
        "\n",
        "agent_controller.register_listeners([connection_listener], defaults=True)\n"
      ]
    },
    {
      "cell_type": "markdown",
      "id": "b8c5f2bf",
      "metadata": {},
      "source": [
        "## 2. Create invitation"
      ]
    },
    {
      "cell_type": "code",
      "execution_count": 2,
      "id": "9dcef601",
      "metadata": {},
      "outputs": [
        {
          "name": "stdout",
          "output_type": "stream",
          "text": [
            "Connection Handler Called\n",
            "Connection d1cc52d4-7e9f-4fab-819e-3f34824e4e7a in State invitation\n",
            "Connection ID d1cc52d4-7e9f-4fab-819e-3f34824e4e7a\n",
            "Invitation\n",
            "{'@type': 'did:sov:BzCbsNYhMrjHiqZDTUASHg;spec/connections/1.0/invitation', '@id': '1574a7ae-4fff-4bbe-b6d0-99bd2261f503', 'label': 'Alice', 'recipientKeys': ['HPzbCgs9vbNADqSan19WJXj5Lh4sojXbZRSNH4rGXuoS'], 'serviceEndpoint': 'http://192.168.65.3:8020'}\n",
            "Connection Handler Called\n",
            "Connection d1cc52d4-7e9f-4fab-819e-3f34824e4e7a in State request\n"
          ]
        }
      ],
      "source": [
        "# Create Invitation\n",
        "invite = await agent_controller.connections.create_invitation()\n",
        "connection_id = invite[\"connection_id\"]\n",
        "invite_message = invite['invitation']\n",
        "print(\"Connection ID\", connection_id)\n",
        "print(\"Invitation\")\n",
        "print(invite_message)"
      ]
    },
    {
      "cell_type": "markdown",
      "id": "299891d1",
      "metadata": {},
      "source": [
        "## 4. Accept Request - Recipient first!!!!!"
      ]
    },
    {
      "cell_type": "code",
      "execution_count": 3,
      "id": "2bdf3644",
      "metadata": {},
      "outputs": [
        {
          "name": "stdout",
          "output_type": "stream",
          "text": [
            "Connection Handler Called\n",
            "Connection d1cc52d4-7e9f-4fab-819e-3f34824e4e7a in State response\n",
            "ACCEPT REQUEST\n",
            "{'their_label': 'Bob', 'invitation_mode': 'once', 'rfc23_state': 'response-sent', 'created_at': '2023-01-03 09:47:42.248896Z', 'their_did': 'NBqKhfDcnkrgJK6eRfG9Ki', 'connection_id': 'd1cc52d4-7e9f-4fab-819e-3f34824e4e7a', 'routing_state': 'none', 'invitation_key': 'HPzbCgs9vbNADqSan19WJXj5Lh4sojXbZRSNH4rGXuoS', 'accept': 'manual', 'state': 'response', 'their_role': 'invitee', 'my_did': 'D85aNxBsBeW3nACibydk7Y', 'updated_at': '2023-01-03 09:48:15.116809Z'}\n",
            "state response\n"
          ]
        }
      ],
      "source": [
        "# Accept Request for Invite created\n",
        "connection = await agent_controller.connections.accept_request(connection_id)\n",
        "print(\"ACCEPT REQUEST\")\n",
        "print(connection)\n",
        "print(\"state\", connection[\"state\"])"
      ]
    },
    {
      "cell_type": "code",
      "execution_count": 4,
      "id": "577b0391",
      "metadata": {},
      "outputs": [
        {
          "name": "stdout",
          "output_type": "stream",
          "text": [
            "Trust Ping {'thread_id': 'd4cd3154-843b-472a-8d72-af1434388bcd'}\n",
            "{'their_label': 'Bob', 'invitation_mode': 'once', 'rfc23_state': 'response-sent', 'created_at': '2023-01-03 09:47:42.248896Z', 'their_did': 'NBqKhfDcnkrgJK6eRfG9Ki', 'connection_id': 'd1cc52d4-7e9f-4fab-819e-3f34824e4e7a', 'routing_state': 'none', 'invitation_key': 'HPzbCgs9vbNADqSan19WJXj5Lh4sojXbZRSNH4rGXuoS', 'accept': 'manual', 'state': 'response', 'their_role': 'invitee', 'my_did': 'D85aNxBsBeW3nACibydk7Y', 'updated_at': '2023-01-03 09:48:15.116809Z'}\n",
            "Is Active? response\n",
            "Connection Handler Called\n",
            "Connection d1cc52d4-7e9f-4fab-819e-3f34824e4e7a in State active\n"
          ]
        }
      ],
      "source": [
        "trust_ping = await agent_controller.messaging.trust_ping(connection_id, \"hello\")\n",
        "print(\"Trust Ping\", trust_ping)\n",
        "\n",
        "connection = await agent_controller.connections.get_connection(connection_id)\n",
        "print(connection)\n",
        "print(\"Is Active?\", connection[\"state\"])\n",
        "connection_id = connection[\"connection_id\"]"
      ]
    },
    {
      "cell_type": "code",
      "execution_count": 5,
      "id": "8865214a",
      "metadata": {},
      "outputs": [
        {
          "name": "stdout",
          "output_type": "stream",
          "text": [
            "None\n"
          ]
        }
      ],
      "source": [
        "response = await agent_controller.terminate()\n",
        "print(response)"
      ]
    },
    {
      "cell_type": "markdown",
      "id": "a936b973",
      "metadata": {},
      "source": [
        "# Give MUSIC the VC of ownership and origin - DM"
      ]
    },
    {
      "cell_type": "markdown",
      "id": "c0f4f710",
      "metadata": {},
      "source": [
        "## 1. Write Ownership schema"
      ]
    },
    {
      "cell_type": "code",
      "execution_count": 31,
      "id": "2c2c7733",
      "metadata": {},
      "outputs": [
        {
          "name": "stdout",
          "output_type": "stream",
          "text": [
            "PQRXDxdGqQGSZ8z69p4xZP:2:music_schema:0.0.1\n",
            "PQRXDxdGqQGSZ8z69p4xZP:3:CL:18:default\n"
          ]
        }
      ],
      "source": [
        "# Define you schema name - must be unique on the ledger\n",
        "schema_name = \"music_schema\"\n",
        "# Can version the schema if you wish to update it\n",
        "schema_version = \"0.0.1\"\n",
        "# Define any list of attributes you wish to include in your schema\n",
        "attributes = [\"origin\", \"name\", \"time\", \"version\", \"author\", \"owner\"]\n",
        "\n",
        "# Write schema to ledger\n",
        "response = await agent_controller.schema.write_schema(schema_name, attributes, schema_version)\n",
        "schema_id = response[\"schema_id\"]\n",
        "print(schema_id)\n",
        "\n",
        "# Write cred. def.\n",
        "response = await agent_controller.definitions.write_cred_def(schema_id)\n",
        "cred_def_id = response[\"credential_definition_id\"]\n",
        "print(cred_def_id)\n",
        "\n",
        "\n",
        "# # Update schema\n",
        "# attributes = [\"author\", \"name\", \"time\", \"is_original\", \"type\"]\n",
        "# schema_version = \"0.0.2\"\n",
        "# response = await agent_controller.schema.write_schema(schema_name, attributes, schema_version)\n",
        "# updated_schema_id = response[\"schema_id\"]\n",
        "# print(updated_schema_id)\n",
        "\n",
        "# # Write another Credential Definition for the Updated Schema\n",
        "# response = await agent_controller.definitions.write_cred_def(updated_schema_id, support_revocation=True)\n",
        "# updated_cred_def_id = response[\"credential_definition_id\"]\n",
        "# print(updated_cred_def_id)"
      ]
    },
    {
      "cell_type": "markdown",
      "id": "400d026d",
      "metadata": {},
      "source": [
        "## 2. Write VC"
      ]
    },
    {
      "cell_type": "code",
      "execution_count": 32,
      "id": "ae812050",
      "metadata": {},
      "outputs": [
        {
          "name": "stdout",
          "output_type": "stream",
          "text": [
            "PQRXDxdGqQGSZ8z69p4xZP\n",
            "{'schema_ids': ['PQRXDxdGqQGSZ8z69p4xZP:2:test_revocable_schema:0.0.1', 'PQRXDxdGqQGSZ8z69p4xZP:2:music_schema:0.0.1']}\n"
          ]
        }
      ],
      "source": [
        "nym = await agent_controller.wallet.get_public_did()\n",
        "print(nym[\"result\"][\"did\"])\n",
        "created_schema = await agent_controller.schema.get_created_schema(schema_issuer_did='PQRXDxdGqQGSZ8z69p4xZP')\n",
        "print(created_schema)\n",
        "schema_id = created_schema[\"schema_ids\"][-1]"
      ]
    },
    {
      "cell_type": "code",
      "execution_count": 33,
      "id": "d35d7616",
      "metadata": {},
      "outputs": [
        {
          "name": "stdout",
          "output_type": "stream",
          "text": [
            "['PQRXDxdGqQGSZ8z69p4xZP:3:CL:18:default']\n"
          ]
        }
      ],
      "source": [
        "definitions = await agent_controller.definitions.search_created(schema_id=schema_id)\n",
        "print(definitions[\"credential_definition_ids\"])\n",
        "cred_def_id = definitions[\"credential_definition_ids\"][-1]"
      ]
    },
    {
      "cell_type": "code",
      "execution_count": 34,
      "id": "d4d554c2",
      "metadata": {},
      "outputs": [
        {
          "name": "stdout",
          "output_type": "stream",
          "text": [
            "5\n",
            "Connection : {'invitation_mode': 'once', 'state': 'active', 'accept': 'manual', 'invitation_key': 'HP7gvAJMddRagAmzzTXK9s9a5yQLArvrowgaezhy3pgT', 'their_did': '2DmECYnbF1ShhKhRr7WJTq', 'their_role': 'invitee', 'connection_id': 'b3f010a2-4dcc-4887-b44f-b68748a87751', 'rfc23_state': 'completed', 'their_label': 'Bob', 'my_did': 'EqGVJqFX6psNNnhjLsEGck', 'updated_at': '2023-01-03 05:59:43.798364Z', 'routing_state': 'none', 'created_at': '2023-01-03 05:58:58.974222Z'}\n",
            "Active Connection ID :  b3f010a2-4dcc-4887-b44f-b68748a87751\n",
            "Connection : {'invitation_mode': 'once', 'state': 'active', 'accept': 'manual', 'invitation_key': '8yDBAPXWfTEKdKCdRHBr7rKVpJ5pZkQ2bLGoJEXFbxCX', 'their_did': 'YTZXU7cCnfKDw3cCqUhDbA', 'their_role': 'invitee', 'connection_id': 'ff6ac676-00e0-4b80-a588-6b71f6d7c02e', 'rfc23_state': 'completed', 'their_label': 'Bob', 'my_did': 'LuvDTHNQGRpNWPk79mbEU2', 'updated_at': '2023-01-03 06:12:35.766848Z', 'routing_state': 'none', 'created_at': '2023-01-03 06:12:04.524296Z'}\n",
            "Active Connection ID :  ff6ac676-00e0-4b80-a588-6b71f6d7c02e\n",
            "Connection : {'invitation_mode': 'once', 'state': 'active', 'accept': 'manual', 'invitation_key': 'FX6PVpXADYbwY3HJSjXNg7BV6mvH75GrhmM28Y8aPMML', 'their_did': 'AK35cS4rFin495x9uw9SPT', 'their_role': 'invitee', 'connection_id': '0a849293-dd17-41e6-9e09-ee3d2c34c276', 'rfc23_state': 'completed', 'their_label': 'Bob', 'my_did': 'YVKoaLddfwKkU4pVfiV5sA', 'updated_at': '2023-01-03 09:37:57.029974Z', 'routing_state': 'none', 'created_at': '2023-01-03 09:37:23.256163Z'}\n",
            "Active Connection ID :  0a849293-dd17-41e6-9e09-ee3d2c34c276\n",
            "Connection : {'invitation_mode': 'once', 'state': 'invitation', 'accept': 'manual', 'invitation_key': '5AQ7vqeG4T5v23o8Edyw4hz9Jyi77q7XJvqyfyfHsA7E', 'their_role': 'invitee', 'connection_id': 'a7a00be6-26b7-4aeb-842d-df634fb24b5f', 'rfc23_state': 'invitation-sent', 'updated_at': '2023-01-03 04:25:54.999143Z', 'routing_state': 'none', 'created_at': '2023-01-03 04:25:54.999143Z'}\n",
            "Inactive Connection ID:  a7a00be6-26b7-4aeb-842d-df634fb24b5f with state:  invitation\n",
            "Connection : {'invitation_mode': 'once', 'state': 'invitation', 'accept': 'manual', 'invitation_key': 'DKjhXHPy3AiCk1UjJx3CTH5xScjpUp17Pon1FNSfL37J', 'their_role': 'invitee', 'connection_id': 'c52b2d51-868f-49fe-83b3-b50661eae904', 'rfc23_state': 'invitation-sent', 'updated_at': '2023-01-03 06:09:33.498939Z', 'routing_state': 'none', 'created_at': '2023-01-03 06:09:33.498939Z'}\n",
            "Inactive Connection ID:  c52b2d51-868f-49fe-83b3-b50661eae904 with state:  invitation\n"
          ]
        }
      ],
      "source": [
        "response = await agent_controller.connections.get_connections()\n",
        "results = response['results']\n",
        "print(len(results))\n",
        "# print(\"Results : \", results)\n",
        "if len(results) > 0:\n",
        "    connection = response['results']\n",
        "    for con in connection:\n",
        "        print(\"Connection :\", con)\n",
        "        if con['state'] == 'active':       \n",
        "            connection_id = con[\"connection_id\"]\n",
        "            print(\"Active Connection ID : \", connection_id)\n",
        "        else: print(\"Inactive Connection ID: \", con[\"connection_id\"], \"with state: \", con[\"state\"])\n",
        "else:\n",
        "    print(\"You must create a connection\")"
      ]
    },
    {
      "cell_type": "code",
      "execution_count": 35,
      "id": "49ff9442",
      "metadata": {},
      "outputs": [
        {
          "name": "stdout",
          "output_type": "stream",
          "text": [
            "[{'name': 'author', 'value': 'PQRXDxdGqQGSZ8z69p4xZP'}, {'name': 'name', 'value': 'balabababa music'}, {'name': 'time', 'value': '01-03-2023, 09:38:38'}, {'name': 'origin', 'value': 'PQRXDxdGqQGSZ8z69p4xZP'}, {'name': 'owner', 'value': 'PQRXDxdGqQGSZ8z69p4xZP'}, {'name': 'version', 'value': 'v1'}]\n",
            "Credential exchange b2eec7f3-04b5-4a89-97a3-437f48eb2ff8, role: issuer, state: offer_sent\n"
          ]
        }
      ],
      "source": [
        "import datetime\n",
        "time = datetime.datetime.now().strftime(\"%m-%d-%Y, %H:%M:%S\")\n",
        "credential_attributes = [\n",
        "    {\"name\": \"author\", \"value\": nym[\"result\"][\"did\"]},\n",
        "    {\"name\": \"name\", \"value\": \"balabababa music\"},\n",
        "    {\"name\": \"time\", \"value\": time},\n",
        "    {\"name\": \"origin\", \"value\": nym[\"result\"][\"did\"]},\n",
        "    {\"name\": \"owner\", \"value\": nym[\"result\"][\"did\"]},\n",
        "    {\"name\": \"version\", \"value\": \"v1\"}\n",
        "]\n",
        "print(credential_attributes)\n",
        "\n",
        "\n",
        "# send credential\n",
        "record = await agent_controller.issuer.send_credential(connection_id, schema_id, cred_def_id, credential_attributes, auto_remove=False, trace=True)\n",
        "record_id = record['credential_exchange_id']\n",
        "state = record['state']\n",
        "role = record['role']\n",
        "print(f\"Credential exchange {record_id}, role: {role}, state: {state}\")"
      ]
    },
    {
      "cell_type": "markdown",
      "id": "89fa917d",
      "metadata": {},
      "source": [
        "## 4. Wait for credential exchange"
      ]
    },
    {
      "cell_type": "code",
      "execution_count": 23,
      "id": "d0fdf629",
      "metadata": {},
      "outputs": [
        {
          "name": "stdout",
          "output_type": "stream",
          "text": [
            "[{'revoc_reg_id': 'PQRXDxdGqQGSZ8z69p4xZP:4:PQRXDxdGqQGSZ8z69p4xZP:3:CL:12:default:CL_ACCUM:b3dcbef1-f919-4a66-b1e9-f8141e93d801', 'credential_offer_dict': {'@type': 'did:sov:BzCbsNYhMrjHiqZDTUASHg;spec/issue-credential/1.0/offer-credential', '@id': '12f87972-4fe1-4cc9-aadb-e55aab97df5b', '~thread': {}, '~trace': {'target': 'log', 'full_thread': True, 'trace_reports': []}, 'comment': 'create automated credential exchange', 'offers~attach': [{'@id': 'libindy-cred-offer-0', 'mime-type': 'application/json', 'data': {'base64': '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'}}], 'credential_preview': {'@type': 'did:sov:BzCbsNYhMrjHiqZDTUASHg;spec/issue-credential/1.0/credential-preview', 'attributes': [{'name': 'name', 'value': 'Bob'}, {'name': 'skill', 'value': 'researcher'}, {'name': 'age', 'value': '21'}]}}, 'credential_exchange_id': 'fae0f1c1-134d-478d-a678-9781ed5f7aed', 'credential': {'schema_id': 'PQRXDxdGqQGSZ8z69p4xZP:2:test_revocable_schema:0.0.1', 'cred_def_id': 'PQRXDxdGqQGSZ8z69p4xZP:3:CL:12:default', 'rev_reg_id': 'PQRXDxdGqQGSZ8z69p4xZP:4:PQRXDxdGqQGSZ8z69p4xZP:3:CL:12:default:CL_ACCUM:b3dcbef1-f919-4a66-b1e9-f8141e93d801', 'values': {'name': {'raw': 'Bob', 'encoded': '93006290325627508022776103386395994712401809437930957652111221015872244345185'}, 'age': {'raw': '21', 'encoded': '21'}, 'skill': {'raw': 'researcher', 'encoded': '24214165878429772374367858032287880675266648921286067519661391650938186682695'}}, 'signature': {'p_credential': {'m_2': '20500504353003993157279062682614962784323779196621299378726658624346451800491', 'a': '73275796993640798559619193660860527357836387893030265706036609442972379189762395981955537141679793967579140386540632487690780974502948331341641451293803425038607342966728222099971507742231287159620135874446565643384451638266087930028083791997967141387149657038752265725988877095978197159668997931761840974158007679650390032370793575021118367450561479854173943843738904704638615561578702021599858449962101870434698209469169724827607142997848510902508944005998858144915339475364415412005242831124968999709088164668796177213160157943960234848863648129172430514858893231976822008863481970413047790120036402815148830616546', 'e': '259344723055062059907025491480697571938277889515152306249728583105665800713306759149981690559193987143012367913206299323899696942213235956742929736828182409702337989822482794705043', 'v': '9839854104591238580740593616681947110230358493807099447171295627495297846003681252741795358717049889245453634678798861643922764424692001648119801480587728522042206635416505521585264929275453204923553747661737761103666315443281986755482487153548634973886589644179870264551280840343947135925829332679998216163326355776574612121248439849511448161662405329455600470314964898749124948590702102380891572742773921345663872666895296190929371510671894930124912994928365374405543278451703892545061106971115145473362852901120826350946347203035891545455599510745633593506476955773995053768575803608780152076611480745793790189213163397542349015188924741418427295966214913891782430579352554894606575240023477119751220957230640611176555299708241308926163797799316988738983296241547573164393861915083352931406748791619614755928239545876'}, 'r_credential': {'sigma': '1 15A4B74DD0241C7405BB4AB0A157BFA9BBA01AF31F1F9B9FFD1A2E3C7FC369A0 1 0717C883115641756E968DEA84BFF2FE04CDCD2B1547601102A54F43CF2E67E6 2 095E45DDF417D05FB10933FFC63D474548B7FFFF7888802F07FFFFFF7D07A8A8', 'c': '212360F3FB410D2D934AE63A50EAE29AB48607F2D01782D220DE1F7CF6DFD04F', 'vr_prime_prime': '199EA133E06E01080F3423432AC42A057CBA8D89D295C990B7F569CCCF11CA72', 'witness_signature': {'sigma_i': '1 205A64707609FA675D77B8E25FA82A33E83EE712828D05F660919FE25992FFAD 1 1FF6A03416AA4B16E03EEBDA4430919B59DF981D721254321A8EB3A2F843B551 1 04BCFBDC8AD4A9F12CC92C2F73F7FBD7AFFFFC1D0DB486BFE4732B3CD01BA766 1 1CD581B4E6051255325891F353CAA998E5C4A94AD8098B1E38ED6465841C56CE 2 095E45DDF417D05FB10933FFC63D474548B7FFFF7888802F07FFFFFF7D07A8A8 1 0000000000000000000000000000000000000000000000000000000000000000', 'u_i': '1 1515947AC8E17D4486FECE8B1F373178D8E2CA050DFD62AB915A223673EE050D 1 1AB8DD22E9FB112BFEC32065E54D3DD327E86960FF10F2BE4DA3A4821A7BF94B 1 04B47F16ADF14369C4701C7C49D618A3EE93BAA0C9A2B1CFDB57A0A1DAA2AB37 1 2418C0C3D6E7FB2EA76322F975F56EDB0F7C63A43C18D208858251FCF15C75FC 2 095E45DDF417D05FB10933FFC63D474548B7FFFF7888802F07FFFFFF7D07A8A8 1 0000000000000000000000000000000000000000000000000000000000000000', 'g_i': '1 0D5EDE1DB4FDD7CD120283509B0F934F4CC9C4263A5A2A663C698A1C4D6382D5 1 20622F62A7213D679003547A8E5C87DB07F289D91C46360B1838F12FB33F2D20 2 095E45DDF417D05FB10933FFC63D474548B7FFFF7888802F07FFFFFF7D07A8A8'}, 'g_i': '1 0D5EDE1DB4FDD7CD120283509B0F934F4CC9C4263A5A2A663C698A1C4D6382D5 1 20622F62A7213D679003547A8E5C87DB07F289D91C46360B1838F12FB33F2D20 2 095E45DDF417D05FB10933FFC63D474548B7FFFF7888802F07FFFFFF7D07A8A8', 'i': 2, 'm2': '2D52DFD062316CF522B9D2019B9FBA2752A8646352FCF8DE111E5C42C386F1AB'}}, 'signature_correctness_proof': {'se': '4757680043109979757056098955175383251520351997954676827820040645180250362573773650592000176309737186013347168368222477898860733149683870544080621239214209671073450200576483352674384286698481881345448690223626503968120336398902742534089999070831013957302900098435098651749606067652417545270532223054262150067405780745488624657408719910014747097759369794863236482298419120956105530498179909450178034065011560220816173403063912205459878813532962128897753092295075347369682741578903343989810166993964395238689489487480971540641219635029426998844866124255761114312358425897598158017481779094227163750360711100845809200995', 'c': '75206470135873714880313598143513233947800658330888743914687980193357507130755'}, 'rev_reg': {'accum': '21 12EEED3D96641C7B65C554C4DC73590F8C8FBE22E189CC864185C3857DB534762 21 118CFBA69B95A8130EA3F85F3578253916D3F18C6B7D244BBF9F514C51314BF5A 6 6A4154F12A2C956E5FC4B5CB410F9409A9D29068DC3E18600EC5B40A17F52085 4 3308F4089F2766F993B950CC416A3335DF44B89E8DE19E387A8044973C5B3998 6 5BD5F5ECB2E6C9B8D9961A64AEE84525B5252CA9C65B48E50D91D3C106C4D3EA 4 2439C2B9A0828F67D304E6687DB8FE967379C928EC905C32F13D98918B64D3EA'}, 'witness': {'omega': '21 12AEBB1948CD71510BF7F6C308C5BBF45C72BDAFA534B9A2009E27691FBEDD6C9 21 1271AA28B9F6795023D875B4ABAFEE8152C0C0EF3CCC03D115A00D0A65B109FDD 6 4D31CD8D682BDFB1EA8EC6B56B35E34698DF4EC272D23045C289FF110561A141 4 1E4CF9BC71476D9EA90A450A1C6566D06CC96E44177E52F922B34ACB8A8CE459 6 78EFC170E37F8F9003C8FCD742BA976CD0E3B762AEDE2DA2251B0ECD25D10EF7 4 3A935A08E417B767E4C2CFFAA5EC2E1D983B8043B9F9F868DDB680B65E62E6D4'}}, 'trace': True, 'auto_issue': True, 'initiator': 'self', 'credential_definition_id': 'PQRXDxdGqQGSZ8z69p4xZP:3:CL:12:default', 'updated_at': '2023-01-03 06:13:51.556629Z', 'created_at': '2023-01-03 06:08:49.984967Z', 'thread_id': '12f87972-4fe1-4cc9-aadb-e55aab97df5b', 'revocation_id': '2', 'auto_remove': False, 'credential_offer': {'schema_id': 'PQRXDxdGqQGSZ8z69p4xZP:2:test_revocable_schema:0.0.1', 'cred_def_id': 'PQRXDxdGqQGSZ8z69p4xZP:3:CL:12:default', 'key_correctness_proof': {'c': '62975020148017094047007461990250946683495569535882249434584255798162687242987', 'xz_cap': '100723694772098469304567607889550974052861252468232476705324286096315219409092315280861681672398702198815253830421022695669174462273317606212131998275382447450422047295152688714584757332652180562315730824014825813124240156068807086092418162103770063662892371368954643492629901103466248690874197585516978178480238200161290274827526659116525714092866671281719234027819472731677394985133638042750168799469849548702104950803794289057403252748217953841736298083334747533075375721619803619472061109263987838804287392392323644040036180675974093593063606764217862126892636249596140399976193301896380071678543444593800382490664283622920982173876797346320802718758026441129457997361053697845535565673710', 'xr_cap': [['age', '1159651452365401174472338197532610548254081566575849169535731127682738584713510083591427835686220240449293249769068609296395046959254523846370219632526379036665522789923841954994022541007965130009261572234229081249031807982976584967574833528627625108493152147341455099365396881298857080199462406859386057360623533899581709123347548334249942360254110488131702362577946695545513510400608628006469230991922983941030009737201823144141621709211453192099635460117640551471648873439691594351915824246358350089888019742100173237374967576951265430602702996575490500056175060607478574199495160922595001933686730005748687246994368843963270409974196910214138778758257072574783272428865026796884135918378422'], ['name', '1214583147887225813349815417097599643981788687451530038766513632476548272528678163697252718373862081664277842824727858723812084400787269365076888454820357145568735952304759970408719674568304558158106327739157224607677826873824956544437652181361729329402298875352372663333331328789160865476858878099795979479027364370794688583882530283447207654209253260997108076063848754347897331509858309950217529295466764948987471920944296890391001663435205774329825473872944012016139925415679441312608966679546937911491059597365083604308349974445871190809697730552442910927407813903806212940741637065443982622607698942300432178802977114863274381954374046505825657723696395092159726701819241684072663994392861'], ['skill', '1188930356435862997567390350165863076060181619955376694955386339207965430558720532265500095650137034507199420582603845442900132148379242020907237841227502988889591711634697468920954906598795696978283391695055854210672955136432138179948579424845849614223104847839095871724376067395879971158263039729746620529375897843855927233129029309979724462451037398321570218502401105098783447229430345496100462830847185308782162451183836405829169630519339530477001457933194912651200868351896690584492241597535322037111604370581848180539965870038286982758960117066086793909170839777721102695044410807614982177597239758899057805499785930233004375155372258843234745609964157063435159919823905153213139580095677'], ['master_secret', '1123706563993082455397465475330205247890915367489125354916220788637414733885684151238619300763751790999303917967449814717093152810512012749874491599228777029164562181469601940657585103561801839125478437051979913624237883044208642159749442800132719725037619887907425072258741055397292263976887056513051953429165283475609457116894652561560214881259707821886154932304710400691305532375388505976563326316212285637535252277362284656425041202291850815879118474680272445242014228163722489929369764097715842218551413807097079295394550471669598406013168182843371617033625752046214847390257430832830271641138815081190843890898372638640302726503941163407054899680112807584079426688839232960528301463838162']]}, 'nonce': '492557686521511298107098'}, 'connection_id': 'b3f010a2-4dcc-4887-b44f-b68748a87751', 'credential_proposal_dict': {'@type': 'did:sov:BzCbsNYhMrjHiqZDTUASHg;spec/issue-credential/1.0/propose-credential', '@id': '4febca47-aed6-4dc9-9541-4120e6a61eec', '~trace': {'target': 'log', 'full_thread': True, 'trace_reports': []}, 'comment': '', 'credential_proposal': {'@type': 'did:sov:BzCbsNYhMrjHiqZDTUASHg;spec/issue-credential/1.0/credential-preview', 'attributes': [{'name': 'name', 'value': 'Bob'}, {'name': 'skill', 'value': 'researcher'}, {'name': 'age', 'value': '21'}]}, 'issuer_did': 'PQRXDxdGqQGSZ8z69p4xZP', 'cred_def_id': 'PQRXDxdGqQGSZ8z69p4xZP:3:CL:12:default', 'schema_issuer_did': 'PQRXDxdGqQGSZ8z69p4xZP', 'schema_version': '0.0.1', 'schema_id': 'PQRXDxdGqQGSZ8z69p4xZP:2:test_revocable_schema:0.0.1', 'schema_name': 'test_revocable_schema'}, 'auto_offer': False, 'schema_id': 'PQRXDxdGqQGSZ8z69p4xZP:2:test_revocable_schema:0.0.1', 'state': 'credential_acked', 'role': 'issuer', 'credential_request': {'prover_did': '2DmECYnbF1ShhKhRr7WJTq', 'cred_def_id': 'PQRXDxdGqQGSZ8z69p4xZP:3:CL:12:default', 'blinded_ms': {'u': '76056496517825459327966287527050321627550324357265610780287338980102691251118387846384895624004799796906989977087346073763912288473236554292534781492437476939704288472170401012264203003588511726721073062969302183773175190183397314184763216373741350804921927976981175265764744051558666749250731633772100424896909735926600225053126708536176985668020433624935091498249796849908356142214023529953051885807598309309465471821107763607815355903049830394904391078068807455080019368770637775049186097320847840431773799282158770907333950262822655354095412253033560370920727419749804150839046578536901490037703230336359396945324', 'ur': '1 0ACABBF522135D845E603E1AC3158FB0EC3CA70D17E993879B107E51D04C4BCB 1 17E304DF72347815417199DB2F35E8CAE0E646282AE908BFFA2928E9C5C4A859 2 095E45DDF417D05FB10933FFC63D474548B7FFFF7888802F07FFFFFF7D07A8A8', 'hidden_attributes': ['master_secret'], 'committed_attributes': {}}, 'blinded_ms_correctness_proof': {'c': '4838561931242278306112212923985345940644654546975173440829687699338253722343', 'v_dash_cap': '173726454787355055304408809527557849773608272463059256070488482228792351099624475704051710532955399216229698893270190441325972402014847823734637286334899499662969274103066570583484522940904407757511898551076330538124027801154179337102172743842981043021083678231507195882139175290438028843822939229487058241460463651483663121978599199200602063021404044141293616123721091335714395316186003408979182685861246364347359141391193843417059915920759474201742056847006189808804083336938820143975175190227678699238361991394521413727712136287892547166720633051277146417466741475956956978367135101360646360069633515924572683141407162665579020149933869132538661692091537746586772150078666732415867410521178639014333854170063499435', 'm_caps': {'master_secret': '24931319530742420077157198933243730242247902445434871086761958290205010194805621318190357297790601456124113695540600658962028864843812189377274605395474447821899824010828533062671'}, 'r_caps': {}}, 'nonce': '728878392571660955508683'}}, {'credential_offer_dict': {'@type': 'did:sov:BzCbsNYhMrjHiqZDTUASHg;spec/issue-credential/1.0/offer-credential', '@id': 'c6e2d25e-b7ca-46d3-a5c7-b8a1c56778b4', '~thread': {}, '~trace': {'target': 'log', 'full_thread': True, 'trace_reports': []}, 'comment': 'create automated credential exchange', 'offers~attach': [{'@id': 'libindy-cred-offer-0', 'mime-type': 'application/json', 'data': {'base64': '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'}}], 'credential_preview': {'@type': 'did:sov:BzCbsNYhMrjHiqZDTUASHg;spec/issue-credential/1.0/credential-preview', 'attributes': [{'name': 'author', 'value': 'PQRXDxdGqQGSZ8z69p4xZP'}, {'name': 'name', 'value': 'balabababa music'}, {'name': 'time', 'value': '01-03-2023, 06:13:06'}, {'name': 'origin', 'value': 'PQRXDxdGqQGSZ8z69p4xZP'}, {'name': 'owner', 'value': 'PQRXDxdGqQGSZ8z69p4xZP'}, {'name': 'version', 'value': 'v1'}]}}, 'credential_exchange_id': '750d5afc-b683-4695-ba29-1d4cfa675c78', 'trace': True, 'auto_issue': True, 'initiator': 'self', 'credential_definition_id': 'PQRXDxdGqQGSZ8z69p4xZP:3:CL:18:default', 'updated_at': '2023-01-03 06:13:06.353342Z', 'created_at': '2023-01-03 06:13:06.353342Z', 'thread_id': 'c6e2d25e-b7ca-46d3-a5c7-b8a1c56778b4', 'auto_remove': False, 'credential_offer': {'schema_id': 'PQRXDxdGqQGSZ8z69p4xZP:2:music_schema:0.0.1', 'cred_def_id': 'PQRXDxdGqQGSZ8z69p4xZP:3:CL:18:default', 'key_correctness_proof': {'c': '114292716179869069901161585513380718310428610568415296453943165340896754196894', 'xz_cap': '1393326025644577484124419308594268723061462834235906903862365027951075092050009441316061104575779196178715258021554307285441649350294340260593597180584407778293167754617035268406593893513569056418937173972421906371419709420068628067135062531820731454856720022638225740472901615706970432746609875994255049648281361060653144705515372663642273598564121363921602833115571657891441472227625837681604420320691204673716920784818488066134681686650701382601979018730505012444739564192462400074409804602037621035701366705533109964354080319346536695218161243354277041425099761499073073683922637785954547763100448505203818831077133209286712805983586870186362311486471707789483765241611436801635791123761945', 'xr_cap': [['master_secret', '494700808962662175870542654391393200527844725063145106180214264448694953633867768447896045440630324500862271926392146871944982131174475841036455281509959736391185755038483845364337194502338009689326298022769080940407850977555575981596841829954848171650713272785475448469952587068705716616178941467020620903199128393579305927626717793952428683990208751969206014203103787417840768126980937894838982583070335534472915050146297307543277566367089448450903683536815731190227994069628442537109097165902338788222186429228067470917740891539191859259776244985770814855381336762139658707419787078728126832584049946843732849543425729279619272731804678710100809137580377320736237855207677137052625244394999'], ['origin', '950843208706893391094718494843497326068774288148909655993057956278605811032555194499032036238062077227344233291765617024731254483527834299139448334489210263713896297719456547332243224429879840531732976620396199593760585594687290598823103598801169516732422758527018971449881182400899870968814520472401931380895402388887512553160657398421494054003107395409262616155147556132044783269418205914100269524812075033968245580950906713758525124168586709906035544487737407671507044009375172077030118329368270191367319928976863471045936774864826024058327822566160626955974313240475127758030432756490904441180713006664177322496303800775636152857135398624811150740134108953574613738152071767038920181504042'], ['name', '260247603782944992483664612043408092781594379278864678891611253796692537829331457815816938464216284654989585131608771073164973250541971851062413025349107556030824818595364463560550670702434647611666224053750494214789419385965590409550694738095571977544182772327195296739196337242274830129102851410374879197520164871955091221513702914149959083603440082731852480009348105188286405811003014561822653470479194834406049465139493176959070351535668062808573989964657892196727473017014436435171082519047510253650310742258120651440585726530286075434452603737521542844692138052741133105407963665887171795079224216238525081636052809686781657085486016087413704280791363502982633456440052554791563491949320'], ['time', '2307344873964958186502717239678497082394937222913041627386645319908144682780499445697164724243778282697398002445831029346395580712050410347368309745539927787018790267177936407463862138089032245656512528561860432972543753563010777503839035895532809930498131452347157041228850718705806501289074714673929510162513055446997619201638750287063748642922797190847644387285108613331363737502579721492481247480993150071833826139216801221945259580653378488765422956663480261160201044957725285282095632922646001601048094921570471327010558099484399549824065404415236631212662870158335049976713352276101976633551161769135008581330050826320714888695922563697330125788858825626178483370510223978480577803118823'], ['version', '1948711299874526027001651645077778487772027637144269233492366045375413178335833421498893310446909265930086004242813016454951820151075467062116677421207461029334387688144076715823414829824456723516299519030448349498345554927534586504429188918235721355435005924249517441620671259505555772403254355921101039555391581721878438417017578624388628389985665881611874925085964541631349061845721734112169358774256372609134168795230220273406132312525006931010491992180566244595090713842019760589901559912651896780915169246570755068318080017861181980893591684682585701347839132109181906572292206080910497117164466879640285559174829945633555267003066612414118149593931841274342085904933192308942576643458045'], ['owner', '953230196508330557530912180506212170056006566315786903141613074091839801627777804283382368187143064842289139544023918142899941934577465766094092517616803241555243108764072539862008444789669554216270824542984102862601348496646752938404846981096926444517622815742660569513976275871121393835550984780195065361564225047803435076545000005491799268908813834677883677553745146813818953890184756540775569891066625143568084687251081189249218744511956616647635590155867913267728660325880887137766247357729534558033563333369594161201242327752920054640689640150192900936714839099660566967452546235344537777243257371598707999048840559553728415003093898884525027872996159513647316561029824095178383286994364'], ['author', '2115795630815196952913759762730178216435631478795555114785243455881967947485227867645261144855287534147979090023114903077011027343605682065390232412327209572356307547724096522353444730486767950094373872120237499236275358998174585966805041806385842950369791095474358182811429101703687311672663712904051930835949830274469106263599932166492525772431416083984597496277366522831193994244469480152994329330713254218730947888379978717587208327021588501417402171856693670249187171681792062028609724909322081838405173916550650359681654494156557312490997061425070735358693353565822207273080187733482874511802315112617252025144514836170177587258154352977222516567513218735018625129086569544227742326108158']]}, 'nonce': '230718902170117349348114'}, 'connection_id': 'ff6ac676-00e0-4b80-a588-6b71f6d7c02e', 'credential_proposal_dict': {'@type': 'did:sov:BzCbsNYhMrjHiqZDTUASHg;spec/issue-credential/1.0/propose-credential', '@id': 'b4accdd3-e387-4984-b644-b511b30397d0', '~trace': {'target': 'log', 'full_thread': True, 'trace_reports': []}, 'comment': '', 'credential_proposal': {'@type': 'did:sov:BzCbsNYhMrjHiqZDTUASHg;spec/issue-credential/1.0/credential-preview', 'attributes': [{'name': 'author', 'value': 'PQRXDxdGqQGSZ8z69p4xZP'}, {'name': 'name', 'value': 'balabababa music'}, {'name': 'time', 'value': '01-03-2023, 06:13:06'}, {'name': 'origin', 'value': 'PQRXDxdGqQGSZ8z69p4xZP'}, {'name': 'owner', 'value': 'PQRXDxdGqQGSZ8z69p4xZP'}, {'name': 'version', 'value': 'v1'}]}, 'issuer_did': 'PQRXDxdGqQGSZ8z69p4xZP', 'cred_def_id': 'PQRXDxdGqQGSZ8z69p4xZP:3:CL:18:default', 'schema_issuer_did': 'PQRXDxdGqQGSZ8z69p4xZP', 'schema_version': '0.0.1', 'schema_id': 'PQRXDxdGqQGSZ8z69p4xZP:2:music_schema:0.0.1', 'schema_name': 'music_schema'}, 'auto_offer': False, 'schema_id': 'PQRXDxdGqQGSZ8z69p4xZP:2:music_schema:0.0.1', 'state': 'offer_sent', 'role': 'issuer'}, {'credential_offer_dict': {'@type': 'did:sov:BzCbsNYhMrjHiqZDTUASHg;spec/issue-credential/1.0/offer-credential', '@id': '8455a48d-66be-4893-9f7b-4a2ace4acab5', '~thread': {}, '~trace': {'target': 'log', 'full_thread': True, 'trace_reports': []}, 'comment': 'create automated credential exchange', 'offers~attach': [{'@id': 'libindy-cred-offer-0', 'mime-type': 'application/json', 'data': {'base64': 'eyJzY2hlbWFfaWQiOiAiUFFSWER4ZEdxUUdTWjh6NjlwNHhaUDoyOnRlc3RfcmV2b2NhYmxlX3NjaGVtYTowLjAuMSIsICJjcmVkX2RlZl9pZCI6ICJQUVJYRHhkR3FRR1NaOHo2OXA0eFpQOjM6Q0w6MTI6ZGVmYXVsdCIsICJrZXlfY29ycmVjdG5lc3NfcHJvb2YiOiB7ImMiOiAiNjI5NzUwMjAxNDgwMTcwOTQwNDcwMDc0NjE5OTAyNTA5NDY2ODM0OTU1Njk1MzU4ODIyNDk0MzQ1ODQyNTU3OTgxNjI2ODcyNDI5ODciLCAieHpfY2FwIjogIjEwMDcyMzY5NDc3MjA5ODQ2OTMwNDU2NzYwNzg4OTU1MDk3NDA1Mjg2MTI1MjQ2ODIzMjQ3NjcwNTMyNDI4NjA5NjMxNTIxOTQwOTA5MjMxNTI4MDg2MTY4MTY3MjM5ODcwMjE5ODgxNTI1MzgzMDQyMTAyMjY5NTY2OTE3NDQ2MjI3MzMxNzYwNjIxMjEzMTk5ODI3NTM4MjQ0NzQ1MDQyMjA0NzI5NTE1MjY4ODcxNDU4NDc1NzMzMjY1MjE4MDU2MjMxNTczMDgyNDAxNDgyNTgxMzEyNDI0MDE1NjA2ODgwNzA4NjA5MjQxODE2MjEwMzc3MDA2MzY2Mjg5MjM3MTM2ODk1NDY0MzQ5MjYyOTkwMTEwMzQ2NjI0ODY5MDg3NDE5NzU4NTUxNjk3ODE3ODQ4MDIzODIwMDE2MTI5MDI3NDgyNzUyNjY1OTExNjUyNTcxNDA5Mjg2NjY3MTI4MTcxOTIzNDAyNzgxOTQ3MjczMTY3NzM5NDk4NTEzMzYzODA0Mjc1MDE2ODc5OTQ2OTg0OTU0ODcwMjEwNDk1MDgwMzc5NDI4OTA1NzQwMzI1Mjc0ODIxNzk1Mzg0MTczNjI5ODA4MzMzNDc0NzUzMzA3NTM3NTcyMTYxOTgwMzYxOTQ3MjA2MTEwOTI2Mzk4NzgzODgwNDI4NzM5MjM5MjMyMzY0NDA0MDAzNjE4MDY3NTk3NDA5MzU5MzA2MzYwNjc2NDIxNzg2MjEyNjg5MjYzNjI0OTU5NjE0MDM5OTk3NjE5MzMwMTg5NjM4MDA3MTY3ODU0MzQ0NDU5MzgwMDM4MjQ5MDY2NDI4MzYyMjkyMDk4MjE3Mzg3Njc5NzM0NjMyMDgwMjcxODc1ODAyNjQ0MTEyOTQ1Nzk5NzM2MTA1MzY5Nzg0NTUzNTU2NTY3MzcxMCIsICJ4cl9jYXAiOiBbWyJhZ2UiLCAiMTE1OTY1MTQ1MjM2NTQwMTE3NDQ3MjMzODE5NzUzMjYxMDU0ODI1NDA4MTU2NjU3NTg0OTE2OTUzNTczMTEyNzY4MjczODU4NDcxMzUxMDA4MzU5MTQyNzgzNTY4NjIyMDI0MDQ0OTI5MzI0OTc2OTA2ODYwOTI5NjM5NTA0Njk1OTI1NDUyMzg0NjM3MDIxOTYzMjUyNjM3OTAzNjY2NTUyMjc4OTkyMzg0MTk1NDk5NDAyMjU0MTAwNzk2NTEzMDAwOTI2MTU3MjIzNDIyOTA4MTI0OTAzMTgwNzk4Mjk3NjU4NDk2NzU3NDgzMzUyODYyNzYyNTEwODQ5MzE1MjE0NzM0MTQ1NTA5OTM2NTM5Njg4MTI5ODg1NzA4MDE5OTQ2MjQwNjg1OTM4NjA1NzM2MDYyMzUzMzg5OTU4MTcwOTEyMzM0NzU0ODMzNDI0OTk0MjM2MDI1NDExMDQ4ODEzMTcwMjM2MjU3Nzk0NjY5NTU0NTUxMzUxMDQwMDYwODYyODAwNjQ2OTIzMDk5MTkyMjk4Mzk0MTAzMDAwOTczNzIwMTgyMzE0NDE0MTYyMTcwOTIxMTQ1MzE5MjA5OTYzNTQ2MDExNzY0MDU1MTQ3MTY0ODg3MzQzOTY5MTU5NDM1MTkxNTgyNDI0NjM1ODM1MDA4OTg4ODAxOTc0MjEwMDE3MzIzNzM3NDk2NzU3Njk1MTI2NTQzMDYwMjcwMjk5NjU3NTQ5MDUwMDA1NjE3NTA2MDYwNzQ3ODU3NDE5OTQ5NTE2MDkyMjU5NTAwMTkzMzY4NjczMDAwNTc0ODY4NzI0Njk5NDM2ODg0Mzk2MzI3MDQwOTk3NDE5NjkxMDIxNDEzODc3ODc1ODI1NzA3MjU3NDc4MzI3MjQyODg2NTAyNjc5Njg4NDEzNTkxODM3ODQyMiJdLCBbIm5hbWUiLCAiMTIxNDU4MzE0Nzg4NzIyNTgxMzM0OTgxNTQxNzA5NzU5OTY0Mzk4MTc4ODY4NzQ1MTUzMDAzODc2NjUxMzYzMjQ3NjU0ODI3MjUyODY3ODE2MzY5NzI1MjcxODM3Mzg2MjA4MTY2NDI3Nzg0MjgyNDcyNzg1ODcyMzgxMjA4NDQwMDc4NzI2OTM2NTA3Njg4ODQ1NDgyMDM1NzE0NTU2ODczNTk1MjMwNDc1OTk3MDQwODcxOTY3NDU2ODMwNDU1ODE1ODEwNjMyNzczOTE1NzIyNDYwNzY3NzgyNjg3MzgyNDk1NjU0NDQzNzY1MjE4MTM2MTcyOTMyOTQwMjI5ODg3NTM1MjM3MjY2MzMzMzMzMTMyODc4OTE2MDg2NTQ3Njg1ODg3ODA5OTc5NTk3OTQ3OTAyNzM2NDM3MDc5NDY4ODU4Mzg4MjUzMDI4MzQ0NzIwNzY1NDIwOTI1MzI2MDk5NzEwODA3NjA2Mzg0ODc1NDM0Nzg5NzMzMTUwOTg1ODMwOTk1MDIxNzUyOTI5NTQ2Njc2NDk0ODk4NzQ3MTkyMDk0NDI5Njg5MDM5MTAwMTY2MzQzNTIwNTc3NDMyOTgyNTQ3Mzg3Mjk0NDAxMjAxNjEzOTkyNTQxNTY3OTQ0MTMxMjYwODk2NjY3OTU0NjkzNzkxMTQ5MTA1OTU5NzM2NTA4MzYwNDMwODM0OTk3NDQ0NTg3MTE5MDgwOTY5NzczMDU1MjQ0MjkxMDkyNzQwNzgxMzkwMzgwNjIxMjk0MDc0MTYzNzA2NTQ0Mzk4MjYyMjYwNzY5ODk0MjMwMDQzMjE3ODgwMjk3NzExNDg2MzI3NDM4MTk1NDM3NDA0NjUwNTgyNTY1NzcyMzY5NjM5NTA5MjE1OTcyNjcwMTgxOTI0MTY4NDA3MjY2Mzk5NDM5Mjg2MSJdLCBbInNraWxsIiwgIjExODg5MzAzNTY0MzU4NjI5OTc1NjczOTAzNTAxNjU4NjMwNzYwNjAxODE2MTk5NTUzNzY2OTQ5NTUzODYzMzkyMDc5NjU0MzA1NTg3MjA1MzIyNjU1MDAwOTU2NTAxMzcwMzQ1MDcxOTk0MjA1ODI2MDM4NDU0NDI5MDAxMzIxNDgzNzkyNDIwMjA5MDcyMzc4NDEyMjc1MDI5ODg4ODk1OTE3MTE2MzQ2OTc0Njg5MjA5NTQ5MDY1OTg3OTU2OTY5NzgyODMzOTE2OTUwNTU4NTQyMTA2NzI5NTUxMzY0MzIxMzgxNzk5NDg1Nzk0MjQ4NDU4NDk2MTQyMjMxMDQ4NDc4MzkwOTU4NzE3MjQzNzYwNjczOTU4Nzk5NzExNTgyNjMwMzk3Mjk3NDY2MjA1MjkzNzU4OTc4NDM4NTU5MjcyMzMxMjkwMjkzMDk5Nzk3MjQ0NjI0NTEwMzczOTgzMjE1NzAyMTg1MDI0MDExMDUwOTg3ODM0NDcyMjk0MzAzNDU0OTYxMDA0NjI4MzA4NDcxODUzMDg3ODIxNjI0NTExODM4MzY0MDU4MjkxNjk2MzA1MTkzMzk1MzA0NzcwMDE0NTc5MzMxOTQ5MTI2NTEyMDA4NjgzNTE4OTY2OTA1ODQ0OTIyNDE1OTc1MzUzMjIwMzcxMTE2MDQzNzA1ODE4NDgxODA1Mzk5NjU4NzAwMzgyODY5ODI3NTg5NjAxMTcwNjYwODY3OTM5MDkxNzA4Mzk3Nzc3MjExMDI2OTUwNDQ0MTA4MDc2MTQ5ODIxNzc1OTcyMzk3NTg4OTkwNTc4MDU0OTk3ODU5MzAyMzMwMDQzNzUxNTUzNzIyNTg4NDMyMzQ3NDU2MDk5NjQxNTcwNjM0MzUxNTk5MTk4MjM5MDUxNTMyMTMxMzk1ODAwOTU2NzciXSwgWyJtYXN0ZXJfc2VjcmV0IiwgIjExMjM3MDY1NjM5OTMwODI0NTUzOTc0NjU0NzUzMzAyMDUyNDc4OTA5MTUzNjc0ODkxMjUzNTQ5MTYyMjA3ODg2Mzc0MTQ3MzM4ODU2ODQxNTEyMzg2MTkzMDA3NjM3NTE3OTA5OTkzMDM5MTc5Njc0NDk4MTQ3MTcwOTMxNTI4MTA1MTIwMTI3NDk4NzQ0OTE1OTkyMjg3NzcwMjkxNjQ1NjIxODE0Njk2MDE5NDA2NTc1ODUxMDM1NjE4MDE4MzkxMjU0Nzg0MzcwNTE5Nzk5MTM2MjQyMzc4ODMwNDQyMDg2NDIxNTk3NDk0NDI4MDAxMzI3MTk3MjUwMzc2MTk4ODc5MDc0MjUwNzIyNTg3NDEwNTUzOTcyOTIyNjM5NzY4ODcwNTY1MTMwNTE5NTM0MjkxNjUyODM0NzU2MDk0NTcxMTY4OTQ2NTI1NjE1NjAyMTQ4ODEyNTk3MDc4MjE4ODYxNTQ5MzIzMDQ3MTA0MDA2OTEzMDU1MzIzNzUzODg1MDU5NzY1NjMzMjYzMTYyMTIyODU2Mzc1MzUyNTIyNzczNjIyODQ2NTY0MjUwNDEyMDIyOTE4NTA4MTU4NzkxMTg0NzQ2ODAyNzI0NDUyNDIwMTQyMjgxNjM3MjI0ODk5MjkzNjk3NjQwOTc3MTU4NDIyMTg1NTE0MTM4MDcwOTcwNzkyOTUzOTQ1NTA0NzE2Njk1OTg0MDYwMTMxNjgxODI4NDMzNzE2MTcwMzM2MjU3NTIwNDYyMTQ4NDczOTAyNTc0MzA4MzI4MzAyNzE2NDExMzg4MTUwODExOTA4NDM4OTA4OTgzNzI2Mzg2NDAzMDI3MjY1MDM5NDExNjM0MDcwNTQ4OTk2ODAxMTI4MDc1ODQwNzk0MjY2ODg4MzkyMzI5NjA1MjgzMDE0NjM4MzgxNjIiXV19LCAibm9uY2UiOiAiNDkyNTU3Njg2NTIxNTExMjk4MTA3MDk4In0='}}], 'credential_preview': {'@type': 'did:sov:BzCbsNYhMrjHiqZDTUASHg;spec/issue-credential/1.0/credential-preview', 'attributes': [{'name': 'name', 'value': 'Bob'}, {'name': 'skill', 'value': 'researcher'}, {'name': 'age', 'value': '21'}]}}, 'credential_exchange_id': '9c1458fd-4482-463f-ada4-ad99a097b5d2', 'trace': True, 'auto_issue': True, 'initiator': 'self', 'credential_definition_id': 'PQRXDxdGqQGSZ8z69p4xZP:3:CL:12:default', 'updated_at': '2023-01-03 06:01:44.727853Z', 'created_at': '2023-01-03 06:01:44.727853Z', 'thread_id': '8455a48d-66be-4893-9f7b-4a2ace4acab5', 'auto_remove': False, 'credential_offer': {'schema_id': 'PQRXDxdGqQGSZ8z69p4xZP:2:test_revocable_schema:0.0.1', 'cred_def_id': 'PQRXDxdGqQGSZ8z69p4xZP:3:CL:12:default', 'key_correctness_proof': {'c': '62975020148017094047007461990250946683495569535882249434584255798162687242987', 'xz_cap': '100723694772098469304567607889550974052861252468232476705324286096315219409092315280861681672398702198815253830421022695669174462273317606212131998275382447450422047295152688714584757332652180562315730824014825813124240156068807086092418162103770063662892371368954643492629901103466248690874197585516978178480238200161290274827526659116525714092866671281719234027819472731677394985133638042750168799469849548702104950803794289057403252748217953841736298083334747533075375721619803619472061109263987838804287392392323644040036180675974093593063606764217862126892636249596140399976193301896380071678543444593800382490664283622920982173876797346320802718758026441129457997361053697845535565673710', 'xr_cap': [['age', '1159651452365401174472338197532610548254081566575849169535731127682738584713510083591427835686220240449293249769068609296395046959254523846370219632526379036665522789923841954994022541007965130009261572234229081249031807982976584967574833528627625108493152147341455099365396881298857080199462406859386057360623533899581709123347548334249942360254110488131702362577946695545513510400608628006469230991922983941030009737201823144141621709211453192099635460117640551471648873439691594351915824246358350089888019742100173237374967576951265430602702996575490500056175060607478574199495160922595001933686730005748687246994368843963270409974196910214138778758257072574783272428865026796884135918378422'], ['name', '1214583147887225813349815417097599643981788687451530038766513632476548272528678163697252718373862081664277842824727858723812084400787269365076888454820357145568735952304759970408719674568304558158106327739157224607677826873824956544437652181361729329402298875352372663333331328789160865476858878099795979479027364370794688583882530283447207654209253260997108076063848754347897331509858309950217529295466764948987471920944296890391001663435205774329825473872944012016139925415679441312608966679546937911491059597365083604308349974445871190809697730552442910927407813903806212940741637065443982622607698942300432178802977114863274381954374046505825657723696395092159726701819241684072663994392861'], ['skill', '1188930356435862997567390350165863076060181619955376694955386339207965430558720532265500095650137034507199420582603845442900132148379242020907237841227502988889591711634697468920954906598795696978283391695055854210672955136432138179948579424845849614223104847839095871724376067395879971158263039729746620529375897843855927233129029309979724462451037398321570218502401105098783447229430345496100462830847185308782162451183836405829169630519339530477001457933194912651200868351896690584492241597535322037111604370581848180539965870038286982758960117066086793909170839777721102695044410807614982177597239758899057805499785930233004375155372258843234745609964157063435159919823905153213139580095677'], ['master_secret', '1123706563993082455397465475330205247890915367489125354916220788637414733885684151238619300763751790999303917967449814717093152810512012749874491599228777029164562181469601940657585103561801839125478437051979913624237883044208642159749442800132719725037619887907425072258741055397292263976887056513051953429165283475609457116894652561560214881259707821886154932304710400691305532375388505976563326316212285637535252277362284656425041202291850815879118474680272445242014228163722489929369764097715842218551413807097079295394550471669598406013168182843371617033625752046214847390257430832830271641138815081190843890898372638640302726503941163407054899680112807584079426688839232960528301463838162']]}, 'nonce': '492557686521511298107098'}, 'connection_id': 'b3f010a2-4dcc-4887-b44f-b68748a87751', 'credential_proposal_dict': {'@type': 'did:sov:BzCbsNYhMrjHiqZDTUASHg;spec/issue-credential/1.0/propose-credential', '@id': 'd2724ab3-bf3c-4cfe-846b-acd186b51eb6', '~trace': {'target': 'log', 'full_thread': True, 'trace_reports': []}, 'comment': '', 'credential_proposal': {'@type': 'did:sov:BzCbsNYhMrjHiqZDTUASHg;spec/issue-credential/1.0/credential-preview', 'attributes': [{'name': 'name', 'value': 'Bob'}, {'name': 'skill', 'value': 'researcher'}, {'name': 'age', 'value': '21'}]}, 'issuer_did': 'PQRXDxdGqQGSZ8z69p4xZP', 'cred_def_id': 'PQRXDxdGqQGSZ8z69p4xZP:3:CL:12:default', 'schema_issuer_did': 'PQRXDxdGqQGSZ8z69p4xZP', 'schema_version': '0.0.1', 'schema_id': 'PQRXDxdGqQGSZ8z69p4xZP:2:test_revocable_schema:0.0.1', 'schema_name': 'test_revocable_schema'}, 'auto_offer': False, 'schema_id': 'PQRXDxdGqQGSZ8z69p4xZP:2:test_revocable_schema:0.0.1', 'state': 'offer_sent', 'role': 'issuer'}, {'revoc_reg_id': 'PQRXDxdGqQGSZ8z69p4xZP:4:PQRXDxdGqQGSZ8z69p4xZP:3:CL:12:default:CL_ACCUM:b3dcbef1-f919-4a66-b1e9-f8141e93d801', 'credential_offer_dict': {'@type': 'did:sov:BzCbsNYhMrjHiqZDTUASHg;spec/issue-credential/1.0/offer-credential', '@id': '1393efba-3414-413b-8cbb-25398f656407', '~thread': {}, '~trace': {'target': 'log', 'full_thread': True, 'trace_reports': []}, 'comment': 'create automated credential exchange', 'offers~attach': [{'@id': 'libindy-cred-offer-0', 'mime-type': 'application/json', 'data': {'base64': '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'}}], 'credential_preview': {'@type': 'did:sov:BzCbsNYhMrjHiqZDTUASHg;spec/issue-credential/1.0/credential-preview', 'attributes': [{'name': 'name', 'value': 'Bob'}, {'name': 'skill', 'value': 'researcher'}, {'name': 'age', 'value': '21'}]}}, 'credential_exchange_id': '664367aa-b680-4f32-9532-3cefa3894895', 'credential': {'schema_id': 'PQRXDxdGqQGSZ8z69p4xZP:2:test_revocable_schema:0.0.1', 'cred_def_id': 'PQRXDxdGqQGSZ8z69p4xZP:3:CL:12:default', 'rev_reg_id': 'PQRXDxdGqQGSZ8z69p4xZP:4:PQRXDxdGqQGSZ8z69p4xZP:3:CL:12:default:CL_ACCUM:b3dcbef1-f919-4a66-b1e9-f8141e93d801', 'values': {'age': {'raw': '21', 'encoded': '21'}, 'name': {'raw': 'Bob', 'encoded': '93006290325627508022776103386395994712401809437930957652111221015872244345185'}, 'skill': {'raw': 'researcher', 'encoded': '24214165878429772374367858032287880675266648921286067519661391650938186682695'}}, 'signature': {'p_credential': {'m_2': '72937137726437365760332928944676002314667848878387799789176209738181905478115', 'a': '15232500271901564452920219697875931161614396198684527964890490240969867905094129493087260566369486450296658505123249771944644407910392168762413142760098665637769457463965079546557556603756212885902807666227948583659628995810341613561306909662530560787349571833667721021734386998339271515817008629522612245882569268485184944106518190913728127116109904068870481001167216795782727339968979937880257880043244298701425172955679301530233903945793051898639627077755970830666391068921500710877846914028781057461917791626340815215100763406668098428676783106371464525222718714938043184479037027240984103743226932943077024611559', 'e': '259344723055062059907025491480697571938277889515152306249728583105665800713306759149981690559193987143012367913206299323899696942213235956742929941544165579660120164700816964304091', 'v': '5853212628127616898574387780103971322199961540642663828666412231712856440074860419869865132566597373447016108801238045505576046422660988045217495480320320881883793653693912963018239778715924870153045794100603651946397544092741915690113939928345741885129090439720389976968992706427886234686094225970808949078478175854096943342080805562900792856092100884560120644942583280830428602360449586532298044377196267501527869287346005342063960370354804541339922821762872183195013545847250697896354074769305559210757668573012832416119860166304280402767963316978600437635180101792677475211018338392141884486162915720193210352472412710276087430835614639543518515899580485311907433657977441136913733004305718379485078238235524757962809535298731087171572907654948103242844182433660608246572078655833489932666492386879553155312593794662'}, 'r_credential': {'sigma': '1 047821CA38B99233F39EFFAADF7583B519620F57AC4A9BC6E7B8842161EDA56F 1 18C123EA5ABFC1F42CDE3B601DB1B5DF11D33D82D94EDDEDF1CBFBA1810AA97A 2 095E45DDF417D05FB10933FFC63D474548B7FFFF7888802F07FFFFFF7D07A8A8', 'c': '0BB6D060485E870733ADBB66F800F19DEA20104524EE489B7B85117DE290E69D', 'vr_prime_prime': '037087DDF93F269153856911B0A904EF2350F4A8B130BDCE018E712EC5FB273F', 'witness_signature': {'sigma_i': '1 15F58C9615793ED727E4B9913F5C58663B42B21DA2C8A9C095621AB94183A45A 1 0747AEBB6FCC42BDA53A63528E11521970A242FCFE599E06365CDB21117CF578 1 128662BD34887FECA4D394332A51750FB6A9832C2AC746746FC54C2B8EDC6AB6 1 12A3365DED8CC610A4131D253CF219DC8DF0EEA6747F41A0874EF638DE9F07FA 2 095E45DDF417D05FB10933FFC63D474548B7FFFF7888802F07FFFFFF7D07A8A8 1 0000000000000000000000000000000000000000000000000000000000000000', 'u_i': '1 15154071ACD7195131E68759BE3AB91B33B79FEC876086B40B8D03F89459F2DE 1 0E9AAAC2264BF29450A49B303A122793D66DB732925D17C212DACBE31F48C8D4 1 1F9DE834977BF744B1BC7F371687BFCE638B868DA5957222291AE1136427B97A 1 02EF4A6CAADE08BDEAE1031F1895DA47FA3B291341FE3A419FA3511B82F347FA 2 095E45DDF417D05FB10933FFC63D474548B7FFFF7888802F07FFFFFF7D07A8A8 1 0000000000000000000000000000000000000000000000000000000000000000', 'g_i': '1 02EBC1990DBFD6B9B2DECFAFB96BD83AF23921E1A5A30A1F69FD3FD09793F6DC 1 21FAAF66B85E851F5492589C6033F75BD6D98C72D539A77E4CF75FF703CFCCD5 2 095E45DDF417D05FB10933FFC63D474548B7FFFF7888802F07FFFFFF7D07A8A8'}, 'g_i': '1 02EBC1990DBFD6B9B2DECFAFB96BD83AF23921E1A5A30A1F69FD3FD09793F6DC 1 21FAAF66B85E851F5492589C6033F75BD6D98C72D539A77E4CF75FF703CFCCD5 2 095E45DDF417D05FB10933FFC63D474548B7FFFF7888802F07FFFFFF7D07A8A8', 'i': 1, 'm2': 'A140F4FEAF32E68546EC5A35944FDEFF17FC7B0ECB0564E1874A2211D32FF1E3'}}, 'signature_correctness_proof': {'se': '12301549924889258791187542944660058601777900582642133369163787441362639120541557818615339656860209096462025541183790565173621952920244004992926482519820980808842994899217632350102574172198830086118900809837058552785670874181332740523074673050746319354466689722563007138479811720720433510733238230448143139033537530719182706096688981320382640974487038909682284732176917721647271873124190839635887278321798070428874626265752825435599605753690722570717639537342282280967548515932896261180086604501509863515033428280588724401163932933879964096514806637573597891455354372759931609488470030643527950026454734431125711448752', 'c': '80137615092296006291124570795761415909970217222719528628789085190307865751914'}, 'rev_reg': {'accum': '21 12EEED3D96641C7B65C554C4DC73590F8C8FBE22E189CC864185C3857DB534762 21 118CFBA69B95A8130EA3F85F3578253916D3F18C6B7D244BBF9F514C51314BF5A 6 6A4154F12A2C956E5FC4B5CB410F9409A9D29068DC3E18600EC5B40A17F52085 4 3308F4089F2766F993B950CC416A3335DF44B89E8DE19E387A8044973C5B3998 6 5BD5F5ECB2E6C9B8D9961A64AEE84525B5252CA9C65B48E50D91D3C106C4D3EA 4 2439C2B9A0828F67D304E6687DB8FE967379C928EC905C32F13D98918B64D3EA'}, 'witness': {'omega': '21 13A47DF23C253F61ECBB1FFDBB525A662C1E3232B97360F5F823CEA0C60A7D26C 21 13128E5CCD32F53B6B978B0A64E6DAC60E5D25094F78941499A4749CC155358B0 6 7990F962D3A35BFEED38260193179A2C6E9BF14EE47D32054E91DA8F1E6BABF1 4 1F27269B839097C5EBE1D417D8A2EB52E335A4AAE597DE9000156D63E92EC58B 6 75F293D36E243F3B119B6A08707724A31A62DE45015F56B840B576B9BD5E31BB 4 3127F61C5D3A671DC9BBA77777288BD354FE625359BABC05A4EDB5599C8E022F'}}, 'trace': True, 'auto_issue': True, 'initiator': 'self', 'credential_definition_id': 'PQRXDxdGqQGSZ8z69p4xZP:3:CL:12:default', 'updated_at': '2023-01-03 06:02:08.016731Z', 'created_at': '2023-01-03 06:00:29.924542Z', 'thread_id': '1393efba-3414-413b-8cbb-25398f656407', 'revocation_id': '1', 'auto_remove': False, 'credential_offer': {'schema_id': 'PQRXDxdGqQGSZ8z69p4xZP:2:test_revocable_schema:0.0.1', 'cred_def_id': 'PQRXDxdGqQGSZ8z69p4xZP:3:CL:12:default', 'key_correctness_proof': {'c': '62975020148017094047007461990250946683495569535882249434584255798162687242987', 'xz_cap': '100723694772098469304567607889550974052861252468232476705324286096315219409092315280861681672398702198815253830421022695669174462273317606212131998275382447450422047295152688714584757332652180562315730824014825813124240156068807086092418162103770063662892371368954643492629901103466248690874197585516978178480238200161290274827526659116525714092866671281719234027819472731677394985133638042750168799469849548702104950803794289057403252748217953841736298083334747533075375721619803619472061109263987838804287392392323644040036180675974093593063606764217862126892636249596140399976193301896380071678543444593800382490664283622920982173876797346320802718758026441129457997361053697845535565673710', 'xr_cap': [['age', '1159651452365401174472338197532610548254081566575849169535731127682738584713510083591427835686220240449293249769068609296395046959254523846370219632526379036665522789923841954994022541007965130009261572234229081249031807982976584967574833528627625108493152147341455099365396881298857080199462406859386057360623533899581709123347548334249942360254110488131702362577946695545513510400608628006469230991922983941030009737201823144141621709211453192099635460117640551471648873439691594351915824246358350089888019742100173237374967576951265430602702996575490500056175060607478574199495160922595001933686730005748687246994368843963270409974196910214138778758257072574783272428865026796884135918378422'], ['name', '1214583147887225813349815417097599643981788687451530038766513632476548272528678163697252718373862081664277842824727858723812084400787269365076888454820357145568735952304759970408719674568304558158106327739157224607677826873824956544437652181361729329402298875352372663333331328789160865476858878099795979479027364370794688583882530283447207654209253260997108076063848754347897331509858309950217529295466764948987471920944296890391001663435205774329825473872944012016139925415679441312608966679546937911491059597365083604308349974445871190809697730552442910927407813903806212940741637065443982622607698942300432178802977114863274381954374046505825657723696395092159726701819241684072663994392861'], ['skill', '1188930356435862997567390350165863076060181619955376694955386339207965430558720532265500095650137034507199420582603845442900132148379242020907237841227502988889591711634697468920954906598795696978283391695055854210672955136432138179948579424845849614223104847839095871724376067395879971158263039729746620529375897843855927233129029309979724462451037398321570218502401105098783447229430345496100462830847185308782162451183836405829169630519339530477001457933194912651200868351896690584492241597535322037111604370581848180539965870038286982758960117066086793909170839777721102695044410807614982177597239758899057805499785930233004375155372258843234745609964157063435159919823905153213139580095677'], ['master_secret', '1123706563993082455397465475330205247890915367489125354916220788637414733885684151238619300763751790999303917967449814717093152810512012749874491599228777029164562181469601940657585103561801839125478437051979913624237883044208642159749442800132719725037619887907425072258741055397292263976887056513051953429165283475609457116894652561560214881259707821886154932304710400691305532375388505976563326316212285637535252277362284656425041202291850815879118474680272445242014228163722489929369764097715842218551413807097079295394550471669598406013168182843371617033625752046214847390257430832830271641138815081190843890898372638640302726503941163407054899680112807584079426688839232960528301463838162']]}, 'nonce': '492557686521511298107098'}, 'connection_id': 'b3f010a2-4dcc-4887-b44f-b68748a87751', 'credential_proposal_dict': {'@type': 'did:sov:BzCbsNYhMrjHiqZDTUASHg;spec/issue-credential/1.0/propose-credential', '@id': '71aeab20-2741-4831-8205-3f5a27016368', '~trace': {'target': 'log', 'full_thread': True, 'trace_reports': []}, 'comment': '', 'credential_proposal': {'@type': 'did:sov:BzCbsNYhMrjHiqZDTUASHg;spec/issue-credential/1.0/credential-preview', 'attributes': [{'name': 'name', 'value': 'Bob'}, {'name': 'skill', 'value': 'researcher'}, {'name': 'age', 'value': '21'}]}, 'issuer_did': 'PQRXDxdGqQGSZ8z69p4xZP', 'cred_def_id': 'PQRXDxdGqQGSZ8z69p4xZP:3:CL:12:default', 'schema_issuer_did': 'PQRXDxdGqQGSZ8z69p4xZP', 'schema_version': '0.0.1', 'schema_id': 'PQRXDxdGqQGSZ8z69p4xZP:2:test_revocable_schema:0.0.1', 'schema_name': 'test_revocable_schema'}, 'auto_offer': False, 'schema_id': 'PQRXDxdGqQGSZ8z69p4xZP:2:test_revocable_schema:0.0.1', 'state': 'credential_acked', 'role': 'issuer', 'credential_request': {'prover_did': '2DmECYnbF1ShhKhRr7WJTq', 'cred_def_id': 'PQRXDxdGqQGSZ8z69p4xZP:3:CL:12:default', 'blinded_ms': {'u': '76056496517825459327966287527050321627550324357265610780287338980102691251118387846384895624004799796906989977087346073763912288473236554292534781492437476939704288472170401012264203003588511726721073062969302183773175190183397314184763216373741350804921927976981175265764744051558666749250731633772100424896909735926600225053126708536176985668020433624935091498249796849908356142214023529953051885807598309309465471821107763607815355903049830394904391078068807455080019368770637775049186097320847840431773799282158770907333950262822655354095412253033560370920727419749804150839046578536901490037703230336359396945324', 'ur': '1 0ACABBF522135D845E603E1AC3158FB0EC3CA70D17E993879B107E51D04C4BCB 1 17E304DF72347815417199DB2F35E8CAE0E646282AE908BFFA2928E9C5C4A859 2 095E45DDF417D05FB10933FFC63D474548B7FFFF7888802F07FFFFFF7D07A8A8', 'hidden_attributes': ['master_secret'], 'committed_attributes': {}}, 'blinded_ms_correctness_proof': {'c': '4838561931242278306112212923985345940644654546975173440829687699338253722343', 'v_dash_cap': '173726454787355055304408809527557849773608272463059256070488482228792351099624475704051710532955399216229698893270190441325972402014847823734637286334899499662969274103066570583484522940904407757511898551076330538124027801154179337102172743842981043021083678231507195882139175290438028843822939229487058241460463651483663121978599199200602063021404044141293616123721091335714395316186003408979182685861246364347359141391193843417059915920759474201742056847006189808804083336938820143975175190227678699238361991394521413727712136287892547166720633051277146417466741475956956978367135101360646360069633515924572683141407162665579020149933869132538661692091537746586772150078666732415867410521178639014333854170063499435', 'm_caps': {'master_secret': '24931319530742420077157198933243730242247902445434871086761958290205010194805621318190357297790601456124113695540600658962028864843812189377274605395474447821899824010828533062671'}, 'r_caps': {}}, 'nonce': '728878392571660955508683'}}]\n",
            "Credential exchange 750d5afc-b683-4695-ba29-1d4cfa675c78, role: issuer, state: offer_sent\n"
          ]
        }
      ],
      "source": [
        "response = await agent_controller.issuer.get_records()\n",
        "print(response['results'])\n",
        "cred_record = await agent_controller.issuer.get_record_by_id(record_id)\n",
        "state = cred_record['state']\n",
        "role = cred_record['role']\n",
        "print(f\"Credential exchange {record_id}, role: {role}, state: {state}\")"
      ]
    },
    {
      "cell_type": "code",
      "execution_count": 24,
      "id": "6a16092e",
      "metadata": {},
      "outputs": [
        {
          "name": "stdout",
          "output_type": "stream",
          "text": [
            "{}\n"
          ]
        }
      ],
      "source": [
        "## Remove records\n",
        "response = await agent_controller.issuer.remove_record(record_id)\n",
        "print(response)"
      ]
    },
    {
      "cell_type": "code",
      "execution_count": 25,
      "id": "68691bfe",
      "metadata": {},
      "outputs": [
        {
          "name": "stdout",
          "output_type": "stream",
          "text": [
            "None\n"
          ]
        }
      ],
      "source": [
        "response = await agent_controller.terminate()\n",
        "print(response)"
      ]
    },
    {
      "cell_type": "code",
      "execution_count": null,
      "id": "c843d629",
      "metadata": {},
      "outputs": [],
      "source": []
    }
  ],
  "metadata": {
    "kernelspec": {
      "display_name": "Python 3 (ipykernel)",
      "language": "python",
      "name": "python3"
    },
    "language_info": {
      "codemirror_mode": {
        "name": "ipython",
        "version": 3
      },
      "file_extension": ".py",
      "mimetype": "text/x-python",
      "name": "python",
      "nbconvert_exporter": "python",
      "pygments_lexer": "ipython3",
      "version": "3.10.8"
    }
  },
  "nbformat": 4,
  "nbformat_minor": 5
}
