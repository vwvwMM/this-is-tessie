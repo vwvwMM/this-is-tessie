{
 "cells": [
  {
   "cell_type": "markdown",
   "id": "e2705585",
   "metadata": {},
   "source": [
    "# DM (device manufacturer) connects to music (device) and assign them ownership - DM"
   ]
  },
  {
   "cell_type": "markdown",
   "id": "15394565",
   "metadata": {},
   "source": [
    "## 1. Create Invitation from agent"
   ]
  },
  {
   "cell_type": "code",
   "execution_count": 1,
   "id": "322789cf",
   "metadata": {},
   "outputs": [
    {
     "name": "stdout",
     "output_type": "stream",
     "text": [
      "IPython autoawait is `on`, and set to use `asyncio`\n",
      "Subscribing too: connections\n"
     ]
    }
   ],
   "source": [
    "%autoawait\n",
    "import time\n",
    "import asyncio\n",
    "from aries_basic_controller.aries_controller import AriesAgentController\n",
    "    \n",
    "WEBHOOK_HOST = \"0.0.0.0\"\n",
    "WEBHOOK_PORT = 8022\n",
    "WEBHOOK_BASE = \"\"\n",
    "ADMIN_URL = \"http://alice-agent:8021\"\n",
    "\n",
    "# WARNING: You should use environment variables for this\n",
    "# TODO: Make env variables accessible through juypter notebooks\n",
    "API_KEY = \"alice_api_123456789\"\n",
    "\n",
    "# Based on the aca-py agent you wish to control\n",
    "agent_controller = AriesAgentController(admin_url=ADMIN_URL, api_key=API_KEY)\n",
    "agent_controller.init_webhook_server(webhook_host=WEBHOOK_HOST, \n",
    "                                     webhook_port=WEBHOOK_PORT,\n",
    "                                     webhook_base=WEBHOOK_BASE)\n",
    "\n",
    "loop = asyncio.get_event_loop()\n",
    "loop.create_task(agent_controller.listen_webhooks())\n",
    "\n",
    "def connection_handler(payload):\n",
    "    print(\"Connection Handler Called\")\n",
    "    connection_id = payload[\"connection_id\"]\n",
    "    state = payload[\"state\"]\n",
    "    print(f\"Connection {connection_id} in State {state}\")\n",
    "    \n",
    "connection_listener = {\n",
    "    \"handler\": connection_handler,\n",
    "    \"topic\": \"connections\"\n",
    "}\n",
    "\n",
    "agent_controller.register_listeners([connection_listener], defaults=True)\n"
   ]
  },
  {
   "cell_type": "markdown",
   "id": "eb134925",
   "metadata": {},
   "source": [
    "## 2. Create invitation"
   ]
  },
  {
   "cell_type": "code",
   "execution_count": 2,
   "id": "c0a55d6e",
   "metadata": {},
   "outputs": [
    {
     "name": "stdout",
     "output_type": "stream",
     "text": [
      "Connection Handler Called\n",
      "Connection ff533d6f-5f28-4330-b03e-ef866723b5d6 in State invitation\n",
      "Connection ID ff533d6f-5f28-4330-b03e-ef866723b5d6\n",
      "Invitation\n",
      "{'@type': 'did:sov:BzCbsNYhMrjHiqZDTUASHg;spec/connections/1.0/invitation', '@id': 'ad9330d4-0375-407c-a5a1-82c448df7641', 'label': 'Alice', 'serviceEndpoint': 'http://192.168.65.3:8020', 'recipientKeys': ['E9Tkz2maMyr5FsQyZTxEMVeNYhCk1kHXAvc8cjhVgRzJ']}\n",
      "Connection Handler Called\n",
      "Connection ff533d6f-5f28-4330-b03e-ef866723b5d6 in State request\n"
     ]
    }
   ],
   "source": [
    "# Create Invitation\n",
    "invite = await agent_controller.connections.create_invitation()\n",
    "connection_id = invite[\"connection_id\"]\n",
    "invite_message = invite['invitation']\n",
    "print(\"Connection ID\", connection_id)\n",
    "print(\"Invitation\")\n",
    "print(invite_message)"
   ]
  },
  {
   "cell_type": "markdown",
   "id": "e00f2a5e",
   "metadata": {},
   "source": [
    "## 4. Accept Request - Recipient first!!!!!"
   ]
  },
  {
   "cell_type": "code",
   "execution_count": 3,
   "id": "aec2e0ae",
   "metadata": {},
   "outputs": [
    {
     "name": "stdout",
     "output_type": "stream",
     "text": [
      "Connection Handler Called\n",
      "Connection ff533d6f-5f28-4330-b03e-ef866723b5d6 in State response\n",
      "ACCEPT REQUEST\n",
      "{'accept': 'manual', 'updated_at': '2023-01-02 18:51:20.072492Z', 'invitation_key': 'E9Tkz2maMyr5FsQyZTxEMVeNYhCk1kHXAvc8cjhVgRzJ', 'connection_id': 'ff533d6f-5f28-4330-b03e-ef866723b5d6', 'their_did': 'KmhihRYddnwfZ6tk1rgrjZ', 'routing_state': 'none', 'created_at': '2023-01-02 18:49:55.580890Z', 'their_role': 'invitee', 'rfc23_state': 'response-sent', 'state': 'response', 'my_did': 'YLWcyHUvY7xj5yb3nb7MCz', 'their_label': 'Bob', 'invitation_mode': 'once'}\n",
      "state response\n"
     ]
    }
   ],
   "source": [
    "# Accept Request for Invite created\n",
    "connection = await agent_controller.connections.accept_request(connection_id)\n",
    "print(\"ACCEPT REQUEST\")\n",
    "print(connection)\n",
    "print(\"state\", connection[\"state\"])"
   ]
  },
  {
   "cell_type": "code",
   "execution_count": 4,
   "id": "64765a3f",
   "metadata": {},
   "outputs": [
    {
     "name": "stdout",
     "output_type": "stream",
     "text": [
      "Trust Ping {'thread_id': 'd6cf7911-e3cc-4709-b833-04fbccec6703'}\n",
      "{'accept': 'manual', 'updated_at': '2023-01-02 18:51:20.072492Z', 'invitation_key': 'E9Tkz2maMyr5FsQyZTxEMVeNYhCk1kHXAvc8cjhVgRzJ', 'connection_id': 'ff533d6f-5f28-4330-b03e-ef866723b5d6', 'their_did': 'KmhihRYddnwfZ6tk1rgrjZ', 'routing_state': 'none', 'created_at': '2023-01-02 18:49:55.580890Z', 'their_role': 'invitee', 'rfc23_state': 'response-sent', 'state': 'response', 'my_did': 'YLWcyHUvY7xj5yb3nb7MCz', 'their_label': 'Bob', 'invitation_mode': 'once'}\n",
      "Is Active? response\n",
      "Connection Handler Called\n",
      "Connection ff533d6f-5f28-4330-b03e-ef866723b5d6 in State active\n"
     ]
    }
   ],
   "source": [
    "trust_ping = await agent_controller.messaging.trust_ping(connection_id, \"hello\")\n",
    "print(\"Trust Ping\", trust_ping)\n",
    "\n",
    "connection = await agent_controller.connections.get_connection(connection_id)\n",
    "print(connection)\n",
    "print(\"Is Active?\", connection[\"state\"])\n",
    "connection_id = connection[\"connection_id\"]"
   ]
  },
  {
   "cell_type": "markdown",
   "id": "a8c08514",
   "metadata": {},
   "source": [
    "# Give MUSIC the VC of ownership and origin - DM"
   ]
  },
  {
   "cell_type": "markdown",
   "id": "10e88173",
   "metadata": {},
   "source": [
    "## 1. Write Ownership schema"
   ]
  },
  {
   "cell_type": "code",
   "execution_count": 5,
   "id": "d6ce2f2b",
   "metadata": {},
   "outputs": [
    {
     "name": "stdout",
     "output_type": "stream",
     "text": [
      "PQRXDxdGqQGSZ8z69p4xZP:2:music_schema:0.0.1\n",
      "PQRXDxdGqQGSZ8z69p4xZP:3:CL:13:default\n"
     ]
    }
   ],
   "source": [
    "# Define you schema name - must be unique on the ledger\n",
    "schema_name = \"music_schema\"\n",
    "# Can version the schema if you wish to update it\n",
    "schema_version = \"0.0.1\"\n",
    "# Define any list of attributes you wish to include in your schema\n",
    "attributes = [\"origin\", \"name\", \"time\", \"version\", \"author\", \"owner\"]\n",
    "\n",
    "# Write schema to ledger\n",
    "response = await agent_controller.schema.write_schema(schema_name, attributes, schema_version)\n",
    "schema_id = response[\"schema_id\"]\n",
    "print(schema_id)\n",
    "\n",
    "# Write cred. def.\n",
    "response = await agent_controller.definitions.write_cred_def(schema_id)\n",
    "cred_def_id = response[\"credential_definition_id\"]\n",
    "print(cred_def_id)\n",
    "\n",
    "\n",
    "# # Update schema\n",
    "# attributes = [\"author\", \"name\", \"time\", \"is_original\", \"type\"]\n",
    "# schema_version = \"0.0.2\"\n",
    "# response = await agent_controller.schema.write_schema(schema_name, attributes, schema_version)\n",
    "# updated_schema_id = response[\"schema_id\"]\n",
    "# print(updated_schema_id)\n",
    "\n",
    "# # Write another Credential Definition for the Updated Schema\n",
    "# response = await agent_controller.definitions.write_cred_def(updated_schema_id, support_revocation=True)\n",
    "# updated_cred_def_id = response[\"credential_definition_id\"]\n",
    "# print(updated_cred_def_id)"
   ]
  },
  {
   "cell_type": "markdown",
   "id": "7e7d91ec",
   "metadata": {},
   "source": [
    "## 2. Write VC"
   ]
  },
  {
   "cell_type": "code",
   "execution_count": 6,
   "id": "39974204",
   "metadata": {},
   "outputs": [
    {
     "name": "stdout",
     "output_type": "stream",
     "text": [
      "PQRXDxdGqQGSZ8z69p4xZP\n",
      "{'schema_ids': ['PQRXDxdGqQGSZ8z69p4xZP:2:music_schema:0.0.1']}\n"
     ]
    }
   ],
   "source": [
    "nym = await agent_controller.wallet.get_public_did()\n",
    "print(nym[\"result\"][\"did\"])\n",
    "created_schema = await agent_controller.schema.get_created_schema(schema_issuer_did='PQRXDxdGqQGSZ8z69p4xZP')\n",
    "print(created_schema)\n",
    "schema_id = created_schema[\"schema_ids\"][-1]"
   ]
  },
  {
   "cell_type": "code",
   "execution_count": 7,
   "id": "c4479120",
   "metadata": {},
   "outputs": [
    {
     "name": "stdout",
     "output_type": "stream",
     "text": [
      "['PQRXDxdGqQGSZ8z69p4xZP:3:CL:13:default']\n"
     ]
    }
   ],
   "source": [
    "definitions = await agent_controller.definitions.search_created(schema_id=schema_id)\n",
    "print(definitions[\"credential_definition_ids\"])\n",
    "cred_def_id = definitions[\"credential_definition_ids\"][-1]"
   ]
  },
  {
   "cell_type": "code",
   "execution_count": 8,
   "id": "31e90319",
   "metadata": {},
   "outputs": [
    {
     "name": "stdout",
     "output_type": "stream",
     "text": [
      "1\n",
      "Connection : {'accept': 'manual', 'updated_at': '2023-01-02 18:51:21.961625Z', 'invitation_key': 'E9Tkz2maMyr5FsQyZTxEMVeNYhCk1kHXAvc8cjhVgRzJ', 'connection_id': 'ff533d6f-5f28-4330-b03e-ef866723b5d6', 'their_did': 'KmhihRYddnwfZ6tk1rgrjZ', 'routing_state': 'none', 'created_at': '2023-01-02 18:49:55.580890Z', 'their_role': 'invitee', 'rfc23_state': 'completed', 'state': 'active', 'my_did': 'YLWcyHUvY7xj5yb3nb7MCz', 'their_label': 'Bob', 'invitation_mode': 'once'}\n",
      "Active Connection ID :  ff533d6f-5f28-4330-b03e-ef866723b5d6\n"
     ]
    }
   ],
   "source": [
    "response = await agent_controller.connections.get_connections()\n",
    "results = response['results']\n",
    "print(len(results))\n",
    "# print(\"Results : \", results)\n",
    "if len(results) > 0:\n",
    "    connection = response['results']\n",
    "    for con in connection:\n",
    "        print(\"Connection :\", con)\n",
    "        if con['state'] == 'active':       \n",
    "            connection_id = con[\"connection_id\"]\n",
    "            print(\"Active Connection ID : \", connection_id)\n",
    "        else: print(\"Inactive Connection ID: \", con[\"connection_id\"], \"with state: \", con[\"state\"])\n",
    "else:\n",
    "    print(\"You must create a connection\")"
   ]
  },
  {
   "cell_type": "code",
   "execution_count": 9,
   "id": "5e3cf380",
   "metadata": {},
   "outputs": [
    {
     "name": "stdout",
     "output_type": "stream",
     "text": [
      "[{'name': 'author', 'value': 'PQRXDxdGqQGSZ8z69p4xZP'}, {'name': 'name', 'value': 'balabababa'}, {'name': 'time', 'value': '01-02-2023, 18:54:19'}, {'name': 'original_author', 'value': 'PQRXDxdGqQGSZ8z69p4xZP'}]\n",
      "Credential exchange 6b9b4548-8d8a-4fb4-bfd9-fe5f5346b1ed, role: issuer, state: offer_sent\n"
     ]
    }
   ],
   "source": [
    "import datetime\n",
    "time = datetime.datetime.now().strftime(\"%m-%d-%Y, %H:%M:%S\")\n",
    "credential_attributes = [\n",
    "    {\"name\": \"author\", \"value\": nym[\"result\"][\"did\"]},\n",
    "    {\"name\": \"name\", \"value\": \"balabababa music\"},\n",
    "    {\"name\": \"time\", \"value\": time},\n",
    "    {\"name\": \"origin\", \"value\": nym[\"result\"][\"did\"]},\n",
    "    {\"name\": \"owner\", \"value\": nym[\"result\"][\"did\"]},\n",
    "    {\"name\": \"version\", \"value\": \"v1\"}\n",
    "]\n",
    "print(credential_attributes)\n",
    "\n",
    "\n",
    "# send credential\n",
    "record = await agent_controller.issuer.send_credential(connection_id, schema_id, cred_def_id, credential_attributes, auto_remove=False, trace=True)\n",
    "record_id = record['credential_exchange_id']\n",
    "state = record['state']\n",
    "role = record['role']\n",
    "print(f\"Credential exchange {record_id}, role: {role}, state: {state}\")"
   ]
  },
  {
   "cell_type": "markdown",
   "id": "11970159",
   "metadata": {},
   "source": [
    "## 4. Wait for credential exchange"
   ]
  },
  {
   "cell_type": "code",
   "execution_count": null,
   "id": "6c454ee4",
   "metadata": {},
   "outputs": [],
   "source": [
    "response = await agent_controller.issuer.get_records()\n",
    "print(response['results'])\n",
    "cred_record = await agent_controller.issuer.get_record_by_id(record_id)\n",
    "state = cred_record['state']\n",
    "role = cred_record['role']\n",
    "print(f\"Credential exchange {record_id}, role: {role}, state: {state}\")"
   ]
  },
  {
   "cell_type": "code",
   "execution_count": 11,
   "id": "fe71558b",
   "metadata": {},
   "outputs": [
    {
     "name": "stdout",
     "output_type": "stream",
     "text": [
      "{}\n"
     ]
    }
   ],
   "source": [
    "## Remove records\n",
    "response = await agent_controller.issuer.remove_record(record_id)\n",
    "print(response)"
   ]
  },
  {
   "cell_type": "code",
   "execution_count": 54,
   "id": "2dca8602",
   "metadata": {},
   "outputs": [
    {
     "name": "stdout",
     "output_type": "stream",
     "text": [
      "None\n"
     ]
    }
   ],
   "source": [
    "response = await agent_controller.terminate()\n",
    "print(response)"
   ]
  },
  {
   "cell_type": "code",
   "execution_count": null,
   "id": "982c3f1c",
   "metadata": {},
   "outputs": [],
   "source": []
  }
 ],
 "metadata": {
  "kernelspec": {
   "display_name": "Python 3 (ipykernel)",
   "language": "python",
   "name": "python3"
  },
  "language_info": {
   "codemirror_mode": {
    "name": "ipython",
    "version": 3
   },
   "file_extension": ".py",
   "mimetype": "text/x-python",
   "name": "python",
   "nbconvert_exporter": "python",
   "pygments_lexer": "ipython3",
   "version": "3.10.8"
  }
 },
 "nbformat": 4,
 "nbformat_minor": 5
}
