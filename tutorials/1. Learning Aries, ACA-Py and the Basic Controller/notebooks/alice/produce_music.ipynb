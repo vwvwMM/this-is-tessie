{
 "cells": [
  {
   "cell_type": "markdown",
   "id": "4fc2af1a",
   "metadata": {},
   "source": [
    "# DM (device manufacturer) connects to music (device) and assign them ownership - DM"
   ]
  },
  {
   "cell_type": "markdown",
   "id": "3adb9d5a",
   "metadata": {},
   "source": [
    "## 1. Create Invitation from agent"
   ]
  },
  {
   "cell_type": "code",
   "execution_count": 1,
   "id": "90fe6888",
   "metadata": {},
   "outputs": [
    {
     "name": "stdout",
     "output_type": "stream",
     "text": [
      "IPython autoawait is `on`, and set to use `asyncio`\n",
      "Subscribing too: connections\n"
     ]
    }
   ],
   "source": [
    "%autoawait\n",
    "import time\n",
    "import asyncio\n",
    "from aries_basic_controller.aries_controller import AriesAgentController\n",
    "    \n",
    "WEBHOOK_HOST = \"0.0.0.0\"\n",
    "WEBHOOK_PORT = 8022\n",
    "WEBHOOK_BASE = \"\"\n",
    "ADMIN_URL = \"http://alice-agent:8021\"\n",
    "\n",
    "# WARNING: You should use environment variables for this\n",
    "# TODO: Make env variables accessible through juypter notebooks\n",
    "API_KEY = \"alice_api_123456789\"\n",
    "\n",
    "# Based on the aca-py agent you wish to control\n",
    "agent_controller = AriesAgentController(admin_url=ADMIN_URL, api_key=API_KEY)\n",
    "agent_controller.init_webhook_server(webhook_host=WEBHOOK_HOST, \n",
    "                                     webhook_port=WEBHOOK_PORT,\n",
    "                                     webhook_base=WEBHOOK_BASE)\n",
    "\n",
    "loop = asyncio.get_event_loop()\n",
    "loop.create_task(agent_controller.listen_webhooks())\n",
    "\n",
    "def connection_handler(payload):\n",
    "    print(\"Connection Handler Called\")\n",
    "    connection_id = payload[\"connection_id\"]\n",
    "    state = payload[\"state\"]\n",
    "    print(f\"Connection {connection_id} in State {state}\")\n",
    "    \n",
    "connection_listener = {\n",
    "    \"handler\": connection_handler,\n",
    "    \"topic\": \"connections\"\n",
    "}\n",
    "\n",
    "agent_controller.register_listeners([connection_listener], defaults=True)\n"
   ]
  },
  {
   "cell_type": "markdown",
   "id": "af4d3ee6",
   "metadata": {},
   "source": [
    "## 2. Create invitation"
   ]
  },
  {
   "cell_type": "code",
   "execution_count": 2,
   "id": "20d774aa",
   "metadata": {},
   "outputs": [
    {
     "name": "stdout",
     "output_type": "stream",
     "text": [
      "Connection Handler Called\n",
      "Connection 031f3c7c-1b71-49b8-aded-1fd8bea8f3d8 in State invitation\n",
      "Connection ID 031f3c7c-1b71-49b8-aded-1fd8bea8f3d8\n",
      "Invitation\n",
      "{'@type': 'did:sov:BzCbsNYhMrjHiqZDTUASHg;spec/connections/1.0/invitation', '@id': '288f4adf-6895-4104-8808-2bbed5ccd8ba', 'label': 'Alice', 'recipientKeys': ['8fzHn56Ws5XGrbnFgFC7cvNxAJaQ5H6twaRWGA8TKphM'], 'serviceEndpoint': 'http://192.168.65.3:8020'}\n",
      "Connection Handler Called\n",
      "Connection 031f3c7c-1b71-49b8-aded-1fd8bea8f3d8 in State request\n"
     ]
    }
   ],
   "source": [
    "# Create Invitation\n",
    "invite = await agent_controller.connections.create_invitation()\n",
    "connection_id = invite[\"connection_id\"]\n",
    "invite_message = invite['invitation']\n",
    "print(\"Connection ID\", connection_id)\n",
    "print(\"Invitation\")\n",
    "print(invite_message)"
   ]
  },
  {
   "cell_type": "markdown",
   "id": "a107a974",
   "metadata": {},
   "source": [
    "## 4. Accept Request - Recipient first!!!!!"
   ]
  },
  {
   "cell_type": "code",
   "execution_count": 3,
   "id": "435976b7",
   "metadata": {},
   "outputs": [
    {
     "name": "stdout",
     "output_type": "stream",
     "text": [
      "Connection Handler Called\n",
      "Connection 031f3c7c-1b71-49b8-aded-1fd8bea8f3d8 in State response\n",
      "ACCEPT REQUEST\n",
      "{'routing_state': 'none', 'connection_id': '031f3c7c-1b71-49b8-aded-1fd8bea8f3d8', 'state': 'response', 'their_role': 'invitee', 'invitation_key': '8fzHn56Ws5XGrbnFgFC7cvNxAJaQ5H6twaRWGA8TKphM', 'my_did': 'QRT3h2UtVYUFwkjVEJjK5U', 'their_label': 'Bob', 'rfc23_state': 'response-sent', 'their_did': 'VjHmiqvFUDKtfjzadgFhjk', 'invitation_mode': 'once', 'accept': 'manual', 'created_at': '2023-01-03 09:28:01.122823Z', 'updated_at': '2023-01-03 09:29:11.912500Z'}\n",
      "state response\n"
     ]
    }
   ],
   "source": [
    "# Accept Request for Invite created\n",
    "connection = await agent_controller.connections.accept_request(connection_id)\n",
    "print(\"ACCEPT REQUEST\")\n",
    "print(connection)\n",
    "print(\"state\", connection[\"state\"])"
   ]
  },
  {
   "cell_type": "code",
   "execution_count": 4,
   "id": "1b3e833f",
   "metadata": {},
   "outputs": [
    {
     "name": "stdout",
     "output_type": "stream",
     "text": [
      "Trust Ping {'thread_id': 'b1d47850-f2c9-4137-a29a-ef87a346ac3f'}\n",
      "{'routing_state': 'none', 'connection_id': '031f3c7c-1b71-49b8-aded-1fd8bea8f3d8', 'state': 'response', 'their_role': 'invitee', 'invitation_key': '8fzHn56Ws5XGrbnFgFC7cvNxAJaQ5H6twaRWGA8TKphM', 'my_did': 'QRT3h2UtVYUFwkjVEJjK5U', 'their_label': 'Bob', 'rfc23_state': 'response-sent', 'their_did': 'VjHmiqvFUDKtfjzadgFhjk', 'invitation_mode': 'once', 'accept': 'manual', 'created_at': '2023-01-03 09:28:01.122823Z', 'updated_at': '2023-01-03 09:29:11.912500Z'}\n",
      "Is Active? response\n",
      "Connection Handler Called\n",
      "Connection 031f3c7c-1b71-49b8-aded-1fd8bea8f3d8 in State active\n"
     ]
    }
   ],
   "source": [
    "trust_ping = await agent_controller.messaging.trust_ping(connection_id, \"hello\")\n",
    "print(\"Trust Ping\", trust_ping)\n",
    "\n",
    "connection = await agent_controller.connections.get_connection(connection_id)\n",
    "print(connection)\n",
    "print(\"Is Active?\", connection[\"state\"])\n",
    "connection_id = connection[\"connection_id\"]"
   ]
  },
  {
   "cell_type": "markdown",
   "id": "e8c25953",
   "metadata": {},
   "source": [
    "# Give MUSIC the VC of ownership and origin - DM"
   ]
  },
  {
   "cell_type": "markdown",
   "id": "6218883b",
   "metadata": {},
   "source": [
    "## 1. Write Ownership schema"
   ]
  },
  {
   "cell_type": "code",
   "execution_count": 5,
   "id": "54a59aed",
   "metadata": {},
   "outputs": [
    {
     "name": "stdout",
     "output_type": "stream",
     "text": [
      "PQRXDxdGqQGSZ8z69p4xZP:2:music_schema:0.0.1\n",
      "PQRXDxdGqQGSZ8z69p4xZP:3:CL:12:default\n"
     ]
    }
   ],
   "source": [
    "# Define you schema name - must be unique on the ledger\n",
    "schema_name = \"music_schema\"\n",
    "# Can version the schema if you wish to update it\n",
    "schema_version = \"0.0.1\"\n",
    "# Define any list of attributes you wish to include in your schema\n",
    "attributes = [\"origin\", \"name\", \"time\", \"version\", \"author\", \"owner\"]\n",
    "\n",
    "# Write schema to ledger\n",
    "response = await agent_controller.schema.write_schema(schema_name, attributes, schema_version)\n",
    "schema_id = response[\"schema_id\"]\n",
    "print(schema_id)\n",
    "\n",
    "# Write cred. def.\n",
    "response = await agent_controller.definitions.write_cred_def(schema_id)\n",
    "cred_def_id = response[\"credential_definition_id\"]\n",
    "print(cred_def_id)\n",
    "\n",
    "\n",
    "# # Update schema\n",
    "# attributes = [\"author\", \"name\", \"time\", \"is_original\", \"type\"]\n",
    "# schema_version = \"0.0.2\"\n",
    "# response = await agent_controller.schema.write_schema(schema_name, attributes, schema_version)\n",
    "# updated_schema_id = response[\"schema_id\"]\n",
    "# print(updated_schema_id)\n",
    "\n",
    "# # Write another Credential Definition for the Updated Schema\n",
    "# response = await agent_controller.definitions.write_cred_def(updated_schema_id, support_revocation=True)\n",
    "# updated_cred_def_id = response[\"credential_definition_id\"]\n",
    "# print(updated_cred_def_id)"
   ]
  },
  {
   "cell_type": "markdown",
   "id": "bf558f63",
   "metadata": {},
   "source": [
    "## 2. Write VC"
   ]
  },
  {
   "cell_type": "code",
   "execution_count": 6,
   "id": "8cf6655b",
   "metadata": {},
   "outputs": [
    {
     "name": "stdout",
     "output_type": "stream",
     "text": [
      "PQRXDxdGqQGSZ8z69p4xZP\n",
      "{'schema_ids': ['PQRXDxdGqQGSZ8z69p4xZP:2:music_schema:0.0.1']}\n"
     ]
    }
   ],
   "source": [
    "nym = await agent_controller.wallet.get_public_did()\n",
    "print(nym[\"result\"][\"did\"])\n",
    "created_schema = await agent_controller.schema.get_created_schema(schema_issuer_did='PQRXDxdGqQGSZ8z69p4xZP')\n",
    "print(created_schema)\n",
    "schema_id = created_schema[\"schema_ids\"][-1]"
   ]
  },
  {
   "cell_type": "code",
   "execution_count": 7,
   "id": "b434bc48",
   "metadata": {},
   "outputs": [
    {
     "name": "stdout",
     "output_type": "stream",
     "text": [
      "['PQRXDxdGqQGSZ8z69p4xZP:3:CL:12:default']\n"
     ]
    }
   ],
   "source": [
    "definitions = await agent_controller.definitions.search_created(schema_id=schema_id)\n",
    "print(definitions[\"credential_definition_ids\"])\n",
    "cred_def_id = definitions[\"credential_definition_ids\"][-1]"
   ]
  },
  {
   "cell_type": "code",
   "execution_count": 8,
   "id": "180d0f74",
   "metadata": {},
   "outputs": [
    {
     "name": "stdout",
     "output_type": "stream",
     "text": [
      "1\n",
      "Connection : {'routing_state': 'none', 'connection_id': '031f3c7c-1b71-49b8-aded-1fd8bea8f3d8', 'state': 'active', 'their_role': 'invitee', 'invitation_key': '8fzHn56Ws5XGrbnFgFC7cvNxAJaQ5H6twaRWGA8TKphM', 'my_did': 'QRT3h2UtVYUFwkjVEJjK5U', 'their_label': 'Bob', 'rfc23_state': 'completed', 'their_did': 'VjHmiqvFUDKtfjzadgFhjk', 'invitation_mode': 'once', 'accept': 'manual', 'created_at': '2023-01-03 09:28:01.122823Z', 'updated_at': '2023-01-03 09:29:15.132956Z'}\n",
      "Active Connection ID :  031f3c7c-1b71-49b8-aded-1fd8bea8f3d8\n"
     ]
    }
   ],
   "source": [
    "response = await agent_controller.connections.get_connections()\n",
    "results = response['results']\n",
    "print(len(results))\n",
    "# print(\"Results : \", results)\n",
    "if len(results) > 0:\n",
    "    connection = response['results']\n",
    "    for con in connection:\n",
    "        print(\"Connection :\", con)\n",
    "        if con['state'] == 'active':       \n",
    "            connection_id = con[\"connection_id\"]\n",
    "            print(\"Active Connection ID : \", connection_id)\n",
    "        else: print(\"Inactive Connection ID: \", con[\"connection_id\"], \"with state: \", con[\"state\"])\n",
    "else:\n",
    "    print(\"You must create a connection\")"
   ]
  },
  {
   "cell_type": "code",
   "execution_count": 9,
   "id": "e32d0f4a",
   "metadata": {},
   "outputs": [
    {
     "name": "stdout",
     "output_type": "stream",
     "text": [
      "[{'name': 'author', 'value': 'PQRXDxdGqQGSZ8z69p4xZP'}, {'name': 'name', 'value': 'balabababa music'}, {'name': 'time', 'value': '01-03-2023, 09:31:44'}, {'name': 'origin', 'value': 'PQRXDxdGqQGSZ8z69p4xZP'}, {'name': 'owner', 'value': 'PQRXDxdGqQGSZ8z69p4xZP'}, {'name': 'version', 'value': 'v1'}]\n",
      "Credential exchange a30a96db-cc26-44c5-a847-e52d24ba1780, role: issuer, state: offer_sent\n"
     ]
    }
   ],
   "source": [
    "import datetime\n",
    "time = datetime.datetime.now().strftime(\"%m-%d-%Y, %H:%M:%S\")\n",
    "credential_attributes = [\n",
    "    {\"name\": \"author\", \"value\": nym[\"result\"][\"did\"]},\n",
    "    {\"name\": \"name\", \"value\": \"balabababa music\"},\n",
    "    {\"name\": \"time\", \"value\": time},\n",
    "    {\"name\": \"origin\", \"value\": nym[\"result\"][\"did\"]},\n",
    "    {\"name\": \"owner\", \"value\": nym[\"result\"][\"did\"]},\n",
    "    {\"name\": \"version\", \"value\": \"v1\"}\n",
    "]\n",
    "print(credential_attributes)\n",
    "\n",
    "\n",
    "# send credential\n",
    "record = await agent_controller.issuer.send_credential(connection_id, schema_id, cred_def_id, credential_attributes, auto_remove=False, trace=True)\n",
    "record_id = record['credential_exchange_id']\n",
    "state = record['state']\n",
    "role = record['role']\n",
    "print(f\"Credential exchange {record_id}, role: {role}, state: {state}\")"
   ]
  },
  {
   "cell_type": "markdown",
   "id": "56f91b7b",
   "metadata": {},
   "source": [
    "## 4. Wait for credential exchange"
   ]
  },
  {
   "cell_type": "code",
   "execution_count": 10,
   "id": "6b775e6d",
   "metadata": {},
   "outputs": [
    {
     "name": "stdout",
     "output_type": "stream",
     "text": [
      "[{'credential_offer_dict': {'@type': 'did:sov:BzCbsNYhMrjHiqZDTUASHg;spec/issue-credential/1.0/offer-credential', '@id': '9c87fce3-a799-41f9-a3e7-4e1b5d1b01ec', '~thread': {}, '~trace': {'target': 'log', 'full_thread': True, 'trace_reports': []}, 'comment': 'create automated credential exchange', 'offers~attach': [{'@id': 'libindy-cred-offer-0', 'mime-type': 'application/json', 'data': {'base64': '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'}}], 'credential_preview': {'@type': 'did:sov:BzCbsNYhMrjHiqZDTUASHg;spec/issue-credential/1.0/credential-preview', 'attributes': [{'name': 'author', 'value': 'PQRXDxdGqQGSZ8z69p4xZP'}, {'name': 'name', 'value': 'balabababa music'}, {'name': 'time', 'value': '01-03-2023, 09:31:44'}, {'name': 'origin', 'value': 'PQRXDxdGqQGSZ8z69p4xZP'}, {'name': 'owner', 'value': 'PQRXDxdGqQGSZ8z69p4xZP'}, {'name': 'version', 'value': 'v1'}]}}, 'credential_exchange_id': 'a30a96db-cc26-44c5-a847-e52d24ba1780', 'credential': {'schema_id': 'PQRXDxdGqQGSZ8z69p4xZP:2:music_schema:0.0.1', 'cred_def_id': 'PQRXDxdGqQGSZ8z69p4xZP:3:CL:12:default', 'rev_reg_id': None, 'values': {'version': {'raw': 'v1', 'encoded': '27131969825814800887461230010484753141979851386045457649691352597878165178622'}, 'time': {'raw': '01-03-2023, 09:31:44', 'encoded': '75476434297632474471207801600301378218551076441854970499300802414807135889988'}, 'author': {'raw': 'PQRXDxdGqQGSZ8z69p4xZP', 'encoded': '43137799088118443800136745895388480458686925529355594539512585697577946794869'}, 'name': {'raw': 'balabababa music', 'encoded': '78349233637792322947684343969666349239482962495698159244268994899549966660302'}, 'owner': {'raw': 'PQRXDxdGqQGSZ8z69p4xZP', 'encoded': '43137799088118443800136745895388480458686925529355594539512585697577946794869'}, 'origin': {'raw': 'PQRXDxdGqQGSZ8z69p4xZP', 'encoded': '43137799088118443800136745895388480458686925529355594539512585697577946794869'}}, 'signature': {'p_credential': {'m_2': '63889955250864974222058608620481941150211578924550370423689580891231012217958', 'a': '14143463488106781996136231387553598428627961785368852116919290793348885180176696618627245640525165791673851744085137186695914685766651791913478541233563490630352242990845184376058580935560830145750995870176929440997023444532940948578839241489862963482078356004070064014277843516948387978276155536220082408110246264755706557709232043078324868920373461516059221429370561365520852044631546189014278436567541881118556718254983548153946847700374987013952348354422739414086485735847780447516446930225666523709954169775522878735725624968062537397490249882353837428600397041800524194874239960967334870046769053560292427729120', 'e': '259344723055062059907025491480697571938277889515152306249728583105665800713306759149981690559193987143012367913206299323899696942213235956742929733159139076016706638070560195534631', 'v': '7782546717710819753629953323230951189805285028103959419898992071939805427533353051329395896442381878669757866743406504301275479261254787856381674166859993516020930211645873312249916705641257563738160677914697922033785774906972630297317636922652602395839212347061017034253722293931053493927573662443281187280418796930670416115270943631453902393410773586746107825455736056087087508479911252916780381000871996054130632535992368517831103635550089605031381961598850579834935955200304997583705263907428465791335121588922820762894268324979269374192737601682983213919339232915920026932323717437180326473780701200347953077174819583957975215255341717779756479959309344341903770454686886865441952373312046325608397124435326055141460147315930474943791783656176681829650900741572746943856470205289341690337878090337846412415604076365'}, 'r_credential': None}, 'signature_correctness_proof': {'se': '20503881071818233532279981361397545884475127251241517878252405288435665571806621182693516850114265037215980716933778284687550234175221059431849459402693381463163547628503101916277668564682738696553190268206083567514539513157399801120715925163008428313243475309934406127175339324020236945771798752737975458509770354392150022351281408352680751579925972513196052291312139794120316991240260991254803466545686022957484032622416407330147154765034814989664928465128912247807695258056801010917323887552609416483721080266737139834079802768085140644387252681326624272383662305350101308548485730849836947936930511111596139379173', 'c': '78547992041382960500788715857499104497487274398914042968398054364774281980116'}, 'rev_reg': None, 'witness': None}, 'initiator': 'self', 'trace': True, 'credential_request': {'prover_did': 'VjHmiqvFUDKtfjzadgFhjk', 'cred_def_id': 'PQRXDxdGqQGSZ8z69p4xZP:3:CL:12:default', 'blinded_ms': {'u': '7323935153019899124909944750406545972538316964850561845597928078125978567602769374844451236777070570044242402065195692885037694713244345848169616485634891712963441932960468933251946156293209873331220116207173153625306219262436694981913783579341070513061263450108921216667965783400267572305341897219005552333371160945404705429880829615493257571210788386904437819999575826095625182573481391499725970240336966906632516554621362075488201451865114954357926067025120944602516664074479104088396242893538760855019657157759762541232046257405185088767886745743290061199949146189175363687418133848050764447003063641218366561290', 'ur': None, 'hidden_attributes': ['master_secret'], 'committed_attributes': {}}, 'blinded_ms_correctness_proof': {'c': '39603453087865142110769629138546991119734396096367988051754854289918139549098', 'v_dash_cap': '557445285701671675917502936942550331810330594749260246937062386201247994007039659011654796471816672665419800951256398437354797249367601625192076745995780250006138014891256461379282578572739958992592173581582577632642548767248130639374351602791731115660689494895533171838658411688740915568430640012238789912661819395939281993361320545738697597279660213202787645110270430694860578808155169546103399310783153594324364567497926240933678780249695335084707878598110251394203084121555103001299981002594292781666546715174826585518289703418727098309294376654596654453005191012544521564834136243555935409607730813539237947986815395729964557498961070021115451724799688117804366413834750857866283579261174551866046896099704743125', 'm_caps': {'master_secret': '28153994188786860579935313458524927037934659167925259311749535449721687341847301559898715211491547503275004261129790397891606840437366902482826286355447304807157694118780741646656'}, 'r_caps': {}}, 'nonce': '348817190252060783681933'}, 'created_at': '2023-01-03 09:31:44.260410Z', 'connection_id': '031f3c7c-1b71-49b8-aded-1fd8bea8f3d8', 'auto_issue': True, 'credential_offer': {'schema_id': 'PQRXDxdGqQGSZ8z69p4xZP:2:music_schema:0.0.1', 'cred_def_id': 'PQRXDxdGqQGSZ8z69p4xZP:3:CL:12:default', 'key_correctness_proof': {'c': '61838160718982863464426156128683902019102222787005639755745640221293704236948', 'xz_cap': '739287641253192480872426499164218554468243047927351062633563433892632625714425789923860167752754380031200469477055833688833850719397399184798386985138417309860268942296779961065751944034657909224959768796742615708433070651924546248798277860415396253439340820307295784038915253069146440924861108629208044817985144708937165301383765568061599400869345581054227025349352096950879820259557914733848074875988803961132596832736682382236428032969966487907436811913526796514032655399932921630218225383105639157420796594507977739328041243822795745300317760586997099529824038034031170965336871077374721038409424222945758627397061057310148802540882070325962366661425054964143817380687738880227122679135896', 'xr_cap': [['origin', '1428033647053965941641969952166279966618327416122850017480612187311178269145620412249937673236531485916984419397191382303078358942317401683628809090551590736041242278242187120717708448574809190812721791732846141209520594470776213101428296276693562583458008792941527818046261568258388020941696021109987397496344336146174091491584164839143535315157527468984569529509197498019135471348924211839089551462242126069707180027408454577968405987547392361424876229912466871745745577702859386652831049523230704781645428312000016718622750969356559578295765276365993545793891396608525403719976907737932314082395313587666893321146111900801051716453362314588077601073618217599617735670399633333533178056379368'], ['time', '102974514427182472715373785551315586288977569900462980256445090493148505054045327871945459763310249034890696018094748137207991642036409000366500881328597625295833191071790902194961679186217690064346385251274166949199212674059092500911348161027193265621283529495279767951380018066171036913331816373118357376917871402608063417274157649957240107162568973701362816085910553986496048482258021744801421380306225035611137199974833751821104398032611538630754141618514962229112763799250927397003146991883197850916613507175342239497082593305395810020805785325336415689511601802997685098619071132448487306165658422034324109155422442035435495663057237300011545813301232643663055141393748221945647522702646'], ['owner', '581555270435485423891612204443900895025150368841636828131784044572746276805624375602583813412756976056214318482719733859276778633494846270494558820353186153215928782007300152588185623342536390016362446067282112863782134139123521780379488798683657409947547108021216010860962976225321279294745099368603267148470522484820480670650223020463615307237639148760096791470119750018821980694744184868853795973347796039568741268116136192518730086669486658821217233734371997471976731260214425727359739980650858781129668573010332576088097284499153231053518732911899106382897015728359825361963566078094610442014138536186029756350495059206984012845393898685127418279245711492930090595761031970820900808129459'], ['author', '1241701156259144600821976022110872440302080418127690415835199414345287211991715194265085704076049279217243066112934197354180858439968314818517324397888606832512093441842208431658593264700178639777104539670779349834487646128865102420227795599833741920068242622810572608007159528458497517219117989983870493472429203791075296363465905540683493928748833634635045245707947906144084041963122216452273625185330484803855198802727049800173569787831226977210550470577514756268510511760472680597832249845217317707919398250668075749263816844457489046830348934674942895571553127409827626959601779896618735025797591360847732135172713895665623613321662971989853761985206235731456323991419036718208739386356180'], ['name', '1243298801444993922432843700962677932205322865659082596331848012140765429551158585766600914166418032535704602437091202148165012916404968006130544228775292410535329817656388230633556190345499908408946895767642863462752246781202670241324472883455483331354010452580119459998874537444023701291719856245356991732166763273134163452772241616522440859520790090469473828374886833361121617364322025807919443406541065637330244283044865501795391159004404369631995509523949686511620437631615891688616825020421241873584839743366967808642314744926711037959985044273864923723993526045619081861490451855909115053641840138153498676439267416237080777326794088797843299387958834062746859028557246148904538709896121'], ['version', '1300038037166366734699838780591125523704612338825907483605368996142273811462277627186009489071698899441657762441840649830478613555916866898528559670273892157498559279825587745228518353521717574163499438890740244848838309242300568950990235225810488610260447534380251655685182313995613500406986745681761426856316211354559886156277415029500683161291915577240235733081797659716430597152549693769654007574315710072733841685017260351513873495388697724534554488519503883313778634713918950105999489352179881941956249987524781842945166088787652335706049046804249690066002459154367813261457623799529013791438810151338849793982019870497516600838030798105213753804673184175090422169305529243936417880306618'], ['master_secret', '1361589749109255682906991626721206406058583844948383381112891746801454527121492591631657291102493073109249372364942853394668847747651285279056516759733406144689626136990382432210072199281739877937257240375644288336130485973962777930954002164283370730562563772442526712068342584592555118841631285734786384636123958675823257532371369417779367779268312910440296427844349246048324840765937754387566095881501298487238811626870903719923179473714036271883555306938821118621372326606573740500269738937852553532082075950885724968727642937028979474060801034949175534481565315612472534632114185243414723135097056004857112097906587063070777192696087570363547739767052762966558101312592496900417382807611010']]}, 'nonce': '669649833376621179727281'}, 'role': 'issuer', 'schema_id': 'PQRXDxdGqQGSZ8z69p4xZP:2:music_schema:0.0.1', 'updated_at': '2023-01-03 09:32:02.142018Z', 'auto_remove': False, 'state': 'credential_acked', 'credential_proposal_dict': {'@type': 'did:sov:BzCbsNYhMrjHiqZDTUASHg;spec/issue-credential/1.0/propose-credential', '@id': '76a71feb-1ac5-4230-bddd-25f4b43639a4', '~trace': {'target': 'log', 'full_thread': True, 'trace_reports': []}, 'schema_name': 'music_schema', 'schema_version': '0.0.1', 'cred_def_id': 'PQRXDxdGqQGSZ8z69p4xZP:3:CL:12:default', 'issuer_did': 'PQRXDxdGqQGSZ8z69p4xZP', 'comment': '', 'credential_proposal': {'@type': 'did:sov:BzCbsNYhMrjHiqZDTUASHg;spec/issue-credential/1.0/credential-preview', 'attributes': [{'name': 'author', 'value': 'PQRXDxdGqQGSZ8z69p4xZP'}, {'name': 'name', 'value': 'balabababa music'}, {'name': 'time', 'value': '01-03-2023, 09:31:44'}, {'name': 'origin', 'value': 'PQRXDxdGqQGSZ8z69p4xZP'}, {'name': 'owner', 'value': 'PQRXDxdGqQGSZ8z69p4xZP'}, {'name': 'version', 'value': 'v1'}]}, 'schema_issuer_did': 'PQRXDxdGqQGSZ8z69p4xZP', 'schema_id': 'PQRXDxdGqQGSZ8z69p4xZP:2:music_schema:0.0.1'}, 'credential_definition_id': 'PQRXDxdGqQGSZ8z69p4xZP:3:CL:12:default', 'auto_offer': False, 'thread_id': '9c87fce3-a799-41f9-a3e7-4e1b5d1b01ec'}]\n",
      "Credential exchange a30a96db-cc26-44c5-a847-e52d24ba1780, role: issuer, state: credential_acked\n"
     ]
    }
   ],
   "source": [
    "response = await agent_controller.issuer.get_records()\n",
    "print(response['results'])\n",
    "cred_record = await agent_controller.issuer.get_record_by_id(record_id)\n",
    "state = cred_record['state']\n",
    "role = cred_record['role']\n",
    "print(f\"Credential exchange {record_id}, role: {role}, state: {state}\")"
   ]
  },
  {
   "cell_type": "code",
   "execution_count": 24,
   "id": "0a627904",
   "metadata": {},
   "outputs": [
    {
     "name": "stdout",
     "output_type": "stream",
     "text": [
      "{}\n"
     ]
    }
   ],
   "source": [
    "## Remove records\n",
    "response = await agent_controller.issuer.remove_record(record_id)\n",
    "print(response)"
   ]
  },
  {
   "cell_type": "code",
   "execution_count": 11,
   "id": "cf0f48ac",
   "metadata": {},
   "outputs": [
    {
     "name": "stdout",
     "output_type": "stream",
     "text": [
      "None\n"
     ]
    }
   ],
   "source": [
    "response = await agent_controller.terminate()\n",
    "print(response)"
   ]
  },
  {
   "cell_type": "code",
   "execution_count": null,
   "id": "dd7e4dc1",
   "metadata": {},
   "outputs": [],
   "source": []
  }
 ],
 "metadata": {
  "kernelspec": {
   "display_name": "Python 3 (ipykernel)",
   "language": "python",
   "name": "python3"
  },
  "language_info": {
   "codemirror_mode": {
    "name": "ipython",
    "version": 3
   },
   "file_extension": ".py",
   "mimetype": "text/x-python",
   "name": "python",
   "nbconvert_exporter": "python",
   "pygments_lexer": "ipython3",
   "version": "3.10.8"
  }
 },
 "nbformat": 4,
 "nbformat_minor": 5
}
