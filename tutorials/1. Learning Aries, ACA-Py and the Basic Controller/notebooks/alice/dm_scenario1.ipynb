{
 "cells": [
  {
   "cell_type": "markdown",
   "id": "c49eaeed",
   "metadata": {},
   "source": [
    "# DM (device manufacturer) connects to music (device) and assign them ownership - DM"
   ]
  },
  {
   "cell_type": "markdown",
   "id": "06776f07",
   "metadata": {},
   "source": [
    "## 1. Create Invitation from agent"
   ]
  },
  {
   "cell_type": "code",
   "execution_count": 1,
   "id": "f24fa51b",
   "metadata": {},
   "outputs": [
    {
     "name": "stdout",
     "output_type": "stream",
     "text": [
      "IPython autoawait is `on`, and set to use `asyncio`\n",
      "Subscribing too: connections\n"
     ]
    }
   ],
   "source": [
    "%autoawait\n",
    "import time\n",
    "import asyncio\n",
    "from aries_basic_controller.aries_controller import AriesAgentController\n",
    "    \n",
    "WEBHOOK_HOST = \"0.0.0.0\"\n",
    "WEBHOOK_PORT = 8022\n",
    "WEBHOOK_BASE = \"\"\n",
    "ADMIN_URL = \"http://alice-agent:8021\"\n",
    "\n",
    "# WARNING: You should use environment variables for this\n",
    "# TODO: Make env variables accessible through juypter notebooks\n",
    "API_KEY = \"alice_api_123456789\"\n",
    "\n",
    "# Based on the aca-py agent you wish to control\n",
    "agent_controller = AriesAgentController(admin_url=ADMIN_URL, api_key=API_KEY)\n",
    "agent_controller.init_webhook_server(webhook_host=WEBHOOK_HOST, \n",
    "                                     webhook_port=WEBHOOK_PORT,\n",
    "                                     webhook_base=WEBHOOK_BASE)\n",
    "\n",
    "loop = asyncio.get_event_loop()\n",
    "loop.create_task(agent_controller.listen_webhooks())\n",
    "\n",
    "def connection_handler(payload):\n",
    "    print(\"Connection Handler Called\")\n",
    "    connection_id = payload[\"connection_id\"]\n",
    "    state = payload[\"state\"]\n",
    "    print(f\"Connection {connection_id} in State {state}\")\n",
    "    \n",
    "connection_listener = {\n",
    "    \"handler\": connection_handler,\n",
    "    \"topic\": \"connections\"\n",
    "}\n",
    "\n",
    "agent_controller.register_listeners([connection_listener], defaults=True)\n"
   ]
  },
  {
   "cell_type": "markdown",
   "id": "77cee08f",
   "metadata": {},
   "source": [
    "## 2. Create invitation"
   ]
  },
  {
   "cell_type": "code",
   "execution_count": 2,
   "id": "a96eead9",
   "metadata": {},
   "outputs": [
    {
     "name": "stdout",
     "output_type": "stream",
     "text": [
      "Connection Handler Called\n",
      "Connection d6479df1-9ef0-493c-8dd9-bfbf6a33635a in State invitation\n",
      "Connection ID d6479df1-9ef0-493c-8dd9-bfbf6a33635a\n",
      "Invitation\n",
      "{'@type': 'did:sov:BzCbsNYhMrjHiqZDTUASHg;spec/connections/1.0/invitation', '@id': 'c51c7589-4363-4cb2-abc2-2e0cbeddbfba', 'label': 'Alice', 'recipientKeys': ['HSwsn6VAroBPox1xGmaLEchXW9Xybwb5VAWX74XfQTJb'], 'serviceEndpoint': 'http://192.168.65.3:8020'}\n",
      "Connection Handler Called\n",
      "Connection d6479df1-9ef0-493c-8dd9-bfbf6a33635a in State request\n"
     ]
    }
   ],
   "source": [
    "# Create Invitation\n",
    "invite = await agent_controller.connections.create_invitation()\n",
    "connection_id = invite[\"connection_id\"]\n",
    "invite_message = invite['invitation']\n",
    "print(\"Connection ID\", connection_id)\n",
    "print(\"Invitation\")\n",
    "print(invite_message)"
   ]
  },
  {
   "cell_type": "markdown",
   "id": "c6a5d343",
   "metadata": {},
   "source": [
    "## 4. Accept Request - Recipient first!!!!!"
   ]
  },
  {
   "cell_type": "code",
   "execution_count": 3,
   "id": "66304f26",
   "metadata": {},
   "outputs": [
    {
     "name": "stdout",
     "output_type": "stream",
     "text": [
      "Connection Handler Called\n",
      "Connection d6479df1-9ef0-493c-8dd9-bfbf6a33635a in State response\n",
      "ACCEPT REQUEST\n",
      "{'state': 'response', 'rfc23_state': 'response-sent', 'created_at': '2023-01-05 11:53:05.793583Z', 'connection_id': 'd6479df1-9ef0-493c-8dd9-bfbf6a33635a', 'their_did': '7xVTb5Rj5S3kJBLmJ5YnvY', 'their_role': 'invitee', 'my_did': '5Jki8D2eQfhMw1F6cQorhi', 'invitation_key': 'HSwsn6VAroBPox1xGmaLEchXW9Xybwb5VAWX74XfQTJb', 'invitation_mode': 'once', 'updated_at': '2023-01-05 11:53:31.379460Z', 'routing_state': 'none', 'accept': 'manual', 'their_label': 'Bob'}\n",
      "state response\n"
     ]
    }
   ],
   "source": [
    "# Accept Request for Invite created\n",
    "connection = await agent_controller.connections.accept_request(connection_id)\n",
    "print(\"ACCEPT REQUEST\")\n",
    "print(connection)\n",
    "print(\"state\", connection[\"state\"])"
   ]
  },
  {
   "cell_type": "code",
   "execution_count": 4,
   "id": "eee9a455",
   "metadata": {},
   "outputs": [
    {
     "name": "stdout",
     "output_type": "stream",
     "text": [
      "Trust Ping {'thread_id': 'de6575ae-3a8b-4281-b695-28f1154369ca'}\n",
      "{'state': 'response', 'rfc23_state': 'response-sent', 'created_at': '2023-01-05 11:53:05.793583Z', 'connection_id': 'd6479df1-9ef0-493c-8dd9-bfbf6a33635a', 'their_did': '7xVTb5Rj5S3kJBLmJ5YnvY', 'their_role': 'invitee', 'my_did': '5Jki8D2eQfhMw1F6cQorhi', 'invitation_key': 'HSwsn6VAroBPox1xGmaLEchXW9Xybwb5VAWX74XfQTJb', 'invitation_mode': 'once', 'updated_at': '2023-01-05 11:53:31.379460Z', 'routing_state': 'none', 'accept': 'manual', 'their_label': 'Bob'}\n",
      "Is Active? response\n",
      "Connection Handler Called\n",
      "Connection d6479df1-9ef0-493c-8dd9-bfbf6a33635a in State active\n"
     ]
    }
   ],
   "source": [
    "trust_ping = await agent_controller.messaging.trust_ping(connection_id, \"hello\")\n",
    "print(\"Trust Ping\", trust_ping)\n",
    "\n",
    "connection = await agent_controller.connections.get_connection(connection_id)\n",
    "print(connection)\n",
    "print(\"Is Active?\", connection[\"state\"])\n",
    "connection_id = connection[\"connection_id\"]"
   ]
  },
  {
   "cell_type": "code",
   "execution_count": 5,
   "id": "2a432f7c",
   "metadata": {},
   "outputs": [
    {
     "name": "stdout",
     "output_type": "stream",
     "text": [
      "None\n"
     ]
    }
   ],
   "source": [
    "# response = await agent_controller.terminate()\n",
    "# print(response)"
   ]
  },
  {
   "cell_type": "markdown",
   "id": "e94f6eda",
   "metadata": {},
   "source": [
    "# Give MUSIC the VC of ownership and origin - DM"
   ]
  },
  {
   "cell_type": "markdown",
   "id": "9e9c906a",
   "metadata": {},
   "source": [
    "## 1. Write Ownership schema"
   ]
  },
  {
   "cell_type": "code",
   "execution_count": 5,
   "id": "df1d2301",
   "metadata": {},
   "outputs": [
    {
     "name": "stdout",
     "output_type": "stream",
     "text": [
      "PQRXDxdGqQGSZ8z69p4xZP:2:music_schema:0.0.1\n",
      "PQRXDxdGqQGSZ8z69p4xZP:3:CL:12:default\n"
     ]
    }
   ],
   "source": [
    "# Define you schema name - must be unique on the ledger\n",
    "schema_name = \"music_schema\"\n",
    "# Can version the schema if you wish to update it\n",
    "schema_version = \"0.0.1\"\n",
    "# Define any list of attributes you wish to include in your schema\n",
    "attributes = [\"origin\", \"name\", \"time\", \"version\", \"author\", \"owner\"]\n",
    "\n",
    "# Write schema to ledger\n",
    "response = await agent_controller.schema.write_schema(schema_name, attributes, schema_version)\n",
    "schema_id = response[\"schema_id\"]\n",
    "print(schema_id)\n",
    "\n",
    "# Write cred. def.\n",
    "response = await agent_controller.definitions.write_cred_def(schema_id)\n",
    "cred_def_id = response[\"credential_definition_id\"]\n",
    "print(cred_def_id)\n",
    "\n",
    "\n",
    "# # Update schema\n",
    "# attributes = [\"author\", \"name\", \"time\", \"is_original\", \"type\"]\n",
    "# schema_version = \"0.0.2\"\n",
    "# response = await agent_controller.schema.write_schema(schema_name, attributes, schema_version)\n",
    "# updated_schema_id = response[\"schema_id\"]\n",
    "# print(updated_schema_id)\n",
    "\n",
    "# # Write another Credential Definition for the Updated Schema\n",
    "# response = await agent_controller.definitions.write_cred_def(updated_schema_id, support_revocation=True)\n",
    "# updated_cred_def_id = response[\"credential_definition_id\"]\n",
    "# print(updated_cred_def_id)"
   ]
  },
  {
   "cell_type": "markdown",
   "id": "775c4a13",
   "metadata": {},
   "source": [
    "## 2. Write VC"
   ]
  },
  {
   "cell_type": "code",
   "execution_count": 6,
   "id": "67d4b4c6",
   "metadata": {},
   "outputs": [
    {
     "name": "stdout",
     "output_type": "stream",
     "text": [
      "PQRXDxdGqQGSZ8z69p4xZP\n",
      "{'schema_ids': ['PQRXDxdGqQGSZ8z69p4xZP:2:music_schema:0.0.1']}\n"
     ]
    }
   ],
   "source": [
    "nym = await agent_controller.wallet.get_public_did()\n",
    "print(nym[\"result\"][\"did\"])\n",
    "created_schema = await agent_controller.schema.get_created_schema(schema_issuer_did='PQRXDxdGqQGSZ8z69p4xZP')\n",
    "print(created_schema)\n",
    "schema_id = created_schema[\"schema_ids\"][-1]"
   ]
  },
  {
   "cell_type": "code",
   "execution_count": 7,
   "id": "9a432ea7",
   "metadata": {},
   "outputs": [
    {
     "name": "stdout",
     "output_type": "stream",
     "text": [
      "['PQRXDxdGqQGSZ8z69p4xZP:3:CL:12:default']\n"
     ]
    }
   ],
   "source": [
    "definitions = await agent_controller.definitions.search_created(schema_id=schema_id)\n",
    "print(definitions[\"credential_definition_ids\"])\n",
    "cred_def_id = definitions[\"credential_definition_ids\"][-1]"
   ]
  },
  {
   "cell_type": "code",
   "execution_count": 8,
   "id": "6c5bd8b9",
   "metadata": {},
   "outputs": [
    {
     "name": "stdout",
     "output_type": "stream",
     "text": [
      "1\n",
      "Connection : {'state': 'active', 'rfc23_state': 'completed', 'created_at': '2023-01-05 11:53:05.793583Z', 'connection_id': 'd6479df1-9ef0-493c-8dd9-bfbf6a33635a', 'their_did': '7xVTb5Rj5S3kJBLmJ5YnvY', 'their_role': 'invitee', 'my_did': '5Jki8D2eQfhMw1F6cQorhi', 'invitation_key': 'HSwsn6VAroBPox1xGmaLEchXW9Xybwb5VAWX74XfQTJb', 'invitation_mode': 'once', 'updated_at': '2023-01-05 11:53:32.370711Z', 'routing_state': 'none', 'accept': 'manual', 'their_label': 'Bob'}\n",
      "Active Connection ID :  d6479df1-9ef0-493c-8dd9-bfbf6a33635a\n"
     ]
    }
   ],
   "source": [
    "response = await agent_controller.connections.get_connections()\n",
    "results = response['results']\n",
    "print(len(results))\n",
    "# print(\"Results : \", results)\n",
    "if len(results) > 0:\n",
    "    connection = response['results']\n",
    "    for con in connection:\n",
    "        print(\"Connection :\", con)\n",
    "        if con['state'] == 'active':       \n",
    "            connection_id = con[\"connection_id\"]\n",
    "            print(\"Active Connection ID : \", connection_id)\n",
    "        else: print(\"Inactive Connection ID: \", con[\"connection_id\"], \"with state: \", con[\"state\"])\n",
    "else:\n",
    "    print(\"You must create a connection\")"
   ]
  },
  {
   "cell_type": "code",
   "execution_count": 9,
   "id": "19f2c5c5",
   "metadata": {},
   "outputs": [
    {
     "name": "stdout",
     "output_type": "stream",
     "text": [
      "{'result': {'did': 'UmVQ6afzGd6oePeCshPvdT', 'verkey': 'G8mkcU6By5y6M7pBxKNu8TsKLDcG6iUioBBfuNiAKhTH', 'posture': 'wallet_only'}}\n",
      "[{'name': 'author', 'value': 'PQRXDxdGqQGSZ8z69p4xZP'}, {'name': 'name', 'value': 'UmVQ6afzGd6oePeCshPvdT'}, {'name': 'time', 'value': '01-05-2023, 11:56:07'}, {'name': 'origin', 'value': 'PQRXDxdGqQGSZ8z69p4xZP'}, {'name': 'owner', 'value': 'PQRXDxdGqQGSZ8z69p4xZP'}, {'name': 'version', 'value': 'v1'}]\n",
      "Credential exchange 4df882bb-7dd5-4aca-ad9f-ef5d2715f9e7, role: issuer, state: offer_sent\n"
     ]
    }
   ],
   "source": [
    "import datetime\n",
    "response = await agent_controller.wallet.create_did()\n",
    "print(response)\n",
    "music_did = response[\"result\"][\"did\"]\n",
    "verkey = response[\"result\"][\"verkey\"]\n",
    "time = datetime.datetime.now().strftime(\"%m-%d-%Y, %H:%M:%S\")\n",
    "credential_attributes = [\n",
    "    {\"name\": \"author\", \"value\": nym[\"result\"][\"did\"]},\n",
    "    {\"name\": \"name\", \"value\": music_did},\n",
    "    {\"name\": \"time\", \"value\": time},\n",
    "    {\"name\": \"origin\", \"value\": nym[\"result\"][\"did\"]},\n",
    "    {\"name\": \"owner\", \"value\": nym[\"result\"][\"did\"]},\n",
    "    {\"name\": \"version\", \"value\": \"v1\"}\n",
    "]\n",
    "print(credential_attributes)\n",
    "\n",
    "\n",
    "# send credential\n",
    "record = await agent_controller.issuer.send_credential(connection_id, schema_id, cred_def_id, credential_attributes, auto_remove=False, trace=True)\n",
    "record_id = record['credential_exchange_id']\n",
    "state = record['state']\n",
    "role = record['role']\n",
    "print(f\"Credential exchange {record_id}, role: {role}, state: {state}\")"
   ]
  },
  {
   "cell_type": "markdown",
   "id": "0e810152",
   "metadata": {},
   "source": [
    "## 4. Wait for credential exchange"
   ]
  },
  {
   "cell_type": "code",
   "execution_count": 10,
   "id": "47a9bed6",
   "metadata": {},
   "outputs": [
    {
     "name": "stdout",
     "output_type": "stream",
     "text": [
      "[{'state': 'credential_acked', 'created_at': '2023-01-05 11:56:07.853288Z', 'connection_id': 'd6479df1-9ef0-493c-8dd9-bfbf6a33635a', 'auto_remove': False, 'thread_id': 'f94fc381-bf4b-4e91-98e2-ea6b61a77f05', 'credential_offer': {'schema_id': 'PQRXDxdGqQGSZ8z69p4xZP:2:music_schema:0.0.1', 'cred_def_id': 'PQRXDxdGqQGSZ8z69p4xZP:3:CL:12:default', 'key_correctness_proof': {'c': '10192130833627426586947702589679250098949171349435691191376900397976597707001', 'xz_cap': '261586222170142172902735024071118779259966076274987335194542550854122981163217419283349773387355200392096895339116318421548172199748097491198874626160827422691535391347693981990740968287330832643079574596343389032217551793262560913790316206353922565933192533172579864246583374700438899195204503560655766353006176312100513296239458594810232173985117409250047719230149142024622812467081383797853809900030314801894027055518190895143238903160169916375617135994135084218090837145020732624837067462096387485327380734163230050200029610597943792745326549578505683105151996364969056121484711936213077980041712723566403221715901189612761665001515895277144134729219653552628111099511832659914085368792398', 'xr_cap': [['owner', '62889913760705081852718779833991852020454494760693540021219590889147790511559242355451050402537043932468082529136592218286443209499886533240589387121701909737887667234410638962385693383339167871847586089214004485481327428892314692897903992842040975993110418688308338530099317746476409233868011128439031900387264937940150776708347363221309295943928853765759035186763118792294503884139706908640521276051999193707610450640096612960811077977135809873016311461192221752050069681047162581052909064646108419702676634409205650774714866038666204101604013531899399748429223140656454215954285964016607815705325989641027266206271831725015313793388911530471156957869007260032147082916861134730761234312478'], ['time', '238485794308910931117729640457277015996348681847250151725108240176756433415637106870504384227892701699898257315311285474747186571133738385937838268566254031797390150895995188338002062545711293742887552215824142713426582399838449318876054107097547440850134159295469313919085725168986077932204130311699361849035759096669892194499911493152867282646766975199284254483728420115324616145272440625249321998601012165643951722797337526702151198476186277486710652677254768084608351482239411786371859201124520091038400869590055228786172731139059126986073339235798042851520679708584271415648534042765863052524360570564782476587323431206694832841729672045663922216000485666981893997120605790971180741740176'], ['master_secret', '165481293540108317186595751715103730719294885875734637772108303181180983928354637782823899634220707573323878898375741432971787254522731572179533918329775774256630298254683817638734111099988164323158887874632474260197972184176809403827705574973998459671941311302683321755212584017274123155698144225327479834446435943150873454293656528212026754673871438384301306631307866547908460043667373691517184063490499395992519458130519806005922178810985168671962818699886956095787352539063747096458593114459762662464045585785078156486133100644527589595066640468693651877430363178419702063127785794793400164034923080380710125111799741096498768559249617937542228020369077451025637571182298364721745416178552'], ['origin', '232776415460724391211213531559134717987785450184906455878511731718129294268958496660432451007932182005291227141022934177801482461908564994391784930875783225160779113797720261497476305867980158646994003629614301521645037687181446440021326828306923677036757923341562013514720434868193967232138281126347502971339241067071633171316310334380481600941133656628970400813828394257414823648973672388690381748697241286208527233162318751415831550576267237762454353171838193407734392166359381925302904303264118741556027809475239939205084627460544899956055071993953504801415186247684044434795476772844640344831442150683946465590584469796064197462606589574005907318476166720612842022753126682016126536772545'], ['version', '62590054201494001292476807247195797029296384968414748979839312250736977164903889159347938888044809268882582021595854361475580528436201252283296418002719657017052737045118488852973610065483717979836969209638324650085622341197252434926575516935134340187234448089121611913310969006783721830048432526942472689967048060635672969793582623173160915835718681210597190504367747588100392725699628079499372773589925810026250696109517521056502596512967507563467005646240972739731487118205133889596902671012084157756904083934709473256755397613298923952412701863518852197326919692866529026539560033210614332246859752118611392089478863388694917718726104754581404780931600827027889594839391430850986420029864'], ['name', '58979812771170398516952052977049892414158342292100496478480078600990592693546312794509244744423594570727690155064620836635878051697517202893167272792629670465102319098939395954553855292277891053384608398680945329418357350034832699531472894862160923544153855493016100024811595944863964700056675007812862170925338123809002954744893584260041422208593137649324839746590398345428780483597674262187506696782864952068338861533633465812974720550569266847195027737411333481919994450308482814708176136741958768001488813055987858360853610246360897502469462928511375645012333695912397593684451098666756411331068877706026531013689206859577202561953178544858480108107981069221217537336643081109141005419077'], ['author', '158185987812683631220398584792738957766060784970935598613370280580424845545972888343246619812390516265468631722080526718074400073575635834476607500756174397127744340978933170824173347177501885646103344388336432582044493693773529586543328911887938308478098010650275823876582774316781241229573442092493550134813971976534847547449994658503730592845199680682587941019558506100965482090758219501303614661765096480001836522906546992926229341733651507138635174016848187242331800911842648925863568570827172325987780716213736583499871615720133324111522234431383201907291200767044904929571726933404867606111890517957980501696036146442956737531611927182398325620379562501664980385430118622513528011491389']]}, 'nonce': '1010818502473877016233133'}, 'role': 'issuer', 'credential': {'schema_id': 'PQRXDxdGqQGSZ8z69p4xZP:2:music_schema:0.0.1', 'cred_def_id': 'PQRXDxdGqQGSZ8z69p4xZP:3:CL:12:default', 'rev_reg_id': None, 'values': {'name': {'raw': 'UmVQ6afzGd6oePeCshPvdT', 'encoded': '66173831854282905768113164328040621725089499817852363348293521166742394694928'}, 'owner': {'raw': 'PQRXDxdGqQGSZ8z69p4xZP', 'encoded': '43137799088118443800136745895388480458686925529355594539512585697577946794869'}, 'time': {'raw': '01-05-2023, 11:56:07', 'encoded': '76221602033283171480376949134359404916133655868733120892667891684851118238394'}, 'origin': {'raw': 'PQRXDxdGqQGSZ8z69p4xZP', 'encoded': '43137799088118443800136745895388480458686925529355594539512585697577946794869'}, 'version': {'raw': 'v1', 'encoded': '27131969825814800887461230010484753141979851386045457649691352597878165178622'}, 'author': {'raw': 'PQRXDxdGqQGSZ8z69p4xZP', 'encoded': '43137799088118443800136745895388480458686925529355594539512585697577946794869'}}, 'signature': {'p_credential': {'m_2': '85531899979665834485782227418583412251200903041552961664508729128509719010578', 'a': '45370895660905693946935076729051832981432690724514072750866999414202105129320192670461521155543750784795184394408880637877788010411453358715538899946351289674081517183484460391753250118077240223531529113546340434413785618571076150107838347714707009383328589121222013231773269983858280316483677680484422447584493695829789722113844843556811993541312823957951739759895936863807580797851469525795337364521672148405321231638104613371465032599000267833292571287534119909855502999747027898364317239455477187780048545870156442826061218679478511840036010360181708965179131736017920489347717769501834246855309215852398232581003', 'e': '259344723055062059907025491480697571938277889515152306249728583105665800713306759149981690559193987143012367913206299323899696942213235956742929785602304016454232601202647111561471', 'v': '7148820233023191536046842151729131760804293550628521401818925096757086970960053628716098320902098215168406048252470172294888518035409696296731138092025938649806381442818017018024294475714731210173633324681331899511406327861918093110912268867243889287203083864239858332830682587112044951660312815850476875267336820919723534475260306356444194679802662208678270055953999921023460438085863033736604025834458968836028818410978778381207045644310647832465101517189307655460454988130190841208458588930144351704244841000160663759914674750043123839888362933389599928036132353939335795738401884508206468683326819271679166252699795055344204498549043525594461967376276879858059799580505319727935050090393590236043482359204408521346234085835212514615772989897352153371759230622600471938735427992431486642645522355825934985537468375666'}, 'r_credential': None}, 'signature_correctness_proof': {'se': '550384509564129250422581594082646198831966890096940086606751210355230055237919455994116617593425221055564441029401725606400540571161277894570144971488650720539024143831344611382450993418037721749294382153908409364223113489872334566070057962675806484862986263907777579252415068745592422603713573938132258808800125714597811066142547775992541976652044959766010008883589110085059257132614931837328709503344397275288039241699748014336748243163734466669609017453093024282112784164036790145969481376334873901460314724303162157106325687420221545560542679105820373808203304929277977271543667667932514310615721608473425140165', 'c': '41893764027319661161449548230136825776527753250947418008548505623713168983580'}, 'rev_reg': None, 'witness': None}, 'credential_request': {'prover_did': '7xVTb5Rj5S3kJBLmJ5YnvY', 'cred_def_id': 'PQRXDxdGqQGSZ8z69p4xZP:3:CL:12:default', 'blinded_ms': {'u': '52329352688102010542223063883858901458644482878650630824340750714218761232860450790975213735353086235711738755058483928161986060242986660519533644686691629369508961713664863761722909583136425571091307121351881678756305797557349583213468928990712387213024533665523469529926077849241393843182753436701313871128739251079839176927915504713407612394545640083551434329445750465751024956230153435672654148847717554925954682597614223132160507523456214823172631645060560856287587201725355316975530234017769194177478791621850734583703416615274804273162002057776989459406097466732978497000567450471498091218138929059051928642138', 'ur': None, 'hidden_attributes': ['master_secret'], 'committed_attributes': {}}, 'blinded_ms_correctness_proof': {'c': '105617016642192382330445982385913885012831245410268427946778374305174934863560', 'v_dash_cap': '407823965389837898965118067189171136595353201705410458438939205519110133060099701050915008222577558549439076954437934121543441237088179893504652917080920410093386857420016675338942329298250264979200514867426656073336508329802950471868394862122758100647045513291615730952791160068029373776528385564064659355684982685461630155348869883283112178234789231047011434245857854665261884735952166939895720592957222946923537989789869702908813084746351539905928358236973542704005527139071570906487843425373368626855928704040509451071122664326497180912357675418408307184284401242935037757338950221757542462535304692881852891251929458320587267975228146727090592192653042029338135485900143558066900950859085986496179321046263272047', 'm_caps': {'master_secret': '22201382344671158092735820781577481374325050488578514854711220508269056668178829550076890942655762735412291413647912910730363885806656957897584469415143422325126775693493865907132'}, 'r_caps': {}}, 'nonce': '1142503181165695492177109'}, 'initiator': 'self', 'credential_offer_dict': {'@type': 'did:sov:BzCbsNYhMrjHiqZDTUASHg;spec/issue-credential/1.0/offer-credential', '@id': 'f94fc381-bf4b-4e91-98e2-ea6b61a77f05', '~thread': {}, '~trace': {'target': 'log', 'full_thread': True, 'trace_reports': []}, 'credential_preview': {'@type': 'did:sov:BzCbsNYhMrjHiqZDTUASHg;spec/issue-credential/1.0/credential-preview', 'attributes': [{'name': 'author', 'value': 'PQRXDxdGqQGSZ8z69p4xZP'}, {'name': 'name', 'value': 'UmVQ6afzGd6oePeCshPvdT'}, {'name': 'time', 'value': '01-05-2023, 11:56:07'}, {'name': 'origin', 'value': 'PQRXDxdGqQGSZ8z69p4xZP'}, {'name': 'owner', 'value': 'PQRXDxdGqQGSZ8z69p4xZP'}, {'name': 'version', 'value': 'v1'}]}, 'offers~attach': [{'@id': 'libindy-cred-offer-0', 'mime-type': 'application/json', 'data': {'base64': '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'}}], 'comment': 'create automated credential exchange'}, 'credential_definition_id': 'PQRXDxdGqQGSZ8z69p4xZP:3:CL:12:default', 'auto_offer': False, 'updated_at': '2023-01-05 11:56:23.783519Z', 'credential_exchange_id': '4df882bb-7dd5-4aca-ad9f-ef5d2715f9e7', 'trace': True, 'auto_issue': True, 'schema_id': 'PQRXDxdGqQGSZ8z69p4xZP:2:music_schema:0.0.1', 'credential_proposal_dict': {'@type': 'did:sov:BzCbsNYhMrjHiqZDTUASHg;spec/issue-credential/1.0/propose-credential', '@id': 'b51cd264-927d-44cb-8f5b-8f94942075d3', '~trace': {'target': 'log', 'full_thread': True, 'trace_reports': []}, 'schema_id': 'PQRXDxdGqQGSZ8z69p4xZP:2:music_schema:0.0.1', 'schema_version': '0.0.1', 'issuer_did': 'PQRXDxdGqQGSZ8z69p4xZP', 'credential_proposal': {'@type': 'did:sov:BzCbsNYhMrjHiqZDTUASHg;spec/issue-credential/1.0/credential-preview', 'attributes': [{'name': 'author', 'value': 'PQRXDxdGqQGSZ8z69p4xZP'}, {'name': 'name', 'value': 'UmVQ6afzGd6oePeCshPvdT'}, {'name': 'time', 'value': '01-05-2023, 11:56:07'}, {'name': 'origin', 'value': 'PQRXDxdGqQGSZ8z69p4xZP'}, {'name': 'owner', 'value': 'PQRXDxdGqQGSZ8z69p4xZP'}, {'name': 'version', 'value': 'v1'}]}, 'cred_def_id': 'PQRXDxdGqQGSZ8z69p4xZP:3:CL:12:default', 'schema_name': 'music_schema', 'comment': '', 'schema_issuer_did': 'PQRXDxdGqQGSZ8z69p4xZP'}}]\n",
      "Credential exchange 4df882bb-7dd5-4aca-ad9f-ef5d2715f9e7, role: issuer, state: credential_acked\n"
     ]
    }
   ],
   "source": [
    "response = await agent_controller.issuer.get_records()\n",
    "print(response['results'])\n",
    "cred_record = await agent_controller.issuer.get_record_by_id(record_id)\n",
    "state = cred_record['state']\n",
    "role = cred_record['role']\n",
    "print(f\"Credential exchange {record_id}, role: {role}, state: {state}\")"
   ]
  },
  {
   "cell_type": "code",
   "execution_count": 11,
   "id": "fd5f8eb2",
   "metadata": {},
   "outputs": [
    {
     "name": "stdout",
     "output_type": "stream",
     "text": [
      "{}\n"
     ]
    }
   ],
   "source": [
    "## Remove records\n",
    "response = await agent_controller.issuer.remove_record(record_id)\n",
    "print(response)"
   ]
  },
  {
   "cell_type": "code",
   "execution_count": 12,
   "id": "2c9e4a02",
   "metadata": {},
   "outputs": [
    {
     "name": "stdout",
     "output_type": "stream",
     "text": [
      "None\n"
     ]
    }
   ],
   "source": [
    "response = await agent_controller.terminate()\n",
    "print(response)"
   ]
  },
  {
   "cell_type": "code",
   "execution_count": null,
   "id": "0d8bc56c",
   "metadata": {},
   "outputs": [],
   "source": []
  }
 ],
 "metadata": {
  "kernelspec": {
   "display_name": "Python 3 (ipykernel)",
   "language": "python",
   "name": "python3"
  },
  "language_info": {
   "codemirror_mode": {
    "name": "ipython",
    "version": 3
   },
   "file_extension": ".py",
   "mimetype": "text/x-python",
   "name": "python",
   "nbconvert_exporter": "python",
   "pygments_lexer": "ipython3",
   "version": "3.10.8"
  },
  "vscode": {
   "interpreter": {
    "hash": "b0fa6594d8f4cbf19f97940f81e996739fb7646882a419484c72d19e05852a7e"
   }
  }
 },
 "nbformat": 4,
 "nbformat_minor": 5
}
