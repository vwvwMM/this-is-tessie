{
 "cells": [
  {
   "cell_type": "code",
   "execution_count": null,
   "id": "3941b12a",
   "metadata": {},
   "outputs": [],
   "source": []
  },
  {
   "cell_type": "code",
   "execution_count": 54,
   "id": "4866d362",
   "metadata": {},
   "outputs": [
    {
     "name": "stdout",
     "output_type": "stream",
     "text": [
      "IPython autoawait is `on`, and set to use `asyncio`\n"
     ]
    }
   ],
   "source": [
    "%autoawait\n",
    "import time\n",
    "import asyncio"
   ]
  },
  {
   "cell_type": "code",
   "execution_count": 55,
   "id": "0e0a781e",
   "metadata": {},
   "outputs": [],
   "source": [
    "from aries_basic_controller.aries_controller import AriesAgentController\n",
    "    \n",
    "WEBHOOK_HOST = \"0.0.0.0\"\n",
    "WEBHOOK_PORT = 8022\n",
    "WEBHOOK_BASE = \"\"\n",
    "ADMIN_URL = \"http://alice-agent:8021\"\n",
    "\n",
    "# WARNING: You should use environment variables for this\n",
    "# TODO: Make env variables accessible through juypter notebooks\n",
    "API_KEY = \"alice_api_123456789\"\n",
    "\n",
    "# Based on the aca-py agent you wish to control\n",
    "agent_controller = AriesAgentController(admin_url=ADMIN_URL, api_key=API_KEY)\n"
   ]
  },
  {
   "cell_type": "code",
   "execution_count": 56,
   "id": "e324f476",
   "metadata": {},
   "outputs": [],
   "source": [
    "agent_controller.init_webhook_server(webhook_host=WEBHOOK_HOST, \n",
    "                                     webhook_port=WEBHOOK_PORT,\n",
    "                                     webhook_base=WEBHOOK_BASE)"
   ]
  },
  {
   "cell_type": "markdown",
   "id": "7f615c35",
   "metadata": {},
   "source": [
    "## 1. connect to SP"
   ]
  },
  {
   "cell_type": "code",
   "execution_count": 57,
   "id": "cb82cb5d",
   "metadata": {},
   "outputs": [
    {
     "name": "stdout",
     "output_type": "stream",
     "text": [
      "Subscribing too: connections\n"
     ]
    },
    {
     "name": "stderr",
     "output_type": "stream",
     "text": [
      "WARNING:aries_webhook_server:Listening webhooks failed! OSError(98, \"error while attempting to bind on address ('0.0.0.0', 8022): address already in use\") occurred.\n"
     ]
    }
   ],
   "source": [
    "\n",
    "loop = asyncio.get_event_loop()\n",
    "loop.create_task(agent_controller.listen_webhooks())\n",
    "\n",
    "def connection_handler(payload):\n",
    "    print(\"Connection Handler Called\")\n",
    "    connection_id = payload[\"connection_id\"]\n",
    "    state = payload[\"state\"]\n",
    "    print(f\"Connection {connection_id} in State {state}\")\n",
    "    \n",
    "connection_listener = {\n",
    "    \"handler\": connection_handler,\n",
    "    \"topic\": \"connections\"\n",
    "}\n",
    "\n",
    "agent_controller.register_listeners([connection_listener], defaults=True)"
   ]
  },
  {
   "cell_type": "code",
   "execution_count": 58,
   "id": "0a8e7437",
   "metadata": {},
   "outputs": [
    {
     "name": "stdout",
     "output_type": "stream",
     "text": [
      "Connection Handler Called\n",
      "Connection 0da802ed-ef09-4774-bea6-9987effe0009 in State invitation\n",
      "Connection ID 0da802ed-ef09-4774-bea6-9987effe0009\n",
      "Invitation\n",
      "{'@type': 'did:sov:BzCbsNYhMrjHiqZDTUASHg;spec/connections/1.0/invitation', '@id': '7ed3d9da-83a3-440b-8c6e-64bbbc0c5da2', 'label': 'Alice', 'recipientKeys': ['2NXtAKWpEXaBsjveidkvu4rtjhMV3PWwCctbEj3Zicmu'], 'serviceEndpoint': 'http://192.168.65.3:8020'}\n",
      "Connection Handler Called\n",
      "Connection 0da802ed-ef09-4774-bea6-9987effe0009 in State request\n"
     ]
    }
   ],
   "source": [
    "# Create Invitation\n",
    "invite = await agent_controller.connections.create_invitation()\n",
    "connection_id = invite[\"connection_id\"]\n",
    "invite_message = invite['invitation']\n",
    "print(\"Connection ID\", connection_id)\n",
    "print(\"Invitation\")\n",
    "print(invite_message)"
   ]
  },
  {
   "cell_type": "markdown",
   "id": "5e0d8989",
   "metadata": {},
   "source": [
    "### switch to SP "
   ]
  },
  {
   "cell_type": "code",
   "execution_count": 59,
   "id": "20a52513",
   "metadata": {},
   "outputs": [
    {
     "name": "stdout",
     "output_type": "stream",
     "text": [
      "Connection Handler Called\n",
      "Connection 0da802ed-ef09-4774-bea6-9987effe0009 in State response\n",
      "ACCEPT REQUEST\n",
      "{'routing_state': 'none', 'connection_id': '0da802ed-ef09-4774-bea6-9987effe0009', 'state': 'response', 'their_role': 'invitee', 'invitation_key': '2NXtAKWpEXaBsjveidkvu4rtjhMV3PWwCctbEj3Zicmu', 'my_did': 'P28K76EisDuQXgK1BBJc8M', 'their_label': 'Carol', 'rfc23_state': 'response-sent', 'their_did': '8KjR51tbaUQuYg7knMDfoZ', 'invitation_mode': 'once', 'accept': 'manual', 'created_at': '2023-01-03 10:15:07.285538Z', 'updated_at': '2023-01-03 10:15:45.947474Z'}\n",
      "state response\n"
     ]
    }
   ],
   "source": [
    "# Accept Request for Invite created\n",
    "connection = await agent_controller.connections.accept_request(connection_id)\n",
    "print(\"ACCEPT REQUEST\")\n",
    "print(connection)\n",
    "print(\"state\", connection[\"state\"])"
   ]
  },
  {
   "cell_type": "code",
   "execution_count": 60,
   "id": "de7c56c5",
   "metadata": {},
   "outputs": [
    {
     "name": "stdout",
     "output_type": "stream",
     "text": [
      "Trust Ping {'thread_id': '2d0a3c7c-2bc6-4596-96ca-feeb540de25f'}\n",
      "Connection Handler Called\n",
      "Connection 0da802ed-ef09-4774-bea6-9987effe0009 in State active\n"
     ]
    }
   ],
   "source": [
    "trust_ping = await agent_controller.messaging.trust_ping(connection_id, \"hello\")\n",
    "print(\"Trust Ping\", trust_ping)"
   ]
  },
  {
   "cell_type": "code",
   "execution_count": 61,
   "id": "d16ed412",
   "metadata": {},
   "outputs": [
    {
     "name": "stdout",
     "output_type": "stream",
     "text": [
      "{'routing_state': 'none', 'connection_id': '0da802ed-ef09-4774-bea6-9987effe0009', 'state': 'active', 'their_role': 'invitee', 'invitation_key': '2NXtAKWpEXaBsjveidkvu4rtjhMV3PWwCctbEj3Zicmu', 'my_did': 'P28K76EisDuQXgK1BBJc8M', 'their_label': 'Carol', 'rfc23_state': 'completed', 'their_did': '8KjR51tbaUQuYg7knMDfoZ', 'invitation_mode': 'once', 'accept': 'manual', 'created_at': '2023-01-03 10:15:07.285538Z', 'updated_at': '2023-01-03 10:15:48.576060Z'}\n",
      "Is Active? active\n",
      "0da802ed-ef09-4774-bea6-9987effe0009\n"
     ]
    }
   ],
   "source": [
    "connection = await agent_controller.connections.get_connection(connection_id)\n",
    "print(connection)\n",
    "print(\"Is Active?\", connection[\"state\"])\n",
    "sp_connection = connection[\"connection_id\"]\n",
    "print(sp_connection)"
   ]
  },
  {
   "cell_type": "code",
   "execution_count": 5,
   "id": "48994f9b",
   "metadata": {},
   "outputs": [],
   "source": [
    "# sp_connection = 'e6557bae-b92b-4ad7-8c55-b91d496f6ce1'"
   ]
  },
  {
   "cell_type": "code",
   "execution_count": 64,
   "id": "56a5256a",
   "metadata": {},
   "outputs": [
    {
     "name": "stdout",
     "output_type": "stream",
     "text": [
      "{'results': [{'routing_state': 'none', 'connection_id': '29da4a10-2751-494f-8d9c-bb93f4054974', 'state': 'active', 'their_role': 'invitee', 'invitation_key': '2djco6gS9tNs7Hw6cJ3wy4ddoejfYECPHQeiip56fBxt', 'my_did': 'AJKWXtEvaRXNkmXrTG9FxV', 'their_label': 'Carol', 'rfc23_state': 'completed', 'their_did': 'TUMFuVbpwwgMTnCH3fxty', 'invitation_mode': 'once', 'accept': 'manual', 'created_at': '2023-01-03 09:34:00.646895Z', 'updated_at': '2023-01-03 09:34:33.786419Z'}, {'routing_state': 'none', 'connection_id': 'f7ea7bd3-1b80-4106-aeb4-5b826b8495a0', 'state': 'active', 'their_role': 'invitee', 'invitation_key': '7a5RP5ipXyM1Bra395Xn1ANni38p53F4Hg3nARjpYYw5', 'my_did': '2jtbrtAtQ5i6CuoZXNQTW1', 'their_label': 'Bob', 'rfc23_state': 'completed', 'their_did': 'B9LWxnPaVKusAdELrcZjJ2', 'invitation_mode': 'once', 'accept': 'manual', 'created_at': '2023-01-03 09:35:20.240337Z', 'updated_at': '2023-01-03 09:38:35.537670Z'}, {'routing_state': 'none', 'connection_id': '0da802ed-ef09-4774-bea6-9987effe0009', 'state': 'active', 'their_role': 'invitee', 'invitation_key': '2NXtAKWpEXaBsjveidkvu4rtjhMV3PWwCctbEj3Zicmu', 'my_did': 'P28K76EisDuQXgK1BBJc8M', 'their_label': 'Carol', 'rfc23_state': 'completed', 'their_did': '8KjR51tbaUQuYg7knMDfoZ', 'invitation_mode': 'once', 'accept': 'manual', 'created_at': '2023-01-03 10:15:07.285538Z', 'updated_at': '2023-01-03 10:15:48.576060Z'}]}\n"
     ]
    }
   ],
   "source": [
    "response = await agent_controller.connections.get_connections()\n",
    "print(response)"
   ]
  },
  {
   "cell_type": "code",
   "execution_count": 63,
   "id": "ae5ed2b2",
   "metadata": {},
   "outputs": [],
   "source": [
    "response = await agent_controller.connections.remove_connection('031f3c7c-1b71-49b8-aded-1fd8bea8f3d8')"
   ]
  },
  {
   "cell_type": "markdown",
   "id": "556d67e8",
   "metadata": {},
   "source": [
    "## 6. connect to MUSIC"
   ]
  },
  {
   "cell_type": "code",
   "execution_count": 70,
   "id": "085df475",
   "metadata": {},
   "outputs": [
    {
     "name": "stdout",
     "output_type": "stream",
     "text": [
      "Connection Handler Called\n",
      "Connection 3c26b35c-565a-46cd-98eb-ac0337a8c8ce in State invitation\n",
      "Connection ID 3c26b35c-565a-46cd-98eb-ac0337a8c8ce\n",
      "Invitation\n",
      "{'@type': 'did:sov:BzCbsNYhMrjHiqZDTUASHg;spec/connections/1.0/invitation', '@id': 'ff2a54fa-b5c7-40b5-98f9-1c4fab300b2f', 'label': 'Alice', 'recipientKeys': ['EASvR9t7Dkb8pUta1dDcpZwDJj32zCLkXpjFvPotNTWx'], 'serviceEndpoint': 'http://192.168.65.3:8020'}\n",
      "Connection Handler Called\n",
      "Connection 3c26b35c-565a-46cd-98eb-ac0337a8c8ce in State request\n"
     ]
    }
   ],
   "source": [
    "# Create Invitation\n",
    "invite = await agent_controller.connections.create_invitation()\n",
    "connection_id = invite[\"connection_id\"]\n",
    "invite_message = invite['invitation']\n",
    "print(\"Connection ID\", connection_id)\n",
    "print(\"Invitation\")\n",
    "print(invite_message)"
   ]
  },
  {
   "cell_type": "markdown",
   "id": "4b37a91c",
   "metadata": {},
   "source": [
    "### switch to MUSIC"
   ]
  },
  {
   "cell_type": "code",
   "execution_count": 71,
   "id": "9b2026a9",
   "metadata": {},
   "outputs": [
    {
     "name": "stdout",
     "output_type": "stream",
     "text": [
      "Connection Handler Called\n",
      "Connection 3c26b35c-565a-46cd-98eb-ac0337a8c8ce in State response\n",
      "ACCEPT REQUEST\n",
      "{'routing_state': 'none', 'connection_id': '3c26b35c-565a-46cd-98eb-ac0337a8c8ce', 'state': 'response', 'their_role': 'invitee', 'invitation_key': 'EASvR9t7Dkb8pUta1dDcpZwDJj32zCLkXpjFvPotNTWx', 'my_did': 'US6mN2w2jdYCrwiBQdBzQE', 'their_label': 'Bob', 'rfc23_state': 'response-sent', 'their_did': 'KBtYiK8eaWNKEtnVWAR64h', 'invitation_mode': 'once', 'accept': 'manual', 'created_at': '2023-01-03 11:31:01.560386Z', 'updated_at': '2023-01-03 11:31:55.769227Z'}\n",
      "state response\n"
     ]
    }
   ],
   "source": [
    "# Accept Request for Invite created\n",
    "connection = await agent_controller.connections.accept_request(connection_id)\n",
    "print(\"ACCEPT REQUEST\")\n",
    "print(connection)\n",
    "print(\"state\", connection[\"state\"])"
   ]
  },
  {
   "cell_type": "code",
   "execution_count": 72,
   "id": "22c86b24",
   "metadata": {},
   "outputs": [
    {
     "name": "stdout",
     "output_type": "stream",
     "text": [
      "Trust Ping {'thread_id': '654a5d95-9c3d-4df6-a969-11dc01ee125f'}\n",
      "Connection Handler Called\n",
      "Connection 3c26b35c-565a-46cd-98eb-ac0337a8c8ce in State active\n"
     ]
    }
   ],
   "source": [
    "trust_ping = await agent_controller.messaging.trust_ping(connection_id, \"hello\")\n",
    "print(\"Trust Ping\", trust_ping)"
   ]
  },
  {
   "cell_type": "code",
   "execution_count": 73,
   "id": "5e60d7da",
   "metadata": {},
   "outputs": [
    {
     "name": "stdout",
     "output_type": "stream",
     "text": [
      "{'routing_state': 'none', 'connection_id': 'f7ea7bd3-1b80-4106-aeb4-5b826b8495a0', 'state': 'active', 'their_role': 'invitee', 'invitation_key': '7a5RP5ipXyM1Bra395Xn1ANni38p53F4Hg3nARjpYYw5', 'my_did': '2jtbrtAtQ5i6CuoZXNQTW1', 'their_label': 'Bob', 'rfc23_state': 'completed', 'their_did': 'B9LWxnPaVKusAdELrcZjJ2', 'invitation_mode': 'once', 'accept': 'manual', 'created_at': '2023-01-03 09:35:20.240337Z', 'updated_at': '2023-01-03 09:38:35.537670Z'}\n",
      "Is Active? active\n",
      "f7ea7bd3-1b80-4106-aeb4-5b826b8495a0\n"
     ]
    }
   ],
   "source": [
    "connection = await agent_controller.connections.get_connection(music_connection)\n",
    "print(connection)\n",
    "print(\"Is Active?\", connection[\"state\"])\n",
    "music_connection = connection[\"connection_id\"]\n",
    "print(music_connection)"
   ]
  },
  {
   "cell_type": "markdown",
   "id": "33f63eea",
   "metadata": {},
   "source": [
    "## 7. exchange DID with SP and MUSIC"
   ]
  },
  {
   "cell_type": "code",
   "execution_count": 74,
   "id": "fa4f5f0c",
   "metadata": {},
   "outputs": [
    {
     "name": "stdout",
     "output_type": "stream",
     "text": [
      "my DID PQRXDxdGqQGSZ8z69p4xZP\n"
     ]
    }
   ],
   "source": [
    "my_did = await agent_controller.wallet.get_public_did()\n",
    "my_did = my_did['result']['did']\n",
    "print(\"my DID\", my_did)\n",
    "sp_did = 'None'\n",
    "music_did = 'None'"
   ]
  },
  {
   "cell_type": "code",
   "execution_count": 75,
   "id": "6fc87ee6",
   "metadata": {},
   "outputs": [
    {
     "name": "stdout",
     "output_type": "stream",
     "text": [
      "Subscribing too: basicmessages\n"
     ]
    },
    {
     "name": "stderr",
     "output_type": "stream",
     "text": [
      "WARNING:aries_webhook_server:Listening webhooks failed! OSError(98, \"error while attempting to bind on address ('0.0.0.0', 8022): address already in use\") occurred.\n"
     ]
    },
    {
     "name": "stdout",
     "output_type": "stream",
     "text": [
      "music_did gZj39Y8JGQ5GVQp2y6zFH\n",
      "Handle message {'connection_id': '3c26b35c-565a-46cd-98eb-ac0337a8c8ce', 'message_id': 'e0a07e73-cafc-4a13-bee5-207daf0dcb31', 'content': 'music_gZj39Y8JGQ5GVQp2y6zFH', 'state': 'received'} 3c26b35c-565a-46cd-98eb-ac0337a8c8ce\n"
     ]
    }
   ],
   "source": [
    "def messages_handler(payload):\n",
    "    global sp_did\n",
    "    global music_did\n",
    "    connection_id = payload[\"connection_id\"]\n",
    "    did = payload[\"content\"]\n",
    "    if did[:3] == 'sp_':\n",
    "        sp_did = did[4:]\n",
    "        print('sp_did', sp_did)\n",
    "    else:\n",
    "        music_did = did[6:]\n",
    "        print('music_did', music_did)\n",
    "        \n",
    "    asyncio.get_event_loop().create_task(agent_controller.messaging.send_message(connection_id, my_did))\n",
    "    print(\"Handle message\", payload, connection_id)\n",
    "    \n",
    "    \n",
    "    \n",
    "\n",
    "message_listener = {\n",
    "    \"handler\": messages_handler,\n",
    "    \"topic\": \"basicmessages\"\n",
    "}\n",
    "\n",
    "loop = asyncio.get_event_loop()\n",
    "loop.create_task(agent_controller.listen_webhooks())\n",
    "\n",
    "agent_controller.register_listeners([message_listener], defaults=True)"
   ]
  },
  {
   "cell_type": "code",
   "execution_count": 52,
   "id": "0527cd68",
   "metadata": {},
   "outputs": [
    {
     "name": "stdout",
     "output_type": "stream",
     "text": [
      "{}\n",
      "music_did gZj39Y8JGQ5GVQp2y6zFH\n",
      "Handle message {'connection_id': 'f7ea7bd3-1b80-4106-aeb4-5b826b8495a0', 'message_id': '40c0fc00-a2ed-4c63-be0b-9f2c3ad161a6', 'content': 'music_gZj39Y8JGQ5GVQp2y6zFH', 'state': 'received'} f7ea7bd3-1b80-4106-aeb4-5b826b8495a0\n",
      "sp_did 8HWQruWXrv8s6BBLXm53B\n",
      "Handle message {'connection_id': '29da4a10-2751-494f-8d9c-bb93f4054974', 'message_id': '13072c3a-ea6d-4382-bb38-069ea2ea1826', 'content': 'sp_X8HWQruWXrv8s6BBLXm53B', 'state': 'received'} 29da4a10-2751-494f-8d9c-bb93f4054974\n",
      "music_did gZj39Y8JGQ5GVQp2y6zFH\n",
      "Handle message {'connection_id': 'f7ea7bd3-1b80-4106-aeb4-5b826b8495a0', 'message_id': 'c89bf47d-ea34-4d1c-9c09-63fdab3aeea3', 'content': 'music_gZj39Y8JGQ5GVQp2y6zFH', 'state': 'received'} f7ea7bd3-1b80-4106-aeb4-5b826b8495a0\n"
     ]
    }
   ],
   "source": [
    "# message = my_did\n",
    "# response = await agent_controller.messaging.send_message(music_connection, message)\n",
    "# print(response)"
   ]
  },
  {
   "cell_type": "markdown",
   "id": "5621c6e9",
   "metadata": {},
   "source": [
    "## issue new VC to MUSIC and SP"
   ]
  },
  {
   "cell_type": "code",
   "execution_count": 41,
   "id": "4d951646",
   "metadata": {},
   "outputs": [],
   "source": [
    "agent_controller.remove_all_listeners(\"basicmessages\")"
   ]
  },
  {
   "cell_type": "code",
   "execution_count": 17,
   "id": "1b2a6b27",
   "metadata": {},
   "outputs": [],
   "source": [
    "revoke = False"
   ]
  },
  {
   "cell_type": "code",
   "execution_count": 18,
   "id": "f1493f8a",
   "metadata": {},
   "outputs": [
    {
     "name": "stdout",
     "output_type": "stream",
     "text": [
      "Subscribing too: basicmessages\n"
     ]
    },
    {
     "name": "stderr",
     "output_type": "stream",
     "text": [
      "WARNING:aries_webhook_server:Listening webhooks failed! OSError(98, \"error while attempting to bind on address ('0.0.0.0', 8022): address already in use\") occurred.\n"
     ]
    }
   ],
   "source": [
    "def request_handler(payload):\n",
    "    global revoke\n",
    "    connection_id = payload[\"connection_id\"]\n",
    "    if payload['content'] == 'True': \n",
    "        revoke = True\n",
    "    send_task = asyncio.get_event_loop().create_task(agent_controller.messaging.send_message(sp_connection, \"revoke: \"+str(revoke)))\n",
    "    print(\"Handle request\", payload, connection_id)\n",
    "\n",
    "\n",
    "request_listener = {\n",
    "    \"handler\": request_handler,\n",
    "    \"topic\": \"basicmessages\"\n",
    "}\n",
    "\n",
    "loop = asyncio.get_event_loop()\n",
    "loop.create_task(agent_controller.listen_webhooks())\n",
    "\n",
    "agent_controller.register_listeners([request_listener], defaults=True)"
   ]
  },
  {
   "cell_type": "markdown",
   "id": "5bb4703d",
   "metadata": {},
   "source": [
    "### switch to SP"
   ]
  },
  {
   "cell_type": "code",
   "execution_count": 20,
   "id": "ba5ffa51",
   "metadata": {},
   "outputs": [
    {
     "name": "stdout",
     "output_type": "stream",
     "text": [
      "True\n"
     ]
    }
   ],
   "source": [
    "print(revoke)"
   ]
  },
  {
   "cell_type": "markdown",
   "id": "9b689582",
   "metadata": {},
   "source": [
    "### revoke old VC from MUSIC"
   ]
  },
  {
   "cell_type": "code",
   "execution_count": 37,
   "id": "e3c27f4a",
   "metadata": {},
   "outputs": [],
   "source": [
    "if revoke:\n",
    "    ## revoke the previous VC\n",
    "    "
   ]
  },
  {
   "cell_type": "markdown",
   "id": "a82f9c16",
   "metadata": {},
   "source": [
    "### issue new VC to MUSIC"
   ]
  },
  {
   "cell_type": "code",
   "execution_count": 30,
   "id": "8dafc051",
   "metadata": {},
   "outputs": [
    {
     "name": "stdout",
     "output_type": "stream",
     "text": [
      "Subscribing too: issue_credential\n"
     ]
    },
    {
     "name": "stderr",
     "output_type": "stream",
     "text": [
      "WARNING:aries_webhook_server:Listening webhooks failed! OSError(98, \"error while attempting to bind on address ('0.0.0.0', 8022): address already in use\") occurred.\n"
     ]
    }
   ],
   "source": [
    "loop = asyncio.get_event_loop()\n",
    "loop.create_task(agent_controller.listen_webhooks())\n",
    "def cred_handler(payload):\n",
    "    print(\"Handle Credentials\")\n",
    "    exchange_id = payload['credential_exchange_id']\n",
    "    state = payload['state']\n",
    "    role = payload['role']\n",
    "    attributes = payload['credential_proposal_dict']['credential_proposal']['attributes']\n",
    "    print(f\"Credential exchange {exchange_id}, role: {role}, state: {state}\")\n",
    "    print(f\"Attributes: {attributes}\")\n",
    "    \n",
    "cred_listener = {\n",
    "    \"topic\": \"issue_credential\",\n",
    "    \"handler\": cred_handler\n",
    "}\n",
    "agent_controller.register_listeners([cred_listener], defaults=True)"
   ]
  },
  {
   "cell_type": "code",
   "execution_count": 31,
   "id": "c15b65fb",
   "metadata": {},
   "outputs": [
    {
     "name": "stdout",
     "output_type": "stream",
     "text": [
      "{'schema_ids': ['PQRXDxdGqQGSZ8z69p4xZP:2:music_schema:0.0.1']}\n",
      "PQRXDxdGqQGSZ8z69p4xZP:2:music_schema:0.0.1\n"
     ]
    }
   ],
   "source": [
    "created_schema = await agent_controller.schema.get_created_schema(schema_issuer_did=my_did)\n",
    "print(created_schema)\n",
    "schema_id = created_schema['schema_ids'][0]\n",
    "print(schema_id)\n",
    "\n",
    "## find schema_id"
   ]
  },
  {
   "cell_type": "code",
   "execution_count": 32,
   "id": "6e309b8a",
   "metadata": {},
   "outputs": [
    {
     "name": "stdout",
     "output_type": "stream",
     "text": [
      "{'credential_definition_ids': ['PQRXDxdGqQGSZ8z69p4xZP:3:CL:12:default']}\n",
      "PQRXDxdGqQGSZ8z69p4xZP:3:CL:12:default\n"
     ]
    }
   ],
   "source": [
    "created_cred_def = response = await agent_controller.definitions.search_created(schema_issuer_did=my_did)\n",
    "print(created_cred_def)\n",
    "cred_def_id = created_cred_def['credential_definition_ids'][0]\n",
    "print(cred_def_id)\n",
    "\n",
    "## find cred_def_id"
   ]
  },
  {
   "cell_type": "code",
   "execution_count": 33,
   "id": "62fcdf50",
   "metadata": {},
   "outputs": [
    {
     "name": "stdout",
     "output_type": "stream",
     "text": [
      "Handle Credentials\n",
      "Credential exchange a1239c73-2720-4255-bbef-a51c811866f7, role: issuer, state: offer_sent\n",
      "Attributes: [{'name': 'author', 'value': 'PQRXDxdGqQGSZ8z69p4xZP'}, {'name': 'origin', 'value': 'PQRXDxdGqQGSZ8z69p4xZP'}, {'name': 'owner', 'value': '8HWQruWXrv8s6BBLXm53B'}, {'name': 'time', 'value': '01-03-2023, 09:52:12'}, {'name': 'version', 'value': 'v1'}, {'name': 'name', 'value': 'balabababa music'}]\n",
      "Handle Credentials\n",
      "Credential exchange ab4f8dde-8bc8-4ebf-90ee-fa6cbdc17416, role: issuer, state: credential_acked\n",
      "Attributes: [{'name': 'author', 'value': 'PQRXDxdGqQGSZ8z69p4xZP'}, {'name': 'origin', 'value': 'PQRXDxdGqQGSZ8z69p4xZP'}, {'name': 'owner', 'value': '8HWQruWXrv8s6BBLXm53B'}, {'name': 'time', 'value': '01-03-2023, 09:50:36'}, {'name': 'version', 'value': 'v1'}, {'name': 'name', 'value': 'balabababa music'}]\n"
     ]
    }
   ],
   "source": [
    "import datetime\n",
    "time = datetime.datetime.now().strftime(\"%m-%d-%Y, %H:%M:%S\")\n",
    "credential_attributes = [\n",
    "    {\"name\": \"author\", \"value\": my_did},\n",
    "    {\"name\": \"origin\", \"value\": my_did},\n",
    "    {\"name\": \"owner\", \"value\": sp_did},\n",
    "    {\"name\": \"time\", \"value\": time},\n",
    "    {\"name\": \"version\", \"value\": \"v1\"},\n",
    "    {\"name\": \"name\", \"value\": \"balabababa music\"},\n",
    "    ]\n",
    "record = await agent_controller.issuer.send_credential(music_connection, schema_id, cred_def_id, credential_attributes, auto_remove=False, trace=True)"
   ]
  },
  {
   "cell_type": "code",
   "execution_count": 34,
   "id": "a88934ea",
   "metadata": {},
   "outputs": [
    {
     "name": "stdout",
     "output_type": "stream",
     "text": [
      "Credential exchange a1239c73-2720-4255-bbef-a51c811866f7, role: issuer, state: offer_sent\n"
     ]
    }
   ],
   "source": [
    "record_id = record['credential_exchange_id']\n",
    "state = record['state']\n",
    "role = record['role']\n",
    "print(f\"Credential exchange {record_id}, role: {role}, state: {state}\")"
   ]
  },
  {
   "cell_type": "markdown",
   "id": "1f89f90a",
   "metadata": {},
   "source": [
    "### define new schema "
   ]
  },
  {
   "cell_type": "code",
   "execution_count": 35,
   "id": "5ab9da2f",
   "metadata": {},
   "outputs": [],
   "source": [
    "# Define you schema name - must be unique on the ledger\n",
    "schema_name = \"possession schema\"\n",
    "# Can version the schema if you wish to update it\n",
    "schema_version = \"0.0.1\"\n",
    "# Define any list of attributes you wish to include in your schema\n",
    "attributes = [\"possession\", \"time\"]\n"
   ]
  },
  {
   "cell_type": "code",
   "execution_count": 36,
   "id": "45688b16",
   "metadata": {},
   "outputs": [
    {
     "name": "stdout",
     "output_type": "stream",
     "text": [
      "PQRXDxdGqQGSZ8z69p4xZP:2:possession schema:0.0.1\n"
     ]
    }
   ],
   "source": [
    "response = await agent_controller.schema.write_schema(schema_name, attributes, schema_version)\n",
    "schema_id = response[\"schema_id\"]\n",
    "print(schema_id)"
   ]
  },
  {
   "cell_type": "code",
   "execution_count": 37,
   "id": "db771498",
   "metadata": {},
   "outputs": [
    {
     "name": "stdout",
     "output_type": "stream",
     "text": [
      "PQRXDxdGqQGSZ8z69p4xZP:3:CL:14:default\n"
     ]
    }
   ],
   "source": [
    "response = await agent_controller.definitions.write_cred_def(schema_id)\n",
    "\n",
    "cred_def_id = response[\"credential_definition_id\"]\n",
    "print(cred_def_id)"
   ]
  },
  {
   "cell_type": "markdown",
   "id": "5f688355",
   "metadata": {},
   "source": [
    "### issue new VC to SP"
   ]
  },
  {
   "cell_type": "code",
   "execution_count": 38,
   "id": "1476dc2a",
   "metadata": {},
   "outputs": [
    {
     "name": "stdout",
     "output_type": "stream",
     "text": [
      "[{'name': 'possession', 'value': ''}, {'name': 'time', 'value': '01-03-2023, 09:55:09'}]\n"
     ]
    }
   ],
   "source": [
    "import datetime\n",
    "time = datetime.datetime.now().strftime(\"%m-%d-%Y, %H:%M:%S\")\n",
    "credential_attributes = [\n",
    "    {\"name\": \"possession\", \"value\": music_did},\n",
    "    {\"name\": \"time\", \"value\": time},\n",
    "]\n",
    "print(credential_attributes)"
   ]
  },
  {
   "cell_type": "code",
   "execution_count": 39,
   "id": "48017b5e",
   "metadata": {},
   "outputs": [
    {
     "name": "stdout",
     "output_type": "stream",
     "text": [
      "{'credential_offer_dict': {'@type': 'did:sov:BzCbsNYhMrjHiqZDTUASHg;spec/issue-credential/1.0/offer-credential', '@id': '3a2fb28d-590b-4530-8928-c5291029bc51', '~thread': {}, '~trace': {'target': 'log', 'full_thread': True, 'trace_reports': []}, 'comment': 'create automated credential exchange', 'offers~attach': [{'@id': 'libindy-cred-offer-0', 'mime-type': 'application/json', 'data': {'base64': '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'}}], 'credential_preview': {'@type': 'did:sov:BzCbsNYhMrjHiqZDTUASHg;spec/issue-credential/1.0/credential-preview', 'attributes': [{'name': 'possession', 'value': ''}, {'name': 'time', 'value': '01-03-2023, 09:55:09'}]}}, 'credential_exchange_id': 'b37994fd-524c-4620-9e09-e51c0ddd7ea2', 'initiator': 'self', 'trace': True, 'created_at': '2023-01-03 09:55:18.297874Z', 'connection_id': '29da4a10-2751-494f-8d9c-bb93f4054974', 'auto_issue': True, 'credential_offer': {'schema_id': 'PQRXDxdGqQGSZ8z69p4xZP:2:possession schema:0.0.1', 'cred_def_id': 'PQRXDxdGqQGSZ8z69p4xZP:3:CL:14:default', 'key_correctness_proof': {'c': '59052735338611666198612597097391398078915078158974309679498415542646109508369', 'xz_cap': '1045253708536963044841066434628538466808024283799446253446387608815886001611909871623815229890277644424407885291042726267328924859683709976715141317211683699502565600248549156040023537620670630846179842744178572156944998536617715322053444931897899340892081153084748223482763745429670166967663301193568367186171351682309609944951033608888426648351689105159713538578283073673165544957487256222366133536098806720767794280806263100015376998117340614589626362009934174560202498665183525775179557407554950179915055145009710763270133237083105548156849178133450224215877963016280797883863306962612824372791255034931946522298617556973505594805583555861714698099292469579220845807384120580264571086573264', 'xr_cap': [['master_secret', '918308742485063745843673425098885679928379855422780613544863923242115994267932749032012473976111638408040987398871277251104528469963599633472570629928768638387715311163867700754314252612159099402647309075282038013756660233911737488604156626375229685448010553318392895257872064921205140525656705868148738946451486207059235569408276135470639527089848219402212814052602743655558794355282585968966204574903639819370466421228196712632657199683886465808354406576228845700826671629544351235013155754835955101151314470264264447361352218533406385882510282668982749004183599079652812672776299153395447949937593996129012652526287014175056363578928431418156354093150571567779286594167323112480789033196794'], ['possession', '641567653494464631816376378284373699424348951456897518319986178395551183146129450849797051088393690894825357503018978963736540249589374131928353560805524846603012604563943925982373851703728431236651070472487219241493239423441198347150369133721296000305513793219606466121440370562641899967569405896250058538636342803239280546692765620688619251680735223168076030122799521809865251456135156783688386105390182983466462709380194729895404912212476405839217687895765788805794208121966318758806636820250010086074492015290013073653758119752529153485397524118578640650004159915900211820580432087487397077942944770870666609200868913333281182832167991559101748411290664762693301519134130551820006648622518'], ['time', '946911425913345414854002961616929003032273417287528325704469053547711931089631490479911132897440570735689026803193194599061127472605031020409448143208221626027221773924334835011626122670764345987614499714582949696949612293653563924227897613211959421353492883205883216409163234026191558230666968336467102938858178989421297954542003326778661211792778040850516556285223947472686728910714510173541460934309320237246750128762523060524375914727862187017750376227044919486747189486452905913858322700775699461864124473707781663904364176771778267379959887664676060440099904420542694648221832450779403832453176581326570114881039065464189870112431227571470779258443973048057062897662247571389607655169344']]}, 'nonce': '619690883819451530339368'}, 'role': 'issuer', 'schema_id': 'PQRXDxdGqQGSZ8z69p4xZP:2:possession schema:0.0.1', 'updated_at': '2023-01-03 09:55:18.297874Z', 'auto_remove': False, 'state': 'offer_sent', 'credential_proposal_dict': {'@type': 'did:sov:BzCbsNYhMrjHiqZDTUASHg;spec/issue-credential/1.0/propose-credential', '@id': 'aa1c51c9-50ca-4ef0-85d6-a70e820fde51', '~trace': {'target': 'log', 'full_thread': True, 'trace_reports': []}, 'schema_name': 'possession schema', 'schema_version': '0.0.1', 'cred_def_id': 'PQRXDxdGqQGSZ8z69p4xZP:3:CL:14:default', 'issuer_did': 'PQRXDxdGqQGSZ8z69p4xZP', 'comment': '', 'credential_proposal': {'@type': 'did:sov:BzCbsNYhMrjHiqZDTUASHg;spec/issue-credential/1.0/credential-preview', 'attributes': [{'name': 'possession', 'value': ''}, {'name': 'time', 'value': '01-03-2023, 09:55:09'}]}, 'schema_issuer_did': 'PQRXDxdGqQGSZ8z69p4xZP', 'schema_id': 'PQRXDxdGqQGSZ8z69p4xZP:2:possession schema:0.0.1'}, 'credential_definition_id': 'PQRXDxdGqQGSZ8z69p4xZP:3:CL:14:default', 'auto_offer': False, 'thread_id': '3a2fb28d-590b-4530-8928-c5291029bc51'}\n",
      "Credential exchange b37994fd-524c-4620-9e09-e51c0ddd7ea2, role: issuer, state: offer_sent\n",
      "Handle Credentials\n",
      "Credential exchange b37994fd-524c-4620-9e09-e51c0ddd7ea2, role: issuer, state: offer_sent\n",
      "Attributes: [{'name': 'possession', 'value': ''}, {'name': 'time', 'value': '01-03-2023, 09:55:09'}]\n",
      "Handle Credentials\n",
      "Credential exchange b37994fd-524c-4620-9e09-e51c0ddd7ea2, role: issuer, state: request_received\n",
      "Attributes: [{'name': 'possession', 'value': ''}, {'name': 'time', 'value': '01-03-2023, 09:55:09'}]\n",
      "Handle Credentials\n",
      "Credential exchange b37994fd-524c-4620-9e09-e51c0ddd7ea2, role: issuer, state: credential_issued\n",
      "Attributes: [{'name': 'possession', 'value': ''}, {'name': 'time', 'value': '01-03-2023, 09:55:09'}]\n",
      "Handle Credentials\n",
      "Credential exchange b37994fd-524c-4620-9e09-e51c0ddd7ea2, role: issuer, state: credential_acked\n",
      "Attributes: [{'name': 'possession', 'value': ''}, {'name': 'time', 'value': '01-03-2023, 09:55:09'}]\n",
      "Handle request {'connection_id': 'f7ea7bd3-1b80-4106-aeb4-5b826b8495a0', 'message_id': '613e9ea6-8e10-4cbb-920e-f149fb4c04de', 'content': 'music_gZj39Y8JGQ5GVQp2y6zFH', 'state': 'received'} f7ea7bd3-1b80-4106-aeb4-5b826b8495a0\n",
      "Handle request {'connection_id': 'f7ea7bd3-1b80-4106-aeb4-5b826b8495a0', 'message_id': 'cf8046e7-39a9-45ce-8cb3-c0f8817ffd34', 'content': 'music_gZj39Y8JGQ5GVQp2y6zFH', 'state': 'received'} f7ea7bd3-1b80-4106-aeb4-5b826b8495a0\n",
      "Handle request {'connection_id': 'f7ea7bd3-1b80-4106-aeb4-5b826b8495a0', 'message_id': 'e1ac7d34-7175-4962-a7af-4c4c42f9b3b2', 'content': 'music_gZj39Y8JGQ5GVQp2y6zFH', 'state': 'received'} f7ea7bd3-1b80-4106-aeb4-5b826b8495a0\n"
     ]
    }
   ],
   "source": [
    "record = await agent_controller.issuer.send_credential(sp_connection, schema_id, cred_def_id, credential_attributes, auto_remove=False, trace=True)\n",
    "print(record)\n",
    "record_id = record['credential_exchange_id']\n",
    "state = record['state']\n",
    "role = record['role']\n",
    "print(f\"Credential exchange {record_id}, role: {role}, state: {state}\")"
   ]
  },
  {
   "cell_type": "code",
   "execution_count": 76,
   "id": "04001351",
   "metadata": {},
   "outputs": [
    {
     "name": "stdout",
     "output_type": "stream",
     "text": [
      "None\n"
     ]
    }
   ],
   "source": [
    "response = await agent_controller.terminate()\n",
    "print(response)"
   ]
  },
  {
   "cell_type": "code",
   "execution_count": null,
   "id": "787f3000",
   "metadata": {},
   "outputs": [],
   "source": []
  }
 ],
 "metadata": {
  "kernelspec": {
   "display_name": "Python 3 (ipykernel)",
   "language": "python",
   "name": "python3"
  },
  "language_info": {
   "codemirror_mode": {
    "name": "ipython",
    "version": 3
   },
   "file_extension": ".py",
   "mimetype": "text/x-python",
   "name": "python",
   "nbconvert_exporter": "python",
   "pygments_lexer": "ipython3",
   "version": "3.10.8"
  }
 },
 "nbformat": 4,
 "nbformat_minor": 5
}
