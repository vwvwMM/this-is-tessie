{
 "cells": [
  {
   "cell_type": "code",
   "execution_count": 5,
   "id": "0e4dcb2a",
   "metadata": {},
   "outputs": [],
   "source": [
    "%autoawait\n",
    "import time\n",
    "import asyncio"
   ]
  },
  {
   "cell_type": "code",
   "execution_count": 6,
   "id": "5d5a7362",
   "metadata": {},
   "outputs": [],
   "source": [
    "from aries_basic_controller.aries_controller import AriesAgentController\n",
    "    \n",
    "WEBHOOK_HOST = \"0.0.0.0\"\n",
    "WEBHOOK_PORT = 8022\n",
    "WEBHOOK_BASE = \"\"\n",
    "ADMIN_URL = \"http://alice-agent:8021\"\n",
    "\n",
    "# WARNING: You should use environment variables for this\n",
    "# TODO: Make env variables accessible through juypter notebooks\n",
    "API_KEY = \"alice_api_123456789\"\n",
    "\n",
    "# Based on the aca-py agent you wish to control\n",
    "agent_controller = AriesAgentController(admin_url=ADMIN_URL, api_key=API_KEY)\n"
   ]
  },
  {
   "cell_type": "code",
   "execution_count": 7,
   "id": "4352dc8e",
   "metadata": {},
   "outputs": [],
   "source": [
    "agent_controller.init_webhook_server(webhook_host=WEBHOOK_HOST, \n",
    "                                     webhook_port=WEBHOOK_PORT,\n",
    "                                     webhook_base=WEBHOOK_BASE)"
   ]
  },
  {
   "cell_type": "markdown",
   "id": "7e5ab7c5",
   "metadata": {},
   "source": [
    "# connect 3 agents"
   ]
  },
  {
   "cell_type": "markdown",
   "id": "637bb737",
   "metadata": {},
   "source": [
    "## 1. connect to SP"
   ]
  },
  {
   "cell_type": "code",
   "execution_count": 8,
   "id": "6f96c26d",
   "metadata": {},
   "outputs": [
    {
     "name": "stdout",
     "output_type": "stream",
     "text": [
      "Subscribing too: connections\n"
     ]
    }
   ],
   "source": [
    "\n",
    "loop = asyncio.get_event_loop()\n",
    "loop.create_task(agent_controller.listen_webhooks())\n",
    "\n",
    "def connection_handler(payload):\n",
    "    print(\"Connection Handler Called\")\n",
    "    connection_id = payload[\"connection_id\"]\n",
    "    state = payload[\"state\"]\n",
    "    print(f\"Connection {connection_id} in State {state}\")\n",
    "    \n",
    "connection_listener = {\n",
    "    \"handler\": connection_handler,\n",
    "    \"topic\": \"connections\"\n",
    "}\n",
    "\n",
    "agent_controller.register_listeners([connection_listener], defaults=True)"
   ]
  },
  {
   "cell_type": "code",
   "execution_count": 9,
   "id": "d90acbbe",
   "metadata": {},
   "outputs": [
    {
     "name": "stdout",
     "output_type": "stream",
     "text": [
      "Connection Handler Called\n",
      "Connection e04213f6-b268-42b0-abc5-6279027688c2 in State invitation\n",
      "Connection ID e04213f6-b268-42b0-abc5-6279027688c2\n",
      "Invitation\n",
      "{'@type': 'did:sov:BzCbsNYhMrjHiqZDTUASHg;spec/connections/1.0/invitation', '@id': '51faa42a-8769-450c-815e-3d1b022134a2', 'recipientKeys': ['6uGSV3tKN3kbF3ZC5GmuxqHrASfsSKBe4Kxu9JzTdnYS'], 'serviceEndpoint': 'http://192.168.65.3:8020', 'label': 'Alice'}\n",
      "Connection Handler Called\n",
      "Connection e04213f6-b268-42b0-abc5-6279027688c2 in State request\n"
     ]
    }
   ],
   "source": [
    "# Create Invitation\n",
    "invite = await agent_controller.connections.create_invitation()\n",
    "connection_id = invite[\"connection_id\"]\n",
    "invite_message = invite['invitation']\n",
    "print(\"Connection ID\", connection_id)\n",
    "print(\"Invitation\")\n",
    "print(invite_message)"
   ]
  },
  {
   "cell_type": "markdown",
   "id": "addfd448",
   "metadata": {},
   "source": [
    "### 2. switch to SP "
   ]
  },
  {
   "cell_type": "markdown",
   "id": "37bfa498",
   "metadata": {},
   "source": [
    "### 3."
   ]
  },
  {
   "cell_type": "code",
   "execution_count": 10,
   "id": "237138d4",
   "metadata": {},
   "outputs": [
    {
     "name": "stdout",
     "output_type": "stream",
     "text": [
      "Connection Handler Called\n",
      "Connection e04213f6-b268-42b0-abc5-6279027688c2 in State response\n",
      "ACCEPT REQUEST\n",
      "{'invitation_key': '6uGSV3tKN3kbF3ZC5GmuxqHrASfsSKBe4Kxu9JzTdnYS', 'updated_at': '2023-01-03 12:19:11.853478Z', 'invitation_mode': 'once', 'created_at': '2023-01-03 12:18:48.577736Z', 'my_did': 'WVwvP9Tn18f1eZ8pi7DfTL', 'their_did': 'MBSF9UmbuFnAftoJx2pw1j', 'state': 'response', 'their_label': 'Carol', 'connection_id': 'e04213f6-b268-42b0-abc5-6279027688c2', 'rfc23_state': 'response-sent', 'their_role': 'invitee', 'routing_state': 'none', 'accept': 'manual'}\n",
      "state response\n"
     ]
    }
   ],
   "source": [
    "# Accept Request for Invite created\n",
    "connection = await agent_controller.connections.accept_request(connection_id)\n",
    "print(\"ACCEPT REQUEST\")\n",
    "print(connection)\n",
    "print(\"state\", connection[\"state\"])"
   ]
  },
  {
   "cell_type": "code",
   "execution_count": 11,
   "id": "265c7a83",
   "metadata": {},
   "outputs": [
    {
     "name": "stdout",
     "output_type": "stream",
     "text": [
      "Trust Ping {'thread_id': '84dc281b-0f21-4b9d-80c2-9d1e73f6a888'}\n",
      "Connection Handler Called\n",
      "Connection e04213f6-b268-42b0-abc5-6279027688c2 in State active\n"
     ]
    }
   ],
   "source": [
    "trust_ping = await agent_controller.messaging.trust_ping(connection_id, \"hello\")\n",
    "print(\"Trust Ping\", trust_ping)"
   ]
  },
  {
   "cell_type": "code",
   "execution_count": 12,
   "id": "fc70804f",
   "metadata": {},
   "outputs": [
    {
     "name": "stdout",
     "output_type": "stream",
     "text": [
      "{'invitation_key': '6uGSV3tKN3kbF3ZC5GmuxqHrASfsSKBe4Kxu9JzTdnYS', 'updated_at': '2023-01-03 12:19:13.425759Z', 'invitation_mode': 'once', 'created_at': '2023-01-03 12:18:48.577736Z', 'my_did': 'WVwvP9Tn18f1eZ8pi7DfTL', 'their_did': 'MBSF9UmbuFnAftoJx2pw1j', 'state': 'active', 'their_label': 'Carol', 'connection_id': 'e04213f6-b268-42b0-abc5-6279027688c2', 'rfc23_state': 'completed', 'their_role': 'invitee', 'routing_state': 'none', 'accept': 'manual'}\n",
      "Is Active? active\n",
      "e04213f6-b268-42b0-abc5-6279027688c2\n"
     ]
    }
   ],
   "source": [
    "connection = await agent_controller.connections.get_connection(connection_id)\n",
    "print(connection)\n",
    "print(\"Is Active?\", connection[\"state\"])\n",
    "sp_connection = connection[\"connection_id\"]\n",
    "print(sp_connection)"
   ]
  },
  {
   "cell_type": "code",
   "execution_count": 13,
   "id": "d9afbad4",
   "metadata": {},
   "outputs": [],
   "source": [
    "# sp_connection = 'e6557bae-b92b-4ad7-8c55-b91d496f6ce1'"
   ]
  },
  {
   "cell_type": "code",
   "execution_count": 14,
   "id": "a4315fe2",
   "metadata": {},
   "outputs": [
    {
     "name": "stdout",
     "output_type": "stream",
     "text": [
      "{'results': [{'invitation_key': '2EZgL2gMffbxQFWBS2mVkuLmFPAzaMVgwGZXTswYCE6y', 'updated_at': '2023-01-03 12:11:59.431606Z', 'invitation_mode': 'once', 'created_at': '2023-01-03 12:10:47.835278Z', 'my_did': 'XtNBn5VgqaouerjBv9zGiy', 'their_did': 'JwZFj9aDdiL1d4pJSSL3Wj', 'state': 'active', 'their_label': 'Bob', 'connection_id': '3a5b59b0-f221-429b-b8f3-b121e1b7c640', 'rfc23_state': 'completed', 'their_role': 'invitee', 'routing_state': 'none', 'accept': 'manual'}, {'invitation_key': '6uGSV3tKN3kbF3ZC5GmuxqHrASfsSKBe4Kxu9JzTdnYS', 'updated_at': '2023-01-03 12:19:13.425759Z', 'invitation_mode': 'once', 'created_at': '2023-01-03 12:18:48.577736Z', 'my_did': 'WVwvP9Tn18f1eZ8pi7DfTL', 'their_did': 'MBSF9UmbuFnAftoJx2pw1j', 'state': 'active', 'their_label': 'Carol', 'connection_id': 'e04213f6-b268-42b0-abc5-6279027688c2', 'rfc23_state': 'completed', 'their_role': 'invitee', 'routing_state': 'none', 'accept': 'manual'}]}\n"
     ]
    }
   ],
   "source": [
    "response = await agent_controller.connections.get_connections()\n",
    "print(response)"
   ]
  },
  {
   "cell_type": "code",
   "execution_count": 99,
   "id": "2ac8d262",
   "metadata": {},
   "outputs": [],
   "source": [
    "# response = await agent_controller.connections.remove_connection('bf329959-1a75-47fb-a602-a7cd9722fa90')"
   ]
  },
  {
   "cell_type": "markdown",
   "id": "f1390a30",
   "metadata": {},
   "source": [
    "### 4. switch to SP"
   ]
  },
  {
   "cell_type": "markdown",
   "id": "79a90182",
   "metadata": {},
   "source": [
    "## 9. connect to MUSIC"
   ]
  },
  {
   "cell_type": "code",
   "execution_count": 15,
   "id": "6762b3e0",
   "metadata": {},
   "outputs": [
    {
     "name": "stdout",
     "output_type": "stream",
     "text": [
      "Connection Handler Called\n",
      "Connection bb9dd96d-ef0d-4859-8297-77800b8cc9a6 in State invitation\n",
      "Connection ID bb9dd96d-ef0d-4859-8297-77800b8cc9a6\n",
      "Invitation\n",
      "{'@type': 'did:sov:BzCbsNYhMrjHiqZDTUASHg;spec/connections/1.0/invitation', '@id': 'e3a2ca2c-d327-4335-8771-0f36013c848d', 'recipientKeys': ['DHLmYoHNjhVwRLkwf9spNbjmmoAhHthE4D2ADG33ajpc'], 'serviceEndpoint': 'http://192.168.65.3:8020', 'label': 'Alice'}\n",
      "Connection Handler Called\n",
      "Connection bb9dd96d-ef0d-4859-8297-77800b8cc9a6 in State request\n"
     ]
    }
   ],
   "source": [
    "# Create Invitation\n",
    "invite = await agent_controller.connections.create_invitation()\n",
    "connection_id = invite[\"connection_id\"]\n",
    "invite_message = invite['invitation']\n",
    "print(\"Connection ID\", connection_id)\n",
    "print(\"Invitation\")\n",
    "print(invite_message)"
   ]
  },
  {
   "cell_type": "markdown",
   "id": "80ac8e7a",
   "metadata": {},
   "source": [
    "### 10. switch to MUSIC"
   ]
  },
  {
   "cell_type": "markdown",
   "id": "0bd58372",
   "metadata": {},
   "source": [
    "### 11."
   ]
  },
  {
   "cell_type": "code",
   "execution_count": 16,
   "id": "d6f1cc91",
   "metadata": {},
   "outputs": [
    {
     "name": "stdout",
     "output_type": "stream",
     "text": [
      "Connection Handler Called\n",
      "Connection bb9dd96d-ef0d-4859-8297-77800b8cc9a6 in State response\n",
      "ACCEPT REQUEST\n",
      "{'invitation_key': 'DHLmYoHNjhVwRLkwf9spNbjmmoAhHthE4D2ADG33ajpc', 'updated_at': '2023-01-03 12:20:26.186332Z', 'invitation_mode': 'once', 'created_at': '2023-01-03 12:20:11.801504Z', 'my_did': '9PPzLD1Nhkbqeoq419ZWVC', 'their_did': '7dsM89cArCQEM8LHWsE6WU', 'state': 'response', 'their_label': 'Bob', 'connection_id': 'bb9dd96d-ef0d-4859-8297-77800b8cc9a6', 'rfc23_state': 'response-sent', 'their_role': 'invitee', 'routing_state': 'none', 'accept': 'manual'}\n",
      "state response\n"
     ]
    }
   ],
   "source": [
    "# Accept Request for Invite created\n",
    "connection = await agent_controller.connections.accept_request(connection_id)\n",
    "print(\"ACCEPT REQUEST\")\n",
    "print(connection)\n",
    "print(\"state\", connection[\"state\"])"
   ]
  },
  {
   "cell_type": "code",
   "execution_count": 17,
   "id": "f4cbd471",
   "metadata": {},
   "outputs": [
    {
     "name": "stdout",
     "output_type": "stream",
     "text": [
      "Trust Ping {'thread_id': 'da57c088-490a-41e9-ae5a-677edc9781a2'}\n",
      "Connection Handler Called\n",
      "Connection bb9dd96d-ef0d-4859-8297-77800b8cc9a6 in State active\n"
     ]
    }
   ],
   "source": [
    "trust_ping = await agent_controller.messaging.trust_ping(connection_id, \"hello\")\n",
    "print(\"Trust Ping\", trust_ping)"
   ]
  },
  {
   "cell_type": "code",
   "execution_count": 18,
   "id": "65f1b0f1",
   "metadata": {},
   "outputs": [
    {
     "name": "stdout",
     "output_type": "stream",
     "text": [
      "{'invitation_key': 'DHLmYoHNjhVwRLkwf9spNbjmmoAhHthE4D2ADG33ajpc', 'updated_at': '2023-01-03 12:20:28.291631Z', 'invitation_mode': 'once', 'created_at': '2023-01-03 12:20:11.801504Z', 'my_did': '9PPzLD1Nhkbqeoq419ZWVC', 'their_did': '7dsM89cArCQEM8LHWsE6WU', 'state': 'active', 'their_label': 'Bob', 'connection_id': 'bb9dd96d-ef0d-4859-8297-77800b8cc9a6', 'rfc23_state': 'completed', 'their_role': 'invitee', 'routing_state': 'none', 'accept': 'manual'}\n",
      "Is Active? active\n",
      "bb9dd96d-ef0d-4859-8297-77800b8cc9a6\n"
     ]
    }
   ],
   "source": [
    "connection = await agent_controller.connections.get_connection(connection_id)\n",
    "print(connection)\n",
    "print(\"Is Active?\", connection[\"state\"])\n",
    "music_connection = connection[\"connection_id\"]\n",
    "print(music_connection)"
   ]
  },
  {
   "cell_type": "markdown",
   "id": "a03343bd",
   "metadata": {},
   "source": [
    "### 12. switch to MUSIC"
   ]
  },
  {
   "cell_type": "markdown",
   "id": "42de232b",
   "metadata": {},
   "source": [
    "# exchange DID with SP and MUSIC"
   ]
  },
  {
   "cell_type": "markdown",
   "id": "1ef28a32",
   "metadata": {},
   "source": [
    "## 1."
   ]
  },
  {
   "cell_type": "code",
   "execution_count": 19,
   "id": "50b9801a",
   "metadata": {},
   "outputs": [
    {
     "name": "stdout",
     "output_type": "stream",
     "text": [
      "my DID PQRXDxdGqQGSZ8z69p4xZP\n"
     ]
    }
   ],
   "source": [
    "my_did = await agent_controller.wallet.get_public_did()\n",
    "my_did = my_did['result']['did']\n",
    "print(\"my DID\", my_did)\n",
    "sp_did = 'None'\n",
    "music_did = 'None'"
   ]
  },
  {
   "cell_type": "code",
   "execution_count": 20,
   "id": "11e80aea",
   "metadata": {},
   "outputs": [
    {
     "name": "stdout",
     "output_type": "stream",
     "text": [
      "Subscribing too: basicmessages\n"
     ]
    },
    {
     "name": "stderr",
     "output_type": "stream",
     "text": [
      "WARNING:aries_webhook_server:Listening webhooks failed! OSError(98, \"error while attempting to bind on address ('0.0.0.0', 8022): address already in use\") occurred.\n"
     ]
    },
    {
     "name": "stdout",
     "output_type": "stream",
     "text": [
      "music_did gZj39Y8JGQ5GVQp2y6zFH\n",
      "Handle message {'connection_id': 'bb9dd96d-ef0d-4859-8297-77800b8cc9a6', 'message_id': '734a5fe0-380c-48bd-9188-318e4542a6d0', 'content': 'music_gZj39Y8JGQ5GVQp2y6zFH', 'state': 'received'} bb9dd96d-ef0d-4859-8297-77800b8cc9a6\n",
      "sp_did 8HWQruWXrv8s6BBLXm53B\n",
      "Handle message {'connection_id': 'e04213f6-b268-42b0-abc5-6279027688c2', 'message_id': '81fdcb57-8c32-4766-9496-f49954cc8fa3', 'content': 'sp_X8HWQruWXrv8s6BBLXm53B', 'state': 'received'} e04213f6-b268-42b0-abc5-6279027688c2\n"
     ]
    }
   ],
   "source": [
    "def messages_handler(payload):\n",
    "    global sp_did\n",
    "    global music_did\n",
    "    connection_id = payload[\"connection_id\"]\n",
    "    did = payload[\"content\"]\n",
    "    if did[:3] == 'sp_':\n",
    "        sp_did = did[4:]\n",
    "        print('sp_did', sp_did)\n",
    "    else:\n",
    "        music_did = did[6:]\n",
    "        print('music_did', music_did)\n",
    "        \n",
    "    asyncio.get_event_loop().create_task(agent_controller.messaging.send_message(connection_id, my_did))\n",
    "    print(\"Handle message\", payload, connection_id)\n",
    "    \n",
    "    \n",
    "    \n",
    "\n",
    "message_listener = {\n",
    "    \"handler\": messages_handler,\n",
    "    \"topic\": \"basicmessages\"\n",
    "}\n",
    "\n",
    "loop = asyncio.get_event_loop()\n",
    "loop.create_task(agent_controller.listen_webhooks())\n",
    "\n",
    "agent_controller.register_listeners([message_listener], defaults=True)"
   ]
  },
  {
   "cell_type": "code",
   "execution_count": 111,
   "id": "fdd3cc3e",
   "metadata": {},
   "outputs": [
    {
     "name": "stdout",
     "output_type": "stream",
     "text": [
      "{}\n"
     ]
    }
   ],
   "source": [
    "message = my_did\n",
    "response = await agent_controller.messaging.send_message(music_connection, message)\n",
    "print(response)"
   ]
  },
  {
   "cell_type": "markdown",
   "id": "e70e1403",
   "metadata": {},
   "source": [
    "# transfer possession"
   ]
  },
  {
   "cell_type": "markdown",
   "id": "dabf5d81",
   "metadata": {},
   "source": [
    "## 2. issue new VC to MUSIC and SP"
   ]
  },
  {
   "cell_type": "code",
   "execution_count": 23,
   "id": "5cd4c6c5",
   "metadata": {},
   "outputs": [],
   "source": [
    "agent_controller.remove_all_listeners(\"basicmessages\")"
   ]
  },
  {
   "cell_type": "code",
   "execution_count": 24,
   "id": "884d5498",
   "metadata": {},
   "outputs": [],
   "source": [
    "revoke = False"
   ]
  },
  {
   "cell_type": "code",
   "execution_count": 25,
   "id": "dd031b8c",
   "metadata": {},
   "outputs": [
    {
     "name": "stdout",
     "output_type": "stream",
     "text": [
      "Subscribing too: basicmessages\n"
     ]
    },
    {
     "name": "stderr",
     "output_type": "stream",
     "text": [
      "WARNING:aries_webhook_server:Listening webhooks failed! OSError(98, \"error while attempting to bind on address ('0.0.0.0', 8022): address already in use\") occurred.\n"
     ]
    },
    {
     "name": "stdout",
     "output_type": "stream",
     "text": [
      "Handle request {'connection_id': 'e04213f6-b268-42b0-abc5-6279027688c2', 'message_id': '00940fb0-76b2-43b2-8947-1c3998b567b2', 'content': 'True', 'state': 'received'} e04213f6-b268-42b0-abc5-6279027688c2\n"
     ]
    }
   ],
   "source": [
    "def request_handler(payload):\n",
    "    global revoke\n",
    "    connection_id = payload[\"connection_id\"]\n",
    "    if payload['content'] == 'True': \n",
    "        revoke = True\n",
    "    send_task = asyncio.get_event_loop().create_task(agent_controller.messaging.send_message(sp_connection, \"revoke: \"+str(revoke)))\n",
    "    print(\"Handle request\", payload, connection_id)\n",
    "\n",
    "\n",
    "request_listener = {\n",
    "    \"handler\": request_handler,\n",
    "    \"topic\": \"basicmessages\"\n",
    "}\n",
    "\n",
    "loop = asyncio.get_event_loop()\n",
    "loop.create_task(agent_controller.listen_webhooks())\n",
    "\n",
    "agent_controller.register_listeners([request_listener], defaults=False)"
   ]
  },
  {
   "cell_type": "markdown",
   "id": "ea1d6173",
   "metadata": {},
   "source": [
    "## 3. switch to SP"
   ]
  },
  {
   "cell_type": "markdown",
   "id": "06f6e34d",
   "metadata": {},
   "source": [
    "## 4. revoke old VC from MUSIC"
   ]
  },
  {
   "cell_type": "code",
   "execution_count": 26,
   "id": "6535e784",
   "metadata": {},
   "outputs": [],
   "source": [
    "print(revoke)"
   ]
  },
  {
   "cell_type": "code",
   "execution_count": 37,
   "id": "64f8a2e5",
   "metadata": {},
   "outputs": [],
   "source": [
    "if revoke:\n",
    "    ## revoke the previous VC\n",
    "    "
   ]
  },
  {
   "cell_type": "markdown",
   "id": "77d17837",
   "metadata": {},
   "source": [
    "## 5. issue new VC to MUSIC"
   ]
  },
  {
   "cell_type": "code",
   "execution_count": 27,
   "id": "149818e3",
   "metadata": {},
   "outputs": [],
   "source": [
    "loop = asyncio.get_event_loop()\n",
    "loop.create_task(agent_controller.listen_webhooks())\n",
    "def cred_handler(payload):\n",
    "    print(\"Handle Credentials\")\n",
    "    exchange_id = payload['credential_exchange_id']\n",
    "    state = payload['state']\n",
    "    role = payload['role']\n",
    "    attributes = payload['credential_proposal_dict']['credential_proposal']['attributes']\n",
    "    print(f\"Credential exchange {exchange_id}, role: {role}, state: {state}\")\n",
    "    print(f\"Attributes: {attributes}\")\n",
    "    \n",
    "cred_listener = {\n",
    "    \"topic\": \"issue_credential\",\n",
    "    \"handler\": cred_handler\n",
    "}\n",
    "agent_controller.register_listeners([cred_listener], defaults=True)"
   ]
  },
  {
   "cell_type": "code",
   "execution_count": 28,
   "id": "ceee2dca",
   "metadata": {},
   "outputs": [],
   "source": [
    "created_schema = await agent_controller.schema.get_created_schema(schema_issuer_did=my_did)\n",
    "print(created_schema)\n",
    "schema_id = created_schema['schema_ids'][0]\n",
    "print(schema_id)\n",
    "\n",
    "## find schema_id"
   ]
  },
  {
   "cell_type": "code",
   "execution_count": 29,
   "id": "7be704a3",
   "metadata": {},
   "outputs": [],
   "source": [
    "created_cred_def = response = await agent_controller.definitions.search_created(schema_issuer_did=my_did)\n",
    "print(created_cred_def)\n",
    "cred_def_id = created_cred_def['credential_definition_ids'][0]\n",
    "print(cred_def_id)\n",
    "\n",
    "## find cred_def_id"
   ]
  },
  {
   "cell_type": "code",
   "execution_count": 34,
   "id": "05942c6c",
   "metadata": {},
   "outputs": [
    {
     "name": "stdout",
     "output_type": "stream",
     "text": [
      "Handle Credentials\n",
      "Credential exchange 923ab876-b172-4b22-8c84-937b5e112e2c, role: issuer, state: offer_sent\n",
      "Attributes: [{'name': 'author', 'value': 'PQRXDxdGqQGSZ8z69p4xZP'}, {'name': 'origin', 'value': 'PQRXDxdGqQGSZ8z69p4xZP'}, {'name': 'owner', 'value': '8HWQruWXrv8s6BBLXm53B'}, {'name': 'time', 'value': '01-03-2023, 12:33:57'}, {'name': 'version', 'value': 'v1'}, {'name': 'name', 'value': 'balabababa music'}]\n",
      "Handle Credentials\n",
      "Credential exchange ebb434c2-ab5d-47f7-9895-0ebf37021849, role: issuer, state: request_received\n",
      "Attributes: [{'name': 'author', 'value': 'PQRXDxdGqQGSZ8z69p4xZP'}, {'name': 'origin', 'value': 'PQRXDxdGqQGSZ8z69p4xZP'}, {'name': 'owner', 'value': '8HWQruWXrv8s6BBLXm53B'}, {'name': 'time', 'value': '01-03-2023, 12:31:55'}, {'name': 'version', 'value': 'v1'}, {'name': 'name', 'value': 'balabababa music'}]\n",
      "Handle Credentials\n",
      "Credential exchange ebb434c2-ab5d-47f7-9895-0ebf37021849, role: issuer, state: credential_issued\n",
      "Attributes: [{'name': 'author', 'value': 'PQRXDxdGqQGSZ8z69p4xZP'}, {'name': 'origin', 'value': 'PQRXDxdGqQGSZ8z69p4xZP'}, {'name': 'owner', 'value': '8HWQruWXrv8s6BBLXm53B'}, {'name': 'time', 'value': '01-03-2023, 12:31:55'}, {'name': 'version', 'value': 'v1'}, {'name': 'name', 'value': 'balabababa music'}]\n"
     ]
    }
   ],
   "source": [
    "import datetime\n",
    "time = datetime.datetime.now().strftime(\"%m-%d-%Y, %H:%M:%S\")\n",
    "credential_attributes = [\n",
    "    {\"name\": \"author\", \"value\": my_did},\n",
    "    {\"name\": \"origin\", \"value\": my_did},\n",
    "    {\"name\": \"owner\", \"value\": sp_did},\n",
    "    {\"name\": \"time\", \"value\": time},\n",
    "    {\"name\": \"version\", \"value\": \"v1\"},\n",
    "    {\"name\": \"name\", \"value\": \"balabababa music\"},\n",
    "    ]\n",
    "record = await agent_controller.issuer.send_credential(music_connection, schema_id, cred_def_id, credential_attributes, auto_remove=False, trace=True)"
   ]
  },
  {
   "cell_type": "code",
   "execution_count": 35,
   "id": "a8190264",
   "metadata": {},
   "outputs": [
    {
     "name": "stdout",
     "output_type": "stream",
     "text": [
      "Credential exchange 923ab876-b172-4b22-8c84-937b5e112e2c, role: issuer, state: offer_sent\n",
      "Handle Credentials\n",
      "Credential exchange ebb434c2-ab5d-47f7-9895-0ebf37021849, role: issuer, state: credential_acked\n",
      "Attributes: [{'name': 'author', 'value': 'PQRXDxdGqQGSZ8z69p4xZP'}, {'name': 'origin', 'value': 'PQRXDxdGqQGSZ8z69p4xZP'}, {'name': 'owner', 'value': '8HWQruWXrv8s6BBLXm53B'}, {'name': 'time', 'value': '01-03-2023, 12:31:55'}, {'name': 'version', 'value': 'v1'}, {'name': 'name', 'value': 'balabababa music'}]\n"
     ]
    }
   ],
   "source": [
    "record_id = record['credential_exchange_id']\n",
    "state = record['state']\n",
    "role = record['role']\n",
    "print(f\"Credential exchange {record_id}, role: {role}, state: {state}\")"
   ]
  },
  {
   "cell_type": "markdown",
   "id": "f5e0d04b",
   "metadata": {},
   "source": [
    "## 6. switch to MUSIC"
   ]
  },
  {
   "cell_type": "markdown",
   "id": "680784d1",
   "metadata": {},
   "source": [
    "## 7. define new schema "
   ]
  },
  {
   "cell_type": "code",
   "execution_count": 36,
   "id": "bfe9b754",
   "metadata": {},
   "outputs": [],
   "source": [
    "# Define you schema name - must be unique on the ledger\n",
    "schema_name = \"possession schema\"\n",
    "# Can version the schema if you wish to update it\n",
    "schema_version = \"0.0.1\"\n",
    "# Define any list of attributes you wish to include in your schema\n",
    "attributes = [\"possession\", \"time\"]\n"
   ]
  },
  {
   "cell_type": "code",
   "execution_count": 37,
   "id": "621b04f9",
   "metadata": {},
   "outputs": [],
   "source": [
    "response = await agent_controller.schema.write_schema(schema_name, attributes, schema_version)\n",
    "schema_id = response[\"schema_id\"]\n",
    "print(schema_id)"
   ]
  },
  {
   "cell_type": "code",
   "execution_count": 38,
   "id": "baeda42b",
   "metadata": {},
   "outputs": [],
   "source": [
    "response = await agent_controller.definitions.write_cred_def(schema_id)\n",
    "\n",
    "cred_def_id = response[\"credential_definition_id\"]\n",
    "print(cred_def_id)"
   ]
  },
  {
   "cell_type": "markdown",
   "id": "4e22b893",
   "metadata": {},
   "source": [
    "## 8. issue new VC to SP"
   ]
  },
  {
   "cell_type": "code",
   "execution_count": 39,
   "id": "9a72f8ee",
   "metadata": {},
   "outputs": [
    {
     "name": "stdout",
     "output_type": "stream",
     "text": [
      "[{'name': 'possession', 'value': ''}, {'name': 'time', 'value': '01-03-2023, 12:35:32'}]\n"
     ]
    }
   ],
   "source": [
    "import datetime\n",
    "time = datetime.datetime.now().strftime(\"%m-%d-%Y, %H:%M:%S\")\n",
    "credential_attributes = [\n",
    "    {\"name\": \"possession\", \"value\": music_did},\n",
    "    {\"name\": \"time\", \"value\": time},\n",
    "]\n",
    "print(credential_attributes)"
   ]
  },
  {
   "cell_type": "markdown",
   "id": "67b55654",
   "metadata": {},
   "source": [
    "## 9. switch to SP"
   ]
  },
  {
   "cell_type": "markdown",
   "id": "84fc27cc",
   "metadata": {},
   "source": [
    "## 10."
   ]
  },
  {
   "cell_type": "code",
   "execution_count": 41,
   "id": "c6d9ed9b",
   "metadata": {},
   "outputs": [
    {
     "name": "stdout",
     "output_type": "stream",
     "text": [
      "{'state': 'offer_sent', 'auto_remove': False, 'credential_exchange_id': '4401e835-f1c6-413d-9449-7241ba0f45b0', 'updated_at': '2023-01-03 12:36:13.421797Z', 'auto_issue': True, 'role': 'issuer', 'credential_proposal_dict': {'@type': 'did:sov:BzCbsNYhMrjHiqZDTUASHg;spec/issue-credential/1.0/propose-credential', '@id': 'd6b1225a-69d0-4494-8392-103e0a5f1ead', '~trace': {'target': 'log', 'full_thread': True, 'trace_reports': []}, 'credential_proposal': {'@type': 'did:sov:BzCbsNYhMrjHiqZDTUASHg;spec/issue-credential/1.0/credential-preview', 'attributes': [{'name': 'possession', 'value': ''}, {'name': 'time', 'value': '01-03-2023, 12:35:32'}]}, 'schema_name': 'possession schema', 'schema_id': 'PQRXDxdGqQGSZ8z69p4xZP:2:possession schema:0.0.1', 'comment': '', 'schema_issuer_did': 'PQRXDxdGqQGSZ8z69p4xZP', 'issuer_did': 'PQRXDxdGqQGSZ8z69p4xZP', 'schema_version': '0.0.1', 'cred_def_id': 'PQRXDxdGqQGSZ8z69p4xZP:3:CL:14:default'}, 'initiator': 'self', 'trace': True, 'credential_offer': {'schema_id': 'PQRXDxdGqQGSZ8z69p4xZP:2:possession schema:0.0.1', 'cred_def_id': 'PQRXDxdGqQGSZ8z69p4xZP:3:CL:14:default', 'key_correctness_proof': {'c': '70662581858329131362729786052124747203906539916123779288160979049186886866855', 'xz_cap': '1228576381027227707594232913305023977128348657705698284057189454247112795931934742594717786601010087997811678355839358859948083773314721591739236973772840874632292490778585169625923066554763345482446432840369312574598045336635811390264559529693366783361314783315210854518725843560701298501297731229108462231475938848547010256457873922951188016097617324149263940830389809811162684829084953822504516989479238274733104146739018171224988251827613589265249446421570979461906779363950603591672334047871609525312784946154887757730531372482948703910829529788050983297097347093865825231524918265698259415006501425129010096485111289006222567225848199482458579301767423038754764513589848088207386194157220', 'xr_cap': [['master_secret', '627166298938143308132081244523489835633188944257956312179332384879016915697189704224280798428495264805819293286468233454512394899868413043517519691256426039364175072365974779757248242631313364431404676748176894429923392364752589329878965112707115995433130457183057151040013407544511989981561930437465141335899598629292074033544509605455071899578082402582254898315369428515478050667942358193037781293804665208165298657473884517450384460352488560266378155027584347454066843467904282788650122763553107212185393762830185348340619157897819259001305467966235390423262107365715662767354786546023624256089014317313001520095847624301903429085647646184007894249782752460091516966307335663377432500639908'], ['possession', '1557732375114234427930682699541768728094510065883762550773106682655804756897321475848885839668987713881893212107722547294597152418145619064432077952778157140530217555330512795780531564246748353371660549058888641728531792788051170058875878672044788557412107241240370954563079336227158017490055136015711368514443670757981705498118841074108989404716511933579659742415361149423412691406976154515624056302820166032137866864697572728299297001719078121041552713595225904366314986890576114374945100518070956046337674882583361163717019240338230048182994101433568745285032004026996274809169508518527339107967856933982441110235486511413462462740913874107590567748532848731786916103442504039521953383535509'], ['time', '664472239635634933182799795191724661238553179227921490156556758847739462220159424446530268053632416888763916836562395720660954189209169222222406053455742730907021832306805584493884195235575670171633048142062184905593251554194531951080900189001259624180897088325364168983090347772677008913851645627430433995091139581390268990228121577757737415983225443502451166587032579108487339856598827267317480336693697517055534040353809234376268118853162297043748648894222784803828305484442123362146778542374838804607940835039396936772647839156748476521251722709977107077994541926157089072374948576720622816715189242922712551914545030483392261143168459858407832789926085055034757230228344210229682522393155']]}, 'nonce': '666189745768702019843014'}, 'schema_id': 'PQRXDxdGqQGSZ8z69p4xZP:2:possession schema:0.0.1', 'credential_offer_dict': {'@type': 'did:sov:BzCbsNYhMrjHiqZDTUASHg;spec/issue-credential/1.0/offer-credential', '@id': 'bf53296d-0dda-4a91-826e-9388a4924ec6', '~thread': {}, '~trace': {'target': 'log', 'full_thread': True, 'trace_reports': []}, 'offers~attach': [{'@id': 'libindy-cred-offer-0', 'mime-type': 'application/json', 'data': {'base64': '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'}}], 'credential_preview': {'@type': 'did:sov:BzCbsNYhMrjHiqZDTUASHg;spec/issue-credential/1.0/credential-preview', 'attributes': [{'name': 'possession', 'value': ''}, {'name': 'time', 'value': '01-03-2023, 12:35:32'}]}, 'comment': 'create automated credential exchange'}, 'credential_definition_id': 'PQRXDxdGqQGSZ8z69p4xZP:3:CL:14:default', 'thread_id': 'bf53296d-0dda-4a91-826e-9388a4924ec6', 'auto_offer': False, 'created_at': '2023-01-03 12:36:13.421797Z', 'connection_id': 'e04213f6-b268-42b0-abc5-6279027688c2'}\n",
      "Credential exchange 4401e835-f1c6-413d-9449-7241ba0f45b0, role: issuer, state: offer_sent\n",
      "Handle Credentials\n",
      "Credential exchange 4401e835-f1c6-413d-9449-7241ba0f45b0, role: issuer, state: offer_sent\n",
      "Attributes: [{'name': 'possession', 'value': ''}, {'name': 'time', 'value': '01-03-2023, 12:35:32'}]\n",
      "Handle Credentials\n",
      "Credential exchange af923c3f-2274-4fa3-a57d-853fdd6e5762, role: issuer, state: request_received\n",
      "Attributes: [{'name': 'possession', 'value': ''}, {'name': 'time', 'value': '01-03-2023, 12:35:32'}]\n",
      "Handle Credentials\n",
      "Credential exchange af923c3f-2274-4fa3-a57d-853fdd6e5762, role: issuer, state: credential_issued\n",
      "Attributes: [{'name': 'possession', 'value': ''}, {'name': 'time', 'value': '01-03-2023, 12:35:32'}]\n",
      "Handle Credentials\n",
      "Credential exchange af923c3f-2274-4fa3-a57d-853fdd6e5762, role: issuer, state: credential_acked\n",
      "Attributes: [{'name': 'possession', 'value': ''}, {'name': 'time', 'value': '01-03-2023, 12:35:32'}]\n"
     ]
    }
   ],
   "source": [
    "record = await agent_controller.issuer.send_credential(sp_connection, schema_id, cred_def_id, credential_attributes, auto_remove=False, trace=True)\n",
    "print(record)\n",
    "record_id = record['credential_exchange_id']\n",
    "state = record['state']\n",
    "role = record['role']\n",
    "print(f\"Credential exchange {record_id}, role: {role}, state: {state}\")"
   ]
  },
  {
   "cell_type": "markdown",
   "id": "b26581c0",
   "metadata": {},
   "source": [
    "## 11. switch to SP"
   ]
  },
  {
   "cell_type": "code",
   "execution_count": 42,
   "id": "0c069424",
   "metadata": {},
   "outputs": [],
   "source": [
    "response = await agent_controller.terminate()\n",
    "print(response)"
   ]
  },
  {
   "cell_type": "code",
   "execution_count": null,
   "id": "3e3d9f7e",
   "metadata": {},
   "outputs": [],
   "source": []
  }
 ],
 "metadata": {
  "kernelspec": {
   "display_name": "Python 3 (ipykernel)",
   "language": "python",
   "name": "python3"
  },
  "language_info": {
   "codemirror_mode": {
    "name": "ipython",
    "version": 3
   },
   "file_extension": ".py",
   "mimetype": "text/x-python",
   "name": "python",
   "nbconvert_exporter": "python",
   "pygments_lexer": "ipython3",
   "version": "3.10.8"
  },
  "vscode": {
   "interpreter": {
    "hash": "b0fa6594d8f4cbf19f97940f81e996739fb7646882a419484c72d19e05852a7e"
   }
  }
 },
 "nbformat": 4,
 "nbformat_minor": 5
}
