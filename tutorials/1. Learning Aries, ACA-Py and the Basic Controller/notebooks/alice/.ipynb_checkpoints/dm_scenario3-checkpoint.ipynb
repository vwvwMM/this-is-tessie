{
 "cells": [
  {
   "cell_type": "markdown",
   "id": "ec17a825",
   "metadata": {},
   "source": [
    "# 二創 Scenario"
   ]
  },
  {
   "cell_type": "markdown",
   "id": "ef74fdff",
   "metadata": {},
   "source": [
    "## 1. Initialize agent"
   ]
  },
  {
   "cell_type": "code",
   "execution_count": null,
   "id": "79f16809",
   "metadata": {},
   "outputs": [],
   "source": [
    "%autoawait\n",
    "import time\n",
    "import asyncio\n",
    "from aries_basic_controller.aries_controller import AriesAgentController\n",
    "    \n",
    "WEBHOOK_HOST = \"0.0.0.0\"\n",
    "WEBHOOK_PORT = 8022\n",
    "WEBHOOK_BASE = \"\"\n",
    "ADMIN_URL = \"http://alice-agent:8021\"\n",
    "\n",
    "# WARNING: You should use environment variables for this\n",
    "# TODO: Make env variables accessible through juypter notebooks\n",
    "API_KEY = \"alice_api_123456789\"\n",
    "\n",
    "# Based on the aca-py agent you wish to control\n",
    "agent_controller = AriesAgentController(admin_url=ADMIN_URL, api_key=API_KEY)\n",
    "\n",
    "agent_controller.init_webhook_server(webhook_host=WEBHOOK_HOST, \n",
    "                                     webhook_port=WEBHOOK_PORT,\n",
    "                                     webhook_base=WEBHOOK_BASE)"
   ]
  },
  {
   "cell_type": "markdown",
   "id": "d8accdf4",
   "metadata": {
    "tags": []
   },
   "source": [
    "## 2. DID exchange "
   ]
  },
  {
   "cell_type": "markdown",
   "id": "370fb2ed",
   "metadata": {},
   "source": [
    "### Build DM-SP connection"
   ]
  },
  {
   "cell_type": "code",
   "execution_count": null,
   "id": "bd70f77d",
   "metadata": {},
   "outputs": [],
   "source": [
    "# Create Invitation\n",
    "invite = await agent_controller.connections.create_invitation()\n",
    "connection_id = invite[\"connection_id\"]\n",
    "invite_message = invite['invitation']\n",
    "print(\"Connection ID\", connection_id)\n",
    "print(\"#######################\")\n",
    "print(\"Invitation - Copy this!!\")\n",
    "print(invite_message)"
   ]
  },
  {
   "cell_type": "markdown",
   "id": "40f0a3bc",
   "metadata": {},
   "source": [
    "### > Break here - switch to SP to receive invitation <"
   ]
  },
  {
   "cell_type": "code",
   "execution_count": null,
   "id": "7f9a0514",
   "metadata": {},
   "outputs": [],
   "source": [
    "# Accept Request for Invite created\n",
    "connection = await agent_controller.connections.accept_request(connection_id)\n",
    "print(\"ACCEPT REQUEST\")\n",
    "print(connection)\n",
    "print(\"state\", connection[\"state\"])"
   ]
  },
  {
   "cell_type": "code",
   "execution_count": null,
   "id": "9d12ea3c",
   "metadata": {},
   "outputs": [],
   "source": [
    "trust_ping = await agent_controller.messaging.trust_ping(connection_id, \"hello\")\n",
    "print(\"Trust Ping\", trust_ping)"
   ]
  },
  {
   "cell_type": "code",
   "execution_count": null,
   "id": "5f08493a",
   "metadata": {},
   "outputs": [],
   "source": [
    "#####################\n",
    "# get SP connection #\n",
    "#####################\n",
    "\n",
    "connection = await agent_controller.connections.get_connection(connection_id)\n",
    "print(connection)\n",
    "print(\"Is Active?\", connection[\"state\"])\n",
    "sp_connection = connection[\"connection_id\"]\n",
    "print(sp_connection)"
   ]
  },
  {
   "cell_type": "markdown",
   "id": "aa16bea4",
   "metadata": {},
   "source": [
    "------"
   ]
  },
  {
   "cell_type": "markdown",
   "id": "41937f2a",
   "metadata": {},
   "source": [
    "### Build DM-MUSIC connection"
   ]
  },
  {
   "cell_type": "code",
   "execution_count": null,
   "id": "04cc228e",
   "metadata": {},
   "outputs": [],
   "source": [
    "# Create Invitation\n",
    "invite = await agent_controller.connections.create_invitation()\n",
    "connection_id = invite[\"connection_id\"]\n",
    "invite_message = invite['invitation']\n",
    "print(\"Connection ID\", connection_id)\n",
    "print(\"#######################\")\n",
    "print(\"Invitation - Copy this!!\")\n",
    "print(invite_message)"
   ]
  },
  {
   "cell_type": "markdown",
   "id": "986bd643",
   "metadata": {},
   "source": [
    "### > Break here - switch to MUSIC to receive invitation <"
   ]
  },
  {
   "cell_type": "code",
   "execution_count": null,
   "id": "77640a24",
   "metadata": {},
   "outputs": [],
   "source": [
    "# Accept Request for Invite created\n",
    "connection = await agent_controller.connections.accept_request(connection_id)\n",
    "print(\"ACCEPT REQUEST\")\n",
    "print(connection)\n",
    "print(\"state\", connection[\"state\"])"
   ]
  },
  {
   "cell_type": "code",
   "execution_count": null,
   "id": "6ba5ad7e",
   "metadata": {},
   "outputs": [],
   "source": [
    "trust_ping = await agent_controller.messaging.trust_ping(connection_id, \"hello\")\n",
    "print(\"Trust Ping\", trust_ping)"
   ]
  },
  {
   "cell_type": "code",
   "execution_count": null,
   "id": "71ffab3a",
   "metadata": {},
   "outputs": [],
   "source": [
    "#####################\n",
    "# get MUSIC connection #\n",
    "#####################\n",
    "\n",
    "connection = await agent_controller.connections.get_connection(connection_id)\n",
    "print(connection)\n",
    "print(\"Is Active?\", connection[\"state\"])\n",
    "music_connection = connection[\"connection_id\"]\n",
    "print(music_connection)"
   ]
  },
  {
   "cell_type": "markdown",
   "id": "343aebae",
   "metadata": {},
   "source": [
    "### **Build listener for DID exchange**"
   ]
  },
  {
   "cell_type": "code",
   "execution_count": null,
   "id": "9b27c387",
   "metadata": {},
   "outputs": [],
   "source": [
    "my_did = await agent_controller.wallet.get_public_did()\n",
    "my_did = my_did['result']['did']\n",
    "print(\"my DID\", my_did)\n",
    "sp_did = 'None'\n",
    "music_did = 'None'\n",
    "\n",
    "def messages_handler(payload):\n",
    "    global sp_did\n",
    "    global music_did\n",
    "    connection_id = payload[\"connection_id\"]\n",
    "    did = payload[\"content\"]\n",
    "    if did[:3] == 'sp_':\n",
    "        sp_did = did[3:]\n",
    "        print('sp_did', sp_did)\n",
    "    else:\n",
    "        music_did = did[6:]\n",
    "        print('music_did', music_did)\n",
    "        \n",
    "    asyncio.get_event_loop().create_task(agent_controller.messaging.send_message(connection_id, my_did))\n",
    "    print(\"Handle message\", payload, connection_id)\n",
    "    \n",
    "def connection_handler(payload):\n",
    "    print(\"Connection Handler Called\")\n",
    "    connection_id = payload[\"connection_id\"]\n",
    "    state = payload[\"state\"]\n",
    "    print(f\"Connection {connection_id} in State {state}\")\n",
    "    \n",
    "    \n",
    "    \n",
    "connection_listener = {\n",
    "    \"handler\": connection_handler,\n",
    "    \"topic\": \"connections\"\n",
    "}\n",
    "message_listener = {\n",
    "    \"handler\": messages_handler,\n",
    "    \"topic\": \"basicmessages\"\n",
    "}\n",
    "\n",
    "loop = asyncio.get_event_loop()\n",
    "loop.create_task(agent_controller.listen_webhooks())\n",
    "\n",
    "agent_controller.register_listeners([message_listener, connection_listener], defaults=False)"
   ]
  },
  {
   "cell_type": "code",
   "execution_count": null,
   "id": "4f9132cb",
   "metadata": {},
   "outputs": [],
   "source": [
    "print(music_did)\n",
    "print(sp_did)"
   ]
  },
  {
   "cell_type": "markdown",
   "id": "b7be1d14",
   "metadata": {},
   "source": [
    "## 4. Give SP the VC of re-create right - DM\n",
    "Scenario:     \n",
    "When SP pay for the re-create right, the SP can show DM the certificate.     \n",
    "On receiving the certificate, the DM will give SP the VC, so that the Music platform will recognize the VC and allow it to put VC on the platform\n"
   ]
  },
  {
   "cell_type": "markdown",
   "id": "b9accfa7",
   "metadata": {},
   "source": [
    "### SP (re-creater) re-creates the song, this is the info of the song it recreates on (These information is fetched from 3. in SP)"
   ]
  },
  {
   "cell_type": "code",
   "execution_count": null,
   "id": "b09f988c",
   "metadata": {},
   "outputs": [],
   "source": [
    "target_song = \"F4zojhjnUqDAAzYsdpqmtQ\"\n",
    "origin = \"PQRXDxdGqQGSZ8z69p4xZP\""
   ]
  },
  {
   "cell_type": "markdown",
   "id": "165dcd06",
   "metadata": {},
   "source": [
    "### Write Ownership"
   ]
  },
  {
   "cell_type": "code",
   "execution_count": null,
   "id": "1f52bf03",
   "metadata": {},
   "outputs": [],
   "source": [
    "# Define you schema name - must be unique on the ledger\n",
    "schema_name = \"recreate_schema\"\n",
    "# Can version the schema if you wish to update it\n",
    "schema_version = \"0.0.1\"\n",
    "# Define any list of attributes you wish to include in your schema\n",
    "attributes = [\"origin\", \"target\", \"time\", \"owner\"]\n",
    "\n",
    "# Write schema to ledger\n",
    "response = await agent_controller.schema.write_schema(schema_name, attributes, schema_version)\n",
    "schema_id = response[\"schema_id\"]\n",
    "print(schema_id)\n",
    "\n",
    "# Write cred. def.\n",
    "response = await agent_controller.definitions.write_cred_def(schema_id)\n",
    "cred_def_id = response[\"credential_definition_id\"]\n",
    "print(cred_def_id)\n",
    "\n",
    "\n"
   ]
  },
  {
   "cell_type": "markdown",
   "id": "538dfad0",
   "metadata": {},
   "source": [
    "### Write VC"
   ]
  },
  {
   "cell_type": "code",
   "execution_count": null,
   "id": "8d14be19",
   "metadata": {},
   "outputs": [],
   "source": [
    "# Get nym \n",
    "nym = await agent_controller.wallet.get_public_did()\n",
    "print(nym[\"result\"][\"did\"])\n",
    "\n",
    "# get schema id\n",
    "created_schema = await agent_controller.schema.get_created_schema(schema_issuer_did='PQRXDxdGqQGSZ8z69p4xZP')\n",
    "print(created_schema)\n",
    "schema_id = created_schema[\"schema_ids\"][0]"
   ]
  },
  {
   "cell_type": "code",
   "execution_count": null,
   "id": "59aac15f",
   "metadata": {},
   "outputs": [],
   "source": [
    "# get cred_def_id\n",
    "definitions = await agent_controller.definitions.search_created(schema_id=schema_id)\n",
    "print(definitions[\"credential_definition_ids\"])\n",
    "cred_def_id = definitions[\"credential_definition_ids\"][0]"
   ]
  },
  {
   "cell_type": "code",
   "execution_count": null,
   "id": "d4528c88",
   "metadata": {},
   "outputs": [],
   "source": [
    "response = await agent_controller.connections.get_connections()\n",
    "results = response['results']\n",
    "print(len(results))\n",
    "# print(\"Results : \", results)\n",
    "if len(results) > 0:\n",
    "    connection = response['results']\n",
    "    for con in connection:\n",
    "        print(\"Connection :\", con)\n",
    "        if con['state'] == 'active' and con[\"their_label\"] == \"Carol\":        \n",
    "            connection_id = con[\"connection_id\"]\n",
    "            print(\"Active Connection ID : \", connection_id)\n",
    "        else: print(\"Inactive Connection ID: \", con[\"connection_id\"], \"with state: \", con[\"state\"])\n",
    "else:\n",
    "    print(\"You must create a connection\")"
   ]
  },
  {
   "cell_type": "code",
   "execution_count": null,
   "id": "24ea9aff",
   "metadata": {},
   "outputs": [],
   "source": [
    "import datetime\n",
    "time = datetime.datetime.now().strftime(\"%m-%d-%Y, %H:%M:%S\")\n",
    "credential_attributes = [\n",
    "    {\"name\": \"target\", \"value\": target_song},\n",
    "    {\"name\": \"time\", \"value\": time},\n",
    "    {\"name\": \"origin\", \"value\": origin},\n",
    "    {\"name\": \"owner\", \"value\": sp_did},\n",
    "]\n",
    "print(credential_attributes)\n",
    "\n",
    "\n",
    "# send credential\n",
    "record = await agent_controller.issuer.send_credential(connection_id, schema_id, cred_def_id, credential_attributes, auto_remove=False, trace=True)\n",
    "record_id = record['credential_exchange_id']\n",
    "state = record['state']\n",
    "role = record['role']\n",
    "print(f\"Credential exchange {record_id}, role: {role}, state: {state}\")"
   ]
  },
  {
   "cell_type": "markdown",
   "id": "8247c1fd",
   "metadata": {},
   "source": [
    "### > Break: Go to SP for credential exchange <"
   ]
  },
  {
   "cell_type": "markdown",
   "id": "772fa1c1",
   "metadata": {},
   "source": [
    "### Get records"
   ]
  },
  {
   "cell_type": "code",
   "execution_count": null,
   "id": "004aa974",
   "metadata": {},
   "outputs": [],
   "source": [
    "response = await agent_controller.issuer.get_records()\n",
    "print(response['results'])\n",
    "cred_record = await agent_controller.issuer.get_record_by_id(record_id)\n",
    "state = cred_record['state']\n",
    "role = cred_record['role']\n",
    "print(f\"Credential exchange {record_id}, role: {role}, state: {state}\")"
   ]
  },
  {
   "cell_type": "code",
   "execution_count": null,
   "id": "86648db7",
   "metadata": {},
   "outputs": [],
   "source": [
    "## Remove records\n",
    "response = await agent_controller.issuer.remove_record(record_id)\n",
    "print(response)"
   ]
  },
  {
   "cell_type": "markdown",
   "id": "fcbfbd2f",
   "metadata": {},
   "source": [
    "# Terminate Agent"
   ]
  },
  {
   "cell_type": "code",
   "execution_count": null,
   "id": "b4de352d",
   "metadata": {},
   "outputs": [],
   "source": [
    "response = await agent_controller.terminate()\n",
    "print(response)"
   ]
  },
  {
   "cell_type": "code",
   "execution_count": null,
   "id": "0ac063b9",
   "metadata": {},
   "outputs": [],
   "source": []
  }
 ],
 "metadata": {
  "kernelspec": {
   "display_name": "Python 3 (ipykernel)",
   "language": "python",
   "name": "python3"
  },
  "language_info": {
   "codemirror_mode": {
    "name": "ipython",
    "version": 3
   },
   "file_extension": ".py",
   "mimetype": "text/x-python",
   "name": "python",
   "nbconvert_exporter": "python",
   "pygments_lexer": "ipython3",
   "version": "3.10.8"
  }
 },
 "nbformat": 4,
 "nbformat_minor": 5
}
