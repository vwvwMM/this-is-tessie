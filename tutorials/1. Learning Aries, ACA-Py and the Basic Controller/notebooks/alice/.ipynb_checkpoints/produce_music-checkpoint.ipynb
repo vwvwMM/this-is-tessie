{
 "cells": [
  {
   "cell_type": "markdown",
   "id": "317a3942",
   "metadata": {},
   "source": [
    "# DM (device manufacturer) connects to music (device) and assign them ownership - DM"
   ]
  },
  {
   "cell_type": "markdown",
   "id": "39a24991",
   "metadata": {},
   "source": [
    "## 1. Create Invitation from agent"
   ]
  },
  {
   "cell_type": "code",
   "execution_count": null,
   "id": "6ed5307d",
   "metadata": {},
   "outputs": [],
   "source": [
    "%autoawait\n",
    "import time\n",
    "import asyncio\n",
    "from aries_basic_controller.aries_controller import AriesAgentController\n",
    "    \n",
    "WEBHOOK_HOST = \"0.0.0.0\"\n",
    "WEBHOOK_PORT = 8022\n",
    "WEBHOOK_BASE = \"\"\n",
    "ADMIN_URL = \"http://alice-agent:8021\"\n",
    "\n",
    "# WARNING: You should use environment variables for this\n",
    "# TODO: Make env variables accessible through juypter notebooks\n",
    "API_KEY = \"alice_api_123456789\"\n",
    "\n",
    "# Based on the aca-py agent you wish to control\n",
    "agent_controller = AriesAgentController(admin_url=ADMIN_URL, api_key=API_KEY)\n",
    "agent_controller.init_webhook_server(webhook_host=WEBHOOK_HOST, \n",
    "                                     webhook_port=WEBHOOK_PORT,\n",
    "                                     webhook_base=WEBHOOK_BASE)\n",
    "\n",
    "loop = asyncio.get_event_loop()\n",
    "loop.create_task(agent_controller.listen_webhooks())\n",
    "\n",
    "def connection_handler(payload):\n",
    "    print(\"Connection Handler Called\")\n",
    "    connection_id = payload[\"connection_id\"]\n",
    "    state = payload[\"state\"]\n",
    "    print(f\"Connection {connection_id} in State {state}\")\n",
    "    \n",
    "connection_listener = {\n",
    "    \"handler\": connection_handler,\n",
    "    \"topic\": \"connections\"\n",
    "}\n",
    "\n",
    "agent_controller.register_listeners([connection_listener], defaults=True)\n"
   ]
  },
  {
   "cell_type": "markdown",
   "id": "0cf0474e",
   "metadata": {},
   "source": [
    "## 2. Create invitation"
   ]
  },
  {
   "cell_type": "code",
   "execution_count": null,
   "id": "5edbc711",
   "metadata": {},
   "outputs": [],
   "source": [
    "# Create Invitation\n",
    "invite = await agent_controller.connections.create_invitation()\n",
    "connection_id = invite[\"connection_id\"]\n",
    "invite_message = invite['invitation']\n",
    "print(\"Connection ID\", connection_id)\n",
    "print(\"Invitation\")\n",
    "print(invite_message)"
   ]
  },
  {
   "cell_type": "markdown",
   "id": "93778456",
   "metadata": {},
   "source": [
    "## 4. Accept Request - Recipient first!!!!!"
   ]
  },
  {
   "cell_type": "code",
   "execution_count": null,
   "id": "e8b4beb8",
   "metadata": {},
   "outputs": [],
   "source": [
    "# Accept Request for Invite created\n",
    "connection = await agent_controller.connections.accept_request(connection_id)\n",
    "print(\"ACCEPT REQUEST\")\n",
    "print(connection)\n",
    "print(\"state\", connection[\"state\"])"
   ]
  },
  {
   "cell_type": "code",
   "execution_count": null,
   "id": "2cb63164",
   "metadata": {},
   "outputs": [],
   "source": [
    "trust_ping = await agent_controller.messaging.trust_ping(connection_id, \"hello\")\n",
    "print(\"Trust Ping\", trust_ping)\n",
    "\n",
    "connection = await agent_controller.connections.get_connection(connection_id)\n",
    "print(connection)\n",
    "print(\"Is Active?\", connection[\"state\"])\n",
    "connection_id = connection[\"connection_id\"]"
   ]
  },
  {
   "cell_type": "code",
   "execution_count": null,
   "id": "df128704",
   "metadata": {},
   "outputs": [],
   "source": [
    "response = await agent_controller.terminate()\n",
    "print(response)"
   ]
  },
  {
   "cell_type": "markdown",
   "id": "a46d2bb9",
   "metadata": {},
   "source": [
    "# Give MUSIC the VC of ownership and origin - DM"
   ]
  },
  {
   "cell_type": "markdown",
   "id": "f86c8f51",
   "metadata": {},
   "source": [
    "## 1. Write Ownership schema"
   ]
  },
  {
   "cell_type": "code",
   "execution_count": null,
   "id": "c843f0c4",
   "metadata": {},
   "outputs": [],
   "source": [
    "response = await agent_controller.wallet.create_did()\n",
    "print(response)\n",
    "music_did = response[\"result\"][\"did\"]\n",
    "verkey = response[\"result\"][\"verkey\"]\n",
    "\n",
    "# Define you schema name - must be unique on the ledger\n",
    "schema_name = \"ownership_schema\"\n",
    "# Can version the schema if you wish to update it\n",
    "schema_version = \"0.0.1\"\n",
    "# Define any list of attributes you wish to include in your schema\n",
    "attributes = [\"origin\", \"music\", \"time\", \"version\", \"author\", \"owner\"]\n",
    "\n",
    "# Write schema to ledger\n",
    "response = await agent_controller.schema.write_schema(schema_name, attributes, schema_version)\n",
    "schema_id = response[\"schema_id\"]\n",
    "print(schema_id)\n",
    "\n",
    "# Write cred. def.\n",
    "response = await agent_controller.definitions.write_cred_def(schema_id)\n",
    "cred_def_id = response[\"credential_definition_id\"]\n",
    "print(cred_def_id)\n",
    "\n",
    "\n",
    "# # Update schema\n",
    "# attributes = [\"author\", \"name\", \"time\", \"is_original\", \"type\"]\n",
    "# schema_version = \"0.0.2\"\n",
    "# response = await agent_controller.schema.write_schema(schema_name, attributes, schema_version)\n",
    "# updated_schema_id = response[\"schema_id\"]\n",
    "# print(updated_schema_id)\n",
    "\n",
    "# # Write another Credential Definition for the Updated Schema\n",
    "# response = await agent_controller.definitions.write_cred_def(updated_schema_id, support_revocation=True)\n",
    "# updated_cred_def_id = response[\"credential_definition_id\"]\n",
    "# print(updated_cred_def_id)"
   ]
  },
  {
   "cell_type": "markdown",
   "id": "b232d1e1",
   "metadata": {},
   "source": [
    "## 2. Write VC"
   ]
  },
  {
   "cell_type": "code",
   "execution_count": null,
   "id": "f3d7c63f",
   "metadata": {},
   "outputs": [],
   "source": [
    "nym = await agent_controller.wallet.get_public_did()\n",
    "print(nym[\"result\"][\"did\"])\n",
    "created_schema = await agent_controller.schema.get_created_schema(schema_issuer_did='PQRXDxdGqQGSZ8z69p4xZP')\n",
    "print(created_schema)\n",
    "schema_id = created_schema[\"schema_ids\"][-1]"
   ]
  },
  {
   "cell_type": "code",
   "execution_count": null,
   "id": "aac4fcfa",
   "metadata": {},
   "outputs": [],
   "source": [
    "definitions = await agent_controller.definitions.search_created(schema_id=schema_id)\n",
    "print(definitions[\"credential_definition_ids\"])\n",
    "cred_def_id = definitions[\"credential_definition_ids\"][-1]"
   ]
  },
  {
   "cell_type": "code",
   "execution_count": null,
   "id": "d529fced",
   "metadata": {},
   "outputs": [],
   "source": [
    "response = await agent_controller.connections.get_connections()\n",
    "results = response['results']\n",
    "print(len(results))\n",
    "# print(\"Results : \", results)\n",
    "if len(results) > 0:\n",
    "    connection = response['results']\n",
    "    for con in connection:\n",
    "        print(\"Connection :\", con)\n",
    "        if con['state'] == 'active':       \n",
    "            connection_id = con[\"connection_id\"]\n",
    "            print(\"Active Connection ID : \", connection_id)\n",
    "        else: print(\"Inactive Connection ID: \", con[\"connection_id\"], \"with state: \", con[\"state\"])\n",
    "else:\n",
    "    print(\"You must create a connection\")"
   ]
  },
  {
   "cell_type": "code",
   "execution_count": null,
   "id": "7659de09",
   "metadata": {},
   "outputs": [],
   "source": [
    "import datetime\n",
    "time = datetime.datetime.now().strftime(\"%m-%d-%Y, %H:%M:%S\")\n",
    "credential_attributes = [\n",
    "    {\"name\": \"author\", \"value\": nym[\"result\"][\"did\"]},\n",
    "    {\"name\": \"music\", \"value\": music_did},\n",
    "    {\"name\": \"time\", \"value\": time},\n",
    "    {\"name\": \"origin\", \"value\": nym[\"result\"][\"did\"]},\n",
    "    {\"name\": \"owner\", \"value\": nym[\"result\"][\"did\"]},\n",
    "    {\"name\": \"version\", \"value\": \"v1\"}\n",
    "]\n",
    "print(credential_attributes)\n",
    "\n",
    "\n",
    "# send credential\n",
    "record = await agent_controller.issuer.send_credential(connection_id, schema_id, cred_def_id, credential_attributes, auto_remove=False, trace=True)\n",
    "record_id = record['credential_exchange_id']\n",
    "state = record['state']\n",
    "role = record['role']\n",
    "print(f\"Credential exchange {record_id}, role: {role}, state: {state}\")"
   ]
  },
  {
   "cell_type": "markdown",
   "id": "e6dad4f4",
   "metadata": {},
   "source": [
    "## 4. Wait for credential exchange"
   ]
  },
  {
   "cell_type": "code",
   "execution_count": null,
   "id": "9a1911c2",
   "metadata": {},
   "outputs": [],
   "source": [
    "response = await agent_controller.issuer.get_records()\n",
    "print(response['results'])\n",
    "cred_record = await agent_controller.issuer.get_record_by_id(record_id)\n",
    "state = cred_record['state']\n",
    "role = cred_record['role']\n",
    "print(f\"Credential exchange {record_id}, role: {role}, state: {state}\")"
   ]
  },
  {
   "cell_type": "code",
   "execution_count": null,
   "id": "0849f126",
   "metadata": {},
   "outputs": [],
   "source": [
    "## Remove records\n",
    "response = await agent_controller.issuer.remove_record(record_id)\n",
    "print(response)"
   ]
  },
  {
   "cell_type": "code",
   "execution_count": null,
   "id": "7c99f5c2",
   "metadata": {},
   "outputs": [],
   "source": [
    "response = await agent_controller.terminate()\n",
    "print(response)"
   ]
  },
  {
   "cell_type": "code",
   "execution_count": null,
   "id": "9a5306cf",
   "metadata": {},
   "outputs": [],
   "source": []
  }
 ],
 "metadata": {
  "kernelspec": {
   "display_name": "Python 3 (ipykernel)",
   "language": "python",
   "name": "python3"
  },
  "language_info": {
   "codemirror_mode": {
    "name": "ipython",
    "version": 3
   },
   "file_extension": ".py",
   "mimetype": "text/x-python",
   "name": "python",
   "nbconvert_exporter": "python",
   "pygments_lexer": "ipython3",
   "version": "3.10.8"
  }
 },
 "nbformat": 4,
 "nbformat_minor": 5
}
