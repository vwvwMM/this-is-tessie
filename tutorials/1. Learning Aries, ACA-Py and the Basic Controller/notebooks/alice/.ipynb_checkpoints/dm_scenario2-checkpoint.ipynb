{
 "cells": [
  {
   "cell_type": "code",
   "execution_count": null,
   "id": "1e8722e5",
   "metadata": {},
   "outputs": [],
   "source": []
  },
  {
   "cell_type": "code",
   "execution_count": null,
   "id": "ec2b8f22",
   "metadata": {},
   "outputs": [],
   "source": [
    "%autoawait\n",
    "import time\n",
    "import asyncio"
   ]
  },
  {
   "cell_type": "code",
   "execution_count": null,
   "id": "e287ebc7",
   "metadata": {},
   "outputs": [],
   "source": [
    "from aries_basic_controller.aries_controller import AriesAgentController\n",
    "    \n",
    "WEBHOOK_HOST = \"0.0.0.0\"\n",
    "WEBHOOK_PORT = 8022\n",
    "WEBHOOK_BASE = \"\"\n",
    "ADMIN_URL = \"http://alice-agent:8021\"\n",
    "\n",
    "# WARNING: You should use environment variables for this\n",
    "# TODO: Make env variables accessible through juypter notebooks\n",
    "API_KEY = \"alice_api_123456789\"\n",
    "\n",
    "# Based on the aca-py agent you wish to control\n",
    "agent_controller = AriesAgentController(admin_url=ADMIN_URL, api_key=API_KEY)\n"
   ]
  },
  {
   "cell_type": "code",
   "execution_count": null,
   "id": "a1274129",
   "metadata": {},
   "outputs": [],
   "source": [
    "agent_controller.init_webhook_server(webhook_host=WEBHOOK_HOST, \n",
    "                                     webhook_port=WEBHOOK_PORT,\n",
    "                                     webhook_base=WEBHOOK_BASE)"
   ]
  },
  {
   "cell_type": "markdown",
   "id": "ade24e32",
   "metadata": {},
   "source": [
    "## 1. connect to SP"
   ]
  },
  {
   "cell_type": "code",
   "execution_count": null,
   "id": "3cb75c8b",
   "metadata": {},
   "outputs": [],
   "source": [
    "\n",
    "loop = asyncio.get_event_loop()\n",
    "loop.create_task(agent_controller.listen_webhooks())\n",
    "\n",
    "def connection_handler(payload):\n",
    "    print(\"Connection Handler Called\")\n",
    "    connection_id = payload[\"connection_id\"]\n",
    "    state = payload[\"state\"]\n",
    "    print(f\"Connection {connection_id} in State {state}\")\n",
    "    \n",
    "connection_listener = {\n",
    "    \"handler\": connection_handler,\n",
    "    \"topic\": \"connections\"\n",
    "}\n",
    "\n",
    "agent_controller.register_listeners([connection_listener], defaults=True)"
   ]
  },
  {
   "cell_type": "code",
   "execution_count": null,
   "id": "f19c9ab4",
   "metadata": {},
   "outputs": [],
   "source": [
    "# Create Invitation\n",
    "invite = await agent_controller.connections.create_invitation()\n",
    "connection_id = invite[\"connection_id\"]\n",
    "invite_message = invite['invitation']\n",
    "print(\"Connection ID\", connection_id)\n",
    "print(\"Invitation\")\n",
    "print(invite_message)"
   ]
  },
  {
   "cell_type": "markdown",
   "id": "81690f8a",
   "metadata": {},
   "source": [
    "### switch to SP "
   ]
  },
  {
   "cell_type": "code",
   "execution_count": null,
   "id": "1fdc2d09",
   "metadata": {},
   "outputs": [],
   "source": [
    "# Accept Request for Invite created\n",
    "connection = await agent_controller.connections.accept_request(connection_id)\n",
    "print(\"ACCEPT REQUEST\")\n",
    "print(connection)\n",
    "print(\"state\", connection[\"state\"])"
   ]
  },
  {
   "cell_type": "code",
   "execution_count": null,
   "id": "b6b96721",
   "metadata": {},
   "outputs": [],
   "source": [
    "trust_ping = await agent_controller.messaging.trust_ping(connection_id, \"hello\")\n",
    "print(\"Trust Ping\", trust_ping)"
   ]
  },
  {
   "cell_type": "code",
   "execution_count": null,
   "id": "6e939252",
   "metadata": {},
   "outputs": [],
   "source": [
    "connection = await agent_controller.connections.get_connection(connection_id)\n",
    "print(connection)\n",
    "print(\"Is Active?\", connection[\"state\"])\n",
    "sp_connection = connection[\"connection_id\"]\n",
    "print(sp_connection)"
   ]
  },
  {
   "cell_type": "code",
   "execution_count": null,
   "id": "33bcdb84",
   "metadata": {},
   "outputs": [],
   "source": [
    "# sp_connection = 'e6557bae-b92b-4ad7-8c55-b91d496f6ce1'"
   ]
  },
  {
   "cell_type": "code",
   "execution_count": null,
   "id": "8b0c0673",
   "metadata": {},
   "outputs": [],
   "source": [
    "response = await agent_controller.connections.get_connections()\n",
    "print(response)"
   ]
  },
  {
   "cell_type": "code",
   "execution_count": null,
   "id": "f591b9e6",
   "metadata": {},
   "outputs": [],
   "source": [
    "response = await agent_controller.connections.remove_connection('031f3c7c-1b71-49b8-aded-1fd8bea8f3d8')"
   ]
  },
  {
   "cell_type": "markdown",
   "id": "12fd666c",
   "metadata": {},
   "source": [
    "## 6. connect to MUSIC"
   ]
  },
  {
   "cell_type": "code",
   "execution_count": null,
   "id": "0dbde8b3",
   "metadata": {},
   "outputs": [],
   "source": [
    "# Create Invitation\n",
    "invite = await agent_controller.connections.create_invitation()\n",
    "connection_id = invite[\"connection_id\"]\n",
    "invite_message = invite['invitation']\n",
    "print(\"Connection ID\", connection_id)\n",
    "print(\"Invitation\")\n",
    "print(invite_message)"
   ]
  },
  {
   "cell_type": "markdown",
   "id": "1d20d3c5",
   "metadata": {},
   "source": [
    "### switch to MUSIC"
   ]
  },
  {
   "cell_type": "code",
   "execution_count": null,
   "id": "00c0e556",
   "metadata": {},
   "outputs": [],
   "source": [
    "# Accept Request for Invite created\n",
    "connection = await agent_controller.connections.accept_request(connection_id)\n",
    "print(\"ACCEPT REQUEST\")\n",
    "print(connection)\n",
    "print(\"state\", connection[\"state\"])"
   ]
  },
  {
   "cell_type": "code",
   "execution_count": null,
   "id": "d314446b",
   "metadata": {},
   "outputs": [],
   "source": [
    "trust_ping = await agent_controller.messaging.trust_ping(connection_id, \"hello\")\n",
    "print(\"Trust Ping\", trust_ping)"
   ]
  },
  {
   "cell_type": "code",
   "execution_count": null,
   "id": "9ae5170f",
   "metadata": {},
   "outputs": [],
   "source": [
    "connection = await agent_controller.connections.get_connection(connection_id)\n",
    "print(connection)\n",
    "print(\"Is Active?\", connection[\"state\"])\n",
    "music_connection = connection[\"connection_id\"]\n",
    "print(music_connection)"
   ]
  },
  {
   "cell_type": "markdown",
   "id": "bb7d95dc",
   "metadata": {},
   "source": [
    "## 7. exchange DID with SP and MUSIC"
   ]
  },
  {
   "cell_type": "code",
   "execution_count": null,
   "id": "a1ecb533",
   "metadata": {
    "tags": []
   },
   "outputs": [],
   "source": [
    "my_did = await agent_controller.wallet.get_public_did()\n",
    "my_did = my_did['result']['did']\n",
    "print(\"my DID\", my_did)\n",
    "sp_did = 'None'\n",
    "music_did = 'None'"
   ]
  },
  {
   "cell_type": "code",
   "execution_count": null,
   "id": "5dcbcb23",
   "metadata": {},
   "outputs": [],
   "source": [
    "def messages_handler(payload):\n",
    "    global sp_did\n",
    "    global music_did\n",
    "    connection_id = payload[\"connection_id\"]\n",
    "    did = payload[\"content\"]\n",
    "    if did[:3] == 'sp_':\n",
    "        sp_did = did[4:]\n",
    "        print('sp_did', sp_did)\n",
    "    else:\n",
    "        music_did = did[6:]\n",
    "        print('music_did', music_did)\n",
    "        \n",
    "    asyncio.get_event_loop().create_task(agent_controller.messaging.send_message(connection_id, my_did))\n",
    "    print(\"Handle message\", payload, connection_id)\n",
    "    \n",
    "    \n",
    "    \n",
    "\n",
    "message_listener = {\n",
    "    \"handler\": messages_handler,\n",
    "    \"topic\": \"basicmessages\"\n",
    "}\n",
    "\n",
    "loop = asyncio.get_event_loop()\n",
    "loop.create_task(agent_controller.listen_webhooks())\n",
    "\n",
    "agent_controller.register_listeners([message_listener], defaults=True)"
   ]
  },
  {
   "cell_type": "code",
   "execution_count": null,
   "id": "21e183fd",
   "metadata": {},
   "outputs": [],
   "source": [
    "# message = my_did\n",
    "# response = await agent_controller.messaging.send_message(music_connection, message)\n",
    "# print(response)"
   ]
  },
  {
   "cell_type": "markdown",
   "id": "cd371d51",
   "metadata": {},
   "source": [
    "## issue new VC to MUSIC and SP"
   ]
  },
  {
   "cell_type": "code",
   "execution_count": null,
   "id": "aef62403",
   "metadata": {},
   "outputs": [],
   "source": [
    "agent_controller.remove_all_listeners(\"basicmessages\")"
   ]
  },
  {
   "cell_type": "code",
   "execution_count": null,
   "id": "fbe9c428",
   "metadata": {},
   "outputs": [],
   "source": [
    "revoke = False"
   ]
  },
  {
   "cell_type": "code",
   "execution_count": null,
   "id": "4531082a",
   "metadata": {},
   "outputs": [],
   "source": [
    "def request_handler(payload):\n",
    "    global revoke\n",
    "    connection_id = payload[\"connection_id\"]\n",
    "    if payload['content'] == 'True': \n",
    "        revoke = True\n",
    "    send_task = asyncio.get_event_loop().create_task(agent_controller.messaging.send_message(sp_connection, \"revoke: \"+str(revoke)))\n",
    "    print(\"Handle request\", payload, connection_id)\n",
    "\n",
    "\n",
    "request_listener = {\n",
    "    \"handler\": request_handler,\n",
    "    \"topic\": \"basicmessages\"\n",
    "}\n",
    "\n",
    "loop = asyncio.get_event_loop()\n",
    "loop.create_task(agent_controller.listen_webhooks())\n",
    "\n",
    "agent_controller.register_listeners([request_listener], defaults=True)"
   ]
  },
  {
   "cell_type": "markdown",
   "id": "bacbced8",
   "metadata": {},
   "source": [
    "### switch to SP"
   ]
  },
  {
   "cell_type": "code",
   "execution_count": null,
   "id": "e0c6a01f",
   "metadata": {},
   "outputs": [],
   "source": [
    "print(revoke)"
   ]
  },
  {
   "cell_type": "markdown",
   "id": "e10043f8",
   "metadata": {},
   "source": [
    "### revoke old VC from MUSIC"
   ]
  },
  {
   "cell_type": "code",
   "execution_count": null,
   "id": "77740e29",
   "metadata": {},
   "outputs": [],
   "source": [
    "if revoke:\n",
    "    ## revoke the previous VC\n",
    "    "
   ]
  },
  {
   "cell_type": "markdown",
   "id": "bd43d145",
   "metadata": {},
   "source": [
    "### issue new VC to MUSIC"
   ]
  },
  {
   "cell_type": "code",
   "execution_count": null,
   "id": "286d7971",
   "metadata": {},
   "outputs": [],
   "source": [
    "loop = asyncio.get_event_loop()\n",
    "loop.create_task(agent_controller.listen_webhooks())\n",
    "def cred_handler(payload):\n",
    "    print(\"Handle Credentials\")\n",
    "    exchange_id = payload['credential_exchange_id']\n",
    "    state = payload['state']\n",
    "    role = payload['role']\n",
    "    attributes = payload['credential_proposal_dict']['credential_proposal']['attributes']\n",
    "    print(f\"Credential exchange {exchange_id}, role: {role}, state: {state}\")\n",
    "    print(f\"Attributes: {attributes}\")\n",
    "    \n",
    "cred_listener = {\n",
    "    \"topic\": \"issue_credential\",\n",
    "    \"handler\": cred_handler\n",
    "}\n",
    "agent_controller.register_listeners([cred_listener], defaults=True)"
   ]
  },
  {
   "cell_type": "code",
   "execution_count": null,
   "id": "79619374",
   "metadata": {},
   "outputs": [],
   "source": [
    "created_schema = await agent_controller.schema.get_created_schema(schema_issuer_did=my_did)\n",
    "print(created_schema)\n",
    "schema_id = created_schema['schema_ids'][0]\n",
    "print(schema_id)\n",
    "\n",
    "## find schema_id"
   ]
  },
  {
   "cell_type": "code",
   "execution_count": null,
   "id": "d6b34120",
   "metadata": {},
   "outputs": [],
   "source": [
    "created_cred_def = response = await agent_controller.definitions.search_created(schema_issuer_did=my_did)\n",
    "print(created_cred_def)\n",
    "cred_def_id = created_cred_def['credential_definition_ids'][0]\n",
    "print(cred_def_id)\n",
    "\n",
    "## find cred_def_id"
   ]
  },
  {
   "cell_type": "code",
   "execution_count": null,
   "id": "ef908055",
   "metadata": {},
   "outputs": [],
   "source": [
    "import datetime\n",
    "time = datetime.datetime.now().strftime(\"%m-%d-%Y, %H:%M:%S\")\n",
    "credential_attributes = [\n",
    "    {\"name\": \"author\", \"value\": my_did},\n",
    "    {\"name\": \"origin\", \"value\": my_did},\n",
    "    {\"name\": \"owner\", \"value\": sp_did},\n",
    "    {\"name\": \"time\", \"value\": time},\n",
    "    {\"name\": \"version\", \"value\": \"v1\"},\n",
    "    {\"name\": \"name\", \"value\": \"balabababa music\"},\n",
    "    ]\n",
    "record = await agent_controller.issuer.send_credential(music_connection, schema_id, cred_def_id, credential_attributes, auto_remove=False, trace=True)"
   ]
  },
  {
   "cell_type": "code",
   "execution_count": null,
   "id": "34a08781",
   "metadata": {},
   "outputs": [],
   "source": [
    "record_id = record['credential_exchange_id']\n",
    "state = record['state']\n",
    "role = record['role']\n",
    "print(f\"Credential exchange {record_id}, role: {role}, state: {state}\")"
   ]
  },
  {
   "cell_type": "markdown",
   "id": "d95cda4c",
   "metadata": {},
   "source": [
    "### define new schema "
   ]
  },
  {
   "cell_type": "code",
   "execution_count": null,
   "id": "5973863e",
   "metadata": {},
   "outputs": [],
   "source": [
    "# Define you schema name - must be unique on the ledger\n",
    "schema_name = \"possession schema\"\n",
    "# Can version the schema if you wish to update it\n",
    "schema_version = \"0.0.1\"\n",
    "# Define any list of attributes you wish to include in your schema\n",
    "attributes = [\"possession\", \"time\"]\n"
   ]
  },
  {
   "cell_type": "code",
   "execution_count": null,
   "id": "9360d1f7",
   "metadata": {},
   "outputs": [],
   "source": [
    "response = await agent_controller.schema.write_schema(schema_name, attributes, schema_version)\n",
    "schema_id = response[\"schema_id\"]\n",
    "print(schema_id)"
   ]
  },
  {
   "cell_type": "code",
   "execution_count": null,
   "id": "abdf6150",
   "metadata": {},
   "outputs": [],
   "source": [
    "response = await agent_controller.definitions.write_cred_def(schema_id)\n",
    "\n",
    "cred_def_id = response[\"credential_definition_id\"]\n",
    "print(cred_def_id)"
   ]
  },
  {
   "cell_type": "markdown",
   "id": "8110aaeb",
   "metadata": {},
   "source": [
    "### issue new VC to SP"
   ]
  },
  {
   "cell_type": "code",
   "execution_count": null,
   "id": "acc6b188",
   "metadata": {},
   "outputs": [],
   "source": [
    "import datetime\n",
    "time = datetime.datetime.now().strftime(\"%m-%d-%Y, %H:%M:%S\")\n",
    "credential_attributes = [\n",
    "    {\"name\": \"possession\", \"value\": music_did},\n",
    "    {\"name\": \"time\", \"value\": time},\n",
    "]\n",
    "print(credential_attributes)"
   ]
  },
  {
   "cell_type": "code",
   "execution_count": null,
   "id": "f65e5c09",
   "metadata": {},
   "outputs": [],
   "source": [
    "record = await agent_controller.issuer.send_credential(sp_connection, schema_id, cred_def_id, credential_attributes, auto_remove=False, trace=True)\n",
    "print(record)\n",
    "record_id = record['credential_exchange_id']\n",
    "state = record['state']\n",
    "role = record['role']\n",
    "print(f\"Credential exchange {record_id}, role: {role}, state: {state}\")"
   ]
  },
  {
   "cell_type": "code",
   "execution_count": null,
   "id": "a47e316e",
   "metadata": {},
   "outputs": [],
   "source": [
    "response = await agent_controller.terminate()\n",
    "print(response)"
   ]
  },
  {
   "cell_type": "code",
   "execution_count": null,
   "id": "6c61384c",
   "metadata": {},
   "outputs": [],
   "source": []
  }
 ],
 "metadata": {
  "kernelspec": {
   "display_name": "Python 3 (ipykernel)",
   "language": "python",
   "name": "python3"
  },
  "language_info": {
   "codemirror_mode": {
    "name": "ipython",
    "version": 3
   },
   "file_extension": ".py",
   "mimetype": "text/x-python",
   "name": "python",
   "nbconvert_exporter": "python",
   "pygments_lexer": "ipython3",
   "version": "3.10.8"
  }
 },
 "nbformat": 4,
 "nbformat_minor": 5
}
