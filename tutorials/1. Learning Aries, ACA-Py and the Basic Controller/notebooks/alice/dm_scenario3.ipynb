{
 "cells": [
  {
   "cell_type": "markdown",
   "id": "38f5a3ab",
   "metadata": {},
   "source": [
    "# 二創 Scenario"
   ]
  },
  {
   "cell_type": "markdown",
   "id": "af76259d",
   "metadata": {},
   "source": [
    "## 1. Initialize agent"
   ]
  },
  {
   "cell_type": "code",
   "execution_count": 24,
   "id": "2e0546db",
   "metadata": {},
   "outputs": [
    {
     "name": "stdout",
     "output_type": "stream",
     "text": [
      "IPython autoawait is `on`, and set to use `asyncio`\n"
     ]
    }
   ],
   "source": [
    "%autoawait\n",
    "import time\n",
    "import asyncio\n",
    "from aries_basic_controller.aries_controller import AriesAgentController\n",
    "    \n",
    "WEBHOOK_HOST = \"0.0.0.0\"\n",
    "WEBHOOK_PORT = 8022\n",
    "WEBHOOK_BASE = \"\"\n",
    "ADMIN_URL = \"http://alice-agent:8021\"\n",
    "\n",
    "# WARNING: You should use environment variables for this\n",
    "# TODO: Make env variables accessible through juypter notebooks\n",
    "API_KEY = \"alice_api_123456789\"\n",
    "\n",
    "# Based on the aca-py agent you wish to control\n",
    "agent_controller = AriesAgentController(admin_url=ADMIN_URL, api_key=API_KEY)\n",
    "\n",
    "agent_controller.init_webhook_server(webhook_host=WEBHOOK_HOST, \n",
    "                                     webhook_port=WEBHOOK_PORT,\n",
    "                                     webhook_base=WEBHOOK_BASE)"
   ]
  },
  {
   "cell_type": "markdown",
   "id": "4806c1ac",
   "metadata": {
    "tags": []
   },
   "source": [
    "## 2. DID exchange "
   ]
  },
  {
   "cell_type": "markdown",
   "id": "76c7c7a8",
   "metadata": {},
   "source": [
    "### **Build listener for DID exchange**"
   ]
  },
  {
   "cell_type": "code",
   "execution_count": 2,
   "id": "b43699ad",
   "metadata": {},
   "outputs": [
    {
     "name": "stdout",
     "output_type": "stream",
     "text": [
      "my DID PQRXDxdGqQGSZ8z69p4xZP\n",
      "Subscribing too: basicmessages\n",
      "Subscribing too: connections\n"
     ]
    }
   ],
   "source": [
    "my_did = await agent_controller.wallet.get_public_did()\n",
    "my_did = my_did['result']['did']\n",
    "print(\"my DID\", my_did)\n",
    "sp_did = 'None'\n",
    "music_did = 'None'\n",
    "\n",
    "def messages_handler(payload):\n",
    "    global sp_did\n",
    "    global music_did\n",
    "    connection_id = payload[\"connection_id\"]\n",
    "    did = payload[\"content\"]\n",
    "    if did[:3] == 'sp_':\n",
    "        sp_did = did[3:]\n",
    "        print('sp_did', sp_did)\n",
    "    else:\n",
    "        music_did = did[6:]\n",
    "        print('music_did', music_did)\n",
    "        \n",
    "    asyncio.get_event_loop().create_task(agent_controller.messaging.send_message(connection_id, my_did))\n",
    "    print(\"Handle message\", payload, connection_id)\n",
    "    \n",
    "def connection_handler(payload):\n",
    "    print(\"Connection Handler Called\")\n",
    "    connection_id = payload[\"connection_id\"]\n",
    "    state = payload[\"state\"]\n",
    "    print(f\"Connection {connection_id} in State {state}\")\n",
    "    \n",
    "    \n",
    "    \n",
    "connection_listener = {\n",
    "    \"handler\": connection_handler,\n",
    "    \"topic\": \"connections\"\n",
    "}\n",
    "message_listener = {\n",
    "    \"handler\": messages_handler,\n",
    "    \"topic\": \"basicmessages\"\n",
    "}\n",
    "\n",
    "loop = asyncio.get_event_loop()\n",
    "loop.create_task(agent_controller.listen_webhooks())\n",
    "\n",
    "agent_controller.register_listeners([message_listener, connection_listener], defaults=False)"
   ]
  },
  {
   "cell_type": "markdown",
   "id": "c07993d8",
   "metadata": {},
   "source": [
    "### Build DM-SP connection"
   ]
  },
  {
   "cell_type": "code",
   "execution_count": 19,
   "id": "00b16a3b",
   "metadata": {},
   "outputs": [
    {
     "name": "stdout",
     "output_type": "stream",
     "text": [
      "Connection ID 2667ae6d-128e-4d6d-ac81-e93c3df04bec\n",
      "#######################\n",
      "Invitation - Copy this!!\n",
      "{'@type': 'did:sov:BzCbsNYhMrjHiqZDTUASHg;spec/connections/1.0/invitation', '@id': 'dcce54a9-996e-480e-a3a6-cd1b8b82e8ca', 'label': 'Alice', 'recipientKeys': ['Av6mvcqbEhVCMLLNNEq3oQimyT2nBMixSKqT1K8LshxB'], 'serviceEndpoint': 'http://192.168.65.3:8020'}\n",
      "Connection Handler Called\n",
      "Connection 2667ae6d-128e-4d6d-ac81-e93c3df04bec in State invitation\n",
      "Connection Handler Called\n",
      "Connection 2667ae6d-128e-4d6d-ac81-e93c3df04bec in State request\n"
     ]
    }
   ],
   "source": [
    "# Create Invitation\n",
    "invite = await agent_controller.connections.create_invitation()\n",
    "connection_id = invite[\"connection_id\"]\n",
    "invite_message = invite['invitation']\n",
    "print(\"Connection ID\", connection_id)\n",
    "print(\"#######################\")\n",
    "print(\"Invitation - Copy this!!\")\n",
    "print(invite_message)"
   ]
  },
  {
   "cell_type": "markdown",
   "id": "ba74dc91",
   "metadata": {},
   "source": [
    "### > Break here - switch to SP to receive invitation <"
   ]
  },
  {
   "cell_type": "code",
   "execution_count": 20,
   "id": "ee0382d8",
   "metadata": {},
   "outputs": [
    {
     "name": "stdout",
     "output_type": "stream",
     "text": [
      "Connection Handler Called\n",
      "Connection 2667ae6d-128e-4d6d-ac81-e93c3df04bec in State response\n",
      "ACCEPT REQUEST\n",
      "{'state': 'response', 'rfc23_state': 'response-sent', 'created_at': '2023-01-05 12:02:55.796619Z', 'connection_id': '2667ae6d-128e-4d6d-ac81-e93c3df04bec', 'their_did': 'GvyYisyaWnttacfyKYnkYq', 'their_role': 'invitee', 'my_did': 'UM3XjxkgJzJneYsgbJrHtc', 'invitation_key': 'Av6mvcqbEhVCMLLNNEq3oQimyT2nBMixSKqT1K8LshxB', 'invitation_mode': 'once', 'updated_at': '2023-01-05 12:03:20.212212Z', 'routing_state': 'none', 'accept': 'manual', 'their_label': 'Bob'}\n",
      "state response\n"
     ]
    }
   ],
   "source": [
    "# Accept Request for Invite created\n",
    "connection = await agent_controller.connections.accept_request(connection_id)\n",
    "print(\"ACCEPT REQUEST\")\n",
    "print(connection)\n",
    "print(\"state\", connection[\"state\"])"
   ]
  },
  {
   "cell_type": "code",
   "execution_count": 21,
   "id": "822eab14",
   "metadata": {},
   "outputs": [
    {
     "name": "stdout",
     "output_type": "stream",
     "text": [
      "Trust Ping {'thread_id': '550b2695-4c49-44f2-845e-aceb93db8729'}\n",
      "Connection Handler Called\n",
      "Connection 2667ae6d-128e-4d6d-ac81-e93c3df04bec in State active\n"
     ]
    }
   ],
   "source": [
    "trust_ping = await agent_controller.messaging.trust_ping(connection_id, \"hello\")\n",
    "print(\"Trust Ping\", trust_ping)"
   ]
  },
  {
   "cell_type": "code",
   "execution_count": 22,
   "id": "5843a33a",
   "metadata": {},
   "outputs": [
    {
     "name": "stdout",
     "output_type": "stream",
     "text": [
      "{'state': 'active', 'rfc23_state': 'completed', 'created_at': '2023-01-05 12:02:55.796619Z', 'connection_id': '2667ae6d-128e-4d6d-ac81-e93c3df04bec', 'their_did': 'GvyYisyaWnttacfyKYnkYq', 'their_role': 'invitee', 'my_did': 'UM3XjxkgJzJneYsgbJrHtc', 'invitation_key': 'Av6mvcqbEhVCMLLNNEq3oQimyT2nBMixSKqT1K8LshxB', 'invitation_mode': 'once', 'updated_at': '2023-01-05 12:03:21.880973Z', 'routing_state': 'none', 'accept': 'manual', 'their_label': 'Bob'}\n",
      "Is Active? active\n",
      "2667ae6d-128e-4d6d-ac81-e93c3df04bec\n",
      "music_did gZj39Y8JGQ5GVQp2y6zFH\n",
      "Handle message {'connection_id': '2667ae6d-128e-4d6d-ac81-e93c3df04bec', 'message_id': '29a2097e-7f9d-406b-9e92-7e0943b129b8', 'content': 'music_gZj39Y8JGQ5GVQp2y6zFH', 'state': 'received'} 2667ae6d-128e-4d6d-ac81-e93c3df04bec\n",
      "music_did gZj39Y8JGQ5GVQp2y6zFH\n",
      "Handle message {'connection_id': '2667ae6d-128e-4d6d-ac81-e93c3df04bec', 'message_id': '73ea0cef-1389-41da-adbb-65a1250f5027', 'content': 'music_gZj39Y8JGQ5GVQp2y6zFH', 'state': 'received'} 2667ae6d-128e-4d6d-ac81-e93c3df04bec\n",
      "music_did gZj39Y8JGQ5GVQp2y6zFH\n",
      "Handle message {'connection_id': '2667ae6d-128e-4d6d-ac81-e93c3df04bec', 'message_id': 'fc90544b-43ea-47dd-8f0d-f091b8e173c8', 'content': 'music_gZj39Y8JGQ5GVQp2y6zFH', 'state': 'received'} 2667ae6d-128e-4d6d-ac81-e93c3df04bec\n"
     ]
    }
   ],
   "source": [
    "#####################\n",
    "# get SP connection #\n",
    "#####################\n",
    "\n",
    "connection = await agent_controller.connections.get_connection(connection_id)\n",
    "print(connection)\n",
    "print(\"Is Active?\", connection[\"state\"])\n",
    "sp_connection = connection[\"connection_id\"]\n",
    "print(sp_connection)"
   ]
  },
  {
   "cell_type": "markdown",
   "id": "fe8ed6ff",
   "metadata": {},
   "source": [
    "### > Break here and go to SP to send message, after finishing that, come back <"
   ]
  },
  {
   "cell_type": "markdown",
   "id": "7ec8441e",
   "metadata": {},
   "source": [
    "------"
   ]
  },
  {
   "cell_type": "markdown",
   "id": "3bfbb929",
   "metadata": {},
   "source": [
    "### Build DM-MUSIC connection"
   ]
  },
  {
   "cell_type": "code",
   "execution_count": 34,
   "id": "fe6dedef",
   "metadata": {},
   "outputs": [
    {
     "name": "stdout",
     "output_type": "stream",
     "text": [
      "Connection ID 54801036-1d74-4346-9c73-a14d43d36c86\n",
      "#######################\n",
      "Invitation - Copy this!!\n",
      "{'@type': 'did:sov:BzCbsNYhMrjHiqZDTUASHg;spec/connections/1.0/invitation', '@id': '3082ab84-7846-435c-b036-35065edd3249', 'label': 'Alice', 'recipientKeys': ['Ea5qcPR9wGHhzCVAPUp3qVHr3QtNWS7WiWvGmoRcud2t'], 'serviceEndpoint': 'http://192.168.65.3:8020'}\n"
     ]
    }
   ],
   "source": [
    "# Create Invitation\n",
    "invite = await agent_controller.connections.create_invitation()\n",
    "connection_id = invite[\"connection_id\"]\n",
    "invite_message = invite['invitation']\n",
    "print(\"Connection ID\", connection_id)\n",
    "print(\"#######################\")\n",
    "print(\"Invitation - Copy this!!\")\n",
    "print(invite_message)"
   ]
  },
  {
   "cell_type": "markdown",
   "id": "14f07b50",
   "metadata": {},
   "source": [
    "### > Break here - switch to MUSIC to receive invitation <"
   ]
  },
  {
   "cell_type": "code",
   "execution_count": 35,
   "id": "96a5ca65",
   "metadata": {},
   "outputs": [
    {
     "name": "stdout",
     "output_type": "stream",
     "text": [
      "ACCEPT REQUEST\n",
      "{'state': 'response', 'rfc23_state': 'response-sent', 'created_at': '2023-01-05 12:05:33.799199Z', 'connection_id': '54801036-1d74-4346-9c73-a14d43d36c86', 'their_did': 'Dw4EQ7TFHaKC1J5rc2tSgc', 'their_role': 'invitee', 'my_did': '4doDed3C8ohLwYi6L4g2fN', 'invitation_key': 'Ea5qcPR9wGHhzCVAPUp3qVHr3QtNWS7WiWvGmoRcud2t', 'invitation_mode': 'once', 'updated_at': '2023-01-05 12:05:56.267239Z', 'routing_state': 'none', 'accept': 'manual', 'their_label': 'Bob'}\n",
      "state response\n"
     ]
    }
   ],
   "source": [
    "# Accept Request for Invite created\n",
    "connection = await agent_controller.connections.accept_request(connection_id)\n",
    "print(\"ACCEPT REQUEST\")\n",
    "print(connection)\n",
    "print(\"state\", connection[\"state\"])"
   ]
  },
  {
   "cell_type": "code",
   "execution_count": 38,
   "id": "fcb97943",
   "metadata": {},
   "outputs": [
    {
     "name": "stdout",
     "output_type": "stream",
     "text": [
      "Trust Ping {'thread_id': '64bd9c15-bfaf-4f4a-a26a-053663cc7c9f'}\n"
     ]
    }
   ],
   "source": [
    "trust_ping = await agent_controller.messaging.trust_ping(connection_id, \"hello\")\n",
    "print(\"Trust Ping\", trust_ping)"
   ]
  },
  {
   "cell_type": "code",
   "execution_count": 39,
   "id": "67d58d17",
   "metadata": {},
   "outputs": [
    {
     "name": "stdout",
     "output_type": "stream",
     "text": [
      "{'state': 'active', 'rfc23_state': 'completed', 'created_at': '2023-01-05 12:05:33.799199Z', 'connection_id': '54801036-1d74-4346-9c73-a14d43d36c86', 'their_did': 'Dw4EQ7TFHaKC1J5rc2tSgc', 'their_role': 'invitee', 'my_did': '4doDed3C8ohLwYi6L4g2fN', 'invitation_key': 'Ea5qcPR9wGHhzCVAPUp3qVHr3QtNWS7WiWvGmoRcud2t', 'invitation_mode': 'once', 'updated_at': '2023-01-05 12:06:06.559023Z', 'routing_state': 'none', 'accept': 'manual', 'their_label': 'Bob'}\n",
      "Is Active? active\n",
      "54801036-1d74-4346-9c73-a14d43d36c86\n"
     ]
    }
   ],
   "source": [
    "#####################\n",
    "# get MUSIC connection #\n",
    "#####################\n",
    "\n",
    "connection = await agent_controller.connections.get_connection(connection_id)\n",
    "print(connection)\n",
    "print(\"Is Active?\", connection[\"state\"])\n",
    "music_connection = connection[\"connection_id\"]\n",
    "print(music_connection)"
   ]
  },
  {
   "cell_type": "markdown",
   "id": "11a9b63f",
   "metadata": {},
   "source": [
    "### > Break here and go to MUSIC to send message, after finishing that, come back <"
   ]
  },
  {
   "cell_type": "code",
   "execution_count": 13,
   "id": "7d6d66ec",
   "metadata": {},
   "outputs": [
    {
     "name": "stdout",
     "output_type": "stream",
     "text": [
      "None\n",
      "None\n",
      "sp_did X8HWQruWXrv8s6BBLXm53B\n",
      "Handle message {'connection_id': 'ce707209-32a6-4099-b26b-924e337e6d68', 'message_id': '09a50eeb-6cee-4e7b-8d9b-213a25f788a7', 'content': 'sp_X8HWQruWXrv8s6BBLXm53B', 'state': 'received'} ce707209-32a6-4099-b26b-924e337e6d68\n",
      "music_did gZj39Y8JGQ5GVQp2y6zFH\n",
      "Handle message {'connection_id': '6be95fa2-173c-498b-9e5d-a1107802bb1d', 'message_id': 'dfdb0da0-f6a3-47b4-8de6-2eb932070b1b', 'content': 'music_gZj39Y8JGQ5GVQp2y6zFH', 'state': 'received'} 6be95fa2-173c-498b-9e5d-a1107802bb1d\n",
      "music_did gZj39Y8JGQ5GVQp2y6zFH\n",
      "Handle message {'connection_id': '6be95fa2-173c-498b-9e5d-a1107802bb1d', 'message_id': '1859d348-0ce4-4bfa-ac74-e54cbb9edd2b', 'content': 'music_gZj39Y8JGQ5GVQp2y6zFH', 'state': 'received'} 6be95fa2-173c-498b-9e5d-a1107802bb1d\n"
     ]
    }
   ],
   "source": [
    "print(music_did)\n",
    "print(sp_did)"
   ]
  },
  {
   "cell_type": "markdown",
   "id": "04fc0b08",
   "metadata": {},
   "source": [
    "## 4. Give SP the VC of re-create right - DM\n",
    "Scenario:     \n",
    "When SP pay for the re-create right, the SP can show DM the certificate.     \n",
    "On receiving the certificate, the DM will give SP the VC, so that the Music platform will recognize the VC and allow it to put VC on the platform\n"
   ]
  },
  {
   "cell_type": "markdown",
   "id": "2dc14ce7",
   "metadata": {},
   "source": [
    "### SP (re-creater) re-creates the song, this is the info of the song it recreates on (These information is fetched from 3. in SP)"
   ]
  },
  {
   "cell_type": "code",
   "execution_count": null,
   "id": "c6b86b24",
   "metadata": {},
   "outputs": [],
   "source": [
    "target_song = \"F4zojhjnUqDAAzYsdpqmtQ\" #### !! Copy the music ID from sp_scenario3.ipynb - Verify the result back !! ##\n",
    "origin = \"PQRXDxdGqQGSZ8z69p4xZP\""
   ]
  },
  {
   "cell_type": "markdown",
   "id": "93c37b8f",
   "metadata": {},
   "source": [
    "### Write Ownership"
   ]
  },
  {
   "cell_type": "code",
   "execution_count": null,
   "id": "138f2f85",
   "metadata": {},
   "outputs": [],
   "source": [
    "# Define you schema name - must be unique on the ledger\n",
    "schema_name = \"recreate_schema\"\n",
    "# Can version the schema if you wish to update it\n",
    "schema_version = \"0.0.1\"\n",
    "# Define any list of attributes you wish to include in your schema\n",
    "attributes = [\"origin\", \"target\", \"time\", \"owner\"]\n",
    "\n",
    "# Write schema to ledger\n",
    "response = await agent_controller.schema.write_schema(schema_name, attributes, schema_version)\n",
    "schema_id = response[\"schema_id\"]\n",
    "print(schema_id)\n",
    "\n",
    "# Write cred. def.\n",
    "response = await agent_controller.definitions.write_cred_def(schema_id)\n",
    "cred_def_id = response[\"credential_definition_id\"]\n",
    "print(cred_def_id)\n",
    "\n",
    "\n"
   ]
  },
  {
   "cell_type": "markdown",
   "id": "cb481738",
   "metadata": {},
   "source": [
    "### Write VC"
   ]
  },
  {
   "cell_type": "code",
   "execution_count": null,
   "id": "4f8c59fe",
   "metadata": {},
   "outputs": [],
   "source": [
    "# Get nym \n",
    "nym = await agent_controller.wallet.get_public_did()\n",
    "print(nym[\"result\"][\"did\"])\n",
    "\n",
    "# get schema id\n",
    "created_schema = await agent_controller.schema.get_created_schema(schema_issuer_did='PQRXDxdGqQGSZ8z69p4xZP')\n",
    "print(created_schema)\n",
    "schema_id = created_schema[\"schema_ids\"][0]"
   ]
  },
  {
   "cell_type": "code",
   "execution_count": null,
   "id": "d15b051b",
   "metadata": {},
   "outputs": [],
   "source": [
    "# get cred_def_id\n",
    "definitions = await agent_controller.definitions.search_created(schema_id=schema_id)\n",
    "print(definitions[\"credential_definition_ids\"])\n",
    "cred_def_id = definitions[\"credential_definition_ids\"][0]"
   ]
  },
  {
   "cell_type": "code",
   "execution_count": null,
   "id": "2d903c1c",
   "metadata": {},
   "outputs": [],
   "source": [
    "response = await agent_controller.connections.get_connections()\n",
    "results = response['results']\n",
    "print(len(results))\n",
    "# print(\"Results : \", results)\n",
    "if len(results) > 0:\n",
    "    connection = response['results']\n",
    "    for con in connection:\n",
    "        print(\"Connection :\", con)\n",
    "        if con['state'] == 'active' and con[\"their_label\"] == \"Carol\":        \n",
    "            connection_id = con[\"connection_id\"]\n",
    "            print(\"Active Connection ID : \", connection_id)\n",
    "        else: print(\"Inactive Connection ID: \", con[\"connection_id\"], \"with state: \", con[\"state\"])\n",
    "else:\n",
    "    print(\"You must create a connection\")"
   ]
  },
  {
   "cell_type": "code",
   "execution_count": null,
   "id": "9dfcdc5e",
   "metadata": {},
   "outputs": [],
   "source": [
    "import datetime\n",
    "time = datetime.datetime.now().strftime(\"%m-%d-%Y, %H:%M:%S\")\n",
    "credential_attributes = [\n",
    "    {\"name\": \"target\", \"value\": target_song},\n",
    "    {\"name\": \"time\", \"value\": time},\n",
    "    {\"name\": \"origin\", \"value\": origin},\n",
    "    {\"name\": \"owner\", \"value\": sp_did},\n",
    "]\n",
    "print(credential_attributes)\n",
    "\n",
    "\n",
    "# send credential\n",
    "record = await agent_controller.issuer.send_credential(connection_id, schema_id, cred_def_id, credential_attributes, auto_remove=False, trace=True)\n",
    "record_id = record['credential_exchange_id']\n",
    "state = record['state']\n",
    "role = record['role']\n",
    "print(f\"Credential exchange {record_id}, role: {role}, state: {state}\")"
   ]
  },
  {
   "cell_type": "markdown",
   "id": "199ad26a",
   "metadata": {},
   "source": [
    "### > Break: Go to SP for credential exchange <"
   ]
  },
  {
   "cell_type": "markdown",
   "id": "08ec264b",
   "metadata": {},
   "source": [
    "### Get records"
   ]
  },
  {
   "cell_type": "code",
   "execution_count": null,
   "id": "fada6cad",
   "metadata": {},
   "outputs": [],
   "source": [
    "response = await agent_controller.issuer.get_records()\n",
    "print(response['results'])\n",
    "cred_record = await agent_controller.issuer.get_record_by_id(record_id)\n",
    "state = cred_record['state']\n",
    "role = cred_record['role']\n",
    "print(f\"Credential exchange {record_id}, role: {role}, state: {state}\")"
   ]
  },
  {
   "cell_type": "code",
   "execution_count": null,
   "id": "466f6cde",
   "metadata": {},
   "outputs": [],
   "source": [
    "## Remove records\n",
    "response = await agent_controller.issuer.remove_record(record_id)\n",
    "print(response)"
   ]
  },
  {
   "cell_type": "markdown",
   "id": "2504116a",
   "metadata": {},
   "source": [
    "# Terminate Agent"
   ]
  },
  {
   "cell_type": "code",
   "execution_count": 23,
   "id": "0b7e2619",
   "metadata": {},
   "outputs": [
    {
     "name": "stdout",
     "output_type": "stream",
     "text": [
      "None\n"
     ]
    }
   ],
   "source": [
    "response = await agent_controller.terminate()\n",
    "print(response)"
   ]
  },
  {
   "cell_type": "code",
   "execution_count": null,
   "id": "827b20aa",
   "metadata": {},
   "outputs": [],
   "source": []
  }
 ],
 "metadata": {
  "kernelspec": {
   "display_name": "Python 3 (ipykernel)",
   "language": "python",
   "name": "python3"
  },
  "language_info": {
   "codemirror_mode": {
    "name": "ipython",
    "version": 3
   },
   "file_extension": ".py",
   "mimetype": "text/x-python",
   "name": "python",
   "nbconvert_exporter": "python",
   "pygments_lexer": "ipython3",
   "version": "3.10.8"
  },
  "vscode": {
   "interpreter": {
    "hash": "b0fa6594d8f4cbf19f97940f81e996739fb7646882a419484c72d19e05852a7e"
   }
  }
 },
 "nbformat": 4,
 "nbformat_minor": 5
}
