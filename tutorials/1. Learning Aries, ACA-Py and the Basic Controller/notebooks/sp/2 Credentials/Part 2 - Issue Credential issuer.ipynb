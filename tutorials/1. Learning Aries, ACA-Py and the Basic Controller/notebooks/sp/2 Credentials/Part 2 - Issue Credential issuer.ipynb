{
 "cells": [
  {
   "cell_type": "markdown",
   "metadata": {},
   "source": [
    "# Issue Credential - Carol\n",
    "## Role: Issuer\n",
    "\n",
    "### This notebook walks through how to issue a credential across a previously established connection. It should be run in parallel with the [Holder notebook](http://localhost:8889/lab/tree/2%20Credentials/Part%202%20-%20Issue%20Credential.ipynb) controlling the agent receiving the credential.\n",
    "\n",
    "If unfamiliar with the protocol it is worth reading through the [aries-rfs](https://github.com/hyperledger/aries-rfcs/tree/master/features/0036-issue-credential)\n"
   ]
  },
  {
   "cell_type": "markdown",
   "metadata": {},
   "source": [
    "## 1. Initialise a controller for Carol"
   ]
  },
  {
   "cell_type": "code",
   "execution_count": 1,
   "metadata": {},
   "outputs": [
    {
     "name": "stdout",
     "output_type": "stream",
     "text": [
      "IPython autoawait is `on`, and set to use `asyncio`\n"
     ]
    }
   ],
   "source": [
    "%autoawait\n",
    "import time\n",
    "import asyncio\n",
    "from aries_basic_controller.aries_controller import AriesAgentController\n",
    "    \n",
    "WEBHOOK_HOST = \"0.0.0.0\"\n",
    "WEBHOOK_PORT = 8082\n",
    "WEBHOOK_BASE = \"\"\n",
    "ADMIN_URL = \"http://carol-agent:8081\"\n",
    "\n",
    "# WARNING: You should use environment variables for this\n",
    "# TODO: Make env variables accessible through juypter notebooks\n",
    "API_KEY = \"carol_api_123456789\"\n",
    "\n",
    "# Based on the aca-py agent you wish to control\n",
    "agent_controller = AriesAgentController(admin_url=ADMIN_URL, api_key=API_KEY)\n",
    "    "
   ]
  },
  {
   "cell_type": "code",
   "execution_count": 2,
   "metadata": {},
   "outputs": [],
   "source": [
    "agent_controller.init_webhook_server(webhook_host=WEBHOOK_HOST,\n",
    "                                     webhook_port=WEBHOOK_PORT,\n",
    "                                     webhook_base=WEBHOOK_BASE)"
   ]
  },
  {
   "cell_type": "markdown",
   "metadata": {},
   "source": [
    "## 2. Register Listeners\n",
    "\n",
    "The handler should get called every time the controller receives a webhook with the topic issue_credential, printing out the payload. The agent calls to this webhook every time it receives an issue-credential protocol message from a credential."
   ]
  },
  {
   "cell_type": "code",
   "execution_count": 3,
   "metadata": {},
   "outputs": [
    {
     "name": "stdout",
     "output_type": "stream",
     "text": [
      "Subscribing too: issue_credential\n"
     ]
    }
   ],
   "source": [
    "loop = asyncio.get_event_loop()\n",
    "loop.create_task(agent_controller.listen_webhooks())\n",
    "\n",
    "def cred_handler(payload):\n",
    "    print(\"Handle Credentials\")\n",
    "    exchange_id = payload['credential_exchange_id']\n",
    "    state = payload['state']\n",
    "    role = payload['role']\n",
    "    attributes = payload['credential_proposal_dict']['credential_proposal']['attributes']\n",
    "    print(f\"Credential exchange {exchange_id}, role: {role}, state: {state}\")\n",
    "    print(f\"Offering: {attributes}\")\n",
    "    \n",
    "cred_listener = {\n",
    "    \"topic\": \"issue_credential\",\n",
    "    \"handler\": cred_handler\n",
    "}\n",
    "agent_controller.register_listeners([cred_listener], defaults=True)\n"
   ]
  },
  {
   "cell_type": "markdown",
   "metadata": {},
   "source": [
    "## 3. Check the agent has an active connection\n",
    "\n",
    "**Note: An active connection is required, this should have been established on start up through the python script create_connection.py in the setup folder. If not it is possible to run through the did-exchange tutorial to create one between Alice and Bob**\n",
    "\n",
    "* [Alice](http://localhost:8888/lab/tree/1%20Basic%20Concepts%20and%201st%20Connection/Part%203%20-%20Establishing%20a%20Connection.ipynb)\n",
    "* [Bob](http://localhost:8889/lab/tree/1%20Basic%20Concepts%20and%201st%20Connection/Part%203%20-%20Establishing%20a%20Connection.ipynb)"
   ]
  },
  {
   "cell_type": "code",
   "execution_count": 17,
   "metadata": {},
   "outputs": [],
   "source": [
    "# remove = await agent_controller.connections.remove_connection('2cb9f84e-2cc5-49c2-8ffd-2c7ca5241f66')"
   ]
  },
  {
   "cell_type": "code",
   "execution_count": 5,
   "metadata": {},
   "outputs": [
    {
     "ename": "ClientConnectorError",
     "evalue": "Cannot connect to host carol-agent:8081 ssl:default [Name or service not known]",
     "output_type": "error",
     "traceback": [
      "\u001b[0;31m---------------------------------------------------------------------------\u001b[0m",
      "\u001b[0;31mgaierror\u001b[0m                                  Traceback (most recent call last)",
      "File \u001b[0;32m/opt/conda/lib/python3.10/site-packages/aiohttp/connector.py:999\u001b[0m, in \u001b[0;36mTCPConnector._create_direct_connection\u001b[0;34m(self, req, traces, timeout, client_error)\u001b[0m\n\u001b[1;32m    995\u001b[0m \u001b[38;5;28;01mtry\u001b[39;00m:\n\u001b[1;32m    996\u001b[0m     \u001b[38;5;66;03m# Cancelling this lookup should not cancel the underlying lookup\u001b[39;00m\n\u001b[1;32m    997\u001b[0m     \u001b[38;5;66;03m#  or else the cancel event will get broadcast to all the waiters\u001b[39;00m\n\u001b[1;32m    998\u001b[0m     \u001b[38;5;66;03m#  across all connections.\u001b[39;00m\n\u001b[0;32m--> 999\u001b[0m     hosts \u001b[38;5;241m=\u001b[39m \u001b[38;5;28;01mawait\u001b[39;00m asyncio\u001b[38;5;241m.\u001b[39mshield(host_resolved)\n\u001b[1;32m   1000\u001b[0m \u001b[38;5;28;01mexcept\u001b[39;00m asyncio\u001b[38;5;241m.\u001b[39mCancelledError:\n",
      "File \u001b[0;32m/opt/conda/lib/python3.10/site-packages/aiohttp/connector.py:865\u001b[0m, in \u001b[0;36mTCPConnector._resolve_host\u001b[0;34m(self, host, port, traces)\u001b[0m\n\u001b[1;32m    863\u001b[0m         \u001b[38;5;28;01mawait\u001b[39;00m trace\u001b[38;5;241m.\u001b[39msend_dns_resolvehost_start(host)\n\u001b[0;32m--> 865\u001b[0m addrs \u001b[38;5;241m=\u001b[39m \u001b[38;5;28;01mawait\u001b[39;00m \u001b[38;5;28mself\u001b[39m\u001b[38;5;241m.\u001b[39m_resolver\u001b[38;5;241m.\u001b[39mresolve(host, port, family\u001b[38;5;241m=\u001b[39m\u001b[38;5;28mself\u001b[39m\u001b[38;5;241m.\u001b[39m_family)\n\u001b[1;32m    866\u001b[0m \u001b[38;5;28;01mif\u001b[39;00m traces:\n",
      "File \u001b[0;32m/opt/conda/lib/python3.10/site-packages/aiohttp/resolver.py:31\u001b[0m, in \u001b[0;36mThreadedResolver.resolve\u001b[0;34m(self, hostname, port, family)\u001b[0m\n\u001b[1;32m     28\u001b[0m \u001b[38;5;28;01masync\u001b[39;00m \u001b[38;5;28;01mdef\u001b[39;00m \u001b[38;5;21mresolve\u001b[39m(\n\u001b[1;32m     29\u001b[0m     \u001b[38;5;28mself\u001b[39m, hostname: \u001b[38;5;28mstr\u001b[39m, port: \u001b[38;5;28mint\u001b[39m \u001b[38;5;241m=\u001b[39m \u001b[38;5;241m0\u001b[39m, family: \u001b[38;5;28mint\u001b[39m \u001b[38;5;241m=\u001b[39m socket\u001b[38;5;241m.\u001b[39mAF_INET\n\u001b[1;32m     30\u001b[0m ) \u001b[38;5;241m-\u001b[39m\u001b[38;5;241m>\u001b[39m List[Dict[\u001b[38;5;28mstr\u001b[39m, Any]]:\n\u001b[0;32m---> 31\u001b[0m     infos \u001b[38;5;241m=\u001b[39m \u001b[38;5;28;01mawait\u001b[39;00m \u001b[38;5;28mself\u001b[39m\u001b[38;5;241m.\u001b[39m_loop\u001b[38;5;241m.\u001b[39mgetaddrinfo(\n\u001b[1;32m     32\u001b[0m         hostname,\n\u001b[1;32m     33\u001b[0m         port,\n\u001b[1;32m     34\u001b[0m         \u001b[38;5;28mtype\u001b[39m\u001b[38;5;241m=\u001b[39msocket\u001b[38;5;241m.\u001b[39mSOCK_STREAM,\n\u001b[1;32m     35\u001b[0m         family\u001b[38;5;241m=\u001b[39mfamily,\n\u001b[1;32m     36\u001b[0m         flags\u001b[38;5;241m=\u001b[39msocket\u001b[38;5;241m.\u001b[39mAI_ADDRCONFIG,\n\u001b[1;32m     37\u001b[0m     )\n\u001b[1;32m     39\u001b[0m     hosts \u001b[38;5;241m=\u001b[39m []\n",
      "File \u001b[0;32m/opt/conda/lib/python3.10/asyncio/base_events.py:863\u001b[0m, in \u001b[0;36mBaseEventLoop.getaddrinfo\u001b[0;34m(self, host, port, family, type, proto, flags)\u001b[0m\n\u001b[1;32m    861\u001b[0m     getaddr_func \u001b[38;5;241m=\u001b[39m socket\u001b[38;5;241m.\u001b[39mgetaddrinfo\n\u001b[0;32m--> 863\u001b[0m \u001b[38;5;28;01mreturn\u001b[39;00m \u001b[38;5;28;01mawait\u001b[39;00m \u001b[38;5;28mself\u001b[39m\u001b[38;5;241m.\u001b[39mrun_in_executor(\n\u001b[1;32m    864\u001b[0m     \u001b[38;5;28;01mNone\u001b[39;00m, getaddr_func, host, port, family, \u001b[38;5;28mtype\u001b[39m, proto, flags)\n",
      "File \u001b[0;32m/opt/conda/lib/python3.10/concurrent/futures/thread.py:58\u001b[0m, in \u001b[0;36m_WorkItem.run\u001b[0;34m(self)\u001b[0m\n\u001b[1;32m     57\u001b[0m \u001b[38;5;28;01mtry\u001b[39;00m:\n\u001b[0;32m---> 58\u001b[0m     result \u001b[38;5;241m=\u001b[39m \u001b[38;5;28;43mself\u001b[39;49m\u001b[38;5;241;43m.\u001b[39;49m\u001b[43mfn\u001b[49m\u001b[43m(\u001b[49m\u001b[38;5;241;43m*\u001b[39;49m\u001b[38;5;28;43mself\u001b[39;49m\u001b[38;5;241;43m.\u001b[39;49m\u001b[43margs\u001b[49m\u001b[43m,\u001b[49m\u001b[43m \u001b[49m\u001b[38;5;241;43m*\u001b[39;49m\u001b[38;5;241;43m*\u001b[39;49m\u001b[38;5;28;43mself\u001b[39;49m\u001b[38;5;241;43m.\u001b[39;49m\u001b[43mkwargs\u001b[49m\u001b[43m)\u001b[49m\n\u001b[1;32m     59\u001b[0m \u001b[38;5;28;01mexcept\u001b[39;00m \u001b[38;5;167;01mBaseException\u001b[39;00m \u001b[38;5;28;01mas\u001b[39;00m exc:\n",
      "File \u001b[0;32m/opt/conda/lib/python3.10/socket.py:955\u001b[0m, in \u001b[0;36mgetaddrinfo\u001b[0;34m(host, port, family, type, proto, flags)\u001b[0m\n\u001b[1;32m    954\u001b[0m addrlist \u001b[38;5;241m=\u001b[39m []\n\u001b[0;32m--> 955\u001b[0m \u001b[38;5;28;01mfor\u001b[39;00m res \u001b[38;5;129;01min\u001b[39;00m \u001b[43m_socket\u001b[49m\u001b[38;5;241;43m.\u001b[39;49m\u001b[43mgetaddrinfo\u001b[49m\u001b[43m(\u001b[49m\u001b[43mhost\u001b[49m\u001b[43m,\u001b[49m\u001b[43m \u001b[49m\u001b[43mport\u001b[49m\u001b[43m,\u001b[49m\u001b[43m \u001b[49m\u001b[43mfamily\u001b[49m\u001b[43m,\u001b[49m\u001b[43m \u001b[49m\u001b[38;5;28;43mtype\u001b[39;49m\u001b[43m,\u001b[49m\u001b[43m \u001b[49m\u001b[43mproto\u001b[49m\u001b[43m,\u001b[49m\u001b[43m \u001b[49m\u001b[43mflags\u001b[49m\u001b[43m)\u001b[49m:\n\u001b[1;32m    956\u001b[0m     af, socktype, proto, canonname, sa \u001b[38;5;241m=\u001b[39m res\n",
      "\u001b[0;31mgaierror\u001b[0m: [Errno -2] Name or service not known",
      "\nThe above exception was the direct cause of the following exception:\n",
      "\u001b[0;31mClientConnectorError\u001b[0m                      Traceback (most recent call last)",
      "Cell \u001b[0;32mIn[5], line 1\u001b[0m\n\u001b[0;32m----> 1\u001b[0m response \u001b[38;5;241m=\u001b[39m \u001b[38;5;28;01mawait\u001b[39;00m agent_controller\u001b[38;5;241m.\u001b[39mconnections\u001b[38;5;241m.\u001b[39mget_connections()\n\u001b[1;32m      2\u001b[0m results \u001b[38;5;241m=\u001b[39m response[\u001b[38;5;124m'\u001b[39m\u001b[38;5;124mresults\u001b[39m\u001b[38;5;124m'\u001b[39m]\n\u001b[1;32m      3\u001b[0m \u001b[38;5;28mprint\u001b[39m(\u001b[38;5;28mlen\u001b[39m(results))\n",
      "File \u001b[0;32m/aries_basic_controller/controllers/connections.py:59\u001b[0m, in \u001b[0;36mConnectionsController.get_connections\u001b[0;34m(self, alias, initiator, invitation_key, my_did, state, their_did, their_role)\u001b[0m\n\u001b[1;32m     56\u001b[0m \u001b[38;5;28;01mif\u001b[39;00m their_role:\n\u001b[1;32m     57\u001b[0m     params[\u001b[38;5;124m\"\u001b[39m\u001b[38;5;124mtheir_role\u001b[39m\u001b[38;5;124m\"\u001b[39m] \u001b[38;5;241m=\u001b[39m their_role\n\u001b[0;32m---> 59\u001b[0m connections \u001b[38;5;241m=\u001b[39m \u001b[38;5;28;01mawait\u001b[39;00m \u001b[38;5;28mself\u001b[39m\u001b[38;5;241m.\u001b[39madmin_GET(\u001b[38;5;124m\"\u001b[39m\u001b[38;5;124m/connections\u001b[39m\u001b[38;5;124m\"\u001b[39m, params\u001b[38;5;241m=\u001b[39mparams)\n\u001b[1;32m     60\u001b[0m \u001b[38;5;28;01mreturn\u001b[39;00m connections\n",
      "File \u001b[0;32m/aries_basic_controller/controllers/base.py:77\u001b[0m, in \u001b[0;36mBaseController.admin_GET\u001b[0;34m(self, path, text, params)\u001b[0m\n\u001b[1;32m     75\u001b[0m \u001b[38;5;28;01mtry\u001b[39;00m:\n\u001b[1;32m     76\u001b[0m     EVENT_LOGGER\u001b[38;5;241m.\u001b[39mdebug(\u001b[38;5;124m\"\u001b[39m\u001b[38;5;124mController GET \u001b[39m\u001b[38;5;132;01m%s\u001b[39;00m\u001b[38;5;124m request to Agent\u001b[39m\u001b[38;5;124m\"\u001b[39m, path)\n\u001b[0;32m---> 77\u001b[0m     response \u001b[38;5;241m=\u001b[39m \u001b[38;5;28;01mawait\u001b[39;00m \u001b[38;5;28mself\u001b[39m\u001b[38;5;241m.\u001b[39madmin_request(\u001b[38;5;124m\"\u001b[39m\u001b[38;5;124mGET\u001b[39m\u001b[38;5;124m\"\u001b[39m, path, \u001b[38;5;28;01mNone\u001b[39;00m, text, params)\n\u001b[1;32m     78\u001b[0m     EVENT_LOGGER\u001b[38;5;241m.\u001b[39mdebug(\n\u001b[1;32m     79\u001b[0m         \u001b[38;5;124m\"\u001b[39m\u001b[38;5;124mResponse from GET \u001b[39m\u001b[38;5;132;01m%s\u001b[39;00m\u001b[38;5;124m received: \u001b[39m\u001b[38;5;130;01m\\n\u001b[39;00m\u001b[38;5;132;01m%s\u001b[39;00m\u001b[38;5;124m\"\u001b[39m, path, repr_json(response),\n\u001b[1;32m     80\u001b[0m     )\n\u001b[1;32m     81\u001b[0m     \u001b[38;5;28;01mreturn\u001b[39;00m response\n",
      "File \u001b[0;32m/aries_basic_controller/controllers/base.py:60\u001b[0m, in \u001b[0;36mBaseController.admin_request\u001b[0;34m(self, method, path, json_data, text, params, data)\u001b[0m\n\u001b[1;32m     56\u001b[0m \u001b[38;5;28;01masync\u001b[39;00m \u001b[38;5;28;01mdef\u001b[39;00m \u001b[38;5;21madmin_request\u001b[39m(\n\u001b[1;32m     57\u001b[0m     \u001b[38;5;28mself\u001b[39m, method, path, json_data\u001b[38;5;241m=\u001b[39m\u001b[38;5;28;01mNone\u001b[39;00m, text\u001b[38;5;241m=\u001b[39m\u001b[38;5;28;01mFalse\u001b[39;00m, params\u001b[38;5;241m=\u001b[39m\u001b[38;5;28;01mNone\u001b[39;00m, data\u001b[38;5;241m=\u001b[39m\u001b[38;5;28;01mNone\u001b[39;00m\n\u001b[1;32m     58\u001b[0m ) \u001b[38;5;241m-\u001b[39m\u001b[38;5;241m>\u001b[39m ClientResponse:\n\u001b[1;32m     59\u001b[0m     params \u001b[38;5;241m=\u001b[39m {k: v \u001b[38;5;28;01mfor\u001b[39;00m (k, v) \u001b[38;5;129;01min\u001b[39;00m (params \u001b[38;5;129;01mor\u001b[39;00m {})\u001b[38;5;241m.\u001b[39mitems() \u001b[38;5;28;01mif\u001b[39;00m v \u001b[38;5;129;01mis\u001b[39;00m \u001b[38;5;129;01mnot\u001b[39;00m \u001b[38;5;28;01mNone\u001b[39;00m}\n\u001b[0;32m---> 60\u001b[0m     \u001b[38;5;28;01masync\u001b[39;00m \u001b[38;5;28;01mwith\u001b[39;00m \u001b[38;5;28mself\u001b[39m\u001b[38;5;241m.\u001b[39mclient_session\u001b[38;5;241m.\u001b[39mrequest(\n\u001b[1;32m     61\u001b[0m         method, \u001b[38;5;28mself\u001b[39m\u001b[38;5;241m.\u001b[39madmin_url \u001b[38;5;241m+\u001b[39m path, json\u001b[38;5;241m=\u001b[39mjson_data, params\u001b[38;5;241m=\u001b[39mparams, data\u001b[38;5;241m=\u001b[39mdata\n\u001b[1;32m     62\u001b[0m     ) \u001b[38;5;28;01mas\u001b[39;00m resp:\n\u001b[1;32m     63\u001b[0m         resp\u001b[38;5;241m.\u001b[39mraise_for_status()\n\u001b[1;32m     64\u001b[0m         resp_text \u001b[38;5;241m=\u001b[39m \u001b[38;5;28;01mawait\u001b[39;00m resp\u001b[38;5;241m.\u001b[39mtext()\n",
      "File \u001b[0;32m/opt/conda/lib/python3.10/site-packages/aiohttp/client.py:1117\u001b[0m, in \u001b[0;36m_BaseRequestContextManager.__aenter__\u001b[0;34m(self)\u001b[0m\n\u001b[1;32m   1116\u001b[0m \u001b[38;5;28;01masync\u001b[39;00m \u001b[38;5;28;01mdef\u001b[39;00m \u001b[38;5;21m__aenter__\u001b[39m(\u001b[38;5;28mself\u001b[39m) \u001b[38;5;241m-\u001b[39m\u001b[38;5;241m>\u001b[39m _RetType:\n\u001b[0;32m-> 1117\u001b[0m     \u001b[38;5;28mself\u001b[39m\u001b[38;5;241m.\u001b[39m_resp \u001b[38;5;241m=\u001b[39m \u001b[38;5;28;01mawait\u001b[39;00m \u001b[38;5;28mself\u001b[39m\u001b[38;5;241m.\u001b[39m_coro\n\u001b[1;32m   1118\u001b[0m     \u001b[38;5;28;01mreturn\u001b[39;00m \u001b[38;5;28mself\u001b[39m\u001b[38;5;241m.\u001b[39m_resp\n",
      "File \u001b[0;32m/opt/conda/lib/python3.10/site-packages/aiohttp/client.py:520\u001b[0m, in \u001b[0;36mClientSession._request\u001b[0;34m(self, method, str_or_url, params, data, json, cookies, headers, skip_auto_headers, auth, allow_redirects, max_redirects, compress, chunked, expect100, raise_for_status, read_until_eof, proxy, proxy_auth, timeout, verify_ssl, fingerprint, ssl_context, ssl, proxy_headers, trace_request_ctx, read_bufsize)\u001b[0m\n\u001b[1;32m    518\u001b[0m     \u001b[38;5;28;01mwith\u001b[39;00m CeilTimeout(real_timeout\u001b[38;5;241m.\u001b[39mconnect, loop\u001b[38;5;241m=\u001b[39m\u001b[38;5;28mself\u001b[39m\u001b[38;5;241m.\u001b[39m_loop):\n\u001b[1;32m    519\u001b[0m         \u001b[38;5;28;01massert\u001b[39;00m \u001b[38;5;28mself\u001b[39m\u001b[38;5;241m.\u001b[39m_connector \u001b[38;5;129;01mis\u001b[39;00m \u001b[38;5;129;01mnot\u001b[39;00m \u001b[38;5;28;01mNone\u001b[39;00m\n\u001b[0;32m--> 520\u001b[0m         conn \u001b[38;5;241m=\u001b[39m \u001b[38;5;28;01mawait\u001b[39;00m \u001b[38;5;28mself\u001b[39m\u001b[38;5;241m.\u001b[39m_connector\u001b[38;5;241m.\u001b[39mconnect(\n\u001b[1;32m    521\u001b[0m             req, traces\u001b[38;5;241m=\u001b[39mtraces, timeout\u001b[38;5;241m=\u001b[39mreal_timeout\n\u001b[1;32m    522\u001b[0m         )\n\u001b[1;32m    523\u001b[0m \u001b[38;5;28;01mexcept\u001b[39;00m asyncio\u001b[38;5;241m.\u001b[39mTimeoutError \u001b[38;5;28;01mas\u001b[39;00m exc:\n\u001b[1;32m    524\u001b[0m     \u001b[38;5;28;01mraise\u001b[39;00m ServerTimeoutError(\n\u001b[1;32m    525\u001b[0m         \u001b[38;5;124m\"\u001b[39m\u001b[38;5;124mConnection timeout \u001b[39m\u001b[38;5;124m\"\u001b[39m \u001b[38;5;124m\"\u001b[39m\u001b[38;5;124mto host \u001b[39m\u001b[38;5;132;01m{}\u001b[39;00m\u001b[38;5;124m\"\u001b[39m\u001b[38;5;241m.\u001b[39mformat(url)\n\u001b[1;32m    526\u001b[0m     ) \u001b[38;5;28;01mfrom\u001b[39;00m \u001b[38;5;21;01mexc\u001b[39;00m\n",
      "File \u001b[0;32m/opt/conda/lib/python3.10/site-packages/aiohttp/connector.py:535\u001b[0m, in \u001b[0;36mBaseConnector.connect\u001b[0;34m(self, req, traces, timeout)\u001b[0m\n\u001b[1;32m    532\u001b[0m         \u001b[38;5;28;01mawait\u001b[39;00m trace\u001b[38;5;241m.\u001b[39msend_connection_create_start()\n\u001b[1;32m    534\u001b[0m \u001b[38;5;28;01mtry\u001b[39;00m:\n\u001b[0;32m--> 535\u001b[0m     proto \u001b[38;5;241m=\u001b[39m \u001b[38;5;28;01mawait\u001b[39;00m \u001b[38;5;28mself\u001b[39m\u001b[38;5;241m.\u001b[39m_create_connection(req, traces, timeout)\n\u001b[1;32m    536\u001b[0m     \u001b[38;5;28;01mif\u001b[39;00m \u001b[38;5;28mself\u001b[39m\u001b[38;5;241m.\u001b[39m_closed:\n\u001b[1;32m    537\u001b[0m         proto\u001b[38;5;241m.\u001b[39mclose()\n",
      "File \u001b[0;32m/opt/conda/lib/python3.10/site-packages/aiohttp/connector.py:892\u001b[0m, in \u001b[0;36mTCPConnector._create_connection\u001b[0;34m(self, req, traces, timeout)\u001b[0m\n\u001b[1;32m    890\u001b[0m     _, proto \u001b[38;5;241m=\u001b[39m \u001b[38;5;28;01mawait\u001b[39;00m \u001b[38;5;28mself\u001b[39m\u001b[38;5;241m.\u001b[39m_create_proxy_connection(req, traces, timeout)\n\u001b[1;32m    891\u001b[0m \u001b[38;5;28;01melse\u001b[39;00m:\n\u001b[0;32m--> 892\u001b[0m     _, proto \u001b[38;5;241m=\u001b[39m \u001b[38;5;28;01mawait\u001b[39;00m \u001b[38;5;28mself\u001b[39m\u001b[38;5;241m.\u001b[39m_create_direct_connection(req, traces, timeout)\n\u001b[1;32m    894\u001b[0m \u001b[38;5;28;01mreturn\u001b[39;00m proto\n",
      "File \u001b[0;32m/opt/conda/lib/python3.10/site-packages/aiohttp/connector.py:1011\u001b[0m, in \u001b[0;36mTCPConnector._create_direct_connection\u001b[0;34m(self, req, traces, timeout, client_error)\u001b[0m\n\u001b[1;32m   1007\u001b[0m     \u001b[38;5;28;01mraise\u001b[39;00m\n\u001b[1;32m   1008\u001b[0m \u001b[38;5;28;01mexcept\u001b[39;00m \u001b[38;5;167;01mOSError\u001b[39;00m \u001b[38;5;28;01mas\u001b[39;00m exc:\n\u001b[1;32m   1009\u001b[0m     \u001b[38;5;66;03m# in case of proxy it is not ClientProxyConnectionError\u001b[39;00m\n\u001b[1;32m   1010\u001b[0m     \u001b[38;5;66;03m# it is problem of resolving proxy ip itself\u001b[39;00m\n\u001b[0;32m-> 1011\u001b[0m     \u001b[38;5;28;01mraise\u001b[39;00m ClientConnectorError(req\u001b[38;5;241m.\u001b[39mconnection_key, exc) \u001b[38;5;28;01mfrom\u001b[39;00m \u001b[38;5;21;01mexc\u001b[39;00m\n\u001b[1;32m   1013\u001b[0m last_exc \u001b[38;5;241m=\u001b[39m \u001b[38;5;28;01mNone\u001b[39;00m  \u001b[38;5;66;03m# type: Optional[Exception]\u001b[39;00m\n\u001b[1;32m   1015\u001b[0m \u001b[38;5;28;01mfor\u001b[39;00m hinfo \u001b[38;5;129;01min\u001b[39;00m hosts:\n",
      "\u001b[0;31mClientConnectorError\u001b[0m: Cannot connect to host carol-agent:8081 ssl:default [Name or service not known]"
     ]
    },
    {
     "name": "stdout",
     "output_type": "stream",
     "text": [
      "Error during GET /connections: Cannot connect to host carol-agent:8081 ssl:default [Name or service not known]\n"
     ]
    }
   ],
   "source": [
    "response = await agent_controller.connections.get_connections()\n",
    "results = response['results']\n",
    "print(len(results))\n",
    "# print(\"Results : \", results)\n",
    "if len(results) > 0:\n",
    "    connection = response['results'][0]\n",
    "    print(\"Connection :\", connection)\n",
    "    if connection['state'] == 'active':       \n",
    "        connection_id = connection[\"connection_id\"]\n",
    "        print(\"Active Connection ID : \", connection_id)\n",
    "else:\n",
    "    print(\"You must create a connection\")\n",
    "    \n"
   ]
  },
  {
   "cell_type": "markdown",
   "metadata": {},
   "source": [
    "## 4. Write a Schema to the Ledger\n",
    "\n",
    "**Note: You will only be able to do this once unless you change the schema_name or version. Or tear down the current ledger using ./manage down**"
   ]
  },
  {
   "cell_type": "code",
   "execution_count": 19,
   "metadata": {},
   "outputs": [
    {
     "name": "stdout",
     "output_type": "stream",
     "text": [
      "PQRXDxdGqQGSZ8z69p4xZP:2:open_mined_contributor:0.0.2\n"
     ]
    }
   ],
   "source": [
    "# Define you schema name - must be unique on the ledger\n",
    "schema_name = \"open_mined_contributor\"\n",
    "# Can version the schema if you wish to update it\n",
    "schema_version = \"0.0.2\"\n",
    "# Define any list of attributes you wish to include in your schema\n",
    "attributes = [\"name\", \"skill\", \"age\"]\n",
    "\n",
    "response = await agent_controller.schema.write_schema(schema_name, attributes, schema_version)\n",
    "schema_id = response[\"schema_id\"]\n",
    "print(schema_id)\n"
   ]
  },
  {
   "cell_type": "markdown",
   "metadata": {},
   "source": [
    "## 5. Write a Credential Definition to the Ledger\n",
    "\n",
    "More details in the [definitions notebook](http://localhost:8888/lab/tree/2%20Credentials/Part%201%20-%20Credential%20Schema%20and%20Definitions.ipynb)\n",
    "\n",
    "**Note: Again this can only be done once per issuer, per schema_id.**"
   ]
  },
  {
   "cell_type": "code",
   "execution_count": 20,
   "metadata": {},
   "outputs": [
    {
     "name": "stdout",
     "output_type": "stream",
     "text": [
      "PQRXDxdGqQGSZ8z69p4xZP:3:CL:18:default\n"
     ]
    }
   ],
   "source": [
    "response = await agent_controller.definitions.write_cred_def(schema_id)\n",
    "\n",
    "cred_def_id = response[\"credential_definition_id\"]\n",
    "print(cred_def_id)"
   ]
  },
  {
   "cell_type": "markdown",
   "metadata": {},
   "source": [
    "**Note: You should be able to see both schema and definition transactions on the local network [here](http://localhost:9000)**"
   ]
  },
  {
   "cell_type": "markdown",
   "metadata": {},
   "source": [
    "## 6. Populate the Attribues to Issue to Bob\n",
    "\n",
    "The schema defines two attributes: name and skill. Both must be populated with attribute values that Alice wishes to issue in a credential to Bob. To do this a list of objects must be created, each object containing the name of the attribute and it's value at a minimum. You can set the values to anything you wish.\n",
    "\n",
    "TODO: Some additional fields such as mime-type can be defined."
   ]
  },
  {
   "cell_type": "code",
   "execution_count": 6,
   "metadata": {},
   "outputs": [
    {
     "name": "stdout",
     "output_type": "stream",
     "text": [
      "[{'name': 'author', 'value': 'Alice'}, {'name': 'name', 'value': 'researcher'}, {'name': 'time', 'value': '01-02-2023, 07:20:39'}, {'name': 'is_original', 'value': '1'}]\n"
     ]
    }
   ],
   "source": [
    "import datetime\n",
    "time = datetime.datetime.now().strftime(\"%m-%d-%Y, %H:%M:%S\")\n",
    "credential_attributes = [\n",
    "    {\"name\": \"author\", \"value\": \"Alice\"},\n",
    "    {\"name\": \"name\", \"value\": \"researcher\"},\n",
    "    {\"name\": \"time\", \"value\": time},\n",
    "    {\"name\": \"is_original\", \"value\": \"1\"}\n",
    "]\n",
    "print(credential_attributes)"
   ]
  },
  {
   "cell_type": "markdown",
   "metadata": {},
   "source": [
    "## 7. Continue to the [Holder Notebook](http://localhost:8889/lab/tree/2%20Credentials/Part%202%20-%20Issue%20Credential.ipynb)\n",
    "\n",
    "It works best if this notebook is already initialised and has listeners registered.\n"
   ]
  },
  {
   "cell_type": "markdown",
   "metadata": {},
   "source": [
    "## 9. Send Credential\n",
    "\n",
    "This sends a credential to a holder (Bob), and automates the rest of the protocol.\n",
    "\n",
    "There are other ways to issue a credential that require multiple api calls.\n",
    "\n",
    "**Arguments**\n",
    "* connection_id: The connection_id of the holder you wish to issue to (MUST be in active state)\n",
    "* schema_id: The id of the schema you wish to issue\n",
    "* cred_def_id: The definition (public key) to sign the credential object. This must refer to the schema_id and be written to the ledger by the same public did that is currently being used by the agent.\n",
    "* attributes: A list of attribute objects as defined above. Must match the schema attributes.\n",
    "* comment (optional): Any string, defaults to \"\"\n",
    "* auto_remove (optional): Boolean, defaults to True. I believe this removes the record of this credential once it has been issued. (TODO: double check)\n",
    "* trace (optional): Boolean, defaults to False."
   ]
  },
  {
   "cell_type": "code",
   "execution_count": 11,
   "metadata": {},
   "outputs": [
    {
     "name": "stdout",
     "output_type": "stream",
     "text": [
      "Credential exchange 3db98c59-9737-430d-b36f-be65c445fb44, role: issuer, state: offer_sent\n",
      "Handle Credentials\n",
      "Credential exchange 3db98c59-9737-430d-b36f-be65c445fb44, role: issuer, state: offer_sent\n",
      "Offering: [{'name': 'author', 'value': 'Alice'}, {'name': 'name', 'value': 'researcher'}, {'name': 'time', 'value': '01-02-2023, 07:20:39'}, {'name': 'is_original', 'value': '1'}]\n",
      "Handle Credentials\n",
      "Credential exchange 1a197402-0bbb-4077-94f3-524146f8fe37, role: issuer, state: request_received\n",
      "Offering: [{'name': 'author', 'value': 'Alice'}, {'name': 'name', 'value': 'researcher'}, {'name': 'time', 'value': '01-02-2023, 07:20:39'}, {'name': 'is_original', 'value': '1'}]\n",
      "Handle Credentials\n",
      "Credential exchange 1a197402-0bbb-4077-94f3-524146f8fe37, role: issuer, state: credential_issued\n",
      "Offering: [{'name': 'author', 'value': 'Alice'}, {'name': 'name', 'value': 'researcher'}, {'name': 'time', 'value': '01-02-2023, 07:20:39'}, {'name': 'is_original', 'value': '1'}]\n",
      "Handle Credentials\n",
      "Credential exchange 1a197402-0bbb-4077-94f3-524146f8fe37, role: issuer, state: credential_acked\n",
      "Offering: [{'name': 'author', 'value': 'Alice'}, {'name': 'name', 'value': 'researcher'}, {'name': 'time', 'value': '01-02-2023, 07:20:39'}, {'name': 'is_original', 'value': '1'}]\n"
     ]
    }
   ],
   "source": [
    "schema_id = 'PQRXDxdGqQGSZ8z69p4xZP:2:chloebaba_schema:0.0.1'\n",
    "cred_def_id = 'PQRXDxdGqQGSZ8z69p4xZP:3:CL:29:default'\n",
    "record = await agent_controller.issuer.send_credential(connection_id, schema_id, cred_def_id, credential_attributes, auto_remove=False, trace=True)\n",
    "record_id = record['credential_exchange_id']\n",
    "state = record['state']\n",
    "role = record['role']\n",
    "print(f\"Credential exchange {record_id}, role: {role}, state: {state}\")\n"
   ]
  },
  {
   "cell_type": "markdown",
   "metadata": {},
   "source": [
    "## 10. Continue on Holder Notebook\n",
    "\n"
   ]
  },
  {
   "cell_type": "markdown",
   "metadata": {},
   "source": [
    "## Misc Api Calls (Optional)"
   ]
  },
  {
   "cell_type": "markdown",
   "metadata": {},
   "source": [
    "## Get Credential Exchange Records\n",
    "\n",
    "The state of the protocol is stored in an object called a Credential Exchange. These can be retrieved from the agent either individually by ID or the full list.\n",
    "\n",
    "Each record has a state, representing the stage of the protocol the record is at and a role. Either issuer or holder."
   ]
  },
  {
   "cell_type": "code",
   "execution_count": 23,
   "metadata": {},
   "outputs": [
    {
     "name": "stdout",
     "output_type": "stream",
     "text": [
      "[{'updated_at': '2023-01-01 15:44:50.936856Z', 'trace': True, 'credential_request': {'prover_did': '6UJzVcKRUTNd2Z3fkgSwqc', 'cred_def_id': 'PQRXDxdGqQGSZ8z69p4xZP:3:CL:18:default', 'blinded_ms': {'u': '82525681500742288148474564630177094233184980851380856385643646115889543522307497349840857727974165807714876639783314434724269466393656929818284628647996398296674111609500398019777169749657303890511154419364730801076464000352467829667886405771568819889301124620633944121384990396825799437590653771834588795191024056073949877528822961161747036495762828773630735259939702681590283910085724268648305287085757593665064635779190223589222401334448927470481882500872630149291408078786711799774300892960067066157746834923247479416365729865676682129161874348395763152577920576060404243726449366520655263685500466808013724930270', 'ur': None, 'hidden_attributes': ['master_secret'], 'committed_attributes': {}}, 'blinded_ms_correctness_proof': {'c': '8029169063441874947267186146325321221770726675677053085341924318494048821814', 'v_dash_cap': '213287327663732359904377508010761570361507671324768931347690190130159793672768667169313793268237430800275191656188540831123780941129098994135077266082068636031645111311600953241268717717636278069276273205906228156376602998936420942971629594133879245736344164076384262379371455962467367366647301355869405036476403827570971500733669029382688922524978220214997564977133603537382094066612408830567913819049366352567797804755715039968889154758003329460571139167477580635708061299940885028871553123441038583292527669259952307465505118216619252957092847586261795786892479995191419088496070312072804383819561756488969901380239584152316381196747460879082801476671803072155748826131530114902299965645354504245327260945031140653', 'm_caps': {'master_secret': '8735335515007168742471720457724775592934793053950484173044656938243207668178487204249835603043564881050662275608538203884075796874287381212066734383028715875341303687887862518185'}, 'r_caps': {}}, 'nonce': '771830349458069270252138'}, 'thread_id': 'ac7b21bd-3d9d-487f-941b-785e72661df1', 'created_at': '2023-01-01 15:42:04.888680Z', 'credential_definition_id': 'PQRXDxdGqQGSZ8z69p4xZP:3:CL:18:default', 'auto_offer': False, 'connection_id': 'c3d00305-0806-4846-954d-934ac0c36533', 'credential_exchange_id': '84b881db-d300-4863-b492-e05ef9031fae', 'auto_remove': False, 'credential': {'schema_id': 'PQRXDxdGqQGSZ8z69p4xZP:2:open_mined_contributor:0.0.2', 'cred_def_id': 'PQRXDxdGqQGSZ8z69p4xZP:3:CL:18:default', 'rev_reg_id': None, 'values': {'name': {'raw': 'Bob', 'encoded': '93006290325627508022776103386395994712401809437930957652111221015872244345185'}, 'skill': {'raw': 'researcher', 'encoded': '24214165878429772374367858032287880675266648921286067519661391650938186682695'}, 'age': {'raw': '21', 'encoded': '21'}}, 'signature': {'p_credential': {'m_2': '51218090455582301323823010217661536134289395507143561159981566516112657511156', 'a': '86075114069578835608020899929486866422411385589739517719256995089944868346813391777136894491754441860161559699384315024025122504590937363962316153196389989335423549140414929307711692991869447845293314829249714329449634757417891538697838195669834597952138953011105268446432964193144800393269368609829291393518416552325045927141359039709479927318632047673824760450654589694147019586614219774635621757885157804696372171204107389188796709336836472715284729395153983098627610563198073234115142902160994603757392648698427133163021409836184819425015998172924674723443436330663548263629558059003589012207525514692814866481115', 'e': '259344723055062059907025491480697571938277889515152306249728583105665800713306759149981690559193987143012367913206299323899696942213235956742929755015806117922845658414842950252483', 'v': '5464662361340861180714103516400281468434779958325931295069524713542857584281553850700255094236107365421155050722488886856846759943753374936345191482036257547783991727350480675598280452554907815953921738974105609828416122776966213771960386014124726712945217938087530146174651606516623096684737422172775291611075498604351881712441406935676477476164204171070226553571382800565765856473223720289265946309076532273959791803275661752604348573237977015259660890554618574457424263046563066995351367362970798384730970668283365756193524870927307627113134133241637136612898793081473419778058369619534298390822369870782222308309935674269599921654266213465250327674523084950087489453307621651916194172981378679766519570701834501477217921082210083643160522484691623493533663081873490686457605412272288185320096786146952872151023077174'}, 'r_credential': None}, 'signature_correctness_proof': {'se': '21158900099215344225915055073964199791059810541074025306369554039982978053521002721148148843142700091891446369547209728850894362775667735642566173218145370873937795731339299245338772958569595099812296158528350295625153305176584868112477510037134274440785243572137522281282529732563439047107925738743090769711064414891000555852645288036768956021270409643780335728730007667472417592805643529264195561599077146224177337437205455224661482115772474551813384878766670149642243022023392132305041250650516422037271634393650671496903143807274627853710702744572939293746880266776644487065153298125644112329738556566168743648867', 'c': '70347300007825008966709289476239310202065459988410529857029877123660527424458'}, 'rev_reg': None, 'witness': None}, 'credential_offer_dict': {'@type': 'did:sov:BzCbsNYhMrjHiqZDTUASHg;spec/issue-credential/1.0/offer-credential', '@id': 'ac7b21bd-3d9d-487f-941b-785e72661df1', '~thread': {}, '~trace': {'target': 'log', 'full_thread': True, 'trace_reports': []}, 'comment': 'create automated credential exchange', 'credential_preview': {'@type': 'did:sov:BzCbsNYhMrjHiqZDTUASHg;spec/issue-credential/1.0/credential-preview', 'attributes': [{'name': 'name', 'value': 'Bob'}, {'name': 'skill', 'value': 'researcher'}, {'name': 'age', 'value': '21'}]}, 'offers~attach': [{'@id': 'libindy-cred-offer-0', 'mime-type': 'application/json', 'data': {'base64': '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'}}]}, 'auto_issue': True, 'state': 'credential_acked', 'schema_id': 'PQRXDxdGqQGSZ8z69p4xZP:2:open_mined_contributor:0.0.2', 'role': 'issuer', 'credential_proposal_dict': {'@type': 'did:sov:BzCbsNYhMrjHiqZDTUASHg;spec/issue-credential/1.0/propose-credential', '@id': '1b9904ee-d47a-4c93-b2fd-4a0490008404', '~trace': {'target': 'log', 'full_thread': True, 'trace_reports': []}, 'schema_issuer_did': 'PQRXDxdGqQGSZ8z69p4xZP', 'schema_id': 'PQRXDxdGqQGSZ8z69p4xZP:2:open_mined_contributor:0.0.2', 'comment': '', 'schema_version': '0.0.2', 'cred_def_id': 'PQRXDxdGqQGSZ8z69p4xZP:3:CL:18:default', 'issuer_did': 'PQRXDxdGqQGSZ8z69p4xZP', 'schema_name': 'open_mined_contributor', 'credential_proposal': {'@type': 'did:sov:BzCbsNYhMrjHiqZDTUASHg;spec/issue-credential/1.0/credential-preview', 'attributes': [{'name': 'name', 'value': 'Bob'}, {'name': 'skill', 'value': 'researcher'}, {'name': 'age', 'value': '21'}]}}, 'credential_offer': {'schema_id': 'PQRXDxdGqQGSZ8z69p4xZP:2:open_mined_contributor:0.0.2', 'cred_def_id': 'PQRXDxdGqQGSZ8z69p4xZP:3:CL:18:default', 'key_correctness_proof': {'c': '97613368628936748614913288093294498357939114240126641222356065991010330045836', 'xz_cap': '2099110736975228334726932434210418609687165954096599158239837709833605340135171866156350195891919749438348188949741795629165111669704367682751845841710340353234996544659591340744671418230148976729935045174398420898508036099257193251853607977258835675167908805529159250388498293141499772645104993320249419984600182952283611915823383098065788018952410666262711475970953066239373325111347247296472434184007276255452541349451174655445218042547138369791264604186099732059428930100649511185259384333307440789533765999012763932233307386127555298573421682877714410008972735159082096264230543723249910002454610036771313163907036779683499951552038380679494823853298503900839775942032679870930227634260893', 'xr_cap': [['name', '317068151320411150318982165199138429377124020632568971772354003554676877159832135843480021187720121554431664122024521095799305083007590909700905873473414615791700138538804451732100510296660226736696953113420448278681328366006453459657092727844013552635936496893133927475233725573996698441335924391010830338920188962045618403290399026230989516870411775120799843083845479045596112755199557858713858172070776437257693572746028876129287301538909478802503751560738968042060709824140513770960395744477668489572985739205884480888526221359528557350340205546199526376588465979610836101087770420551247960868964532457381844436805828838287240459181052955645758985139579753892313063135282653593162468078591'], ['master_secret', '1852526186113839451825416764321672025893485845215646051547600359147216960259756573285373245130031438003426473826783497950447911356063607186937185256114402730762317107819928160990079844817642141231503746825197564324610305418961852910129099875645629968144182871558357150337356439954259524853133128059549162061026578524321654274514685290414541999780321341303481360702575872297721098173857378723170492495381438048625813864044615547551538879325622978919039833710548767060644182158528269791144313945765413036616609819655262430090156338097162167394253455740616428335478797660676606685392051082429757698815992883915971444293966957899130323529209273758630945667160907210329116490197036316359426367863218'], ['skill', '1646573097937614805376356119837722777326576666784104519047508249560238119627657301819488363494737877024965106871578866826886933871626710252295099842973805254389033206598328016266813205209665522522540102521500518701709659971492423536106909510977878495143001134494793299651582897278172448660081135268163753377998972175259052526315792299964728604028515689069474455194969448843130824654157138869430688619862188891715255266683783076015534685330400417907949355749156395703718665850517872666413408620748586616677063552401536686138927036786960962122355737172471432946619532355727978572419115965748522476516426139551512724919154590626268753945931673703922385481859582139876010301361940859919367332883353'], ['age', '2115849859023457750990297181155117556601920960715523922106557657251400323859202542642117449995140182873779200553789373415995235943546076505491044258783703164593241553146902843752127517797265498338914956815075805610331086710655377477605384818673850698132802475576114580560869814877358431795946692863208693868460754934239583565407099860261019939389380937636333978135488843091257176692315743716624340466691181573206783737537847528813044532103697856541707329443796322100842711866184110228523631120914104852673469063825109949670509724690850103420936344221519576247917664986808042051458056524040825114699600613045714605264045423786106818538136571140665972261112677459799645474172475631848229063124438']]}, 'nonce': '682039955395023897131741'}, 'initiator': 'self'}, {'updated_at': '2023-01-01 15:30:37.507040Z', 'trace': True, 'thread_id': 'c335aa4c-9501-4638-ad2d-cf419f5bc1a4', 'created_at': '2023-01-01 15:30:37.507040Z', 'credential_definition_id': 'PQRXDxdGqQGSZ8z69p4xZP:3:CL:18:default', 'auto_offer': False, 'connection_id': '2cb9f84e-2cc5-49c2-8ffd-2c7ca5241f66', 'credential_exchange_id': 'fa34d53a-b8ca-4987-b59a-8117c78cee36', 'auto_remove': False, 'credential_offer_dict': {'@type': 'did:sov:BzCbsNYhMrjHiqZDTUASHg;spec/issue-credential/1.0/offer-credential', '@id': 'c335aa4c-9501-4638-ad2d-cf419f5bc1a4', '~thread': {}, '~trace': {'target': 'log', 'full_thread': True, 'trace_reports': []}, 'comment': 'create automated credential exchange', 'credential_preview': {'@type': 'did:sov:BzCbsNYhMrjHiqZDTUASHg;spec/issue-credential/1.0/credential-preview', 'attributes': [{'name': 'name', 'value': 'Bob'}, {'name': 'skill', 'value': 'researcher'}, {'name': 'age', 'value': '21'}]}, 'offers~attach': [{'@id': 'libindy-cred-offer-0', 'mime-type': 'application/json', 'data': {'base64': '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'}}]}, 'auto_issue': True, 'state': 'offer_sent', 'schema_id': 'PQRXDxdGqQGSZ8z69p4xZP:2:open_mined_contributor:0.0.2', 'role': 'issuer', 'credential_proposal_dict': {'@type': 'did:sov:BzCbsNYhMrjHiqZDTUASHg;spec/issue-credential/1.0/propose-credential', '@id': '1c714da0-b715-47cd-84e2-cb73cab9da8d', '~trace': {'target': 'log', 'full_thread': True, 'trace_reports': []}, 'schema_issuer_did': 'PQRXDxdGqQGSZ8z69p4xZP', 'schema_id': 'PQRXDxdGqQGSZ8z69p4xZP:2:open_mined_contributor:0.0.2', 'comment': '', 'schema_version': '0.0.2', 'cred_def_id': 'PQRXDxdGqQGSZ8z69p4xZP:3:CL:18:default', 'issuer_did': 'PQRXDxdGqQGSZ8z69p4xZP', 'schema_name': 'open_mined_contributor', 'credential_proposal': {'@type': 'did:sov:BzCbsNYhMrjHiqZDTUASHg;spec/issue-credential/1.0/credential-preview', 'attributes': [{'name': 'name', 'value': 'Bob'}, {'name': 'skill', 'value': 'researcher'}, {'name': 'age', 'value': '21'}]}}, 'credential_offer': {'schema_id': 'PQRXDxdGqQGSZ8z69p4xZP:2:open_mined_contributor:0.0.2', 'cred_def_id': 'PQRXDxdGqQGSZ8z69p4xZP:3:CL:18:default', 'key_correctness_proof': {'c': '97613368628936748614913288093294498357939114240126641222356065991010330045836', 'xz_cap': '2099110736975228334726932434210418609687165954096599158239837709833605340135171866156350195891919749438348188949741795629165111669704367682751845841710340353234996544659591340744671418230148976729935045174398420898508036099257193251853607977258835675167908805529159250388498293141499772645104993320249419984600182952283611915823383098065788018952410666262711475970953066239373325111347247296472434184007276255452541349451174655445218042547138369791264604186099732059428930100649511185259384333307440789533765999012763932233307386127555298573421682877714410008972735159082096264230543723249910002454610036771313163907036779683499951552038380679494823853298503900839775942032679870930227634260893', 'xr_cap': [['name', '317068151320411150318982165199138429377124020632568971772354003554676877159832135843480021187720121554431664122024521095799305083007590909700905873473414615791700138538804451732100510296660226736696953113420448278681328366006453459657092727844013552635936496893133927475233725573996698441335924391010830338920188962045618403290399026230989516870411775120799843083845479045596112755199557858713858172070776437257693572746028876129287301538909478802503751560738968042060709824140513770960395744477668489572985739205884480888526221359528557350340205546199526376588465979610836101087770420551247960868964532457381844436805828838287240459181052955645758985139579753892313063135282653593162468078591'], ['master_secret', '1852526186113839451825416764321672025893485845215646051547600359147216960259756573285373245130031438003426473826783497950447911356063607186937185256114402730762317107819928160990079844817642141231503746825197564324610305418961852910129099875645629968144182871558357150337356439954259524853133128059549162061026578524321654274514685290414541999780321341303481360702575872297721098173857378723170492495381438048625813864044615547551538879325622978919039833710548767060644182158528269791144313945765413036616609819655262430090156338097162167394253455740616428335478797660676606685392051082429757698815992883915971444293966957899130323529209273758630945667160907210329116490197036316359426367863218'], ['skill', '1646573097937614805376356119837722777326576666784104519047508249560238119627657301819488363494737877024965106871578866826886933871626710252295099842973805254389033206598328016266813205209665522522540102521500518701709659971492423536106909510977878495143001134494793299651582897278172448660081135268163753377998972175259052526315792299964728604028515689069474455194969448843130824654157138869430688619862188891715255266683783076015534685330400417907949355749156395703718665850517872666413408620748586616677063552401536686138927036786960962122355737172471432946619532355727978572419115965748522476516426139551512724919154590626268753945931673703922385481859582139876010301361940859919367332883353'], ['age', '2115849859023457750990297181155117556601920960715523922106557657251400323859202542642117449995140182873779200553789373415995235943546076505491044258783703164593241553146902843752127517797265498338914956815075805610331086710655377477605384818673850698132802475576114580560869814877358431795946692863208693868460754934239583565407099860261019939389380937636333978135488843091257176692315743716624340466691181573206783737537847528813044532103697856541707329443796322100842711866184110228523631120914104852673469063825109949670509724690850103420936344221519576247917664986808042051458056524040825114699600613045714605264045423786106818538136571140665972261112677459799645474172475631848229063124438']]}, 'nonce': '682039955395023897131741'}, 'initiator': 'self'}, {'updated_at': '2023-01-01 15:35:35.411872Z', 'trace': True, 'thread_id': '2e27d6d0-10fd-4efb-ba45-ded721d42413', 'created_at': '2023-01-01 15:35:35.411872Z', 'credential_definition_id': 'PQRXDxdGqQGSZ8z69p4xZP:3:CL:18:default', 'auto_offer': False, 'connection_id': '2cb9f84e-2cc5-49c2-8ffd-2c7ca5241f66', 'credential_exchange_id': 'ae9b1ad0-ed09-4189-bb38-a54561c024ba', 'auto_remove': False, 'credential_offer_dict': {'@type': 'did:sov:BzCbsNYhMrjHiqZDTUASHg;spec/issue-credential/1.0/offer-credential', '@id': '2e27d6d0-10fd-4efb-ba45-ded721d42413', '~thread': {}, '~trace': {'target': 'log', 'full_thread': True, 'trace_reports': []}, 'comment': 'create automated credential exchange', 'credential_preview': {'@type': 'did:sov:BzCbsNYhMrjHiqZDTUASHg;spec/issue-credential/1.0/credential-preview', 'attributes': [{'name': 'name', 'value': 'Bob'}, {'name': 'skill', 'value': 'researcher'}, {'name': 'age', 'value': '21'}]}, 'offers~attach': [{'@id': 'libindy-cred-offer-0', 'mime-type': 'application/json', 'data': {'base64': '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'}}]}, 'auto_issue': True, 'state': 'offer_sent', 'schema_id': 'PQRXDxdGqQGSZ8z69p4xZP:2:open_mined_contributor:0.0.2', 'role': 'issuer', 'credential_proposal_dict': {'@type': 'did:sov:BzCbsNYhMrjHiqZDTUASHg;spec/issue-credential/1.0/propose-credential', '@id': '3137dd7c-c42e-4f55-964d-34a3f0a58aec', '~trace': {'target': 'log', 'full_thread': True, 'trace_reports': []}, 'schema_issuer_did': 'PQRXDxdGqQGSZ8z69p4xZP', 'schema_id': 'PQRXDxdGqQGSZ8z69p4xZP:2:open_mined_contributor:0.0.2', 'comment': '', 'schema_version': '0.0.2', 'cred_def_id': 'PQRXDxdGqQGSZ8z69p4xZP:3:CL:18:default', 'issuer_did': 'PQRXDxdGqQGSZ8z69p4xZP', 'schema_name': 'open_mined_contributor', 'credential_proposal': {'@type': 'did:sov:BzCbsNYhMrjHiqZDTUASHg;spec/issue-credential/1.0/credential-preview', 'attributes': [{'name': 'name', 'value': 'Bob'}, {'name': 'skill', 'value': 'researcher'}, {'name': 'age', 'value': '21'}]}}, 'credential_offer': {'schema_id': 'PQRXDxdGqQGSZ8z69p4xZP:2:open_mined_contributor:0.0.2', 'cred_def_id': 'PQRXDxdGqQGSZ8z69p4xZP:3:CL:18:default', 'key_correctness_proof': {'c': '97613368628936748614913288093294498357939114240126641222356065991010330045836', 'xz_cap': '2099110736975228334726932434210418609687165954096599158239837709833605340135171866156350195891919749438348188949741795629165111669704367682751845841710340353234996544659591340744671418230148976729935045174398420898508036099257193251853607977258835675167908805529159250388498293141499772645104993320249419984600182952283611915823383098065788018952410666262711475970953066239373325111347247296472434184007276255452541349451174655445218042547138369791264604186099732059428930100649511185259384333307440789533765999012763932233307386127555298573421682877714410008972735159082096264230543723249910002454610036771313163907036779683499951552038380679494823853298503900839775942032679870930227634260893', 'xr_cap': [['name', '317068151320411150318982165199138429377124020632568971772354003554676877159832135843480021187720121554431664122024521095799305083007590909700905873473414615791700138538804451732100510296660226736696953113420448278681328366006453459657092727844013552635936496893133927475233725573996698441335924391010830338920188962045618403290399026230989516870411775120799843083845479045596112755199557858713858172070776437257693572746028876129287301538909478802503751560738968042060709824140513770960395744477668489572985739205884480888526221359528557350340205546199526376588465979610836101087770420551247960868964532457381844436805828838287240459181052955645758985139579753892313063135282653593162468078591'], ['master_secret', '1852526186113839451825416764321672025893485845215646051547600359147216960259756573285373245130031438003426473826783497950447911356063607186937185256114402730762317107819928160990079844817642141231503746825197564324610305418961852910129099875645629968144182871558357150337356439954259524853133128059549162061026578524321654274514685290414541999780321341303481360702575872297721098173857378723170492495381438048625813864044615547551538879325622978919039833710548767060644182158528269791144313945765413036616609819655262430090156338097162167394253455740616428335478797660676606685392051082429757698815992883915971444293966957899130323529209273758630945667160907210329116490197036316359426367863218'], ['skill', '1646573097937614805376356119837722777326576666784104519047508249560238119627657301819488363494737877024965106871578866826886933871626710252295099842973805254389033206598328016266813205209665522522540102521500518701709659971492423536106909510977878495143001134494793299651582897278172448660081135268163753377998972175259052526315792299964728604028515689069474455194969448843130824654157138869430688619862188891715255266683783076015534685330400417907949355749156395703718665850517872666413408620748586616677063552401536686138927036786960962122355737172471432946619532355727978572419115965748522476516426139551512724919154590626268753945931673703922385481859582139876010301361940859919367332883353'], ['age', '2115849859023457750990297181155117556601920960715523922106557657251400323859202542642117449995140182873779200553789373415995235943546076505491044258783703164593241553146902843752127517797265498338914956815075805610331086710655377477605384818673850698132802475576114580560869814877358431795946692863208693868460754934239583565407099860261019939389380937636333978135488843091257176692315743716624340466691181573206783737537847528813044532103697856541707329443796322100842711866184110228523631120914104852673469063825109949670509724690850103420936344221519576247917664986808042051458056524040825114699600613045714605264045423786106818538136571140665972261112677459799645474172475631848229063124438']]}, 'nonce': '682039955395023897131741'}, 'initiator': 'self'}, {'updated_at': '2023-01-01 15:31:46.806761Z', 'trace': True, 'thread_id': '065fe4b1-2bff-4f60-b867-1f5921aaca5e', 'created_at': '2023-01-01 15:31:46.806761Z', 'credential_definition_id': 'PQRXDxdGqQGSZ8z69p4xZP:3:CL:18:default', 'auto_offer': False, 'connection_id': '2cb9f84e-2cc5-49c2-8ffd-2c7ca5241f66', 'credential_exchange_id': '1c8e6621-6b1a-49c4-a894-8bde53d3c822', 'auto_remove': False, 'credential_offer_dict': {'@type': 'did:sov:BzCbsNYhMrjHiqZDTUASHg;spec/issue-credential/1.0/offer-credential', '@id': '065fe4b1-2bff-4f60-b867-1f5921aaca5e', '~thread': {}, '~trace': {'target': 'log', 'full_thread': True, 'trace_reports': []}, 'comment': 'create automated credential exchange', 'credential_preview': {'@type': 'did:sov:BzCbsNYhMrjHiqZDTUASHg;spec/issue-credential/1.0/credential-preview', 'attributes': [{'name': 'name', 'value': 'Bob'}, {'name': 'skill', 'value': 'researcher'}, {'name': 'age', 'value': '21'}]}, 'offers~attach': [{'@id': 'libindy-cred-offer-0', 'mime-type': 'application/json', 'data': {'base64': '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'}}]}, 'auto_issue': True, 'state': 'offer_sent', 'schema_id': 'PQRXDxdGqQGSZ8z69p4xZP:2:open_mined_contributor:0.0.2', 'role': 'issuer', 'credential_proposal_dict': {'@type': 'did:sov:BzCbsNYhMrjHiqZDTUASHg;spec/issue-credential/1.0/propose-credential', '@id': '881acde0-2671-46e7-9f33-442f6669879e', '~trace': {'target': 'log', 'full_thread': True, 'trace_reports': []}, 'schema_issuer_did': 'PQRXDxdGqQGSZ8z69p4xZP', 'schema_id': 'PQRXDxdGqQGSZ8z69p4xZP:2:open_mined_contributor:0.0.2', 'comment': '', 'schema_version': '0.0.2', 'cred_def_id': 'PQRXDxdGqQGSZ8z69p4xZP:3:CL:18:default', 'issuer_did': 'PQRXDxdGqQGSZ8z69p4xZP', 'schema_name': 'open_mined_contributor', 'credential_proposal': {'@type': 'did:sov:BzCbsNYhMrjHiqZDTUASHg;spec/issue-credential/1.0/credential-preview', 'attributes': [{'name': 'name', 'value': 'Bob'}, {'name': 'skill', 'value': 'researcher'}, {'name': 'age', 'value': '21'}]}}, 'credential_offer': {'schema_id': 'PQRXDxdGqQGSZ8z69p4xZP:2:open_mined_contributor:0.0.2', 'cred_def_id': 'PQRXDxdGqQGSZ8z69p4xZP:3:CL:18:default', 'key_correctness_proof': {'c': '97613368628936748614913288093294498357939114240126641222356065991010330045836', 'xz_cap': '2099110736975228334726932434210418609687165954096599158239837709833605340135171866156350195891919749438348188949741795629165111669704367682751845841710340353234996544659591340744671418230148976729935045174398420898508036099257193251853607977258835675167908805529159250388498293141499772645104993320249419984600182952283611915823383098065788018952410666262711475970953066239373325111347247296472434184007276255452541349451174655445218042547138369791264604186099732059428930100649511185259384333307440789533765999012763932233307386127555298573421682877714410008972735159082096264230543723249910002454610036771313163907036779683499951552038380679494823853298503900839775942032679870930227634260893', 'xr_cap': [['name', '317068151320411150318982165199138429377124020632568971772354003554676877159832135843480021187720121554431664122024521095799305083007590909700905873473414615791700138538804451732100510296660226736696953113420448278681328366006453459657092727844013552635936496893133927475233725573996698441335924391010830338920188962045618403290399026230989516870411775120799843083845479045596112755199557858713858172070776437257693572746028876129287301538909478802503751560738968042060709824140513770960395744477668489572985739205884480888526221359528557350340205546199526376588465979610836101087770420551247960868964532457381844436805828838287240459181052955645758985139579753892313063135282653593162468078591'], ['master_secret', '1852526186113839451825416764321672025893485845215646051547600359147216960259756573285373245130031438003426473826783497950447911356063607186937185256114402730762317107819928160990079844817642141231503746825197564324610305418961852910129099875645629968144182871558357150337356439954259524853133128059549162061026578524321654274514685290414541999780321341303481360702575872297721098173857378723170492495381438048625813864044615547551538879325622978919039833710548767060644182158528269791144313945765413036616609819655262430090156338097162167394253455740616428335478797660676606685392051082429757698815992883915971444293966957899130323529209273758630945667160907210329116490197036316359426367863218'], ['skill', '1646573097937614805376356119837722777326576666784104519047508249560238119627657301819488363494737877024965106871578866826886933871626710252295099842973805254389033206598328016266813205209665522522540102521500518701709659971492423536106909510977878495143001134494793299651582897278172448660081135268163753377998972175259052526315792299964728604028515689069474455194969448843130824654157138869430688619862188891715255266683783076015534685330400417907949355749156395703718665850517872666413408620748586616677063552401536686138927036786960962122355737172471432946619532355727978572419115965748522476516426139551512724919154590626268753945931673703922385481859582139876010301361940859919367332883353'], ['age', '2115849859023457750990297181155117556601920960715523922106557657251400323859202542642117449995140182873779200553789373415995235943546076505491044258783703164593241553146902843752127517797265498338914956815075805610331086710655377477605384818673850698132802475576114580560869814877358431795946692863208693868460754934239583565407099860261019939389380937636333978135488843091257176692315743716624340466691181573206783737537847528813044532103697856541707329443796322100842711866184110228523631120914104852673469063825109949670509724690850103420936344221519576247917664986808042051458056524040825114699600613045714605264045423786106818538136571140665972261112677459799645474172475631848229063124438']]}, 'nonce': '682039955395023897131741'}, 'initiator': 'self'}]\n"
     ]
    }
   ],
   "source": [
    "response = await agent_controller.issuer.get_records()\n",
    "print(response['results'])"
   ]
  },
  {
   "cell_type": "code",
   "execution_count": 12,
   "metadata": {},
   "outputs": [
    {
     "name": "stdout",
     "output_type": "stream",
     "text": [
      "Credential exchange 3db98c59-9737-430d-b36f-be65c445fb44, role: issuer, state: offer_sent\n"
     ]
    }
   ],
   "source": [
    "cred_record = await agent_controller.issuer.get_record_by_id(record_id)\n",
    "state = cred_record['state']\n",
    "role = cred_record['role']\n",
    "print(f\"Credential exchange {record_id}, role: {role}, state: {state}\")"
   ]
  },
  {
   "cell_type": "markdown",
   "metadata": {},
   "source": [
    "## Remove Credential Exchange\n",
    "\n",
    "It is possible to remove stored credential exchanges from an agent. Typically when you are not interested in the credential being offered, or the credential offer that you have sent has become stale (been ignored?). \n",
    "\n",
    "**Note: For some usecases keeping these exchange records may be very important. E.g. For audit purposes.**"
   ]
  },
  {
   "cell_type": "code",
   "execution_count": null,
   "metadata": {},
   "outputs": [],
   "source": [
    "response = await agent_controller.issuer.remove_record(record_id)\n",
    "print(response)"
   ]
  },
  {
   "cell_type": "code",
   "execution_count": null,
   "metadata": {},
   "outputs": [],
   "source": [
    "response = await agent_controller.issuer.get_records()\n",
    "print(response)"
   ]
  },
  {
   "cell_type": "markdown",
   "metadata": {},
   "source": [
    "### TODO: Document the api calls not used. \n",
    "\n",
    "* Send_offer\n",
    "* send_offer_for_record\n",
    "* issue_credential - If rather than send_credential the notebook used send_offer then the entity controlling the agent (you with this notebook and agent_controller api) would have to explicitly issue the credential to once Bob requested it. With send_credential this part is automated."
   ]
  },
  {
   "cell_type": "markdown",
   "metadata": {},
   "source": [
    "## End of Tutorial\n",
    "\n",
    "Be sure to terminate the controller so you can run another tutorial.\n",
    "\n",
    "There are a few api calls not covered in this tutorial so far. Mostly around credential revocation."
   ]
  },
  {
   "cell_type": "code",
   "execution_count": 6,
   "metadata": {},
   "outputs": [
    {
     "name": "stdout",
     "output_type": "stream",
     "text": [
      "None\n"
     ]
    }
   ],
   "source": [
    "response = await agent_controller.terminate()\n",
    "print(response)"
   ]
  },
  {
   "cell_type": "code",
   "execution_count": null,
   "metadata": {},
   "outputs": [],
   "source": []
  }
 ],
 "metadata": {
  "kernelspec": {
   "display_name": "Python 3 (ipykernel)",
   "language": "python",
   "name": "python3"
  },
  "language_info": {
   "codemirror_mode": {
    "name": "ipython",
    "version": 3
   },
   "file_extension": ".py",
   "mimetype": "text/x-python",
   "name": "python",
   "nbconvert_exporter": "python",
   "pygments_lexer": "ipython3",
   "version": "3.10.8"
  }
 },
 "nbformat": 4,
 "nbformat_minor": 4
}
