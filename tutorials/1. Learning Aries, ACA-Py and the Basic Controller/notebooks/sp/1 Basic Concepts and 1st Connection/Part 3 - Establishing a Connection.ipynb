{
 "cells": [
  {
   "cell_type": "markdown",
   "metadata": {
    "pycharm": {
     "name": "#%% md\n"
    }
   },
   "source": [
    "# Establishing a Connection - Carol\n",
    "## Role: Invitee\n",
    "\n",
    "If you want to start at Part 1 of this tutorial series go [here](http://localhost:8888/lab/tree/1%20Basic%20Concepts%20and%201st%20Connection/Part%201%20-%20Self-Sovereign%20Identity.ipynb).\n",
    "\n",
    "In this notebook we'll be responding to an invitation from Alice through our Agents. This notebook has the following phases:\n",
    "\n",
    "<b>Begin with the [Alice notebook](http://localhost:8888/lab/tree/1%20Basic%20Concepts%20and%201st%20Connection/Part%203%20-%20Establishing%20a%20Connection.ipynb)</b>\n",
    "\n",
    "\n",
    "6. Instatiate the controller for our Agent\n",
    "7. Set up a message listener running as a service on our controller\n",
    "8. Paste the invitation from the Alice notebook into the invitation variable here\n",
    "9. Accept the invitation\n",
    "\n",
    "<b>Carry on at the Alice side</b>\n",
    "    \n",
    "14. Check if connection active\n"
   ]
  },
  {
   "cell_type": "markdown",
   "metadata": {
    "pycharm": {
     "name": "#%% md\n"
    }
   },
   "source": [
    "### 6. Instatiate the controller for our Agent"
   ]
  },
  {
   "cell_type": "code",
   "execution_count": 1,
   "metadata": {},
   "outputs": [
    {
     "name": "stdout",
     "output_type": "stream",
     "text": [
      "IPython autoawait is `on`, and set to use `asyncio`\n"
     ]
    }
   ],
   "source": [
    "%autoawait\n",
    "import time\n",
    "import asyncio\n",
    "from aries_basic_controller.aries_controller import AriesAgentController\n",
    "    \n",
    "WEBHOOK_HOST = \"0.0.0.0\"\n",
    "WEBHOOK_PORT = 8082\n",
    "WEBHOOK_BASE = \"\"\n",
    "ADMIN_URL = \"http://carol-agent:8081\"\n",
    "API_KEY = \"carol_api_123456789\"\n",
    "\n",
    "\n",
    "agent_controller = AriesAgentController(admin_url=ADMIN_URL, api_key=API_KEY)"
   ]
  },
  {
   "cell_type": "code",
   "execution_count": 2,
   "metadata": {},
   "outputs": [],
   "source": [
    "agent_controller.init_webhook_server(webhook_host=WEBHOOK_HOST,\n",
    "                                     webhook_port=WEBHOOK_PORT,\n",
    "                                     webhook_base=WEBHOOK_BASE)"
   ]
  },
  {
   "cell_type": "markdown",
   "metadata": {},
   "source": [
    "### 7. Listen for webhooks and register default listeners\n",
    "\n",
    "Everytime a webhook is received from the agent, the controller reemits the hook using PyPubSub. The default listeners are used to update state and print logs.\n"
   ]
  },
  {
   "cell_type": "code",
   "execution_count": 3,
   "metadata": {},
   "outputs": [
    {
     "name": "stdout",
     "output_type": "stream",
     "text": [
      "Subscribing too: connections\n"
     ]
    }
   ],
   "source": [
    "\n",
    "loop = asyncio.get_event_loop()\n",
    "loop.create_task(agent_controller.listen_webhooks())\n",
    "\n",
    "def connection_handler(payload):\n",
    "    print(\"Connection Handler Called\")\n",
    "    connection_id = payload[\"connection_id\"]\n",
    "    state = payload[\"state\"]\n",
    "    print(f\"Connection {connection_id} in State {state}\")\n",
    "    \n",
    "connection_listener = {\n",
    "    \"handler\": connection_handler,\n",
    "    \"topic\": \"connections\"\n",
    "}\n",
    "\n",
    "agent_controller.register_listeners([connection_listener], defaults=True)"
   ]
  },
  {
   "cell_type": "markdown",
   "metadata": {
    "pycharm": {
     "name": "#%% md\n"
    }
   },
   "source": [
    "### 8. Paste the invitation from the Alice notebook into the invitation variable here;"
   ]
  },
  {
   "cell_type": "code",
   "execution_count": 4,
   "metadata": {},
   "outputs": [],
   "source": [
    "#Paste in invitation from Alice agent\n",
    "invitation = {'@type': 'did:sov:BzCbsNYhMrjHiqZDTUASHg;spec/connections/1.0/invitation', '@id': '9dc3acab-2e44-4d71-8a83-829ae6c0f916', 'serviceEndpoint': 'http://192.168.65.3:8020', 'recipientKeys': ['5egngyfvZcJ5xzAUy37NUQMXCESTRYudVDX5uFsCssvF'], 'label': 'Alice'}"
   ]
  },
  {
   "cell_type": "markdown",
   "metadata": {
    "pycharm": {
     "name": "#%% md\n"
    }
   },
   "source": [
    "### 9. Accept the invitation, then move to Alice's notebook"
   ]
  },
  {
   "cell_type": "code",
   "execution_count": 5,
   "metadata": {
    "pycharm": {
     "name": "#%%\n"
    }
   },
   "outputs": [
    {
     "name": "stdout",
     "output_type": "stream",
     "text": [
      "Connection Handler Called\n",
      "Connection 4101eddc-784a-4424-b739-2e38089c54db in State invitation\n",
      "Connection Handler Called\n",
      "Connection 4101eddc-784a-4424-b739-2e38089c54db in State request\n",
      "Connection {'invitation_key': '5egngyfvZcJ5xzAUy37NUQMXCESTRYudVDX5uFsCssvF', 'their_label': 'Alice', 'my_did': '7HMi9D6RdnmkhMFrF9MmJm', 'state': 'request', 'created_at': '2023-01-02 09:05:27.076502Z', 'accept': 'manual', 'request_id': '47d22354-a2df-44cc-a815-ea6f62f1be55', 'invitation_mode': 'once', 'connection_id': '4101eddc-784a-4424-b739-2e38089c54db', 'routing_state': 'none', 'rfc23_state': 'request-sent', 'updated_at': '2023-01-02 09:05:27.145195Z', 'their_role': 'inviter'}\n",
      "Connection Handler Called\n",
      "Connection 4101eddc-784a-4424-b739-2e38089c54db in State response\n",
      "Connection Handler Called\n",
      "Connection 4101eddc-784a-4424-b739-2e38089c54db in State active\n"
     ]
    }
   ],
   "source": [
    "# Receive Invitation\n",
    "response = await agent_controller.connections.accept_connection(invitation)\n",
    "# Print out accepted Invite and Alice's connection ID\n",
    "print(\"Connection\", response)\n",
    "alice_id = response[\"connection_id\"]\n"
   ]
  },
  {
   "cell_type": "markdown",
   "metadata": {},
   "source": [
    "### 13. Check if connection state is active\n",
    "\n",
    "It should be if you send a trust ping from Alice's side"
   ]
  },
  {
   "cell_type": "code",
   "execution_count": 6,
   "metadata": {
    "pycharm": {
     "name": "#%%\n"
    }
   },
   "outputs": [
    {
     "name": "stdout",
     "output_type": "stream",
     "text": [
      "Alice AGENT CONNECTION\n",
      "{'invitation_key': '5egngyfvZcJ5xzAUy37NUQMXCESTRYudVDX5uFsCssvF', 'their_label': 'Alice', 'my_did': '7HMi9D6RdnmkhMFrF9MmJm', 'state': 'active', 'created_at': '2023-01-02 09:05:27.076502Z', 'accept': 'manual', 'their_did': 'P2PDkJkvX65RVKzvgsGC4g', 'request_id': '47d22354-a2df-44cc-a815-ea6f62f1be55', 'invitation_mode': 'once', 'connection_id': '4101eddc-784a-4424-b739-2e38089c54db', 'routing_state': 'none', 'rfc23_state': 'completed', 'updated_at': '2023-01-02 09:05:47.599080Z', 'their_role': 'inviter'}\n",
      "State: active\n"
     ]
    }
   ],
   "source": [
    "# Print connection list\n",
    "connection = await agent_controller.connections.get_connection(alice_id)\n",
    "print(\"Alice AGENT CONNECTION\")\n",
    "print(connection)\n",
    "print(\"State:\", connection[\"state\"])"
   ]
  },
  {
   "cell_type": "markdown",
   "metadata": {},
   "source": [
    "## Optional: Remove connection"
   ]
  },
  {
   "cell_type": "code",
   "execution_count": 23,
   "metadata": {},
   "outputs": [
    {
     "ename": "NameError",
     "evalue": "name 'alice_id' is not defined",
     "output_type": "error",
     "traceback": [
      "\u001b[0;31m---------------------------------------------------------------------------\u001b[0m",
      "\u001b[0;31mNameError\u001b[0m                                 Traceback (most recent call last)",
      "Cell \u001b[0;32mIn[23], line 1\u001b[0m\n\u001b[0;32m----> 1\u001b[0m remove \u001b[38;5;241m=\u001b[39m \u001b[38;5;28;01mawait\u001b[39;00m agent_controller\u001b[38;5;241m.\u001b[39mconnections\u001b[38;5;241m.\u001b[39mremove_connection(alice_id)\n\u001b[1;32m      2\u001b[0m \u001b[38;5;28mprint\u001b[39m(remove)\n",
      "\u001b[0;31mNameError\u001b[0m: name 'alice_id' is not defined"
     ]
    }
   ],
   "source": [
    "remove = await agent_controller.connections.remove_connection(alice_id)\n",
    "print(remove)"
   ]
  },
  {
   "cell_type": "code",
   "execution_count": 7,
   "metadata": {},
   "outputs": [
    {
     "name": "stdout",
     "output_type": "stream",
     "text": [
      "{'results': [{'invitation_key': 'AuBeW7Laq6SQzUAM5JNdwv13wdXeVDzxD3myp7euN5xq', 'their_label': 'Bob', 'my_did': 'CXVXVERJAYXkEVaS3EB4fT', 'state': 'active', 'created_at': '2023-01-02 08:17:19.920676Z', 'accept': 'manual', 'their_did': 'LpmiP5Lpre6u2BF76nSALw', 'invitation_mode': 'once', 'connection_id': 'b6614717-d3ae-4ddf-b368-c445d2358a34', 'routing_state': 'none', 'rfc23_state': 'completed', 'updated_at': '2023-01-02 08:20:24.167014Z', 'their_role': 'invitee'}, {'invitation_key': '5NqLisZNrS2AbeBNCQHcF7hZx22Xd6aYx8vxadbdkqmJ', 'their_label': 'Bob', 'my_did': 'QWLH91NGnms8E57znbMPbX', 'state': 'active', 'created_at': '2023-01-02 08:51:39.261613Z', 'accept': 'manual', 'their_did': '3jAoJUdyYtxQa6AkTbaeAm', 'invitation_mode': 'once', 'connection_id': '1c65e6ce-773a-4d92-bbd8-a966b1531b27', 'routing_state': 'none', 'rfc23_state': 'completed', 'updated_at': '2023-01-02 08:52:22.390542Z', 'their_role': 'invitee'}, {'invitation_key': '8XT4vniErAT5A7SDEK2bvDwz2dSYyacfABjjTSiN1Qwp', 'their_label': 'Alice', 'my_did': 'EGreaGZLK2gBmJj66XFjd8', 'state': 'request', 'created_at': '2023-01-02 08:58:05.614273Z', 'accept': 'manual', 'request_id': 'cba22b1f-9771-46a4-b9b7-2a1dd9de143a', 'invitation_mode': 'once', 'connection_id': 'e78987a5-094e-4772-bbf2-e2b175ca1c6a', 'routing_state': 'none', 'rfc23_state': 'request-sent', 'updated_at': '2023-01-02 08:58:05.656644Z', 'their_role': 'inviter'}, {'invitation_key': '5egngyfvZcJ5xzAUy37NUQMXCESTRYudVDX5uFsCssvF', 'their_label': 'Alice', 'my_did': '7HMi9D6RdnmkhMFrF9MmJm', 'state': 'active', 'created_at': '2023-01-02 09:05:27.076502Z', 'accept': 'manual', 'their_did': 'P2PDkJkvX65RVKzvgsGC4g', 'request_id': '47d22354-a2df-44cc-a815-ea6f62f1be55', 'invitation_mode': 'once', 'connection_id': '4101eddc-784a-4424-b739-2e38089c54db', 'routing_state': 'none', 'rfc23_state': 'completed', 'updated_at': '2023-01-02 09:05:47.599080Z', 'their_role': 'inviter'}]}\n"
     ]
    }
   ],
   "source": [
    "response = await agent_controller.connections.get_connections()\n",
    "print(response)"
   ]
  },
  {
   "cell_type": "markdown",
   "metadata": {},
   "source": [
    "## End of Tutorial\n",
    "\n",
    "#### Terminate Controller & Stop Webhook Server\n",
    "\n",
    "**Note: You will need to run this command when combining this example with others such as Issuer**"
   ]
  },
  {
   "cell_type": "code",
   "execution_count": 8,
   "metadata": {},
   "outputs": [
    {
     "name": "stdout",
     "output_type": "stream",
     "text": [
      "None\n"
     ]
    }
   ],
   "source": [
    "response = await agent_controller.terminate()\n",
    "print(response)"
   ]
  },
  {
   "cell_type": "code",
   "execution_count": null,
   "metadata": {},
   "outputs": [],
   "source": []
  }
 ],
 "metadata": {
  "kernelspec": {
   "display_name": "Python 3 (ipykernel)",
   "language": "python",
   "name": "python3"
  },
  "language_info": {
   "codemirror_mode": {
    "name": "ipython",
    "version": 3
   },
   "file_extension": ".py",
   "mimetype": "text/x-python",
   "name": "python",
   "nbconvert_exporter": "python",
   "pygments_lexer": "ipython3",
   "version": "3.10.8"
  },
  "pycharm": {
   "stem_cell": {
    "cell_type": "raw",
    "metadata": {
     "collapsed": false
    },
    "source": []
   }
  }
 },
 "nbformat": 4,
 "nbformat_minor": 4
}
