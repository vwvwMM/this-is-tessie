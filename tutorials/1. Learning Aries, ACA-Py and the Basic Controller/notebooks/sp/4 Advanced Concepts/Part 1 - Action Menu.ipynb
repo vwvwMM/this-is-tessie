{
 "cells": [
  {
   "cell_type": "markdown",
   "metadata": {},
   "source": [
    "# Action Menu - Bob\n",
    "\n",
    "## Role - Responder\n",
    "\n",
    "In this notebook we'll be going through the Action Menu Protocol. For details on the protocol, please refer to the [RFC](https://github.com/hyperledger/aries-rfcs/tree/master/features/0509-action-menu). Specifically, we'll demonstrate how Bob acts as a Responder to respond to Action Menu related requests from Alice.\n",
    "\n",
    "A requirement for this protocol to work is an active DIDComm communication channel between Alice and Bob. To achieve that, you should have completed the [Establishing a Connection](http://localhost:8888/lab/tree/1%20Basic%20Concepts%20and%201st%20Connection/Part%203%20-%20Establishing%20a%20Connection.ipynb) tutorial."
   ]
  },
  {
   "cell_type": "markdown",
   "metadata": {},
   "source": [
    "## 1. Initialise Bob controller\n",
    "\n",
    "We begin by initialising the controller for Bob."
   ]
  },
  {
   "cell_type": "code",
   "execution_count": 1,
   "metadata": {},
   "outputs": [
    {
     "name": "stdout",
     "output_type": "stream",
     "text": [
      "IPython autoawait is `on`, and set to use `asyncio`\n"
     ]
    }
   ],
   "source": [
    "%autoawait\n",
    "import time\n",
    "import asyncio\n",
    "from aries_basic_controller.aries_controller import AriesAgentController\n",
    "    \n",
    "WEBHOOK_HOST = \"0.0.0.0\"\n",
    "WEBHOOK_PORT = 8052\n",
    "WEBHOOK_BASE = \"\"\n",
    "ADMIN_URL = \"http://bob-agent:8051\"\n",
    "\n",
    "agent_controller = AriesAgentController(admin_url=ADMIN_URL)"
   ]
  },
  {
   "cell_type": "code",
   "execution_count": 2,
   "metadata": {},
   "outputs": [],
   "source": [
    "agent_controller.init_webhook_server(webhook_host=WEBHOOK_HOST,\n",
    "                                     webhook_port=WEBHOOK_PORT,\n",
    "                                     webhook_base=WEBHOOK_BASE)"
   ]
  },
  {
   "cell_type": "markdown",
   "metadata": {},
   "source": [
    "## 2. Listen for webhooks and register default listeners\n",
    "\n",
    "Everytime a webhook is received from the agent, the controller reemits the hook using [PyPubSub](https://pypubsub.readthedocs.io/en/v4.0.3/). The default listeners are used to update state and print logs."
   ]
  },
  {
   "cell_type": "code",
   "execution_count": 3,
   "metadata": {},
   "outputs": [
    {
     "data": {
      "text/plain": [
       "<Task pending name='Task-4' coro=<AriesAgentController.listen_webhooks() running at /aries_basic_controller/aries_controller.py:61>>"
      ]
     },
     "execution_count": 3,
     "metadata": {},
     "output_type": "execute_result"
    }
   ],
   "source": [
    "loop = asyncio.get_event_loop()\n",
    "loop.create_task(agent_controller.listen_webhooks())"
   ]
  },
  {
   "cell_type": "code",
   "execution_count": 4,
   "metadata": {},
   "outputs": [
    {
     "name": "stdout",
     "output_type": "stream",
     "text": [
      "Subscribing too: get-active-menu\n",
      "Subscribing too: perform-menu-action\n"
     ]
    }
   ],
   "source": [
    "def get_menu_handler(payload):\n",
    "    print(f\"Get Active Menu Webhook: {payload}\")\n",
    "\n",
    "'''\n",
    "when a menu action is performed, the handler should contain business\n",
    "logic to handling and executing that action specifically.\n",
    "'''\n",
    "def perform_menu_handler(payload):\n",
    "    print(\"Perform Menu Action Webhook: \", payload)\n",
    "    # custom business logic here\n",
    "\n",
    "get_menu_listener = {\n",
    "    \"topic\": \"get-active-menu\",\n",
    "    \"handler\": get_menu_handler\n",
    "}\n",
    "\n",
    "perform_menu_listener = {\n",
    "    \"topic\": \"perform-menu-action\",\n",
    "    \"handler\": perform_menu_handler\n",
    "}\n",
    "\n",
    "agent_controller.register_listeners([get_menu_listener, perform_menu_listener], defaults=True)"
   ]
  },
  {
   "cell_type": "markdown",
   "metadata": {},
   "source": [
    "## 3. Check the agent has an active connection\n",
    "\n",
    "An active connection between Alice and Bob is required. You can either:\n",
    "\n",
    "- complete the [Establishing a Connection](http://localhost:8888/lab/tree/1%20Basic%20Concepts%20and%201st%20Connection/Part%203%20-%20Establishing%20a%20Connection.ipynb) tutorial, or\n",
    "- running the python script `create_connection.py` in the setup folder"
   ]
  },
  {
   "cell_type": "code",
   "execution_count": 5,
   "metadata": {},
   "outputs": [
    {
     "name": "stdout",
     "output_type": "stream",
     "text": [
      "Results :  [{'created_at': '2023-01-01 15:38:32.965206Z', 'invitation_key': 'C9VVc5HS8ASbZGJ4RRH38huh7jxzV1Lxc6dv9MMhYRm6', 'state': 'active', 'request_id': '5ef4cc1f-c5f0-4a09-8bf0-49631cd28b22', 'their_did': '78JbknZS4Un2nRsSXthrrX', 'my_did': '6UJzVcKRUTNd2Z3fkgSwqc', 'rfc23_state': 'completed', 'updated_at': '2023-01-01 15:38:46.632967Z', 'their_role': 'inviter', 'accept': 'manual', 'invitation_mode': 'once', 'connection_id': '9777a4c5-00c9-4816-acd3-3139431cee8b', 'routing_state': 'none', 'their_label': 'Alice'}]\n",
      "Connection : {'created_at': '2023-01-01 15:38:32.965206Z', 'invitation_key': 'C9VVc5HS8ASbZGJ4RRH38huh7jxzV1Lxc6dv9MMhYRm6', 'state': 'active', 'request_id': '5ef4cc1f-c5f0-4a09-8bf0-49631cd28b22', 'their_did': '78JbknZS4Un2nRsSXthrrX', 'my_did': '6UJzVcKRUTNd2Z3fkgSwqc', 'rfc23_state': 'completed', 'updated_at': '2023-01-01 15:38:46.632967Z', 'their_role': 'inviter', 'accept': 'manual', 'invitation_mode': 'once', 'connection_id': '9777a4c5-00c9-4816-acd3-3139431cee8b', 'routing_state': 'none', 'their_label': 'Alice'}\n",
      "Active Connection ID :  9777a4c5-00c9-4816-acd3-3139431cee8b\n"
     ]
    }
   ],
   "source": [
    "response = await agent_controller.connections.get_connections()\n",
    "results = response['results']\n",
    "print(\"Results : \", results)\n",
    "if len(results) > 0:\n",
    "    connection = response['results'][0]\n",
    "    print(\"Connection :\", connection)\n",
    "    if connection['state'] == 'active':       \n",
    "        connection_id = connection[\"connection_id\"]\n",
    "        print(\"Active Connection ID : \", connection_id)\n",
    "else:\n",
    "    print(\"You must create a connection\")"
   ]
  },
  {
   "cell_type": "markdown",
   "metadata": {},
   "source": [
    "## 6. Send Action Menu to Alice\n",
    "\n",
    "Bob responds to Alice's request by sending over the action menu that Bob supports."
   ]
  },
  {
   "cell_type": "code",
   "execution_count": 6,
   "metadata": {},
   "outputs": [
    {
     "ename": "ClientResponseError",
     "evalue": "404, message='Not Found', url=URL('http://bob-agent:8051/connections/9777a4c5-00c9-4816-acd3-3139431cee8b/send-menu')",
     "output_type": "error",
     "traceback": [
      "\u001b[0;31m---------------------------------------------------------------------------\u001b[0m",
      "\u001b[0;31mClientResponseError\u001b[0m                       Traceback (most recent call last)",
      "Cell \u001b[0;32mIn[6], line 27\u001b[0m\n\u001b[1;32m      1\u001b[0m \u001b[38;5;66;03m# feel free to edit the menu options.\u001b[39;00m\n\u001b[1;32m      2\u001b[0m menu_options \u001b[38;5;241m=\u001b[39m [\n\u001b[1;32m      3\u001b[0m       {\n\u001b[1;32m      4\u001b[0m         \u001b[38;5;124m\"\u001b[39m\u001b[38;5;124mname\u001b[39m\u001b[38;5;124m\"\u001b[39m: \u001b[38;5;124m\"\u001b[39m\u001b[38;5;124mfaber_college_actions\u001b[39m\u001b[38;5;124m\"\u001b[39m,\n\u001b[0;32m   (...)\u001b[0m\n\u001b[1;32m     24\u001b[0m       }\n\u001b[1;32m     25\u001b[0m     ]\n\u001b[0;32m---> 27\u001b[0m \u001b[38;5;28;01mawait\u001b[39;00m agent_controller\u001b[38;5;241m.\u001b[39maction_menu\u001b[38;5;241m.\u001b[39msend_menu(\n\u001b[1;32m     28\u001b[0m     connection_id\u001b[38;5;241m=\u001b[39mconnection_id,\n\u001b[1;32m     29\u001b[0m     menu_description\u001b[38;5;241m=\u001b[39m\u001b[38;5;124m\"\u001b[39m\u001b[38;5;124mMenu for performing actions with Faber College\u001b[39m\u001b[38;5;124m\"\u001b[39m,\n\u001b[1;32m     30\u001b[0m     menu_errormsg\u001b[38;5;241m=\u001b[39m\u001b[38;5;124m\"\u001b[39m\u001b[38;5;124mError: something went wrong\u001b[39m\u001b[38;5;124m\"\u001b[39m,\n\u001b[1;32m     31\u001b[0m     menu_title\u001b[38;5;241m=\u001b[39m\u001b[38;5;124m\"\u001b[39m\u001b[38;5;124mFaber College Action Menu\u001b[39m\u001b[38;5;124m\"\u001b[39m,\n\u001b[1;32m     32\u001b[0m     menu_options\u001b[38;5;241m=\u001b[39mmenu_options\n\u001b[1;32m     33\u001b[0m )\n",
      "File \u001b[0;32m/aries_basic_controller/controllers/action_menu.py:49\u001b[0m, in \u001b[0;36mActionMenuController.send_menu\u001b[0;34m(self, connection_id, menu_description, menu_errormsg, menu_title, menu_options)\u001b[0m\n\u001b[1;32m     32\u001b[0m \u001b[38;5;28;01masync\u001b[39;00m \u001b[38;5;28;01mdef\u001b[39;00m \u001b[38;5;21msend_menu\u001b[39m(\n\u001b[1;32m     33\u001b[0m     \u001b[38;5;28mself\u001b[39m,\n\u001b[1;32m     34\u001b[0m     connection_id: \u001b[38;5;28mstr\u001b[39m,\n\u001b[0;32m   (...)\u001b[0m\n\u001b[1;32m     38\u001b[0m     menu_options,\n\u001b[1;32m     39\u001b[0m ):\n\u001b[1;32m     40\u001b[0m     body \u001b[38;5;241m=\u001b[39m {\n\u001b[1;32m     41\u001b[0m         \u001b[38;5;124m\"\u001b[39m\u001b[38;5;124mmenu\u001b[39m\u001b[38;5;124m\"\u001b[39m: {\n\u001b[1;32m     42\u001b[0m             \u001b[38;5;124m\"\u001b[39m\u001b[38;5;124mdescription\u001b[39m\u001b[38;5;124m\"\u001b[39m: menu_description,\n\u001b[0;32m   (...)\u001b[0m\n\u001b[1;32m     46\u001b[0m         }\n\u001b[1;32m     47\u001b[0m     }\n\u001b[0;32m---> 49\u001b[0m     \u001b[38;5;28;01mreturn\u001b[39;00m \u001b[38;5;28;01mawait\u001b[39;00m \u001b[38;5;28mself\u001b[39m\u001b[38;5;241m.\u001b[39madmin_POST(\u001b[38;5;124mf\u001b[39m\u001b[38;5;124m\"\u001b[39m\u001b[38;5;124m/connections/\u001b[39m\u001b[38;5;132;01m{\u001b[39;00mconnection_id\u001b[38;5;132;01m}\u001b[39;00m\u001b[38;5;124m/send-menu\u001b[39m\u001b[38;5;124m\"\u001b[39m, json_data\u001b[38;5;241m=\u001b[39mbody)\n",
      "File \u001b[0;32m/aries_basic_controller/controllers/base.py:95\u001b[0m, in \u001b[0;36mBaseController.admin_POST\u001b[0;34m(self, path, json_data, text, params, data)\u001b[0m\n\u001b[1;32m     89\u001b[0m \u001b[38;5;28;01mtry\u001b[39;00m:\n\u001b[1;32m     90\u001b[0m     EVENT_LOGGER\u001b[38;5;241m.\u001b[39mdebug(\n\u001b[1;32m     91\u001b[0m         \u001b[38;5;124m\"\u001b[39m\u001b[38;5;124mController POST \u001b[39m\u001b[38;5;132;01m%s\u001b[39;00m\u001b[38;5;124m request to Agent\u001b[39m\u001b[38;5;132;01m%s\u001b[39;00m\u001b[38;5;124m\"\u001b[39m,\n\u001b[1;32m     92\u001b[0m         path,\n\u001b[1;32m     93\u001b[0m         (\u001b[38;5;124m\"\u001b[39m\u001b[38;5;124m with data: \u001b[39m\u001b[38;5;130;01m\\n\u001b[39;00m\u001b[38;5;132;01m{}\u001b[39;00m\u001b[38;5;124m\"\u001b[39m\u001b[38;5;241m.\u001b[39mformat(repr_json(json_data)) \u001b[38;5;28;01mif\u001b[39;00m json_data \u001b[38;5;28;01melse\u001b[39;00m \u001b[38;5;124m\"\u001b[39m\u001b[38;5;124m\"\u001b[39m),\n\u001b[1;32m     94\u001b[0m     )\n\u001b[0;32m---> 95\u001b[0m     response \u001b[38;5;241m=\u001b[39m \u001b[38;5;28;01mawait\u001b[39;00m \u001b[38;5;28mself\u001b[39m\u001b[38;5;241m.\u001b[39madmin_request(\u001b[38;5;124m\"\u001b[39m\u001b[38;5;124mPOST\u001b[39m\u001b[38;5;124m\"\u001b[39m, path, json_data, text, params, data)\n\u001b[1;32m     96\u001b[0m     EVENT_LOGGER\u001b[38;5;241m.\u001b[39mdebug(\n\u001b[1;32m     97\u001b[0m         \u001b[38;5;124m\"\u001b[39m\u001b[38;5;124mResponse from POST \u001b[39m\u001b[38;5;132;01m%s\u001b[39;00m\u001b[38;5;124m received: \u001b[39m\u001b[38;5;130;01m\\n\u001b[39;00m\u001b[38;5;132;01m%s\u001b[39;00m\u001b[38;5;124m\"\u001b[39m,\n\u001b[1;32m     98\u001b[0m         path,\n\u001b[1;32m     99\u001b[0m         repr_json(response),\n\u001b[1;32m    100\u001b[0m     )\n\u001b[1;32m    101\u001b[0m     \u001b[38;5;28;01mreturn\u001b[39;00m response\n",
      "File \u001b[0;32m/aries_basic_controller/controllers/base.py:63\u001b[0m, in \u001b[0;36mBaseController.admin_request\u001b[0;34m(self, method, path, json_data, text, params, data)\u001b[0m\n\u001b[1;32m     59\u001b[0m params \u001b[38;5;241m=\u001b[39m {k: v \u001b[38;5;28;01mfor\u001b[39;00m (k, v) \u001b[38;5;129;01min\u001b[39;00m (params \u001b[38;5;129;01mor\u001b[39;00m {})\u001b[38;5;241m.\u001b[39mitems() \u001b[38;5;28;01mif\u001b[39;00m v \u001b[38;5;129;01mis\u001b[39;00m \u001b[38;5;129;01mnot\u001b[39;00m \u001b[38;5;28;01mNone\u001b[39;00m}\n\u001b[1;32m     60\u001b[0m \u001b[38;5;28;01masync\u001b[39;00m \u001b[38;5;28;01mwith\u001b[39;00m \u001b[38;5;28mself\u001b[39m\u001b[38;5;241m.\u001b[39mclient_session\u001b[38;5;241m.\u001b[39mrequest(\n\u001b[1;32m     61\u001b[0m     method, \u001b[38;5;28mself\u001b[39m\u001b[38;5;241m.\u001b[39madmin_url \u001b[38;5;241m+\u001b[39m path, json\u001b[38;5;241m=\u001b[39mjson_data, params\u001b[38;5;241m=\u001b[39mparams, data\u001b[38;5;241m=\u001b[39mdata\n\u001b[1;32m     62\u001b[0m ) \u001b[38;5;28;01mas\u001b[39;00m resp:\n\u001b[0;32m---> 63\u001b[0m     \u001b[43mresp\u001b[49m\u001b[38;5;241;43m.\u001b[39;49m\u001b[43mraise_for_status\u001b[49m\u001b[43m(\u001b[49m\u001b[43m)\u001b[49m\n\u001b[1;32m     64\u001b[0m     resp_text \u001b[38;5;241m=\u001b[39m \u001b[38;5;28;01mawait\u001b[39;00m resp\u001b[38;5;241m.\u001b[39mtext()\n\u001b[1;32m     65\u001b[0m     \u001b[38;5;28;01mif\u001b[39;00m \u001b[38;5;129;01mnot\u001b[39;00m resp_text \u001b[38;5;129;01mand\u001b[39;00m \u001b[38;5;129;01mnot\u001b[39;00m text:\n",
      "File \u001b[0;32m/opt/conda/lib/python3.10/site-packages/aiohttp/client_reqrep.py:1000\u001b[0m, in \u001b[0;36mClientResponse.raise_for_status\u001b[0;34m(self)\u001b[0m\n\u001b[1;32m    998\u001b[0m \u001b[38;5;28;01massert\u001b[39;00m \u001b[38;5;28mself\u001b[39m\u001b[38;5;241m.\u001b[39mreason \u001b[38;5;129;01mis\u001b[39;00m \u001b[38;5;129;01mnot\u001b[39;00m \u001b[38;5;28;01mNone\u001b[39;00m\n\u001b[1;32m    999\u001b[0m \u001b[38;5;28mself\u001b[39m\u001b[38;5;241m.\u001b[39mrelease()\n\u001b[0;32m-> 1000\u001b[0m \u001b[38;5;28;01mraise\u001b[39;00m ClientResponseError(\n\u001b[1;32m   1001\u001b[0m     \u001b[38;5;28mself\u001b[39m\u001b[38;5;241m.\u001b[39mrequest_info,\n\u001b[1;32m   1002\u001b[0m     \u001b[38;5;28mself\u001b[39m\u001b[38;5;241m.\u001b[39mhistory,\n\u001b[1;32m   1003\u001b[0m     status\u001b[38;5;241m=\u001b[39m\u001b[38;5;28mself\u001b[39m\u001b[38;5;241m.\u001b[39mstatus,\n\u001b[1;32m   1004\u001b[0m     message\u001b[38;5;241m=\u001b[39m\u001b[38;5;28mself\u001b[39m\u001b[38;5;241m.\u001b[39mreason,\n\u001b[1;32m   1005\u001b[0m     headers\u001b[38;5;241m=\u001b[39m\u001b[38;5;28mself\u001b[39m\u001b[38;5;241m.\u001b[39mheaders,\n\u001b[1;32m   1006\u001b[0m )\n",
      "\u001b[0;31mClientResponseError\u001b[0m: 404, message='Not Found', url=URL('http://bob-agent:8051/connections/9777a4c5-00c9-4816-acd3-3139431cee8b/send-menu')"
     ]
    },
    {
     "name": "stdout",
     "output_type": "stream",
     "text": [
      "Error during POST /connections/9777a4c5-00c9-4816-acd3-3139431cee8b/send-menu: 404, message='Not Found', url=URL('http://bob-agent:8051/connections/9777a4c5-00c9-4816-acd3-3139431cee8b/send-menu')\n"
     ]
    }
   ],
   "source": [
    "# feel free to edit the menu options.\n",
    "menu_options = [\n",
    "      {\n",
    "        \"name\": \"faber_college_actions\",\n",
    "        \"title\": \"Faber College Actions\",\n",
    "        \"description\": \"Faber College Actions\",\n",
    "        \"disabled\": \"False\",\n",
    "        \"form\": {\n",
    "          \"title\": \"Actions\",\n",
    "          \"description\": \"Faber College Actions\",\n",
    "          \"params\": [{\n",
    "              \"name\": \"remove_cred_exchange_record\",\n",
    "              \"title\": \"Remove Credential Exchange Record\",\n",
    "              \"type\": \"boolean\",\n",
    "              \"required\": False\n",
    "          }, {\n",
    "              \"name\": \"begin_issue_cred\",\n",
    "              \"title\": \"Begin Issue Credential\",\n",
    "              \"type\": \"boolean\",\n",
    "              \"required\": False\n",
    "          }],\n",
    "          \"submit-label\": \"Send\"\n",
    "        }\n",
    "      }\n",
    "    ]\n",
    "\n",
    "await agent_controller.action_menu.send_menu(\n",
    "    connection_id=connection_id,\n",
    "    menu_description=\"Menu for performing actions with Faber College\",\n",
    "    menu_errormsg=\"Error: something went wrong\",\n",
    "    menu_title=\"Faber College Action Menu\",\n",
    "    menu_options=menu_options\n",
    ")"
   ]
  },
  {
   "cell_type": "markdown",
   "metadata": {},
   "source": [
    "## 7. Continue with step 8 of [Alice's notebook](http://localhost:8889/lab/tree/5%20Advanced%20Concepts/Part%201%20-%20Action%20Menu.ipynb)"
   ]
  },
  {
   "cell_type": "markdown",
   "metadata": {},
   "source": [
    "## End of Tutorial\n",
    "\n",
    "Be sure to terminate the controller before running another tutorial."
   ]
  },
  {
   "cell_type": "code",
   "execution_count": 7,
   "metadata": {},
   "outputs": [
    {
     "name": "stdout",
     "output_type": "stream",
     "text": [
      "None\n"
     ]
    }
   ],
   "source": [
    "response = await agent_controller.terminate()\n",
    "print(response)"
   ]
  },
  {
   "cell_type": "code",
   "execution_count": null,
   "metadata": {},
   "outputs": [],
   "source": []
  }
 ],
 "metadata": {
  "kernelspec": {
   "display_name": "Python 3 (ipykernel)",
   "language": "python",
   "name": "python3"
  },
  "language_info": {
   "codemirror_mode": {
    "name": "ipython",
    "version": 3
   },
   "file_extension": ".py",
   "mimetype": "text/x-python",
   "name": "python",
   "nbconvert_exporter": "python",
   "pygments_lexer": "ipython3",
   "version": "3.10.8"
  }
 },
 "nbformat": 4,
 "nbformat_minor": 4
}
