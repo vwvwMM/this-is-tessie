{
 "cells": [
  {
   "cell_type": "markdown",
   "metadata": {},
   "source": [
    "# Revocation - Bob\n",
    "\n",
    "## Role: Credential Holder\n",
    "\n",
    "There will be two parts to this notebook:\n",
    "\n",
    "- Part 1: Alice issues a revocable credential to [Bob](http://localhost:8889/lab/tree/5%20Advanced%20Concepts/Part%202%20-%20Revocation.ipynb). Bob will store this credential and present proof of it back to Alice while it is not revoked, and Alice will verify the presentation.\n",
    "- Part 2: Alice then revokes the credential issued to Bob in Part 1 and requests another proof from Bob. This second presentation from Bob will fail to verify.\n",
    "\n",
    "For details on how revocation works on Hyperledger Indy, you can read more [here](https://github.com/hyperledger/indy-hipe/tree/master/text/0011-cred-revocation)."
   ]
  },
  {
   "cell_type": "markdown",
   "metadata": {},
   "source": [
    "# Part 1 - Issuing & Proving Non-Revoked Credential\n",
    "\n",
    "## Complete steps 1-6 in [Alice's revocation notebook](http://localhost:8888/lab/tree/5%20Advanced%20Concepts/Part%202%20-%20Revocation.ipynb)"
   ]
  },
  {
   "cell_type": "markdown",
   "metadata": {},
   "source": [
    "## 7. Initialise Bob's controller"
   ]
  },
  {
   "cell_type": "code",
   "execution_count": 1,
   "metadata": {},
   "outputs": [
    {
     "name": "stdout",
     "output_type": "stream",
     "text": [
      "IPython autoawait is `on`, and set to use `asyncio`\n"
     ]
    }
   ],
   "source": [
    "%autoawait\n",
    "import time\n",
    "import asyncio\n",
    "\n",
    "from aries_basic_controller.aries_controller import AriesAgentController\n",
    "    \n",
    "WEBHOOK_HOST = \"0.0.0.0\"\n",
    "WEBHOOK_PORT = 8052\n",
    "WEBHOOK_BASE = \"\"\n",
    "ADMIN_URL = \"http://bob-agent:8051\"\n",
    "\n",
    "agent_controller = AriesAgentController(admin_url=ADMIN_URL)"
   ]
  },
  {
   "cell_type": "code",
   "execution_count": 2,
   "metadata": {},
   "outputs": [],
   "source": [
    "agent_controller.init_webhook_server(webhook_host=WEBHOOK_HOST,\n",
    "                                     webhook_port=WEBHOOK_PORT,\n",
    "                                     webhook_base=WEBHOOK_BASE)"
   ]
  },
  {
   "cell_type": "markdown",
   "metadata": {},
   "source": [
    "## 8. Register listeners\n",
    "\n",
    "The handler should get called every time the controller receives a webhook with the topic `issue_credential` and `present_proof`, printing out the payload. The agent calls to this webhook every time it receives protocol messages for these topics from a credential."
   ]
  },
  {
   "cell_type": "code",
   "execution_count": 3,
   "metadata": {},
   "outputs": [
    {
     "data": {
      "text/plain": [
       "<Task pending name='Task-4' coro=<AriesAgentController.listen_webhooks() running at /aries_basic_controller/aries_controller.py:61>>"
      ]
     },
     "execution_count": 3,
     "metadata": {},
     "output_type": "execute_result"
    }
   ],
   "source": [
    "loop = asyncio.get_event_loop()\n",
    "loop.create_task(agent_controller.listen_webhooks())"
   ]
  },
  {
   "cell_type": "code",
   "execution_count": 4,
   "metadata": {},
   "outputs": [
    {
     "name": "stdout",
     "output_type": "stream",
     "text": [
      "Subscribing too: issue_credential\n",
      "Subscribing too: present_proof\n",
      "Handle Credentials\n",
      "Credential exchange 724cb68a-4c5c-4e75-8e94-0ebbefceaadf, role: holder, state: offer_received\n",
      "Offering: [{'name': 'name', 'value': 'Bob'}, {'name': 'skill', 'value': 'researcher'}, {'name': 'age', 'value': '21'}]\n"
     ]
    }
   ],
   "source": [
    "def cred_handler(payload):\n",
    "    print(\"Handle Credentials\")\n",
    "    global connection_id\n",
    "    connection_id = payload['connection_id']\n",
    "    exchange_id = payload['credential_exchange_id']\n",
    "    state = payload['state']\n",
    "    role = payload['role']\n",
    "    attributes = payload['credential_proposal_dict']['credential_proposal']['attributes']\n",
    "    print(f\"Credential exchange {exchange_id}, role: {role}, state: {state}\")\n",
    "    print(f\"Offering: {attributes}\")\n",
    "    \n",
    "cred_listener = {\n",
    "    \"topic\": \"issue_credential\",\n",
    "    \"handler\": cred_handler\n",
    "}\n",
    "\n",
    "def proof_handler(payload):\n",
    "    print(\"Handle present proof\")\n",
    "    role = payload[\"role\"]\n",
    "    global pres_ex_id\n",
    "    pres_ex_id = payload[\"presentation_exchange_id\"]\n",
    "    state = payload[\"state\"]\n",
    "    print(f\"Role {role}, Exchange {pres_ex_id} in state {state}\")\n",
    "\n",
    "proof_listener = {\n",
    "    \"topic\": \"present_proof\",\n",
    "    \"handler\": proof_handler\n",
    "}\n",
    "\n",
    "agent_controller.register_listeners([cred_listener, proof_listener], defaults=True)"
   ]
  },
  {
   "cell_type": "markdown",
   "metadata": {},
   "source": [
    "## 9. Continue to [Alice's Notebook](http://localhost:8888/lab/tree/5%20Advanced%20Concepts/Part%202%20-%20Revocation.ipynb)\n",
    "\n",
    "Alice will issue Bob a revocable credential."
   ]
  },
  {
   "cell_type": "markdown",
   "metadata": {},
   "source": [
    "## 10. Check your credential records\n",
    "\n",
    "You should have one recording the credential offer from Alice. This should also have shown up as as a print statement from the handler function."
   ]
  },
  {
   "cell_type": "code",
   "execution_count": 5,
   "metadata": {},
   "outputs": [
    {
     "name": "stdout",
     "output_type": "stream",
     "text": [
      "1\n",
      "Credential exchange 724cb68a-4c5c-4e75-8e94-0ebbefceaadf, role: holder, state: offer_received\n",
      "Being offered: [{'name': 'name', 'value': 'Bob'}, {'name': 'skill', 'value': 'researcher'}, {'name': 'age', 'value': '21'}]\n"
     ]
    }
   ],
   "source": [
    "response = await agent_controller.issuer.get_records()\n",
    "results = response[\"results\"]\n",
    "print(len(results))\n",
    "if len(results) == 0:\n",
    "    print(\"You need to first send a credential from the issuer notebook (Alice)\")\n",
    "else:\n",
    "    cred_record = results[0]\n",
    "    cred_ex_id = cred_record['credential_exchange_id']\n",
    "    state = cred_record['state']\n",
    "    role = cred_record['role']\n",
    "    attributes = results[0]['credential_proposal_dict']['credential_proposal']['attributes']\n",
    "    print(f\"Credential exchange {cred_ex_id}, role: {role}, state: {state}\")\n",
    "    print(f\"Being offered: {attributes}\")"
   ]
  },
  {
   "cell_type": "markdown",
   "metadata": {},
   "source": [
    "## 11. Request credential from Alice\n",
    "\n",
    "If happy with the attributes being offered in the credential, then the holder requests the credential from the issuer to proceed with the issuance.\n",
    "\n",
    "It is only possible to request a credential from an exchange when it is in the `offer_received` state."
   ]
  },
  {
   "cell_type": "code",
   "execution_count": 6,
   "metadata": {},
   "outputs": [
    {
     "name": "stdout",
     "output_type": "stream",
     "text": [
      "Handle Credentials\n",
      "Credential exchange 724cb68a-4c5c-4e75-8e94-0ebbefceaadf, role: holder, state: request_sent\n",
      "Offering: [{'name': 'name', 'value': 'Bob'}, {'name': 'skill', 'value': 'researcher'}, {'name': 'age', 'value': '21'}]\n",
      "Credential exchange 724cb68a-4c5c-4e75-8e94-0ebbefceaadf, role: holder, state: request_sent\n",
      "Handle Credentials\n",
      "Credential exchange 724cb68a-4c5c-4e75-8e94-0ebbefceaadf, role: holder, state: credential_received\n",
      "Offering: [{'name': 'name', 'value': 'Bob'}, {'name': 'skill', 'value': 'researcher'}, {'name': 'age', 'value': '21'}]\n"
     ]
    }
   ],
   "source": [
    "record = await agent_controller.issuer.send_request_for_record(cred_ex_id)\n",
    "state = record['state']\n",
    "role = record['role']\n",
    "print(f\"Credential exchange {cred_ex_id}, role: {role}, state: {state}\")"
   ]
  },
  {
   "cell_type": "markdown",
   "metadata": {},
   "source": [
    "## 12. Store the redential\n",
    "\n",
    "Once the issuer has responded to a request by sending the credential, the holder needs to store it to save the credential for later.\n",
    "\n",
    "First check that the credential record is in the `credential_received` state."
   ]
  },
  {
   "cell_type": "code",
   "execution_count": 7,
   "metadata": {},
   "outputs": [],
   "source": [
    "# This can be anything you want. You will use it later to fetch this credential from the agent storage.\n",
    "credential_id = \"My Revocable Credential\""
   ]
  },
  {
   "cell_type": "code",
   "execution_count": 8,
   "metadata": {},
   "outputs": [
    {
     "name": "stdout",
     "output_type": "stream",
     "text": [
      "Handle Credentials\n",
      "Credential exchange 724cb68a-4c5c-4e75-8e94-0ebbefceaadf, role: holder, state: credential_acked\n",
      "Offering: [{'name': 'name', 'value': 'Bob'}, {'name': 'skill', 'value': 'researcher'}, {'name': 'age', 'value': '21'}]\n",
      "Credential exchange 724cb68a-4c5c-4e75-8e94-0ebbefceaadf, role: holder, state: credential_acked\n"
     ]
    }
   ],
   "source": [
    "response = await agent_controller.issuer.store_credential(cred_ex_id, credential_id)\n",
    "state = response['state']\n",
    "role = response['role']\n",
    "print(f\"Credential exchange {cred_ex_id}, role: {role}, state: {state}\")"
   ]
  },
  {
   "cell_type": "markdown",
   "metadata": {},
   "source": [
    "## 13. Check revocation status of the credential\n",
    "\n",
    "It should not be revoked."
   ]
  },
  {
   "cell_type": "code",
   "execution_count": 9,
   "metadata": {},
   "outputs": [
    {
     "data": {
      "text/plain": [
       "{'revoked': False}"
      ]
     },
     "execution_count": 9,
     "metadata": {},
     "output_type": "execute_result"
    },
    {
     "name": "stdout",
     "output_type": "stream",
     "text": [
      "Handle present proof\n",
      "Role prover, Exchange 2a6aed06-4b92-445c-b002-a26adaf52d29 in state request_received\n"
     ]
    }
   ],
   "source": [
    "response = await agent_controller.credentials.is_revoked(credential_id)\n",
    "response"
   ]
  },
  {
   "cell_type": "markdown",
   "metadata": {},
   "source": [
    "## 14. Continue in [Alice's Notebook](http://localhost:8888/lab/tree/5%20Advanced%20Concepts/Part%202%20-%20Revocation.ipynb)\n",
    "\n",
    "Send a presentation request for a non revoked credential proof.\n"
   ]
  },
  {
   "cell_type": "markdown",
   "metadata": {},
   "source": [
    "## 15. Fetch redentials for presentation\n",
    "\n",
    "Note `pres_ex_id` is set in the proofs handler.\n",
    "\n",
    "TODO: make these steps clearer."
   ]
  },
  {
   "cell_type": "code",
   "execution_count": 10,
   "metadata": {},
   "outputs": [
    {
     "data": {
      "text/plain": [
       "{'name': 'Proof of Personal Information',\n",
       " 'version': '1.0',\n",
       " 'requested_attributes': {'0_skill_uuid': {'name': 'skill',\n",
       "   'restrictions': [{'issuer_did': 'PQRXDxdGqQGSZ8z69p4xZP'}],\n",
       "   'non_revoked': {'to': 1672626954}}},\n",
       " 'requested_predicates': {},\n",
       " 'non_revoked': {'to': 1672626955},\n",
       " 'nonce': '771164708509754770507516'}"
      ]
     },
     "execution_count": 10,
     "metadata": {},
     "output_type": "execute_result"
    }
   ],
   "source": [
    "pres_ex_id\n",
    "response = await agent_controller.proofs.get_record_by_id(pres_ex_id)\n",
    "presentation_request = response['presentation_request']\n",
    "presentation_request"
   ]
  },
  {
   "cell_type": "code",
   "execution_count": 18,
   "metadata": {},
   "outputs": [
    {
     "name": "stdout",
     "output_type": "stream",
     "text": [
      "[{'cred_info': {'referent': 'My Revocable Credential', 'attrs': {'skill': 'researcher', 'age': '21', 'name': 'Bob'}, 'schema_id': 'PQRXDxdGqQGSZ8z69p4xZP:2:test_revocable_schema:0.0.1', 'cred_def_id': 'PQRXDxdGqQGSZ8z69p4xZP:3:CL:20:default', 'rev_reg_id': 'PQRXDxdGqQGSZ8z69p4xZP:4:PQRXDxdGqQGSZ8z69p4xZP:3:CL:20:default:CL_ACCUM:f0bdd25d-4fe5-4edc-858a-293a6aa2cb54', 'cred_rev_id': '1'}, 'interval': {'from': None, 'to': 1672626954}, 'presentation_referents': ['0_skill_uuid']}]\n",
      "\n",
      "Generate the proof\n",
      "{'requested_predicates': {}, 'requested_attributes': {'0_skill_uuid': {'cred_id': 'My Revocable Credential', 'revealed': True}}, 'self_attested_attributes': {}}\n",
      "\n",
      "XXX\n",
      "\n",
      "predicates:\n",
      "{}\n",
      "\n",
      "revealed:\n",
      "{'0_skill_uuid': {'cred_id': 'My Revocable Credential', 'revealed': True}}\n",
      "\n",
      "self_attested:\n",
      "{}\n"
     ]
    }
   ],
   "source": [
    "if state == \"request_received\":\n",
    "    print(\n",
    "    \"Received Request -> Query for credentials in the wallet that satisfy the proof request\")\n",
    "    \n",
    "if presentation_request != None:\n",
    "    # include self-attested attributes (not included in credentials)\n",
    "    credentials_by_reft = {}\n",
    "    revealed = {}\n",
    "    self_attested = {}\n",
    "    predicates = {}\n",
    "\n",
    "    # select credentials to provide for the proof\n",
    "    credentials = await agent_controller.proofs.get_presentation_credentials(pres_ex_id)\n",
    "    credentials = credentials[1:]\n",
    "    print(credentials)\n",
    "\n",
    "    if credentials:\n",
    "        for row in sorted(\n",
    "        credentials,\n",
    "        key=lambda c: dict(c[\"cred_info\"][\"attrs\"]),\n",
    "        reverse=True,\n",
    "        ):\n",
    "       \n",
    "            for referent in row[\"presentation_referents\"]:\n",
    "                if referent not in credentials_by_reft:\n",
    "                    credentials_by_reft[referent] = row\n",
    "\n",
    "    for referent in presentation_request[\"requested_attributes\"]:\n",
    "        if referent in credentials_by_reft:\n",
    "            revealed[referent] = {\n",
    "                \"cred_id\": credentials_by_reft[referent][\"cred_info\"][\n",
    "                    \"referent\"\n",
    "                ],\n",
    "                \"revealed\": True,\n",
    "            }\n",
    "\n",
    "        else:\n",
    "            self_attested[referent] = \"South Africa\"\n",
    "\n",
    "    for referent in presentation_request[\"requested_predicates\"]:\n",
    "        if referent in credentials_by_reft:\n",
    "            predicates[referent] = {\n",
    "                \"cred_id\": credentials_by_reft[referent][\"cred_info\"][\n",
    "                    \"referent\"\n",
    "                ]\n",
    "            }\n",
    "\n",
    "    print(\"\\nGenerate the proof\")\n",
    "    proof = {\n",
    "        \"requested_predicates\": predicates,\n",
    "        \"requested_attributes\": revealed,\n",
    "        \"self_attested_attributes\": self_attested,\n",
    "    }\n",
    "    print(proof)\n",
    "    print(\"\\nXXX\")\n",
    "    print(\"\\npredicates:\\n{}\".format(predicates))\n",
    "    print(\"\\nrevealed:\\n{}\".format(revealed))\n",
    "    print(\"\\nself_attested:\\n{}\".format(self_attested))\n",
    "    \n",
    "else: \n",
    "    print(\"No presenation record identifier\")"
   ]
  },
  {
   "cell_type": "markdown",
   "metadata": {},
   "source": [
    "## 16. Send presentation\n",
    "\n",
    "Bob sends the proof presentation to Alice for verification."
   ]
  },
  {
   "cell_type": "code",
   "execution_count": 19,
   "metadata": {},
   "outputs": [
    {
     "name": "stdout",
     "output_type": "stream",
     "text": [
      "{'trace': False, 'thread_id': 'd811a59a-fe4f-41f1-bf85-24c6ae15c11b', 'role': 'prover', 'presentation_request_dict': {'@type': 'did:sov:BzCbsNYhMrjHiqZDTUASHg;spec/present-proof/1.0/request-presentation', '@id': 'd811a59a-fe4f-41f1-bf85-24c6ae15c11b', 'request_presentations~attach': [{'@id': 'libindy-request-presentation-0', 'mime-type': 'application/json', 'data': {'base64': 'eyJuYW1lIjogIlByb29mIG9mIFBlcnNvbmFsIEluZm9ybWF0aW9uIiwgInZlcnNpb24iOiAiMS4wIiwgInJlcXVlc3RlZF9hdHRyaWJ1dGVzIjogeyIwX3NraWxsX3V1aWQiOiB7Im5hbWUiOiAic2tpbGwiLCAicmVzdHJpY3Rpb25zIjogW3siaXNzdWVyX2RpZCI6ICJQUVJYRHhkR3FRR1NaOHo2OXA0eFpQIn1dLCAibm9uX3Jldm9rZWQiOiB7InRvIjogMTY3MjYyNjk1NH19fSwgInJlcXVlc3RlZF9wcmVkaWNhdGVzIjoge30sICJub25fcmV2b2tlZCI6IHsidG8iOiAxNjcyNjI2OTU1fSwgIm5vbmNlIjogIjc3MTE2NDcwODUwOTc1NDc3MDUwNzUxNiJ9'}}]}, 'connection_id': '9777a4c5-00c9-4816-acd3-3139431cee8b', 'updated_at': '2023-01-02 02:43:15.056477Z', 'initiator': 'external', 'state': 'presentation_sent', 'presentation_exchange_id': '2a6aed06-4b92-445c-b002-a26adaf52d29', 'created_at': '2023-01-02 02:35:55.919140Z', 'presentation_request': {'name': 'Proof of Personal Information', 'version': '1.0', 'requested_attributes': {'0_skill_uuid': {'name': 'skill', 'restrictions': [{'issuer_did': 'PQRXDxdGqQGSZ8z69p4xZP'}], 'non_revoked': {'to': 1672626954}}}, 'requested_predicates': {}, 'non_revoked': {'to': 1672626955}, 'nonce': '771164708509754770507516'}, 'presentation': {'proof': {'proofs': [{'primary_proof': {'eq_proof': {'revealed_attrs': {'skill': '24214165878429772374367858032287880675266648921286067519661391650938186682695'}, 'a_prime': '47058163530607633576127687928118493244893693165490137837009675226565403632577630673924233735165092210748909325344701962121831488493863071069769255817944730280286332073607228421290675127468904109253145924358825412790496554477905837388496794283354955429547267581056752158624044147456627811907101409911064866513042026974303005456610724671948539699501267490808150200175501923147267271893413400597175820166474842766479120032065773768205571252334770262915929282587244891501735673388734337452637377603467709184556583504554147793226769703787788933883638282086910682938564200092768820229519575054632999142173477122429444322366', 'e': '66032985918527355174554164707870237490725367749948934375578107701219475440153425293210022846881133430854619512415979230449635716032132504', 'v': '516298249369647674122969149887964153939102135007045668144401031545965934784432375024162649427855085218960677991787785544999064738158498143302230404763805538564690960094419648296981329866821172600719730725923585768619695414990722167710602203142958063978095936771568268578046869101231723168666175163626466833267885478562057122869214854751291264497969097441479914832845348209391910703732305499949437963653355541637057590646345496475059829375504843477614944015430571826672082585387910023560003456167805050920613186048935711029034148055844444701787625812282448613060258422847216422569698351402378181098291632916642765513334380306542268339906030007949014005865903035469537517608857211704615282162995762610273133312871192597617098442892230549261140004989765382315076777438560732347859513145743739258647499210046278966030590290983320352273957990527444345992462448527726881488649746403108859832851423083834790342207877213739964971', 'm': {'name': '6606766555593690973092495327842081973335699109256828768423004762957153341386022343675913514647013261044796893324204581742331167029289030628325105809054761378703036450887349929627', 'age': '12006684437695867181712502466459907695623692131729035197427697728479485346237955444475122349659460557031939825873729386724002211957117082563769150918845437328677592991380747046841', 'master_secret': '5132686941906938047406374280378638454114238992564953454349827567210249902957946048272068798260867953436329255102888101590946550461364649447978793547334251741967695508368654023677'}, 'm2': '1892323623016580849658816735133740098871562882642853295357157617131855946481635792700766729343159460264376418200132474932247355026911505067171517838779992'}, 'ge_proofs': []}, 'non_revoc_proof': {'x_list': {'rho': '03DB621587AF3415298DAAA5A2B802DD6F7DFE68825E13ECDB4014D0EEA26043', 'r': '0F52237A3A55FD83C0F714363A2BAEED7D05EDF6E1DF226554276DF7886F89FE', 'r_prime': '00FD7C71030CF33144620B4C66D935A4F30C593BB9C195390869FC51E87A0E69', 'r_prime_prime': '112D46BE2EB2F8B23DE260084CB6DAE529DD80269E1AE8B7BB599A53A105D071', 'r_prime_prime_prime': '13CD82F101F5738BC6A73BF6DE3AEE4E4CC7DDE52DD2C602C433502AF9167792', 'o': '064AE152151A57AB8A7030B359B486BB7D2021442E775E6BBA7C7ACEBF4C7836', 'o_prime': '159FB82CAD5EF77742D9401514E1457264103F66C21F74CB5E206E7ED5633D25', 'm': '1B43F52989C94767FAC983A266DEDABCB993A0C2C9AF80F650655D98A12D78AA', 'm_prime': '05AE1D60A26EFB540AD0F2190EFEDA3883880E734A47078B46FA7E5569958198', 't': '11AACEA2684E4F1B7386EED1D531AD4D91E7A77E17CFEB041D285F94EE5F4898', 't_prime': '046DE1A2A8FAAD8F0AA3C542FB81B8AEACB8B46206AA17AC571EDB5CBDC452DF', 'm2': '1A03B3DD86D255939AEE73E7F63E92FFD87FB56379CEBCFAB8E6597D8D9BCF4D', 's': '00FF77402F7802A9C0A2CFDF5CD918B4458F0CEC5FB81C243868319B999F76CA', 'c': '1843E5089CE8E8CA171B203877F44028D9F7F95C19070440AF7EB6837E5C10AB'}, 'c_list': {'e': '6 53F8442B465CAAB72A66996A94906D0B36D6B7C29898475EC85F18E4AF60F020 4 239334325D24C35DB7D871B34DBB532D70ED35A04C31C13FE040DEA9B628CA5D 4 3E238296D666CD44AA901C3C809181501B258C7D3D0384F0D5E5B701106B0B05', 'd': '6 3E6307A1750F435ADCB36955503E2FDB3ECABAB06A8F150AA7682D00169BCC68 4 1EA8F0FAE527C2F171BF79D50B9D0F73FD252BC09751BC019658CA16FB9F8DAC 4 264B27F258634D10C1CFD46B61AA7C98662B70BCC27BFB2BEA2A0F31C37D1131', 'a': '6 43101337CD0E784F976CF81576B01FE5A71F4FF6661D04A4B0BDEBECDFB49A33 4 0C32EB17538B463D6C28AF81CE34070A7C3736A784FEA6B4C694A549FBC4C595 4 39E9D5238ABDBBFE3271BFF1A08E12652BA82915E941EBA5ED05E8E74E998B1C', 'g': '6 58EE7AD4E60DF9A2D413518E2AC2322229E5C55CD1DA1E61703BAD937DF2E751 4 2973DB925C46D79C1BF1276A3FBB8C187B89C35981BF57A47F48FDB71C1AF1EC 4 14EEE378FF5177A3B87A35762B7E25BB609A8758D367A29888DD19A11F435EC8', 'w': '21 118C7479463BB4889DB552D3987E34C28C777F1614E8D5D338FF06AF1EE1CE611 21 147EFDE4557FA3B4C0A5CD4168AC422013EB654A93AE167937145D1D04DFC0D8A 6 7B478209B8EA90D47A6EE1D2B72E0FB9F8A66BE66C6B07FC4CAAAA1EDD99D84F 4 0A03C2045E95B035A0BD2F1F042FDA01B18B2BFD91A3946055A04CAB48CF283D 6 6AE388FC8BEAFFC2BF9B62D0EF946092C898FB8E8EABB23D0771800CDAE31308 4 24FCC0C78AF42FB4E239AF730B75EE54C132ECDCE90A6BA5457302C025662A8F', 's': '21 111E2D37D7468127E8238B629CCFEB6020F0F962422D0F06268EEFB410B606211 21 130D52DBEF588BF062155BF2FCC5E90ED0C2211622C794FF81EE9B21B21B3F36C 6 62EAC2FE8DB98CE23D504DE627C85F5EF2EB82A5F0D7CC7BE22145A9DBE1539A 4 2B429D603266F459B81BF1CD57B1573D4CA40210E4A1F92B1127402EB4430F6B 6 78A919139B49C232912D72D80A6F6C7C9F1C55D9AAFDB12F81CC4C6FBD81E33B 4 1B0D0720CE4840EFB0EB2A9F0F3667FA6472F607638949BDA93B9C887F535B24', 'u': '21 1388BA5AFA8F97EDCA2536D6AC54826D558783AF90C9B64DA93B4CBB05EC784AB 21 1283697AE521AC0CD4DA7EBECC6E2154A83572F0E78F0A62B5DA3CC838813D598 6 72E08B437DC079AE519CA5E202FFA847738E745FBEE2DF03EDA8324A127B7536 4 2A837B383B5A895046EE8AE342D317EB4B3707D3B89FCD5AD84DE0F728889A07 6 741015A8E72B999C59081933503C40AD94B83C2615E558134197E1EA62C73A3D 4 1E96E6758B09484E7FCB06595718B7CAC76EE0E50B345AB812B6C8C16AEFF2A0'}}}], 'aggregated_proof': {'c_hash': '56697590939416906362869044521892826115034373950483912379144347157655366527669', 'c_list': [[4, 23, 183, 225, 103, 100, 55, 143, 164, 45, 44, 191, 201, 14, 183, 171, 237, 61, 33, 219, 214, 18, 138, 49, 124, 21, 57, 216, 69, 39, 164, 96, 97, 21, 39, 132, 80, 215, 118, 192, 4, 17, 133, 238, 51, 203, 117, 56, 2, 112, 222, 85, 120, 194, 45, 88, 138, 170, 238, 191, 150, 176, 164, 252, 6, 0, 0, 0, 0, 0, 0, 0, 0, 0, 0, 0, 0, 0, 0, 0, 0, 0, 0, 0, 0, 0, 0, 0, 0, 0, 0, 0, 0, 0, 0, 0, 0, 0, 0, 0, 0, 0, 0, 0, 0, 0, 0, 0, 0, 0, 0, 0, 0, 0, 0, 0, 0, 0, 0, 0, 0, 0, 0, 0, 0, 0, 0, 0], [4, 9, 44, 233, 18, 101, 96, 213, 118, 209, 211, 105, 175, 29, 148, 17, 62, 95, 185, 0, 112, 199, 128, 17, 244, 55, 188, 207, 137, 34, 51, 26, 80, 0, 43, 227, 54, 221, 77, 80, 110, 146, 215, 93, 135, 132, 123, 8, 1, 174, 176, 65, 150, 195, 100, 111, 196, 144, 195, 224, 182, 177, 19, 63, 176, 0, 0, 0, 0, 0, 0, 0, 0, 0, 0, 0, 0, 0, 0, 0, 0, 0, 0, 0, 0, 0, 0, 0, 0, 0, 0, 0, 0, 0, 0, 0, 0, 0, 0, 0, 0, 0, 0, 0, 0, 0, 0, 0, 0, 0, 0, 0, 0, 0, 0, 0, 0, 0, 0, 0, 0, 0, 0, 0, 0, 0, 0, 0], [4, 17, 127, 143, 231, 177, 247, 243, 61, 21, 131, 15, 241, 152, 102, 124, 202, 40, 25, 236, 77, 205, 98, 138, 206, 184, 143, 234, 77, 168, 112, 44, 40, 5, 174, 202, 50, 145, 198, 249, 104, 209, 189, 117, 122, 228, 145, 15, 148, 151, 178, 196, 198, 155, 56, 198, 255, 73, 248, 157, 188, 253, 31, 181, 87, 0, 0, 0, 0, 0, 0, 0, 0, 0, 0, 0, 0, 0, 0, 0, 0, 0, 0, 0, 0, 0, 0, 0, 0, 0, 0, 0, 0, 0, 0, 0, 0, 0, 0, 0, 0, 0, 0, 0, 0, 0, 0, 0, 0, 0, 0, 0, 0, 0, 0, 0, 0, 0, 0, 0, 0, 0, 0, 0, 0, 0, 0, 0], [4, 7, 127, 190, 234, 46, 141, 159, 218, 0, 0, 27, 135, 229, 60, 216, 67, 216, 97, 69, 28, 199, 57, 137, 14, 141, 67, 222, 199, 155, 193, 30, 70, 4, 9, 141, 158, 255, 109, 79, 78, 222, 182, 81, 253, 156, 59, 218, 220, 162, 31, 23, 239, 134, 148, 17, 173, 179, 6, 173, 37, 148, 58, 197, 174, 0, 0, 0, 0, 0, 0, 0, 0, 0, 0, 0, 0, 0, 0, 0, 0, 0, 0, 0, 0, 0, 0, 0, 0, 0, 0, 0, 0, 0, 0, 0, 0, 0, 0, 0, 0, 0, 0, 0, 0, 0, 0, 0, 0, 0, 0, 0, 0, 0, 0, 0, 0, 0, 0, 0, 0, 0, 0, 0, 0, 0, 0, 0], [19, 188, 26, 150, 62, 211, 166, 87, 82, 214, 233, 193, 216, 113, 185, 34, 18, 185, 48, 106, 32, 210, 192, 174, 117, 82, 157, 233, 32, 87, 153, 100, 7, 44, 117, 36, 76, 210, 7, 78, 129, 174, 180, 1, 168, 107, 133, 194, 121, 171, 44, 191, 13, 171, 80, 246, 99, 206, 65, 106, 201, 62, 45, 100, 36, 174, 124, 238, 97, 175, 63, 240, 189, 43, 28, 145, 88, 51, 1, 62, 207, 227, 7, 95, 167, 63, 226, 206, 20, 143, 172, 51, 39, 128, 250, 154, 21, 140, 156, 187, 215, 162, 228, 31, 129, 100, 75, 186, 127, 31, 197, 110, 146, 12, 41, 133, 120, 217, 180, 77, 56, 1, 214, 9, 118, 185, 72, 134], [2, 136, 147, 110, 208, 240, 249, 25, 92, 159, 249, 232, 212, 228, 113, 207, 74, 50, 167, 253, 88, 201, 217, 39, 4, 42, 139, 126, 183, 217, 91, 4, 12, 211, 95, 45, 219, 243, 165, 34, 100, 104, 66, 218, 211, 14, 152, 52, 8, 68, 205, 237, 149, 31, 60, 186, 22, 44, 250, 98, 37, 99, 166, 122, 3, 158, 111, 226, 108, 216, 13, 237, 126, 112, 54, 84, 253, 54, 12, 105, 183, 153, 94, 186, 167, 100, 19, 217, 173, 228, 48, 216, 209, 236, 169, 72, 14, 87, 29, 95, 255, 169, 240, 92, 101, 150, 224, 50, 61, 4, 8, 134, 226, 243, 28, 229, 65, 76, 116, 79, 65, 178, 200, 27, 54, 239, 222, 149], [36, 184, 140, 92, 140, 184, 172, 94, 233, 22, 173, 100, 100, 45, 212, 164, 222, 125, 30, 5, 161, 199, 193, 73, 186, 205, 210, 254, 218, 66, 186, 92, 35, 179, 166, 251, 93, 141, 251, 82, 213, 185, 192, 109, 159, 102, 190, 220, 203, 71, 13, 132, 112, 105, 22, 250, 138, 30, 48, 208, 230, 237, 112, 53, 15, 31, 155, 6, 236, 141, 125, 67, 78, 180, 252, 214, 191, 147, 90, 72, 41, 171, 51, 160, 224, 25, 80, 115, 63, 89, 185, 235, 228, 50, 28, 78, 36, 154, 191, 52, 58, 27, 148, 145, 119, 162, 25, 90, 92, 30, 85, 211, 104, 205, 75, 137, 200, 45, 157, 1, 98, 206, 25, 102, 162, 97, 39, 118], [1, 116, 197, 191, 245, 224, 137, 102, 181, 123, 238, 73, 167, 11, 143, 144, 247, 65, 2, 168, 10, 168, 76, 11, 115, 95, 156, 245, 234, 209, 129, 36, 63, 38, 97, 101, 102, 64, 51, 254, 72, 157, 160, 155, 85, 86, 217, 210, 251, 140, 131, 242, 16, 231, 232, 238, 198, 10, 115, 28, 238, 88, 223, 81, 200, 84, 93, 143, 249, 209, 111, 15, 5, 77, 221, 151, 57, 18, 199, 133, 158, 184, 196, 133, 43, 65, 87, 185, 246, 111, 3, 47, 231, 233, 183, 77, 24, 136, 210, 18, 85, 134, 119, 9, 231, 221, 104, 43, 254, 42, 109, 59, 5, 69, 81, 112, 89, 149, 201, 40, 145, 154, 35, 86, 230, 214, 113, 97, 58, 12, 196, 233, 184, 87, 99, 11, 151, 111, 114, 52, 60, 105, 30, 53, 79, 101, 145, 170, 69, 131, 227, 37, 237, 139, 240, 22, 237, 164, 187, 177, 103, 11, 175, 111, 201, 78, 111, 60, 243, 164, 18, 84, 98, 130, 188, 117, 33, 238, 118, 184, 199, 169, 94, 105, 247, 182, 178, 136, 25, 245, 42, 156, 177, 49, 122, 114, 18, 202, 115, 168, 95, 125, 173, 107, 202, 50, 233, 214, 233, 151, 1, 110, 113, 58, 192, 71, 171, 105, 52, 112, 148, 108, 57, 117, 43, 240, 191, 162, 182, 99, 221, 154, 241, 206, 156, 35, 189, 26, 144, 17, 24, 122, 48, 189, 143, 139, 95, 21, 167, 134, 109, 13, 247, 123, 186, 116, 62]]}}, 'requested_proof': {'revealed_attrs': {'0_skill_uuid': {'sub_proof_index': 0, 'raw': 'researcher', 'encoded': '24214165878429772374367858032287880675266648921286067519661391650938186682695'}}, 'self_attested_attrs': {}, 'unrevealed_attrs': {}, 'predicates': {}}, 'identifiers': [{'schema_id': 'PQRXDxdGqQGSZ8z69p4xZP:2:test_revocable_schema:0.0.1', 'cred_def_id': 'PQRXDxdGqQGSZ8z69p4xZP:3:CL:20:default', 'rev_reg_id': 'PQRXDxdGqQGSZ8z69p4xZP:4:PQRXDxdGqQGSZ8z69p4xZP:3:CL:20:default:CL_ACCUM:f0bdd25d-4fe5-4edc-858a-293a6aa2cb54', 'timestamp': 1672626811}]}}\n",
      "Handle present proof\n",
      "Role prover, Exchange 2a6aed06-4b92-445c-b002-a26adaf52d29 in state presentation_sent\n",
      "Handle present proof\n",
      "Role prover, Exchange 2a6aed06-4b92-445c-b002-a26adaf52d29 in state presentation_acked\n"
     ]
    }
   ],
   "source": [
    "response = await agent_controller.proofs.send_presentation(pres_ex_id, proof)\n",
    "print(response)"
   ]
  },
  {
   "cell_type": "markdown",
   "metadata": {},
   "source": [
    "## 17. Continue in [Alice's Notebook](http://localhost:8888/lab/tree/5%20Advanced%20Concepts/Part%202%20-%20Revocation.ipynb)\n",
    "\n",
    "Alice will verify the non-revoked credential to be OK."
   ]
  },
  {
   "cell_type": "markdown",
   "metadata": {},
   "source": [
    "# Part 2 - Revoking the credential"
   ]
  },
  {
   "cell_type": "markdown",
   "metadata": {},
   "source": [
    "## 19. Check credential\n",
    "\n",
    "Bob will check his credential now to find that it is revoked."
   ]
  },
  {
   "cell_type": "code",
   "execution_count": 20,
   "metadata": {},
   "outputs": [
    {
     "data": {
      "text/plain": [
       "{'revoked': True}"
      ]
     },
     "execution_count": 20,
     "metadata": {},
     "output_type": "execute_result"
    },
    {
     "name": "stdout",
     "output_type": "stream",
     "text": [
      "Handle present proof\n",
      "Role prover, Exchange 3185a034-0ba0-42c2-bc1e-1ceebfd99305 in state request_received\n"
     ]
    }
   ],
   "source": [
    "response = await agent_controller.credentials.is_revoked(credential_id)\n",
    "response"
   ]
  },
  {
   "cell_type": "markdown",
   "metadata": {},
   "source": [
    "## 20. Continue in [Alice's Notebook](http://localhost:8888/lab/tree/5%20Advanced%20Concepts/Part%202%20-%20Revocation.ipynb)\n",
    "\n",
    "Alice will request for a credential proof once again."
   ]
  },
  {
   "cell_type": "markdown",
   "metadata": {},
   "source": [
    "## 21. Fetch credentials for presentation proof\n",
    "\n",
    "Note `pres_ex_id` is set in the proofs handler."
   ]
  },
  {
   "cell_type": "code",
   "execution_count": 21,
   "metadata": {},
   "outputs": [
    {
     "data": {
      "text/plain": [
       "{'name': 'Proof of Personal Information',\n",
       " 'version': '1.0',\n",
       " 'requested_attributes': {'0_skill_uuid': {'name': 'skill',\n",
       "   'restrictions': [{'issuer_did': 'PQRXDxdGqQGSZ8z69p4xZP'}],\n",
       "   'non_revoked': {'to': 1672627475}}},\n",
       " 'requested_predicates': {},\n",
       " 'non_revoked': {'to': 1672627476},\n",
       " 'nonce': '174512802480630886890112'}"
      ]
     },
     "execution_count": 21,
     "metadata": {},
     "output_type": "execute_result"
    }
   ],
   "source": [
    "# fetch credentials for presenting proof\n",
    "pres_ex_id\n",
    "response = await agent_controller.proofs.get_record_by_id(pres_ex_id)\n",
    "presentation_request = response['presentation_request']\n",
    "presentation_request"
   ]
  },
  {
   "cell_type": "code",
   "execution_count": 23,
   "metadata": {},
   "outputs": [
    {
     "name": "stdout",
     "output_type": "stream",
     "text": [
      "[{'cred_info': {'referent': 'My Revocable Credential', 'attrs': {'name': 'Bob', 'age': '21', 'skill': 'researcher'}, 'schema_id': 'PQRXDxdGqQGSZ8z69p4xZP:2:test_revocable_schema:0.0.1', 'cred_def_id': 'PQRXDxdGqQGSZ8z69p4xZP:3:CL:20:default', 'rev_reg_id': 'PQRXDxdGqQGSZ8z69p4xZP:4:PQRXDxdGqQGSZ8z69p4xZP:3:CL:20:default:CL_ACCUM:f0bdd25d-4fe5-4edc-858a-293a6aa2cb54', 'cred_rev_id': '1'}, 'interval': {'from': None, 'to': 1672627475}, 'presentation_referents': ['0_skill_uuid']}]\n",
      "\n",
      "Generate the proof\n",
      "{'requested_predicates': {}, 'requested_attributes': {'0_skill_uuid': {'cred_id': 'My Revocable Credential', 'revealed': True}}, 'self_attested_attributes': {}}\n",
      "\n",
      "XXX\n",
      "\n",
      "predicates:\n",
      "{}\n",
      "\n",
      "revealed:\n",
      "{'0_skill_uuid': {'cred_id': 'My Revocable Credential', 'revealed': True}}\n",
      "\n",
      "self_attested:\n",
      "{}\n"
     ]
    }
   ],
   "source": [
    "if state == \"request_received\":\n",
    "    print(\n",
    "    \"Received Request -> Query for credentials in the wallet that satisfy the proof request\")\n",
    "    \n",
    "if presentation_request != None:\n",
    "    # include self-attested attributes (not included in credentials)\n",
    "    credentials_by_reft = {}\n",
    "    revealed = {}\n",
    "    self_attested = {}\n",
    "    predicates = {}\n",
    "\n",
    "    # select credentials to provide for the proof\n",
    "    credentials = await agent_controller.proofs.get_presentation_credentials(pres_ex_id)\n",
    "    credentials = credentials[1:]\n",
    "    print(credentials)\n",
    "\n",
    "    if credentials:\n",
    "        for row in sorted(\n",
    "            credentials,\n",
    "            key=lambda c: dict(c[\"cred_info\"][\"attrs\"]),\n",
    "            reverse=True,\n",
    "        ):\n",
    "            for referent in row[\"presentation_referents\"]:\n",
    "                if referent not in credentials_by_reft:\n",
    "                    credentials_by_reft[referent] = row\n",
    "\n",
    "    for referent in presentation_request[\"requested_attributes\"]:\n",
    "        if referent in credentials_by_reft:\n",
    "            revealed[referent] = {\n",
    "                \"cred_id\": credentials_by_reft[referent][\"cred_info\"][\n",
    "                    \"referent\"\n",
    "                ],\n",
    "                \"revealed\": True,\n",
    "            }\n",
    "\n",
    "        else:\n",
    "            self_attested[referent] = \"South Africa\"\n",
    "\n",
    "    for referent in presentation_request[\"requested_predicates\"]:\n",
    "        if referent in credentials_by_reft:\n",
    "            predicates[referent] = {\n",
    "                \"cred_id\": credentials_by_reft[referent][\"cred_info\"][\n",
    "                    \"referent\"\n",
    "                ]\n",
    "            }\n",
    "\n",
    "    print(\"\\nGenerate the proof\")\n",
    "    proof = {\n",
    "        \"requested_predicates\": predicates,\n",
    "        \"requested_attributes\": revealed,\n",
    "        \"self_attested_attributes\": self_attested,\n",
    "    }\n",
    "    print(proof)\n",
    "    print(\"\\nXXX\")\n",
    "    print(\"\\npredicates:\\n{}\".format(predicates))\n",
    "    print(\"\\nrevealed:\\n{}\".format(revealed))\n",
    "    print(\"\\nself_attested:\\n{}\".format(self_attested))\n",
    "    \n",
    "else: \n",
    "    print(\"No presenation record identifier\")"
   ]
  },
  {
   "cell_type": "markdown",
   "metadata": {},
   "source": [
    "## 22. Send presentation\n",
    "\n",
    "Bob sends the proof presentation to Alice for verification."
   ]
  },
  {
   "cell_type": "code",
   "execution_count": 24,
   "metadata": {},
   "outputs": [
    {
     "name": "stdout",
     "output_type": "stream",
     "text": [
      "{'trace': False, 'thread_id': '49315c35-3a9f-4218-a647-6e71319578f1', 'role': 'prover', 'presentation_request_dict': {'@type': 'did:sov:BzCbsNYhMrjHiqZDTUASHg;spec/present-proof/1.0/request-presentation', '@id': '49315c35-3a9f-4218-a647-6e71319578f1', 'request_presentations~attach': [{'@id': 'libindy-request-presentation-0', 'mime-type': 'application/json', 'data': {'base64': 'eyJuYW1lIjogIlByb29mIG9mIFBlcnNvbmFsIEluZm9ybWF0aW9uIiwgInZlcnNpb24iOiAiMS4wIiwgInJlcXVlc3RlZF9hdHRyaWJ1dGVzIjogeyIwX3NraWxsX3V1aWQiOiB7Im5hbWUiOiAic2tpbGwiLCAicmVzdHJpY3Rpb25zIjogW3siaXNzdWVyX2RpZCI6ICJQUVJYRHhkR3FRR1NaOHo2OXA0eFpQIn1dLCAibm9uX3Jldm9rZWQiOiB7InRvIjogMTY3MjYyNzQ3NX19fSwgInJlcXVlc3RlZF9wcmVkaWNhdGVzIjoge30sICJub25fcmV2b2tlZCI6IHsidG8iOiAxNjcyNjI3NDc2fSwgIm5vbmNlIjogIjE3NDUxMjgwMjQ4MDYzMDg4Njg5MDExMiJ9'}}]}, 'connection_id': '9777a4c5-00c9-4816-acd3-3139431cee8b', 'updated_at': '2023-01-02 02:45:16.183365Z', 'initiator': 'external', 'state': 'presentation_sent', 'presentation_exchange_id': '3185a034-0ba0-42c2-bc1e-1ceebfd99305', 'created_at': '2023-01-02 02:44:36.354208Z', 'presentation_request': {'name': 'Proof of Personal Information', 'version': '1.0', 'requested_attributes': {'0_skill_uuid': {'name': 'skill', 'restrictions': [{'issuer_did': 'PQRXDxdGqQGSZ8z69p4xZP'}], 'non_revoked': {'to': 1672627475}}}, 'requested_predicates': {}, 'non_revoked': {'to': 1672627476}, 'nonce': '174512802480630886890112'}, 'presentation': {'proof': {'proofs': [{'primary_proof': {'eq_proof': {'revealed_attrs': {'skill': '24214165878429772374367858032287880675266648921286067519661391650938186682695'}, 'a_prime': '13731501460012506548814988162398382952548869280525598078607271826811744468123320365801630860534240974924939316263811689230741664309747841694227108163885775349651728236647299361527371109943946171138045314389096689283499015881680426799951751325843621948359615497542412107795188978132523748193679167550420237076392605557477302145759055331350105935757741794049358229207964704948470306366509924055686402589065253804069443527345712575717872352354937934611151108008891388521023732181060531848620615724725830198427103827547157288190720531655335762000622282737630413813961083739022399271604449601614699759226769612628131055968', 'e': '147610194064403176368750309836800763019348117099907170994363481628939304329174909059122719458271774351430125233407902255350192776736352199', 'v': '728070033724501602172872044794346400528091087238920688710737659897635585497494219673184180781612966210756760328278247445719597101622798039871965428558496676563075518978374549060232049968398932036575564170331125925509794414608125647868960275954622686113493041970878078399236766465973363155342174504390858143893063862135093437052211552647972929490648671362009911559294448129467094809312602302332560145026474948807558107685143185154980506530333921797250900417894946992017780518743024085100331347250450657829896650698228860616527609484864432575177592528196691061527787565275210324991062091627440406102923344377415454515609560954907242853369902842388007856955843346845381448000805769000958930737034385412922556906136897039587973211550138031602768958357424220000018467342677208901430404261303434055409671430381558240512542818512676416049726275850663471785241334590502405738411838197317958593854312281625780179886202809395776116', 'm': {'master_secret': '14408763911045716594968591365246964598190108246226695751022374852318649367179538677221270849090677897027393032429429463280235962480215287987150423612288484557036366750483118807737', 'name': '12707638033787353074839661474818377780927376021965931644867079686139593382077861623156280152416290700154716023092419319701441726901446940621826915752924414663737065823407251182738', 'age': '10003219270392793756426340293180124174675797420064714785356781673232158601328884147203027295788869417166505157874525109735390078557717724756023948745525569149302000310129514257722'}, 'm2': '3483323760384584216317796212746125961427159063389826403301140971616407229379565944771663357917313253907360264108583146837480434503803473531187263483331850'}, 'ge_proofs': []}, 'non_revoc_proof': {'x_list': {'rho': '1CAAEC7A9936B8B091C728878C06F57AB9A44B116490D1755924B9555E0B568C', 'r': '14D7790C5444C1D976DD52B84852051C4B2A8870E739DF1FC9CDBB34408DD25E', 'r_prime': '0C380750D49364983D5A93FF738E01D456CE0B389D29C80C8BD8DA326E0F29C0', 'r_prime_prime': '09FCA5FBFDC0A913A4454450966219021B84D977A51217F5F77F951EAB178854', 'r_prime_prime_prime': '13B5DA734D12EE04D509B21F9E79AC3C81ADA88AE958D428B301B4CD6452C291', 'o': '2028C26E3FC54ED0650D476037E0BB5F0D5BFB7F98BDC2341B1BEE2A2B9AB186', 'o_prime': '0DC27EC1CF79EF3DEDF9A1C7AF6CB5A7C54EDFEC5FD69CC1F31346ED44705C0A', 'm': '1240BAC6DD96B33905527162AF33BFEF9F955BDB4F6DE92AAF022C74DDD71635', 'm_prime': '1CA879CD16E904A219EE49F4EDB0C07288DCD3A51E93C3A9C63F367CCBA1CDEE', 't': '16E4FBC716BB8B1FB063F94D081D1B9C42B17480F21F75D27AAF31F930DCE38C', 't_prime': '12D742C11742FE9D5D6021AFA58F521E839D513F4E86DB422EB9BD15E38A78DE', 'm2': '0D79E38AB913D137FCE4FADE4C20C351117ABAF86912BA660822126FEE2CFF04', 's': '12E81DA28C2FDDC6F09A8376098A9355DACE7648B23981657485E6E3CEA2B96B', 'c': '11D128C842E25ADCC6496DD1E1B3CC647EF4DD4246205F38C23B0BD2636C0BF4'}, 'c_list': {'e': '6 4A781D8F0F1B5E702CBA9B6E0373803D7D90A78D35F3EE8E5287B0B8EA66806C 4 116CAC6E14E2A6549E7E961D2097A6FD1827B37B76F3A80CCAD472A97D656E0D 4 2C95E7D8DD939FABB08F3186A3C85EB17A26712FE02D94CC350186E174ADB66D', 'd': '6 46BF53364BB885896708F9D1E76D346BB2DCF531236E3D6685C730683A90AFE0 4 0D26779D14FBEC68C0D4F73D61F47F6788B5B3FA2D1DD3A91F2B0DDC0975B15E 4 2A4E932C2D82B2ECAEDBCDE48AC1534E3D1CCA0468BFF9BA50DB21B73A2CD886', 'a': '6 4D1EE516A2521848A5A27B0B1770A0DD098BC116DF1612C3A253AE26252B3C12 4 28A9937C362AD4D8F4CC8095D58ECA7F45C37D7B693A71544338005D451518C4 4 3360910F2D72F16BD69BA2D4654F5BA4B12E78B69F64DC72D73CF3224D629701', 'g': '6 42AAFC536E3A9292DA28648B41D8F6F3013B104A15A5BD16D53C413EF3580157 4 36D0BF0A79EE978A072900F1C5710E2D62000BE0C8E0C5F80AE851F02D46DF88 4 119D66B907A3711F86F26EFC46641F8E79476EFEC51F256FD89B6485C54286A0', 'w': '21 1292412FB870B13A8E4F054DFF20BF7EEF26DC75E2B515B7A1D765442CBFB3DAC 21 110A73CBB6EE50415B31DF2038772445C83E4C71EACBEB8D62AA30287AE2A622A 6 8D3B83354567116DCD42C5F52E699448FA4F57CABC5783706B6213E215F5710F 4 121B8C86F7CB534963EC30A3DB3EF53AE434F4BE161D201642166F7EB97F5645 6 532CC39F8A5B0D238951D9BABA295BB75A7400269C693CB3C2B6460C3278F7CD 4 3AAF9C4759F254697F48BCB39655E8401096351670A4552C7EB9E32AFCF9781C', 's': '21 125D30576F8DCB973009CC90C7AF546D56D2C6C00ED5B0866246A7C2D77C24EE1 21 11888893DE7BFA57B69B2CEEE260D1C21BB33442E96732C8825C5FCCA4950D136 6 66ECB2125D6ED517B8703B87567577AFE2577269171E2F33089E21BC7B252964 4 2448FAABC3D4D28E5388E9275A3DEC13566DCDAF69FEF0ABA1A2A426468B1221 6 6EC6CEB9918F5E4C0953222D688C83ADDC917F53EF79D159D276CF14EB0EFAD0 4 239FC9701F66FC8E39B17137D3E4B46B0DEDB87DF2DD7E792DC7217779654CE1', 'u': '21 138A12CEEFAC6EAA51FCF8BD442D3A842D69B1C633E182E7B30C50BCC7B6641D7 21 12A39425775924D57A82CE92537B46D03FA96F4F277772A4DDC8E82E4D8C8CB8F 6 7F2F60677C744ED0062C4061D8232785B24EEA494E5B5BA9C5AA338B8A891920 4 1241F8E5F28C074B0C9C4885BA1315C4C648E1AD90C051A28D94CF1693D7D17A 6 7F25AB86A08F74EC0EA1462433D8B134F018C459F780C4C1D482CF979066BFC5 4 37284F1A781BEC28C1556A4070B59CB126D8FC1B0FDC3D8BFB0667B907A5E245'}}}], 'aggregated_proof': {'c_hash': '104366960954070452974043182500066926377718495768890963674320068186425180910313', 'c_list': [[4, 16, 194, 85, 167, 204, 166, 44, 91, 12, 6, 99, 208, 113, 176, 84, 68, 199, 88, 236, 6, 236, 114, 211, 225, 235, 233, 214, 235, 67, 105, 61, 5, 31, 203, 184, 248, 93, 62, 221, 241, 114, 68, 228, 37, 205, 190, 200, 183, 15, 44, 166, 224, 20, 73, 165, 157, 97, 225, 26, 72, 58, 87, 18, 126, 0, 0, 0, 0, 0, 0, 0, 0, 0, 0, 0, 0, 0, 0, 0, 0, 0, 0, 0, 0, 0, 0, 0, 0, 0, 0, 0, 0, 0, 0, 0, 0, 0, 0, 0, 0, 0, 0, 0, 0, 0, 0, 0, 0, 0, 0, 0, 0, 0, 0, 0, 0, 0, 0, 0, 0, 0, 0, 0, 0, 0, 0, 0], [4, 36, 18, 100, 156, 92, 69, 13, 179, 71, 124, 56, 126, 44, 200, 132, 47, 46, 254, 234, 30, 20, 165, 225, 200, 210, 98, 228, 6, 145, 58, 126, 229, 19, 209, 10, 173, 217, 92, 234, 70, 213, 133, 148, 88, 25, 148, 0, 192, 111, 29, 122, 149, 96, 165, 78, 151, 136, 133, 91, 90, 6, 35, 62, 176, 0, 0, 0, 0, 0, 0, 0, 0, 0, 0, 0, 0, 0, 0, 0, 0, 0, 0, 0, 0, 0, 0, 0, 0, 0, 0, 0, 0, 0, 0, 0, 0, 0, 0, 0, 0, 0, 0, 0, 0, 0, 0, 0, 0, 0, 0, 0, 0, 0, 0, 0, 0, 0, 0, 0, 0, 0, 0, 0, 0, 0, 0, 0], [4, 34, 75, 154, 23, 128, 168, 235, 84, 107, 149, 26, 187, 26, 181, 54, 144, 127, 157, 67, 196, 6, 27, 155, 220, 28, 103, 239, 133, 30, 228, 224, 93, 0, 130, 74, 13, 18, 47, 128, 208, 78, 4, 203, 235, 10, 104, 219, 190, 137, 190, 48, 195, 1, 213, 6, 205, 31, 201, 127, 65, 23, 55, 169, 255, 0, 0, 0, 0, 0, 0, 0, 0, 0, 0, 0, 0, 0, 0, 0, 0, 0, 0, 0, 0, 0, 0, 0, 0, 0, 0, 0, 0, 0, 0, 0, 0, 0, 0, 0, 0, 0, 0, 0, 0, 0, 0, 0, 0, 0, 0, 0, 0, 0, 0, 0, 0, 0, 0, 0, 0, 0, 0, 0, 0, 0, 0, 0], [4, 29, 247, 197, 164, 107, 187, 111, 24, 136, 217, 35, 128, 76, 253, 76, 112, 238, 255, 116, 251, 142, 22, 180, 36, 166, 9, 59, 186, 27, 35, 190, 74, 5, 56, 89, 18, 181, 212, 62, 41, 153, 228, 157, 146, 252, 3, 66, 137, 65, 63, 211, 156, 168, 211, 163, 236, 197, 69, 30, 249, 232, 82, 71, 40, 0, 0, 0, 0, 0, 0, 0, 0, 0, 0, 0, 0, 0, 0, 0, 0, 0, 0, 0, 0, 0, 0, 0, 0, 0, 0, 0, 0, 0, 0, 0, 0, 0, 0, 0, 0, 0, 0, 0, 0, 0, 0, 0, 0, 0, 0, 0, 0, 0, 0, 0, 0, 0, 0, 0, 0, 0, 0, 0, 0, 0, 0, 0], [5, 197, 95, 66, 205, 148, 120, 153, 84, 0, 121, 207, 62, 166, 190, 136, 238, 211, 166, 161, 140, 157, 50, 138, 33, 213, 17, 31, 75, 30, 247, 64, 7, 4, 178, 64, 28, 89, 221, 192, 76, 127, 243, 25, 109, 158, 154, 133, 1, 149, 208, 195, 243, 231, 212, 128, 218, 225, 14, 17, 219, 164, 176, 15, 0, 230, 22, 181, 255, 41, 110, 69, 152, 175, 86, 202, 89, 46, 90, 194, 239, 124, 1, 200, 243, 30, 127, 121, 8, 117, 100, 222, 28, 95, 66, 110, 31, 141, 221, 240, 51, 139, 153, 244, 18, 24, 34, 5, 186, 61, 206, 15, 103, 175, 202, 13, 235, 138, 39, 92, 115, 144, 53, 71, 76, 186, 125, 39], [2, 142, 20, 176, 91, 28, 167, 97, 23, 196, 131, 97, 8, 187, 135, 222, 43, 38, 243, 132, 138, 66, 183, 97, 241, 219, 47, 142, 110, 165, 33, 170, 17, 15, 116, 102, 30, 54, 248, 134, 21, 19, 59, 180, 91, 224, 127, 240, 75, 181, 90, 165, 147, 106, 164, 94, 82, 144, 140, 23, 72, 77, 97, 209, 22, 23, 169, 7, 16, 100, 22, 169, 113, 229, 6, 54, 248, 193, 32, 211, 95, 209, 109, 2, 96, 173, 137, 248, 171, 49, 75, 136, 162, 154, 20, 173, 9, 247, 213, 117, 209, 183, 209, 104, 211, 245, 223, 11, 52, 251, 133, 224, 99, 189, 7, 233, 247, 1, 34, 0, 203, 182, 53, 246, 96, 230, 69, 86], [3, 140, 214, 230, 64, 196, 43, 70, 185, 178, 135, 206, 141, 179, 184, 163, 160, 171, 223, 60, 218, 116, 47, 76, 215, 161, 76, 209, 247, 66, 118, 247, 20, 56, 151, 133, 55, 139, 38, 83, 147, 140, 255, 90, 171, 116, 114, 0, 3, 27, 36, 22, 17, 146, 210, 58, 52, 57, 199, 35, 165, 198, 123, 27, 0, 68, 194, 90, 194, 240, 228, 131, 172, 189, 68, 6, 112, 147, 189, 255, 231, 190, 147, 102, 160, 95, 217, 218, 11, 64, 132, 65, 48, 228, 42, 47, 29, 88, 154, 150, 241, 50, 27, 125, 155, 101, 2, 67, 171, 146, 115, 91, 96, 128, 230, 74, 66, 107, 213, 63, 218, 104, 170, 218, 212, 231, 23, 220], [108, 198, 65, 249, 179, 73, 248, 220, 209, 239, 52, 41, 163, 28, 12, 72, 153, 3, 220, 183, 0, 205, 216, 86, 97, 81, 178, 200, 96, 11, 154, 120, 116, 31, 205, 24, 42, 217, 193, 162, 215, 75, 200, 226, 207, 10, 206, 65, 225, 163, 164, 237, 226, 228, 136, 219, 245, 179, 142, 145, 250, 240, 223, 103, 233, 228, 148, 254, 104, 142, 192, 210, 28, 104, 126, 82, 41, 164, 49, 102, 164, 41, 149, 242, 154, 137, 49, 58, 42, 217, 248, 78, 85, 219, 41, 150, 18, 84, 201, 221, 167, 189, 54, 90, 94, 40, 66, 63, 127, 0, 93, 25, 188, 46, 93, 38, 40, 174, 144, 226, 221, 216, 213, 37, 121, 65, 174, 11, 207, 55, 27, 243, 91, 5, 211, 238, 246, 65, 165, 13, 28, 41, 148, 40, 149, 241, 216, 163, 128, 52, 249, 146, 63, 1, 88, 214, 209, 41, 34, 183, 149, 53, 218, 191, 150, 42, 105, 157, 212, 39, 38, 119, 92, 65, 145, 216, 40, 138, 108, 127, 210, 204, 179, 164, 59, 76, 158, 70, 59, 155, 87, 254, 195, 140, 45, 39, 195, 144, 38, 127, 128, 65, 161, 157, 132, 217, 74, 11, 137, 64, 152, 131, 111, 171, 228, 208, 24, 70, 147, 32, 13, 248, 44, 80, 252, 104, 224, 234, 244, 21, 192, 120, 184, 181, 218, 239, 81, 140, 98, 33, 36, 229, 15, 192, 120, 56, 60, 99, 146, 195, 4, 129, 176, 16, 9, 96]]}}, 'requested_proof': {'revealed_attrs': {'0_skill_uuid': {'sub_proof_index': 0, 'raw': 'researcher', 'encoded': '24214165878429772374367858032287880675266648921286067519661391650938186682695'}}, 'self_attested_attrs': {}, 'unrevealed_attrs': {}, 'predicates': {}}, 'identifiers': [{'schema_id': 'PQRXDxdGqQGSZ8z69p4xZP:2:test_revocable_schema:0.0.1', 'cred_def_id': 'PQRXDxdGqQGSZ8z69p4xZP:3:CL:20:default', 'rev_reg_id': 'PQRXDxdGqQGSZ8z69p4xZP:4:PQRXDxdGqQGSZ8z69p4xZP:3:CL:20:default:CL_ACCUM:f0bdd25d-4fe5-4edc-858a-293a6aa2cb54', 'timestamp': 1672627444}]}}\n",
      "Handle present proof\n",
      "Role prover, Exchange 3185a034-0ba0-42c2-bc1e-1ceebfd99305 in state presentation_sent\n",
      "Handle present proof\n",
      "Role prover, Exchange 3185a034-0ba0-42c2-bc1e-1ceebfd99305 in state presentation_acked\n"
     ]
    }
   ],
   "source": [
    "response = await agent_controller.proofs.send_presentation(pres_ex_id, proof)\n",
    "print(response)"
   ]
  },
  {
   "cell_type": "markdown",
   "metadata": {},
   "source": [
    "## 23. Continue in [Alice's Notebook](http://localhost:8888/lab/tree/5%20Advanced%20Concepts/Part%202%20-%20Revocation.ipynb)\n",
    "\n",
    "Alice will verify the now revoked credential to be NOT OK."
   ]
  },
  {
   "cell_type": "markdown",
   "metadata": {},
   "source": [
    "## End of Tutorial\n",
    "\n",
    "Be sure to terminate the controller."
   ]
  },
  {
   "cell_type": "code",
   "execution_count": 25,
   "metadata": {},
   "outputs": [
    {
     "name": "stdout",
     "output_type": "stream",
     "text": [
      "None\n"
     ]
    }
   ],
   "source": [
    "response = await agent_controller.terminate()\n",
    "print(response)"
   ]
  },
  {
   "cell_type": "code",
   "execution_count": null,
   "metadata": {},
   "outputs": [],
   "source": []
  }
 ],
 "metadata": {
  "kernelspec": {
   "display_name": "Python 3 (ipykernel)",
   "language": "python",
   "name": "python3"
  },
  "language_info": {
   "codemirror_mode": {
    "name": "ipython",
    "version": 3
   },
   "file_extension": ".py",
   "mimetype": "text/x-python",
   "name": "python",
   "nbconvert_exporter": "python",
   "pygments_lexer": "ipython3",
   "version": "3.10.8"
  }
 },
 "nbformat": 4,
 "nbformat_minor": 4
}
