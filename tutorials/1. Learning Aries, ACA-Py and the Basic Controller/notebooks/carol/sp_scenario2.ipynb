{
 "cells": [
  {
   "cell_type": "code",
   "execution_count": 42,
   "id": "9d387ba2",
   "metadata": {},
   "outputs": [
    {
     "name": "stdout",
     "output_type": "stream",
     "text": [
      "IPython autoawait is `on`, and set to use `asyncio`\n"
     ]
    }
   ],
   "source": [
    "%autoawait\n",
    "import time\n",
    "import asyncio\n",
    "from aries_basic_controller.aries_controller import AriesAgentController\n",
    "    \n",
    "WEBHOOK_HOST = \"0.0.0.0\"\n",
    "WEBHOOK_PORT = 8082\n",
    "WEBHOOK_BASE = \"\"\n",
    "ADMIN_URL = \"http://carol-agent:8081\"\n",
    "API_KEY = \"carol_api_123456789\"\n",
    "\n",
    "# Based on the aca-py agent you wish to control\n",
    "agent_controller = AriesAgentController(admin_url=ADMIN_URL, api_key=API_KEY)\n"
   ]
  },
  {
   "cell_type": "code",
   "execution_count": 43,
   "id": "26030ade",
   "metadata": {},
   "outputs": [],
   "source": [
    "agent_controller.init_webhook_server(webhook_host=WEBHOOK_HOST,\n",
    "                                     webhook_port=WEBHOOK_PORT,\n",
    "                                     webhook_base=WEBHOOK_BASE)"
   ]
  },
  {
   "cell_type": "markdown",
   "id": "a83c9e5a",
   "metadata": {},
   "source": [
    "## 2. connect to DM"
   ]
  },
  {
   "cell_type": "code",
   "execution_count": 44,
   "id": "5008795b",
   "metadata": {},
   "outputs": [
    {
     "name": "stdout",
     "output_type": "stream",
     "text": [
      "Subscribing too: connections\n"
     ]
    },
    {
     "name": "stderr",
     "output_type": "stream",
     "text": [
      "WARNING:aries_webhook_server:Listening webhooks failed! OSError(98, \"error while attempting to bind on address ('0.0.0.0', 8082): address already in use\") occurred.\n"
     ]
    }
   ],
   "source": [
    "\n",
    "loop = asyncio.get_event_loop()\n",
    "loop.create_task(agent_controller.listen_webhooks())\n",
    "\n",
    "def connection_handler(payload):\n",
    "    print(\"Connection Handler Called\")\n",
    "    connection_id = payload[\"connection_id\"]\n",
    "    state = payload[\"state\"]\n",
    "    print(f\"Connection {connection_id} in State {state}\")\n",
    "    \n",
    "connection_listener = {\n",
    "    \"handler\": connection_handler,\n",
    "    \"topic\": \"connections\"\n",
    "}\n",
    "\n",
    "agent_controller.register_listeners([connection_listener], defaults=True)"
   ]
  },
  {
   "cell_type": "code",
   "execution_count": 45,
   "id": "a858a8fb",
   "metadata": {},
   "outputs": [],
   "source": [
    "#Paste in invitation from Alice agent\n",
    "invitation = {'@type': 'did:sov:BzCbsNYhMrjHiqZDTUASHg;spec/connections/1.0/invitation', '@id': '7ed3d9da-83a3-440b-8c6e-64bbbc0c5da2', 'label': 'Alice', 'recipientKeys': ['2NXtAKWpEXaBsjveidkvu4rtjhMV3PWwCctbEj3Zicmu'], 'serviceEndpoint': 'http://192.168.65.3:8020'}"
   ]
  },
  {
   "cell_type": "code",
   "execution_count": 46,
   "id": "d9df3091",
   "metadata": {},
   "outputs": [
    {
     "name": "stdout",
     "output_type": "stream",
     "text": [
      "Connection Handler Called\n",
      "Connection c5f441dd-41d8-4bdb-a041-0a5566e4a450 in State invitation\n",
      "Connection Handler Called\n",
      "Connection c5f441dd-41d8-4bdb-a041-0a5566e4a450 in State request\n",
      "Connection {'their_label': 'Alice', 'their_role': 'inviter', 'rfc23_state': 'request-sent', 'updated_at': '2023-01-03 10:15:42.020199Z', 'routing_state': 'none', 'state': 'request', 'my_did': '8KjR51tbaUQuYg7knMDfoZ', 'connection_id': 'c5f441dd-41d8-4bdb-a041-0a5566e4a450', 'created_at': '2023-01-03 10:15:41.980086Z', 'accept': 'manual', 'invitation_mode': 'once', 'request_id': 'c1b69a27-ede8-4f19-b4ef-f352d56c9fd7', 'invitation_key': '2NXtAKWpEXaBsjveidkvu4rtjhMV3PWwCctbEj3Zicmu'}\n",
      "Connection Handler Called\n",
      "Connection c5f441dd-41d8-4bdb-a041-0a5566e4a450 in State response\n",
      "Connection Handler Called\n",
      "Connection c5f441dd-41d8-4bdb-a041-0a5566e4a450 in State active\n"
     ]
    }
   ],
   "source": [
    "# Receive Invitation\n",
    "response = await agent_controller.connections.accept_connection(invitation)\n",
    "# Print out accepted Invite and Alice's connection ID\n",
    "print(\"Connection\", response)\n",
    "alice_id = response[\"connection_id\"]\n"
   ]
  },
  {
   "cell_type": "markdown",
   "id": "db26510a",
   "metadata": {},
   "source": [
    "### switch to DM"
   ]
  },
  {
   "cell_type": "code",
   "execution_count": 47,
   "id": "1f63530b",
   "metadata": {},
   "outputs": [
    {
     "name": "stdout",
     "output_type": "stream",
     "text": [
      "Alice AGENT CONNECTION\n",
      "{'their_label': 'Alice', 'their_role': 'inviter', 'rfc23_state': 'completed', 'updated_at': '2023-01-03 10:15:48.506762Z', 'routing_state': 'none', 'state': 'active', 'my_did': '8KjR51tbaUQuYg7knMDfoZ', 'connection_id': 'c5f441dd-41d8-4bdb-a041-0a5566e4a450', 'their_did': 'P28K76EisDuQXgK1BBJc8M', 'created_at': '2023-01-03 10:15:41.980086Z', 'accept': 'manual', 'invitation_mode': 'once', 'request_id': 'c1b69a27-ede8-4f19-b4ef-f352d56c9fd7', 'invitation_key': '2NXtAKWpEXaBsjveidkvu4rtjhMV3PWwCctbEj3Zicmu'}\n",
      "State: active\n"
     ]
    }
   ],
   "source": [
    "# Print connection list\n",
    "connection = await agent_controller.connections.get_connection(alice_id)\n",
    "print(\"Alice AGENT CONNECTION\")\n",
    "print(connection)\n",
    "print(\"State:\", connection[\"state\"])\n",
    "dm_connection = connection[\"connection_id\"]\n"
   ]
  },
  {
   "cell_type": "code",
   "execution_count": 48,
   "id": "2cb327ab",
   "metadata": {},
   "outputs": [
    {
     "name": "stdout",
     "output_type": "stream",
     "text": [
      "c5f441dd-41d8-4bdb-a041-0a5566e4a450\n"
     ]
    }
   ],
   "source": [
    "# dm_connection = 'e75d05c2-aab0-47d1-b2e5-43415e076121'\n",
    "print(dm_connection)"
   ]
  },
  {
   "cell_type": "code",
   "execution_count": 65,
   "id": "79c1a451",
   "metadata": {},
   "outputs": [
    {
     "name": "stdout",
     "output_type": "stream",
     "text": [
      "{'results': [{'their_label': 'Bob', 'their_role': 'invitee', 'rfc23_state': 'completed', 'updated_at': '2023-01-03 11:26:27.681139Z', 'routing_state': 'none', 'state': 'active', 'my_did': 'HHG2eTSodgTkGHU2QQUDBY', 'connection_id': '88d9010a-3b97-4319-8ec8-0aa0a6a5ae5e', 'their_did': 'GAAHQwGB13skFWsLAgYdRZ', 'created_at': '2023-01-03 11:25:50.175600Z', 'accept': 'manual', 'invitation_mode': 'once', 'invitation_key': 'AjzspEpMcf53s9nS4XcBogeH8zKHWkESzbLKbPV1TtKq'}]}\n"
     ]
    }
   ],
   "source": [
    "response = await agent_controller.connections.get_connections()\n",
    "print(response)"
   ]
  },
  {
   "cell_type": "markdown",
   "id": "016c6d70",
   "metadata": {},
   "source": [
    "## 4. connect to MUSIC"
   ]
  },
  {
   "cell_type": "code",
   "execution_count": 50,
   "id": "3af977ce",
   "metadata": {},
   "outputs": [
    {
     "name": "stdout",
     "output_type": "stream",
     "text": [
      "Connection ID 88d9010a-3b97-4319-8ec8-0aa0a6a5ae5e\n",
      "Invitation\n",
      "{'@type': 'did:sov:BzCbsNYhMrjHiqZDTUASHg;spec/connections/1.0/invitation', '@id': '082d1357-64ec-4653-84af-777dd838b48f', 'label': 'Carol', 'serviceEndpoint': 'http://192.168.65.3:8080', 'recipientKeys': ['AjzspEpMcf53s9nS4XcBogeH8zKHWkESzbLKbPV1TtKq']}\n",
      "Connection Handler Called\n",
      "Connection 88d9010a-3b97-4319-8ec8-0aa0a6a5ae5e in State invitation\n",
      "Connection Handler Called\n",
      "Connection 88d9010a-3b97-4319-8ec8-0aa0a6a5ae5e in State request\n"
     ]
    }
   ],
   "source": [
    "# Create Invitation\n",
    "invite = await agent_controller.connections.create_invitation()\n",
    "connection_id = invite[\"connection_id\"]\n",
    "invite_message = invite['invitation']\n",
    "print(\"Connection ID\", connection_id)\n",
    "print(\"Invitation\")\n",
    "print(invite_message)"
   ]
  },
  {
   "cell_type": "markdown",
   "id": "d7428518",
   "metadata": {},
   "source": [
    "### switch to MUSIC"
   ]
  },
  {
   "cell_type": "code",
   "execution_count": 51,
   "id": "079bcb2f",
   "metadata": {},
   "outputs": [
    {
     "name": "stdout",
     "output_type": "stream",
     "text": [
      "Connection Handler Called\n",
      "Connection 88d9010a-3b97-4319-8ec8-0aa0a6a5ae5e in State response\n",
      "ACCEPT REQUEST\n",
      "{'their_label': 'Bob', 'their_role': 'invitee', 'rfc23_state': 'response-sent', 'updated_at': '2023-01-03 11:26:26.727559Z', 'routing_state': 'none', 'state': 'response', 'my_did': 'HHG2eTSodgTkGHU2QQUDBY', 'connection_id': '88d9010a-3b97-4319-8ec8-0aa0a6a5ae5e', 'their_did': 'GAAHQwGB13skFWsLAgYdRZ', 'created_at': '2023-01-03 11:25:50.175600Z', 'accept': 'manual', 'invitation_mode': 'once', 'invitation_key': 'AjzspEpMcf53s9nS4XcBogeH8zKHWkESzbLKbPV1TtKq'}\n",
      "state response\n"
     ]
    }
   ],
   "source": [
    "# Accept Request for Invite created\n",
    "connection = await agent_controller.connections.accept_request(connection_id)\n",
    "print(\"ACCEPT REQUEST\")\n",
    "print(connection)\n",
    "print(\"state\", connection[\"state\"])"
   ]
  },
  {
   "cell_type": "code",
   "execution_count": 52,
   "id": "3e79f44e",
   "metadata": {},
   "outputs": [
    {
     "name": "stdout",
     "output_type": "stream",
     "text": [
      "Trust Ping {'thread_id': 'fddba848-a864-4faa-b6b5-99481af42a21'}\n",
      "Connection Handler Called\n",
      "Connection 88d9010a-3b97-4319-8ec8-0aa0a6a5ae5e in State active\n"
     ]
    }
   ],
   "source": [
    "trust_ping = await agent_controller.messaging.trust_ping(connection_id, \"hello\")\n",
    "print(\"Trust Ping\", trust_ping)"
   ]
  },
  {
   "cell_type": "code",
   "execution_count": 53,
   "id": "7581cd87",
   "metadata": {},
   "outputs": [
    {
     "name": "stdout",
     "output_type": "stream",
     "text": [
      "{'their_label': 'Bob', 'their_role': 'invitee', 'rfc23_state': 'completed', 'updated_at': '2023-01-03 11:26:27.681139Z', 'routing_state': 'none', 'state': 'active', 'my_did': 'HHG2eTSodgTkGHU2QQUDBY', 'connection_id': '88d9010a-3b97-4319-8ec8-0aa0a6a5ae5e', 'their_did': 'GAAHQwGB13skFWsLAgYdRZ', 'created_at': '2023-01-03 11:25:50.175600Z', 'accept': 'manual', 'invitation_mode': 'once', 'invitation_key': 'AjzspEpMcf53s9nS4XcBogeH8zKHWkESzbLKbPV1TtKq'}\n",
      "Is Active? active\n",
      "88d9010a-3b97-4319-8ec8-0aa0a6a5ae5e\n"
     ]
    }
   ],
   "source": [
    "connection = await agent_controller.connections.get_connection(connection_id)\n",
    "print(connection)\n",
    "print(\"Is Active?\", connection[\"state\"])\n",
    "music_connection = connection[\"connection_id\"]\n",
    "print(music_connection)"
   ]
  },
  {
   "cell_type": "code",
   "execution_count": 13,
   "id": "e59d1ab8",
   "metadata": {},
   "outputs": [],
   "source": [
    "# music_connection = 'b616d290-fb08-4a09-9ab4-314fe92f0f25'"
   ]
  },
  {
   "cell_type": "code",
   "execution_count": 61,
   "id": "41679cea",
   "metadata": {},
   "outputs": [
    {
     "name": "stdout",
     "output_type": "stream",
     "text": [
      "{'results': [{'their_label': 'Bob', 'their_role': 'invitee', 'rfc23_state': 'completed', 'updated_at': '2023-01-03 11:26:27.681139Z', 'routing_state': 'none', 'state': 'active', 'my_did': 'HHG2eTSodgTkGHU2QQUDBY', 'connection_id': '88d9010a-3b97-4319-8ec8-0aa0a6a5ae5e', 'their_did': 'GAAHQwGB13skFWsLAgYdRZ', 'created_at': '2023-01-03 11:25:50.175600Z', 'accept': 'manual', 'invitation_mode': 'once', 'invitation_key': 'AjzspEpMcf53s9nS4XcBogeH8zKHWkESzbLKbPV1TtKq'}]}\n"
     ]
    }
   ],
   "source": [
    "response = await agent_controller.connections.get_connections()\n",
    "print(response)"
   ]
  },
  {
   "cell_type": "code",
   "execution_count": 54,
   "id": "48ff57e0",
   "metadata": {},
   "outputs": [
    {
     "name": "stdout",
     "output_type": "stream",
     "text": [
      "{'their_label': 'Bob', 'their_role': 'invitee', 'rfc23_state': 'completed', 'updated_at': '2023-01-03 11:26:27.681139Z', 'routing_state': 'none', 'state': 'active', 'my_did': 'HHG2eTSodgTkGHU2QQUDBY', 'connection_id': '88d9010a-3b97-4319-8ec8-0aa0a6a5ae5e', 'their_did': 'GAAHQwGB13skFWsLAgYdRZ', 'created_at': '2023-01-03 11:25:50.175600Z', 'accept': 'manual', 'invitation_mode': 'once', 'invitation_key': 'AjzspEpMcf53s9nS4XcBogeH8zKHWkESzbLKbPV1TtKq'}\n"
     ]
    }
   ],
   "source": [
    "response = await agent_controller.connections.get_connection(music_connection)\n",
    "print(response)"
   ]
  },
  {
   "cell_type": "code",
   "execution_count": 60,
   "id": "03d85031",
   "metadata": {},
   "outputs": [],
   "source": [
    "response = await agent_controller.connections.remove_connection('c5f441dd-41d8-4bdb-a041-0a5566e4a450')"
   ]
  },
  {
   "cell_type": "markdown",
   "id": "42023c9b",
   "metadata": {},
   "source": [
    "## 9. exchange DID with DM"
   ]
  },
  {
   "cell_type": "code",
   "execution_count": 62,
   "id": "014a4e77",
   "metadata": {},
   "outputs": [
    {
     "name": "stdout",
     "output_type": "stream",
     "text": [
      "my DID X8HWQruWXrv8s6BBLXm53B\n"
     ]
    }
   ],
   "source": [
    "my_did = await agent_controller.wallet.get_public_did()\n",
    "my_did = my_did['result']['did']\n",
    "print(\"my DID\", my_did)\n",
    "dm_did = 'None'"
   ]
  },
  {
   "cell_type": "code",
   "execution_count": 63,
   "id": "28e59b96",
   "metadata": {},
   "outputs": [
    {
     "name": "stdout",
     "output_type": "stream",
     "text": [
      "Subscribing too: basicmessages\n"
     ]
    },
    {
     "name": "stderr",
     "output_type": "stream",
     "text": [
      "WARNING:aries_webhook_server:Listening webhooks failed! OSError(98, \"error while attempting to bind on address ('0.0.0.0', 8082): address already in use\") occurred.\n"
     ]
    }
   ],
   "source": [
    "def messages_handler(payload):\n",
    "    global dm_did\n",
    "    connection_id = payload[\"connection_id\"]\n",
    "    print(\"Handle message\", payload, connection_id)\n",
    "    dm_did = payload['content']\n",
    "    print('DM DID', dm_did)\n",
    "\n",
    "\n",
    "message_listener = {\n",
    "    \"handler\": messages_handler,\n",
    "    \"topic\": \"basicmessages\"\n",
    "}\n",
    "\n",
    "loop = asyncio.get_event_loop()\n",
    "loop.create_task(agent_controller.listen_webhooks())\n",
    "\n",
    "agent_controller.register_listeners([message_listener], defaults=True)"
   ]
  },
  {
   "cell_type": "code",
   "execution_count": 17,
   "id": "2151267b",
   "metadata": {},
   "outputs": [],
   "source": [
    "# await agent_controller.messaging.trust_ping(dm_connection, \"hello, world!\")"
   ]
  },
  {
   "cell_type": "code",
   "execution_count": 64,
   "id": "00c0d817",
   "metadata": {},
   "outputs": [
    {
     "ename": "ClientResponseError",
     "evalue": "404, message='connection record not found: c5f441dd-41d8-4bdb-a041-0a5566e4a450. WalletItemNotFound.', url=URL('http://carol-agent:8081/connections/c5f441dd-41d8-4bdb-a041-0a5566e4a450/send-message')",
     "output_type": "error",
     "traceback": [
      "\u001b[0;31m---------------------------------------------------------------------------\u001b[0m",
      "\u001b[0;31mClientResponseError\u001b[0m                       Traceback (most recent call last)",
      "Cell \u001b[0;32mIn[64], line 1\u001b[0m\n\u001b[0;32m----> 1\u001b[0m response \u001b[38;5;241m=\u001b[39m \u001b[38;5;28;01mawait\u001b[39;00m agent_controller\u001b[38;5;241m.\u001b[39mmessaging\u001b[38;5;241m.\u001b[39msend_message(dm_connection, \u001b[38;5;124m'\u001b[39m\u001b[38;5;124msp_\u001b[39m\u001b[38;5;124m'\u001b[39m\u001b[38;5;241m+\u001b[39mmy_did)\n\u001b[1;32m      2\u001b[0m \u001b[38;5;28mprint\u001b[39m(response)\n",
      "File \u001b[0;32m/aries_basic_controller/controllers/messaging.py:17\u001b[0m, in \u001b[0;36mMessagingController.send_message\u001b[0;34m(self, connection_id, msg)\u001b[0m\n\u001b[1;32m     16\u001b[0m \u001b[38;5;28;01masync\u001b[39;00m \u001b[38;5;28;01mdef\u001b[39;00m \u001b[38;5;21msend_message\u001b[39m(\u001b[38;5;28mself\u001b[39m, connection_id, msg):\n\u001b[0;32m---> 17\u001b[0m     response \u001b[38;5;241m=\u001b[39m \u001b[38;5;28;01mawait\u001b[39;00m \u001b[38;5;28mself\u001b[39m\u001b[38;5;241m.\u001b[39madmin_POST(\u001b[38;5;124mf\u001b[39m\u001b[38;5;124m\"\u001b[39m\u001b[38;5;124m/connections/\u001b[39m\u001b[38;5;132;01m{\u001b[39;00mconnection_id\u001b[38;5;132;01m}\u001b[39;00m\u001b[38;5;124m/send-message\u001b[39m\u001b[38;5;124m\"\u001b[39m, {\n\u001b[1;32m     18\u001b[0m         \u001b[38;5;124m\"\u001b[39m\u001b[38;5;124mcontent\u001b[39m\u001b[38;5;124m\"\u001b[39m: msg,\n\u001b[1;32m     19\u001b[0m     })\n\u001b[1;32m     20\u001b[0m     \u001b[38;5;28;01mreturn\u001b[39;00m response\n",
      "File \u001b[0;32m/aries_basic_controller/controllers/base.py:95\u001b[0m, in \u001b[0;36mBaseController.admin_POST\u001b[0;34m(self, path, json_data, text, params, data)\u001b[0m\n\u001b[1;32m     89\u001b[0m \u001b[38;5;28;01mtry\u001b[39;00m:\n\u001b[1;32m     90\u001b[0m     EVENT_LOGGER\u001b[38;5;241m.\u001b[39mdebug(\n\u001b[1;32m     91\u001b[0m         \u001b[38;5;124m\"\u001b[39m\u001b[38;5;124mController POST \u001b[39m\u001b[38;5;132;01m%s\u001b[39;00m\u001b[38;5;124m request to Agent\u001b[39m\u001b[38;5;132;01m%s\u001b[39;00m\u001b[38;5;124m\"\u001b[39m,\n\u001b[1;32m     92\u001b[0m         path,\n\u001b[1;32m     93\u001b[0m         (\u001b[38;5;124m\"\u001b[39m\u001b[38;5;124m with data: \u001b[39m\u001b[38;5;130;01m\\n\u001b[39;00m\u001b[38;5;132;01m{}\u001b[39;00m\u001b[38;5;124m\"\u001b[39m\u001b[38;5;241m.\u001b[39mformat(repr_json(json_data)) \u001b[38;5;28;01mif\u001b[39;00m json_data \u001b[38;5;28;01melse\u001b[39;00m \u001b[38;5;124m\"\u001b[39m\u001b[38;5;124m\"\u001b[39m),\n\u001b[1;32m     94\u001b[0m     )\n\u001b[0;32m---> 95\u001b[0m     response \u001b[38;5;241m=\u001b[39m \u001b[38;5;28;01mawait\u001b[39;00m \u001b[38;5;28mself\u001b[39m\u001b[38;5;241m.\u001b[39madmin_request(\u001b[38;5;124m\"\u001b[39m\u001b[38;5;124mPOST\u001b[39m\u001b[38;5;124m\"\u001b[39m, path, json_data, text, params, data)\n\u001b[1;32m     96\u001b[0m     EVENT_LOGGER\u001b[38;5;241m.\u001b[39mdebug(\n\u001b[1;32m     97\u001b[0m         \u001b[38;5;124m\"\u001b[39m\u001b[38;5;124mResponse from POST \u001b[39m\u001b[38;5;132;01m%s\u001b[39;00m\u001b[38;5;124m received: \u001b[39m\u001b[38;5;130;01m\\n\u001b[39;00m\u001b[38;5;132;01m%s\u001b[39;00m\u001b[38;5;124m\"\u001b[39m,\n\u001b[1;32m     98\u001b[0m         path,\n\u001b[1;32m     99\u001b[0m         repr_json(response),\n\u001b[1;32m    100\u001b[0m     )\n\u001b[1;32m    101\u001b[0m     \u001b[38;5;28;01mreturn\u001b[39;00m response\n",
      "File \u001b[0;32m/aries_basic_controller/controllers/base.py:63\u001b[0m, in \u001b[0;36mBaseController.admin_request\u001b[0;34m(self, method, path, json_data, text, params, data)\u001b[0m\n\u001b[1;32m     59\u001b[0m params \u001b[38;5;241m=\u001b[39m {k: v \u001b[38;5;28;01mfor\u001b[39;00m (k, v) \u001b[38;5;129;01min\u001b[39;00m (params \u001b[38;5;129;01mor\u001b[39;00m {})\u001b[38;5;241m.\u001b[39mitems() \u001b[38;5;28;01mif\u001b[39;00m v \u001b[38;5;129;01mis\u001b[39;00m \u001b[38;5;129;01mnot\u001b[39;00m \u001b[38;5;28;01mNone\u001b[39;00m}\n\u001b[1;32m     60\u001b[0m \u001b[38;5;28;01masync\u001b[39;00m \u001b[38;5;28;01mwith\u001b[39;00m \u001b[38;5;28mself\u001b[39m\u001b[38;5;241m.\u001b[39mclient_session\u001b[38;5;241m.\u001b[39mrequest(\n\u001b[1;32m     61\u001b[0m     method, \u001b[38;5;28mself\u001b[39m\u001b[38;5;241m.\u001b[39madmin_url \u001b[38;5;241m+\u001b[39m path, json\u001b[38;5;241m=\u001b[39mjson_data, params\u001b[38;5;241m=\u001b[39mparams, data\u001b[38;5;241m=\u001b[39mdata\n\u001b[1;32m     62\u001b[0m ) \u001b[38;5;28;01mas\u001b[39;00m resp:\n\u001b[0;32m---> 63\u001b[0m     \u001b[43mresp\u001b[49m\u001b[38;5;241;43m.\u001b[39;49m\u001b[43mraise_for_status\u001b[49m\u001b[43m(\u001b[49m\u001b[43m)\u001b[49m\n\u001b[1;32m     64\u001b[0m     resp_text \u001b[38;5;241m=\u001b[39m \u001b[38;5;28;01mawait\u001b[39;00m resp\u001b[38;5;241m.\u001b[39mtext()\n\u001b[1;32m     65\u001b[0m     \u001b[38;5;28;01mif\u001b[39;00m \u001b[38;5;129;01mnot\u001b[39;00m resp_text \u001b[38;5;129;01mand\u001b[39;00m \u001b[38;5;129;01mnot\u001b[39;00m text:\n",
      "File \u001b[0;32m/opt/conda/lib/python3.10/site-packages/aiohttp/client_reqrep.py:1000\u001b[0m, in \u001b[0;36mClientResponse.raise_for_status\u001b[0;34m(self)\u001b[0m\n\u001b[1;32m    998\u001b[0m \u001b[38;5;28;01massert\u001b[39;00m \u001b[38;5;28mself\u001b[39m\u001b[38;5;241m.\u001b[39mreason \u001b[38;5;129;01mis\u001b[39;00m \u001b[38;5;129;01mnot\u001b[39;00m \u001b[38;5;28;01mNone\u001b[39;00m\n\u001b[1;32m    999\u001b[0m \u001b[38;5;28mself\u001b[39m\u001b[38;5;241m.\u001b[39mrelease()\n\u001b[0;32m-> 1000\u001b[0m \u001b[38;5;28;01mraise\u001b[39;00m ClientResponseError(\n\u001b[1;32m   1001\u001b[0m     \u001b[38;5;28mself\u001b[39m\u001b[38;5;241m.\u001b[39mrequest_info,\n\u001b[1;32m   1002\u001b[0m     \u001b[38;5;28mself\u001b[39m\u001b[38;5;241m.\u001b[39mhistory,\n\u001b[1;32m   1003\u001b[0m     status\u001b[38;5;241m=\u001b[39m\u001b[38;5;28mself\u001b[39m\u001b[38;5;241m.\u001b[39mstatus,\n\u001b[1;32m   1004\u001b[0m     message\u001b[38;5;241m=\u001b[39m\u001b[38;5;28mself\u001b[39m\u001b[38;5;241m.\u001b[39mreason,\n\u001b[1;32m   1005\u001b[0m     headers\u001b[38;5;241m=\u001b[39m\u001b[38;5;28mself\u001b[39m\u001b[38;5;241m.\u001b[39mheaders,\n\u001b[1;32m   1006\u001b[0m )\n",
      "\u001b[0;31mClientResponseError\u001b[0m: 404, message='connection record not found: c5f441dd-41d8-4bdb-a041-0a5566e4a450. WalletItemNotFound.', url=URL('http://carol-agent:8081/connections/c5f441dd-41d8-4bdb-a041-0a5566e4a450/send-message')"
     ]
    },
    {
     "name": "stdout",
     "output_type": "stream",
     "text": [
      "Error during POST /connections/c5f441dd-41d8-4bdb-a041-0a5566e4a450/send-message: 404, message='connection record not found: c5f441dd-41d8-4bdb-a041-0a5566e4a450. WalletItemNotFound.', url=URL('http://carol-agent:8081/connections/c5f441dd-41d8-4bdb-a041-0a5566e4a450/send-message')\n"
     ]
    }
   ],
   "source": [
    "response = await agent_controller.messaging.send_message(dm_connection, 'sp_'+my_did)\n",
    "print(response)"
   ]
  },
  {
   "cell_type": "code",
   "execution_count": 39,
   "id": "e2fcc33c",
   "metadata": {},
   "outputs": [
    {
     "name": "stdout",
     "output_type": "stream",
     "text": [
      "PQRXDxdGqQGSZ8z69p4xZP\n",
      "Handle request {'connection_id': 'e869f819-eb25-45ec-ac99-0b70bb8aa9a7', 'message_id': '1a4b3f99-d1c8-4ac3-a9a4-f6af0e5a141b', 'content': 'PQRXDxdGqQGSZ8z69p4xZP', 'state': 'received'} e869f819-eb25-45ec-ac99-0b70bb8aa9a7\n",
      "Handle request {'connection_id': 'e869f819-eb25-45ec-ac99-0b70bb8aa9a7', 'message_id': 'efc5a82d-62f9-4bcf-8e6c-c3624bcfd00b', 'content': 'PQRXDxdGqQGSZ8z69p4xZP', 'state': 'received'} e869f819-eb25-45ec-ac99-0b70bb8aa9a7\n"
     ]
    }
   ],
   "source": [
    "print(dm_did)"
   ]
  },
  {
   "cell_type": "markdown",
   "id": "ec74af7a",
   "metadata": {},
   "source": [
    "## request proof from MUSIC (prove that MUSIC belongs to DM) "
   ]
  },
  {
   "cell_type": "code",
   "execution_count": 22,
   "id": "f37a48e3",
   "metadata": {},
   "outputs": [
    {
     "name": "stdout",
     "output_type": "stream",
     "text": [
      "Subscribing too: present_proof\n"
     ]
    },
    {
     "name": "stderr",
     "output_type": "stream",
     "text": [
      "WARNING:aries_webhook_server:Listening webhooks failed! OSError(98, \"error while attempting to bind on address ('0.0.0.0', 8082): address already in use\") occurred.\n"
     ]
    }
   ],
   "source": [
    "loop = asyncio.get_event_loop()\n",
    "loop.create_task(agent_controller.listen_webhooks())\n",
    "\n",
    "def proof_handler(payload):\n",
    "    print(\"Handle present proof\")\n",
    "    role = payload[\"role\"]\n",
    "    pres_ex_id = payload[\"presentation_exchange_id\"]\n",
    "    state = payload[\"state\"]\n",
    "    print(f\"Role {role}, Exchange {pres_ex_id} in state {state}\")\n",
    "\n",
    "proof_listener = {\n",
    "    \"topic\": \"present_proof\",\n",
    "    \"handler\": proof_handler\n",
    "}\n",
    "agent_controller.register_listeners([proof_listener], defaults=True)\n"
   ]
  },
  {
   "cell_type": "markdown",
   "id": "3d7e65a3",
   "metadata": {},
   "source": [
    "### switch to MUSIC"
   ]
  },
  {
   "cell_type": "code",
   "execution_count": 23,
   "id": "5aa96d87",
   "metadata": {},
   "outputs": [
    {
     "name": "stdout",
     "output_type": "stream",
     "text": [
      "{'result': {'did': 'X8HWQruWXrv8s6BBLXm53B', 'verkey': 'HRL7SCYGvMzoj6QJJ7MymnC3WZ7fXDrpvwV56sPT3zTr', 'posture': 'public'}}\n",
      "Request proof from MUSIC\n"
     ]
    }
   ],
   "source": [
    "response = await agent_controller.wallet.get_public_did()\n",
    "print(response)\n",
    "issuer_did = response[\"result\"][\"did\"]\n",
    "\n",
    "print(\"Request proof from MUSIC\")\n",
    "#Set some variables\n",
    "\n",
    "revocation = False\n",
    "SELF_ATTESTED = True\n",
    "exchange_tracing = False\n",
    "\n",
    "#Enable this to ask for attributes to identity a user\n",
    "req_attrs = [\n",
    "    {\"name\": \"author\", \"restrictions\": [{\"issuer_did\": dm_did}]},\n",
    "    {\"name\": \"origin\", \"restrictions\": [{\"issuer_did\": dm_did}]},\n",
    "    {\"name\": \"owner\", \"restrictions\": [{\"issuer_did\": dm_did}]},\n",
    "    {\"name\": \"time\", \"restrictions\": [{\"issuer_did\": dm_did}]},\n",
    "]\n",
    "\n",
    "if revocation:\n",
    "    req_attrs.append(\n",
    "        {\n",
    "            \"name\": \"owner\",\n",
    "            \"restrictions\": [{\"issuer_did\": agent.did}],\n",
    "            \"non_revoked\": {\"to\": int(time.time() - 1)},\n",
    "        },\n",
    "    )\n",
    "\n",
    "\n",
    "\n",
    "#Set predicates for Zero Knowledge Proofs\n",
    "req_preds = []\n",
    "\n",
    "indy_proof_request = {\n",
    "    \"name\": \"Proof of Ownership of DM\",\n",
    "    \"version\": \"1.0\",\n",
    "    \"requested_attributes\": {\n",
    "        f\"0_{req_attr['name']}_uuid\":\n",
    "        req_attr for req_attr in req_attrs\n",
    "    },\n",
    "    \"requested_predicates\": {\n",
    "        f\"0_{req_pred['name']}_GE_uuid\":\n",
    "        req_pred for req_pred in req_preds\n",
    "    },\n",
    "}\n",
    "\n",
    "if revocation:\n",
    "    indy_proof_request[\"non_revoked\"] = {\"to\": int(time.time())}\n",
    "\n",
    "#proof_request = indy_proof_request\n",
    "exchange_tracing_id = exchange_tracing\n",
    "proof_request_web_request = {\n",
    "    \"connection_id\": music_connection,\n",
    "    \"proof_request\": indy_proof_request,\n",
    "    \"trace\": exchange_tracing,\n",
    "}"
   ]
  },
  {
   "cell_type": "code",
   "execution_count": 24,
   "id": "a685cb16",
   "metadata": {},
   "outputs": [
    {
     "name": "stdout",
     "output_type": "stream",
     "text": [
      "Handle present proof\n",
      "Role verifier, Exchange ce2ff95e-afb0-4b8d-920c-04692e96cc94 in state request_sent\n",
      "{'role': 'verifier', 'auto_present': False, 'presentation_exchange_id': 'ce2ff95e-afb0-4b8d-920c-04692e96cc94', 'trace': False, 'updated_at': '2023-01-03 09:40:47.416157Z', 'presentation_request': {'name': 'Proof of Ownership of DM', 'version': '1.0', 'requested_attributes': {'0_author_uuid': {'name': 'author', 'restrictions': [{'issuer_did': 'PQRXDxdGqQGSZ8z69p4xZP'}]}, '0_origin_uuid': {'name': 'origin', 'restrictions': [{'issuer_did': 'PQRXDxdGqQGSZ8z69p4xZP'}]}, '0_owner_uuid': {'name': 'owner', 'restrictions': [{'issuer_did': 'PQRXDxdGqQGSZ8z69p4xZP'}]}, '0_time_uuid': {'name': 'time', 'restrictions': [{'issuer_did': 'PQRXDxdGqQGSZ8z69p4xZP'}]}}, 'requested_predicates': {}, 'nonce': '857932762503873741699352'}, 'thread_id': '3264ffcd-fed8-434e-9406-9eacf5ad7d7c', 'state': 'request_sent', 'connection_id': '9756dfc7-8c0e-483c-a61f-3eeda5037f44', 'created_at': '2023-01-03 09:40:47.416157Z', 'initiator': 'self', 'presentation_request_dict': {'@type': 'did:sov:BzCbsNYhMrjHiqZDTUASHg;spec/present-proof/1.0/request-presentation', '@id': '3264ffcd-fed8-434e-9406-9eacf5ad7d7c', 'request_presentations~attach': [{'@id': 'libindy-request-presentation-0', 'mime-type': 'application/json', 'data': {'base64': 'eyJuYW1lIjogIlByb29mIG9mIE93bmVyc2hpcCBvZiBETSIsICJ2ZXJzaW9uIjogIjEuMCIsICJyZXF1ZXN0ZWRfYXR0cmlidXRlcyI6IHsiMF9hdXRob3JfdXVpZCI6IHsibmFtZSI6ICJhdXRob3IiLCAicmVzdHJpY3Rpb25zIjogW3siaXNzdWVyX2RpZCI6ICJQUVJYRHhkR3FRR1NaOHo2OXA0eFpQIn1dfSwgIjBfb3JpZ2luX3V1aWQiOiB7Im5hbWUiOiAib3JpZ2luIiwgInJlc3RyaWN0aW9ucyI6IFt7Imlzc3Vlcl9kaWQiOiAiUFFSWER4ZEdxUUdTWjh6NjlwNHhaUCJ9XX0sICIwX293bmVyX3V1aWQiOiB7Im5hbWUiOiAib3duZXIiLCAicmVzdHJpY3Rpb25zIjogW3siaXNzdWVyX2RpZCI6ICJQUVJYRHhkR3FRR1NaOHo2OXA0eFpQIn1dfSwgIjBfdGltZV91dWlkIjogeyJuYW1lIjogInRpbWUiLCAicmVzdHJpY3Rpb25zIjogW3siaXNzdWVyX2RpZCI6ICJQUVJYRHhkR3FRR1NaOHo2OXA0eFpQIn1dfX0sICJyZXF1ZXN0ZWRfcHJlZGljYXRlcyI6IHt9LCAibm9uY2UiOiAiODU3OTMyNzYyNTAzODczNzQxNjk5MzUyIn0='}}]}}\n",
      "\n",
      "\n",
      "ce2ff95e-afb0-4b8d-920c-04692e96cc94\n",
      "Handle present proof\n",
      "Role verifier, Exchange ce2ff95e-afb0-4b8d-920c-04692e96cc94 in state presentation_received\n"
     ]
    }
   ],
   "source": [
    "response = await agent_controller.proofs.send_request(proof_request_web_request)\n",
    "print(response)\n",
    "presentation_exchange_id = response['presentation_exchange_id']\n",
    "print(\"\\n\")\n",
    "print(presentation_exchange_id)"
   ]
  },
  {
   "cell_type": "markdown",
   "id": "d15fd150",
   "metadata": {},
   "source": [
    "### switch to MUSIC"
   ]
  },
  {
   "cell_type": "code",
   "execution_count": 25,
   "id": "27783973",
   "metadata": {},
   "outputs": [
    {
     "name": "stdout",
     "output_type": "stream",
     "text": [
      "Handle present proof\n",
      "Role verifier, Exchange ce2ff95e-afb0-4b8d-920c-04692e96cc94 in state verified\n"
     ]
    }
   ],
   "source": [
    "verify = await agent_controller.proofs.verify_presentation(presentation_exchange_id)"
   ]
  },
  {
   "cell_type": "code",
   "execution_count": 26,
   "id": "7a817874",
   "metadata": {},
   "outputs": [
    {
     "name": "stdout",
     "output_type": "stream",
     "text": [
      "verified\n",
      "True\n"
     ]
    }
   ],
   "source": [
    "print(verify['state'])\n",
    "music_belongs_to_dm = verify['state'] == 'verified'\n",
    "print(music_belongs_to_dm)"
   ]
  },
  {
   "cell_type": "markdown",
   "id": "6ae9a42a",
   "metadata": {},
   "source": [
    "## request new VC from DM"
   ]
  },
  {
   "cell_type": "code",
   "execution_count": 27,
   "id": "ec17f9f1",
   "metadata": {},
   "outputs": [],
   "source": [
    "agent_controller.remove_all_listeners(\"basicmessages\")"
   ]
  },
  {
   "cell_type": "code",
   "execution_count": 28,
   "id": "3424b46e",
   "metadata": {},
   "outputs": [
    {
     "name": "stdout",
     "output_type": "stream",
     "text": [
      "Subscribing too: basicmessages\n"
     ]
    },
    {
     "name": "stderr",
     "output_type": "stream",
     "text": [
      "WARNING:aries_webhook_server:Listening webhooks failed! OSError(98, \"error while attempting to bind on address ('0.0.0.0', 8082): address already in use\") occurred.\n"
     ]
    }
   ],
   "source": [
    "def request_handler(payload):\n",
    "    connection_id = payload[\"connection_id\"]\n",
    "    print(\"Handle request\", payload, connection_id)\n",
    "\n",
    "\n",
    "request_listener = {\n",
    "    \"handler\": request_handler,\n",
    "    \"topic\": \"basicmessages\"\n",
    "}\n",
    "\n",
    "loop = asyncio.get_event_loop()\n",
    "loop.create_task(agent_controller.listen_webhooks())\n",
    "\n",
    "agent_controller.register_listeners([request_listener], defaults=True)"
   ]
  },
  {
   "cell_type": "markdown",
   "id": "55259639",
   "metadata": {},
   "source": [
    "### switch to DM"
   ]
  },
  {
   "cell_type": "code",
   "execution_count": 30,
   "id": "59f6bff8",
   "metadata": {},
   "outputs": [
    {
     "name": "stdout",
     "output_type": "stream",
     "text": [
      "{}\n",
      "Handle request {'connection_id': 'e869f819-eb25-45ec-ac99-0b70bb8aa9a7', 'message_id': '82defc0c-75cc-4f06-bfff-6306c3da31f1', 'content': 'revoke: True', 'state': 'received'} e869f819-eb25-45ec-ac99-0b70bb8aa9a7\n"
     ]
    }
   ],
   "source": [
    "response = await agent_controller.messaging.send_message(dm_connection, str(music_belongs_to_dm))\n",
    "print(response)"
   ]
  },
  {
   "cell_type": "code",
   "execution_count": 31,
   "id": "7680e984",
   "metadata": {},
   "outputs": [
    {
     "name": "stdout",
     "output_type": "stream",
     "text": [
      "Subscribing too: issue_credential\n"
     ]
    },
    {
     "name": "stderr",
     "output_type": "stream",
     "text": [
      "WARNING:aries_webhook_server:Listening webhooks failed! OSError(98, \"error while attempting to bind on address ('0.0.0.0', 8082): address already in use\") occurred.\n"
     ]
    },
    {
     "name": "stdout",
     "output_type": "stream",
     "text": [
      "Handle Credentials\n",
      "Credential exchange 7ec0f73f-e3b9-4e77-b036-94dead6e90f7, role: holder, state: offer_received\n",
      "Attributes: [{'name': 'possession', 'value': ''}, {'name': 'time', 'value': '01-03-2023, 09:55:09'}]\n"
     ]
    }
   ],
   "source": [
    "loop = asyncio.get_event_loop()\n",
    "loop.create_task(agent_controller.listen_webhooks())\n",
    "def cred_handler(payload):\n",
    "    print(\"Handle Credentials\")\n",
    "    exchange_id = payload['credential_exchange_id']\n",
    "    state = payload['state']\n",
    "    role = payload['role']\n",
    "    attributes = payload['credential_proposal_dict']['credential_proposal']['attributes']\n",
    "    print(f\"Credential exchange {exchange_id}, role: {role}, state: {state}\")\n",
    "    print(f\"Attributes: {attributes}\")\n",
    "    \n",
    "cred_listener = {\n",
    "    \"topic\": \"issue_credential\",\n",
    "    \"handler\": cred_handler\n",
    "}\n",
    "agent_controller.register_listeners([cred_listener], defaults=True)"
   ]
  },
  {
   "cell_type": "code",
   "execution_count": 32,
   "id": "efe798a6",
   "metadata": {},
   "outputs": [
    {
     "name": "stdout",
     "output_type": "stream",
     "text": [
      "Credential exchange 7ec0f73f-e3b9-4e77-b036-94dead6e90f7, role: holder, state: offer_received\n",
      "Being offered: [{'name': 'possession', 'value': ''}, {'name': 'time', 'value': '01-03-2023, 09:55:09'}]\n"
     ]
    }
   ],
   "source": [
    "response = await agent_controller.issuer.get_records()\n",
    "results = response[\"results\"]\n",
    "if len(results) == 0:\n",
    "    print(\"You need to first send a credential from the issuer notebook (Alice)\")\n",
    "else:\n",
    "    cred_record = results[0]\n",
    "    cred_ex_id = cred_record['credential_exchange_id']\n",
    "    state = cred_record['state']\n",
    "    role = cred_record['role']\n",
    "    attributes = results[0]['credential_proposal_dict']['credential_proposal']['attributes']\n",
    "    print(f\"Credential exchange {cred_ex_id}, role: {role}, state: {state}\")\n",
    "    print(f\"Being offered: {attributes}\")\n"
   ]
  },
  {
   "cell_type": "code",
   "execution_count": 34,
   "id": "45e38c12",
   "metadata": {},
   "outputs": [
    {
     "name": "stdout",
     "output_type": "stream",
     "text": [
      "Credential exchange 7ec0f73f-e3b9-4e77-b036-94dead6e90f7, role: holder, state: request_sent\n",
      "Handle Credentials\n",
      "Credential exchange 7ec0f73f-e3b9-4e77-b036-94dead6e90f7, role: holder, state: request_sent\n",
      "Attributes: [{'name': 'possession', 'value': ''}, {'name': 'time', 'value': '01-03-2023, 09:55:09'}]\n",
      "Handle Credentials\n",
      "Credential exchange 7ec0f73f-e3b9-4e77-b036-94dead6e90f7, role: holder, state: credential_received\n",
      "Attributes: [{'name': 'possession', 'value': ''}, {'name': 'time', 'value': '01-03-2023, 09:55:09'}]\n"
     ]
    }
   ],
   "source": [
    "record = await agent_controller.issuer.send_request_for_record(cred_ex_id)\n",
    "state = record['state']\n",
    "role = record['role']\n",
    "print(f\"Credential exchange {cred_ex_id}, role: {role}, state: {state}\")"
   ]
  },
  {
   "cell_type": "code",
   "execution_count": 35,
   "id": "d5c16f59",
   "metadata": {},
   "outputs": [
    {
     "name": "stdout",
     "output_type": "stream",
     "text": [
      "Handle Credentials\n",
      "Credential exchange 7ec0f73f-e3b9-4e77-b036-94dead6e90f7, role: holder, state: credential_acked\n",
      "Attributes: [{'name': 'possession', 'value': ''}, {'name': 'time', 'value': '01-03-2023, 09:55:09'}]\n",
      "Credential exchange 7ec0f73f-e3b9-4e77-b036-94dead6e90f7, role: holder, state: credential_acked\n",
      "Handle present proof\n",
      "Role prover, Exchange ec1903e9-995b-4b80-96d0-174f5936d65c in state request_received\n"
     ]
    }
   ],
   "source": [
    "response = await agent_controller.issuer.store_credential(cred_ex_id, \"Credentia of Possesion\")\n",
    "state = response['state']\n",
    "role = response['role']\n",
    "print(f\"Credential exchange {cred_ex_id}, role: {role}, state: {state}\")"
   ]
  },
  {
   "cell_type": "markdown",
   "id": "9c76649a",
   "metadata": {},
   "source": [
    "## present proof of possesion to MUSIC"
   ]
  },
  {
   "cell_type": "code",
   "execution_count": 36,
   "id": "84c6546f",
   "metadata": {},
   "outputs": [
    {
     "name": "stdout",
     "output_type": "stream",
     "text": [
      "{'role': 'prover', 'presentation_exchange_id': 'ec1903e9-995b-4b80-96d0-174f5936d65c', 'trace': False, 'updated_at': '2023-01-03 09:55:59.131371Z', 'presentation_request': {'name': 'Proof of Ownership', 'version': '1.0', 'requested_attributes': {'0_possession_uuid': {'name': 'possession', 'restrictions': [{'issuer_did': 'None'}]}, '0_time_uuid': {'name': 'time', 'restrictions': [{'issuer_did': 'None'}]}}, 'requested_predicates': {}, 'nonce': '824512507423231212313172'}, 'thread_id': 'f22aecef-9e4c-4022-b311-ed5c73a67276', 'state': 'request_received', 'connection_id': '9756dfc7-8c0e-483c-a61f-3eeda5037f44', 'created_at': '2023-01-03 09:55:59.131371Z', 'initiator': 'external', 'presentation_request_dict': {'@type': 'did:sov:BzCbsNYhMrjHiqZDTUASHg;spec/present-proof/1.0/request-presentation', '@id': 'f22aecef-9e4c-4022-b311-ed5c73a67276', 'request_presentations~attach': [{'@id': 'libindy-request-presentation-0', 'mime-type': 'application/json', 'data': {'base64': 'eyJuYW1lIjogIlByb29mIG9mIE93bmVyc2hpcCIsICJ2ZXJzaW9uIjogIjEuMCIsICJyZXF1ZXN0ZWRfYXR0cmlidXRlcyI6IHsiMF9wb3NzZXNzaW9uX3V1aWQiOiB7Im5hbWUiOiAicG9zc2Vzc2lvbiIsICJyZXN0cmljdGlvbnMiOiBbeyJpc3N1ZXJfZGlkIjogIk5vbmUifV19LCAiMF90aW1lX3V1aWQiOiB7Im5hbWUiOiAidGltZSIsICJyZXN0cmljdGlvbnMiOiBbeyJpc3N1ZXJfZGlkIjogIk5vbmUifV19fSwgInJlcXVlc3RlZF9wcmVkaWNhdGVzIjoge30sICJub25jZSI6ICI4MjQ1MTI1MDc0MjMyMzEyMTIzMTMxNzIifQ=='}}]}}\n",
      "\n",
      "\n",
      "Presentation Exchange ID\n",
      "ec1903e9-995b-4b80-96d0-174f5936d65c\n",
      "Presentation Request Object\n",
      "{'name': 'Proof of Ownership', 'version': '1.0', 'requested_attributes': {'0_possession_uuid': {'name': 'possession', 'restrictions': [{'issuer_did': 'None'}]}, '0_time_uuid': {'name': 'time', 'restrictions': [{'issuer_did': 'None'}]}}, 'requested_predicates': {}, 'nonce': '824512507423231212313172'}\n",
      "Requested Attributes\n",
      "{'0_possession_uuid': {'name': 'possession', 'restrictions': [{'issuer_did': 'None'}]}, '0_time_uuid': {'name': 'time', 'restrictions': [{'issuer_did': 'None'}]}}\n",
      "Requested Predicates\n",
      "{}\n"
     ]
    }
   ],
   "source": [
    "response = await agent_controller.proofs.get_records()\n",
    "print((response['results'][1]))\n",
    "\n",
    "print('\\n')\n",
    "\n",
    "state = response['results'][1][\"state\"]\n",
    "presentation_exchange_id = response['results'][1]['presentation_exchange_id']\n",
    "presentation_request = response['results'][1]['presentation_request']\n",
    "\n",
    "print('Presentation Exchange ID')\n",
    "print(response['results'][1]['presentation_exchange_id'])\n",
    "print('Presentation Request Object')\n",
    "print(response['results'][1]['presentation_request'])\n",
    "print('Requested Attributes')\n",
    "print(response['results'][1]['presentation_request']['requested_attributes'])\n",
    "requested_attribs = response['results'][1]['presentation_request']['requested_attributes']\n",
    "print('Requested Predicates')\n",
    "print(response['results'][1]['presentation_request']['requested_predicates'])\n",
    "requested_predicates = response['results'][1]['presentation_request']['requested_predicates']"
   ]
  },
  {
   "cell_type": "code",
   "execution_count": 37,
   "id": "eb3cde34",
   "metadata": {},
   "outputs": [
    {
     "name": "stdout",
     "output_type": "stream",
     "text": [
      "Received Request -> Query for credentials in the wallet that satisfy the proof request\n",
      "[]\n",
      "\n",
      "Generate the proof\n",
      "{'requested_predicates': {}, 'requested_attributes': {}, 'self_attested_attributes': {}}\n",
      "\n",
      "XXX\n",
      "{}\n",
      "{}\n",
      "{}\n",
      "Handle request {'connection_id': 'e869f819-eb25-45ec-ac99-0b70bb8aa9a7', 'message_id': 'ec82c284-da26-4647-8e30-e9305e155c5d', 'content': 'revoke: True', 'state': 'received'} e869f819-eb25-45ec-ac99-0b70bb8aa9a7\n",
      "Handle request {'connection_id': 'e869f819-eb25-45ec-ac99-0b70bb8aa9a7', 'message_id': 'a8d19b23-84f6-4d20-9e45-38b6434d621b', 'content': 'revoke: True', 'state': 'received'} e869f819-eb25-45ec-ac99-0b70bb8aa9a7\n",
      "Handle request {'connection_id': 'e869f819-eb25-45ec-ac99-0b70bb8aa9a7', 'message_id': '31fcf79c-ac9e-4f86-8b9e-22638b7c41f8', 'content': 'revoke: True', 'state': 'received'} e869f819-eb25-45ec-ac99-0b70bb8aa9a7\n",
      "Handle request {'connection_id': 'e869f819-eb25-45ec-ac99-0b70bb8aa9a7', 'message_id': '73a56f6d-3c73-4b23-882e-cb516d9707e8', 'content': 'revoke: True', 'state': 'received'} e869f819-eb25-45ec-ac99-0b70bb8aa9a7\n",
      "Handle request {'connection_id': 'e869f819-eb25-45ec-ac99-0b70bb8aa9a7', 'message_id': '07ca1bf8-3d38-4112-ac54-d95e7d9bf2fe', 'content': 'revoke: True', 'state': 'received'} e869f819-eb25-45ec-ac99-0b70bb8aa9a7\n"
     ]
    }
   ],
   "source": [
    "if state == \"request_received\":\n",
    "    print(\n",
    "    \"Received Request -> Query for credentials in the wallet that satisfy the proof request\")\n",
    "\n",
    "# include self-attested attributes (not included in credentials)\n",
    "credentials_by_reft = {}\n",
    "revealed = {}\n",
    "self_attested = {}\n",
    "predicates = {}\n",
    "\n",
    "# select credentials to provide for the proof\n",
    "credentials = await agent_controller.proofs.get_presentation_credentials(presentation_exchange_id)\n",
    "print(credentials)\n",
    "\n",
    "if credentials:\n",
    "    for row in sorted(\n",
    "        credentials,\n",
    "        key=lambda c: dict(c[\"cred_info\"][\"attrs\"]),\n",
    "        reverse=True,\n",
    "    ):\n",
    "        for referent in row[\"presentation_referents\"]:\n",
    "            if referent not in credentials_by_reft:\n",
    "                credentials_by_reft[referent] = row\n",
    "\n",
    "for referent in presentation_request[\"requested_attributes\"]:\n",
    "    if referent in credentials_by_reft:\n",
    "        revealed[referent] = {\n",
    "            \"cred_id\": credentials_by_reft[referent][\"cred_info\"][\n",
    "                \"referent\"\n",
    "            ],\n",
    "            \"revealed\": True,\n",
    "        }\n",
    "\n",
    "\n",
    "for referent in presentation_request[\"requested_predicates\"]:\n",
    "    if referent in credentials_by_reft:\n",
    "        predicates[referent] = {\n",
    "            \"cred_id\": credentials_by_reft[referent][\"cred_info\"][\n",
    "                \"referent\"\n",
    "            ]\n",
    "        }\n",
    "\n",
    "print(\"\\nGenerate the proof\")\n",
    "proof = {\n",
    "    \"requested_predicates\": predicates,\n",
    "    \"requested_attributes\": revealed,\n",
    "    \"self_attested_attributes\": self_attested,\n",
    "}\n",
    "print(proof)\n",
    "print(\"\\nXXX\")\n",
    "print(predicates)\n",
    "print(revealed)\n",
    "print(self_attested)"
   ]
  },
  {
   "cell_type": "code",
   "execution_count": 106,
   "id": "b6d5f8fe",
   "metadata": {},
   "outputs": [
    {
     "name": "stdout",
     "output_type": "stream",
     "text": [
      "{'state': 'presentation_sent', 'presentation': {'proof': {'proofs': [{'primary_proof': {'eq_proof': {'revealed_attrs': {'possession': '14346002616261423285990950419275147645475068884382384349932040365790330023719', 'time': '49877962901940461283957341209906430548424852941388192104851037378149845680243'}, 'a_prime': '28575395726803784489509548117653148574170953588337373772127842094306148101180633028985316504899829041962739903997909541941362934193568776097798135300928609739929742768941889082066411568210903642646217353985292979377500568094160487641011328500401014108204508494300584181167224832850440767217121685510010760505191391048192628762417538223644074599230668837005186710113065435477883988370980596203996532560733277890018283725348826923045260888625535344291842317537364322441459081696273210783861137933512257034975031801604027475293066220939714000420767991030275172481153010935239504205821067835426692074466120668751489701603', 'e': '38497983370485989305216024341437916142596247024072529537681307251663865207747390252103542020018720275788375027629621418194433817005986987', 'v': '657557278051364633607478191919256460347989117425174601074423263196854245449470045799460827940326378582511437949140288748919094122029846449838205947187375938118614634881043094606281596745728250721069811550141329166545151890711128431237366699672166058456861872279753192007313616247273349841512175733125450920787265943931396967829317666566495332272195577049751951834599588111933696897019756308262761234190242101328379634908042261671665727240375961826780986815428553171647568845196829822720703996641488560131858811209862003205042231947150634194538374875744807728393837825519902919182950591876874982433884300470409163719086563917893968442402696671446307625661870889681054995277599396829230221138309188482527208049074160054595223634569054488393760532736934893465075927627625003527856172973637106552647303019308197694247849810700023036765866539492148400172047751069090668104590168948480679880708900936634180219474812711769700032', 'm': {'master_secret': '4488726857256510186166219977927155493942072510024740611298168494789742639929083711289080837392730725859870872463444983514722169032943980171362201425755681818512832564237835358319'}, 'm2': '3892909529973031860744231238783759759970722468309061012045049593581526600755115131609876678917132319559367759414179823012455579255416144103298026041090671041296826583210247609994'}, 'ge_proofs': []}, 'non_revoc_proof': None}], 'aggregated_proof': {'c_hash': '99104728970856093037797663334717841931552208238219516654267625341184390355615', 'c_list': [[226, 92, 89, 63, 132, 215, 27, 225, 230, 183, 150, 42, 169, 41, 100, 249, 185, 3, 239, 154, 67, 108, 136, 182, 48, 133, 228, 73, 188, 236, 158, 64, 51, 188, 145, 147, 130, 142, 125, 104, 11, 112, 26, 92, 181, 247, 238, 116, 170, 158, 49, 187, 66, 109, 31, 52, 88, 76, 46, 49, 80, 133, 109, 147, 164, 65, 134, 145, 15, 113, 79, 194, 249, 88, 57, 138, 134, 250, 210, 188, 42, 164, 219, 247, 167, 213, 240, 62, 219, 146, 88, 93, 175, 133, 156, 103, 248, 216, 129, 246, 28, 185, 120, 250, 94, 194, 88, 167, 57, 249, 191, 42, 188, 239, 238, 45, 219, 62, 251, 141, 154, 89, 226, 112, 184, 77, 26, 125, 212, 213, 223, 140, 97, 94, 247, 81, 215, 217, 186, 221, 31, 67, 85, 68, 234, 132, 67, 2, 113, 198, 154, 141, 87, 167, 165, 113, 6, 77, 111, 206, 95, 207, 198, 90, 145, 11, 204, 199, 38, 227, 55, 98, 26, 53, 166, 154, 242, 178, 242, 12, 138, 157, 147, 78, 140, 221, 215, 28, 180, 204, 242, 187, 58, 107, 26, 81, 174, 89, 159, 199, 103, 133, 234, 217, 39, 248, 184, 163, 15, 182, 250, 101, 174, 214, 119, 196, 86, 239, 120, 153, 1, 255, 135, 7, 173, 130, 70, 99, 45, 39, 133, 45, 27, 205, 157, 229, 98, 40, 211, 149, 39, 87, 140, 181, 117, 140, 11, 90, 74, 170, 82, 254, 38, 80, 150, 227]]}}, 'requested_proof': {'revealed_attrs': {'0_possession_uuid': {'sub_proof_index': 0, 'raw': 'gZj39Y8JGQ5GVQp2y6zFH', 'encoded': '14346002616261423285990950419275147645475068884382384349932040365790330023719'}, '0_time_uuid': {'sub_proof_index': 0, 'raw': '01-03-2023, 06:22:15', 'encoded': '49877962901940461283957341209906430548424852941388192104851037378149845680243'}}, 'self_attested_attrs': {}, 'unrevealed_attrs': {}, 'predicates': {}}, 'identifiers': [{'schema_id': 'PQRXDxdGqQGSZ8z69p4xZP:2:possession schema:0.0.1', 'cred_def_id': 'PQRXDxdGqQGSZ8z69p4xZP:3:CL:39:default', 'rev_reg_id': None, 'timestamp': None}]}, 'role': 'prover', 'created_at': '2023-01-03 06:47:07.873000Z', 'connection_id': 'b616d290-fb08-4a09-9ab4-314fe92f0f25', 'presentation_request_dict': {'@type': 'did:sov:BzCbsNYhMrjHiqZDTUASHg;spec/present-proof/1.0/request-presentation', '@id': '4c0c7b44-6afd-4ef3-b3f1-facab14b608b', 'request_presentations~attach': [{'@id': 'libindy-request-presentation-0', 'mime-type': 'application/json', 'data': {'base64': 'eyJuYW1lIjogIlByb29mIG9mIE93bmVyc2hpcCIsICJ2ZXJzaW9uIjogIjEuMCIsICJyZXF1ZXN0ZWRfYXR0cmlidXRlcyI6IHsiMF9wb3NzZXNzaW9uX3V1aWQiOiB7Im5hbWUiOiAicG9zc2Vzc2lvbiIsICJyZXN0cmljdGlvbnMiOiBbeyJpc3N1ZXJfZGlkIjogIlBRUlhEeGRHcVFHU1o4ejY5cDR4WlAifV19LCAiMF90aW1lX3V1aWQiOiB7Im5hbWUiOiAidGltZSIsICJyZXN0cmljdGlvbnMiOiBbeyJpc3N1ZXJfZGlkIjogIlBRUlhEeGRHcVFHU1o4ejY5cDR4WlAifV19fSwgInJlcXVlc3RlZF9wcmVkaWNhdGVzIjoge30sICJub25jZSI6ICI4NDk4Mjc2NzE1NjA5NzEzNzc1OTY0OCJ9'}}]}, 'thread_id': '4c0c7b44-6afd-4ef3-b3f1-facab14b608b', 'updated_at': '2023-01-03 06:51:19.079908Z', 'trace': False, 'initiator': 'external', 'presentation_exchange_id': 'e13cd68b-7ebe-40a4-abbe-43ba6442adf3', 'presentation_request': {'name': 'Proof of Ownership', 'version': '1.0', 'requested_attributes': {'0_possession_uuid': {'name': 'possession', 'restrictions': [{'issuer_did': 'PQRXDxdGqQGSZ8z69p4xZP'}]}, '0_time_uuid': {'name': 'time', 'restrictions': [{'issuer_did': 'PQRXDxdGqQGSZ8z69p4xZP'}]}}, 'requested_predicates': {}, 'nonce': '84982767156097137759648'}}\n"
     ]
    }
   ],
   "source": [
    "response = await agent_controller.proofs.send_presentation(presentation_exchange_id, proof)\n",
    "print(response)"
   ]
  },
  {
   "cell_type": "code",
   "execution_count": 66,
   "id": "ea0795ea",
   "metadata": {},
   "outputs": [
    {
     "name": "stdout",
     "output_type": "stream",
     "text": [
      "None\n"
     ]
    }
   ],
   "source": [
    "response = await agent_controller.terminate()\n",
    "print(response)"
   ]
  },
  {
   "cell_type": "code",
   "execution_count": null,
   "id": "cb76df3c",
   "metadata": {},
   "outputs": [],
   "source": []
  }
 ],
 "metadata": {
  "kernelspec": {
   "display_name": "Python 3 (ipykernel)",
   "language": "python",
   "name": "python3"
  },
  "language_info": {
   "codemirror_mode": {
    "name": "ipython",
    "version": 3
   },
   "file_extension": ".py",
   "mimetype": "text/x-python",
   "name": "python",
   "nbconvert_exporter": "python",
   "pygments_lexer": "ipython3",
   "version": "3.10.8"
  }
 },
 "nbformat": 4,
 "nbformat_minor": 5
}
