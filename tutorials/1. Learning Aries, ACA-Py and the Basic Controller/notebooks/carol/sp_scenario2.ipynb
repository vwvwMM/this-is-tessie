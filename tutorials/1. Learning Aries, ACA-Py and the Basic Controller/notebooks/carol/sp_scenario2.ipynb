{
  "cells": [
    {
      "cell_type": "code",
      "execution_count": 1,
      "id": "0f35930d",
      "metadata": {},
      "outputs": [
        {
          "name": "stdout",
          "output_type": "stream",
          "text": [
            "IPython autoawait is `on`, and set to use `asyncio`\n"
          ]
        }
      ],
      "source": [
        "%autoawait\n",
        "import time\n",
        "import asyncio\n",
        "from aries_basic_controller.aries_controller import AriesAgentController\n",
        "    \n",
        "WEBHOOK_HOST = \"0.0.0.0\"\n",
        "WEBHOOK_PORT = 8082\n",
        "WEBHOOK_BASE = \"\"\n",
        "ADMIN_URL = \"http://carol-agent:8081\"\n",
        "API_KEY = \"carol_api_123456789\"\n",
        "\n",
        "# Based on the aca-py agent you wish to control\n",
        "agent_controller = AriesAgentController(admin_url=ADMIN_URL, api_key=API_KEY)\n"
      ]
    },
    {
      "cell_type": "code",
      "execution_count": 2,
      "id": "9c5eb409",
      "metadata": {},
      "outputs": [],
      "source": [
        "agent_controller.init_webhook_server(webhook_host=WEBHOOK_HOST,\n",
        "                                     webhook_port=WEBHOOK_PORT,\n",
        "                                     webhook_base=WEBHOOK_BASE)"
      ]
    },
    {
      "cell_type": "markdown",
      "id": "911b6205",
      "metadata": {},
      "source": [
        "# connect 3 agents"
      ]
    },
    {
      "cell_type": "markdown",
      "id": "789fa355",
      "metadata": {},
      "source": [
        "## 2. connect to DM"
      ]
    },
    {
      "cell_type": "code",
      "execution_count": 3,
      "id": "d63648ed",
      "metadata": {},
      "outputs": [
        {
          "name": "stdout",
          "output_type": "stream",
          "text": [
            "Subscribing too: connections\n"
          ]
        }
      ],
      "source": [
        "\n",
        "loop = asyncio.get_event_loop()\n",
        "loop.create_task(agent_controller.listen_webhooks())\n",
        "\n",
        "def connection_handler(payload):\n",
        "    print(\"Connection Handler Called\")\n",
        "    connection_id = payload[\"connection_id\"]\n",
        "    state = payload[\"state\"]\n",
        "    print(f\"Connection {connection_id} in State {state}\")\n",
        "    \n",
        "connection_listener = {\n",
        "    \"handler\": connection_handler,\n",
        "    \"topic\": \"connections\"\n",
        "}\n",
        "\n",
        "agent_controller.register_listeners([connection_listener], defaults=True)"
      ]
    },
    {
      "cell_type": "code",
      "execution_count": 4,
      "id": "cbcf2937",
      "metadata": {},
      "outputs": [],
      "source": [
        "#Paste in invitation from Alice agent\n",
        "invitation = {'@type': 'did:sov:BzCbsNYhMrjHiqZDTUASHg;spec/connections/1.0/invitation', '@id': '51faa42a-8769-450c-815e-3d1b022134a2', 'recipientKeys': ['6uGSV3tKN3kbF3ZC5GmuxqHrASfsSKBe4Kxu9JzTdnYS'], 'serviceEndpoint': 'http://192.168.65.3:8020', 'label': 'Alice'}"
      ]
    },
    {
      "cell_type": "code",
      "execution_count": 5,
      "id": "1553b882",
      "metadata": {},
      "outputs": [
        {
          "name": "stdout",
          "output_type": "stream",
          "text": [
            "Connection Handler Called\n",
            "Connection 85bc4fa6-f17c-47ab-a577-ec33f93afd6d in State invitation\n",
            "Connection Handler Called\n",
            "Connection 85bc4fa6-f17c-47ab-a577-ec33f93afd6d in State request\n",
            "Connection {'state': 'request', 'invitation_key': '6uGSV3tKN3kbF3ZC5GmuxqHrASfsSKBe4Kxu9JzTdnYS', 'updated_at': '2023-01-03 12:19:07.186468Z', 'accept': 'manual', 'their_label': 'Alice', 'request_id': '6e18face-4202-47ca-9ce5-62f7c6165976', 'rfc23_state': 'request-sent', 'invitation_mode': 'once', 'routing_state': 'none', 'their_role': 'inviter', 'my_did': 'MBSF9UmbuFnAftoJx2pw1j', 'connection_id': '85bc4fa6-f17c-47ab-a577-ec33f93afd6d', 'created_at': '2023-01-03 12:19:07.126280Z'}\n",
            "Connection Handler Called\n",
            "Connection 85bc4fa6-f17c-47ab-a577-ec33f93afd6d in State response\n",
            "Connection Handler Called\n",
            "Connection 85bc4fa6-f17c-47ab-a577-ec33f93afd6d in State active\n"
          ]
        }
      ],
      "source": [
        "# Receive Invitation\n",
        "response = await agent_controller.connections.accept_connection(invitation)\n",
        "# Print out accepted Invite and Alice's connection ID\n",
        "print(\"Connection\", response)\n",
        "alice_id = response[\"connection_id\"]\n"
      ]
    },
    {
      "cell_type": "markdown",
      "id": "fe7ff69e",
      "metadata": {},
      "source": [
        "### 3. switch to DM"
      ]
    },
    {
      "cell_type": "markdown",
      "id": "6c7fbe8f",
      "metadata": {},
      "source": [
        "### 4."
      ]
    },
    {
      "cell_type": "code",
      "execution_count": 6,
      "id": "990d7b99",
      "metadata": {},
      "outputs": [
        {
          "name": "stdout",
          "output_type": "stream",
          "text": [
            "Alice AGENT CONNECTION\n",
            "{'state': 'active', 'invitation_key': '6uGSV3tKN3kbF3ZC5GmuxqHrASfsSKBe4Kxu9JzTdnYS', 'updated_at': '2023-01-03 12:19:13.347592Z', 'accept': 'manual', 'their_label': 'Alice', 'request_id': '6e18face-4202-47ca-9ce5-62f7c6165976', 'rfc23_state': 'completed', 'their_did': 'WVwvP9Tn18f1eZ8pi7DfTL', 'invitation_mode': 'once', 'routing_state': 'none', 'their_role': 'inviter', 'my_did': 'MBSF9UmbuFnAftoJx2pw1j', 'connection_id': '85bc4fa6-f17c-47ab-a577-ec33f93afd6d', 'created_at': '2023-01-03 12:19:07.126280Z'}\n",
            "State: active\n"
          ]
        }
      ],
      "source": [
        "# Print connection list\n",
        "connection = await agent_controller.connections.get_connection(alice_id)\n",
        "print(\"Alice AGENT CONNECTION\")\n",
        "print(connection)\n",
        "print(\"State:\", connection[\"state\"])\n",
        "dm_connection = connection[\"connection_id\"]\n",
        "print(dm_connection)"
      ]
    },
    {
      "cell_type": "code",
      "execution_count": 7,
      "id": "356ffa6a",
      "metadata": {},
      "outputs": [
        {
          "name": "stdout",
          "output_type": "stream",
          "text": [
            "85bc4fa6-f17c-47ab-a577-ec33f93afd6d\n"
          ]
        }
      ],
      "source": [
        "# dm_connection = 'e75d05c2-aab0-47d1-b2e5-43415e076121'\n",
        "print(dm_connection)"
      ]
    },
    {
      "cell_type": "code",
      "execution_count": 8,
      "id": "6d6c8728",
      "metadata": {},
      "outputs": [
        {
          "name": "stdout",
          "output_type": "stream",
          "text": [
            "{'results': [{'state': 'active', 'invitation_key': '6uGSV3tKN3kbF3ZC5GmuxqHrASfsSKBe4Kxu9JzTdnYS', 'updated_at': '2023-01-03 12:19:13.347592Z', 'accept': 'manual', 'their_label': 'Alice', 'request_id': '6e18face-4202-47ca-9ce5-62f7c6165976', 'rfc23_state': 'completed', 'their_did': 'WVwvP9Tn18f1eZ8pi7DfTL', 'invitation_mode': 'once', 'routing_state': 'none', 'their_role': 'inviter', 'my_did': 'MBSF9UmbuFnAftoJx2pw1j', 'connection_id': '85bc4fa6-f17c-47ab-a577-ec33f93afd6d', 'created_at': '2023-01-03 12:19:07.126280Z'}]}\n"
          ]
        }
      ],
      "source": [
        "response = await agent_controller.connections.get_connections()\n",
        "print(response)"
      ]
    },
    {
      "cell_type": "markdown",
      "id": "f1e52a9f",
      "metadata": {},
      "source": [
        "## 5. connect to MUSIC"
      ]
    },
    {
      "cell_type": "code",
      "execution_count": 9,
      "id": "891eef91",
      "metadata": {},
      "outputs": [
        {
          "name": "stdout",
          "output_type": "stream",
          "text": [
            "Connection Handler Called\n",
            "Connection 37f5ab65-a1a6-439d-9933-f79b98b15ef9 in State invitation\n",
            "Connection ID 37f5ab65-a1a6-439d-9933-f79b98b15ef9\n",
            "Invitation\n",
            "{'@type': 'did:sov:BzCbsNYhMrjHiqZDTUASHg;spec/connections/1.0/invitation', '@id': '41081439-7db1-4060-ace9-4a2a618a941b', 'recipientKeys': ['CKwsvo1gh2VjE6BfChqfi171X6AzMee11pRqbnCQQtfe'], 'label': 'Carol', 'serviceEndpoint': 'http://192.168.65.3:8080'}\n",
            "Connection Handler Called\n",
            "Connection 37f5ab65-a1a6-439d-9933-f79b98b15ef9 in State request\n"
          ]
        }
      ],
      "source": [
        "# Create Invitation\n",
        "invite = await agent_controller.connections.create_invitation()\n",
        "connection_id = invite[\"connection_id\"]\n",
        "invite_message = invite['invitation']\n",
        "print(\"Connection ID\", connection_id)\n",
        "print(\"Invitation\")\n",
        "print(invite_message)"
      ]
    },
    {
      "cell_type": "markdown",
      "id": "582d1644",
      "metadata": {},
      "source": [
        "### 6. switch to MUSIC"
      ]
    },
    {
      "cell_type": "markdown",
      "id": "9f12ff17",
      "metadata": {},
      "source": [
        "### 7."
      ]
    },
    {
      "cell_type": "code",
      "execution_count": 10,
      "id": "96d4bdc0",
      "metadata": {},
      "outputs": [
        {
          "name": "stdout",
          "output_type": "stream",
          "text": [
            "Connection Handler Called\n",
            "Connection 37f5ab65-a1a6-439d-9933-f79b98b15ef9 in State response\n",
            "ACCEPT REQUEST\n",
            "{'state': 'response', 'invitation_key': 'CKwsvo1gh2VjE6BfChqfi171X6AzMee11pRqbnCQQtfe', 'updated_at': '2023-01-03 12:19:53.169973Z', 'accept': 'manual', 'their_label': 'Bob', 'rfc23_state': 'response-sent', 'their_did': 'AfY42mQdAawA3CMpusYpLN', 'invitation_mode': 'once', 'routing_state': 'none', 'their_role': 'invitee', 'my_did': '9YrzDVXwE1e9UNk7rgfCET', 'connection_id': '37f5ab65-a1a6-439d-9933-f79b98b15ef9', 'created_at': '2023-01-03 12:19:31.565180Z'}\n",
            "state response\n"
          ]
        }
      ],
      "source": [
        "# Accept Request for Invite created\n",
        "connection = await agent_controller.connections.accept_request(connection_id)\n",
        "print(\"ACCEPT REQUEST\")\n",
        "print(connection)\n",
        "print(\"state\", connection[\"state\"])"
      ]
    },
    {
      "cell_type": "code",
      "execution_count": 11,
      "id": "c22759df",
      "metadata": {},
      "outputs": [
        {
          "name": "stdout",
          "output_type": "stream",
          "text": [
            "Trust Ping {'thread_id': 'e29b2e51-fb96-4afe-9f8f-09c20fdfe73c'}\n",
            "Connection Handler Called\n",
            "Connection 37f5ab65-a1a6-439d-9933-f79b98b15ef9 in State active\n"
          ]
        }
      ],
      "source": [
        "trust_ping = await agent_controller.messaging.trust_ping(connection_id, \"hello\")\n",
        "print(\"Trust Ping\", trust_ping)"
      ]
    },
    {
      "cell_type": "code",
      "execution_count": 12,
      "id": "5ee73de2",
      "metadata": {},
      "outputs": [
        {
          "name": "stdout",
          "output_type": "stream",
          "text": [
            "{'state': 'active', 'invitation_key': 'CKwsvo1gh2VjE6BfChqfi171X6AzMee11pRqbnCQQtfe', 'updated_at': '2023-01-03 12:19:54.472003Z', 'accept': 'manual', 'their_label': 'Bob', 'rfc23_state': 'completed', 'their_did': 'AfY42mQdAawA3CMpusYpLN', 'invitation_mode': 'once', 'routing_state': 'none', 'their_role': 'invitee', 'my_did': '9YrzDVXwE1e9UNk7rgfCET', 'connection_id': '37f5ab65-a1a6-439d-9933-f79b98b15ef9', 'created_at': '2023-01-03 12:19:31.565180Z'}\n",
            "Is Active? active\n",
            "37f5ab65-a1a6-439d-9933-f79b98b15ef9\n"
          ]
        }
      ],
      "source": [
        "connection = await agent_controller.connections.get_connection(connection_id)\n",
        "print(connection)\n",
        "print(\"Is Active?\", connection[\"state\"])\n",
        "music_connection = connection[\"connection_id\"]\n",
        "print(music_connection)"
      ]
    },
    {
      "cell_type": "code",
      "execution_count": 13,
      "id": "68bdc8dc",
      "metadata": {},
      "outputs": [],
      "source": [
        "# music_connection = 'b616d290-fb08-4a09-9ab4-314fe92f0f25'"
      ]
    },
    {
      "cell_type": "code",
      "execution_count": 14,
      "id": "6735612a",
      "metadata": {},
      "outputs": [
        {
          "name": "stdout",
          "output_type": "stream",
          "text": [
            "{'results': [{'state': 'active', 'invitation_key': '6uGSV3tKN3kbF3ZC5GmuxqHrASfsSKBe4Kxu9JzTdnYS', 'updated_at': '2023-01-03 12:19:13.347592Z', 'accept': 'manual', 'their_label': 'Alice', 'request_id': '6e18face-4202-47ca-9ce5-62f7c6165976', 'rfc23_state': 'completed', 'their_did': 'WVwvP9Tn18f1eZ8pi7DfTL', 'invitation_mode': 'once', 'routing_state': 'none', 'their_role': 'inviter', 'my_did': 'MBSF9UmbuFnAftoJx2pw1j', 'connection_id': '85bc4fa6-f17c-47ab-a577-ec33f93afd6d', 'created_at': '2023-01-03 12:19:07.126280Z'}, {'state': 'active', 'invitation_key': 'CKwsvo1gh2VjE6BfChqfi171X6AzMee11pRqbnCQQtfe', 'updated_at': '2023-01-03 12:19:54.472003Z', 'accept': 'manual', 'their_label': 'Bob', 'rfc23_state': 'completed', 'their_did': 'AfY42mQdAawA3CMpusYpLN', 'invitation_mode': 'once', 'routing_state': 'none', 'their_role': 'invitee', 'my_did': '9YrzDVXwE1e9UNk7rgfCET', 'connection_id': '37f5ab65-a1a6-439d-9933-f79b98b15ef9', 'created_at': '2023-01-03 12:19:31.565180Z'}]}\n"
          ]
        }
      ],
      "source": [
        "response = await agent_controller.connections.get_connections()\n",
        "print(response)"
      ]
    },
    {
      "cell_type": "code",
      "execution_count": 15,
      "id": "45d69e0c",
      "metadata": {},
      "outputs": [
        {
          "name": "stdout",
          "output_type": "stream",
          "text": [
            "{'state': 'active', 'invitation_key': 'CKwsvo1gh2VjE6BfChqfi171X6AzMee11pRqbnCQQtfe', 'updated_at': '2023-01-03 12:19:54.472003Z', 'accept': 'manual', 'their_label': 'Bob', 'rfc23_state': 'completed', 'their_did': 'AfY42mQdAawA3CMpusYpLN', 'invitation_mode': 'once', 'routing_state': 'none', 'their_role': 'invitee', 'my_did': '9YrzDVXwE1e9UNk7rgfCET', 'connection_id': '37f5ab65-a1a6-439d-9933-f79b98b15ef9', 'created_at': '2023-01-03 12:19:31.565180Z'}\n"
          ]
        }
      ],
      "source": [
        "response = await agent_controller.connections.get_connection(music_connection)\n",
        "print(response)"
      ]
    },
    {
      "cell_type": "code",
      "execution_count": 81,
      "id": "19ee5b00",
      "metadata": {},
      "outputs": [],
      "source": [
        "# response = await agent_controller.connections.remove_connection('c5f441dd-41d8-4bdb-a041-0a5566e4a450')"
      ]
    },
    {
      "cell_type": "markdown",
      "id": "ab60bcdc",
      "metadata": {},
      "source": [
        "### 8. switch to MUSIC"
      ]
    },
    {
      "cell_type": "markdown",
      "id": "e5740c55",
      "metadata": {},
      "source": [
        "# exchange DID with DM"
      ]
    },
    {
      "cell_type": "markdown",
      "id": "b199ffea",
      "metadata": {},
      "source": [
        "## 3."
      ]
    },
    {
      "cell_type": "code",
      "execution_count": 16,
      "id": "788094b4",
      "metadata": {},
      "outputs": [
        {
          "name": "stdout",
          "output_type": "stream",
          "text": [
            "my DID X8HWQruWXrv8s6BBLXm53B\n"
          ]
        }
      ],
      "source": [
        "my_did = await agent_controller.wallet.get_public_did()\n",
        "my_did = my_did['result']['did']\n",
        "print(\"my DID\", my_did)\n",
        "dm_did = 'None'"
      ]
    },
    {
      "cell_type": "code",
      "execution_count": 17,
      "id": "5a681068",
      "metadata": {},
      "outputs": [
        {
          "name": "stdout",
          "output_type": "stream",
          "text": [
            "Subscribing too: basicmessages\n"
          ]
        },
        {
          "name": "stderr",
          "output_type": "stream",
          "text": [
            "WARNING:aries_webhook_server:Listening webhooks failed! OSError(98, \"error while attempting to bind on address ('0.0.0.0', 8082): address already in use\") occurred.\n"
          ]
        }
      ],
      "source": [
        "def messages_handler(payload):\n",
        "    global dm_did\n",
        "    connection_id = payload[\"connection_id\"]\n",
        "    print(\"Handle message\", payload, connection_id)\n",
        "    dm_did = payload['content']\n",
        "    print('DM DID', dm_did)\n",
        "\n",
        "\n",
        "message_listener = {\n",
        "    \"handler\": messages_handler,\n",
        "    \"topic\": \"basicmessages\"\n",
        "}\n",
        "\n",
        "loop = asyncio.get_event_loop()\n",
        "loop.create_task(agent_controller.listen_webhooks())\n",
        "\n",
        "agent_controller.register_listeners([message_listener], defaults=True)"
      ]
    },
    {
      "cell_type": "code",
      "execution_count": 18,
      "id": "533097e1",
      "metadata": {},
      "outputs": [],
      "source": [
        "# await agent_controller.messaging.trust_ping(dm_connection, \"hello, world!\")"
      ]
    },
    {
      "cell_type": "code",
      "execution_count": 19,
      "id": "1b731b4b",
      "metadata": {},
      "outputs": [
        {
          "name": "stdout",
          "output_type": "stream",
          "text": [
            "{}\n",
            "Handle message {'connection_id': '85bc4fa6-f17c-47ab-a577-ec33f93afd6d', 'message_id': '114a552b-796e-44c6-823e-eb15e5d21606', 'content': 'PQRXDxdGqQGSZ8z69p4xZP', 'state': 'received'} 85bc4fa6-f17c-47ab-a577-ec33f93afd6d\n",
            "DM DID PQRXDxdGqQGSZ8z69p4xZP\n"
          ]
        }
      ],
      "source": [
        "response = await agent_controller.messaging.send_message(dm_connection, 'sp_'+my_did)\n",
        "print(response)"
      ]
    },
    {
      "cell_type": "code",
      "execution_count": 20,
      "id": "7c01cd37",
      "metadata": {},
      "outputs": [
        {
          "name": "stdout",
          "output_type": "stream",
          "text": [
            "PQRXDxdGqQGSZ8z69p4xZP\n"
          ]
        }
      ],
      "source": [
        "print(dm_did)"
      ]
    },
    {
      "cell_type": "markdown",
      "id": "cfe551bd",
      "metadata": {},
      "source": [
        "# Verify MUSIC"
      ]
    },
    {
      "cell_type": "markdown",
      "id": "623c79d8",
      "metadata": {},
      "source": [
        "## 1. request proof from MUSIC (prove that MUSIC belongs to DM) "
      ]
    },
    {
      "cell_type": "code",
      "execution_count": 21,
      "id": "047a4af7",
      "metadata": {},
      "outputs": [
        {
          "name": "stdout",
          "output_type": "stream",
          "text": [
            "Subscribing too: present_proof\n"
          ]
        },
        {
          "name": "stderr",
          "output_type": "stream",
          "text": [
            "WARNING:aries_webhook_server:Listening webhooks failed! OSError(98, \"error while attempting to bind on address ('0.0.0.0', 8082): address already in use\") occurred.\n"
          ]
        }
      ],
      "source": [
        "loop = asyncio.get_event_loop()\n",
        "loop.create_task(agent_controller.listen_webhooks())\n",
        "\n",
        "def proof_handler(payload):\n",
        "    print(\"Handle present proof\")\n",
        "    role = payload[\"role\"]\n",
        "    pres_ex_id = payload[\"presentation_exchange_id\"]\n",
        "    state = payload[\"state\"]\n",
        "    print(f\"Role {role}, Exchange {pres_ex_id} in state {state}\")\n",
        "\n",
        "proof_listener = {\n",
        "    \"topic\": \"present_proof\",\n",
        "    \"handler\": proof_handler\n",
        "}\n",
        "agent_controller.register_listeners([proof_listener], defaults=True)\n"
      ]
    },
    {
      "cell_type": "markdown",
      "id": "af042104",
      "metadata": {},
      "source": [
        "## 2. switch to MUSIC"
      ]
    },
    {
      "cell_type": "markdown",
      "id": "ba2d8920",
      "metadata": {},
      "source": [
        "## 3."
      ]
    },
    {
      "cell_type": "code",
      "execution_count": 22,
      "id": "70e0ef33",
      "metadata": {},
      "outputs": [
        {
          "name": "stdout",
          "output_type": "stream",
          "text": [
            "{'result': {'did': 'X8HWQruWXrv8s6BBLXm53B', 'verkey': 'HRL7SCYGvMzoj6QJJ7MymnC3WZ7fXDrpvwV56sPT3zTr', 'posture': 'public'}}\n",
            "Request proof from MUSIC\n"
          ]
        }
      ],
      "source": [
        "response = await agent_controller.wallet.get_public_did()\n",
        "print(response)\n",
        "issuer_did = response[\"result\"][\"did\"]\n",
        "\n",
        "print(\"Request proof from MUSIC\")\n",
        "#Set some variables\n",
        "\n",
        "revocation = False\n",
        "SELF_ATTESTED = True\n",
        "exchange_tracing = False\n",
        "\n",
        "#Enable this to ask for attributes to identity a user\n",
        "req_attrs = [\n",
        "    {\"name\": \"author\", \"restrictions\": [{\"issuer_did\": dm_did}]},\n",
        "    {\"name\": \"origin\", \"restrictions\": [{\"issuer_did\": dm_did}]},\n",
        "    {\"name\": \"owner\", \"restrictions\": [{\"issuer_did\": dm_did}]},\n",
        "    {\"name\": \"time\", \"restrictions\": [{\"issuer_did\": dm_did}]},\n",
        "]\n",
        "\n",
        "if revocation:\n",
        "    req_attrs.append(\n",
        "        {\n",
        "            \"name\": \"owner\",\n",
        "            \"restrictions\": [{\"issuer_did\": agent.did}],\n",
        "            \"non_revoked\": {\"to\": int(time.time() - 1)},\n",
        "        },\n",
        "    )\n",
        "\n",
        "\n",
        "\n",
        "#Set predicates for Zero Knowledge Proofs\n",
        "req_preds = []\n",
        "\n",
        "indy_proof_request = {\n",
        "    \"name\": \"Proof of Ownership of DM\",\n",
        "    \"version\": \"1.0\",\n",
        "    \"requested_attributes\": {\n",
        "        f\"0_{req_attr['name']}_uuid\":\n",
        "        req_attr for req_attr in req_attrs\n",
        "    },\n",
        "    \"requested_predicates\": {\n",
        "        f\"0_{req_pred['name']}_GE_uuid\":\n",
        "        req_pred for req_pred in req_preds\n",
        "    },\n",
        "}\n",
        "\n",
        "if revocation:\n",
        "    indy_proof_request[\"non_revoked\"] = {\"to\": int(time.time())}\n",
        "\n",
        "#proof_request = indy_proof_request\n",
        "exchange_tracing_id = exchange_tracing\n",
        "proof_request_web_request = {\n",
        "    \"connection_id\": music_connection,\n",
        "    \"proof_request\": indy_proof_request,\n",
        "    \"trace\": exchange_tracing,\n",
        "}"
      ]
    },
    {
      "cell_type": "code",
      "execution_count": 23,
      "id": "4ac5f064",
      "metadata": {},
      "outputs": [
        {
          "name": "stdout",
          "output_type": "stream",
          "text": [
            "Handle present proof\n",
            "Role verifier, Exchange b2ed21f5-28a1-4a03-ab23-0db76f988f94 in state request_sent\n",
            "{'state': 'request_sent', 'trace': False, 'role': 'verifier', 'updated_at': '2023-01-03 12:28:55.178266Z', 'initiator': 'self', 'presentation_request_dict': {'@type': 'did:sov:BzCbsNYhMrjHiqZDTUASHg;spec/present-proof/1.0/request-presentation', '@id': 'e5c0ec43-084a-4671-b255-92484d67c147', 'request_presentations~attach': [{'@id': 'libindy-request-presentation-0', 'mime-type': 'application/json', 'data': {'base64': 'eyJuYW1lIjogIlByb29mIG9mIE93bmVyc2hpcCBvZiBETSIsICJ2ZXJzaW9uIjogIjEuMCIsICJyZXF1ZXN0ZWRfYXR0cmlidXRlcyI6IHsiMF9hdXRob3JfdXVpZCI6IHsibmFtZSI6ICJhdXRob3IiLCAicmVzdHJpY3Rpb25zIjogW3siaXNzdWVyX2RpZCI6ICJQUVJYRHhkR3FRR1NaOHo2OXA0eFpQIn1dfSwgIjBfb3JpZ2luX3V1aWQiOiB7Im5hbWUiOiAib3JpZ2luIiwgInJlc3RyaWN0aW9ucyI6IFt7Imlzc3Vlcl9kaWQiOiAiUFFSWER4ZEdxUUdTWjh6NjlwNHhaUCJ9XX0sICIwX293bmVyX3V1aWQiOiB7Im5hbWUiOiAib3duZXIiLCAicmVzdHJpY3Rpb25zIjogW3siaXNzdWVyX2RpZCI6ICJQUVJYRHhkR3FRR1NaOHo2OXA0eFpQIn1dfSwgIjBfdGltZV91dWlkIjogeyJuYW1lIjogInRpbWUiLCAicmVzdHJpY3Rpb25zIjogW3siaXNzdWVyX2RpZCI6ICJQUVJYRHhkR3FRR1NaOHo2OXA0eFpQIn1dfX0sICJyZXF1ZXN0ZWRfcHJlZGljYXRlcyI6IHt9LCAibm9uY2UiOiAiNjM4NzQzMTM3OTQzODc2MTc5MDEwNzI2In0='}}]}, 'thread_id': 'e5c0ec43-084a-4671-b255-92484d67c147', 'presentation_exchange_id': 'b2ed21f5-28a1-4a03-ab23-0db76f988f94', 'connection_id': '37f5ab65-a1a6-439d-9933-f79b98b15ef9', 'auto_present': False, 'created_at': '2023-01-03 12:28:55.178266Z', 'presentation_request': {'name': 'Proof of Ownership of DM', 'version': '1.0', 'requested_attributes': {'0_author_uuid': {'name': 'author', 'restrictions': [{'issuer_did': 'PQRXDxdGqQGSZ8z69p4xZP'}]}, '0_origin_uuid': {'name': 'origin', 'restrictions': [{'issuer_did': 'PQRXDxdGqQGSZ8z69p4xZP'}]}, '0_owner_uuid': {'name': 'owner', 'restrictions': [{'issuer_did': 'PQRXDxdGqQGSZ8z69p4xZP'}]}, '0_time_uuid': {'name': 'time', 'restrictions': [{'issuer_did': 'PQRXDxdGqQGSZ8z69p4xZP'}]}}, 'requested_predicates': {}, 'nonce': '638743137943876179010726'}}\n",
            "\n",
            "\n",
            "b2ed21f5-28a1-4a03-ab23-0db76f988f94\n",
            "Handle present proof\n",
            "Role verifier, Exchange b2ed21f5-28a1-4a03-ab23-0db76f988f94 in state presentation_received\n"
          ]
        }
      ],
      "source": [
        "response = await agent_controller.proofs.send_request(proof_request_web_request)\n",
        "print(response)\n",
        "presentation_exchange_id = response['presentation_exchange_id']\n",
        "print(\"\\n\")\n",
        "print(presentation_exchange_id)"
      ]
    },
    {
      "cell_type": "markdown",
      "id": "61ef562e",
      "metadata": {},
      "source": [
        "## 4. switch to MUSIC"
      ]
    },
    {
      "cell_type": "markdown",
      "id": "bbd037e3",
      "metadata": {},
      "source": [
        "## 5."
      ]
    },
    {
      "cell_type": "code",
      "execution_count": 24,
      "id": "f1f19a65",
      "metadata": {},
      "outputs": [
        {
          "name": "stdout",
          "output_type": "stream",
          "text": [
            "Handle present proof\n",
            "Role verifier, Exchange b2ed21f5-28a1-4a03-ab23-0db76f988f94 in state verified\n"
          ]
        }
      ],
      "source": [
        "verify = await agent_controller.proofs.verify_presentation(presentation_exchange_id)"
      ]
    },
    {
      "cell_type": "code",
      "execution_count": 25,
      "id": "e4659cf1",
      "metadata": {},
      "outputs": [
        {
          "name": "stdout",
          "output_type": "stream",
          "text": [
            "verified\n",
            "True\n"
          ]
        }
      ],
      "source": [
        "print(verify['state'])\n",
        "music_belongs_to_dm = verify['state'] == 'verified'\n",
        "print(music_belongs_to_dm)"
      ]
    },
    {
      "cell_type": "markdown",
      "id": "367c493a",
      "metadata": {},
      "source": [
        "# transfer possession"
      ]
    },
    {
      "cell_type": "markdown",
      "id": "95153143",
      "metadata": {},
      "source": [
        "## 1. request new VC from DM"
      ]
    },
    {
      "cell_type": "code",
      "execution_count": 26,
      "id": "4a5d8c78",
      "metadata": {},
      "outputs": [],
      "source": [
        "agent_controller.remove_all_listeners(\"basicmessages\")"
      ]
    },
    {
      "cell_type": "code",
      "execution_count": null,
      "id": "2b4bcd91",
      "metadata": {},
      "outputs": [],
      "source": [
        "def request_handler(payload):\n",
        "    connection_id = payload[\"connection_id\"]\n",
        "    print(\"Handle request\", payload, connection_id)\n",
        "\n",
        "\n",
        "request_listener = {\n",
        "    \"handler\": request_handler,\n",
        "    \"topic\": \"basicmessages\"\n",
        "}\n",
        "\n",
        "loop = asyncio.get_event_loop()\n",
        "loop.create_task(agent_controller.listen_webhooks())\n",
        "\n",
        "agent_controller.register_listeners([request_listener], defaults=True)"
      ]
    },
    {
      "cell_type": "markdown",
      "id": "3d6efb02",
      "metadata": {},
      "source": [
        "## 2. switch to DM"
      ]
    },
    {
      "cell_type": "markdown",
      "id": "4e9af9c1",
      "metadata": {},
      "source": [
        "## 3."
      ]
    },
    {
      "cell_type": "code",
      "execution_count": 29,
      "id": "1c3d607d",
      "metadata": {},
      "outputs": [
        {
          "name": "stdout",
          "output_type": "stream",
          "text": [
            "{}\n",
            "Handle request {'connection_id': '85bc4fa6-f17c-47ab-a577-ec33f93afd6d', 'message_id': '430f501f-198b-4328-b6fa-22f23d388ba1', 'content': 'revoke: True', 'state': 'received'} 85bc4fa6-f17c-47ab-a577-ec33f93afd6d\n"
          ]
        }
      ],
      "source": [
        "response = await agent_controller.messaging.send_message(dm_connection, str(music_belongs_to_dm))\n",
        "print(response)"
      ]
    },
    {
      "cell_type": "markdown",
      "id": "ac70c7c9",
      "metadata": {},
      "source": [
        "## 4. switch to DM"
      ]
    },
    {
      "cell_type": "markdown",
      "id": "cc1903cf",
      "metadata": {},
      "source": [
        "## 9. "
      ]
    },
    {
      "cell_type": "code",
      "execution_count": 33,
      "id": "caff8892",
      "metadata": {},
      "outputs": [
        {
          "name": "stdout",
          "output_type": "stream",
          "text": [
            "Subscribing too: issue_credential\n"
          ]
        },
        {
          "name": "stderr",
          "output_type": "stream",
          "text": [
            "WARNING:aries_webhook_server:Listening webhooks failed! OSError(98, \"error while attempting to bind on address ('0.0.0.0', 8082): address already in use\") occurred.\n"
          ]
        }
      ],
      "source": [
        "loop = asyncio.get_event_loop()\n",
        "loop.create_task(agent_controller.listen_webhooks())\n",
        "def cred_handler(payload):\n",
        "    print(\"Handle Credentials\")\n",
        "    exchange_id = payload['credential_exchange_id']\n",
        "    state = payload['state']\n",
        "    role = payload['role']\n",
        "    attributes = payload['credential_proposal_dict']['credential_proposal']['attributes']\n",
        "    print(f\"Credential exchange {exchange_id}, role: {role}, state: {state}\")\n",
        "    print(f\"Attributes: {attributes}\")\n",
        "    \n",
        "cred_listener = {\n",
        "    \"topic\": \"issue_credential\",\n",
        "    \"handler\": cred_handler\n",
        "}\n",
        "agent_controller.register_listeners([cred_listener], defaults=True)"
      ]
    },
    {
      "cell_type": "markdown",
      "id": "40462e02",
      "metadata": {},
      "source": [
        "## 10. switch to MUSIC"
      ]
    },
    {
      "cell_type": "markdown",
      "id": "92a7b9b9",
      "metadata": {},
      "source": [
        "## 11."
      ]
    },
    {
      "cell_type": "code",
      "execution_count": 34,
      "id": "712f7ff7",
      "metadata": {},
      "outputs": [
        {
          "name": "stdout",
          "output_type": "stream",
          "text": [
            "Credential exchange d989c85f-4ad5-4516-b736-dca8fa1a7850, role: holder, state: offer_received\n",
            "Being offered: [{'name': 'possession', 'value': ''}, {'name': 'time', 'value': '01-03-2023, 12:35:32'}]\n",
            "Handle Credentials\n",
            "Credential exchange 305c9c8e-70d0-449f-8dcf-fa419b4c8e9c, role: holder, state: offer_received\n",
            "Attributes: [{'name': 'possession', 'value': ''}, {'name': 'time', 'value': '01-03-2023, 12:35:32'}]\n"
          ]
        }
      ],
      "source": [
        "response = await agent_controller.issuer.get_records()\n",
        "results = response[\"results\"]\n",
        "if len(results) == 0:\n",
        "    print(\"You need to first send a credential from the issuer notebook (Alice)\")\n",
        "else:\n",
        "    cred_record = results[0]\n",
        "    cred_ex_id = cred_record['credential_exchange_id']\n",
        "    state = cred_record['state']\n",
        "    role = cred_record['role']\n",
        "    attributes = results[0]['credential_proposal_dict']['credential_proposal']['attributes']\n",
        "    print(f\"Credential exchange {cred_ex_id}, role: {role}, state: {state}\")\n",
        "    print(f\"Being offered: {attributes}\")\n"
      ]
    },
    {
      "cell_type": "code",
      "execution_count": 35,
      "id": "27743b52",
      "metadata": {},
      "outputs": [
        {
          "name": "stdout",
          "output_type": "stream",
          "text": [
            "Handle Credentials\n",
            "Credential exchange d989c85f-4ad5-4516-b736-dca8fa1a7850, role: holder, state: request_sent\n",
            "Attributes: [{'name': 'possession', 'value': ''}, {'name': 'time', 'value': '01-03-2023, 12:35:32'}]\n",
            "Credential exchange d989c85f-4ad5-4516-b736-dca8fa1a7850, role: holder, state: request_sent\n",
            "Handle Credentials\n",
            "Credential exchange d989c85f-4ad5-4516-b736-dca8fa1a7850, role: holder, state: credential_received\n",
            "Attributes: [{'name': 'possession', 'value': ''}, {'name': 'time', 'value': '01-03-2023, 12:35:32'}]\n"
          ]
        }
      ],
      "source": [
        "record = await agent_controller.issuer.send_request_for_record(cred_ex_id)\n",
        "state = record['state']\n",
        "role = record['role']\n",
        "print(f\"Credential exchange {cred_ex_id}, role: {role}, state: {state}\")"
      ]
    },
    {
      "cell_type": "code",
      "execution_count": 36,
      "id": "d31630b5",
      "metadata": {},
      "outputs": [
        {
          "name": "stdout",
          "output_type": "stream",
          "text": [
            "Handle Credentials\n",
            "Credential exchange d989c85f-4ad5-4516-b736-dca8fa1a7850, role: holder, state: credential_acked\n",
            "Attributes: [{'name': 'possession', 'value': ''}, {'name': 'time', 'value': '01-03-2023, 12:35:32'}]\n",
            "Credential exchange d989c85f-4ad5-4516-b736-dca8fa1a7850, role: holder, state: credential_acked\n",
            "Handle present proof\n",
            "Role prover, Exchange 89655621-d1b5-4a39-a2b2-f109b81a0780 in state request_received\n"
          ]
        }
      ],
      "source": [
        "response = await agent_controller.issuer.store_credential(cred_ex_id, \"Credentia of Possesion\")\n",
        "state = response['state']\n",
        "role = response['role']\n",
        "print(f\"Credential exchange {cred_ex_id}, role: {role}, state: {state}\")"
      ]
    },
    {
      "cell_type": "markdown",
      "id": "9540b539",
      "metadata": {},
      "source": [
        "## 12. switch to MUSIC"
      ]
    },
    {
      "cell_type": "markdown",
      "id": "1ee3c1b3",
      "metadata": {},
      "source": [
        "## 13. present proof of possesion to MUSIC"
      ]
    },
    {
      "cell_type": "code",
      "execution_count": 40,
      "id": "80a8e217",
      "metadata": {},
      "outputs": [
        {
          "name": "stdout",
          "output_type": "stream",
          "text": [
            "{'state': 'request_received', 'trace': False, 'role': 'prover', 'updated_at': '2023-01-03 12:36:33.518703Z', 'initiator': 'external', 'presentation_request_dict': {'@type': 'did:sov:BzCbsNYhMrjHiqZDTUASHg;spec/present-proof/1.0/request-presentation', '@id': 'e8791044-eccd-4f6c-b1fa-ce46fb7955d7', 'request_presentations~attach': [{'@id': 'libindy-request-presentation-0', 'mime-type': 'application/json', 'data': {'base64': 'eyJuYW1lIjogIlByb29mIG9mIE93bmVyc2hpcCIsICJ2ZXJzaW9uIjogIjEuMCIsICJyZXF1ZXN0ZWRfYXR0cmlidXRlcyI6IHsiMF9wb3NzZXNzaW9uX3V1aWQiOiB7Im5hbWUiOiAicG9zc2Vzc2lvbiIsICJyZXN0cmljdGlvbnMiOiBbeyJpc3N1ZXJfZGlkIjogIlBRUlhEeGRHcVFHU1o4ejY5cDR4WlAifV19LCAiMF90aW1lX3V1aWQiOiB7Im5hbWUiOiAidGltZSIsICJyZXN0cmljdGlvbnMiOiBbeyJpc3N1ZXJfZGlkIjogIlBRUlhEeGRHcVFHU1o4ejY5cDR4WlAifV19fSwgInJlcXVlc3RlZF9wcmVkaWNhdGVzIjoge30sICJub25jZSI6ICIxMTcyNjkyMjE4ODUyOTIyNjAzNTc5MDE0In0='}}]}, 'thread_id': 'e8791044-eccd-4f6c-b1fa-ce46fb7955d7', 'presentation_exchange_id': '89655621-d1b5-4a39-a2b2-f109b81a0780', 'connection_id': '37f5ab65-a1a6-439d-9933-f79b98b15ef9', 'created_at': '2023-01-03 12:36:33.518703Z', 'presentation_request': {'name': 'Proof of Ownership', 'version': '1.0', 'requested_attributes': {'0_possession_uuid': {'name': 'possession', 'restrictions': [{'issuer_did': 'PQRXDxdGqQGSZ8z69p4xZP'}]}, '0_time_uuid': {'name': 'time', 'restrictions': [{'issuer_did': 'PQRXDxdGqQGSZ8z69p4xZP'}]}}, 'requested_predicates': {}, 'nonce': '1172692218852922603579014'}}\n",
            "\n",
            "\n",
            "Presentation Exchange ID\n",
            "89655621-d1b5-4a39-a2b2-f109b81a0780\n",
            "Presentation Request Object\n",
            "{'name': 'Proof of Ownership', 'version': '1.0', 'requested_attributes': {'0_possession_uuid': {'name': 'possession', 'restrictions': [{'issuer_did': 'PQRXDxdGqQGSZ8z69p4xZP'}]}, '0_time_uuid': {'name': 'time', 'restrictions': [{'issuer_did': 'PQRXDxdGqQGSZ8z69p4xZP'}]}}, 'requested_predicates': {}, 'nonce': '1172692218852922603579014'}\n",
            "Requested Attributes\n",
            "{'0_possession_uuid': {'name': 'possession', 'restrictions': [{'issuer_did': 'PQRXDxdGqQGSZ8z69p4xZP'}]}, '0_time_uuid': {'name': 'time', 'restrictions': [{'issuer_did': 'PQRXDxdGqQGSZ8z69p4xZP'}]}}\n",
            "Requested Predicates\n",
            "{}\n"
          ]
        }
      ],
      "source": [
        "response = await agent_controller.proofs.get_records()\n",
        "print((response['results'][0]))\n",
        "\n",
        "print('\\n')\n",
        "\n",
        "state = response['results'][0][\"state\"]\n",
        "presentation_exchange_id = response['results'][0]['presentation_exchange_id']\n",
        "presentation_request = response['results'][0]['presentation_request']\n",
        "\n",
        "print('Presentation Exchange ID')\n",
        "print(response['results'][0]['presentation_exchange_id'])\n",
        "print('Presentation Request Object')\n",
        "print(response['results'][0]['presentation_request'])\n",
        "print('Requested Attributes')\n",
        "print(response['results'][0]['presentation_request']['requested_attributes'])\n",
        "requested_attribs = response['results'][0]['presentation_request']['requested_attributes']\n",
        "print('Requested Predicates')\n",
        "print(response['results'][0]['presentation_request']['requested_predicates'])\n",
        "requested_predicates = response['results'][0]['presentation_request']['requested_predicates']"
      ]
    },
    {
      "cell_type": "code",
      "execution_count": 41,
      "id": "bdb6e6d4",
      "metadata": {},
      "outputs": [
        {
          "name": "stdout",
          "output_type": "stream",
          "text": [
            "Received Request -> Query for credentials in the wallet that satisfy the proof request\n",
            "[{'cred_info': {'referent': 'Credentia of Possesion', 'attrs': {'possession': '', 'time': '01-03-2023, 12:35:32'}, 'schema_id': 'PQRXDxdGqQGSZ8z69p4xZP:2:possession schema:0.0.1', 'cred_def_id': 'PQRXDxdGqQGSZ8z69p4xZP:3:CL:14:default', 'rev_reg_id': None, 'cred_rev_id': None}, 'interval': None, 'presentation_referents': ['0_possession_uuid', '0_time_uuid']}]\n",
            "\n",
            "Generate the proof\n",
            "{'requested_predicates': {}, 'requested_attributes': {'0_possession_uuid': {'cred_id': 'Credentia of Possesion', 'revealed': True}, '0_time_uuid': {'cred_id': 'Credentia of Possesion', 'revealed': True}}, 'self_attested_attributes': {}}\n",
            "\n",
            "XXX\n",
            "{}\n",
            "{'0_possession_uuid': {'cred_id': 'Credentia of Possesion', 'revealed': True}, '0_time_uuid': {'cred_id': 'Credentia of Possesion', 'revealed': True}}\n",
            "{}\n"
          ]
        }
      ],
      "source": [
        "if state == \"request_received\":\n",
        "    print(\n",
        "    \"Received Request -> Query for credentials in the wallet that satisfy the proof request\")\n",
        "\n",
        "# include self-attested attributes (not included in credentials)\n",
        "credentials_by_reft = {}\n",
        "revealed = {}\n",
        "self_attested = {}\n",
        "predicates = {}\n",
        "\n",
        "# select credentials to provide for the proof\n",
        "credentials = await agent_controller.proofs.get_presentation_credentials(presentation_exchange_id)\n",
        "print(credentials)\n",
        "\n",
        "if credentials:\n",
        "    for row in sorted(\n",
        "        credentials,\n",
        "        key=lambda c: dict(c[\"cred_info\"][\"attrs\"]),\n",
        "        reverse=True,\n",
        "    ):\n",
        "        for referent in row[\"presentation_referents\"]:\n",
        "            if referent not in credentials_by_reft:\n",
        "                credentials_by_reft[referent] = row\n",
        "\n",
        "for referent in presentation_request[\"requested_attributes\"]:\n",
        "    if referent in credentials_by_reft:\n",
        "        revealed[referent] = {\n",
        "            \"cred_id\": credentials_by_reft[referent][\"cred_info\"][\n",
        "                \"referent\"\n",
        "            ],\n",
        "            \"revealed\": True,\n",
        "        }\n",
        "\n",
        "\n",
        "for referent in presentation_request[\"requested_predicates\"]:\n",
        "    if referent in credentials_by_reft:\n",
        "        predicates[referent] = {\n",
        "            \"cred_id\": credentials_by_reft[referent][\"cred_info\"][\n",
        "                \"referent\"\n",
        "            ]\n",
        "        }\n",
        "\n",
        "print(\"\\nGenerate the proof\")\n",
        "proof = {\n",
        "    \"requested_predicates\": predicates,\n",
        "    \"requested_attributes\": revealed,\n",
        "    \"self_attested_attributes\": self_attested,\n",
        "}\n",
        "print(proof)\n",
        "print(\"\\nXXX\")\n",
        "print(predicates)\n",
        "print(revealed)\n",
        "print(self_attested)"
      ]
    },
    {
      "cell_type": "code",
      "execution_count": 42,
      "id": "4b7cfe54",
      "metadata": {},
      "outputs": [
        {
          "name": "stdout",
          "output_type": "stream",
          "text": [
            "{'state': 'presentation_sent', 'trace': False, 'role': 'prover', 'updated_at': '2023-01-03 12:37:45.635257Z', 'initiator': 'external', 'presentation_request_dict': {'@type': 'did:sov:BzCbsNYhMrjHiqZDTUASHg;spec/present-proof/1.0/request-presentation', '@id': 'e8791044-eccd-4f6c-b1fa-ce46fb7955d7', 'request_presentations~attach': [{'@id': 'libindy-request-presentation-0', 'mime-type': 'application/json', 'data': {'base64': 'eyJuYW1lIjogIlByb29mIG9mIE93bmVyc2hpcCIsICJ2ZXJzaW9uIjogIjEuMCIsICJyZXF1ZXN0ZWRfYXR0cmlidXRlcyI6IHsiMF9wb3NzZXNzaW9uX3V1aWQiOiB7Im5hbWUiOiAicG9zc2Vzc2lvbiIsICJyZXN0cmljdGlvbnMiOiBbeyJpc3N1ZXJfZGlkIjogIlBRUlhEeGRHcVFHU1o4ejY5cDR4WlAifV19LCAiMF90aW1lX3V1aWQiOiB7Im5hbWUiOiAidGltZSIsICJyZXN0cmljdGlvbnMiOiBbeyJpc3N1ZXJfZGlkIjogIlBRUlhEeGRHcVFHU1o4ejY5cDR4WlAifV19fSwgInJlcXVlc3RlZF9wcmVkaWNhdGVzIjoge30sICJub25jZSI6ICIxMTcyNjkyMjE4ODUyOTIyNjAzNTc5MDE0In0='}}]}, 'thread_id': 'e8791044-eccd-4f6c-b1fa-ce46fb7955d7', 'presentation_exchange_id': '89655621-d1b5-4a39-a2b2-f109b81a0780', 'presentation': {'proof': {'proofs': [{'primary_proof': {'eq_proof': {'revealed_attrs': {'possession': '102987336249554097029535212322581322789799900648198034993379397001115665086549', 'time': '15154610127789307180073374407497684466430857047417102119930354925405544503067'}, 'a_prime': '97211340361338065332607246249739079878607492338692247649532440119352738758506962319073636367013769083097892415350654944340048857953693873584579049305900468033867582306045465991508788972122920878188254054442304044089583257015052890046132020475084342480255393188191272681146217515369841716953555182284886228654761659151785145096006966644823019850156339064853346743400605570117166129911697334360248127144930417384276812240819049347924827494989112128027754627052849497672023500278047405882704049834674916646274143852920764407677916437480128739025484030930263899052634665826529838829128433248151895924598469616479996860055', 'e': '144719741136662325411028339906276762580080949431044450198878672056756696809347993173550606021802092639674570828911465294465741400279499448', 'v': '311167115760126478266098423731362034039198907450245133071533227711079716852567071731624480469357555129353709966475558260595433905050118405218050069816646157520252194358057813573319181296476320495751785474459216990790131877472546756081593151913580743782069408746367161068838715401418333483733715147934473338731855890965322285711850896712017325705793180623227546301037105848984646344275666244992167661895259269174225071389943900315484196589570545201835851976940135898399133738168622745703489906270093626581314272387063350970811991767596862677069346173470331700560476282394722091834493642209336906242252244574859502043549715847228909280528049903392902781469859936842309638273611677021547104128903592610808121160796161183550975896462044810631659212899421201499344005399347741595798662085261522607996261454862800202391545500638811555276726870362077766412953524464464272642129642448608738725528823053817471252991976540394030193', 'm': {'master_secret': '10842281562312904818059210842621157067633172988962337113527512442475312392637264456705007720005862110780746510984925273368545689150481858344906813776593228487074736190395443484194'}, 'm2': '15757183251391998425983718158930319518985914277524236820316069213953205023353573723996235638401581988041675559042934256754372594454846935007340005041177166047748523197533052604629'}, 'ge_proofs': []}, 'non_revoc_proof': None}], 'aggregated_proof': {'c_hash': '38820832753860950059169303777002836293936066705974776381413134616722190013025', 'c_list': [[3, 2, 15, 232, 248, 245, 95, 49, 72, 85, 165, 179, 156, 210, 120, 8, 211, 247, 229, 54, 154, 115, 0, 143, 188, 212, 97, 175, 141, 37, 83, 23, 152, 119, 71, 173, 89, 129, 16, 70, 193, 192, 114, 139, 213, 201, 12, 147, 138, 94, 244, 46, 30, 90, 81, 84, 97, 112, 54, 146, 90, 94, 118, 22, 0, 226, 194, 19, 152, 46, 31, 171, 236, 54, 82, 206, 76, 94, 114, 178, 180, 21, 159, 228, 248, 146, 164, 18, 121, 19, 84, 139, 38, 104, 48, 5, 237, 36, 245, 239, 24, 96, 204, 130, 9, 118, 24, 14, 130, 63, 106, 166, 3, 156, 19, 151, 65, 81, 181, 125, 162, 213, 97, 27, 147, 195, 251, 80, 129, 215, 183, 212, 197, 69, 111, 219, 121, 180, 51, 172, 140, 196, 80, 203, 213, 81, 61, 167, 118, 230, 5, 102, 100, 169, 155, 170, 224, 62, 5, 214, 41, 158, 166, 17, 43, 235, 219, 13, 29, 28, 220, 83, 47, 69, 84, 168, 244, 2, 122, 101, 142, 27, 215, 47, 132, 204, 62, 9, 118, 140, 122, 252, 233, 178, 153, 21, 241, 30, 69, 209, 152, 7, 186, 149, 92, 10, 253, 248, 1, 38, 8, 218, 193, 71, 117, 95, 42, 124, 81, 206, 34, 68, 194, 176, 184, 156, 188, 196, 204, 245, 241, 239, 94, 91, 157, 129, 52, 53, 216, 237, 137, 116, 111, 219, 28, 211, 190, 104, 143, 170, 81, 145, 150, 146, 249, 214, 151]]}}, 'requested_proof': {'revealed_attrs': {'0_possession_uuid': {'sub_proof_index': 0, 'raw': '', 'encoded': '102987336249554097029535212322581322789799900648198034993379397001115665086549'}, '0_time_uuid': {'sub_proof_index': 0, 'raw': '01-03-2023, 12:35:32', 'encoded': '15154610127789307180073374407497684466430857047417102119930354925405544503067'}}, 'self_attested_attrs': {}, 'unrevealed_attrs': {}, 'predicates': {}}, 'identifiers': [{'schema_id': 'PQRXDxdGqQGSZ8z69p4xZP:2:possession schema:0.0.1', 'cred_def_id': 'PQRXDxdGqQGSZ8z69p4xZP:3:CL:14:default', 'rev_reg_id': None, 'timestamp': None}]}, 'connection_id': '37f5ab65-a1a6-439d-9933-f79b98b15ef9', 'created_at': '2023-01-03 12:36:33.518703Z', 'presentation_request': {'name': 'Proof of Ownership', 'version': '1.0', 'requested_attributes': {'0_possession_uuid': {'name': 'possession', 'restrictions': [{'issuer_did': 'PQRXDxdGqQGSZ8z69p4xZP'}]}, '0_time_uuid': {'name': 'time', 'restrictions': [{'issuer_did': 'PQRXDxdGqQGSZ8z69p4xZP'}]}}, 'requested_predicates': {}, 'nonce': '1172692218852922603579014'}}\n",
            "Handle present proof\n",
            "Role prover, Exchange 89655621-d1b5-4a39-a2b2-f109b81a0780 in state presentation_sent\n",
            "Handle present proof\n",
            "Role prover, Exchange 89655621-d1b5-4a39-a2b2-f109b81a0780 in state presentation_acked\n"
          ]
        }
      ],
      "source": [
        "response = await agent_controller.proofs.send_presentation(presentation_exchange_id, proof)\n",
        "print(response)"
      ]
    },
    {
      "cell_type": "markdown",
      "id": "8840d4bc",
      "metadata": {},
      "source": [
        "## 14. switch to MUSIC"
      ]
    },
    {
      "cell_type": "code",
      "execution_count": 43,
      "id": "8068a91c",
      "metadata": {},
      "outputs": [
        {
          "name": "stdout",
          "output_type": "stream",
          "text": [
            "None\n"
          ]
        }
      ],
      "source": [
        "response = await agent_controller.terminate()\n",
        "print(response)"
      ]
    },
    {
      "cell_type": "code",
      "execution_count": null,
      "id": "24b0a41b",
      "metadata": {},
      "outputs": [],
      "source": []
    }
  ],
  "metadata": {
    "kernelspec": {
      "display_name": "Python 3",
      "language": "python",
      "name": "python3"
    },
    "language_info": {
      "codemirror_mode": {
        "name": "ipython",
        "version": 3
      },
      "file_extension": ".py",
      "mimetype": "text/x-python",
      "name": "python",
      "nbconvert_exporter": "python",
      "pygments_lexer": "ipython3",
      "version": "3.10.7 (main, Sep 14 2022, 22:38:23) [Clang 14.0.0 (clang-1400.0.29.102)]"
    },
    "vscode": {
      "interpreter": {
        "hash": "b0fa6594d8f4cbf19f97940f81e996739fb7646882a419484c72d19e05852a7e"
      }
    }
  },
  "nbformat": 4,
  "nbformat_minor": 5
}
