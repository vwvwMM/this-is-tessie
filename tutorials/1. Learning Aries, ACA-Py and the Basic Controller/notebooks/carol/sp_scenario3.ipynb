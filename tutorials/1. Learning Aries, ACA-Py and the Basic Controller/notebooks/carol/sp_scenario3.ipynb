{
 "cells": [
  {
   "cell_type": "markdown",
   "id": "c40a86e4",
   "metadata": {},
   "source": [
    "# 二創 Scenario"
   ]
  },
  {
   "cell_type": "markdown",
   "id": "03fdcacb",
   "metadata": {},
   "source": [
    "## 1. Initialize agent"
   ]
  },
  {
   "cell_type": "code",
   "execution_count": 1,
   "id": "33b22f09",
   "metadata": {},
   "outputs": [
    {
     "name": "stdout",
     "output_type": "stream",
     "text": [
      "IPython autoawait is `on`, and set to use `asyncio`\n"
     ]
    }
   ],
   "source": [
    "%autoawait\n",
    "import time\n",
    "import asyncio\n",
    "from aries_basic_controller.aries_controller import AriesAgentController\n",
    "    \n",
    "WEBHOOK_HOST = \"0.0.0.0\"\n",
    "WEBHOOK_PORT = 8082\n",
    "WEBHOOK_BASE = \"\"\n",
    "ADMIN_URL = \"http://carol-agent:8081\"\n",
    "API_KEY = \"carol_api_123456789\"\n",
    "\n",
    "# Based on the aca-py agent you wish to control\n",
    "agent_controller = AriesAgentController(admin_url=ADMIN_URL, api_key=API_KEY)\n",
    "\n",
    "agent_controller.init_webhook_server(webhook_host=WEBHOOK_HOST, \n",
    "                                     webhook_port=WEBHOOK_PORT,\n",
    "                                     webhook_base=WEBHOOK_BASE)"
   ]
  },
  {
   "cell_type": "markdown",
   "id": "2f0fdc41",
   "metadata": {},
   "source": [
    "## 2. DM-SP did exchange "
   ]
  },
  {
   "cell_type": "markdown",
   "id": "2feb1711",
   "metadata": {},
   "source": [
    "### Build connection"
   ]
  },
  {
   "cell_type": "code",
   "execution_count": 2,
   "id": "405e4ef1",
   "metadata": {},
   "outputs": [
    {
     "name": "stdout",
     "output_type": "stream",
     "text": [
      "Subscribing too: connections\n"
     ]
    }
   ],
   "source": [
    "loop = asyncio.get_event_loop()\n",
    "loop.create_task(agent_controller.listen_webhooks())\n",
    "\n",
    "def connection_handler(payload):\n",
    "    print(\"Connection Handler Called\")\n",
    "    connection_id = payload[\"connection_id\"]\n",
    "    state = payload[\"state\"]\n",
    "    print(f\"Connection {connection_id} in State {state}\")\n",
    "    \n",
    "connection_listener = {\n",
    "    \"handler\": connection_handler,\n",
    "    \"topic\": \"connections\"\n",
    "}\n",
    "\n",
    "agent_controller.register_listeners([connection_listener], defaults=True)"
   ]
  },
  {
   "cell_type": "code",
   "execution_count": 3,
   "id": "fc3392d0",
   "metadata": {},
   "outputs": [],
   "source": [
    "##############\n",
    "# Invitation #\n",
    "##############\n",
    "\n",
    "invitation = {'@type': 'did:sov:BzCbsNYhMrjHiqZDTUASHg;spec/connections/1.0/invitation', '@id': '3eca5c09-a8df-4db3-8ca8-3c42e90e938a', 'label': 'Alice', 'recipientKeys': ['AuLKwuoT5PuDn8Qo4AeBH78eRzwGyBnq1xshmEbRPgGV'], 'serviceEndpoint': 'http://192.168.65.3:8020'}"
   ]
  },
  {
   "cell_type": "code",
   "execution_count": 4,
   "id": "6c2400fc",
   "metadata": {},
   "outputs": [
    {
     "name": "stdout",
     "output_type": "stream",
     "text": [
      "Connection Handler Called\n",
      "Connection 1fac8840-4a32-46b6-9c33-6da407bfc598 in State invitation\n",
      "Connection Handler Called\n",
      "Connection 1fac8840-4a32-46b6-9c33-6da407bfc598 in State request\n",
      "Connection {'connection_id': '1fac8840-4a32-46b6-9c33-6da407bfc598', 'my_did': '6pQ7V5XsZMfTHqYq3PTGzX', 'created_at': '2023-01-05 12:00:22.405815Z', 'their_label': 'Alice', 'invitation_mode': 'once', 'rfc23_state': 'request-sent', 'state': 'request', 'invitation_key': 'AuLKwuoT5PuDn8Qo4AeBH78eRzwGyBnq1xshmEbRPgGV', 'routing_state': 'none', 'their_role': 'inviter', 'accept': 'manual', 'request_id': '550ff564-baa9-4a04-b6c3-bc8a2da10f00', 'updated_at': '2023-01-05 12:00:22.480362Z'}\n",
      "Connection Handler Called\n",
      "Connection 1fac8840-4a32-46b6-9c33-6da407bfc598 in State response\n",
      "Connection Handler Called\n",
      "Connection 1fac8840-4a32-46b6-9c33-6da407bfc598 in State active\n"
     ]
    }
   ],
   "source": [
    "# Receive Invitation\n",
    "response = await agent_controller.connections.accept_connection(invitation)\n",
    "# Print out accepted Invite and Alice's connection ID\n",
    "print(\"Connection\", response)\n",
    "alice_id = response[\"connection_id\"]"
   ]
  },
  {
   "cell_type": "markdown",
   "id": "b7246694",
   "metadata": {},
   "source": [
    "### > Break here - switch to DM accept request <"
   ]
  },
  {
   "cell_type": "markdown",
   "id": "502403cc",
   "metadata": {},
   "source": [
    "### Send DID to DM"
   ]
  },
  {
   "cell_type": "code",
   "execution_count": 5,
   "id": "e56e81e5",
   "metadata": {},
   "outputs": [
    {
     "name": "stdout",
     "output_type": "stream",
     "text": [
      "Alice AGENT CONNECTION\n",
      "{'connection_id': '1fac8840-4a32-46b6-9c33-6da407bfc598', 'my_did': '6pQ7V5XsZMfTHqYq3PTGzX', 'created_at': '2023-01-05 12:00:22.405815Z', 'their_label': 'Alice', 'invitation_mode': 'once', 'rfc23_state': 'completed', 'state': 'active', 'their_did': 'EHZb7jPbXpTm7Jixc94kGz', 'invitation_key': 'AuLKwuoT5PuDn8Qo4AeBH78eRzwGyBnq1xshmEbRPgGV', 'routing_state': 'none', 'their_role': 'inviter', 'accept': 'manual', 'request_id': '550ff564-baa9-4a04-b6c3-bc8a2da10f00', 'updated_at': '2023-01-05 12:00:37.869352Z'}\n",
      "State: active\n",
      "1fac8840-4a32-46b6-9c33-6da407bfc598\n"
     ]
    }
   ],
   "source": [
    "# Print connection list\n",
    "connection = await agent_controller.connections.get_connection(alice_id)\n",
    "print(\"Alice AGENT CONNECTION\")\n",
    "print(connection)\n",
    "print(\"State:\", connection[\"state\"])\n",
    "dm_connection = connection[\"connection_id\"]\n",
    "print(dm_connection)"
   ]
  },
  {
   "cell_type": "code",
   "execution_count": 6,
   "id": "5c6cfd1d",
   "metadata": {},
   "outputs": [
    {
     "name": "stdout",
     "output_type": "stream",
     "text": [
      "my DID X8HWQruWXrv8s6BBLXm53B\n"
     ]
    }
   ],
   "source": [
    "my_did = await agent_controller.wallet.get_public_did()\n",
    "my_did = my_did['result']['did']\n",
    "print(\"my DID\", my_did)\n",
    "dm_did = 'None'"
   ]
  },
  {
   "cell_type": "code",
   "execution_count": 7,
   "id": "276f53e5",
   "metadata": {},
   "outputs": [
    {
     "name": "stdout",
     "output_type": "stream",
     "text": [
      "Subscribing too: basicmessages\n"
     ]
    },
    {
     "name": "stderr",
     "output_type": "stream",
     "text": [
      "WARNING:aries_webhook_server:Listening webhooks failed! OSError(98, \"error while attempting to bind on address ('0.0.0.0', 8082): address already in use\") occurred.\n"
     ]
    }
   ],
   "source": [
    "def messages_handler(payload):\n",
    "    global dm_did\n",
    "    connection_id = payload[\"connection_id\"]\n",
    "    print(\"Handle message\", payload, connection_id)\n",
    "    dm_did = payload['content']\n",
    "    print('DM DID', dm_did)\n",
    "\n",
    "\n",
    "message_listener = {\n",
    "    \"handler\": messages_handler,\n",
    "    \"topic\": \"basicmessages\"\n",
    "}\n",
    "\n",
    "loop = asyncio.get_event_loop()\n",
    "loop.create_task(agent_controller.listen_webhooks())\n",
    "\n",
    "agent_controller.register_listeners([message_listener], defaults=True)"
   ]
  },
  {
   "cell_type": "code",
   "execution_count": 8,
   "id": "399b3cb1",
   "metadata": {},
   "outputs": [
    {
     "name": "stdout",
     "output_type": "stream",
     "text": [
      "{}\n",
      "Handle message {'connection_id': '1fac8840-4a32-46b6-9c33-6da407bfc598', 'message_id': '66f87f11-7fca-490b-a37b-7705102007b7', 'content': 'PQRXDxdGqQGSZ8z69p4xZP', 'state': 'received'} 1fac8840-4a32-46b6-9c33-6da407bfc598\n",
      "DM DID PQRXDxdGqQGSZ8z69p4xZP\n"
     ]
    }
   ],
   "source": [
    "response = await agent_controller.messaging.send_message(dm_connection, 'sp_'+my_did)\n",
    "print(response)"
   ]
  },
  {
   "cell_type": "code",
   "execution_count": 9,
   "id": "09b66fdd",
   "metadata": {},
   "outputs": [
    {
     "name": "stdout",
     "output_type": "stream",
     "text": [
      "PQRXDxdGqQGSZ8z69p4xZP\n",
      "X8HWQruWXrv8s6BBLXm53B\n"
     ]
    }
   ],
   "source": [
    "print(dm_did)\n",
    "print(my_did)"
   ]
  },
  {
   "cell_type": "markdown",
   "id": "f62ddad7",
   "metadata": {},
   "source": [
    "## 3. Verify sp did"
   ]
  },
  {
   "cell_type": "markdown",
   "id": "e9518dc8",
   "metadata": {},
   "source": [
    "### Basic setup - listener and connection check"
   ]
  },
  {
   "cell_type": "code",
   "execution_count": null,
   "id": "fdd94e85",
   "metadata": {},
   "outputs": [],
   "source": [
    "loop = asyncio.get_event_loop()\n",
    "loop.create_task(agent_controller.listen_webhooks())\n",
    "\n",
    "def proof_handler(payload):\n",
    "    global presentation_exchange_id\n",
    "    print(\"Handle present proof\")\n",
    "    role = payload[\"role\"]\n",
    "    pres_ex_id = payload[\"presentation_exchange_id\"]\n",
    "    state = payload[\"state\"]\n",
    "    print(f\"Role {role}, Exchange {pres_ex_id} in state {state}\")\n",
    "    if state == \"presentation_received\":\n",
    "     \n",
    "        presentation_exchange_id = pres_ex_id \n",
    "        print(presentation_exchange_id)\n",
    "\n",
    "proof_listener = {\n",
    "    \"topic\": \"present_proof\",\n",
    "    \"handler\": proof_handler\n",
    "}\n",
    "agent_controller.register_listeners([proof_listener], defaults=True)\n"
   ]
  },
  {
   "cell_type": "code",
   "execution_count": null,
   "id": "e4b67533",
   "metadata": {},
   "outputs": [],
   "source": [
    "# Create Invitation\n",
    "invite = await agent_controller.connections.create_invitation()\n",
    "connection_id = invite[\"connection_id\"]\n",
    "invite_message = invite['invitation']\n",
    "print(\"Connection ID\", connection_id)\n",
    "print(\"#######################\")\n",
    "print(\"Invitation - Copy this!!\")\n",
    "print(invite_message)"
   ]
  },
  {
   "cell_type": "markdown",
   "id": "d271abf3",
   "metadata": {},
   "source": [
    "### > Break: Go to MUSIC to setup <"
   ]
  },
  {
   "cell_type": "code",
   "execution_count": null,
   "id": "4cc740c7",
   "metadata": {},
   "outputs": [],
   "source": [
    "# Accept Request for Invite created\n",
    "connection = await agent_controller.connections.accept_request(connection_id)\n",
    "print(\"ACCEPT REQUEST\")\n",
    "print(connection)\n",
    "print(\"state\", connection[\"state\"])"
   ]
  },
  {
   "cell_type": "code",
   "execution_count": null,
   "id": "a1c6c015",
   "metadata": {},
   "outputs": [],
   "source": [
    "trust_ping = await agent_controller.messaging.trust_ping(connection_id, \"hello\")\n",
    "print(\"Trust Ping\", trust_ping)"
   ]
  },
  {
   "cell_type": "code",
   "execution_count": null,
   "id": "5cc57dd1",
   "metadata": {},
   "outputs": [],
   "source": [
    "#####################\n",
    "# get MUSIC connection #\n",
    "#####################\n",
    "\n",
    "connection = await agent_controller.connections.get_connection(connection_id)\n",
    "print(connection)\n",
    "print(\"Is Active?\", connection[\"state\"])\n",
    "music_connection = connection[\"connection_id\"]\n",
    "print(music_connection)"
   ]
  },
  {
   "cell_type": "markdown",
   "id": "5bd1821f",
   "metadata": {},
   "source": [
    "### Send proof request"
   ]
  },
  {
   "cell_type": "code",
   "execution_count": null,
   "id": "d8931c36",
   "metadata": {},
   "outputs": [],
   "source": [
    "try:\n",
    "    response = await agent_controller.connections.get_connections()\n",
    "    results = response['results']\n",
    "    print(\"Results : \", results)\n",
    "    print('\\n')\n",
    "    if len(results) > 0:\n",
    "        connections = response['results']\n",
    "        print(\"Connection :\", connections)\n",
    "        for connection in connections:\n",
    "            if connection['state'] == 'active' and connection[\"their_label\"] == \"Bob\":\n",
    "                connection_id = connection[\"connection_id\"]\n",
    "                print(\"\\nActive Connection ID : \", connection_id)\n",
    "            else:\n",
    "                print(\"\\nNo active connection found - wait a bit and execute again\")\n",
    "    else:\n",
    "        print(\"You must create a connection\")\n",
    "except ConnectionRefusedError as e:\n",
    "    print(repr(e))"
   ]
  },
  {
   "cell_type": "code",
   "execution_count": null,
   "id": "6522f389",
   "metadata": {},
   "outputs": [],
   "source": [
    "response = await agent_controller.wallet.get_public_did()\n",
    "issuer_did = dm_did\n",
    "print(\"issuer: dm, has \", dm_did)\n",
    "\n",
    "print(\"Request proof of Name and Age range from Bob\")\n",
    "#Set some variables\n",
    "\n",
    "exchange_tracing = False\n",
    "\n",
    "#Enable this to ask for attributes to identity a user\n",
    "req_attrs = [\n",
    "    {\"name\": \"origin\", \"restrictions\": [{\"issuer_did\": issuer_did}]},\n",
    "    {\"name\": \"music\", \"restrictions\": [{\"issuer_did\": issuer_did}]},\n",
    "    {\"name\": \"owner\", \"restrictions\": [{\"issuer_did\": issuer_did}]},\n",
    "]\n",
    "# req_attrs = [\n",
    "#     {\"name\": \"origin\", \"restrictions\": [{\"issuer_did\": issuer_did, \"credential_proposal\": {\n",
    "#         \"attributes\": [{\"name\": \"music\", \"value\": \"XiUyVvSwqkU5JfbvFpjuCY\"}]\n",
    "#     }}]},\n",
    "#     {\"name\": \"music\", \"restrictions\": [{\"issuer_did\": issuer_did, \"credential_proposal\": {\n",
    "#         \"attributes\": [{\"name\": \"music\", \"value\": \"XiUyVvSwqkU5JfbvFpjuCY\"}]\n",
    "#     }}]},\n",
    "#     {\"name\": \"owner\", \"restrictions\": [{\"issuer_did\": issuer_did, \"credential_proposal\": {\n",
    "#         \"attributes\": [{\"name\": \"music\", \"value\": \"XiUyVvSwqkU5JfbvFpjuCY\"}]\n",
    "#     }}]},\n",
    "# ]\n",
    "\n",
    "\n",
    "#Set predicates for Zero Knowledge Proofs\n",
    "req_preds = []\n",
    "\n",
    "indy_proof_request = {\n",
    "    \"name\": \"Proof of Personal Information\",\n",
    "    \"version\": \"1.0\",\n",
    "    \"requested_attributes\": {\n",
    "        f\"0_{req_attr['name']}_uuid\":\n",
    "        req_attr for req_attr in req_attrs\n",
    "    },\n",
    "    \"requested_predicates\": {\n",
    "        f\"0_{req_pred['name']}_GE_uuid\":\n",
    "        req_pred for req_pred in req_preds\n",
    "    },\n",
    "}\n",
    "\n",
    "#proof_request = indy_proof_request\n",
    "exchange_tracing_id = exchange_tracing\n",
    "proof_request_web_request = {\n",
    "    \"connection_id\": connection_id,\n",
    "    \"proof_request\": indy_proof_request,\n",
    "    \"trace\": exchange_tracing,\n",
    "}"
   ]
  },
  {
   "cell_type": "code",
   "execution_count": null,
   "id": "fc544069",
   "metadata": {},
   "outputs": [],
   "source": [
    "response = await agent_controller.proofs.send_request(proof_request_web_request)\n",
    "print(response)\n",
    "# presentation_exchange_id = response['presentation_exchange_id']\n",
    "print(\"\\n\")\n",
    "# print(presentation_exchange_id)"
   ]
  },
  {
   "cell_type": "markdown",
   "id": "4cc8ccfa",
   "metadata": {},
   "source": [
    "### >Break: Finish sending proof, check MUSIC for the proof request!<"
   ]
  },
  {
   "cell_type": "markdown",
   "id": "1ce18843",
   "metadata": {},
   "source": [
    "### Verify the result back"
   ]
  },
  {
   "cell_type": "code",
   "execution_count": null,
   "id": "750e5763",
   "metadata": {},
   "outputs": [],
   "source": [
    "\n",
    "verify = await agent_controller.proofs.verify_presentation(presentation_exchange_id)\n",
    "\n",
    "print(verify)"
   ]
  },
  {
   "cell_type": "code",
   "execution_count": null,
   "id": "88d0e8bc",
   "metadata": {},
   "outputs": [],
   "source": [
    "origin_did = verify[\"presentation\"][\"requested_proof\"][\"revealed_attrs\"][\"0_origin_uuid\"][\"raw\"]\n",
    "print(\"Copy this to dm scenario3\")\n",
    "print(origin_did) # sign this to VC for recreation\n",
    "music_did = verify[\"presentation\"][\"requested_proof\"][\"revealed_attrs\"][\"0_music_uuid\"][\"raw\"]\n",
    "print(\"Copy this to dm scenario3\")\n",
    "print(music_did) # sign this to VC for recreation \n",
    "owner_did = verify[\"presentation\"][\"requested_proof\"][\"revealed_attrs\"][\"0_owner_uuid\"][\"raw\"]\n",
    "print(owner_did) # Find owner by this"
   ]
  },
  {
   "cell_type": "markdown",
   "id": "0eb9b7f3",
   "metadata": {},
   "source": [
    "## 4. Receive and store VC for recreation - SP is the Holder"
   ]
  },
  {
   "cell_type": "code",
   "execution_count": null,
   "id": "e623083f",
   "metadata": {},
   "outputs": [],
   "source": [
    "from datetime import datetime\n",
    "format = \"%Y-%m-%d %H:%M:%S.%fZ\"\n",
    "response = await agent_controller.issuer.get_records()\n",
    "results = response[\"results\"]\n",
    "results = list(filter(lambda r: r[\"state\"] == \"offer_received\", results))\n",
    "results = sorted(\n",
    "        results,\n",
    "        key=lambda c: datetime.strptime(c[\"created_at\"], format),\n",
    "        reverse=True,\n",
    "    )\n",
    "# print(results)\n",
    "if len(results) == 0:\n",
    "    print(\"You need to first send a credential from the issuer notebook (Alice)\")\n",
    "    \n",
    "else:\n",
    "    cred_record = results[0]\n",
    "    cred_ex_id = cred_record['credential_exchange_id']\n",
    "    state = cred_record['state']\n",
    "    role = cred_record['role']\n",
    "    attributes = results[0]['credential_proposal_dict']['credential_proposal']['attributes']\n",
    "    print(f\"Credential exchange {cred_ex_id}, role: {role}, state: {state}\")\n",
    "    print(f\"Being offered: {attributes}\")"
   ]
  },
  {
   "cell_type": "code",
   "execution_count": null,
   "id": "c78b1b23",
   "metadata": {},
   "outputs": [],
   "source": [
    "# Request credential from issuer\n",
    "record = await agent_controller.issuer.send_request_for_record(cred_ex_id)\n",
    "state = record['state']\n",
    "role = record['role']\n",
    "print(f\"Credential exchange {cred_ex_id}, role: {role}, state: {state}\")"
   ]
  },
  {
   "cell_type": "code",
   "execution_count": null,
   "id": "ffbaf6dd",
   "metadata": {},
   "outputs": [],
   "source": [
    "record = await agent_controller.issuer.get_record_by_id(cred_ex_id)\n",
    "state = record['state']\n",
    "role = record['role']\n",
    "print(f\"Credential exchange {cred_ex_id}, role: {role}, state: {state}\")"
   ]
  },
  {
   "cell_type": "code",
   "execution_count": null,
   "id": "375db010",
   "metadata": {},
   "outputs": [],
   "source": [
    "# Store credential\n",
    "response = await agent_controller.issuer.store_credential(cred_ex_id, \"Recreation Credential\")\n",
    "state = response['state']\n",
    "role = response['role']\n",
    "print(f\"Credential exchange {cred_ex_id}, role: {role}, state: {state}\")"
   ]
  },
  {
   "cell_type": "markdown",
   "id": "4a661aca",
   "metadata": {},
   "source": [
    "## 5. SP wants to save its recreation-artpiece on the platform - Needs to pass the VC check! - SP is the proofer"
   ]
  },
  {
   "cell_type": "markdown",
   "id": "f43f2680",
   "metadata": {},
   "source": [
    "### Issue a recreation"
   ]
  },
  {
   "cell_type": "code",
   "execution_count": null,
   "id": "cafee5c0",
   "metadata": {},
   "outputs": [],
   "source": [
    "# re-creator generate the song\n",
    "response = await agent_controller.wallet.create_did()\n",
    "print(response)\n",
    "music_did = response[\"result\"][\"did\"]\n",
    "verkey = response[\"result\"][\"verkey\"]\n",
    "\n",
    "# Define you schema name - must be unique on the ledger\n",
    "schema_name = \"ownership_schema\"\n",
    "# Can version the schema if you wish to update it\n",
    "schema_version = \"0.0.1\"\n",
    "# Define any list of attributes you wish to include in your schema\n",
    "attributes = [\"origin\", \"music\", \"time\", \"version\", \"author\", \"owner\"]\n",
    "\n",
    "# Write schema to ledger\n",
    "response = await agent_controller.schema.write_schema(schema_name, attributes, schema_version)\n",
    "schema_id = response[\"schema_id\"]\n",
    "print(schema_id)\n",
    "\n",
    "# Write cred. def.\n",
    "response = await agent_controller.definitions.write_cred_def(schema_id)\n",
    "cred_def_id = response[\"credential_definition_id\"]\n",
    "print(cred_def_id)"
   ]
  },
  {
   "cell_type": "code",
   "execution_count": null,
   "id": "379269a7",
   "metadata": {},
   "outputs": [],
   "source": [
    "nym = await agent_controller.wallet.get_public_did()\n",
    "print(nym[\"result\"][\"did\"])\n",
    "created_schema = await agent_controller.schema.get_created_schema(schema_issuer_did=nym[\"result\"][\"did\"])\n",
    "print(created_schema)\n",
    "schema_id = created_schema[\"schema_ids\"][-1]\n",
    "print(schema_id)"
   ]
  },
  {
   "cell_type": "code",
   "execution_count": null,
   "id": "c0a27c1f",
   "metadata": {},
   "outputs": [],
   "source": [
    "definitions = await agent_controller.definitions.search_created(schema_id=schema_id)\n",
    "print(definitions[\"credential_definition_ids\"])\n",
    "cred_def_id = definitions[\"credential_definition_ids\"][-1]"
   ]
  },
  {
   "cell_type": "code",
   "execution_count": null,
   "id": "c0c4608b",
   "metadata": {},
   "outputs": [],
   "source": [
    "response = await agent_controller.connections.get_connections()\n",
    "results = response['results']\n",
    "print(len(results))\n",
    "# print(\"Results : \", results)\n",
    "if len(results) > 0:\n",
    "    connection = response['results']\n",
    "    for con in connection:\n",
    "        print(\"Connection :\", con)\n",
    "        if con['state'] == 'active':       \n",
    "            connection_id = con[\"connection_id\"]\n",
    "            print(\"Active Connection ID : \", connection_id)\n",
    "        else: print(\"Inactive Connection ID: \", con[\"connection_id\"], \"with state: \", con[\"state\"])\n",
    "else:\n",
    "    print(\"You must create a connection\")"
   ]
  },
  {
   "cell_type": "code",
   "execution_count": null,
   "id": "60f18a8d",
   "metadata": {},
   "outputs": [],
   "source": [
    "import datetime\n",
    "time = datetime.datetime.now().strftime(\"%m-%d-%Y, %H:%M:%S\")\n",
    "response = await agent_controller.wallet.create_did()\n",
    "print(response)\n",
    "music_did = response[\"result\"][\"did\"]\n",
    "credential_attributes = [\n",
    "    {\"name\": \"author\", \"value\": nym[\"result\"][\"did\"]},\n",
    "    {\"name\": \"music\", \"value\": music_did},\n",
    "    {\"name\": \"time\", \"value\": time},\n",
    "    {\"name\": \"origin\", \"value\": origin_did},\n",
    "    {\"name\": \"owner\", \"value\": nym[\"result\"][\"did\"]},\n",
    "    {\"name\": \"version\", \"value\": \"v1\"}\n",
    "]\n",
    "print(credential_attributes)\n",
    "\n",
    "\n",
    "# send credential\n",
    "record = await agent_controller.issuer.send_credential(connection_id, schema_id, cred_def_id, credential_attributes, auto_remove=False, trace=True)\n",
    "record_id = record['credential_exchange_id']\n",
    "state = record['state']\n",
    "role = record['role']\n",
    "print(f\"Credential exchange {record_id}, role: {role}, state: {state}\")"
   ]
  },
  {
   "cell_type": "markdown",
   "id": "52a8e3fc",
   "metadata": {},
   "source": [
    "### Verify the Recreation-VC"
   ]
  },
  {
   "cell_type": "code",
   "execution_count": null,
   "id": "2b720b72",
   "metadata": {},
   "outputs": [],
   "source": [
    "# Song exists?\n",
    "credential_id = \"Recreation Credential\"\n",
    "credential = await agent_controller.credentials.get_by_id(credential_id)\n",
    "print(credential)"
   ]
  },
  {
   "cell_type": "code",
   "execution_count": null,
   "id": "9cbf2291",
   "metadata": {},
   "outputs": [],
   "source": [
    "from datetime import datetime\n",
    "response = await agent_controller.proofs.get_records()\n",
    "# print(response)\n",
    "\n",
    "format = \"%Y-%m-%d %H:%M:%S.%fZ\"\n",
    "\n",
    "\n",
    "response[\"results\"] = list(filter(lambda r: r[\"state\"] == \"request_received\", response[\"results\"]))\n",
    "response[\"results\"] = sorted(\n",
    "        response[\"results\"],\n",
    "        key=lambda c: datetime.strptime(c[\"created_at\"], format),\n",
    "        reverse=True,\n",
    "    )\n",
    "print('\\n')\n",
    "\n",
    "state = response['results'][-1][\"state\"]\n",
    "presentation_exchange_id = response['results'][-1]['presentation_exchange_id']\n",
    "presentation_request = response['results'][-1]['presentation_request']\n",
    "\n",
    "print('Presentation Exchange ID\\n')\n",
    "print(response['results'][-1]['presentation_exchange_id'])\n",
    "print('Presentation Request Object\\n')\n",
    "print(response['results'][-1]['presentation_request'])\n",
    "print('Requested Attributes\\n')\n",
    "print(response['results'][-1]['presentation_request']['requested_attributes'])\n",
    "requested_attribs = response['results'][0]['presentation_request']['requested_attributes']\n",
    "print('Requested Predicates\\n')\n",
    "print(response['results'][-1]['presentation_request']['requested_predicates'])\n",
    "requested_predicates = response['results'][0]['presentation_request']['requested_predicates']"
   ]
  },
  {
   "cell_type": "code",
   "execution_count": null,
   "id": "5a7c57e9",
   "metadata": {},
   "outputs": [],
   "source": [
    "if state == \"request_received\":\n",
    "    print(\n",
    "    \"Received Request -> Query for credentials in the wallet that satisfy the proof request\")\n",
    "\n",
    "# include self-attested attributes (not included in credentials)\n",
    "credentials_by_reft = {}\n",
    "revealed = {}\n",
    "self_attested = {}\n",
    "predicates = {}\n",
    "\n",
    "# select credentials to provide for the proof\n",
    "credentials = await agent_controller.proofs.get_presentation_credentials(presentation_exchange_id)\n",
    "\n",
    "credentials = list(filter(lambda credential: credential[\"cred_info\"][\"referent\"] == \"Recreation Credential\", credentials))\n",
    "print(credentials)\n",
    "\n",
    "\n",
    "if credentials:\n",
    "    for row in sorted(\n",
    "        credentials,\n",
    "        key=lambda c: dict(c[\"cred_info\"][\"attrs\"]),\n",
    "        reverse=True,\n",
    "    ):\n",
    "        for referent in row[\"presentation_referents\"]:\n",
    "            if referent not in credentials_by_reft:\n",
    "                credentials_by_reft[referent] = row\n",
    "\n",
    "for referent in presentation_request[\"requested_attributes\"]:\n",
    "    print(referent)\n",
    "    if referent in credentials_by_reft:\n",
    "        revealed[referent] = {\n",
    "            \"cred_id\": credentials_by_reft[referent][\"cred_info\"][\n",
    "                \"referent\"\n",
    "            ],\n",
    "            \"revealed\": True,\n",
    "        }\n",
    "    else:\n",
    "        self_attested[referent] = \"South Africa\"\n",
    "\n",
    "for referent in presentation_request[\"requested_predicates\"]:\n",
    "    if referent in credentials_by_reft:\n",
    "        predicates[referent] = {\n",
    "            \"cred_id\": credentials_by_reft[referent][\"cred_info\"][\n",
    "                \"referent\"\n",
    "            ]\n",
    "        }\n",
    "\n",
    "print(\"\\nGenerate the proof\")\n",
    "proof = {\n",
    "    \"requested_predicates\": predicates,\n",
    "    \"requested_attributes\": revealed,\n",
    "    \"self_attested_attributes\": self_attested,\n",
    "}\n",
    "print(proof)\n",
    "print(\"\\nXXX\")\n",
    "print(predicates)\n",
    "print(revealed)\n",
    "print(self_attested)"
   ]
  },
  {
   "cell_type": "markdown",
   "id": "d9f005f4",
   "metadata": {},
   "source": [
    "### Send proof back!"
   ]
  },
  {
   "cell_type": "code",
   "execution_count": null,
   "id": "2d122dc4",
   "metadata": {},
   "outputs": [],
   "source": [
    "response = await agent_controller.proofs.send_presentation(presentation_exchange_id, proof)\n",
    "print(response)"
   ]
  },
  {
   "cell_type": "markdown",
   "id": "d17ad8ae",
   "metadata": {},
   "source": [
    "### Wait for Credential Exchange"
   ]
  },
  {
   "cell_type": "code",
   "execution_count": null,
   "id": "d9ecd377",
   "metadata": {},
   "outputs": [],
   "source": [
    "response = await agent_controller.issuer.get_records()\n",
    "print(response['results'])\n",
    "cred_record = await agent_controller.issuer.get_record_by_id(record_id)\n",
    "state = cred_record['state']\n",
    "role = cred_record['role']\n",
    "print(f\"Credential exchange {record_id}, role: {role}, state: {state}\")"
   ]
  },
  {
   "cell_type": "code",
   "execution_count": null,
   "id": "405c8399",
   "metadata": {},
   "outputs": [],
   "source": [
    "## Remove records\n",
    "response = await agent_controller.issuer.remove_record(record_id)\n",
    "print(response)"
   ]
  },
  {
   "cell_type": "code",
   "execution_count": null,
   "id": "d3a38def",
   "metadata": {},
   "outputs": [],
   "source": []
  },
  {
   "cell_type": "markdown",
   "id": "26f0e6cf",
   "metadata": {},
   "source": [
    "# Terminate Agent"
   ]
  },
  {
   "cell_type": "code",
   "execution_count": null,
   "id": "fa080806",
   "metadata": {},
   "outputs": [],
   "source": [
    "response = await agent_controller.terminate()\n",
    "print(response)"
   ]
  },
  {
   "cell_type": "code",
   "execution_count": null,
   "id": "b7ee07ff",
   "metadata": {},
   "outputs": [],
   "source": []
  }
 ],
 "metadata": {
  "kernelspec": {
   "display_name": "Python 3 (ipykernel)",
   "language": "python",
   "name": "python3"
  },
  "language_info": {
   "codemirror_mode": {
    "name": "ipython",
    "version": 3
   },
   "file_extension": ".py",
   "mimetype": "text/x-python",
   "name": "python",
   "nbconvert_exporter": "python",
   "pygments_lexer": "ipython3",
   "version": "3.10.8"
  },
  "vscode": {
   "interpreter": {
    "hash": "b0fa6594d8f4cbf19f97940f81e996739fb7646882a419484c72d19e05852a7e"
   }
  }
 },
 "nbformat": 4,
 "nbformat_minor": 5
}
