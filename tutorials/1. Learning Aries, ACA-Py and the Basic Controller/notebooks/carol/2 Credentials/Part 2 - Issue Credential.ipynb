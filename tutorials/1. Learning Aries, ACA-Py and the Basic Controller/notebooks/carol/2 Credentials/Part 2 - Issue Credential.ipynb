{
 "cells": [
  {
   "cell_type": "markdown",
   "metadata": {},
   "source": [
    "# Issue Credential - Carol\n",
    "## Role: Holder\n",
    "\n",
    "### This tutorial runs through the issuer-api from the perspective of a holder. It should be run alongside the [issuer notebook](http://localhost:8888/lab/tree/2%20Credentials/Part%202%20-%20Issue%20Credential.ipynb) from Alice's perspective. \n",
    "\n",
    "\n",
    "If unfamiliar with the protocol it is worth reading through the [aries-rfs](https://github.com/hyperledger/aries-rfcs/tree/master/features/0036-issue-credential)"
   ]
  },
  {
   "cell_type": "markdown",
   "metadata": {},
   "source": [
    "## First complete steps 1-6 in the issuer notebook."
   ]
  },
  {
   "cell_type": "markdown",
   "metadata": {},
   "source": [
    "## 7. Initialise the Controller"
   ]
  },
  {
   "cell_type": "code",
   "execution_count": 12,
   "metadata": {},
   "outputs": [
    {
     "name": "stdout",
     "output_type": "stream",
     "text": [
      "IPython autoawait is `on`, and set to use `asyncio`\n"
     ]
    }
   ],
   "source": [
    "%autoawait\n",
    "import time\n",
    "import asyncio\n",
    "\n",
    "from aries_basic_controller.aries_controller import AriesAgentController\n",
    "    \n",
    "WEBHOOK_HOST = \"0.0.0.0\"\n",
    "WEBHOOK_PORT = 8082\n",
    "WEBHOOK_BASE = \"\"\n",
    "ADMIN_URL = \"http://carol-agent:8081\"\n",
    "API_KEY = \"carol_api_123456789\"\n",
    "\n",
    "\n",
    "agent_controller = AriesAgentController(admin_url=ADMIN_URL, api_key=API_KEY)"
   ]
  },
  {
   "cell_type": "code",
   "execution_count": 13,
   "metadata": {},
   "outputs": [],
   "source": [
    "agent_controller.init_webhook_server(webhook_host=WEBHOOK_HOST,\n",
    "                                     webhook_port=WEBHOOK_PORT,\n",
    "                                     webhook_base=WEBHOOK_BASE)"
   ]
  },
  {
   "cell_type": "markdown",
   "metadata": {},
   "source": [
    "## 8. Register listeners\n",
    "\n",
    "The handler should get called every time the controller receives a webhook with the topic issue_credential, printing out the payload. The agent calls to this webhook every time it receives an issue-credential protocol message from a credential."
   ]
  },
  {
   "cell_type": "code",
   "execution_count": 14,
   "metadata": {},
   "outputs": [
    {
     "name": "stdout",
     "output_type": "stream",
     "text": [
      "Subscribing too: issue_credential\n"
     ]
    }
   ],
   "source": [
    "loop = asyncio.get_event_loop()\n",
    "loop.create_task(agent_controller.listen_webhooks())\n",
    "def cred_handler(payload):\n",
    "    print(\"Handle Credentials\")\n",
    "    exchange_id = payload['credential_exchange_id']\n",
    "    state = payload['state']\n",
    "    role = payload['role']\n",
    "    attributes = payload['credential_proposal_dict']['credential_proposal']['attributes']\n",
    "    print(f\"Credential exchange {exchange_id}, role: {role}, state: {state}\")\n",
    "    print(f\"Attributes: {attributes}\")\n",
    "    \n",
    "cred_listener = {\n",
    "    \"topic\": \"issue_credential\",\n",
    "    \"handler\": cred_handler\n",
    "}\n",
    "agent_controller.register_listeners([cred_listener], defaults=True)"
   ]
  },
  {
   "cell_type": "markdown",
   "metadata": {},
   "source": [
    "## 9. Continue in the [Issuer](http://localhost:8888/lab/tree/2%20Credentials/Part%202%20-%20Issue%20Credential.ipynb) Notebook\n",
    "\n",
    "This sends the credential to the holder Bob and should be recognisable through the print statements from the above handler."
   ]
  },
  {
   "cell_type": "markdown",
   "metadata": {},
   "source": [
    "## 10. Check Credential Exchange Records\n",
    "\n",
    "The agent will have at least one record if you have run through the issuer notebook up until send credential."
   ]
  },
  {
   "cell_type": "code",
   "execution_count": 15,
   "metadata": {},
   "outputs": [
    {
     "name": "stdout",
     "output_type": "stream",
     "text": [
      "{'results': [{'auto_remove': True, 'schema_id': 'PQRXDxdGqQGSZ8z69p4xZP:2:chloebaba_schema:0.0.1', 'updated_at': '2023-01-02 07:22:51.447778Z', 'credential_offer': {'schema_id': 'PQRXDxdGqQGSZ8z69p4xZP:2:chloebaba_schema:0.0.1', 'cred_def_id': 'PQRXDxdGqQGSZ8z69p4xZP:3:CL:29:default', 'key_correctness_proof': {'c': '26061038285043942401771372234745453476866948947072369932444368421308209374035', 'xz_cap': '129998306516737812517248153139143322098471685910219220959531098825871709118415589481125927370175833054959562748724973549055246780803287695686618149296227963783299329448181466270170923058033890284225868808480467241850270917139977220127227054710184998167538963860737557101984438820542229227380443779370987830813322664715685735932895547828485798474111337485788944710591544846544216525406275077861325899220786204486794782872363228416320905404062448637271448754558025226162885966358092983924424053290867445016418125637304374490846521093996878135398904658697546949945240882518700229137533749907933659476784734650550779179625381358554712968255101102533920962651684466761820202282733876853458907953027', 'xr_cap': [['author', '275682883572854183769407566567577937679600724772722421209052148469588671456482449036225667001698385967309711949359335032971372728272366658104274532416377235351984204555000529851504409320284516280395903317490679199101865866484807850641577052404108478349632305109210778744862537394369940699175970864533045410569128794053280772022383484385797683904238362955818974159237693365314272910716939932552550547340282997158819585229769013066081563493466099214250381101081732847240901713983799706035967531417887960844533003771221514119086004390603089641116993735836949551790898066326503800390467449603218715032827050615698835072588618690243106649570388565591585051010832642637456794873029673097274351402012'], ['name', '21956168864184334972014261452332973046157344788557863677227969938143330865495173948493748478458641018089922891628810670273598507394232759753101361110081252447064320458645998407018505234776389169500935300608237537842735717647738524423252530452574225918451866090251699764132698181644295535674538329285813866993242692974984901884872746749641614173238573393143095792220745337542148819673335371396508560818310776795754236508143843480821647002739622004900144528781940488815303812422841354052443768978023495870181338611061178552627399337720270652176179546255422278215637245240809637958862088450345524050141239351260996873598555837906324890604445700458865951459591638229415509611433649969247189352746'], ['time', '378917121157748822275734388789392829342503849582293288785508988919152620561665713047006368551761626018107089287913220271319584248878622648526643215982109678643632065013113076433955752690899724169212541541501238829910275085496151872351859270686606975933219029146675169382545176445643654332917977389601631337054390038415059689480332825786540946341769365993220844883107608366648856288296877656800018053599928605815814115332080763043171552999731726057615364522451498948338977722399908455649319254645469176919441036164016515697045002550279814880656117396411676117312348905458313126601058893406571786205244629533321707598070425324233178089055882052068735141689083666108659921922853050435713292961500'], ['master_secret', '622564183448310755103564138611224080097856762208805597566013002423706029573339689789670224981536043448474003556657679977060774356173209419939616133248427266986581968104624099235467943985576964655186117123886138026726809458901536558528940486087435801248209315096784529904748929054999116791728902603103101149676403011145404190067437509226428242109160107856825608603450588002984785751589456324500610506953949014291241488103029020792756951491787222923783751589910966167643470816198330695343636346098033310704350540065145841435299201751572693779382127443262250625859032577380741770099602945110005840036573099798111074218153553931182300802180055507760562922185475357673675288442915852924318647628339'], ['is_original', '625485989314474017641215732547555472866201519297325531431012758547714423923367350084420949103262150095652651882451052429649599295123818404469170904812518433897077043658957408340911964324625774353007257023340402756397187605894067997337302207419124939475684693441975447688269402271467420546608822777280741866307153026527326009393745879931612570286286166008007283721301820279317293225787602717156588255930143732597464113188356998264584086061785603262046134912052101033980593477268633838721107751730922742754798805644213694577579822482988214348749543034178635749802381131113930000905771853202497507763808092352615930703230384429543443170108539468997350203911046048256308035638092253009004493171232']]}, 'nonce': '211924770315257684709761'}, 'auto_issue': False, 'thread_id': 'edb4130f-cc85-4b1f-8a88-c6a45feb2e11', 'credential_exchange_id': '1b707214-47c6-4ff7-97ca-1e0d2aa949c0', 'auto_offer': False, 'credential_definition_id': 'PQRXDxdGqQGSZ8z69p4xZP:3:CL:29:default', 'created_at': '2023-01-02 07:22:51.447778Z', 'trace': True, 'connection_id': 'd98eaf8a-7b8f-4a32-b230-cecf0fb691af', 'role': 'holder', 'credential_proposal_dict': {'@type': 'did:sov:BzCbsNYhMrjHiqZDTUASHg;spec/issue-credential/1.0/propose-credential', '@id': 'f4281c95-20a2-45d2-ad30-9a861c71d3d7', 'comment': 'create automated credential exchange', 'schema_id': 'PQRXDxdGqQGSZ8z69p4xZP:2:chloebaba_schema:0.0.1', 'cred_def_id': 'PQRXDxdGqQGSZ8z69p4xZP:3:CL:29:default', 'credential_proposal': {'@type': 'did:sov:BzCbsNYhMrjHiqZDTUASHg;spec/issue-credential/1.0/credential-preview', 'attributes': [{'name': 'author', 'value': 'Alice'}, {'name': 'name', 'value': 'researcher'}, {'name': 'time', 'value': '01-02-2023, 07:20:39'}, {'name': 'is_original', 'value': '1'}]}}, 'state': 'offer_received', 'initiator': 'external'}, {'auto_remove': True, 'schema_id': 'PQRXDxdGqQGSZ8z69p4xZP:2:chloebaba_schema:0.0.1', 'updated_at': '2023-01-02 07:25:14.934723Z', 'credential_offer': {'schema_id': 'PQRXDxdGqQGSZ8z69p4xZP:2:chloebaba_schema:0.0.1', 'cred_def_id': 'PQRXDxdGqQGSZ8z69p4xZP:3:CL:29:default', 'key_correctness_proof': {'c': '26061038285043942401771372234745453476866948947072369932444368421308209374035', 'xz_cap': '129998306516737812517248153139143322098471685910219220959531098825871709118415589481125927370175833054959562748724973549055246780803287695686618149296227963783299329448181466270170923058033890284225868808480467241850270917139977220127227054710184998167538963860737557101984438820542229227380443779370987830813322664715685735932895547828485798474111337485788944710591544846544216525406275077861325899220786204486794782872363228416320905404062448637271448754558025226162885966358092983924424053290867445016418125637304374490846521093996878135398904658697546949945240882518700229137533749907933659476784734650550779179625381358554712968255101102533920962651684466761820202282733876853458907953027', 'xr_cap': [['author', '275682883572854183769407566567577937679600724772722421209052148469588671456482449036225667001698385967309711949359335032971372728272366658104274532416377235351984204555000529851504409320284516280395903317490679199101865866484807850641577052404108478349632305109210778744862537394369940699175970864533045410569128794053280772022383484385797683904238362955818974159237693365314272910716939932552550547340282997158819585229769013066081563493466099214250381101081732847240901713983799706035967531417887960844533003771221514119086004390603089641116993735836949551790898066326503800390467449603218715032827050615698835072588618690243106649570388565591585051010832642637456794873029673097274351402012'], ['name', '21956168864184334972014261452332973046157344788557863677227969938143330865495173948493748478458641018089922891628810670273598507394232759753101361110081252447064320458645998407018505234776389169500935300608237537842735717647738524423252530452574225918451866090251699764132698181644295535674538329285813866993242692974984901884872746749641614173238573393143095792220745337542148819673335371396508560818310776795754236508143843480821647002739622004900144528781940488815303812422841354052443768978023495870181338611061178552627399337720270652176179546255422278215637245240809637958862088450345524050141239351260996873598555837906324890604445700458865951459591638229415509611433649969247189352746'], ['time', '378917121157748822275734388789392829342503849582293288785508988919152620561665713047006368551761626018107089287913220271319584248878622648526643215982109678643632065013113076433955752690899724169212541541501238829910275085496151872351859270686606975933219029146675169382545176445643654332917977389601631337054390038415059689480332825786540946341769365993220844883107608366648856288296877656800018053599928605815814115332080763043171552999731726057615364522451498948338977722399908455649319254645469176919441036164016515697045002550279814880656117396411676117312348905458313126601058893406571786205244629533321707598070425324233178089055882052068735141689083666108659921922853050435713292961500'], ['master_secret', '622564183448310755103564138611224080097856762208805597566013002423706029573339689789670224981536043448474003556657679977060774356173209419939616133248427266986581968104624099235467943985576964655186117123886138026726809458901536558528940486087435801248209315096784529904748929054999116791728902603103101149676403011145404190067437509226428242109160107856825608603450588002984785751589456324500610506953949014291241488103029020792756951491787222923783751589910966167643470816198330695343636346098033310704350540065145841435299201751572693779382127443262250625859032577380741770099602945110005840036573099798111074218153553931182300802180055507760562922185475357673675288442915852924318647628339'], ['is_original', '625485989314474017641215732547555472866201519297325531431012758547714423923367350084420949103262150095652651882451052429649599295123818404469170904812518433897077043658957408340911964324625774353007257023340402756397187605894067997337302207419124939475684693441975447688269402271467420546608822777280741866307153026527326009393745879931612570286286166008007283721301820279317293225787602717156588255930143732597464113188356998264584086061785603262046134912052101033980593477268633838721107751730922742754798805644213694577579822482988214348749543034178635749802381131113930000905771853202497507763808092352615930703230384429543443170108539468997350203911046048256308035638092253009004493171232']]}, 'nonce': '211924770315257684709761'}, 'auto_issue': False, 'thread_id': 'ee2a42b9-3515-4156-bb4e-b94a02cd964a', 'credential_exchange_id': '48470807-bd03-4d7b-a067-dd1fe95443e0', 'auto_offer': False, 'credential_definition_id': 'PQRXDxdGqQGSZ8z69p4xZP:3:CL:29:default', 'created_at': '2023-01-02 07:25:14.934723Z', 'trace': True, 'connection_id': 'd98eaf8a-7b8f-4a32-b230-cecf0fb691af', 'role': 'holder', 'credential_proposal_dict': {'@type': 'did:sov:BzCbsNYhMrjHiqZDTUASHg;spec/issue-credential/1.0/propose-credential', '@id': '7e8543f6-30b5-4bd0-808b-eee02bf37525', 'comment': 'create automated credential exchange', 'schema_id': 'PQRXDxdGqQGSZ8z69p4xZP:2:chloebaba_schema:0.0.1', 'cred_def_id': 'PQRXDxdGqQGSZ8z69p4xZP:3:CL:29:default', 'credential_proposal': {'@type': 'did:sov:BzCbsNYhMrjHiqZDTUASHg;spec/issue-credential/1.0/credential-preview', 'attributes': [{'name': 'author', 'value': 'Alice'}, {'name': 'name', 'value': 'researcher'}, {'name': 'time', 'value': '01-02-2023, 07:20:39'}, {'name': 'is_original', 'value': '1'}]}}, 'state': 'offer_received', 'initiator': 'external'}]}\n"
     ]
    }
   ],
   "source": [
    "response = await agent_controller.issuer.get_records()\n",
    "print(response)"
   ]
  },
  {
   "cell_type": "code",
   "execution_count": 16,
   "metadata": {},
   "outputs": [
    {
     "name": "stdout",
     "output_type": "stream",
     "text": [
      "Credential exchange 1b707214-47c6-4ff7-97ca-1e0d2aa949c0, role: holder, state: offer_received\n",
      "Being offered: [{'name': 'author', 'value': 'Alice'}, {'name': 'name', 'value': 'researcher'}, {'name': 'time', 'value': '01-02-2023, 07:20:39'}, {'name': 'is_original', 'value': '1'}]\n"
     ]
    }
   ],
   "source": [
    "response = await agent_controller.issuer.get_records()\n",
    "results = response[\"results\"]\n",
    "if len(results) == 0:\n",
    "    print(\"You need to first send a credential from the issuer notebook (Alice)\")\n",
    "else:\n",
    "    cred_record = results[0]\n",
    "    cred_ex_id = cred_record['credential_exchange_id']\n",
    "    state = cred_record['state']\n",
    "    role = cred_record['role']\n",
    "    attributes = results[0]['credential_proposal_dict']['credential_proposal']['attributes']\n",
    "    print(f\"Credential exchange {cred_ex_id}, role: {role}, state: {state}\")\n",
    "    print(f\"Being offered: {attributes}\")\n"
   ]
  },
  {
   "cell_type": "markdown",
   "metadata": {},
   "source": [
    "## 11. Request Credential from Issuer\n",
    "\n",
    "If happy with the attributes being offered in the credential, then the holder requests the credential from the issuer to proceed with the issuance.\n",
    "\n",
    "It is only possible to request a credential from an exchange when it is in the offer_received state"
   ]
  },
  {
   "cell_type": "code",
   "execution_count": 17,
   "metadata": {},
   "outputs": [
    {
     "name": "stdout",
     "output_type": "stream",
     "text": [
      "Credential exchange 1b707214-47c6-4ff7-97ca-1e0d2aa949c0, role: holder, state: request_sent\n",
      "Handle Credentials\n",
      "Credential exchange 1b707214-47c6-4ff7-97ca-1e0d2aa949c0, role: holder, state: request_sent\n",
      "Attributes: [{'name': 'author', 'value': 'Alice'}, {'name': 'name', 'value': 'researcher'}, {'name': 'time', 'value': '01-02-2023, 07:20:39'}, {'name': 'is_original', 'value': '1'}]\n",
      "Handle Credentials\n",
      "Credential exchange 1b707214-47c6-4ff7-97ca-1e0d2aa949c0, role: holder, state: credential_received\n",
      "Attributes: [{'name': 'author', 'value': 'Alice'}, {'name': 'name', 'value': 'researcher'}, {'name': 'time', 'value': '01-02-2023, 07:20:39'}, {'name': 'is_original', 'value': '1'}]\n"
     ]
    }
   ],
   "source": [
    "record = await agent_controller.issuer.send_request_for_record(cred_ex_id)\n",
    "state = record['state']\n",
    "role = record['role']\n",
    "print(f\"Credential exchange {cred_ex_id}, role: {role}, state: {state}\")"
   ]
  },
  {
   "cell_type": "markdown",
   "metadata": {},
   "source": [
    "## 12. Store the credential\n",
    "\n",
    "Once the issuer has responded to a request by sending the credential, the holder needs to store it to save the credential for later.\n",
    "\n",
    "First check that the credential record is in the credential_received state"
   ]
  },
  {
   "cell_type": "code",
   "execution_count": 18,
   "metadata": {},
   "outputs": [
    {
     "name": "stdout",
     "output_type": "stream",
     "text": [
      "Credential exchange 1b707214-47c6-4ff7-97ca-1e0d2aa949c0, role: holder, state: credential_received\n"
     ]
    }
   ],
   "source": [
    "record = await agent_controller.issuer.get_record_by_id(cred_ex_id)\n",
    "state = record['state']\n",
    "role = record['role']\n",
    "print(f\"Credential exchange {cred_ex_id}, role: {role}, state: {state}\")"
   ]
  },
  {
   "cell_type": "code",
   "execution_count": 19,
   "metadata": {},
   "outputs": [
    {
     "name": "stdout",
     "output_type": "stream",
     "text": [
      "Handle Credentials\n",
      "Credential exchange 1b707214-47c6-4ff7-97ca-1e0d2aa949c0, role: holder, state: credential_acked\n",
      "Attributes: [{'name': 'author', 'value': 'Alice'}, {'name': 'name', 'value': 'researcher'}, {'name': 'time', 'value': '01-02-2023, 07:20:39'}, {'name': 'is_original', 'value': '1'}]\n",
      "Credential exchange 1b707214-47c6-4ff7-97ca-1e0d2aa949c0, role: holder, state: credential_acked\n"
     ]
    }
   ],
   "source": [
    "response = await agent_controller.issuer.store_credential(cred_ex_id, \"Creator's Credential\")\n",
    "state = response['state']\n",
    "role = response['role']\n",
    "print(f\"Credential exchange {cred_ex_id}, role: {role}, state: {state}\")"
   ]
  },
  {
   "cell_type": "markdown",
   "metadata": {},
   "source": [
    "## Not Included\n",
    "\n",
    "* Propose Credential: Allows holder to propose an alternative credential that it wishes the issuer to issue. Most likely used when negotiating the values within the credential or if the holder spots an error in current issued credential. **Note: this generates a new credential exchange id.**\n",
    "\n"
   ]
  },
  {
   "cell_type": "markdown",
   "metadata": {},
   "source": [
    "## End of Tutorial\n",
    "\n",
    "Be sure to terminate the controller so you can run another tutorial."
   ]
  },
  {
   "cell_type": "code",
   "execution_count": 20,
   "metadata": {},
   "outputs": [],
   "source": [
    "response = await agent_controller.terminate()\n"
   ]
  },
  {
   "cell_type": "code",
   "execution_count": null,
   "metadata": {},
   "outputs": [],
   "source": []
  }
 ],
 "metadata": {
  "kernelspec": {
   "display_name": "Python 3 (ipykernel)",
   "language": "python",
   "name": "python3"
  },
  "language_info": {
   "codemirror_mode": {
    "name": "ipython",
    "version": 3
   },
   "file_extension": ".py",
   "mimetype": "text/x-python",
   "name": "python",
   "nbconvert_exporter": "python",
   "pygments_lexer": "ipython3",
   "version": "3.10.8"
  }
 },
 "nbformat": 4,
 "nbformat_minor": 4
}
