{
 "cells": [
  {
   "cell_type": "markdown",
   "metadata": {},
   "source": [
    "# Writing a Public DID to the Sovrin StagingNet\n",
    "\n",
    "### This notebook walks through how to connect an Aca-Py agent to a live Indy network. In our example we will be connecting to the Sovrin Stagingnet. To view details about Sovrin Stagingnet transactions please visit [Indyscan](https://indyscan.io/home/SOVRIN_STAGINGNET)."
   ]
  },
  {
   "cell_type": "markdown",
   "metadata": {},
   "source": [
    "## 1. Initialise a controller for Issuer Agent"
   ]
  },
  {
   "cell_type": "code",
   "execution_count": 1,
   "metadata": {},
   "outputs": [
    {
     "name": "stdout",
     "output_type": "stream",
     "text": [
      "IPython autoawait is `on`, and set to use `asyncio`\n"
     ]
    }
   ],
   "source": [
    "%autoawait\n",
    "import time\n",
    "import asyncio\n",
    "from aries_basic_controller.aries_controller import AriesAgentController\n",
    "    \n",
    "WEBHOOK_HOST = \"0.0.0.0\"\n",
    "WEBHOOK_BASE = \"\"\n",
    "\n",
    "WEBHOOK_PORT = 8022\n",
    "ADMIN_URL = \"http://issuer-agent:8021\"\n",
    "\n",
    "# Based on the aca-py agent you wish to control\n",
    "agent_controller = AriesAgentController(admin_url=ADMIN_URL)"
   ]
  },
  {
   "cell_type": "code",
   "execution_count": 2,
   "metadata": {},
   "outputs": [],
   "source": [
    "agent_controller.init_webhook_server(webhook_host=WEBHOOK_HOST,\n",
    "                                     webhook_port=WEBHOOK_PORT,\n",
    "                                     webhook_base=WEBHOOK_BASE)"
   ]
  },
  {
   "cell_type": "markdown",
   "metadata": {},
   "source": [
    "## 2. Get current public DID\n",
    "\n",
    "Before being able to write to any indy based ledger, your agent must have a public DID written on the ledger giving it the authority to write to it. As the cell below shows, this agent does not currently have a public DID. So any writes to the ledger will be rejected."
   ]
  },
  {
   "cell_type": "code",
   "execution_count": 3,
   "metadata": {},
   "outputs": [
    {
     "name": "stdout",
     "output_type": "stream",
     "text": [
      "{'result': {'did': '8o3GCSueozeXxMNR1LzewV', 'verkey': '5FNqx34hv3dwUzBKLmJ6UfPMmzqYfV12gBPgzMySx5bv', 'posture': 'public'}}\n"
     ]
    }
   ],
   "source": [
    "response = await agent_controller.wallet.get_public_did()\n",
    "print(response)"
   ]
  },
  {
   "cell_type": "markdown",
   "metadata": {},
   "source": [
    "### THIS WILL FAIL"
   ]
  },
  {
   "cell_type": "code",
   "execution_count": 4,
   "metadata": {},
   "outputs": [
    {
     "ename": "ClientResponseError",
     "evalue": "400, message='Cannot publish credential definition without a public DID', url=URL('http://issuer-agent:8021/credential-definitions')",
     "output_type": "error",
     "traceback": [
      "\u001b[0;31m---------------------------------------------------------------------------\u001b[0m",
      "\u001b[0;31mClientResponseError\u001b[0m                       Traceback (most recent call last)",
      "Cell \u001b[0;32mIn[4], line 2\u001b[0m\n\u001b[1;32m      1\u001b[0m schema_id \u001b[38;5;241m=\u001b[39m \u001b[38;5;124m'\u001b[39m\u001b[38;5;124mMGgoJXWbeupKsaHDa7s4fW:2:testabc:0.0.1\u001b[39m\u001b[38;5;124m'\u001b[39m\n\u001b[0;32m----> 2\u001b[0m response \u001b[38;5;241m=\u001b[39m \u001b[38;5;28;01mawait\u001b[39;00m agent_controller\u001b[38;5;241m.\u001b[39mdefinitions\u001b[38;5;241m.\u001b[39mwrite_cred_def(schema_id)\n",
      "File \u001b[0;32m/aries_basic_controller/controllers/definitions.py:24\u001b[0m, in \u001b[0;36mDefinitionsController.write_cred_def\u001b[0;34m(self, schema_id, tag, support_revocation)\u001b[0m\n\u001b[1;32m     16\u001b[0m \u001b[38;5;28;01masync\u001b[39;00m \u001b[38;5;28;01mdef\u001b[39;00m \u001b[38;5;21mwrite_cred_def\u001b[39m(\u001b[38;5;28mself\u001b[39m, schema_id, tag: \u001b[38;5;28mstr\u001b[39m \u001b[38;5;241m=\u001b[39m \u001b[38;5;124m\"\u001b[39m\u001b[38;5;124mdefault\u001b[39m\u001b[38;5;124m\"\u001b[39m, support_revocation: \u001b[38;5;28mbool\u001b[39m \u001b[38;5;241m=\u001b[39m \u001b[38;5;28;01mFalse\u001b[39;00m):\n\u001b[1;32m     18\u001b[0m     body \u001b[38;5;241m=\u001b[39m {\n\u001b[1;32m     19\u001b[0m         \u001b[38;5;124m\"\u001b[39m\u001b[38;5;124mschema_id\u001b[39m\u001b[38;5;124m\"\u001b[39m: schema_id,\n\u001b[1;32m     20\u001b[0m         \u001b[38;5;124m\"\u001b[39m\u001b[38;5;124mtag\u001b[39m\u001b[38;5;124m\"\u001b[39m: tag,\n\u001b[1;32m     21\u001b[0m         \u001b[38;5;124m\"\u001b[39m\u001b[38;5;124msupport_revocation\u001b[39m\u001b[38;5;124m\"\u001b[39m: support_revocation\n\u001b[1;32m     22\u001b[0m     }\n\u001b[0;32m---> 24\u001b[0m     \u001b[38;5;28;01mreturn\u001b[39;00m \u001b[38;5;28;01mawait\u001b[39;00m \u001b[38;5;28mself\u001b[39m\u001b[38;5;241m.\u001b[39madmin_POST(\u001b[38;5;124mf\u001b[39m\u001b[38;5;124m\"\u001b[39m\u001b[38;5;132;01m{\u001b[39;00m\u001b[38;5;28mself\u001b[39m\u001b[38;5;241m.\u001b[39mbase_url\u001b[38;5;132;01m}\u001b[39;00m\u001b[38;5;124m\"\u001b[39m, body)\n",
      "File \u001b[0;32m/aries_basic_controller/controllers/base.py:95\u001b[0m, in \u001b[0;36mBaseController.admin_POST\u001b[0;34m(self, path, json_data, text, params, data)\u001b[0m\n\u001b[1;32m     89\u001b[0m \u001b[38;5;28;01mtry\u001b[39;00m:\n\u001b[1;32m     90\u001b[0m     EVENT_LOGGER\u001b[38;5;241m.\u001b[39mdebug(\n\u001b[1;32m     91\u001b[0m         \u001b[38;5;124m\"\u001b[39m\u001b[38;5;124mController POST \u001b[39m\u001b[38;5;132;01m%s\u001b[39;00m\u001b[38;5;124m request to Agent\u001b[39m\u001b[38;5;132;01m%s\u001b[39;00m\u001b[38;5;124m\"\u001b[39m,\n\u001b[1;32m     92\u001b[0m         path,\n\u001b[1;32m     93\u001b[0m         (\u001b[38;5;124m\"\u001b[39m\u001b[38;5;124m with data: \u001b[39m\u001b[38;5;130;01m\\n\u001b[39;00m\u001b[38;5;132;01m{}\u001b[39;00m\u001b[38;5;124m\"\u001b[39m\u001b[38;5;241m.\u001b[39mformat(repr_json(json_data)) \u001b[38;5;28;01mif\u001b[39;00m json_data \u001b[38;5;28;01melse\u001b[39;00m \u001b[38;5;124m\"\u001b[39m\u001b[38;5;124m\"\u001b[39m),\n\u001b[1;32m     94\u001b[0m     )\n\u001b[0;32m---> 95\u001b[0m     response \u001b[38;5;241m=\u001b[39m \u001b[38;5;28;01mawait\u001b[39;00m \u001b[38;5;28mself\u001b[39m\u001b[38;5;241m.\u001b[39madmin_request(\u001b[38;5;124m\"\u001b[39m\u001b[38;5;124mPOST\u001b[39m\u001b[38;5;124m\"\u001b[39m, path, json_data, text, params, data)\n\u001b[1;32m     96\u001b[0m     EVENT_LOGGER\u001b[38;5;241m.\u001b[39mdebug(\n\u001b[1;32m     97\u001b[0m         \u001b[38;5;124m\"\u001b[39m\u001b[38;5;124mResponse from POST \u001b[39m\u001b[38;5;132;01m%s\u001b[39;00m\u001b[38;5;124m received: \u001b[39m\u001b[38;5;130;01m\\n\u001b[39;00m\u001b[38;5;132;01m%s\u001b[39;00m\u001b[38;5;124m\"\u001b[39m,\n\u001b[1;32m     98\u001b[0m         path,\n\u001b[1;32m     99\u001b[0m         repr_json(response),\n\u001b[1;32m    100\u001b[0m     )\n\u001b[1;32m    101\u001b[0m     \u001b[38;5;28;01mreturn\u001b[39;00m response\n",
      "File \u001b[0;32m/aries_basic_controller/controllers/base.py:63\u001b[0m, in \u001b[0;36mBaseController.admin_request\u001b[0;34m(self, method, path, json_data, text, params, data)\u001b[0m\n\u001b[1;32m     59\u001b[0m params \u001b[38;5;241m=\u001b[39m {k: v \u001b[38;5;28;01mfor\u001b[39;00m (k, v) \u001b[38;5;129;01min\u001b[39;00m (params \u001b[38;5;129;01mor\u001b[39;00m {})\u001b[38;5;241m.\u001b[39mitems() \u001b[38;5;28;01mif\u001b[39;00m v \u001b[38;5;129;01mis\u001b[39;00m \u001b[38;5;129;01mnot\u001b[39;00m \u001b[38;5;28;01mNone\u001b[39;00m}\n\u001b[1;32m     60\u001b[0m \u001b[38;5;28;01masync\u001b[39;00m \u001b[38;5;28;01mwith\u001b[39;00m \u001b[38;5;28mself\u001b[39m\u001b[38;5;241m.\u001b[39mclient_session\u001b[38;5;241m.\u001b[39mrequest(\n\u001b[1;32m     61\u001b[0m     method, \u001b[38;5;28mself\u001b[39m\u001b[38;5;241m.\u001b[39madmin_url \u001b[38;5;241m+\u001b[39m path, json\u001b[38;5;241m=\u001b[39mjson_data, params\u001b[38;5;241m=\u001b[39mparams, data\u001b[38;5;241m=\u001b[39mdata\n\u001b[1;32m     62\u001b[0m ) \u001b[38;5;28;01mas\u001b[39;00m resp:\n\u001b[0;32m---> 63\u001b[0m     \u001b[43mresp\u001b[49m\u001b[38;5;241;43m.\u001b[39;49m\u001b[43mraise_for_status\u001b[49m\u001b[43m(\u001b[49m\u001b[43m)\u001b[49m\n\u001b[1;32m     64\u001b[0m     resp_text \u001b[38;5;241m=\u001b[39m \u001b[38;5;28;01mawait\u001b[39;00m resp\u001b[38;5;241m.\u001b[39mtext()\n\u001b[1;32m     65\u001b[0m     \u001b[38;5;28;01mif\u001b[39;00m \u001b[38;5;129;01mnot\u001b[39;00m resp_text \u001b[38;5;129;01mand\u001b[39;00m \u001b[38;5;129;01mnot\u001b[39;00m text:\n",
      "File \u001b[0;32m/opt/conda/lib/python3.10/site-packages/aiohttp/client_reqrep.py:1000\u001b[0m, in \u001b[0;36mClientResponse.raise_for_status\u001b[0;34m(self)\u001b[0m\n\u001b[1;32m    998\u001b[0m \u001b[38;5;28;01massert\u001b[39;00m \u001b[38;5;28mself\u001b[39m\u001b[38;5;241m.\u001b[39mreason \u001b[38;5;129;01mis\u001b[39;00m \u001b[38;5;129;01mnot\u001b[39;00m \u001b[38;5;28;01mNone\u001b[39;00m\n\u001b[1;32m    999\u001b[0m \u001b[38;5;28mself\u001b[39m\u001b[38;5;241m.\u001b[39mrelease()\n\u001b[0;32m-> 1000\u001b[0m \u001b[38;5;28;01mraise\u001b[39;00m ClientResponseError(\n\u001b[1;32m   1001\u001b[0m     \u001b[38;5;28mself\u001b[39m\u001b[38;5;241m.\u001b[39mrequest_info,\n\u001b[1;32m   1002\u001b[0m     \u001b[38;5;28mself\u001b[39m\u001b[38;5;241m.\u001b[39mhistory,\n\u001b[1;32m   1003\u001b[0m     status\u001b[38;5;241m=\u001b[39m\u001b[38;5;28mself\u001b[39m\u001b[38;5;241m.\u001b[39mstatus,\n\u001b[1;32m   1004\u001b[0m     message\u001b[38;5;241m=\u001b[39m\u001b[38;5;28mself\u001b[39m\u001b[38;5;241m.\u001b[39mreason,\n\u001b[1;32m   1005\u001b[0m     headers\u001b[38;5;241m=\u001b[39m\u001b[38;5;28mself\u001b[39m\u001b[38;5;241m.\u001b[39mheaders,\n\u001b[1;32m   1006\u001b[0m )\n",
      "\u001b[0;31mClientResponseError\u001b[0m: 400, message='Cannot publish credential definition without a public DID', url=URL('http://issuer-agent:8021/credential-definitions')"
     ]
    },
    {
     "name": "stdout",
     "output_type": "stream",
     "text": [
      "Error during POST /credential-definitions: 400, message='Cannot publish credential definition without a public DID', url=URL('http://issuer-agent:8021/credential-definitions')\n"
     ]
    }
   ],
   "source": [
    "schema_id = 'MGgoJXWbeupKsaHDa7s4fW:2:testabc:0.0.1'\n",
    "response = await agent_controller.definitions.write_cred_def(schema_id)"
   ]
  },
  {
   "cell_type": "markdown",
   "metadata": {},
   "source": [
    "## 3. Generate a new DID\n",
    "\n",
    "Before being able to write a DID to the ledger, you must create one using the wallet api. This api returns the identifier (the DID), and the verification key for that DID. A representation of it's public key. "
   ]
  },
  {
   "cell_type": "code",
   "execution_count": 5,
   "metadata": {},
   "outputs": [
    {
     "name": "stdout",
     "output_type": "stream",
     "text": [
      "New DID {'did': '8o3GCSueozeXxMNR1LzewV', 'verkey': '5FNqx34hv3dwUzBKLmJ6UfPMmzqYfV12gBPgzMySx5bv', 'posture': 'wallet_only'}\n"
     ]
    }
   ],
   "source": [
    "# generate new DID\n",
    "response = await agent_controller.wallet.create_did()\n",
    "\n",
    "did_object = response['result']\n",
    "print(\"New DID\", did_object)"
   ]
  },
  {
   "cell_type": "markdown",
   "metadata": {},
   "source": [
    "## 4. Write DID to Sovrin Stagingnet\n",
    "\n",
    "Anoyone can write a DID to the Sovrin StagingNet, it is a permissionless ledger. \n",
    "\n",
    "Visit [Sovrin Selfserve Portal](https://selfserve.sovrin.org) for more information. We have provided an automated process to write DIDs to Stagingnet in the step below."
   ]
  },
  {
   "cell_type": "code",
   "execution_count": 6,
   "metadata": {},
   "outputs": [
    {
     "name": "stdout",
     "output_type": "stream",
     "text": [
      "{'statusCode': 200, 'headers': {'Access-Control-Allow-Origin': '*'}, 'body': '{\"statusCode\": 200, \"8o3GCSueozeXxMNR1LzewV\": {\"status\": \"Success\", \"statusCode\": 200, \"reason\": \"Successfully wrote NYM identified by 8o3GCSueozeXxMNR1LzewV to the ledger with role ENDORSER\"}}'}\n",
      "200\n"
     ]
    }
   ],
   "source": [
    "# write new DID to Sovrin Stagingnet\n",
    "import requests\n",
    "import json \n",
    "\n",
    "url = 'https://selfserve.sovrin.org/nym'\n",
    "\n",
    "payload = {\"network\":\"buildernet\",\"did\": did_object[\"did\"],\"verkey\":did_object[\"verkey\"],\"paymentaddr\":\"\"}\n",
    "\n",
    "# Adding empty header as parameters are being sent in payload\n",
    "headers = {}\n",
    "\n",
    "r = requests.post(url, data=json.dumps(payload), headers=headers)\n",
    "print(r.json())\n",
    "print(r.status_code)"
   ]
  },
  {
   "cell_type": "markdown",
   "metadata": {},
   "source": [
    "## 5. Accepting the Transaction Author Agreement (TAA)\n",
    "\n",
    "Although the Sovrin StagingNet is permissionless, before DID's have the authority to write to the ledger they must accept something called a transaction author agreement by signing it using the DID they have on the ledger.\n",
    "\n",
    "As a global public ledger, the Sovrin Ledger and all its participants are subject to privacy and data protection regulations such as the EU General Data Protection Regulation (GDPR). These regulations require that the participants be explicit about responsibilities for Personal Data.\n",
    "\n",
    "To clarify these responsibilities and provide protection for all parties, the Sovrin Governance Framework Working Group developed an agreement between Transaction Authors and the Sovrin Foundation. The TAA can be found at Sovrin.org. It ensures that users are aware of and consent to the fact that all data written to the Sovrin Ledger cannot be removed, even if the original author of the transaction requests its removal.\n",
    "\n",
    "The TAA outlines the policies that users must follow when interacting with the Sovrin Ledger. When a user’s client software is preparing a transaction for submission to the network, it must include a demonstration that the user had the opportunity to review the current TAA and accept it. This is done by including some additional fields in the ledger write transaction: \n",
    "\n",
    "* A hash of the agreement\n",
    "* A date when the agreement was accepted, and\n",
    "* A string indicating the user interaction that was followed to obtain the acceptance.\n",
    "\n",
    "The Indy client API used by Sovrin has been extended to allow users to review current and past agreements and to indicate acceptance through an approved user interaction pattern. - source: https://sovrin.org/preparing-for-the-sovrin-transaction-author-agreement/\n",
    "\n",
    "For more details on TAA please read more at the following links:\n",
    "* [Preparing for the Sovrin Transaction Author Agreement](https://sovrin.org/preparing-for-the-sovrin-transaction-author-agreement/)\n",
    "* [How the recent approval of the Sovrin Governance Framework v2 affects Transaction Authors\n",
    "](https://sovrin.org/how-the-recent-approval-of-the-sovrin-governance-framework-v2-affects-transaction-authors/)\n",
    "* [TAA v2](https://github.com/sovrin-foundation/sovrin/blob/master/TAA/TAA.md)\n",
    "* [TAA Acceptance Mechanism List (AML)](https://github.com/sovrin-foundation/sovrin/blob/master/TAA/AML.md)"
   ]
  },
  {
   "cell_type": "code",
   "execution_count": 7,
   "metadata": {},
   "outputs": [
    {
     "ename": "ClientResponseError",
     "evalue": "400, message=\"Ledger rejected transaction request: client request invalid: InvalidClientTaaAcceptanceError('Txn Author Agreement acceptance is required for ledger with id 1',).\", url=URL('http://issuer-agent:8021/wallet/did/public?did=8o3GCSueozeXxMNR1LzewV')",
     "output_type": "error",
     "traceback": [
      "\u001b[0;31m---------------------------------------------------------------------------\u001b[0m",
      "\u001b[0;31mClientResponseError\u001b[0m                       Traceback (most recent call last)",
      "Cell \u001b[0;32mIn[7], line 2\u001b[0m\n\u001b[1;32m      1\u001b[0m \u001b[38;5;66;03m# This will not work until you have accepted the TAA\u001b[39;00m\n\u001b[0;32m----> 2\u001b[0m response \u001b[38;5;241m=\u001b[39m \u001b[38;5;28;01mawait\u001b[39;00m agent_controller\u001b[38;5;241m.\u001b[39mwallet\u001b[38;5;241m.\u001b[39massign_public_did(did_object[\u001b[38;5;124m\"\u001b[39m\u001b[38;5;124mdid\u001b[39m\u001b[38;5;124m\"\u001b[39m])\n\u001b[1;32m      3\u001b[0m \u001b[38;5;28mprint\u001b[39m(response)\n",
      "File \u001b[0;32m/aries_basic_controller/controllers/wallet.py:27\u001b[0m, in \u001b[0;36mWalletController.assign_public_did\u001b[0;34m(self, did)\u001b[0m\n\u001b[1;32m     23\u001b[0m \u001b[38;5;28;01masync\u001b[39;00m \u001b[38;5;28;01mdef\u001b[39;00m \u001b[38;5;21massign_public_did\u001b[39m(\u001b[38;5;28mself\u001b[39m, did):\n\u001b[1;32m     24\u001b[0m     params \u001b[38;5;241m=\u001b[39m {\n\u001b[1;32m     25\u001b[0m         \u001b[38;5;124m\"\u001b[39m\u001b[38;5;124mdid\u001b[39m\u001b[38;5;124m\"\u001b[39m: did\n\u001b[1;32m     26\u001b[0m     }\n\u001b[0;32m---> 27\u001b[0m     \u001b[38;5;28;01mreturn\u001b[39;00m \u001b[38;5;28;01mawait\u001b[39;00m \u001b[38;5;28mself\u001b[39m\u001b[38;5;241m.\u001b[39madmin_POST(\u001b[38;5;124mf\u001b[39m\u001b[38;5;124m\"\u001b[39m\u001b[38;5;132;01m{\u001b[39;00m\u001b[38;5;28mself\u001b[39m\u001b[38;5;241m.\u001b[39mbase_url\u001b[38;5;132;01m}\u001b[39;00m\u001b[38;5;124m/did/public\u001b[39m\u001b[38;5;124m\"\u001b[39m, params\u001b[38;5;241m=\u001b[39mparams)\n",
      "File \u001b[0;32m/aries_basic_controller/controllers/base.py:95\u001b[0m, in \u001b[0;36mBaseController.admin_POST\u001b[0;34m(self, path, json_data, text, params, data)\u001b[0m\n\u001b[1;32m     89\u001b[0m \u001b[38;5;28;01mtry\u001b[39;00m:\n\u001b[1;32m     90\u001b[0m     EVENT_LOGGER\u001b[38;5;241m.\u001b[39mdebug(\n\u001b[1;32m     91\u001b[0m         \u001b[38;5;124m\"\u001b[39m\u001b[38;5;124mController POST \u001b[39m\u001b[38;5;132;01m%s\u001b[39;00m\u001b[38;5;124m request to Agent\u001b[39m\u001b[38;5;132;01m%s\u001b[39;00m\u001b[38;5;124m\"\u001b[39m,\n\u001b[1;32m     92\u001b[0m         path,\n\u001b[1;32m     93\u001b[0m         (\u001b[38;5;124m\"\u001b[39m\u001b[38;5;124m with data: \u001b[39m\u001b[38;5;130;01m\\n\u001b[39;00m\u001b[38;5;132;01m{}\u001b[39;00m\u001b[38;5;124m\"\u001b[39m\u001b[38;5;241m.\u001b[39mformat(repr_json(json_data)) \u001b[38;5;28;01mif\u001b[39;00m json_data \u001b[38;5;28;01melse\u001b[39;00m \u001b[38;5;124m\"\u001b[39m\u001b[38;5;124m\"\u001b[39m),\n\u001b[1;32m     94\u001b[0m     )\n\u001b[0;32m---> 95\u001b[0m     response \u001b[38;5;241m=\u001b[39m \u001b[38;5;28;01mawait\u001b[39;00m \u001b[38;5;28mself\u001b[39m\u001b[38;5;241m.\u001b[39madmin_request(\u001b[38;5;124m\"\u001b[39m\u001b[38;5;124mPOST\u001b[39m\u001b[38;5;124m\"\u001b[39m, path, json_data, text, params, data)\n\u001b[1;32m     96\u001b[0m     EVENT_LOGGER\u001b[38;5;241m.\u001b[39mdebug(\n\u001b[1;32m     97\u001b[0m         \u001b[38;5;124m\"\u001b[39m\u001b[38;5;124mResponse from POST \u001b[39m\u001b[38;5;132;01m%s\u001b[39;00m\u001b[38;5;124m received: \u001b[39m\u001b[38;5;130;01m\\n\u001b[39;00m\u001b[38;5;132;01m%s\u001b[39;00m\u001b[38;5;124m\"\u001b[39m,\n\u001b[1;32m     98\u001b[0m         path,\n\u001b[1;32m     99\u001b[0m         repr_json(response),\n\u001b[1;32m    100\u001b[0m     )\n\u001b[1;32m    101\u001b[0m     \u001b[38;5;28;01mreturn\u001b[39;00m response\n",
      "File \u001b[0;32m/aries_basic_controller/controllers/base.py:63\u001b[0m, in \u001b[0;36mBaseController.admin_request\u001b[0;34m(self, method, path, json_data, text, params, data)\u001b[0m\n\u001b[1;32m     59\u001b[0m params \u001b[38;5;241m=\u001b[39m {k: v \u001b[38;5;28;01mfor\u001b[39;00m (k, v) \u001b[38;5;129;01min\u001b[39;00m (params \u001b[38;5;129;01mor\u001b[39;00m {})\u001b[38;5;241m.\u001b[39mitems() \u001b[38;5;28;01mif\u001b[39;00m v \u001b[38;5;129;01mis\u001b[39;00m \u001b[38;5;129;01mnot\u001b[39;00m \u001b[38;5;28;01mNone\u001b[39;00m}\n\u001b[1;32m     60\u001b[0m \u001b[38;5;28;01masync\u001b[39;00m \u001b[38;5;28;01mwith\u001b[39;00m \u001b[38;5;28mself\u001b[39m\u001b[38;5;241m.\u001b[39mclient_session\u001b[38;5;241m.\u001b[39mrequest(\n\u001b[1;32m     61\u001b[0m     method, \u001b[38;5;28mself\u001b[39m\u001b[38;5;241m.\u001b[39madmin_url \u001b[38;5;241m+\u001b[39m path, json\u001b[38;5;241m=\u001b[39mjson_data, params\u001b[38;5;241m=\u001b[39mparams, data\u001b[38;5;241m=\u001b[39mdata\n\u001b[1;32m     62\u001b[0m ) \u001b[38;5;28;01mas\u001b[39;00m resp:\n\u001b[0;32m---> 63\u001b[0m     \u001b[43mresp\u001b[49m\u001b[38;5;241;43m.\u001b[39;49m\u001b[43mraise_for_status\u001b[49m\u001b[43m(\u001b[49m\u001b[43m)\u001b[49m\n\u001b[1;32m     64\u001b[0m     resp_text \u001b[38;5;241m=\u001b[39m \u001b[38;5;28;01mawait\u001b[39;00m resp\u001b[38;5;241m.\u001b[39mtext()\n\u001b[1;32m     65\u001b[0m     \u001b[38;5;28;01mif\u001b[39;00m \u001b[38;5;129;01mnot\u001b[39;00m resp_text \u001b[38;5;129;01mand\u001b[39;00m \u001b[38;5;129;01mnot\u001b[39;00m text:\n",
      "File \u001b[0;32m/opt/conda/lib/python3.10/site-packages/aiohttp/client_reqrep.py:1000\u001b[0m, in \u001b[0;36mClientResponse.raise_for_status\u001b[0;34m(self)\u001b[0m\n\u001b[1;32m    998\u001b[0m \u001b[38;5;28;01massert\u001b[39;00m \u001b[38;5;28mself\u001b[39m\u001b[38;5;241m.\u001b[39mreason \u001b[38;5;129;01mis\u001b[39;00m \u001b[38;5;129;01mnot\u001b[39;00m \u001b[38;5;28;01mNone\u001b[39;00m\n\u001b[1;32m    999\u001b[0m \u001b[38;5;28mself\u001b[39m\u001b[38;5;241m.\u001b[39mrelease()\n\u001b[0;32m-> 1000\u001b[0m \u001b[38;5;28;01mraise\u001b[39;00m ClientResponseError(\n\u001b[1;32m   1001\u001b[0m     \u001b[38;5;28mself\u001b[39m\u001b[38;5;241m.\u001b[39mrequest_info,\n\u001b[1;32m   1002\u001b[0m     \u001b[38;5;28mself\u001b[39m\u001b[38;5;241m.\u001b[39mhistory,\n\u001b[1;32m   1003\u001b[0m     status\u001b[38;5;241m=\u001b[39m\u001b[38;5;28mself\u001b[39m\u001b[38;5;241m.\u001b[39mstatus,\n\u001b[1;32m   1004\u001b[0m     message\u001b[38;5;241m=\u001b[39m\u001b[38;5;28mself\u001b[39m\u001b[38;5;241m.\u001b[39mreason,\n\u001b[1;32m   1005\u001b[0m     headers\u001b[38;5;241m=\u001b[39m\u001b[38;5;28mself\u001b[39m\u001b[38;5;241m.\u001b[39mheaders,\n\u001b[1;32m   1006\u001b[0m )\n",
      "\u001b[0;31mClientResponseError\u001b[0m: 400, message=\"Ledger rejected transaction request: client request invalid: InvalidClientTaaAcceptanceError('Txn Author Agreement acceptance is required for ledger with id 1',).\", url=URL('http://issuer-agent:8021/wallet/did/public?did=8o3GCSueozeXxMNR1LzewV')"
     ]
    },
    {
     "name": "stdout",
     "output_type": "stream",
     "text": [
      "Error during POST /wallet/did/public: 400, message=\"Ledger rejected transaction request: client request invalid: InvalidClientTaaAcceptanceError('Txn Author Agreement acceptance is required for ledger with id 1',).\", url=URL('http://issuer-agent:8021/wallet/did/public?did=8o3GCSueozeXxMNR1LzewV')\n"
     ]
    }
   ],
   "source": [
    "# This will not work until you have accepted the TAA\n",
    "response = await agent_controller.wallet.assign_public_did(did_object[\"did\"])\n",
    "print(response)"
   ]
  },
  {
   "cell_type": "code",
   "execution_count": 8,
   "metadata": {},
   "outputs": [
    {
     "name": "stdout",
     "output_type": "stream",
     "text": [
      "{'digest': '8cee5d7a573e4893b08ff53a0761a22a1607df3b3fcd7e75b98696c92879641f', 'text': '\\ufeff# Transaction Author Agreement V2\\nhttps://sovrin.org/\\n\\n\\n## Summary:\\n\\n\\nThis summary is provided to help you understand your obligations when writing to\\nthe Sovrin Ledger Networks-it does not have any legal effect or replace the full\\nlegal text of the agreement provided below it.\\n\\n\\n- This agreement grants you permission to write data to the Sovrin Ledger\\n  Networks under certain terms and conditions.\\n\\n\\n- You represent and warrant that the data you are writing does not violate any\\n  applicable laws or infringe the rights of any other party.\\n\\n\\n- You understand the data you are writing is public and permanent and there can\\n  be no guarantee of erasure. This includes public keys and payment addresses.\\n\\n\\n- If it is determined that the data you wrote violated this agreement, the\\n  operators of the network can take steps to block it from public access.\\n\\n\\n- The Sovrin Foundation makes no promises about the reliability or correctness\\n  of the data being stored on the Sovrin Ledger Networks or the operation of the\\n  Sovrin Ledger Networks.\\n\\n\\n--------------------------------------------------------------------------------\\n\\n\\n## Agreement: Approved by the Sovrin Board of Trustees 04 December 2019\\n\\n\\nThis Transaction Author Agreement (the \"**Agreement**\") is entered into on the\\ndate you accepted this Agreement (the \"**Effective Date**\") between the Sovrin\\nFoundation, a nonprofit corporation organized under the laws of the State of\\nUtah, United States of America (\"**Sovrin Foundation**\"), and you\\n(\"**Transaction Author**\"), either an entity or a natural person acting as\\nan Individual. Sovrin Foundation and Transaction Author are individually\\nreferred to herein as a  \"Party\" and collectively as the  \"Parties\". All\\nreferences to \"you\" throughout this Agreement will include that person or\\nentity. You represent that you are authorized to accept this Agreement on that\\nperson’s or entity’s behalf, and in the event you or the person or entity\\nviolates this Agreement, the person or entity agrees to be responsible to the\\nSovrin Foundation.\\n\\n\\nBy clicking \"Accept\" or similar or writing Transactions to the Sovrin Ledger\\nNetworks, Transaction Author agrees to be bound by this Agreement and all terms\\nincorporated by reference. If Transaction Author does not agree to this\\nAgreement in its entirety, do not click \"Accept\" or write Transactions to the\\nSovrin Ledger Networks.\\n\\n\\nIf Sovrin Foundation makes material changes to this Agreement, Sovrin Foundation will notify you\\nby posting a notice on Sovrin Foundation’s website prior to the effective date of the changes. \\nBy continuing to act as a Transaction Author or by otherwise writing Transactions on the\\nSovrin Ledger Networks after Sovrin Foundation posts changes to their website, you agree to be\\nbound by the revised Agreement.\\n\\n\\nWHEREAS, Transaction Author desires to write Transactions to the Sovrin\\nLedger Networks (each a \"**Transaction**\"); and\\n\\n\\nWHEREAS, subject to Transaction Author complying with the terms and\\nconditions of this Agreement, Sovrin Foundation grants permission to \\nTransaction Author to write Transactions to the Sovrin Ledger Networks;\\n\\n\\nFOR GOOD AND VALUABLE CONSIDERATION, THE SUFFICIENCY OF WHICH IS HEREBY\\nACKNOWLEDGED, THE PARTIES AGREE AS FOLLOWS:\\n\\n\\n\\n\\n## 1) Definitions\\n\\n\\na. \"**Data Protection Laws**\" means the GDPR and any other data protection and\\nprivacy laws, regulations, and regulatory requirements applicable to a party\\nunder this Agreement.\\n\\n\\nb. \"**GDPR**\" means the General Data Protection Regulation (EU) 2016/679\\non the protection of natural persons with regard to the Processing of personal\\ndata and on the free movement of such data, and repealing Directive 95/46/EC,\\nand any amendment or replacement to it.\\n\\n\\nc. \"**Impermissible Personal Data**\" means the Personal Data that\\nTransaction Author writes to the Sovrin Ledger Networks that is not\\nPermissible Personal Data.\\n\\n\\nd. \"**Personal Data Transactions**\" has the meaning set forth in Section 3\\nbelow.\\n\\n\\ne. \"**Permissible Personal Data**\" means Personal Data that Transaction\\nAuthor writes to the Sovrin Ledger Networks that is permitted under this\\nAgreement and the Sovrin Governance Framework (including the\\n[Sovrin Ledger Access Policies](https://sovrin.org/wp-content/uploads/Sovrin-Ledger-Access-Policies-V1.pdf)).\\n\\n\\nf. \"**Personal Data**\" means information that relates, directly or\\nindirectly, to a data subject, including without limitation, names, email\\naddresses, postal addresses, identification numbers, location data, online\\nidentifiers or one or more factors specific to the physical, physiological,\\ngenetic, mental, economic, cultural or social identity of the data subject.\\n\\n\\ng. \"**Process**\" or \"**Processing**\" means any operation or set of\\noperations which is performed on Transactions data, whether or not by\\nautomated means, such as the access, collection, use, storage, disclosure,\\ndissemination, combination, recording, organization, structuring, adaption,\\nalteration, copying, transfer, retrieval, consultation, disposal, restriction,\\nerasure and/or destruction of Transactions data.\\n\\n\\nh. \"**Sovrin Governance Framework**\" means Sovrin Foundation’s\\ngovernance policies and rules available at\\nhttps://sovrin.org/governance-framework/ or any successor website.\\n\\n\\nUnless otherwise defined above, all capitalized terms used in this Agreement\\nshall have the meanings given to them in this Agreement or in the Sovrin\\nGovernance Framework and corresponding Sovrin Glossary. The Sovrin Governance\\nFramework and Sovrin Glossary is incorporated into this Agreement by reference\\nonly for purposes of use of such defined terms.\\n\\n\\n\\n\\n## 2) Permission to Write to the Sovrin Ledger Networks\\n\\n\\na. Sovrin Foundation hereby grants to Transaction Author a non-exclusive,\\nnon-assignable, non-sublicensable, royalty free, revocable license to write to\\nand use the Sovrin Ledger Networks in accordance with this Agreement and the\\nSovrin Governance Framework.\\n\\n\\nb. When authoring Transactions under the policy of Permissioned Write Access,\\na Transaction Author may only write to the Sovrin Ledger Networks by using an\\nauthorized Transaction Endorser. In the event that Sovrin Foundation enables\\nPublic Write Access to the Sovrin Ledger Networks, Transaction Author will\\nnot need a Transaction Endorser to endorse a Transaction.\\n\\n\\nc. Once an initial Transaction has been written to one of the Sovrin Ledger\\nNetworks by Transaction Author (\"**Initial Transaction**\"), the\\nTransaction Author is granted permission to make additional Transactions to\\nupdate the state of a previous Transaction (\"**Update Transactions**\"). Please\\nnote, an Update Transaction does not remove the Initial Transaction, which\\nwill remain on the Sovrin Ledger due to its immutability and may remain on\\nSovrin Test Networks unless they are reset. Transaction Author may make Update\\nTransactions if and only if Transaction Author was the author of the\\nInitial Transaction. Update Transactions are Transactions and are subject to\\nall the terms of this Agreement.\\n\\n\\n\\n\\n## 3) Transaction Author Obligations\\n\\n\\na. With regard to all Transactions, Transaction Author will:\\n\\n\\n  1. comply with any requirements imposed by the Transaction Endorser on the\\n  Transaction Author and any Transactions endorsed by the Transaction\\n  Endorser;\\n\\n\\n  2. not write Transactions containing Personal Data until Sovrin Foundation\\n  approves Public Write Access and permits Transactions to contain Personal\\n  Data pursuant to Section 3(b) below.\\n\\n\\nb. If Sovrin Foundation approves Public Write Access and permits\\nTransaction Authors to write Transactions that contain Permissible Personal\\nData (\"**Personal Data Transactions**\"), then Transaction Author expressly\\nagrees that:\\n\\n\\n  1. It will not write any Transactions that contain Impermissible Personal\\n  Data to the Sovrin Ledger Networks;\\n\\n\\n  2. it is an independent data controller (as defined in the GDPR) of the\\n  Personal Data Transactions and will be responsible for the lawfulness of the\\n  Processing of such data in compliance with the Data Protection Laws;\\n\\n\\n  3. it acknowledges and will notify all data subjects whose Personal Data it\\n  Processes that functions inherent in blockchain technology may render\\n  fulfilling data subject requests difficult or impossible. For example, due\\n  to blockchain’s immutability, data stored on a blockchain generally cannot\\n  be removed or altered once the data is confirmed on the blockchain;\\n\\n\\n  4. it irrevocably waives any and all claims, rights and/or obligations it\\n  may have now or in the future against Sovrin Foundation as a result of\\n  being unable to fulfill data subject requests in accordance with Data\\n  Protection Laws;\\n\\n\\n  5. it agrees to be bound by the terms and conditions applicable to\\n  Transaction Author as a controller of Personal Data Transactions under the\\n  Data Processing Agreements with Stewards and Transaction Endorsers, each in\\n  their roles as processors under the GDPR, and attached as Appendices A and B\\n  (the \"**DPAs**\");\\n\\n\\n  6. that Sovrin Foundation has the right to enter into the DPAs on its\\n  behalf and the DPAs are made a part of the Agreement in their entirety;\\n\\n\\n  7. by signing this Agreement, each Party is deemed to have signed the DPAs,\\n  including the Standard Contractual Clauses with Sovrin Foundation and\\n  Transaction Author as the \"Data exporter\", and with either a Steward or a\\n  Transaction Endorser as \"Data importer\", as applicable;\\n\\n\\n  8. at Sovrin Foundation’s request, Transaction Author will reimburse\\n  Sovrin Foundation for any costs incurred by Sovrin Foundation in\\n  enforcing Transaction Author’s rights under the GDPR, including but not\\n  limited to fulfillment of data subject rights, rights of oversight and\\n  audit, etc.; and\\n\\n\\n  9. it irrevocably waives any and all claims that it may have now or in the\\n  future that Sovrin Foundation lacks the rights to enter into the DPAs on\\n  its behalf and bind Transaction Author to the DPAs’ terms and conditions,\\n  including the limitation of liability therein.\\n\\n\\n\\n\\n## 4) Term and Termination\\n\\n\\na. This Agreement commences on the Effective Date and shall remain in force\\nuntil terminated by either Party pursuant to this **Section 4 (Term and\\nTermination)**.\\n\\n\\nb. Either Party may terminate this Agreement: (i) if the other Party has\\nmaterially defaulted in the performance of any of its obligations under this\\nAgreement and has not cured such default within fifteen (15) business days of\\nreceipt of written notice from the non-defaulting Party of such default or\\n(ii) immediately in the event of any government sanctions or other legal\\nmeasures that make it unlawful for Transaction Author to write Transactions to\\nthe Sovrin Ledger Networks.\\n\\n\\nc. Additionally, Transaction Author may terminate this Agreement upon 30 days\\'\\nadvance written notice to Sovrin Foundation and ceasing all use of the\\nSovrin Ledger Networks.\\n\\n\\nd. Upon termination or expiration of this Agreement for any reason the rights\\ngranted to Transaction Author by Sovrin Foundation under this Agreement\\nautomatically terminate.\\n\\n\\n\\n\\n## 5) Representations and Warranties; Disclaimer\\n\\n\\na. By Sovrin Foundation.\\n\\n\\n  1. THE SOVRIN LEDGER NETWORKS AND THE SOVRIN NETWORK ARE PROVIDED AS-IS WITH\\n  ALL FAULTS. TO THE FULLEST EXTENT PERMITTED BY APPLICABLE LAW, THE SOVRIN\\n  FOUNDATION MAKES NO REPRESENTATION OR WARRANTY CONCERNING THE ACCURACY,\\n  RELIABILITY, OR COMPLETENESS OF ANY INFORMATION OR DATA OBTAINED OR DERIVED\\n  THROUGH THE USE OF THE SOVRIN LEDGER NETWORKS AS THE SOVRIN LEDGER NETWORKS\\n  OPERATE ON A DISTRIBUTED NETWORK AND SOVRIN FOUNDATION DOES NOT CONTROL\\n  THE INFORMATION OR DATA WRITTEN TO THE SOVRIN LEDGER NETWORKS. THE SOVRIN\\n  FOUNDATION DISCLAIMS ANY OTHER REPRESENTATIONS OR WARRANTIES, EXPRESS OR\\n  IMPLIED, INCLUDING WITHOUT LIMITATION, ANY WARRANTIES OF MERCHANTABILITY OR\\n  FITNESS FOR A PARTICULAR PURPOSE, NON-INFRINGEMENT, ACCURACY OR\\n  COMPLETENESS OF DATA.\\n\\n\\n  2. As the architect of the Sovrin Network and administrator of the Sovrin\\n  Governance Framework, Sovrin Foundation is an independent controller of\\n  the Personal Data Transactions. In no event will Sovrin Foundation be\\n  held liable for the actions or omissions of Transaction Author arising out\\n  any Personal Data that Transaction Author writes to the Sovrin Ledger\\n  Networks in breach of this Agreement and the Sovrin Governance Framework,\\n  including but not limited to any Impermissible Personal Data.\\n  Notwithstanding the foregoing, if Transaction Author writes Permissible\\n  Personal Data to the Sovrin Ledger Networks in express compliance with this\\n  Agreement and the Sovrin Governance Framework, Sovrin Foundation is\\n  responsible for the lawfulness of such Processing once such Permissible\\n  Personal Data is written to the Sovrin Ledger Networks.\\n\\n\\nb. By Transaction Author. Transaction Author represents and warrants:\\n\\n\\n  1. if a natural person, he or she is 16 years of age or older;\\n\\n\\n  2. it has all necessary rights and permissions to write the Transactions;\\n\\n\\n  3. the Transactions do not and will not violate any applicable law;\\n\\n\\n  4. the Transactions will not contain data or information that infringes or\\n  misappropriates the intellectual property rights of any third party;\\n\\n\\n  5. it understands that the Sovrin Ledger Networks operate on a distributed\\n  network and that Sovrin Foundation disclaims any responsibilities with\\n  respect to access of data from the Sovrin Ledger Networks;\\n\\n\\n  6. it understands and acknowledges that Sovrin Foundation does not control the\\n  transfer of data between Nodes and over communications facilities,\\n  including the internet, and that the Sovrin Ledger Networks may be subject\\n  to limitations, delays, and other problems inherent in the use of such\\n  communications facilities;\\n\\n\\n  7. it understands and acknowledges that there is regulatory uncertainty\\n  regarding the Sovrin Ledger Networks’ compliance with Data Protection Laws\\n  as it relates to Permissioned Write Access, Public Write Access, and\\n  Personal Data, including cross-border transfers of data, Processing of\\n  Personal Data, the right to effective erasure of data, as well as the scope\\n  and nature of Personal Data itself;\\n\\n\\n  8. it understands and acknowledges that Sovrin Foundation may modify, at any\\n  time, its Sovrin Ledger Access Policies and the terms of this Agreement and\\n  any other agreement or document related to the Sovrin Ledger Networks based\\n  on new information, guidance, or Data Protection Laws; and\\n\\n\\n  9. it understands and acknowledges that a Steward and/or Sovrin Foundation\\n  may obscure a Transaction if (i) the Steward or Sovrin Foundation is\\n  required to do so by a court order or applicable law or (ii) the Steward or\\n  Sovrin Foundation has evidence that the Transaction violates the terms of\\n  this Agreement or any applicable law.\\n\\n\\n\\n\\n## 6) Indemnification\\n\\n\\na. To the fullest extent permitted by applicable law, Transaction Author will\\nindemnify and hold harmless Sovrin Foundation, and each of its respective\\nofficers, directors, agents, partners and employees (individually and\\ncollectively, the \"**Sovrin Parties**\") from and against any losses,\\nliabilities, claims, demands, damages, expenses or costs (\"**Claims**\")\\nbrought by a third party arising out of or related to (i) Transaction Author’s\\naccess to or use of the Sovrin Ledger Networks in violation of this Agreement;\\n(ii) Transaction Author’s violation, misappropriation or infringement of any\\nrights of another (including intellectual property rights or privacy rights);\\nor (iii) Transaction Author’s violation of applicable law.\\n\\n\\nb. Transaction Author agrees to promptly notify the Sovrin Parties in writing\\nof any Claims, cooperate with the Sovrin Parties in defending such Claims and\\npay all fees, costs and expenses associated with defending such Claims\\n(including attorneys’ fees). Transaction Author also agrees that the Sovrin\\nParties will have sole control of the defense or settlement, at the Sovrin\\nFoundation’s sole option, of any Claims. This indemnity is in addition to, and\\nnot in lieu of, any other indemnities set forth in a written agreement between\\nTransaction Author and Sovrin Foundation or the other Sovrin Parties.\\n\\n\\n\\n\\n## 7) Governing Law and Forum\\n\\n\\nThis Agreement is governed by the law of the State of Delaware, without\\nreference to conflict of laws principles; provided that, if Transaction Author\\nis a governmental entity, this Agreement is governed by the law in which such\\ngovernmental entity is established. All disputes arising out of or in connection\\nwith this Agreement shall be finally settled by binding arbitration under the\\nRules of Arbitration of the International Chamber of Commerce (the \"**Rules**\")\\nby a single arbitrator appointed in accordance with said Rules. Arbitration\\nproceedings will be held in London, England. Unless the Parties otherwise\\nmutually agree, such arbitration shall be conducted in the English language by\\nelectronic exchange of documents and by video conference. The arbitrator shall\\nissue a reasoned decision, including findings of fact and conclusions of law.\\nThe arbitrator shall require exchange by the Parties of documents relevant to\\nthe issues raised by any claim, defense, or counterclaim or on which the\\nproducing Party may rely in support of or in opposition to any claim, defense,\\nor counterclaim, with due regard for eliminating undue burden and expense and\\nthe expedited and lower cost nature of arbitration. At the request of a Party,\\nthe arbitrator may at his or her discretion order the deposition of witnesses.\\nDepositions shall be limited to a maximum of three depositions per Party, each\\nof a maximum of four hours duration, unless the arbitrator otherwise determines.\\nDemand for arbitration may be initiated by either Party on fifteen (15) days\\nwritten notice by email to the other Party’s designated representative, together\\nwith a written specification of the grounds for the dispute and the relief\\nrequested. By agreeing to binding and non-appealable arbitration, each party\\nunderstands that they each forever give up and waive any right which each Party\\nmay have to resolve any such claim, difference or dispute by court or jury\\ntrial. Notwithstanding the foregoing, either Party may bring a proceeding\\nseeking equitable or injunctive relief solely and exclusively in the state and\\nfederal courts located in Wilmington, Delaware, to prevent the infringement of\\nintellectual property rights or the disclosure of confidential information. Each\\nParty hereto consents to the exclusive jurisdiction of such courts for the\\nadjudication of any such equitable or injunctive relief, as well as for any such\\nmatters that are excluded from or fall outside of this arbitration provision.\\n\\n\\n\\n\\n## 8) Limitation of Liability\\n\\n\\nEXCEPT IN THE EVENT OF EITHER PARTY’S GROSS NEGLIGENCE, WILLFUL MISCONDUCT OR\\nFRAUD, IN NO EVENT SHALL EITHER PARTY BE LIABLE FOR ANY INDIRECT, INCIDENTAL,\\nEXEMPLARY, PUNITIVE, SPECIAL, OR OTHER CONSEQUENTIAL DAMAGES UNDER THIS\\nAGREEMENT, INCLUDING, WITHOUT LIMITATION, ANY LOST PROFITS, BUSINESS\\nINTERRUPTION, LOSS OF PROGRAMS OR DATA, OR OTHERWISE, EVEN IF THE OTHER PARTY IS\\nEXPRESSLY ADVISED OF THE POSSIBILITY OR LIKELIHOOD OF SUCH DAMAGES. EXCEPT IN\\nTHE EVENT OF EITHER PARTY’S GROSS NEGLIGENCE, WILLFUL MISCONDUCT OR FRAUD, IN NO\\nEVENT SHALL EITHER PARTY’S LIABILITY UNDER THIS AGREEMENT EXCEED $250,000 USD IN\\nTHE AGGREGATE, PROVIDED THAT THERE WILL BE NO DOLLAR CAP ON LIABILITY FOR\\nDAMAGES ARISING FROM VIOLATIONS OF DATA PROTECTION LAWS. IN THE EVENT OF EITHER\\nPARTY’S GROSS NEGLIGENCE, SUCH PARTY’S LIABILITY UNDER THIS AGREEMENT SHALL NOT\\nEXCEED $500,000 USD IN THE AGGREGATE. IN THE EVENT OF EITHER PARTY’S WILLFUL\\nMISCONDUCT OR FRAUD, THERE SHALL BE NO DOLLAR CAP ON SUCH PARTY’S LIABILITY\\nUNDER THIS AGREEMENT.\\n\\n\\n\\n\\n## 9) Miscellaneous\\n\\n\\na. Notice. Any notice, payment, demand or communication required or permitted\\nto be delivered or given by the provisions of this Agreement shall be deemed\\nto have been effectively delivered or given and received on the date\\npersonally or electronically delivered to the respective Party to whom it is\\ndirected, or when deposited by registered or certified mail, with postage and\\ncharges prepaid and addressed to each respective Party. For the Transaction\\nAuthor, notices will be sent to the agent service endpoint of the Transaction\\nAuthor’s DID as long as Transaction Author authorizes such a connection or\\nsent via other mechanism agreed to by the parties. For Sovrin Foundation,\\nnotices will be sent to Attn: Legal, 86 N University Ave, Suite 110, Provo, UT\\n84601.\\n\\n\\nb. Severability. If any provision of this Agreement is held invalid, illegal,\\nor unenforceable, the validity, legality, and enforceability of any of the\\nremaining provisions of this Agreement shall not in any way be affected or\\nimpaired.\\n\\n\\nc. Relationship of the Parties. This Agreement does not create a partnership,\\nfranchise, joint venture, agency, fiduciary or employment relationship between\\nthe Parties. Neither Party will represent that it has any authority to assume\\nor create any obligation, express or implied, on behalf of the other Party,\\nnor to represent the other Party as agent, employee, franchisee, or in any\\nother capacity. There are no third-party beneficiaries to this Agreement.\\nNeither Party shall make any proposals, promises, warranties, guarantees, or\\nrepresentations on behalf of the other Party or in the other Party’s name.\\n\\n\\nd. Assignment. Neither Party will voluntarily, or by operation of law, assign\\nor otherwise transfer this Agreement without the other Party’s express prior\\nwritten consent which will not be unreasonably withheld, provided that no such\\nconsent is required for an assignment or transfer to a wholly or majority\\nowned subsidiary or to a successor in interest by reason of merger or\\nconsolidation or sale of all or substantially all of the assets of such Party\\nrelating to the subject matter of this Agreement.\\n\\n\\ne. Waiver. The waiver by either Party of a breach, default, delay or omission\\nof any of the provisions of this Agreement by the other Party will not be\\nconstrued as a waiver of any subsequent breach of the same or other\\nprovisions.\\n\\n\\nf. Entire Agreement. This Agreement, including all documents incorporated into\\nthis Agreement by reference, constitutes the entire agreement of the Parties\\nwith respect to the subject matter of this Agreement, and supersedes any and\\nall prior agreements and understandings of the Parties, whether written or\\noral, with respect to such subject matter. This Agreement supersedes all prior\\nTransaction Author Agreements between Sovrin Foundation and Transaction Author\\nwith respect to the subject matter hereof.\\n\\n\\ng. Modification of This Agreement. Sovrin Foundation reserves the right to\\nmodify this Agreement at any time in accordance with this provision,\\nincluding, but not limited to, changes in applicable law or guidance from any\\njurisdiction. Sovrin Foundation will post an amended version of this Agreement\\non its website at least forty-five (45) days prior to the date on which all\\nTransaction Authors must begin operating under the amendment (the \"**Amendment\\nCutover Date**\"). If Transaction Author continues to Author Transactions to\\nthe Sovrin Ledger Networks after the Amendment Cutover Date, such continued\\nuse will constitute acceptance of the amended Agreement.\\n\\n\\nh. Counterparts. This Agreement may be executed in two or more counterparts,\\neach of which will be deemed an original, but all of which taken together will\\nconstitute one and the same instrument\\n\\n\\ni. Survival. Any terms that by their nature survive termination or expiration\\nof this Agreement shall survive.\\n\\n\\nj. Governmental Entities. If Transaction Author is a governmental entity and\\nit determines that GDPR does not apply to it and its Processing of\\nTransactions, then:\\n  - a. to the extent that the GDPR requirements referenced in this Agreement are\\n  equivalent to the requirements under Data Protection Laws in its own\\n  jurisdiction, it will comply with any such requirements; and\\n\\n\\n  - b. to the extent that GDPR requirements referenced in this Agreement differ\\n  from requirements under Data Protection Laws in its own jurisdiction, it\\n  will comply with the requirements under its own legislation.\\n\\n\\n\\n\\n## Appendix A\\n\\n\\n- **Steward Data Processing Agreement**\\n[LINK](https://sovrin.org/wp-content/uploads/Steward-Data-Processing-Agreement-V1.pdf)\\nAS OF THE EFFECTIVE DATE OF THIS TRANSACTION AUTHOR AGREEMENT\\n\\n\\n\\n\\n## Appendix B\\n\\n\\n- **Transaction Endorser Data Processing Agreement**\\n[LINK](https://sovrin.org/wp-content/uploads/Transaction-Endorser-Data-Processing-Agreement-V1.pdf)\\nAS OF THE EFFECTIVE DATE OF THIS TRANSACTION AUTHOR AGREEMENT\\n\\n\\n(c) 2019 by Sovrin Foundation. This work is licensed under the Creative Commons\\nAttribution-ShareAlike 4.0 International License\\n(http://creativecommons.org/licenses/by-sa/4.0/).', 'version': '2.0', 'ratification_ts': 1575417600, 'mechanism': 'service_agreement'}\n"
     ]
    }
   ],
   "source": [
    "response = await agent_controller.ledger.get_taa()\n",
    "TAA = response['result']['taa_record']\n",
    "TAA['mechanism'] = \"service_agreement\"\n",
    "print(TAA)"
   ]
  },
  {
   "cell_type": "code",
   "execution_count": 9,
   "metadata": {},
   "outputs": [
    {
     "name": "stdout",
     "output_type": "stream",
     "text": [
      "{}\n"
     ]
    }
   ],
   "source": [
    "response = await agent_controller.ledger.accept_taa(TAA)\n",
    "## Will return {} if successful\n",
    "print(response)"
   ]
  },
  {
   "cell_type": "markdown",
   "metadata": {},
   "source": [
    "## 6. Set public DID\n",
    "\n",
    "Now you are able to assign the DID written to the ledger as public."
   ]
  },
  {
   "cell_type": "code",
   "execution_count": 10,
   "metadata": {},
   "outputs": [
    {
     "name": "stdout",
     "output_type": "stream",
     "text": [
      "{'result': {'did': '8o3GCSueozeXxMNR1LzewV', 'verkey': '5FNqx34hv3dwUzBKLmJ6UfPMmzqYfV12gBPgzMySx5bv', 'posture': 'public'}}\n"
     ]
    }
   ],
   "source": [
    "response = await agent_controller.wallet.assign_public_did(did_object[\"did\"])\n",
    "print(response)"
   ]
  },
  {
   "cell_type": "markdown",
   "metadata": {},
   "source": [
    "## 7. Get public DID"
   ]
  },
  {
   "cell_type": "code",
   "execution_count": 5,
   "metadata": {},
   "outputs": [
    {
     "name": "stdout",
     "output_type": "stream",
     "text": [
      "{'result': {'did': '8o3GCSueozeXxMNR1LzewV', 'verkey': '5FNqx34hv3dwUzBKLmJ6UfPMmzqYfV12gBPgzMySx5bv', 'posture': 'public'}}\n",
      "\n",
      "Issuer public DID: 8o3GCSueozeXxMNR1LzewV\n"
     ]
    }
   ],
   "source": [
    "response = await agent_controller.wallet.get_public_did()\n",
    "print(response)\n",
    "issuer_nym = response['result']['did']\n",
    "print('\\nIssuer public DID:',issuer_nym)"
   ]
  },
  {
   "cell_type": "markdown",
   "metadata": {},
   "source": [
    "## 8. Fetch verkey for public DID\n",
    "\n",
    "Additionally, we can verify that this DID does actually resolve to the public key material on the ledger."
   ]
  },
  {
   "cell_type": "code",
   "execution_count": 6,
   "metadata": {},
   "outputs": [
    {
     "name": "stdout",
     "output_type": "stream",
     "text": [
      "{'verkey': '5FNqx34hv3dwUzBKLmJ6UfPMmzqYfV12gBPgzMySx5bv'}\n"
     ]
    }
   ],
   "source": [
    "issuer_verkey = await agent_controller.ledger.get_did_verkey(issuer_nym)\n",
    "print(issuer_verkey)"
   ]
  },
  {
   "cell_type": "markdown",
   "metadata": {},
   "source": [
    "## 9. Get public DID endpoint\n",
    "\n",
    "As well as providing a publically accessible endpoint to contact the DID controller through the agent framework."
   ]
  },
  {
   "cell_type": "code",
   "execution_count": 8,
   "metadata": {},
   "outputs": [
    {
     "name": "stdout",
     "output_type": "stream",
     "text": [
      "{'endpoint': 'https://ef46-122-116-60-181.ngrok.io'}\n"
     ]
    }
   ],
   "source": [
    "issuer_endpoint = await agent_controller.ledger.get_did_endpoint(issuer_nym)\n",
    "print(issuer_endpoint)"
   ]
  },
  {
   "cell_type": "markdown",
   "metadata": {},
   "source": [
    "## 10. End of Tutorial\n",
    "\n",
    "Be sure to terminate the controller so you can run another tutorial."
   ]
  },
  {
   "cell_type": "code",
   "execution_count": 9,
   "metadata": {},
   "outputs": [
    {
     "name": "stdout",
     "output_type": "stream",
     "text": [
      "None\n"
     ]
    }
   ],
   "source": [
    "response = await agent_controller.terminate()\n",
    "print(response)"
   ]
  },
  {
   "cell_type": "markdown",
   "metadata": {},
   "source": [
    "# Proceed to Part 3 on [Issuer Notebook](http://localhost:8888/lab/tree/Part%203%20-%20Issue%20Credential.ipynb)\n",
    "\n",
    "Here you will be issued with a credential into your mobile SSI wallet that will be verified in part 4."
   ]
  },
  {
   "cell_type": "code",
   "execution_count": null,
   "metadata": {},
   "outputs": [],
   "source": []
  }
 ],
 "metadata": {
  "kernelspec": {
   "display_name": "Python 3 (ipykernel)",
   "language": "python",
   "name": "python3"
  },
  "language_info": {
   "codemirror_mode": {
    "name": "ipython",
    "version": 3
   },
   "file_extension": ".py",
   "mimetype": "text/x-python",
   "name": "python",
   "nbconvert_exporter": "python",
   "pygments_lexer": "ipython3",
   "version": "3.10.8"
  }
 },
 "nbformat": 4,
 "nbformat_minor": 4
}
