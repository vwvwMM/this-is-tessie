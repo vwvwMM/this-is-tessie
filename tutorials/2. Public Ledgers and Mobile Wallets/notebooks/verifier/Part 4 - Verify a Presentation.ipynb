{
 "cells": [
  {
   "cell_type": "markdown",
   "metadata": {},
   "source": [
    "# Verify a Presentation\n",
    "\n",
    "## Before running this notebook you should have a mobile wallet contained the credential you issued yourself in Part 3. If not run through [Part 2](http://localhost:8888/lab/tree/Part%202%20-%20Writing%20a%20Public%20DID%20to%20the%20Sovrin%20StagingNet.ipynb) and [Part 3](http://localhost:8888/lab/tree/Part%203%20-%20Issue%20Credential.ipynb) of this tutorial.\n",
    "\n",
    "If unfamiliar with the present-proof protocol it is worth reading through the [aries-rfs](https://github.com/hyperledger/aries-rfcs/tree/master/features/0037-present-proof)\n"
   ]
  },
  {
   "cell_type": "markdown",
   "metadata": {},
   "source": [
    "## Note that you do not need to write a public DID to the ledger as a verifier."
   ]
  },
  {
   "cell_type": "markdown",
   "metadata": {
    "pycharm": {
     "name": "#%%\n"
    }
   },
   "source": [
    "## 1. Instatiate Controller for Verifiers's Agent"
   ]
  },
  {
   "cell_type": "code",
   "execution_count": 1,
   "metadata": {
    "pycharm": {
     "name": "#%%\n"
    }
   },
   "outputs": [
    {
     "name": "stdout",
     "output_type": "stream",
     "text": [
      "IPython autoawait is `on`, and set to use `asyncio`\n"
     ]
    }
   ],
   "source": [
    "%autoawait\n",
    "import time\n",
    "import asyncio\n",
    "from termcolor import colored,cprint\n",
    "\n",
    "from aries_basic_controller.aries_controller import AriesAgentController\n",
    "\n",
    "WEBHOOK_HOST = \"0.0.0.0\"\n",
    "WEBHOOK_PORT = 8052\n",
    "WEBHOOK_BASE = \"\"\n",
    "ADMIN_URL = \"http://verifier-agent:8051\"\n",
    "\n",
    "# Based on the aca-py agent you wish to control\n",
    "agent_controller = AriesAgentController(admin_url=ADMIN_URL)\n"
   ]
  },
  {
   "cell_type": "code",
   "execution_count": 2,
   "metadata": {},
   "outputs": [],
   "source": [
    "agent_controller.init_webhook_server(webhook_host=WEBHOOK_HOST,\n",
    "                                     webhook_port=WEBHOOK_PORT,\n",
    "                                     webhook_base=WEBHOOK_BASE)"
   ]
  },
  {
   "cell_type": "markdown",
   "metadata": {},
   "source": [
    "## 2. Register Listeners\n",
    "\n",
    "The handler should get called every time the controller receives a webhook with the topic present_proof, printing out the payload. The agent calls to this webhook every time it receives a present proof protocol message from another agent. \n"
   ]
  },
  {
   "cell_type": "code",
   "execution_count": 3,
   "metadata": {
    "pycharm": {
     "name": "#%%\n"
    }
   },
   "outputs": [
    {
     "name": "stdout",
     "output_type": "stream",
     "text": [
      "Subscribing too: connections\n",
      "Subscribing too: present_proof\n"
     ]
    }
   ],
   "source": [
    "loop = asyncio.get_event_loop()\n",
    "loop.create_task(agent_controller.listen_webhooks())\n",
    "\n",
    "def connections_handler(payload):\n",
    "    global STATE\n",
    "    connection_id = payload[\"connection_id\"]\n",
    "    print(\"Connection message\", payload, connection_id)\n",
    "    STATE = payload['state']\n",
    "    if STATE == 'active':\n",
    "#         print('Connection {0} changed state to active'.format(connection_id))\n",
    "        print(colored(\"Connection {0} changed state to active\".format(connection_id), \"red\", attrs=[\"bold\"]))\n",
    "\n",
    "\n",
    "connection_listener = {\n",
    "    \"handler\": connections_handler,\n",
    "    \"topic\": \"connections\"\n",
    "}\n",
    "\n",
    "def proof_handler(payload):\n",
    "    print(\"Handle present proof\")\n",
    "    print(payload)\n",
    "\n",
    "proof_listener = {\n",
    "    \"topic\": \"present_proof\",\n",
    "    \"handler\": proof_handler\n",
    "}\n",
    "\n",
    "agent_controller.register_listeners([connection_listener,proof_listener], defaults=True)\n",
    "\n"
   ]
  },
  {
   "cell_type": "markdown",
   "metadata": {},
   "source": [
    "## 3. Make a connection with the Mobile SSI Wallet you used in [Part 2](http://localhost:8888/lab/tree/Part%202%20-%20Writing%20a%20Public%20DID%20to%20the%20Sovrin%20StagingNet.ipynb)\n",
    "\n",
    "**You should have a credential stored in here from the previous notebook!**\n",
    "\n",
    "Please download a mobile SSI wallet such as [Connect.me](https://connect.me/), [Trinsic](https://trinsic.id/trinsic-wallet/) or any other Aries compatible wallet."
   ]
  },
  {
   "cell_type": "markdown",
   "metadata": {},
   "source": [
    "## 4. Create a connection invitation to scan with the Mobile SSI Wallet"
   ]
  },
  {
   "cell_type": "markdown",
   "metadata": {},
   "source": [
    "## 4a. Check for any existing connections"
   ]
  },
  {
   "cell_type": "code",
   "execution_count": 13,
   "metadata": {},
   "outputs": [
    {
     "name": "stdout",
     "output_type": "stream",
     "text": [
      "{}\n"
     ]
    }
   ],
   "source": [
    "removed = await agent_controller.connections.remove_connection('336829c7-f19b-4365-8ea9-ace2ccb5ee0c')\n",
    "print(removed)"
   ]
  },
  {
   "cell_type": "code",
   "execution_count": 14,
   "metadata": {},
   "outputs": [
    {
     "name": "stdout",
     "output_type": "stream",
     "text": [
      "EXISTING CONNECTIONS\n"
     ]
    }
   ],
   "source": [
    "# Check for existing connections\n",
    "connection = await agent_controller.connections.get_connections()\n",
    "print(\"EXISTING CONNECTIONS\")\n",
    "for key, value in connection.items():\n",
    "    for item in value:\n",
    "        print('ConnectionID:', item['connection_id'], 'Status:',item['state'])"
   ]
  },
  {
   "cell_type": "markdown",
   "metadata": {},
   "source": [
    "## 4b. Create an Invitation"
   ]
  },
  {
   "cell_type": "code",
   "execution_count": 15,
   "metadata": {},
   "outputs": [
    {
     "name": "stdout",
     "output_type": "stream",
     "text": [
      "Connection message {'invitation_key': '9cVZSJcsb47QLfE3t6jQgXz3fVd8Khg4x2p89Uz8rRdG', 'state': 'invitation', 'routing_state': 'none', 'invitation_mode': 'once', 'their_role': 'invitee', 'accept': 'auto', 'rfc23_state': 'invitation-sent', 'connection_id': '0253add3-ef24-4f6f-9cbe-766e3ac33805', 'updated_at': '2023-01-01 13:23:46.351165Z', 'created_at': '2023-01-01 13:23:46.351165Z'} 0253add3-ef24-4f6f-9cbe-766e3ac33805\n",
      "Connection ID 0253add3-ef24-4f6f-9cbe-766e3ac33805\n",
      "Invitation\n",
      "http://ec41-122-116-60-181.ngrok.io?c_i=eyJAdHlwZSI6ICJkaWQ6c292OkJ6Q2JzTlloTXJqSGlxWkRUVUFTSGc7c3BlYy9jb25uZWN0aW9ucy8xLjAvaW52aXRhdGlvbiIsICJAaWQiOiAiYzE2N2U3ZTQtNjhkYi00MDQ0LThiNTAtOThlMDc0ZDU0ZWFiIiwgImxhYmVsIjogIlZFUklGSUVSIiwgInJlY2lwaWVudEtleXMiOiBbIjljVlpTSmNzYjQ3UUxmRTN0NmpRZ1h6M2ZWZDhLaGc0eDJwODlVejhyUmRHIl0sICJzZXJ2aWNlRW5kcG9pbnQiOiAiaHR0cDovL2VjNDEtMTIyLTExNi02MC0xODEubmdyb2suaW8ifQ==\n"
     ]
    }
   ],
   "source": [
    "# Create Invitation\n",
    "invite = await agent_controller.connections.create_invitation()\n",
    "connection_id = invite[\"connection_id\"]\n",
    "print(\"Connection ID\", connection_id)\n",
    "print(\"Invitation\")\n",
    "print(invite['invitation_url'])\n",
    "inviteURL = invite['invitation_url']"
   ]
  },
  {
   "cell_type": "markdown",
   "metadata": {},
   "source": [
    "## 4c. Generate QR Code to be scanned with Mobile SSI Wallet"
   ]
  },
  {
   "cell_type": "code",
   "execution_count": 16,
   "metadata": {},
   "outputs": [
    {
     "data": {
      "image/png": "[encoded data removed]",
      "text/plain": [
       "<IPython.core.display.Image object>"
      ]
     },
     "execution_count": 16,
     "metadata": {
      "image/png": {
       "width": 400
      }
     },
     "output_type": "execute_result"
    },
    {
     "name": "stdout",
     "output_type": "stream",
     "text": [
      "Connection message {'invitation_key': '9cVZSJcsb47QLfE3t6jQgXz3fVd8Khg4x2p89Uz8rRdG', 'state': 'request', 'routing_state': 'none', 'invitation_mode': 'once', 'their_role': 'invitee', 'accept': 'auto', 'their_label': 'Chloebaba', 'rfc23_state': 'request-received', 'connection_id': '0253add3-ef24-4f6f-9cbe-766e3ac33805', 'updated_at': '2023-01-01 13:23:55.008045Z', 'their_did': 'Lwa2ouGuDXRGni9UeUCLu', 'created_at': '2023-01-01 13:23:46.351165Z'} 0253add3-ef24-4f6f-9cbe-766e3ac33805\n",
      "Connection message {'invitation_key': '9cVZSJcsb47QLfE3t6jQgXz3fVd8Khg4x2p89Uz8rRdG', 'state': 'response', 'routing_state': 'none', 'invitation_mode': 'once', 'my_did': 'Vi6SfptnLKYXpx8dnEA7rK', 'their_role': 'invitee', 'accept': 'auto', 'their_label': 'Chloebaba', 'rfc23_state': 'response-sent', 'connection_id': '0253add3-ef24-4f6f-9cbe-766e3ac33805', 'updated_at': '2023-01-01 13:23:55.056318Z', 'their_did': 'Lwa2ouGuDXRGni9UeUCLu', 'created_at': '2023-01-01 13:23:46.351165Z'} 0253add3-ef24-4f6f-9cbe-766e3ac33805\n",
      "Connection message {'invitation_key': '9cVZSJcsb47QLfE3t6jQgXz3fVd8Khg4x2p89Uz8rRdG', 'state': 'active', 'routing_state': 'none', 'invitation_mode': 'once', 'my_did': 'Vi6SfptnLKYXpx8dnEA7rK', 'their_role': 'invitee', 'accept': 'auto', 'their_label': 'Chloebaba', 'rfc23_state': 'completed', 'connection_id': '0253add3-ef24-4f6f-9cbe-766e3ac33805', 'updated_at': '2023-01-01 13:23:59.533632Z', 'their_did': 'Lwa2ouGuDXRGni9UeUCLu', 'created_at': '2023-01-01 13:23:46.351165Z'} 0253add3-ef24-4f6f-9cbe-766e3ac33805\n",
      "\u001b[1m\u001b[31mConnection 0253add3-ef24-4f6f-9cbe-766e3ac33805 changed state to active\u001b[0m\n"
     ]
    }
   ],
   "source": [
    "import qrcode\n",
    "# Link for connection invitation\n",
    "input_data = inviteURL\n",
    "# Creating an instance of qrcode\n",
    "qr = qrcode.QRCode(\n",
    "        version=1,\n",
    "        box_size=10,\n",
    "        border=5)\n",
    "qr.add_data(input_data)\n",
    "qr.make(fit=True)\n",
    "img = qr.make_image(fill='black', back_color='white')\n",
    "img.save('verifier_agent_invite_QRcode.png')\n",
    "\n",
    "from IPython.display import Image\n",
    "Image(width=400, filename='./verifier_agent_invite_QRcode.png')"
   ]
  },
  {
   "cell_type": "markdown",
   "metadata": {},
   "source": [
    "## 4d. Check if established connection is in active state"
   ]
  },
  {
   "cell_type": "code",
   "execution_count": 17,
   "metadata": {},
   "outputs": [
    {
     "name": "stdout",
     "output_type": "stream",
     "text": [
      "\u001b[1m\u001b[35mCurrent state for ConnectionId 0253add3-ef24-4f6f-9cbe-766e3ac33805 is active\u001b[0m\n",
      "\u001b[1m\u001b[32mConnectionId: 0253add3-ef24-4f6f-9cbe-766e3ac33805 is now active. Continue with notebook\u001b[0m\n"
     ]
    }
   ],
   "source": [
    "import time\n",
    "\n",
    "# print('Current state for ConnectionId {} is {}'.format(connection_id,STATE))\n",
    "print(colored(\"Current state for ConnectionId {} is {}\".format(connection_id,STATE), \"magenta\", attrs=[\"bold\"]))\n",
    "while STATE != 'active':\n",
    "#     print('ConnectionId {0} is not in active state yet'.format(connection_id))\n",
    "    print(colored(\"ConnectionId {0} is not in active state yet\".format(connection_id), \"yellow\", attrs=[\"bold\"]))\n",
    "    trust_ping = await agent_controller.messaging.trust_ping(connection_id,'hello!')\n",
    "#     print('Trust ping send to ConnectionId {0} to activate connection'.format(trust_ping))\n",
    "    print(colored(\"Trust ping send to ConnectionId {0} to activate connection\".format(trust_ping), \"blue\", attrs=[\"bold\"]))\n",
    "    time.sleep(5)\n",
    "    \n",
    "# print('ConnectionId: {0} is now active. Continue with notebook'.format(connection_id))\n",
    "print(colored(\"ConnectionId: {0} is now active. Continue with notebook\".format(connection_id), \"green\", attrs=[\"bold\"]))\n"
   ]
  },
  {
   "cell_type": "markdown",
   "metadata": {},
   "source": [
    "## 5. Send Proof Request to Identity Holder Mobile Wallet"
   ]
  },
  {
   "cell_type": "markdown",
   "metadata": {},
   "source": [
    "## 5a. Generate Proof Request\n",
    "\n",
    "The verifier will request a proof from the identity holder for the following attributes:\n",
    "\n",
    "    fullname\"\n",
    "    \"skill\"\n",
    "    \"country\" - self-attested\n",
    "    \"age\" - as a predicate range proof to determine if the identity holder is older than 21\n",
    "\n",
    "\n",
    "Note how the verifier has restricted the proof request to only include credentials issued against a specific `schema_id`. \n",
    "\n",
    "In our case `schema_id` = EuEtnVakYFyBtGFT1nHYtH:2:SSI PyDentity Tutorial:0.0.1\n",
    "\n",
    "If you ledgered your own schema in [Part 2](http://127.0.0.1:8888/notebooks/Part%203%20-%20Issuer.ipynb) and didn't use the pre-ledgered schema then please copy the new schema_id into the `schemaid` variable in the cell below.\n",
    "\n",
    "TODO: Add information around predicates"
   ]
  },
  {
   "cell_type": "code",
   "execution_count": 24,
   "metadata": {
    "pycharm": {
     "name": "#%%\n"
    }
   },
   "outputs": [
    {
     "name": "stdout",
     "output_type": "stream",
     "text": [
      "Request proof of Credentials range from Identity Holder\n"
     ]
    }
   ],
   "source": [
    "# schema_id = 'EuEtnVakYFyBtGFT1nHYtH:2:SSI PyDentity Tutorial:0.0.1'\n",
    "schema_id= '8o3GCSueozeXxMNR1LzewV:2:Test Schema Chloebaba:0.0.1'\n",
    "\n",
    "print(\"Request proof of Credentials range from Identity Holder\")\n",
    "#Set some variables\n",
    "\n",
    "revocation = False\n",
    "SELF_ATTESTED = True\n",
    "exchange_tracing = False\n",
    "\n",
    "#Enable this to ask for attributes to identity a user\n",
    "#TODO - change restriction to schemaId or credentialId\n",
    "\n",
    "req_attrs = [\n",
    "    {\"name\": \"author\", \"restrictions\": [{\"schema_id\": schema_id}]},\n",
    "    {\"name\": \"name\", \"restrictions\": [{\"schema_id\": schema_id}]},\n",
    "    {\"name\": \"is_original\", \"restrictions\": [{\"schema_id\": schema_id}]},\n",
    "]\n",
    "\n",
    "if revocation:\n",
    "    req_attrs.append(\n",
    "        {\n",
    "            \"name\": \"time\",\n",
    "            \"restrictions\": [{\"schema_id\": schema_id}],\n",
    "            \"non_revoked\": {\"to\": int(time.time() - 1)},\n",
    "        },\n",
    "    )\n",
    "\n",
    "if SELF_ATTESTED:\n",
    "    # test self-attested claims\n",
    "    req_attrs.append({\"name\": \"type\"},)\n",
    "\n",
    "#Set predicates for Zero Knowledge Proofs\n",
    "req_preds = [\n",
    "    # test zero-knowledge proofs\n",
    "    {\n",
    "        \"name\": \"is_original\",\n",
    "        \"p_type\": \">=\",\n",
    "        \"p_value\": 1,\n",
    "        \"restrictions\": [{\"schema_id\": schema_id}],\n",
    "    }\n",
    "]\n",
    "\n",
    "indy_proof_request = {\n",
    "    \"name\": \"Proof of Originality\",\n",
    "    \"version\": \"2.0\",\n",
    "    \"requested_attributes\": {\n",
    "        f\"0_{req_attr['name']}_uuid\":\n",
    "        req_attr for req_attr in req_attrs\n",
    "    },\n",
    "    \"requested_predicates\": {\n",
    "        f\"0_{req_pred['name']}_GE_uuid\":\n",
    "        req_pred for req_pred in req_preds\n",
    "    },\n",
    "}\n",
    "\n",
    "if revocation:\n",
    "    indy_proof_request[\"non_revoked\"] = {\"to\": int(time.time())}\n",
    "\n",
    "#proof_request = indy_proof_request\n",
    "exchange_tracing_id = exchange_tracing\n",
    "proof_request_web_request = {\n",
    "    \"connection_id\": connection_id,\n",
    "    \"proof_request\": indy_proof_request,\n",
    "    \"trace\": exchange_tracing,\n",
    "}"
   ]
  },
  {
   "cell_type": "markdown",
   "metadata": {},
   "source": [
    "### 5b. Send the proof request to Identity Holder\n",
    "\n",
    "Identity Holder is identified through the connection_id"
   ]
  },
  {
   "cell_type": "code",
   "execution_count": 25,
   "metadata": {
    "pycharm": {
     "name": "#%%\n"
    }
   },
   "outputs": [
    {
     "name": "stdout",
     "output_type": "stream",
     "text": [
      "{'state': 'request_sent', 'thread_id': '7698e7b3-8222-46a9-99a0-3fb9a1821b52', 'auto_present': False, 'presentation_exchange_id': '6b05d3ef-19a7-43e4-a81d-8352ca49195b', 'role': 'verifier', 'connection_id': '0253add3-ef24-4f6f-9cbe-766e3ac33805', 'presentation_request': {'name': 'Proof of Originality', 'version': '2.0', 'requested_attributes': {'0_author_uuid': {'name': 'author', 'restrictions': [{'schema_id': '8o3GCSueozeXxMNR1LzewV:2:Test Schema Chloebaba:0.0.1'}]}, '0_name_uuid': {'name': 'name', 'restrictions': [{'schema_id': '8o3GCSueozeXxMNR1LzewV:2:Test Schema Chloebaba:0.0.1'}]}, '0_is_original_uuid': {'name': 'is_original', 'restrictions': [{'schema_id': '8o3GCSueozeXxMNR1LzewV:2:Test Schema Chloebaba:0.0.1'}]}, '0_type_uuid': {'name': 'type'}}, 'requested_predicates': {'0_is_original_GE_uuid': {'name': 'is_original', 'p_type': '>=', 'p_value': 1, 'restrictions': [{'schema_id': '8o3GCSueozeXxMNR1LzewV:2:Test Schema Chloebaba:0.0.1'}]}}, 'nonce': '74488300146216360316854'}, 'presentation_request_dict': {'@type': 'did:sov:BzCbsNYhMrjHiqZDTUASHg;spec/present-proof/1.0/request-presentation', '@id': '7698e7b3-8222-46a9-99a0-3fb9a1821b52', 'request_presentations~attach': [{'@id': 'libindy-request-presentation-0', 'mime-type': 'application/json', 'data': {'base64': 'eyJuYW1lIjogIlByb29mIG9mIE9yaWdpbmFsaXR5IiwgInZlcnNpb24iOiAiMi4wIiwgInJlcXVlc3RlZF9hdHRyaWJ1dGVzIjogeyIwX2F1dGhvcl91dWlkIjogeyJuYW1lIjogImF1dGhvciIsICJyZXN0cmljdGlvbnMiOiBbeyJzY2hlbWFfaWQiOiAiOG8zR0NTdWVvemVYeE1OUjFMemV3VjoyOlRlc3QgU2NoZW1hIENobG9lYmFiYTowLjAuMSJ9XX0sICIwX25hbWVfdXVpZCI6IHsibmFtZSI6ICJuYW1lIiwgInJlc3RyaWN0aW9ucyI6IFt7InNjaGVtYV9pZCI6ICI4bzNHQ1N1ZW96ZVh4TU5SMUx6ZXdWOjI6VGVzdCBTY2hlbWEgQ2hsb2ViYWJhOjAuMC4xIn1dfSwgIjBfaXNfb3JpZ2luYWxfdXVpZCI6IHsibmFtZSI6ICJpc19vcmlnaW5hbCIsICJyZXN0cmljdGlvbnMiOiBbeyJzY2hlbWFfaWQiOiAiOG8zR0NTdWVvemVYeE1OUjFMemV3VjoyOlRlc3QgU2NoZW1hIENobG9lYmFiYTowLjAuMSJ9XX0sICIwX3R5cGVfdXVpZCI6IHsibmFtZSI6ICJ0eXBlIn19LCAicmVxdWVzdGVkX3ByZWRpY2F0ZXMiOiB7IjBfaXNfb3JpZ2luYWxfR0VfdXVpZCI6IHsibmFtZSI6ICJpc19vcmlnaW5hbCIsICJwX3R5cGUiOiAiPj0iLCAicF92YWx1ZSI6IDEsICJyZXN0cmljdGlvbnMiOiBbeyJzY2hlbWFfaWQiOiAiOG8zR0NTdWVvemVYeE1OUjFMemV3VjoyOlRlc3QgU2NoZW1hIENobG9lYmFiYTowLjAuMSJ9XX19LCAibm9uY2UiOiAiNzQ0ODgzMDAxNDYyMTYzNjAzMTY4NTQifQ=='}}]}, 'initiator': 'self', 'trace': False, 'updated_at': '2023-01-01 13:29:42.713401Z', 'created_at': '2023-01-01 13:29:42.713401Z'}\n",
      "\n",
      "\n",
      "6b05d3ef-19a7-43e4-a81d-8352ca49195b\n",
      "Handle present proof\n",
      "{'state': 'request_sent', 'thread_id': '7698e7b3-8222-46a9-99a0-3fb9a1821b52', 'auto_present': False, 'presentation_exchange_id': '6b05d3ef-19a7-43e4-a81d-8352ca49195b', 'role': 'verifier', 'connection_id': '0253add3-ef24-4f6f-9cbe-766e3ac33805', 'presentation_request': {'name': 'Proof of Originality', 'version': '2.0', 'requested_attributes': {'0_author_uuid': {'name': 'author', 'restrictions': [{'schema_id': '8o3GCSueozeXxMNR1LzewV:2:Test Schema Chloebaba:0.0.1'}]}, '0_name_uuid': {'name': 'name', 'restrictions': [{'schema_id': '8o3GCSueozeXxMNR1LzewV:2:Test Schema Chloebaba:0.0.1'}]}, '0_is_original_uuid': {'name': 'is_original', 'restrictions': [{'schema_id': '8o3GCSueozeXxMNR1LzewV:2:Test Schema Chloebaba:0.0.1'}]}, '0_type_uuid': {'name': 'type'}}, 'requested_predicates': {'0_is_original_GE_uuid': {'name': 'is_original', 'p_type': '>=', 'p_value': 1, 'restrictions': [{'schema_id': '8o3GCSueozeXxMNR1LzewV:2:Test Schema Chloebaba:0.0.1'}]}}, 'nonce': '74488300146216360316854'}, 'presentation_request_dict': {'@type': 'did:sov:BzCbsNYhMrjHiqZDTUASHg;spec/present-proof/1.0/request-presentation', '@id': '7698e7b3-8222-46a9-99a0-3fb9a1821b52', 'request_presentations~attach': [{'@id': 'libindy-request-presentation-0', 'mime-type': 'application/json', 'data': {'base64': 'eyJuYW1lIjogIlByb29mIG9mIE9yaWdpbmFsaXR5IiwgInZlcnNpb24iOiAiMi4wIiwgInJlcXVlc3RlZF9hdHRyaWJ1dGVzIjogeyIwX2F1dGhvcl91dWlkIjogeyJuYW1lIjogImF1dGhvciIsICJyZXN0cmljdGlvbnMiOiBbeyJzY2hlbWFfaWQiOiAiOG8zR0NTdWVvemVYeE1OUjFMemV3VjoyOlRlc3QgU2NoZW1hIENobG9lYmFiYTowLjAuMSJ9XX0sICIwX25hbWVfdXVpZCI6IHsibmFtZSI6ICJuYW1lIiwgInJlc3RyaWN0aW9ucyI6IFt7InNjaGVtYV9pZCI6ICI4bzNHQ1N1ZW96ZVh4TU5SMUx6ZXdWOjI6VGVzdCBTY2hlbWEgQ2hsb2ViYWJhOjAuMC4xIn1dfSwgIjBfaXNfb3JpZ2luYWxfdXVpZCI6IHsibmFtZSI6ICJpc19vcmlnaW5hbCIsICJyZXN0cmljdGlvbnMiOiBbeyJzY2hlbWFfaWQiOiAiOG8zR0NTdWVvemVYeE1OUjFMemV3VjoyOlRlc3QgU2NoZW1hIENobG9lYmFiYTowLjAuMSJ9XX0sICIwX3R5cGVfdXVpZCI6IHsibmFtZSI6ICJ0eXBlIn19LCAicmVxdWVzdGVkX3ByZWRpY2F0ZXMiOiB7IjBfaXNfb3JpZ2luYWxfR0VfdXVpZCI6IHsibmFtZSI6ICJpc19vcmlnaW5hbCIsICJwX3R5cGUiOiAiPj0iLCAicF92YWx1ZSI6IDEsICJyZXN0cmljdGlvbnMiOiBbeyJzY2hlbWFfaWQiOiAiOG8zR0NTdWVvemVYeE1OUjFMemV3VjoyOlRlc3QgU2NoZW1hIENobG9lYmFiYTowLjAuMSJ9XX19LCAibm9uY2UiOiAiNzQ0ODgzMDAxNDYyMTYzNjAzMTY4NTQifQ=='}}]}, 'initiator': 'self', 'trace': False, 'updated_at': '2023-01-01 13:29:42.713401Z', 'created_at': '2023-01-01 13:29:42.713401Z'}\n"
     ]
    }
   ],
   "source": [
    "response = await agent_controller.proofs.send_request(proof_request_web_request)\n",
    "print(response)\n",
    "presentation_exchange_id = response['presentation_exchange_id']\n",
    "print(\"\\n\")\n",
    "print(presentation_exchange_id)\n"
   ]
  },
  {
   "cell_type": "markdown",
   "metadata": {},
   "source": [
    "## 6. Verify Proof Presentation\n",
    "\n",
    "This is checking the signatures on the credentials presented against the credential schema and definition id stored and resolvable on the ledger. It is a bit of a big complicated object, so we show the common pattern for breaking it down, checking it's verified and accessing the data that has been presented."
   ]
  },
  {
   "cell_type": "code",
   "execution_count": 39,
   "metadata": {
    "pycharm": {
     "name": "#%%\n"
    }
   },
   "outputs": [
    {
     "ename": "ClientResponseError",
     "evalue": "400, message='Presentation exchange 33c162b3-2f29-4a8f-ad73-356d08347c9b in request_sent state (must be presentation_received)', url=URL('http://verifier-agent:8051/present-proof/records/33c162b3-2f29-4a8f-ad73-356d08347c9b/verify-presentation')",
     "output_type": "error",
     "traceback": [
      "\u001b[0;31m---------------------------------------------------------------------------\u001b[0m",
      "\u001b[0;31mClientResponseError\u001b[0m                       Traceback (most recent call last)",
      "Cell \u001b[0;32mIn[39], line 1\u001b[0m\n\u001b[0;32m----> 1\u001b[0m verify \u001b[38;5;241m=\u001b[39m \u001b[38;5;28;01mawait\u001b[39;00m agent_controller\u001b[38;5;241m.\u001b[39mproofs\u001b[38;5;241m.\u001b[39mverify_presentation(presentation_exchange_id)\n\u001b[1;32m      2\u001b[0m \u001b[38;5;28mprint\u001b[39m(verify)\n",
      "File \u001b[0;32m/aries_basic_controller/controllers/proof.py:86\u001b[0m, in \u001b[0;36mProofController.verify_presentation\u001b[0;34m(self, pres_ex_id)\u001b[0m\n\u001b[1;32m     85\u001b[0m \u001b[38;5;28;01masync\u001b[39;00m \u001b[38;5;28;01mdef\u001b[39;00m \u001b[38;5;21mverify_presentation\u001b[39m(\u001b[38;5;28mself\u001b[39m, pres_ex_id):\n\u001b[0;32m---> 86\u001b[0m     \u001b[38;5;28;01mreturn\u001b[39;00m \u001b[38;5;28;01mawait\u001b[39;00m \u001b[38;5;28mself\u001b[39m\u001b[38;5;241m.\u001b[39madmin_POST(\u001b[38;5;124mf\u001b[39m\u001b[38;5;124m\"\u001b[39m\u001b[38;5;132;01m{\u001b[39;00m\u001b[38;5;28mself\u001b[39m\u001b[38;5;241m.\u001b[39mbase_url\u001b[38;5;132;01m}\u001b[39;00m\u001b[38;5;124m/records/\u001b[39m\u001b[38;5;132;01m{\u001b[39;00mpres_ex_id\u001b[38;5;132;01m}\u001b[39;00m\u001b[38;5;124m/verify-presentation\u001b[39m\u001b[38;5;124m\"\u001b[39m)\n",
      "File \u001b[0;32m/aries_basic_controller/controllers/base.py:95\u001b[0m, in \u001b[0;36mBaseController.admin_POST\u001b[0;34m(self, path, json_data, text, params, data)\u001b[0m\n\u001b[1;32m     89\u001b[0m \u001b[38;5;28;01mtry\u001b[39;00m:\n\u001b[1;32m     90\u001b[0m     EVENT_LOGGER\u001b[38;5;241m.\u001b[39mdebug(\n\u001b[1;32m     91\u001b[0m         \u001b[38;5;124m\"\u001b[39m\u001b[38;5;124mController POST \u001b[39m\u001b[38;5;132;01m%s\u001b[39;00m\u001b[38;5;124m request to Agent\u001b[39m\u001b[38;5;132;01m%s\u001b[39;00m\u001b[38;5;124m\"\u001b[39m,\n\u001b[1;32m     92\u001b[0m         path,\n\u001b[1;32m     93\u001b[0m         (\u001b[38;5;124m\"\u001b[39m\u001b[38;5;124m with data: \u001b[39m\u001b[38;5;130;01m\\n\u001b[39;00m\u001b[38;5;132;01m{}\u001b[39;00m\u001b[38;5;124m\"\u001b[39m\u001b[38;5;241m.\u001b[39mformat(repr_json(json_data)) \u001b[38;5;28;01mif\u001b[39;00m json_data \u001b[38;5;28;01melse\u001b[39;00m \u001b[38;5;124m\"\u001b[39m\u001b[38;5;124m\"\u001b[39m),\n\u001b[1;32m     94\u001b[0m     )\n\u001b[0;32m---> 95\u001b[0m     response \u001b[38;5;241m=\u001b[39m \u001b[38;5;28;01mawait\u001b[39;00m \u001b[38;5;28mself\u001b[39m\u001b[38;5;241m.\u001b[39madmin_request(\u001b[38;5;124m\"\u001b[39m\u001b[38;5;124mPOST\u001b[39m\u001b[38;5;124m\"\u001b[39m, path, json_data, text, params, data)\n\u001b[1;32m     96\u001b[0m     EVENT_LOGGER\u001b[38;5;241m.\u001b[39mdebug(\n\u001b[1;32m     97\u001b[0m         \u001b[38;5;124m\"\u001b[39m\u001b[38;5;124mResponse from POST \u001b[39m\u001b[38;5;132;01m%s\u001b[39;00m\u001b[38;5;124m received: \u001b[39m\u001b[38;5;130;01m\\n\u001b[39;00m\u001b[38;5;132;01m%s\u001b[39;00m\u001b[38;5;124m\"\u001b[39m,\n\u001b[1;32m     98\u001b[0m         path,\n\u001b[1;32m     99\u001b[0m         repr_json(response),\n\u001b[1;32m    100\u001b[0m     )\n\u001b[1;32m    101\u001b[0m     \u001b[38;5;28;01mreturn\u001b[39;00m response\n",
      "File \u001b[0;32m/aries_basic_controller/controllers/base.py:63\u001b[0m, in \u001b[0;36mBaseController.admin_request\u001b[0;34m(self, method, path, json_data, text, params, data)\u001b[0m\n\u001b[1;32m     59\u001b[0m params \u001b[38;5;241m=\u001b[39m {k: v \u001b[38;5;28;01mfor\u001b[39;00m (k, v) \u001b[38;5;129;01min\u001b[39;00m (params \u001b[38;5;129;01mor\u001b[39;00m {})\u001b[38;5;241m.\u001b[39mitems() \u001b[38;5;28;01mif\u001b[39;00m v \u001b[38;5;129;01mis\u001b[39;00m \u001b[38;5;129;01mnot\u001b[39;00m \u001b[38;5;28;01mNone\u001b[39;00m}\n\u001b[1;32m     60\u001b[0m \u001b[38;5;28;01masync\u001b[39;00m \u001b[38;5;28;01mwith\u001b[39;00m \u001b[38;5;28mself\u001b[39m\u001b[38;5;241m.\u001b[39mclient_session\u001b[38;5;241m.\u001b[39mrequest(\n\u001b[1;32m     61\u001b[0m     method, \u001b[38;5;28mself\u001b[39m\u001b[38;5;241m.\u001b[39madmin_url \u001b[38;5;241m+\u001b[39m path, json\u001b[38;5;241m=\u001b[39mjson_data, params\u001b[38;5;241m=\u001b[39mparams, data\u001b[38;5;241m=\u001b[39mdata\n\u001b[1;32m     62\u001b[0m ) \u001b[38;5;28;01mas\u001b[39;00m resp:\n\u001b[0;32m---> 63\u001b[0m     \u001b[43mresp\u001b[49m\u001b[38;5;241;43m.\u001b[39;49m\u001b[43mraise_for_status\u001b[49m\u001b[43m(\u001b[49m\u001b[43m)\u001b[49m\n\u001b[1;32m     64\u001b[0m     resp_text \u001b[38;5;241m=\u001b[39m \u001b[38;5;28;01mawait\u001b[39;00m resp\u001b[38;5;241m.\u001b[39mtext()\n\u001b[1;32m     65\u001b[0m     \u001b[38;5;28;01mif\u001b[39;00m \u001b[38;5;129;01mnot\u001b[39;00m resp_text \u001b[38;5;129;01mand\u001b[39;00m \u001b[38;5;129;01mnot\u001b[39;00m text:\n",
      "File \u001b[0;32m/opt/conda/lib/python3.10/site-packages/aiohttp/client_reqrep.py:1000\u001b[0m, in \u001b[0;36mClientResponse.raise_for_status\u001b[0;34m(self)\u001b[0m\n\u001b[1;32m    998\u001b[0m \u001b[38;5;28;01massert\u001b[39;00m \u001b[38;5;28mself\u001b[39m\u001b[38;5;241m.\u001b[39mreason \u001b[38;5;129;01mis\u001b[39;00m \u001b[38;5;129;01mnot\u001b[39;00m \u001b[38;5;28;01mNone\u001b[39;00m\n\u001b[1;32m    999\u001b[0m \u001b[38;5;28mself\u001b[39m\u001b[38;5;241m.\u001b[39mrelease()\n\u001b[0;32m-> 1000\u001b[0m \u001b[38;5;28;01mraise\u001b[39;00m ClientResponseError(\n\u001b[1;32m   1001\u001b[0m     \u001b[38;5;28mself\u001b[39m\u001b[38;5;241m.\u001b[39mrequest_info,\n\u001b[1;32m   1002\u001b[0m     \u001b[38;5;28mself\u001b[39m\u001b[38;5;241m.\u001b[39mhistory,\n\u001b[1;32m   1003\u001b[0m     status\u001b[38;5;241m=\u001b[39m\u001b[38;5;28mself\u001b[39m\u001b[38;5;241m.\u001b[39mstatus,\n\u001b[1;32m   1004\u001b[0m     message\u001b[38;5;241m=\u001b[39m\u001b[38;5;28mself\u001b[39m\u001b[38;5;241m.\u001b[39mreason,\n\u001b[1;32m   1005\u001b[0m     headers\u001b[38;5;241m=\u001b[39m\u001b[38;5;28mself\u001b[39m\u001b[38;5;241m.\u001b[39mheaders,\n\u001b[1;32m   1006\u001b[0m )\n",
      "\u001b[0;31mClientResponseError\u001b[0m: 400, message='Presentation exchange 33c162b3-2f29-4a8f-ad73-356d08347c9b in request_sent state (must be presentation_received)', url=URL('http://verifier-agent:8051/present-proof/records/33c162b3-2f29-4a8f-ad73-356d08347c9b/verify-presentation')"
     ]
    },
    {
     "name": "stdout",
     "output_type": "stream",
     "text": [
      "Error during POST /present-proof/records/33c162b3-2f29-4a8f-ad73-356d08347c9b/verify-presentation: 400, message='Presentation exchange 33c162b3-2f29-4a8f-ad73-356d08347c9b in request_sent state (must be presentation_received)', url=URL('http://verifier-agent:8051/present-proof/records/33c162b3-2f29-4a8f-ad73-356d08347c9b/verify-presentation')\n"
     ]
    }
   ],
   "source": [
    "verify = await agent_controller.proofs.verify_presentation(presentation_exchange_id)\n",
    "print(verify)"
   ]
  },
  {
   "cell_type": "markdown",
   "metadata": {},
   "source": [
    "### Verifying the State\n",
    "\n",
    "Once verified through the agent framework api, the state should be 'verified', otherwise the presentation is invalid."
   ]
  },
  {
   "cell_type": "code",
   "execution_count": 25,
   "metadata": {},
   "outputs": [
    {
     "ename": "NameError",
     "evalue": "name 'verify' is not defined",
     "output_type": "error",
     "traceback": [
      "\u001b[0;31m---------------------------------------------------------------------------\u001b[0m",
      "\u001b[0;31mNameError\u001b[0m                                 Traceback (most recent call last)",
      "Cell \u001b[0;32mIn[25], line 1\u001b[0m\n\u001b[0;32m----> 1\u001b[0m \u001b[38;5;28mprint\u001b[39m(\u001b[43mverify\u001b[49m[\u001b[38;5;124m'\u001b[39m\u001b[38;5;124mstate\u001b[39m\u001b[38;5;124m'\u001b[39m])\n\u001b[1;32m      2\u001b[0m \u001b[38;5;28mprint\u001b[39m(verify[\u001b[38;5;124m'\u001b[39m\u001b[38;5;124mstate\u001b[39m\u001b[38;5;124m'\u001b[39m] \u001b[38;5;241m==\u001b[39m \u001b[38;5;124m'\u001b[39m\u001b[38;5;124mverified\u001b[39m\u001b[38;5;124m'\u001b[39m)\n",
      "\u001b[0;31mNameError\u001b[0m: name 'verify' is not defined"
     ]
    }
   ],
   "source": [
    "print(verify['state'])\n",
    "print(verify['state'] == 'verified')"
   ]
  },
  {
   "cell_type": "markdown",
   "metadata": {},
   "source": [
    "### Accessing the Revealed Attributes"
   ]
  },
  {
   "cell_type": "code",
   "execution_count": 14,
   "metadata": {},
   "outputs": [
    {
     "name": "stdout",
     "output_type": "stream",
     "text": [
      "PyDentity SSI Ninja\n",
      "Chloe Baba\n"
     ]
    }
   ],
   "source": [
    "# print(verify['presentation'])\n",
    "# print(verify['presentation']['requested_proof'])\n",
    "\n",
    "for (name, val) in verify['presentation']['requested_proof']['revealed_attrs'].items():\n",
    "    ## This is the actual data that you want. It's a little hidden\n",
    "    print(val['raw'])\n"
   ]
  },
  {
   "cell_type": "markdown",
   "metadata": {},
   "source": [
    "### Accessing self-attested attributes"
   ]
  },
  {
   "cell_type": "code",
   "execution_count": 15,
   "metadata": {},
   "outputs": [
    {
     "name": "stdout",
     "output_type": "stream",
     "text": [
      "0_country_uuid\n",
      "Taiwan\n"
     ]
    }
   ],
   "source": [
    "for (name, val) in verify['presentation']['requested_proof']['self_attested_attrs'].items():\n",
    "    print(name)\n",
    "    ## Slightly different for self attested attrs\n",
    "    print(val)"
   ]
  },
  {
   "cell_type": "markdown",
   "metadata": {},
   "source": [
    "## End of Tutorial\n",
    "\n",
    "Be sure to terminate the controller so you can run another tutorial."
   ]
  },
  {
   "cell_type": "code",
   "execution_count": 56,
   "metadata": {
    "pycharm": {
     "name": "#%%\n"
    }
   },
   "outputs": [
    {
     "name": "stdout",
     "output_type": "stream",
     "text": [
      "None\n"
     ]
    }
   ],
   "source": [
    "response = await agent_controller.terminate()\n",
    "print(response)"
   ]
  },
  {
   "cell_type": "markdown",
   "metadata": {},
   "source": [
    "## Well done on completing the PyDentity SSI training series!"
   ]
  },
  {
   "cell_type": "code",
   "execution_count": null,
   "metadata": {},
   "outputs": [],
   "source": []
  },
  {
   "cell_type": "code",
   "execution_count": null,
   "metadata": {},
   "outputs": [],
   "source": []
  }
 ],
 "metadata": {
  "kernelspec": {
   "display_name": "Python 3 (ipykernel)",
   "language": "python",
   "name": "python3"
  },
  "language_info": {
   "codemirror_mode": {
    "name": "ipython",
    "version": 3
   },
   "file_extension": ".py",
   "mimetype": "text/x-python",
   "name": "python",
   "nbconvert_exporter": "python",
   "pygments_lexer": "ipython3",
   "version": "3.10.8"
  }
 },
 "nbformat": 4,
 "nbformat_minor": 4
}
