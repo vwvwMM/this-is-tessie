{
 "cells": [
  {
   "cell_type": "markdown",
   "metadata": {},
   "source": [
    "# Verify a Presentation\n",
    "\n",
    "## Before running this notebook you should have a mobile wallet contained the credential you issued yourself in Part 3. If not run through [Part 2](http://localhost:8888/lab/tree/Part%202%20-%20Writing%20a%20Public%20DID%20to%20the%20Sovrin%20StagingNet.ipynb) and [Part 3](http://localhost:8888/lab/tree/Part%203%20-%20Issue%20Credential.ipynb) of this tutorial.\n",
    "\n",
    "If unfamiliar with the present-proof protocol it is worth reading through the [aries-rfs](https://github.com/hyperledger/aries-rfcs/tree/master/features/0037-present-proof)\n"
   ]
  },
  {
   "cell_type": "markdown",
   "metadata": {},
   "source": [
    "## Note that you do not need to write a public DID to the ledger as a verifier."
   ]
  },
  {
   "cell_type": "markdown",
   "metadata": {
    "pycharm": {
     "name": "#%%\n"
    }
   },
   "source": [
    "## 1. Instatiate Controller for Verifiers's Agent"
   ]
  },
  {
   "cell_type": "code",
   "execution_count": 3,
   "metadata": {
    "pycharm": {
     "name": "#%%\n"
    }
   },
   "outputs": [
    {
     "name": "stdout",
     "output_type": "stream",
     "text": [
      "IPython autoawait is `on`, and set to use `asyncio`\n"
     ]
    }
   ],
   "source": [
    "%autoawait\n",
    "import time\n",
    "import asyncio\n",
    "from termcolor import colored,cprint\n",
    "\n",
    "from aries_basic_controller.aries_controller import AriesAgentController\n",
    "\n",
    "WEBHOOK_HOST = \"0.0.0.0\"\n",
    "WEBHOOK_PORT = 8052\n",
    "WEBHOOK_BASE = \"\"\n",
    "ADMIN_URL = \"http://verifier-agent:8051\"\n",
    "\n",
    "# Based on the aca-py agent you wish to control\n",
    "agent_controller = AriesAgentController(admin_url=ADMIN_URL)\n"
   ]
  },
  {
   "cell_type": "code",
   "execution_count": 4,
   "metadata": {},
   "outputs": [],
   "source": [
    "agent_controller.init_webhook_server(webhook_host=WEBHOOK_HOST,\n",
    "                                     webhook_port=WEBHOOK_PORT,\n",
    "                                     webhook_base=WEBHOOK_BASE)"
   ]
  },
  {
   "cell_type": "markdown",
   "metadata": {},
   "source": [
    "## 2. Register Listeners\n",
    "\n",
    "The handler should get called every time the controller receives a webhook with the topic present_proof, printing out the payload. The agent calls to this webhook every time it receives a present proof protocol message from another agent. \n"
   ]
  },
  {
   "cell_type": "code",
   "execution_count": 5,
   "metadata": {
    "pycharm": {
     "name": "#%%\n"
    }
   },
   "outputs": [
    {
     "name": "stdout",
     "output_type": "stream",
     "text": [
      "Subscribing too: connections\n",
      "Subscribing too: present_proof\n"
     ]
    }
   ],
   "source": [
    "loop = asyncio.get_event_loop()\n",
    "loop.create_task(agent_controller.listen_webhooks())\n",
    "\n",
    "def connections_handler(payload):\n",
    "    global STATE\n",
    "    connection_id = payload[\"connection_id\"]\n",
    "    print(\"Connection message\", payload, connection_id)\n",
    "    STATE = payload['state']\n",
    "    if STATE == 'active':\n",
    "#         print('Connection {0} changed state to active'.format(connection_id))\n",
    "        print(colored(\"Connection {0} changed state to active\".format(connection_id), \"red\", attrs=[\"bold\"]))\n",
    "\n",
    "\n",
    "connection_listener = {\n",
    "    \"handler\": connections_handler,\n",
    "    \"topic\": \"connections\"\n",
    "}\n",
    "\n",
    "def proof_handler(payload):\n",
    "    print(\"Handle present proof\")\n",
    "    print(payload)\n",
    "\n",
    "proof_listener = {\n",
    "    \"topic\": \"present_proof\",\n",
    "    \"handler\": proof_handler\n",
    "}\n",
    "\n",
    "agent_controller.register_listeners([connection_listener,proof_listener], defaults=True)\n",
    "\n"
   ]
  },
  {
   "cell_type": "markdown",
   "metadata": {},
   "source": [
    "## 3. Make a connection with the Mobile SSI Wallet you used in [Part 2](http://localhost:8888/lab/tree/Part%202%20-%20Writing%20a%20Public%20DID%20to%20the%20Sovrin%20StagingNet.ipynb)\n",
    "\n",
    "**You should have a credential stored in here from the previous notebook!**\n",
    "\n",
    "Please download a mobile SSI wallet such as [Connect.me](https://connect.me/), [Trinsic](https://trinsic.id/trinsic-wallet/) or any other Aries compatible wallet."
   ]
  },
  {
   "cell_type": "markdown",
   "metadata": {},
   "source": [
    "## 4. Create a connection invitation to scan with the Mobile SSI Wallet"
   ]
  },
  {
   "cell_type": "markdown",
   "metadata": {},
   "source": [
    "## 4a. Check for any existing connections"
   ]
  },
  {
   "cell_type": "code",
   "execution_count": 6,
   "metadata": {},
   "outputs": [
    {
     "name": "stdout",
     "output_type": "stream",
     "text": [
      "EXISTING CONNECTIONS\n",
      "ConnectionID: 336829c7-f19b-4365-8ea9-ace2ccb5ee0c Status: active\n",
      "ConnectionID: 044f85fc-a712-4f75-b8fe-daa96e577fa8 Status: invitation\n",
      "ConnectionID: 50f7f9e6-051b-4bb9-b07d-e22cf785870c Status: invitation\n"
     ]
    }
   ],
   "source": [
    "# Check for existing connections\n",
    "connection = await agent_controller.connections.get_connections()\n",
    "print(\"EXISTING CONNECTIONS\")\n",
    "for key, value in connection.items():\n",
    "    for item in value:\n",
    "        print('ConnectionID:', item['connection_id'], 'Status:',item['state'])"
   ]
  },
  {
   "cell_type": "markdown",
   "metadata": {},
   "source": [
    "## 4b. Create an Invitation"
   ]
  },
  {
   "cell_type": "code",
   "execution_count": 7,
   "metadata": {},
   "outputs": [
    {
     "name": "stdout",
     "output_type": "stream",
     "text": [
      "Connection message {'routing_state': 'none', 'state': 'invitation', 'connection_id': '50eca01c-44d5-4e69-b208-e849b9e32c23', 'invitation_mode': 'once', 'their_role': 'invitee', 'created_at': '2023-01-01 09:57:48.008884Z', 'rfc23_state': 'invitation-sent', 'accept': 'auto', 'invitation_key': 'Dm1o4xT2H7D84pztjFuhsuQrpj4GzKbfHJ99KuBee5d7', 'updated_at': '2023-01-01 09:57:48.008884Z'} 50eca01c-44d5-4e69-b208-e849b9e32c23\n",
      "Connection ID 50eca01c-44d5-4e69-b208-e849b9e32c23\n",
      "Invitation\n",
      "http://756c-122-116-60-181.ngrok.io?c_i=eyJAdHlwZSI6ICJkaWQ6c292OkJ6Q2JzTlloTXJqSGlxWkRUVUFTSGc7c3BlYy9jb25uZWN0aW9ucy8xLjAvaW52aXRhdGlvbiIsICJAaWQiOiAiNGU5MTNkYjMtNzEwOC00YjY0LTg3MDYtOTI4YzUwM2VhZjRiIiwgInNlcnZpY2VFbmRwb2ludCI6ICJodHRwOi8vNzU2Yy0xMjItMTE2LTYwLTE4MS5uZ3Jvay5pbyIsICJyZWNpcGllbnRLZXlzIjogWyJEbTFvNHhUMkg3RDg0cHp0akZ1aHN1UXJwajRHektiZkhKOTlLdUJlZTVkNyJdLCAibGFiZWwiOiAiVkVSSUZJRVIifQ==\n"
     ]
    }
   ],
   "source": [
    "# Create Invitation\n",
    "invite = await agent_controller.connections.create_invitation()\n",
    "connection_id = invite[\"connection_id\"]\n",
    "print(\"Connection ID\", connection_id)\n",
    "print(\"Invitation\")\n",
    "print(invite['invitation_url'])\n",
    "inviteURL = invite['invitation_url']"
   ]
  },
  {
   "cell_type": "markdown",
   "metadata": {},
   "source": [
    "## 4c. Generate QR Code to be scanned with Mobile SSI Wallet"
   ]
  },
  {
   "cell_type": "code",
   "execution_count": 8,
   "metadata": {},
   "outputs": [
    {
     "data": {
      "image/png": "[encoded data removed]",
      "text/plain": [
       "<IPython.core.display.Image object>"
      ]
     },
     "execution_count": 8,
     "metadata": {
      "image/png": {
       "width": 400
      }
     },
     "output_type": "execute_result"
    },
    {
     "name": "stdout",
     "output_type": "stream",
     "text": [
      "Connection message {'their_label': 'Chloebaba', 'routing_state': 'none', 'their_did': '4q8rqJ9X6nLomRj4PsW14a', 'state': 'request', 'connection_id': '50eca01c-44d5-4e69-b208-e849b9e32c23', 'invitation_mode': 'once', 'their_role': 'invitee', 'created_at': '2023-01-01 09:57:48.008884Z', 'rfc23_state': 'request-received', 'accept': 'auto', 'invitation_key': 'Dm1o4xT2H7D84pztjFuhsuQrpj4GzKbfHJ99KuBee5d7', 'updated_at': '2023-01-01 09:57:53.452123Z'} 50eca01c-44d5-4e69-b208-e849b9e32c23\n",
      "Connection message {'their_label': 'Chloebaba', 'routing_state': 'none', 'their_did': '4q8rqJ9X6nLomRj4PsW14a', 'state': 'response', 'connection_id': '50eca01c-44d5-4e69-b208-e849b9e32c23', 'invitation_mode': 'once', 'their_role': 'invitee', 'created_at': '2023-01-01 09:57:48.008884Z', 'my_did': 'FWnPXmKNbFW65SRigLaKP1', 'rfc23_state': 'response-sent', 'accept': 'auto', 'invitation_key': 'Dm1o4xT2H7D84pztjFuhsuQrpj4GzKbfHJ99KuBee5d7', 'updated_at': '2023-01-01 09:57:53.502237Z'} 50eca01c-44d5-4e69-b208-e849b9e32c23\n",
      "Connection message {'their_label': 'Chloebaba', 'routing_state': 'none', 'their_did': '4q8rqJ9X6nLomRj4PsW14a', 'state': 'active', 'connection_id': '50eca01c-44d5-4e69-b208-e849b9e32c23', 'invitation_mode': 'once', 'their_role': 'invitee', 'created_at': '2023-01-01 09:57:48.008884Z', 'my_did': 'FWnPXmKNbFW65SRigLaKP1', 'rfc23_state': 'completed', 'accept': 'auto', 'invitation_key': 'Dm1o4xT2H7D84pztjFuhsuQrpj4GzKbfHJ99KuBee5d7', 'updated_at': '2023-01-01 09:57:58.404387Z'} 50eca01c-44d5-4e69-b208-e849b9e32c23\n",
      "\u001b[1m\u001b[31mConnection 50eca01c-44d5-4e69-b208-e849b9e32c23 changed state to active\u001b[0m\n"
     ]
    }
   ],
   "source": [
    "import qrcode\n",
    "# Link for connection invitation\n",
    "input_data = inviteURL\n",
    "# Creating an instance of qrcode\n",
    "qr = qrcode.QRCode(\n",
    "        version=1,\n",
    "        box_size=10,\n",
    "        border=5)\n",
    "qr.add_data(input_data)\n",
    "qr.make(fit=True)\n",
    "img = qr.make_image(fill='black', back_color='white')\n",
    "img.save('verifier_agent_invite_QRcode.png')\n",
    "\n",
    "from IPython.display import Image\n",
    "Image(width=400, filename='./verifier_agent_invite_QRcode.png')"
   ]
  },
  {
   "cell_type": "markdown",
   "metadata": {},
   "source": [
    "## 4d. Check if established connection is in active state"
   ]
  },
  {
   "cell_type": "code",
   "execution_count": 9,
   "metadata": {},
   "outputs": [
    {
     "name": "stdout",
     "output_type": "stream",
     "text": [
      "\u001b[1m\u001b[35mCurrent state for ConnectionId 50eca01c-44d5-4e69-b208-e849b9e32c23 is active\u001b[0m\n",
      "\u001b[1m\u001b[32mConnectionId: 50eca01c-44d5-4e69-b208-e849b9e32c23 is now active. Continue with notebook\u001b[0m\n"
     ]
    }
   ],
   "source": [
    "import time\n",
    "\n",
    "# print('Current state for ConnectionId {} is {}'.format(connection_id,STATE))\n",
    "print(colored(\"Current state for ConnectionId {} is {}\".format(connection_id,STATE), \"magenta\", attrs=[\"bold\"]))\n",
    "while STATE != 'active':\n",
    "#     print('ConnectionId {0} is not in active state yet'.format(connection_id))\n",
    "    print(colored(\"ConnectionId {0} is not in active state yet\".format(connection_id), \"yellow\", attrs=[\"bold\"]))\n",
    "    trust_ping = await agent_controller.messaging.trust_ping(connection_id,'hello!')\n",
    "#     print('Trust ping send to ConnectionId {0} to activate connection'.format(trust_ping))\n",
    "    print(colored(\"Trust ping send to ConnectionId {0} to activate connection\".format(trust_ping), \"blue\", attrs=[\"bold\"]))\n",
    "    time.sleep(5)\n",
    "    \n",
    "# print('ConnectionId: {0} is now active. Continue with notebook'.format(connection_id))\n",
    "print(colored(\"ConnectionId: {0} is now active. Continue with notebook\".format(connection_id), \"green\", attrs=[\"bold\"]))\n"
   ]
  },
  {
   "cell_type": "markdown",
   "metadata": {},
   "source": [
    "## 5. Send Proof Request to Identity Holder Mobile Wallet"
   ]
  },
  {
   "cell_type": "markdown",
   "metadata": {},
   "source": [
    "## 5a. Generate Proof Request\n",
    "\n",
    "The verifier will request a proof from the identity holder for the following attributes:\n",
    "\n",
    "    fullname\"\n",
    "    \"skill\"\n",
    "    \"country\" - self-attested\n",
    "    \"age\" - as a predicate range proof to determine if the identity holder is older than 21\n",
    "\n",
    "\n",
    "Note how the verifier has restricted the proof request to only include credentials issued against a specific `schema_id`. \n",
    "\n",
    "In our case `schema_id` = EuEtnVakYFyBtGFT1nHYtH:2:SSI PyDentity Tutorial:0.0.1\n",
    "\n",
    "If you ledgered your own schema in [Part 2](http://127.0.0.1:8888/notebooks/Part%203%20-%20Issuer.ipynb) and didn't use the pre-ledgered schema then please copy the new schema_id into the `schemaid` variable in the cell below.\n",
    "\n",
    "TODO: Add information around predicates"
   ]
  },
  {
   "cell_type": "code",
   "execution_count": 12,
   "metadata": {
    "pycharm": {
     "name": "#%%\n"
    }
   },
   "outputs": [
    {
     "name": "stdout",
     "output_type": "stream",
     "text": [
      "Request proof of Credentials range from Identity Holder\n"
     ]
    }
   ],
   "source": [
    "# schema_id = 'EuEtnVakYFyBtGFT1nHYtH:2:SSI PyDentity Tutorial:0.0.1'\n",
    "schema_id= '8o3GCSueozeXxMNR1LzewV:2:Test Schema Chloebaba:0.0.1'\n",
    "\n",
    "print(\"Request proof of Credentials range from Identity Holder\")\n",
    "#Set some variables\n",
    "\n",
    "revocation = False\n",
    "SELF_ATTESTED = True\n",
    "exchange_tracing = False\n",
    "\n",
    "#Enable this to ask for attributes to identity a user\n",
    "#TODO - change restriction to schemaId or credentialId\n",
    "\n",
    "req_attrs = [\n",
    "    {\"name\": \"author\", \"restrictions\": [{\"schema_id\": schema_id}]},\n",
    "    {\"name\": \"name\", \"restrictions\": [{\"schema_id\": schema_id}]},\n",
    "    {\"name\": \"time\", \"restrictions\": [{\"schema_id\": schema_id}]},\n",
    "    {\"name\": \"is_original\", \"restrictions\": [{\"schema_id\": schema_id}]},\n",
    "]\n",
    "\n",
    "if revocation:\n",
    "    req_attrs.append(\n",
    "        {\n",
    "            \"name\": \"skill\",\n",
    "            \"restrictions\": [{\"schema_id\": schema_id}],\n",
    "            \"non_revoked\": {\"to\": int(time.time() - 1)},\n",
    "        },\n",
    "    )\n",
    "\n",
    "if SELF_ATTESTED:\n",
    "    # test self-attested claims\n",
    "    req_attrs.append({\"name\": \"country\"},)\n",
    "\n",
    "#Set predicates for Zero Knowledge Proofs\n",
    "req_preds = [\n",
    "    # test zero-knowledge proofs\n",
    "    {\n",
    "        \"name\": \"is_original\",\n",
    "        \"p_type\": \"==\",\n",
    "        \"p_value\": \"original\",\n",
    "        \"restrictions\": [{\"schema_id\": schema_id}],\n",
    "    }\n",
    "]\n",
    "\n",
    "indy_proof_request = {\n",
    "    \"name\": \"Proof of originality\",\n",
    "    \"version\": \"1.0\",\n",
    "    \"requested_attributes\": {\n",
    "        f\"0_{req_attr['name']}_uuid\":\n",
    "        req_attr for req_attr in req_attrs\n",
    "    },\n",
    "    \"requested_predicates\": {\n",
    "        f\"0_{req_pred['name']}_GE_uuid\":\n",
    "        req_pred for req_pred in req_preds\n",
    "    },\n",
    "}\n",
    "\n",
    "if revocation:\n",
    "    indy_proof_request[\"non_revoked\"] = {\"to\": int(time.time())}\n",
    "\n",
    "#proof_request = indy_proof_request\n",
    "exchange_tracing_id = exchange_tracing\n",
    "proof_request_web_request = {\n",
    "    \"connection_id\": connection_id,\n",
    "    \"proof_request\": indy_proof_request,\n",
    "    \"trace\": exchange_tracing,\n",
    "}"
   ]
  },
  {
   "cell_type": "markdown",
   "metadata": {},
   "source": [
    "### 5b. Send the proof request to Identity Holder\n",
    "\n",
    "Identity Holder is identified through the connection_id"
   ]
  },
  {
   "cell_type": "code",
   "execution_count": 13,
   "metadata": {
    "pycharm": {
     "name": "#%%\n"
    }
   },
   "outputs": [
    {
     "ename": "ClientResponseError",
     "evalue": "422, message='Unprocessable Entity', url=URL('http://verifier-agent:8051/present-proof/send-request')",
     "output_type": "error",
     "traceback": [
      "\u001b[0;31m---------------------------------------------------------------------------\u001b[0m",
      "\u001b[0;31mClientResponseError\u001b[0m                       Traceback (most recent call last)",
      "Cell \u001b[0;32mIn[13], line 1\u001b[0m\n\u001b[0;32m----> 1\u001b[0m response \u001b[38;5;241m=\u001b[39m \u001b[38;5;28;01mawait\u001b[39;00m agent_controller\u001b[38;5;241m.\u001b[39mproofs\u001b[38;5;241m.\u001b[39msend_request(proof_request_web_request)\n\u001b[1;32m      2\u001b[0m \u001b[38;5;28mprint\u001b[39m(response)\n\u001b[1;32m      3\u001b[0m presentation_exchange_id \u001b[38;5;241m=\u001b[39m response[\u001b[38;5;124m'\u001b[39m\u001b[38;5;124mpresentation_exchange_id\u001b[39m\u001b[38;5;124m'\u001b[39m]\n",
      "File \u001b[0;32m/aries_basic_controller/controllers/proof.py:96\u001b[0m, in \u001b[0;36mProofController.send_request\u001b[0;34m(self, request)\u001b[0m\n\u001b[1;32m     95\u001b[0m \u001b[38;5;28;01masync\u001b[39;00m \u001b[38;5;28;01mdef\u001b[39;00m \u001b[38;5;21msend_request\u001b[39m(\u001b[38;5;28mself\u001b[39m, request):\n\u001b[0;32m---> 96\u001b[0m     \u001b[38;5;28;01mreturn\u001b[39;00m \u001b[38;5;28;01mawait\u001b[39;00m \u001b[38;5;28mself\u001b[39m\u001b[38;5;241m.\u001b[39madmin_POST(\u001b[38;5;124mf\u001b[39m\u001b[38;5;124m\"\u001b[39m\u001b[38;5;132;01m{\u001b[39;00m\u001b[38;5;28mself\u001b[39m\u001b[38;5;241m.\u001b[39mbase_url\u001b[38;5;132;01m}\u001b[39;00m\u001b[38;5;124m/send-request\u001b[39m\u001b[38;5;124m\"\u001b[39m, json_data\u001b[38;5;241m=\u001b[39mrequest)\n",
      "File \u001b[0;32m/aries_basic_controller/controllers/base.py:95\u001b[0m, in \u001b[0;36mBaseController.admin_POST\u001b[0;34m(self, path, json_data, text, params, data)\u001b[0m\n\u001b[1;32m     89\u001b[0m \u001b[38;5;28;01mtry\u001b[39;00m:\n\u001b[1;32m     90\u001b[0m     EVENT_LOGGER\u001b[38;5;241m.\u001b[39mdebug(\n\u001b[1;32m     91\u001b[0m         \u001b[38;5;124m\"\u001b[39m\u001b[38;5;124mController POST \u001b[39m\u001b[38;5;132;01m%s\u001b[39;00m\u001b[38;5;124m request to Agent\u001b[39m\u001b[38;5;132;01m%s\u001b[39;00m\u001b[38;5;124m\"\u001b[39m,\n\u001b[1;32m     92\u001b[0m         path,\n\u001b[1;32m     93\u001b[0m         (\u001b[38;5;124m\"\u001b[39m\u001b[38;5;124m with data: \u001b[39m\u001b[38;5;130;01m\\n\u001b[39;00m\u001b[38;5;132;01m{}\u001b[39;00m\u001b[38;5;124m\"\u001b[39m\u001b[38;5;241m.\u001b[39mformat(repr_json(json_data)) \u001b[38;5;28;01mif\u001b[39;00m json_data \u001b[38;5;28;01melse\u001b[39;00m \u001b[38;5;124m\"\u001b[39m\u001b[38;5;124m\"\u001b[39m),\n\u001b[1;32m     94\u001b[0m     )\n\u001b[0;32m---> 95\u001b[0m     response \u001b[38;5;241m=\u001b[39m \u001b[38;5;28;01mawait\u001b[39;00m \u001b[38;5;28mself\u001b[39m\u001b[38;5;241m.\u001b[39madmin_request(\u001b[38;5;124m\"\u001b[39m\u001b[38;5;124mPOST\u001b[39m\u001b[38;5;124m\"\u001b[39m, path, json_data, text, params, data)\n\u001b[1;32m     96\u001b[0m     EVENT_LOGGER\u001b[38;5;241m.\u001b[39mdebug(\n\u001b[1;32m     97\u001b[0m         \u001b[38;5;124m\"\u001b[39m\u001b[38;5;124mResponse from POST \u001b[39m\u001b[38;5;132;01m%s\u001b[39;00m\u001b[38;5;124m received: \u001b[39m\u001b[38;5;130;01m\\n\u001b[39;00m\u001b[38;5;132;01m%s\u001b[39;00m\u001b[38;5;124m\"\u001b[39m,\n\u001b[1;32m     98\u001b[0m         path,\n\u001b[1;32m     99\u001b[0m         repr_json(response),\n\u001b[1;32m    100\u001b[0m     )\n\u001b[1;32m    101\u001b[0m     \u001b[38;5;28;01mreturn\u001b[39;00m response\n",
      "File \u001b[0;32m/aries_basic_controller/controllers/base.py:63\u001b[0m, in \u001b[0;36mBaseController.admin_request\u001b[0;34m(self, method, path, json_data, text, params, data)\u001b[0m\n\u001b[1;32m     59\u001b[0m params \u001b[38;5;241m=\u001b[39m {k: v \u001b[38;5;28;01mfor\u001b[39;00m (k, v) \u001b[38;5;129;01min\u001b[39;00m (params \u001b[38;5;129;01mor\u001b[39;00m {})\u001b[38;5;241m.\u001b[39mitems() \u001b[38;5;28;01mif\u001b[39;00m v \u001b[38;5;129;01mis\u001b[39;00m \u001b[38;5;129;01mnot\u001b[39;00m \u001b[38;5;28;01mNone\u001b[39;00m}\n\u001b[1;32m     60\u001b[0m \u001b[38;5;28;01masync\u001b[39;00m \u001b[38;5;28;01mwith\u001b[39;00m \u001b[38;5;28mself\u001b[39m\u001b[38;5;241m.\u001b[39mclient_session\u001b[38;5;241m.\u001b[39mrequest(\n\u001b[1;32m     61\u001b[0m     method, \u001b[38;5;28mself\u001b[39m\u001b[38;5;241m.\u001b[39madmin_url \u001b[38;5;241m+\u001b[39m path, json\u001b[38;5;241m=\u001b[39mjson_data, params\u001b[38;5;241m=\u001b[39mparams, data\u001b[38;5;241m=\u001b[39mdata\n\u001b[1;32m     62\u001b[0m ) \u001b[38;5;28;01mas\u001b[39;00m resp:\n\u001b[0;32m---> 63\u001b[0m     \u001b[43mresp\u001b[49m\u001b[38;5;241;43m.\u001b[39;49m\u001b[43mraise_for_status\u001b[49m\u001b[43m(\u001b[49m\u001b[43m)\u001b[49m\n\u001b[1;32m     64\u001b[0m     resp_text \u001b[38;5;241m=\u001b[39m \u001b[38;5;28;01mawait\u001b[39;00m resp\u001b[38;5;241m.\u001b[39mtext()\n\u001b[1;32m     65\u001b[0m     \u001b[38;5;28;01mif\u001b[39;00m \u001b[38;5;129;01mnot\u001b[39;00m resp_text \u001b[38;5;129;01mand\u001b[39;00m \u001b[38;5;129;01mnot\u001b[39;00m text:\n",
      "File \u001b[0;32m/opt/conda/lib/python3.10/site-packages/aiohttp/client_reqrep.py:1000\u001b[0m, in \u001b[0;36mClientResponse.raise_for_status\u001b[0;34m(self)\u001b[0m\n\u001b[1;32m    998\u001b[0m \u001b[38;5;28;01massert\u001b[39;00m \u001b[38;5;28mself\u001b[39m\u001b[38;5;241m.\u001b[39mreason \u001b[38;5;129;01mis\u001b[39;00m \u001b[38;5;129;01mnot\u001b[39;00m \u001b[38;5;28;01mNone\u001b[39;00m\n\u001b[1;32m    999\u001b[0m \u001b[38;5;28mself\u001b[39m\u001b[38;5;241m.\u001b[39mrelease()\n\u001b[0;32m-> 1000\u001b[0m \u001b[38;5;28;01mraise\u001b[39;00m ClientResponseError(\n\u001b[1;32m   1001\u001b[0m     \u001b[38;5;28mself\u001b[39m\u001b[38;5;241m.\u001b[39mrequest_info,\n\u001b[1;32m   1002\u001b[0m     \u001b[38;5;28mself\u001b[39m\u001b[38;5;241m.\u001b[39mhistory,\n\u001b[1;32m   1003\u001b[0m     status\u001b[38;5;241m=\u001b[39m\u001b[38;5;28mself\u001b[39m\u001b[38;5;241m.\u001b[39mstatus,\n\u001b[1;32m   1004\u001b[0m     message\u001b[38;5;241m=\u001b[39m\u001b[38;5;28mself\u001b[39m\u001b[38;5;241m.\u001b[39mreason,\n\u001b[1;32m   1005\u001b[0m     headers\u001b[38;5;241m=\u001b[39m\u001b[38;5;28mself\u001b[39m\u001b[38;5;241m.\u001b[39mheaders,\n\u001b[1;32m   1006\u001b[0m )\n",
      "\u001b[0;31mClientResponseError\u001b[0m: 422, message='Unprocessable Entity', url=URL('http://verifier-agent:8051/present-proof/send-request')"
     ]
    },
    {
     "name": "stdout",
     "output_type": "stream",
     "text": [
      "Error during POST /present-proof/send-request: 422, message='Unprocessable Entity', url=URL('http://verifier-agent:8051/present-proof/send-request')\n"
     ]
    }
   ],
   "source": [
    "response = await agent_controller.proofs.send_request(proof_request_web_request)\n",
    "print(response)\n",
    "presentation_exchange_id = response['presentation_exchange_id']\n",
    "print(\"\\n\")\n",
    "print(presentation_exchange_id)\n"
   ]
  },
  {
   "cell_type": "markdown",
   "metadata": {},
   "source": [
    "## 6. Verify Proof Presentation\n",
    "\n",
    "This is checking the signatures on the credentials presented against the credential schema and definition id stored and resolvable on the ledger. It is a bit of a big complicated object, so we show the common pattern for breaking it down, checking it's verified and accessing the data that has been presented."
   ]
  },
  {
   "cell_type": "code",
   "execution_count": 12,
   "metadata": {
    "pycharm": {
     "name": "#%%\n"
    }
   },
   "outputs": [
    {
     "name": "stdout",
     "output_type": "stream",
     "text": [
      "Handle present proof\n",
      "{'presentation_request_dict': {'@type': 'did:sov:BzCbsNYhMrjHiqZDTUASHg;spec/present-proof/1.0/request-presentation', '@id': '7e3daa18-1231-476f-94a5-2b24d52fa0ed', 'request_presentations~attach': [{'@id': 'libindy-request-presentation-0', 'mime-type': 'application/json', 'data': {'base64': 'eyJuYW1lIjogIlByb29mIG9mIENvbXBsZXRpb24gb2YgUHlEZW50aXR5IFNTSSBUdXRvcmlhbCIsICJ2ZXJzaW9uIjogIjEuMCIsICJyZXF1ZXN0ZWRfYXR0cmlidXRlcyI6IHsiMF9mdWxsbmFtZV91dWlkIjogeyJuYW1lIjogImZ1bGxuYW1lIiwgInJlc3RyaWN0aW9ucyI6IFt7InNjaGVtYV9pZCI6ICI4bzNHQ1N1ZW96ZVh4TU5SMUx6ZXdWOjI6U1NJIFB5RGVudGl0eSBUdXRvcmlhbCBDaGxvZWJhYmE6MC4wLjEifV19LCAiMF9za2lsbF91dWlkIjogeyJuYW1lIjogInNraWxsIiwgInJlc3RyaWN0aW9ucyI6IFt7InNjaGVtYV9pZCI6ICI4bzNHQ1N1ZW96ZVh4TU5SMUx6ZXdWOjI6U1NJIFB5RGVudGl0eSBUdXRvcmlhbCBDaGxvZWJhYmE6MC4wLjEifV19LCAiMF9jb3VudHJ5X3V1aWQiOiB7Im5hbWUiOiAiY291bnRyeSJ9fSwgInJlcXVlc3RlZF9wcmVkaWNhdGVzIjogeyIwX2FnZV9HRV91dWlkIjogeyJuYW1lIjogImFnZSIsICJwX3R5cGUiOiAiPj0iLCAicF92YWx1ZSI6IDIxLCAicmVzdHJpY3Rpb25zIjogW3sic2NoZW1hX2lkIjogIjhvM0dDU3Vlb3plWHhNTlIxTHpld1Y6MjpTU0kgUHlEZW50aXR5IFR1dG9yaWFsIENobG9lYmFiYTowLjAuMSJ9XX19LCAibm9uY2UiOiAiMzA5OTQxNDA1NzI2OTM2ODYwNjg5MjMyIn0='}}]}, 'presentation_exchange_id': '05106524-f389-4cf1-aaae-0f138df6016b', 'verified': 'true', 'initiator': 'self', 'trace': False, 'created_at': '2022-12-30 13:10:03.059121Z', 'presentation': {'proof': {'proofs': [{'primary_proof': {'eq_proof': {'revealed_attrs': {'fullname': '4226078261800701237545936156344637096418728051095411922952277676878750486873', 'skill': '38813097173523343342121686954087857232940954656654688676222283577873518606251'}, 'a_prime': '48808866737854083526529570836842736242424258824973917415172283262910078972832954190276730332804252273632450120134997645746270554681454267591744777471259625927160619117432612388113668635311570934671636431995984958465982631508672414460978242135634462217384376892922083387834576466409604125699896262674756184347150616936691293064923900258366519041988144771774140652242003430144555740362205098893742240986080936280948814650009644281408000807990631792969233653103955221912023941073893965816157957602687055575942763026977111838353134661507878943219022655257638587354440003081470593880441115538662631931814051053767188528999', 'e': '156562025549696691250735056454486564738904480133407262289861935037089779635100559766581529211474483866519253144601756167920634510845358806', 'v': '1142381753842259179036811568411446162957209484246080308787227739123870731155979917594111500554776624547748026656726791459639837031213452776520767909716695521634317395528565989983710703522039663388987173648302985327880535839745039996509985813045385326973363184329434256970507507916727572660039320176132689073967263262350603098891812894178841057943851486293080114893397094400327712377694304378781459951243442708355125527954832338762485860484137036166813708356956070233377948797759083009781225279029996456727311526383342797217380980220999224391838161185596892278112736822987595800739144710978262173511770225348433598920355009890297171281224896042288584712419057671877349321199224765333545526496442420771577849313991910322593772273047203095273442575282768372665271902689864013809407490863694072069367421859017310553707519313102410283755716410822919571072082872123799236012110302665308450527571469639652201278055102001674911060', 'm': {'master_secret': '13561292538223469712852170028290562224058714041301586746381233258109613622849151334203335103605125620526615887160276285335090189506669726775354377815912938899938045362972784055838', 'age': '4822572718233452016782216074561566646442495792787255846795288039362851712901956134945670025316840254057597822245435723038237502433676841634030657512428078743124508923958761856268'}, 'm2': '7557053411377306907356559614225724480616818529178520170617325907369212416869338707695428441467848742771500557521990514391449403177635350040582670337413841690743432109885724786459'}, 'ge_proofs': [{'u': {'3': '15855747523347489612143393769875145061400325932960338949194053002337837936964843957612529511970087159687738245540815983219085896921219064870655991187094033251408885626744932612700', '2': '15908302142831013996640900077023754252522789131622416626849566215743249561782857869899799371688827914310937343267286486732629364125966404368184975166618808060717939739066097364880', '1': '8049860051375702798807511739093882252110610939641792001728028156207929900417888691697895336341818226553833359132835185887195437774957428836637161171462773380136247661586467086485', '0': '10713929805365473922972483808878529185955282381878480080016437593446058513409765158848606882904992094572683458587342680441741142575059771039659951320362701914310756253442294571217'}, 'r': {'0': '2724138033790974645598704770700199657352727339431026585760335201927844066622382342086958603893353310502806773659296876641113659298253014008429971178192163084884043923756312206355104200797524810241838032181983103205516327646373323223210512707971733139496579734506604037420907083895578397183190426668850105384972564349122253350357836429752451565894405407232818396300727669042995125385213570961139586486484621470173456043191181943155705566962571632834916303149330535178322386678483404545212052938213892324147288799266292103909145496859293384012928721739278490780449727425451951999276861427977730736308841729291023208032882571005493033757707296989982150111105899242053840178393124153570809418679493440280268255123823239978', '1': '1018098245190038772648541226657610844873013389608661795317264287878838400969271860592387602400122241808670626332277065969966774714974850744848520460569388804473020872552040333804858122865693911188498233889314648373007365627744014593004336071034791824400776702521855699476843386977713615910047863499417014733638361479490495813517863027012906565053633650707321072890561586412660331575279567454310367002080131416123683113242390073850139105106317039266125751804041051243180375952008549078676557777512675473920234926977723043954381417582204275670820344117517388058207788418375115225896923085357182005696059928150958621277276498832069432020922815269681234941064076619329254430078797482688808494612094621332938590298304775922', '2': '2586956489857221152536838072062598865060040764192316202545087749528120505937982296478509351939928500857594060890960326777297343068086353876064254888676707094562809722608410729704625967195869106499008932699857708944275238706660383238797233846350812051975630247767916008082177038821687868136360173613655961773667054349101074979933098332850127865835699772999393006019159052329613778943433599059733008832300332301164247778453933601988188415005397025247736926598250943044567022990369330661304253723181835196207864913485164370491299952405054673974685328473460668824047268682493403992109033964970588460404410599791124881658240134131503777032695419591791857417480628231396771932133650945657774274742169876730589690320972468896', '3': '1721784579677097734326450000823604914794879198860133244761074240861140438942096220435675109111169501562213759491252696374606870782021778865241484734447139947127277212275902882402142876004282708869462522864014421705945693081338144091597483269088623045620419374195492243085080767724139575609959168582148427707604059204625368314637879717865244139949632170409477676784265789690131391204585748736712467056378349400218484519728807294303527261064373440815418181037748145861034691525530435251770596255103326236474796347664542729120000665507925591062060385733595166265849756252297526483508509258371224296574689236889250851119070829458429799501728830163496587628434025631022572182692359070123915598137697949253849490086733934888', 'DELTA': '863651689161319006199732095904712208601205081692661719180123731843304549775474800860273456682905965188931470069213767170278741870771828839435092553399827277289126079737255393430693146564008177511279536349115862796378200983474149649400335537643255919617555607822938622617076498858313998626043399981184005502795126968932339760284852297737182989674242337457344015568702911153847115608482509047605572835724560990205943031301814755160224962687602525146481757998971320956131204392750350055798262631978886413716427729557719033837858975166614184416089589738695619625356109783058887230475086827899789755640162057357417544371321143448078889924088666250495743683659349070461299466359376899410769323996691526530986033504160538209'}, 'mj': '4822572718233452016782216074561566646442495792787255846795288039362851712901956134945670025316840254057597822245435723038237502433676841634030657512428078743124508923958761856268', 'alpha': '65122953424434874231424486398065698550733679608120723855726717664622263323888314285886589390929141717690562915101337352017475232268863224085887767574009491209235737066539186466916605053071806391633668224045591877088255824682511334555103482631506780269935946504336788313687077582579356736288062287315256861720543032053173132005379028088425666576946646037792164329236837768715108172559995643221804271766593658494135563120548677441222114143112994877491459588357134008996333796413886518379630037925441634322928405524402983601713897894674376577227193522177649403513263229210793237429600452267339252704975724525049214270975965089034546129009122860997968864242456262923146762088260482697609069993834167602254441116247966809173853093825831559160410591839207238754594638379175254021769147591114759868189094472529990946086517868348914260040089422570', 't': {'0': '79130854592694238796519799033855260963252953192577190705223972254217851077149544364456658389013746724993370455514327030997828890515972131805823392193806769710688485012819365299313243686505312979513594473186161915627757053025350244999735909061646587830631721636183710842195536937404461886824895569303675155697691342610856156205042729630980812617002320155963977498288170551406831184287235747100787213062385932395996961284278808724811798193006349729314615475121392016316209801669575708505635895396493014370075336831834780554744336741559077898292742764474305689199200942087801596637589649524310773934233352222572107990539', '1': '81706770638177651616655847065191348891455124664764341216325592304003871845021169280234562230273787129470922619730291267042383536675278915260200944104161765232434530949389123848954939767179421703613496515320526931513223507378691696563528293034634053002555028558954822679718124661875487950343692358139086382213554936625442223859675440246123467297213121419068954129720362881229550159521292807140570501671555609673739554708749755968998837432338550572514818775007757791752183068548367819608565332329500461219525660622747783675182365276526472578313989133219989388839938400500394690390841781272234833564924525889492942548607', 'DELTA': '33439347392855265114869648110124652274092705366656959588597646653903024892568597780862946676371470102041639519886408217274588229692751301018500131898210804137186053881775404172321962067579047835907782342283866788687291279125121074359509653548928613381177826479304008719887314404617104630510446014778318339816957370648622906668674624424372659784143682076462064508217211510165982085460733637756233411060299783600030225566200487095719978545129795344978085019918374840802024951226987493447781651256060357034968296477272380687969918889948662546236040047772214483239336630503533704477872521060227543440120066480686770487771', '2': '37458504230879674267724559865995759831473200401856209809208120466208670851914473237955827150177608029978280457225126701314800854564614856217100272615596730304947754384197938875631324023303047817975498872483188265675653946990180639723982941905176935588808707201309318037348164100106679512284889313510566691332549831297205227675430176053271885153926096777015609203129181219184894390849874683351225861827865137172769602466871332250846046980893487089004947085614289766754153647939132405536557956564119470783043372233767089754703769764707428364662755738722521686859809346508006681796886554212015357829780546022576698149660', '3': '84936561700536666225609947272426779969084087915079479051935775176322593006590410203510932427390855214379773577920790923329139078210212356395023727105098154198792070690691514815850505371828280391427223956850854269172517717271353247583625368835041851613543708988932898585846264550960560507919905923627255425499303423331931147856821306183691746982377890665219408542297161856068760717469210756939555242815037240232859245194606422038026730723521027359243053859503219384062558835316226207507564058281525083994631501062214193451237990564349585477234884561201696063670755187482158467984318349033510148595028386441032878637627'}, 'predicate': {'attr_name': 'age', 'p_type': 'GE', 'value': 21}}]}, 'non_revoc_proof': None}], 'aggregated_proof': {'c_hash': '81731246830453301680532789296859787874027379391484624763455908170203584880343', 'c_list': [[1, 130, 164, 4, 252, 194, 119, 126, 200, 121, 83, 69, 14, 93, 194, 3, 228, 85, 7, 70, 13, 186, 20, 164, 213, 161, 137, 121, 212, 20, 208, 248, 108, 134, 47, 63, 30, 124, 110, 147, 215, 49, 145, 64, 106, 72, 252, 227, 233, 195, 91, 179, 54, 72, 162, 150, 95, 150, 39, 91, 117, 115, 156, 63, 3, 86, 128, 119, 236, 250, 174, 118, 174, 209, 251, 37, 235, 194, 145, 127, 159, 224, 75, 46, 77, 177, 213, 89, 171, 174, 71, 128, 61, 61, 233, 214, 147, 119, 233, 211, 105, 131, 111, 131, 41, 42, 152, 218, 68, 145, 22, 147, 141, 189, 138, 116, 144, 188, 105, 84, 64, 35, 16, 57, 141, 206, 111, 105, 62, 112, 123, 12, 72, 219, 21, 65, 19, 157, 65, 45, 226, 241, 238, 51, 129, 115, 115, 188, 52, 93, 19, 93, 189, 57, 53, 33, 14, 229, 13, 125, 205, 95, 190, 70, 201, 17, 126, 40, 51, 113, 36, 53, 146, 119, 208, 171, 6, 231, 88, 80, 50, 76, 168, 66, 62, 107, 70, 87, 116, 142, 198, 94, 97, 223, 108, 225, 225, 124, 81, 238, 124, 28, 37, 156, 89, 48, 19, 129, 140, 129, 78, 160, 97, 122, 122, 181, 92, 202, 26, 114, 182, 147, 147, 109, 120, 236, 168, 79, 167, 161, 99, 223, 189, 179, 38, 63, 128, 249, 138, 144, 55, 96, 199, 64, 160, 195, 72, 214, 58, 204, 94, 36, 136, 160, 143, 191, 103], [2, 114, 214, 77, 4, 0, 209, 129, 14, 114, 157, 5, 192, 52, 73, 143, 146, 246, 88, 186, 128, 219, 227, 28, 5, 171, 217, 123, 38, 81, 158, 102, 112, 62, 97, 234, 124, 16, 104, 208, 144, 172, 175, 170, 77, 52, 93, 140, 122, 171, 188, 85, 74, 138, 196, 132, 10, 34, 176, 100, 75, 144, 150, 21, 146, 38, 237, 121, 123, 56, 167, 97, 235, 244, 184, 142, 2, 152, 244, 98, 26, 65, 225, 124, 34, 167, 11, 40, 207, 178, 38, 118, 196, 173, 57, 22, 208, 160, 200, 219, 239, 236, 71, 110, 161, 195, 123, 63, 109, 180, 119, 248, 151, 212, 4, 121, 193, 208, 2, 15, 41, 145, 192, 198, 109, 131, 126, 54, 199, 160, 26, 18, 103, 163, 199, 110, 21, 211, 154, 1, 146, 122, 14, 168, 158, 28, 210, 84, 142, 245, 82, 96, 177, 127, 29, 218, 104, 15, 189, 69, 227, 39, 205, 37, 156, 94, 64, 108, 123, 157, 96, 216, 187, 225, 162, 59, 61, 113, 234, 12, 166, 202, 80, 173, 58, 202, 51, 64, 77, 123, 166, 125, 183, 252, 101, 144, 137, 164, 15, 55, 122, 70, 140, 190, 119, 177, 80, 179, 184, 130, 192, 12, 219, 142, 157, 170, 94, 130, 11, 71, 155, 241, 231, 80, 53, 210, 209, 247, 208, 197, 213, 15, 41, 48, 178, 154, 218, 168, 22, 183, 158, 172, 238, 101, 190, 22, 28, 45, 96, 225, 54, 33, 106, 215, 35, 6, 11], [2, 135, 62, 7, 66, 181, 160, 94, 19, 255, 226, 242, 31, 128, 123, 27, 92, 55, 143, 50, 217, 84, 8, 55, 198, 239, 235, 27, 67, 249, 232, 69, 130, 119, 221, 182, 5, 132, 80, 137, 156, 249, 39, 205, 16, 165, 191, 17, 58, 157, 119, 153, 15, 69, 132, 71, 173, 97, 163, 49, 164, 81, 152, 132, 108, 63, 27, 1, 242, 227, 209, 47, 35, 226, 96, 160, 171, 4, 39, 44, 163, 144, 109, 190, 246, 141, 10, 40, 125, 55, 115, 100, 74, 20, 217, 150, 173, 125, 117, 141, 249, 208, 31, 63, 144, 21, 201, 53, 235, 15, 224, 84, 219, 134, 135, 75, 139, 19, 119, 47, 98, 111, 8, 53, 115, 220, 204, 63, 54, 40, 210, 255, 83, 96, 41, 5, 127, 240, 184, 125, 134, 55, 92, 179, 177, 80, 127, 3, 210, 129, 43, 223, 245, 227, 105, 184, 228, 218, 148, 101, 46, 191, 42, 237, 187, 12, 51, 221, 143, 113, 30, 214, 205, 151, 84, 211, 224, 94, 33, 187, 224, 20, 117, 221, 45, 249, 93, 178, 214, 22, 148, 124, 87, 14, 169, 175, 110, 9, 91, 92, 66, 177, 255, 247, 253, 119, 150, 10, 9, 50, 252, 150, 126, 14, 135, 17, 202, 122, 128, 109, 39, 113, 49, 159, 114, 241, 21, 124, 8, 77, 95, 227, 53, 39, 130, 248, 242, 131, 125, 130, 251, 114, 92, 218, 101, 142, 144, 154, 41, 55, 166, 71, 238, 184, 99, 110, 127], [1, 40, 186, 127, 174, 9, 177, 237, 211, 203, 190, 51, 216, 203, 78, 4, 191, 78, 130, 168, 183, 101, 79, 21, 99, 90, 183, 73, 140, 191, 91, 42, 155, 167, 14, 248, 137, 238, 189, 28, 31, 228, 115, 125, 252, 171, 121, 178, 135, 98, 81, 242, 60, 142, 127, 212, 3, 84, 247, 156, 134, 26, 72, 248, 151, 93, 25, 208, 134, 21, 176, 167, 72, 204, 148, 31, 206, 138, 129, 170, 242, 57, 136, 189, 127, 147, 254, 30, 175, 255, 121, 146, 52, 227, 131, 7, 33, 196, 121, 108, 178, 33, 15, 210, 136, 216, 21, 82, 4, 13, 200, 58, 78, 15, 8, 144, 137, 64, 230, 138, 34, 95, 157, 44, 62, 236, 166, 144, 40, 181, 46, 74, 190, 159, 140, 34, 139, 78, 251, 186, 93, 146, 13, 245, 248, 62, 104, 69, 235, 12, 221, 78, 7, 117, 114, 210, 154, 72, 44, 42, 183, 226, 137, 82, 113, 36, 255, 91, 183, 229, 87, 61, 19, 187, 248, 216, 219, 245, 206, 239, 149, 79, 254, 149, 84, 70, 10, 125, 205, 214, 115, 50, 197, 131, 173, 240, 222, 40, 71, 219, 69, 106, 226, 207, 43, 66, 212, 149, 154, 59, 54, 206, 229, 106, 135, 98, 2, 189, 171, 131, 177, 141, 116, 11, 151, 89, 115, 198, 105, 226, 222, 210, 47, 13, 108, 47, 127, 119, 252, 11, 64, 60, 232, 173, 205, 69, 32, 42, 35, 17, 68, 81, 188, 9, 63, 203, 28], [2, 160, 211, 193, 135, 156, 161, 139, 167, 171, 154, 165, 58, 122, 58, 62, 66, 185, 52, 249, 64, 248, 109, 105, 55, 32, 71, 80, 251, 168, 205, 110, 81, 45, 112, 72, 8, 97, 49, 138, 143, 168, 39, 244, 71, 205, 234, 114, 158, 203, 53, 14, 36, 56, 172, 240, 195, 52, 97, 25, 200, 171, 90, 211, 73, 75, 100, 179, 216, 217, 216, 4, 69, 42, 21, 86, 144, 122, 144, 124, 194, 91, 53, 246, 110, 113, 166, 223, 32, 26, 209, 68, 36, 168, 232, 1, 88, 125, 20, 125, 156, 109, 16, 240, 91, 78, 145, 83, 76, 79, 220, 86, 224, 179, 249, 144, 163, 149, 2, 143, 179, 121, 224, 142, 179, 110, 210, 203, 65, 78, 160, 76, 176, 92, 138, 247, 58, 80, 238, 152, 73, 68, 246, 69, 40, 200, 53, 146, 202, 166, 126, 35, 225, 72, 211, 134, 116, 185, 109, 141, 152, 134, 65, 83, 39, 231, 183, 44, 247, 221, 76, 228, 73, 6, 76, 243, 109, 145, 10, 254, 177, 84, 97, 33, 37, 156, 109, 197, 236, 100, 103, 175, 166, 215, 218, 233, 35, 237, 97, 185, 50, 98, 61, 84, 224, 252, 235, 237, 199, 199, 3, 176, 167, 60, 229, 82, 161, 200, 243, 121, 8, 237, 80, 194, 250, 29, 31, 114, 4, 110, 161, 158, 150, 167, 228, 170, 92, 109, 78, 125, 41, 163, 186, 225, 223, 3, 2, 249, 19, 42, 49, 65, 8, 172, 45, 194, 59], [1, 8, 228, 2, 5, 45, 204, 97, 87, 85, 242, 199, 51, 59, 158, 54, 110, 46, 7, 131, 73, 168, 214, 117, 215, 11, 43, 197, 162, 245, 246, 55, 220, 61, 214, 134, 156, 85, 73, 223, 90, 182, 70, 164, 195, 114, 121, 13, 218, 178, 207, 17, 186, 151, 43, 154, 116, 201, 26, 16, 184, 226, 45, 26, 161, 61, 50, 101, 20, 0, 252, 248, 180, 0, 137, 47, 80, 52, 13, 146, 26, 158, 10, 130, 185, 210, 83, 66, 88, 120, 246, 211, 173, 45, 121, 170, 189, 163, 232, 72, 16, 196, 231, 93, 116, 100, 243, 101, 122, 211, 145, 33, 103, 194, 193, 96, 177, 248, 22, 209, 126, 49, 254, 147, 173, 19, 222, 218, 240, 62, 132, 17, 167, 221, 121, 137, 107, 234, 90, 141, 193, 30, 157, 111, 138, 160, 223, 241, 171, 253, 202, 218, 140, 124, 253, 208, 250, 1, 122, 62, 38, 137, 184, 186, 88, 251, 127, 140, 64, 167, 129, 148, 196, 240, 93, 120, 77, 74, 5, 198, 233, 176, 159, 44, 181, 155, 199, 225, 94, 42, 48, 129, 105, 121, 79, 170, 154, 154, 213, 28, 70, 199, 56, 195, 24, 33, 243, 91, 253, 218, 62, 114, 241, 0, 165, 147, 95, 216, 74, 35, 19, 125, 0, 16, 226, 89, 66, 167, 47, 100, 6, 186, 197, 93, 217, 209, 232, 23, 4, 77, 65, 168, 213, 68, 178, 129, 221, 7, 132, 22, 174, 7, 109, 104, 65, 1, 219]]}}, 'requested_proof': {'revealed_attrs': {'0_skill_uuid': {'sub_proof_index': 0, 'raw': 'PyDentity SSI Ninja', 'encoded': '38813097173523343342121686954087857232940954656654688676222283577873518606251'}, '0_fullname_uuid': {'sub_proof_index': 0, 'raw': 'Chloe Baba', 'encoded': '4226078261800701237545936156344637096418728051095411922952277676878750486873'}}, 'self_attested_attrs': {'0_country_uuid': 'Taiwan'}, 'unrevealed_attrs': {}, 'predicates': {'0_age_GE_uuid': {'sub_proof_index': 0}}}, 'identifiers': [{'schema_id': '8o3GCSueozeXxMNR1LzewV:2:SSI PyDentity Tutorial Chloebaba:0.0.1', 'cred_def_id': '8o3GCSueozeXxMNR1LzewV:3:CL:76570:default', 'rev_reg_id': None, 'timestamp': None}]}, 'state': 'verified', 'auto_present': False, 'thread_id': '7e3daa18-1231-476f-94a5-2b24d52fa0ed', 'role': 'verifier', 'updated_at': '2022-12-30 13:11:20.783804Z', 'connection_id': '336829c7-f19b-4365-8ea9-ace2ccb5ee0c', 'presentation_request': {'name': 'Proof of Completion of PyDentity SSI Tutorial', 'version': '1.0', 'requested_attributes': {'0_fullname_uuid': {'name': 'fullname', 'restrictions': [{'schema_id': '8o3GCSueozeXxMNR1LzewV:2:SSI PyDentity Tutorial Chloebaba:0.0.1'}]}, '0_skill_uuid': {'name': 'skill', 'restrictions': [{'schema_id': '8o3GCSueozeXxMNR1LzewV:2:SSI PyDentity Tutorial Chloebaba:0.0.1'}]}, '0_country_uuid': {'name': 'country'}}, 'requested_predicates': {'0_age_GE_uuid': {'name': 'age', 'p_type': '>=', 'p_value': 21, 'restrictions': [{'schema_id': '8o3GCSueozeXxMNR1LzewV:2:SSI PyDentity Tutorial Chloebaba:0.0.1'}]}}, 'nonce': '309941405726936860689232'}}\n",
      "{'presentation_request_dict': {'@type': 'did:sov:BzCbsNYhMrjHiqZDTUASHg;spec/present-proof/1.0/request-presentation', '@id': '7e3daa18-1231-476f-94a5-2b24d52fa0ed', 'request_presentations~attach': [{'@id': 'libindy-request-presentation-0', 'mime-type': 'application/json', 'data': {'base64': 'eyJuYW1lIjogIlByb29mIG9mIENvbXBsZXRpb24gb2YgUHlEZW50aXR5IFNTSSBUdXRvcmlhbCIsICJ2ZXJzaW9uIjogIjEuMCIsICJyZXF1ZXN0ZWRfYXR0cmlidXRlcyI6IHsiMF9mdWxsbmFtZV91dWlkIjogeyJuYW1lIjogImZ1bGxuYW1lIiwgInJlc3RyaWN0aW9ucyI6IFt7InNjaGVtYV9pZCI6ICI4bzNHQ1N1ZW96ZVh4TU5SMUx6ZXdWOjI6U1NJIFB5RGVudGl0eSBUdXRvcmlhbCBDaGxvZWJhYmE6MC4wLjEifV19LCAiMF9za2lsbF91dWlkIjogeyJuYW1lIjogInNraWxsIiwgInJlc3RyaWN0aW9ucyI6IFt7InNjaGVtYV9pZCI6ICI4bzNHQ1N1ZW96ZVh4TU5SMUx6ZXdWOjI6U1NJIFB5RGVudGl0eSBUdXRvcmlhbCBDaGxvZWJhYmE6MC4wLjEifV19LCAiMF9jb3VudHJ5X3V1aWQiOiB7Im5hbWUiOiAiY291bnRyeSJ9fSwgInJlcXVlc3RlZF9wcmVkaWNhdGVzIjogeyIwX2FnZV9HRV91dWlkIjogeyJuYW1lIjogImFnZSIsICJwX3R5cGUiOiAiPj0iLCAicF92YWx1ZSI6IDIxLCAicmVzdHJpY3Rpb25zIjogW3sic2NoZW1hX2lkIjogIjhvM0dDU3Vlb3plWHhNTlIxTHpld1Y6MjpTU0kgUHlEZW50aXR5IFR1dG9yaWFsIENobG9lYmFiYTowLjAuMSJ9XX19LCAibm9uY2UiOiAiMzA5OTQxNDA1NzI2OTM2ODYwNjg5MjMyIn0='}}]}, 'presentation_exchange_id': '05106524-f389-4cf1-aaae-0f138df6016b', 'verified': 'true', 'initiator': 'self', 'trace': False, 'created_at': '2022-12-30 13:10:03.059121Z', 'presentation': {'proof': {'proofs': [{'primary_proof': {'eq_proof': {'revealed_attrs': {'fullname': '4226078261800701237545936156344637096418728051095411922952277676878750486873', 'skill': '38813097173523343342121686954087857232940954656654688676222283577873518606251'}, 'a_prime': '48808866737854083526529570836842736242424258824973917415172283262910078972832954190276730332804252273632450120134997645746270554681454267591744777471259625927160619117432612388113668635311570934671636431995984958465982631508672414460978242135634462217384376892922083387834576466409604125699896262674756184347150616936691293064923900258366519041988144771774140652242003430144555740362205098893742240986080936280948814650009644281408000807990631792969233653103955221912023941073893965816157957602687055575942763026977111838353134661507878943219022655257638587354440003081470593880441115538662631931814051053767188528999', 'e': '156562025549696691250735056454486564738904480133407262289861935037089779635100559766581529211474483866519253144601756167920634510845358806', 'v': '1142381753842259179036811568411446162957209484246080308787227739123870731155979917594111500554776624547748026656726791459639837031213452776520767909716695521634317395528565989983710703522039663388987173648302985327880535839745039996509985813045385326973363184329434256970507507916727572660039320176132689073967263262350603098891812894178841057943851486293080114893397094400327712377694304378781459951243442708355125527954832338762485860484137036166813708356956070233377948797759083009781225279029996456727311526383342797217380980220999224391838161185596892278112736822987595800739144710978262173511770225348433598920355009890297171281224896042288584712419057671877349321199224765333545526496442420771577849313991910322593772273047203095273442575282768372665271902689864013809407490863694072069367421859017310553707519313102410283755716410822919571072082872123799236012110302665308450527571469639652201278055102001674911060', 'm': {'master_secret': '13561292538223469712852170028290562224058714041301586746381233258109613622849151334203335103605125620526615887160276285335090189506669726775354377815912938899938045362972784055838', 'age': '4822572718233452016782216074561566646442495792787255846795288039362851712901956134945670025316840254057597822245435723038237502433676841634030657512428078743124508923958761856268'}, 'm2': '7557053411377306907356559614225724480616818529178520170617325907369212416869338707695428441467848742771500557521990514391449403177635350040582670337413841690743432109885724786459'}, 'ge_proofs': [{'u': {'3': '15855747523347489612143393769875145061400325932960338949194053002337837936964843957612529511970087159687738245540815983219085896921219064870655991187094033251408885626744932612700', '2': '15908302142831013996640900077023754252522789131622416626849566215743249561782857869899799371688827914310937343267286486732629364125966404368184975166618808060717939739066097364880', '1': '8049860051375702798807511739093882252110610939641792001728028156207929900417888691697895336341818226553833359132835185887195437774957428836637161171462773380136247661586467086485', '0': '10713929805365473922972483808878529185955282381878480080016437593446058513409765158848606882904992094572683458587342680441741142575059771039659951320362701914310756253442294571217'}, 'r': {'0': '2724138033790974645598704770700199657352727339431026585760335201927844066622382342086958603893353310502806773659296876641113659298253014008429971178192163084884043923756312206355104200797524810241838032181983103205516327646373323223210512707971733139496579734506604037420907083895578397183190426668850105384972564349122253350357836429752451565894405407232818396300727669042995125385213570961139586486484621470173456043191181943155705566962571632834916303149330535178322386678483404545212052938213892324147288799266292103909145496859293384012928721739278490780449727425451951999276861427977730736308841729291023208032882571005493033757707296989982150111105899242053840178393124153570809418679493440280268255123823239978', '1': '1018098245190038772648541226657610844873013389608661795317264287878838400969271860592387602400122241808670626332277065969966774714974850744848520460569388804473020872552040333804858122865693911188498233889314648373007365627744014593004336071034791824400776702521855699476843386977713615910047863499417014733638361479490495813517863027012906565053633650707321072890561586412660331575279567454310367002080131416123683113242390073850139105106317039266125751804041051243180375952008549078676557777512675473920234926977723043954381417582204275670820344117517388058207788418375115225896923085357182005696059928150958621277276498832069432020922815269681234941064076619329254430078797482688808494612094621332938590298304775922', '2': '2586956489857221152536838072062598865060040764192316202545087749528120505937982296478509351939928500857594060890960326777297343068086353876064254888676707094562809722608410729704625967195869106499008932699857708944275238706660383238797233846350812051975630247767916008082177038821687868136360173613655961773667054349101074979933098332850127865835699772999393006019159052329613778943433599059733008832300332301164247778453933601988188415005397025247736926598250943044567022990369330661304253723181835196207864913485164370491299952405054673974685328473460668824047268682493403992109033964970588460404410599791124881658240134131503777032695419591791857417480628231396771932133650945657774274742169876730589690320972468896', '3': '1721784579677097734326450000823604914794879198860133244761074240861140438942096220435675109111169501562213759491252696374606870782021778865241484734447139947127277212275902882402142876004282708869462522864014421705945693081338144091597483269088623045620419374195492243085080767724139575609959168582148427707604059204625368314637879717865244139949632170409477676784265789690131391204585748736712467056378349400218484519728807294303527261064373440815418181037748145861034691525530435251770596255103326236474796347664542729120000665507925591062060385733595166265849756252297526483508509258371224296574689236889250851119070829458429799501728830163496587628434025631022572182692359070123915598137697949253849490086733934888', 'DELTA': '863651689161319006199732095904712208601205081692661719180123731843304549775474800860273456682905965188931470069213767170278741870771828839435092553399827277289126079737255393430693146564008177511279536349115862796378200983474149649400335537643255919617555607822938622617076498858313998626043399981184005502795126968932339760284852297737182989674242337457344015568702911153847115608482509047605572835724560990205943031301814755160224962687602525146481757998971320956131204392750350055798262631978886413716427729557719033837858975166614184416089589738695619625356109783058887230475086827899789755640162057357417544371321143448078889924088666250495743683659349070461299466359376899410769323996691526530986033504160538209'}, 'mj': '4822572718233452016782216074561566646442495792787255846795288039362851712901956134945670025316840254057597822245435723038237502433676841634030657512428078743124508923958761856268', 'alpha': '65122953424434874231424486398065698550733679608120723855726717664622263323888314285886589390929141717690562915101337352017475232268863224085887767574009491209235737066539186466916605053071806391633668224045591877088255824682511334555103482631506780269935946504336788313687077582579356736288062287315256861720543032053173132005379028088425666576946646037792164329236837768715108172559995643221804271766593658494135563120548677441222114143112994877491459588357134008996333796413886518379630037925441634322928405524402983601713897894674376577227193522177649403513263229210793237429600452267339252704975724525049214270975965089034546129009122860997968864242456262923146762088260482697609069993834167602254441116247966809173853093825831559160410591839207238754594638379175254021769147591114759868189094472529990946086517868348914260040089422570', 't': {'0': '79130854592694238796519799033855260963252953192577190705223972254217851077149544364456658389013746724993370455514327030997828890515972131805823392193806769710688485012819365299313243686505312979513594473186161915627757053025350244999735909061646587830631721636183710842195536937404461886824895569303675155697691342610856156205042729630980812617002320155963977498288170551406831184287235747100787213062385932395996961284278808724811798193006349729314615475121392016316209801669575708505635895396493014370075336831834780554744336741559077898292742764474305689199200942087801596637589649524310773934233352222572107990539', '1': '81706770638177651616655847065191348891455124664764341216325592304003871845021169280234562230273787129470922619730291267042383536675278915260200944104161765232434530949389123848954939767179421703613496515320526931513223507378691696563528293034634053002555028558954822679718124661875487950343692358139086382213554936625442223859675440246123467297213121419068954129720362881229550159521292807140570501671555609673739554708749755968998837432338550572514818775007757791752183068548367819608565332329500461219525660622747783675182365276526472578313989133219989388839938400500394690390841781272234833564924525889492942548607', 'DELTA': '33439347392855265114869648110124652274092705366656959588597646653903024892568597780862946676371470102041639519886408217274588229692751301018500131898210804137186053881775404172321962067579047835907782342283866788687291279125121074359509653548928613381177826479304008719887314404617104630510446014778318339816957370648622906668674624424372659784143682076462064508217211510165982085460733637756233411060299783600030225566200487095719978545129795344978085019918374840802024951226987493447781651256060357034968296477272380687969918889948662546236040047772214483239336630503533704477872521060227543440120066480686770487771', '2': '37458504230879674267724559865995759831473200401856209809208120466208670851914473237955827150177608029978280457225126701314800854564614856217100272615596730304947754384197938875631324023303047817975498872483188265675653946990180639723982941905176935588808707201309318037348164100106679512284889313510566691332549831297205227675430176053271885153926096777015609203129181219184894390849874683351225861827865137172769602466871332250846046980893487089004947085614289766754153647939132405536557956564119470783043372233767089754703769764707428364662755738722521686859809346508006681796886554212015357829780546022576698149660', '3': '84936561700536666225609947272426779969084087915079479051935775176322593006590410203510932427390855214379773577920790923329139078210212356395023727105098154198792070690691514815850505371828280391427223956850854269172517717271353247583625368835041851613543708988932898585846264550960560507919905923627255425499303423331931147856821306183691746982377890665219408542297161856068760717469210756939555242815037240232859245194606422038026730723521027359243053859503219384062558835316226207507564058281525083994631501062214193451237990564349585477234884561201696063670755187482158467984318349033510148595028386441032878637627'}, 'predicate': {'attr_name': 'age', 'p_type': 'GE', 'value': 21}}]}, 'non_revoc_proof': None}], 'aggregated_proof': {'c_hash': '81731246830453301680532789296859787874027379391484624763455908170203584880343', 'c_list': [[1, 130, 164, 4, 252, 194, 119, 126, 200, 121, 83, 69, 14, 93, 194, 3, 228, 85, 7, 70, 13, 186, 20, 164, 213, 161, 137, 121, 212, 20, 208, 248, 108, 134, 47, 63, 30, 124, 110, 147, 215, 49, 145, 64, 106, 72, 252, 227, 233, 195, 91, 179, 54, 72, 162, 150, 95, 150, 39, 91, 117, 115, 156, 63, 3, 86, 128, 119, 236, 250, 174, 118, 174, 209, 251, 37, 235, 194, 145, 127, 159, 224, 75, 46, 77, 177, 213, 89, 171, 174, 71, 128, 61, 61, 233, 214, 147, 119, 233, 211, 105, 131, 111, 131, 41, 42, 152, 218, 68, 145, 22, 147, 141, 189, 138, 116, 144, 188, 105, 84, 64, 35, 16, 57, 141, 206, 111, 105, 62, 112, 123, 12, 72, 219, 21, 65, 19, 157, 65, 45, 226, 241, 238, 51, 129, 115, 115, 188, 52, 93, 19, 93, 189, 57, 53, 33, 14, 229, 13, 125, 205, 95, 190, 70, 201, 17, 126, 40, 51, 113, 36, 53, 146, 119, 208, 171, 6, 231, 88, 80, 50, 76, 168, 66, 62, 107, 70, 87, 116, 142, 198, 94, 97, 223, 108, 225, 225, 124, 81, 238, 124, 28, 37, 156, 89, 48, 19, 129, 140, 129, 78, 160, 97, 122, 122, 181, 92, 202, 26, 114, 182, 147, 147, 109, 120, 236, 168, 79, 167, 161, 99, 223, 189, 179, 38, 63, 128, 249, 138, 144, 55, 96, 199, 64, 160, 195, 72, 214, 58, 204, 94, 36, 136, 160, 143, 191, 103], [2, 114, 214, 77, 4, 0, 209, 129, 14, 114, 157, 5, 192, 52, 73, 143, 146, 246, 88, 186, 128, 219, 227, 28, 5, 171, 217, 123, 38, 81, 158, 102, 112, 62, 97, 234, 124, 16, 104, 208, 144, 172, 175, 170, 77, 52, 93, 140, 122, 171, 188, 85, 74, 138, 196, 132, 10, 34, 176, 100, 75, 144, 150, 21, 146, 38, 237, 121, 123, 56, 167, 97, 235, 244, 184, 142, 2, 152, 244, 98, 26, 65, 225, 124, 34, 167, 11, 40, 207, 178, 38, 118, 196, 173, 57, 22, 208, 160, 200, 219, 239, 236, 71, 110, 161, 195, 123, 63, 109, 180, 119, 248, 151, 212, 4, 121, 193, 208, 2, 15, 41, 145, 192, 198, 109, 131, 126, 54, 199, 160, 26, 18, 103, 163, 199, 110, 21, 211, 154, 1, 146, 122, 14, 168, 158, 28, 210, 84, 142, 245, 82, 96, 177, 127, 29, 218, 104, 15, 189, 69, 227, 39, 205, 37, 156, 94, 64, 108, 123, 157, 96, 216, 187, 225, 162, 59, 61, 113, 234, 12, 166, 202, 80, 173, 58, 202, 51, 64, 77, 123, 166, 125, 183, 252, 101, 144, 137, 164, 15, 55, 122, 70, 140, 190, 119, 177, 80, 179, 184, 130, 192, 12, 219, 142, 157, 170, 94, 130, 11, 71, 155, 241, 231, 80, 53, 210, 209, 247, 208, 197, 213, 15, 41, 48, 178, 154, 218, 168, 22, 183, 158, 172, 238, 101, 190, 22, 28, 45, 96, 225, 54, 33, 106, 215, 35, 6, 11], [2, 135, 62, 7, 66, 181, 160, 94, 19, 255, 226, 242, 31, 128, 123, 27, 92, 55, 143, 50, 217, 84, 8, 55, 198, 239, 235, 27, 67, 249, 232, 69, 130, 119, 221, 182, 5, 132, 80, 137, 156, 249, 39, 205, 16, 165, 191, 17, 58, 157, 119, 153, 15, 69, 132, 71, 173, 97, 163, 49, 164, 81, 152, 132, 108, 63, 27, 1, 242, 227, 209, 47, 35, 226, 96, 160, 171, 4, 39, 44, 163, 144, 109, 190, 246, 141, 10, 40, 125, 55, 115, 100, 74, 20, 217, 150, 173, 125, 117, 141, 249, 208, 31, 63, 144, 21, 201, 53, 235, 15, 224, 84, 219, 134, 135, 75, 139, 19, 119, 47, 98, 111, 8, 53, 115, 220, 204, 63, 54, 40, 210, 255, 83, 96, 41, 5, 127, 240, 184, 125, 134, 55, 92, 179, 177, 80, 127, 3, 210, 129, 43, 223, 245, 227, 105, 184, 228, 218, 148, 101, 46, 191, 42, 237, 187, 12, 51, 221, 143, 113, 30, 214, 205, 151, 84, 211, 224, 94, 33, 187, 224, 20, 117, 221, 45, 249, 93, 178, 214, 22, 148, 124, 87, 14, 169, 175, 110, 9, 91, 92, 66, 177, 255, 247, 253, 119, 150, 10, 9, 50, 252, 150, 126, 14, 135, 17, 202, 122, 128, 109, 39, 113, 49, 159, 114, 241, 21, 124, 8, 77, 95, 227, 53, 39, 130, 248, 242, 131, 125, 130, 251, 114, 92, 218, 101, 142, 144, 154, 41, 55, 166, 71, 238, 184, 99, 110, 127], [1, 40, 186, 127, 174, 9, 177, 237, 211, 203, 190, 51, 216, 203, 78, 4, 191, 78, 130, 168, 183, 101, 79, 21, 99, 90, 183, 73, 140, 191, 91, 42, 155, 167, 14, 248, 137, 238, 189, 28, 31, 228, 115, 125, 252, 171, 121, 178, 135, 98, 81, 242, 60, 142, 127, 212, 3, 84, 247, 156, 134, 26, 72, 248, 151, 93, 25, 208, 134, 21, 176, 167, 72, 204, 148, 31, 206, 138, 129, 170, 242, 57, 136, 189, 127, 147, 254, 30, 175, 255, 121, 146, 52, 227, 131, 7, 33, 196, 121, 108, 178, 33, 15, 210, 136, 216, 21, 82, 4, 13, 200, 58, 78, 15, 8, 144, 137, 64, 230, 138, 34, 95, 157, 44, 62, 236, 166, 144, 40, 181, 46, 74, 190, 159, 140, 34, 139, 78, 251, 186, 93, 146, 13, 245, 248, 62, 104, 69, 235, 12, 221, 78, 7, 117, 114, 210, 154, 72, 44, 42, 183, 226, 137, 82, 113, 36, 255, 91, 183, 229, 87, 61, 19, 187, 248, 216, 219, 245, 206, 239, 149, 79, 254, 149, 84, 70, 10, 125, 205, 214, 115, 50, 197, 131, 173, 240, 222, 40, 71, 219, 69, 106, 226, 207, 43, 66, 212, 149, 154, 59, 54, 206, 229, 106, 135, 98, 2, 189, 171, 131, 177, 141, 116, 11, 151, 89, 115, 198, 105, 226, 222, 210, 47, 13, 108, 47, 127, 119, 252, 11, 64, 60, 232, 173, 205, 69, 32, 42, 35, 17, 68, 81, 188, 9, 63, 203, 28], [2, 160, 211, 193, 135, 156, 161, 139, 167, 171, 154, 165, 58, 122, 58, 62, 66, 185, 52, 249, 64, 248, 109, 105, 55, 32, 71, 80, 251, 168, 205, 110, 81, 45, 112, 72, 8, 97, 49, 138, 143, 168, 39, 244, 71, 205, 234, 114, 158, 203, 53, 14, 36, 56, 172, 240, 195, 52, 97, 25, 200, 171, 90, 211, 73, 75, 100, 179, 216, 217, 216, 4, 69, 42, 21, 86, 144, 122, 144, 124, 194, 91, 53, 246, 110, 113, 166, 223, 32, 26, 209, 68, 36, 168, 232, 1, 88, 125, 20, 125, 156, 109, 16, 240, 91, 78, 145, 83, 76, 79, 220, 86, 224, 179, 249, 144, 163, 149, 2, 143, 179, 121, 224, 142, 179, 110, 210, 203, 65, 78, 160, 76, 176, 92, 138, 247, 58, 80, 238, 152, 73, 68, 246, 69, 40, 200, 53, 146, 202, 166, 126, 35, 225, 72, 211, 134, 116, 185, 109, 141, 152, 134, 65, 83, 39, 231, 183, 44, 247, 221, 76, 228, 73, 6, 76, 243, 109, 145, 10, 254, 177, 84, 97, 33, 37, 156, 109, 197, 236, 100, 103, 175, 166, 215, 218, 233, 35, 237, 97, 185, 50, 98, 61, 84, 224, 252, 235, 237, 199, 199, 3, 176, 167, 60, 229, 82, 161, 200, 243, 121, 8, 237, 80, 194, 250, 29, 31, 114, 4, 110, 161, 158, 150, 167, 228, 170, 92, 109, 78, 125, 41, 163, 186, 225, 223, 3, 2, 249, 19, 42, 49, 65, 8, 172, 45, 194, 59], [1, 8, 228, 2, 5, 45, 204, 97, 87, 85, 242, 199, 51, 59, 158, 54, 110, 46, 7, 131, 73, 168, 214, 117, 215, 11, 43, 197, 162, 245, 246, 55, 220, 61, 214, 134, 156, 85, 73, 223, 90, 182, 70, 164, 195, 114, 121, 13, 218, 178, 207, 17, 186, 151, 43, 154, 116, 201, 26, 16, 184, 226, 45, 26, 161, 61, 50, 101, 20, 0, 252, 248, 180, 0, 137, 47, 80, 52, 13, 146, 26, 158, 10, 130, 185, 210, 83, 66, 88, 120, 246, 211, 173, 45, 121, 170, 189, 163, 232, 72, 16, 196, 231, 93, 116, 100, 243, 101, 122, 211, 145, 33, 103, 194, 193, 96, 177, 248, 22, 209, 126, 49, 254, 147, 173, 19, 222, 218, 240, 62, 132, 17, 167, 221, 121, 137, 107, 234, 90, 141, 193, 30, 157, 111, 138, 160, 223, 241, 171, 253, 202, 218, 140, 124, 253, 208, 250, 1, 122, 62, 38, 137, 184, 186, 88, 251, 127, 140, 64, 167, 129, 148, 196, 240, 93, 120, 77, 74, 5, 198, 233, 176, 159, 44, 181, 155, 199, 225, 94, 42, 48, 129, 105, 121, 79, 170, 154, 154, 213, 28, 70, 199, 56, 195, 24, 33, 243, 91, 253, 218, 62, 114, 241, 0, 165, 147, 95, 216, 74, 35, 19, 125, 0, 16, 226, 89, 66, 167, 47, 100, 6, 186, 197, 93, 217, 209, 232, 23, 4, 77, 65, 168, 213, 68, 178, 129, 221, 7, 132, 22, 174, 7, 109, 104, 65, 1, 219]]}}, 'requested_proof': {'revealed_attrs': {'0_skill_uuid': {'sub_proof_index': 0, 'raw': 'PyDentity SSI Ninja', 'encoded': '38813097173523343342121686954087857232940954656654688676222283577873518606251'}, '0_fullname_uuid': {'sub_proof_index': 0, 'raw': 'Chloe Baba', 'encoded': '4226078261800701237545936156344637096418728051095411922952277676878750486873'}}, 'self_attested_attrs': {'0_country_uuid': 'Taiwan'}, 'unrevealed_attrs': {}, 'predicates': {'0_age_GE_uuid': {'sub_proof_index': 0}}}, 'identifiers': [{'schema_id': '8o3GCSueozeXxMNR1LzewV:2:SSI PyDentity Tutorial Chloebaba:0.0.1', 'cred_def_id': '8o3GCSueozeXxMNR1LzewV:3:CL:76570:default', 'rev_reg_id': None, 'timestamp': None}]}, 'state': 'verified', 'auto_present': False, 'thread_id': '7e3daa18-1231-476f-94a5-2b24d52fa0ed', 'role': 'verifier', 'updated_at': '2022-12-30 13:11:20.783804Z', 'connection_id': '336829c7-f19b-4365-8ea9-ace2ccb5ee0c', 'presentation_request': {'name': 'Proof of Completion of PyDentity SSI Tutorial', 'version': '1.0', 'requested_attributes': {'0_fullname_uuid': {'name': 'fullname', 'restrictions': [{'schema_id': '8o3GCSueozeXxMNR1LzewV:2:SSI PyDentity Tutorial Chloebaba:0.0.1'}]}, '0_skill_uuid': {'name': 'skill', 'restrictions': [{'schema_id': '8o3GCSueozeXxMNR1LzewV:2:SSI PyDentity Tutorial Chloebaba:0.0.1'}]}, '0_country_uuid': {'name': 'country'}}, 'requested_predicates': {'0_age_GE_uuid': {'name': 'age', 'p_type': '>=', 'p_value': 21, 'restrictions': [{'schema_id': '8o3GCSueozeXxMNR1LzewV:2:SSI PyDentity Tutorial Chloebaba:0.0.1'}]}}, 'nonce': '309941405726936860689232'}}\n"
     ]
    }
   ],
   "source": [
    "verify = await agent_controller.proofs.verify_presentation(presentation_exchange_id)\n",
    "print(verify)"
   ]
  },
  {
   "cell_type": "markdown",
   "metadata": {},
   "source": [
    "### Verifying the State\n",
    "\n",
    "Once verified through the agent framework api, the state should be 'verified', otherwise the presentation is invalid."
   ]
  },
  {
   "cell_type": "code",
   "execution_count": 13,
   "metadata": {},
   "outputs": [
    {
     "name": "stdout",
     "output_type": "stream",
     "text": [
      "verified\n",
      "True\n"
     ]
    }
   ],
   "source": [
    "print(verify['state'])\n",
    "print(verify['state'] == 'verified')"
   ]
  },
  {
   "cell_type": "markdown",
   "metadata": {},
   "source": [
    "### Accessing the Revealed Attributes"
   ]
  },
  {
   "cell_type": "code",
   "execution_count": 14,
   "metadata": {},
   "outputs": [
    {
     "name": "stdout",
     "output_type": "stream",
     "text": [
      "PyDentity SSI Ninja\n",
      "Chloe Baba\n"
     ]
    }
   ],
   "source": [
    "# print(verify['presentation'])\n",
    "# print(verify['presentation']['requested_proof'])\n",
    "\n",
    "for (name, val) in verify['presentation']['requested_proof']['revealed_attrs'].items():\n",
    "    ## This is the actual data that you want. It's a little hidden\n",
    "    print(val['raw'])\n"
   ]
  },
  {
   "cell_type": "markdown",
   "metadata": {},
   "source": [
    "### Accessing self-attested attributes"
   ]
  },
  {
   "cell_type": "code",
   "execution_count": 15,
   "metadata": {},
   "outputs": [
    {
     "name": "stdout",
     "output_type": "stream",
     "text": [
      "0_country_uuid\n",
      "Taiwan\n"
     ]
    }
   ],
   "source": [
    "for (name, val) in verify['presentation']['requested_proof']['self_attested_attrs'].items():\n",
    "    print(name)\n",
    "    ## Slightly different for self attested attrs\n",
    "    print(val)"
   ]
  },
  {
   "cell_type": "markdown",
   "metadata": {},
   "source": [
    "## End of Tutorial\n",
    "\n",
    "Be sure to terminate the controller so you can run another tutorial."
   ]
  },
  {
   "cell_type": "code",
   "execution_count": 16,
   "metadata": {
    "pycharm": {
     "name": "#%%\n"
    }
   },
   "outputs": [
    {
     "name": "stdout",
     "output_type": "stream",
     "text": [
      "None\n"
     ]
    }
   ],
   "source": [
    "response = await agent_controller.terminate()\n",
    "print(response)"
   ]
  },
  {
   "cell_type": "markdown",
   "metadata": {},
   "source": [
    "## Well done on completing the PyDentity SSI training series!"
   ]
  },
  {
   "cell_type": "code",
   "execution_count": null,
   "metadata": {},
   "outputs": [],
   "source": []
  }
 ],
 "metadata": {
  "kernelspec": {
   "display_name": "Python 3 (ipykernel)",
   "language": "python",
   "name": "python3"
  },
  "language_info": {
   "codemirror_mode": {
    "name": "ipython",
    "version": 3
   },
   "file_extension": ".py",
   "mimetype": "text/x-python",
   "name": "python",
   "nbconvert_exporter": "python",
   "pygments_lexer": "ipython3",
   "version": "3.10.8"
  }
 },
 "nbformat": 4,
 "nbformat_minor": 4
}
